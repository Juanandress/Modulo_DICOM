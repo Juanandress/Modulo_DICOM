{
 "cells": [
  {
   "cell_type": "code",
   "execution_count": 1,
   "id": "e27dfaef-623c-4b17-a1d9-299341bf940d",
   "metadata": {},
   "outputs": [],
   "source": [
    "import torch\n",
    "import torch.nn as nn\n",
    "import torch.nn.functional as F\n",
    "from fedbiomed.common.training_plans import TorchTrainingPlan\n",
    "from fedbiomed.common.data import DataManager\n",
    "import pandas as pd\n",
    "from torch.utils.data import Dataset, DataLoader, TensorDataset\n",
    "from sklearn.model_selection import train_test_split\n",
    "from sklearn.preprocessing import StandardScaler\n",
    "import numpy as np\n",
    "from sklearn.metrics import precision_score, recall_score, f1_score, roc_auc_score\n",
    "import logging\n",
    "logger = logging.getLogger(__name__)\n",
    "# Dataset personalizado que carga CSV desde la ruta local del nodo\n",
    "class BreastCancerDataset(Dataset):\n",
    "    def __init__(self, csv_path):\n",
    "        df = pd.read_csv(csv_path)\n",
    "        # Asumiendo que las columnas de características están en df.columns[:-1]\n",
    "        # y la última columna es la etiqueta\n",
    "        X = df.iloc[:, :-1].values.astype(np.float32)\n",
    "        y = df.iloc[:, -1].values.astype(np.int64)\n",
    "\n",
    "        # Normalizar características\n",
    "        scaler = StandardScaler()\n",
    "        X = scaler.fit_transform(X)\n",
    "\n",
    "        self.X = torch.tensor(X)\n",
    "        self.y = torch.tensor(y)\n",
    "\n",
    "    def __len__(self):\n",
    "        return len(self.y)\n",
    "\n",
    "    def __getitem__(self, idx):\n",
    "        return self.X[idx], self.y[idx]\n",
    "\n",
    "from fedbiomed.common.training_plans import TorchTrainingPlan\n",
    "import torch\n",
    "import torch.nn as nn\n",
    "import torch.nn.functional as F\n",
    "from sklearn.preprocessing import StandardScaler\n",
    "from sklearn.metrics import precision_score, recall_score, f1_score, roc_auc_score\n",
    "import pandas as pd\n",
    "import numpy as np\n",
    "\n",
    "class MyTrainingPlan(TorchTrainingPlan):\n",
    "\n",
    "    class BreastCancerDataset(torch.utils.data.Dataset):\n",
    "        def __init__(self, csv_path):\n",
    "            df = pd.read_csv(csv_path)\n",
    "            X = df.iloc[:, :-1].values.astype(np.float32)\n",
    "            y = df.iloc[:, -1].values.astype(np.int64)\n",
    "            scaler = StandardScaler()\n",
    "            X = scaler.fit_transform(X)\n",
    "            self.X = torch.tensor(X)\n",
    "            self.y = torch.tensor(y)\n",
    "\n",
    "        def __len__(self):\n",
    "            return len(self.y)\n",
    "\n",
    "        def __getitem__(self, idx):\n",
    "            return self.X[idx], self.y[idx]\n",
    "\n",
    "    def init_model(self, model_args):\n",
    "        class Net(nn.Module):\n",
    "            def __init__(self):\n",
    "                super().__init__()\n",
    "                self.fc1 = nn.Linear(512, 16)\n",
    "                self.fc2 = nn.Linear(16, 2)\n",
    "\n",
    "            def forward(self, x):\n",
    "                x = F.relu(self.fc1(x))\n",
    "                x = self.fc2(x)\n",
    "                return F.log_softmax(x, dim=1)\n",
    "        return Net()\n",
    "\n",
    "    def init_optim(self):\n",
    "        try:\n",
    "            import torch.nn as nn\n",
    "            import torch\n",
    "    \n",
    "            weights = torch.tensor([0.616, 2.660], dtype=torch.float32)\n",
    "            logger.info(\">>> usando CrossEntropyLoss con pesos = %s\", weights)\n",
    "    \n",
    "            criterion = nn.CrossEntropyLoss(weight=weights)\n",
    "            optimizer = torch.optim.Adam(self.model().parameters(), lr=self.optimizer_args['lr'])\n",
    "            return optimizer, criterion\n",
    "    \n",
    "        except Exception as e:\n",
    "            print(\">>> ERROR en init_optim:\", str(e))\n",
    "            raise\n",
    "\n",
    "\n",
    "    def init_dependencies(self):\n",
    "        return [\n",
    "            \"import numpy as np\",\n",
    "            \"import pandas as pd\",\n",
    "            \"from sklearn.preprocessing import StandardScaler\",\n",
    "            \"import torch\",\n",
    "            \"import torch.nn.functional as F\",\n",
    "            \"from sklearn.metrics import precision_score, recall_score, f1_score, roc_auc_score\",\n",
    "            \"from sklearn.model_selection import train_test_split\",  # <--- esta línea es la clave\n",
    "            \"from torch.utils.data import TensorDataset\"\n",
    "        ]\n",
    "\n",
    "    \n",
    "    def training_data(self):\n",
    "        df = pd.read_csv(self.dataset_path)\n",
    "        X = df.iloc[:, :-1].values.astype(np.float32)\n",
    "        y = df.iloc[:, -1].values.astype(np.int64)\n",
    "        X = StandardScaler().fit_transform(X)\n",
    "    \n",
    "        # Split manual (como Fed-BioMed lo haría)\n",
    "        X_train, X_test, y_train, y_test = train_test_split(X, y, test_size=0.2, random_state=42)\n",
    "    \n",
    "        # Guarda el conjunto de test para luego evaluarlo manualmente si deseas\n",
    "        self.X_val = torch.tensor(X_test)\n",
    "        self.y_val = torch.tensor(y_test)\n",
    "    \n",
    "        dataset = TensorDataset(torch.tensor(X_train), torch.tensor(y_train))\n",
    "        return DataManager(dataset=dataset, batch_size=32, shuffle=True)\n",
    "        \n",
    "    def training_step(self, data, target, epoch=None):\n",
    "        # Entrenamiento normal\n",
    "        self.model().train()\n",
    "        output = self.model().forward(data)\n",
    "        loss = F.nll_loss(output, target)\n",
    "        return loss\n",
    "        \n",
    "   \n",
    "    def evaluate(self, data, target):\n",
    "        \"\"\"\n",
    "        Fed-BioMed invoca esto sobre cada batch de validación\n",
    "        (cuando tengas test_on_global_updates=True).\n",
    "        Debe devolver un dict {<metric_name>: value, …}.\n",
    "        \"\"\"\n",
    "        logger.info(\">>> Ejecutando método evaluate personalizado\")\n",
    "        #raise RuntimeError(\"Este evaluate() sí se está ejecutando.\")\n",
    "        self.model().eval()\n",
    "        with torch.no_grad():\n",
    "            logits = self.model()(data)\n",
    "            loss   = F.nll_loss(logits, target).item()\n",
    "            preds  = logits.argmax(dim=1).cpu().numpy()\n",
    "            y_true = target.cpu().numpy()\n",
    "\n",
    "            # calcula todas tus métricas\n",
    "            acc  = (preds == y_true).mean()\n",
    "            prec = precision_score(y_true, preds, average='weighted', zero_division=0)\n",
    "            rec  = recall_score(y_true, preds, average='weighted', zero_division=0)\n",
    "            f1   = f1_score(y_true, preds, average='weighted', zero_division=0)\n",
    "\n",
    "            metrics = {\n",
    "                        'global/loss':      loss,\n",
    "                        'global/accuracy':  acc,\n",
    "                        'global/precision': prec,\n",
    "                        'global/recall':    rec,\n",
    "                        'global/f1_score':  f1\n",
    "            }\n",
    "    \n",
    "            # loguea las métricas para TensorBoard\n",
    "            for name, val in metrics.items():\n",
    "                self.log(name, val)\n",
    "\n",
    "            logger.info(f\"Evaluating metrics: acc={acc}, prec={prec}, recall={rec}, f1={f1}\")\n",
    "\n",
    "    \n",
    "        return metrics\n"
   ]
  },
  {
   "cell_type": "code",
   "execution_count": 2,
   "id": "fcefd439-ab6d-4eac-9ea9-88992fb767ae",
   "metadata": {
    "scrolled": true
   },
   "outputs": [
    {
     "data": {
      "text/plain": [
       "2025-10-03 03:04:26,121 fedbiomed INFO - Starting researcher service..."
      ]
     },
     "metadata": {},
     "output_type": "display_data"
    },
    {
     "data": {
      "text/plain": [
       "2025-10-03 03:04:26,131 fedbiomed INFO - Waiting 3s for nodes to connect..."
      ]
     },
     "metadata": {},
     "output_type": "display_data"
    },
    {
     "data": {
      "text/plain": [
       "2025-10-03 03:04:26,321 fedbiomed DEBUG - Node: NODE_9da4e82d-e30d-44c2-a481-b8a877e97f4d polling for the tasks"
      ]
     },
     "metadata": {},
     "output_type": "display_data"
    },
    {
     "data": {
      "text/plain": [
       "2025-10-03 03:04:26,329 fedbiomed DEBUG - Node: NODE_5fbd3836-38ce-4075-9c03-bdef6bd97579 polling for the tasks"
      ]
     },
     "metadata": {},
     "output_type": "display_data"
    },
    {
     "data": {
      "text/plain": [
       "2025-10-03 03:04:29,136 fedbiomed INFO - Updating training data. This action will update FederatedDataset, and the nodes that will participate to the experiment."
      ]
     },
     "metadata": {},
     "output_type": "display_data"
    },
    {
     "data": {
      "text/plain": [
       "2025-10-03 03:04:29,198 fedbiomed DEBUG - Node: NODE_5fbd3836-38ce-4075-9c03-bdef6bd97579 polling for the tasks"
      ]
     },
     "metadata": {},
     "output_type": "display_data"
    },
    {
     "data": {
      "text/plain": [
       "2025-10-03 03:04:29,230 fedbiomed DEBUG - Node: NODE_9da4e82d-e30d-44c2-a481-b8a877e97f4d polling for the tasks"
      ]
     },
     "metadata": {},
     "output_type": "display_data"
    },
    {
     "data": {
      "text/plain": [
       "2025-10-03 03:04:29,235 fedbiomed INFO - Node selected for training -> NODE_9da4e82d-e30d-44c2-a481-b8a877e97f4d"
      ]
     },
     "metadata": {},
     "output_type": "display_data"
    },
    {
     "data": {
      "text/plain": [
       "2025-10-03 03:04:29,236 fedbiomed INFO - Node selected for training -> NODE_5fbd3836-38ce-4075-9c03-bdef6bd97579"
      ]
     },
     "metadata": {},
     "output_type": "display_data"
    },
    {
     "name": "stdout",
     "output_type": "stream",
     "text": [
      "<function extract_symbols at 0x7f19a038bac0>\n"
     ]
    },
    {
     "data": {
      "text/plain": [
       "2025-10-03 03:04:29,353 fedbiomed DEBUG - Model file has been saved: /home/gersa/fedbiomed-dcm/Modulo_DICOM/fbm-researcher/var/experiments/Experiment_0192/model_c8002e16-89b7-4d03-8e84-0b1098e2d98f.py"
      ]
     },
     "metadata": {},
     "output_type": "display_data"
    },
    {
     "name": "stderr",
     "output_type": "stream",
     "text": [
      "Secure RNG turned off. This is perfectly fine for experimentation as it allows for much faster training performance, but remember to turn it on and retrain one last time before production with ``secure_mode`` turned on.\n"
     ]
    },
    {
     "data": {
      "text/plain": [
       "2025-10-03 03:04:29,357 fedbiomed INFO - Removing tensorboard logs from previous experiment"
      ]
     },
     "metadata": {},
     "output_type": "display_data"
    },
    {
     "data": {
      "text/plain": [
       "2025-10-03 03:04:29,359 fedbiomed INFO - Sampled nodes in round 0 ['NODE_9da4e82d-e30d-44c2-a481-b8a877e97f4d', 'NODE_5fbd3836-38ce-4075-9c03-bdef6bd97579']"
      ]
     },
     "metadata": {},
     "output_type": "display_data"
    },
    {
     "name": "stdout",
     "output_type": "stream",
     "text": [
      "<function extract_symbols at 0x7f19a038bac0>\n"
     ]
    },
    {
     "data": {
      "text/plain": [
       "2025-10-03 03:04:29,362 fedbiomed INFO - \u001b[1mSending request\u001b[0m \n",
       "\t\t\t\t\t\u001b[1m To\u001b[0m: NODE_9da4e82d-e30d-44c2-a481-b8a877e97f4d \n",
       "\t\t\t\t\t\u001b[1m Request: \u001b[0m: TRAIN\n",
       " -----------------------------------------------------------------"
      ]
     },
     "metadata": {},
     "output_type": "display_data"
    },
    {
     "data": {
      "text/plain": [
       "2025-10-03 03:04:29,364 fedbiomed INFO - \u001b[1mSending request\u001b[0m \n",
       "\t\t\t\t\t\u001b[1m To\u001b[0m: NODE_5fbd3836-38ce-4075-9c03-bdef6bd97579 \n",
       "\t\t\t\t\t\u001b[1m Request: \u001b[0m: TRAIN\n",
       " -----------------------------------------------------------------"
      ]
     },
     "metadata": {},
     "output_type": "display_data"
    },
    {
     "data": {
      "text/plain": [
       "2025-10-03 03:04:29,375 fedbiomed DEBUG - Node: NODE_5fbd3836-38ce-4075-9c03-bdef6bd97579 polling for the tasks"
      ]
     },
     "metadata": {},
     "output_type": "display_data"
    },
    {
     "data": {
      "text/plain": [
       "2025-10-03 03:04:29,377 fedbiomed DEBUG - Node: NODE_9da4e82d-e30d-44c2-a481-b8a877e97f4d polling for the tasks"
      ]
     },
     "metadata": {},
     "output_type": "display_data"
    },
    {
     "data": {
      "text/plain": [
       "2025-10-03 03:04:29,685 fedbiomed INFO - \u001b[1mVALIDATION ON GLOBAL UPDATES\u001b[0m \n",
       "\t\t\t\t\t NODE_ID: NODE_5fbd3836-38ce-4075-9c03-bdef6bd97579 \n",
       "\t\t\t\t\t Round 1 | Iteration: 1/1 (100%) | Samples: 635/635\n",
       " \t\t\t\t\t ACCURACY: \u001b[1m0.576378\u001b[0m \n",
       "\t\t\t\t\t ---------"
      ]
     },
     "metadata": {},
     "output_type": "display_data"
    },
    {
     "data": {
      "text/plain": [
       "2025-10-03 03:04:29,692 fedbiomed INFO - \u001b[1mTRAINING\u001b[0m \n",
       "\t\t\t\t\t NODE_ID: NODE_5fbd3836-38ce-4075-9c03-bdef6bd97579 \n",
       "\t\t\t\t\t Round 1 Epoch: 1 | Iteration: 1/80 (1%) | Samples: 32/2560\n",
       " \t\t\t\t\t Loss: \u001b[1m0.648942\u001b[0m \n",
       "\t\t\t\t\t ---------"
      ]
     },
     "metadata": {},
     "output_type": "display_data"
    },
    {
     "data": {
      "text/plain": [
       "2025-10-03 03:04:29,697 fedbiomed INFO - \u001b[1mTRAINING\u001b[0m \n",
       "\t\t\t\t\t NODE_ID: NODE_5fbd3836-38ce-4075-9c03-bdef6bd97579 \n",
       "\t\t\t\t\t Round 1 Epoch: 1 | Iteration: 10/80 (12%) | Samples: 320/2560\n",
       " \t\t\t\t\t Loss: \u001b[1m0.518986\u001b[0m \n",
       "\t\t\t\t\t ---------"
      ]
     },
     "metadata": {},
     "output_type": "display_data"
    },
    {
     "data": {
      "text/plain": [
       "2025-10-03 03:04:29,718 fedbiomed INFO - \u001b[1mTRAINING\u001b[0m \n",
       "\t\t\t\t\t NODE_ID: NODE_5fbd3836-38ce-4075-9c03-bdef6bd97579 \n",
       "\t\t\t\t\t Round 1 Epoch: 1 | Iteration: 20/80 (25%) | Samples: 640/2560\n",
       " \t\t\t\t\t Loss: \u001b[1m0.344072\u001b[0m \n",
       "\t\t\t\t\t ---------"
      ]
     },
     "metadata": {},
     "output_type": "display_data"
    },
    {
     "data": {
      "text/plain": [
       "2025-10-03 03:04:29,728 fedbiomed INFO - \u001b[1mVALIDATION ON GLOBAL UPDATES\u001b[0m \n",
       "\t\t\t\t\t NODE_ID: NODE_9da4e82d-e30d-44c2-a481-b8a877e97f4d \n",
       "\t\t\t\t\t Round 1 | Iteration: 1/1 (100%) | Samples: 635/635\n",
       " \t\t\t\t\t ACCURACY: \u001b[1m0.562205\u001b[0m \n",
       "\t\t\t\t\t ---------"
      ]
     },
     "metadata": {},
     "output_type": "display_data"
    },
    {
     "data": {
      "text/plain": [
       "2025-10-03 03:04:29,748 fedbiomed INFO - \u001b[1mTRAINING\u001b[0m \n",
       "\t\t\t\t\t NODE_ID: NODE_5fbd3836-38ce-4075-9c03-bdef6bd97579 \n",
       "\t\t\t\t\t Round 1 Epoch: 1 | Iteration: 30/80 (38%) | Samples: 960/2560\n",
       " \t\t\t\t\t Loss: \u001b[1m0.272609\u001b[0m \n",
       "\t\t\t\t\t ---------"
      ]
     },
     "metadata": {},
     "output_type": "display_data"
    },
    {
     "data": {
      "text/plain": [
       "2025-10-03 03:04:29,752 fedbiomed INFO - \u001b[1mTRAINING\u001b[0m \n",
       "\t\t\t\t\t NODE_ID: NODE_9da4e82d-e30d-44c2-a481-b8a877e97f4d \n",
       "\t\t\t\t\t Round 1 Epoch: 1 | Iteration: 1/80 (1%) | Samples: 32/2560\n",
       " \t\t\t\t\t Loss: \u001b[1m0.697095\u001b[0m \n",
       "\t\t\t\t\t ---------"
      ]
     },
     "metadata": {},
     "output_type": "display_data"
    },
    {
     "data": {
      "text/plain": [
       "2025-10-03 03:04:29,758 fedbiomed INFO - \u001b[1mTRAINING\u001b[0m \n",
       "\t\t\t\t\t NODE_ID: NODE_9da4e82d-e30d-44c2-a481-b8a877e97f4d \n",
       "\t\t\t\t\t Round 1 Epoch: 1 | Iteration: 10/80 (12%) | Samples: 320/2560\n",
       " \t\t\t\t\t Loss: \u001b[1m0.525524\u001b[0m \n",
       "\t\t\t\t\t ---------"
      ]
     },
     "metadata": {},
     "output_type": "display_data"
    },
    {
     "data": {
      "text/plain": [
       "2025-10-03 03:04:29,771 fedbiomed INFO - \u001b[1mTRAINING\u001b[0m \n",
       "\t\t\t\t\t NODE_ID: NODE_5fbd3836-38ce-4075-9c03-bdef6bd97579 \n",
       "\t\t\t\t\t Round 1 Epoch: 1 | Iteration: 40/80 (50%) | Samples: 1280/2560\n",
       " \t\t\t\t\t Loss: \u001b[1m0.259655\u001b[0m \n",
       "\t\t\t\t\t ---------"
      ]
     },
     "metadata": {},
     "output_type": "display_data"
    },
    {
     "data": {
      "text/plain": [
       "2025-10-03 03:04:29,814 fedbiomed INFO - \u001b[1mTRAINING\u001b[0m \n",
       "\t\t\t\t\t NODE_ID: NODE_5fbd3836-38ce-4075-9c03-bdef6bd97579 \n",
       "\t\t\t\t\t Round 1 Epoch: 1 | Iteration: 50/80 (62%) | Samples: 1600/2560\n",
       " \t\t\t\t\t Loss: \u001b[1m0.125738\u001b[0m \n",
       "\t\t\t\t\t ---------"
      ]
     },
     "metadata": {},
     "output_type": "display_data"
    },
    {
     "data": {
      "text/plain": [
       "2025-10-03 03:04:29,853 fedbiomed INFO - \u001b[1mTRAINING\u001b[0m \n",
       "\t\t\t\t\t NODE_ID: NODE_5fbd3836-38ce-4075-9c03-bdef6bd97579 \n",
       "\t\t\t\t\t Round 1 Epoch: 1 | Iteration: 60/80 (75%) | Samples: 1920/2560\n",
       " \t\t\t\t\t Loss: \u001b[1m0.092752\u001b[0m \n",
       "\t\t\t\t\t ---------"
      ]
     },
     "metadata": {},
     "output_type": "display_data"
    },
    {
     "data": {
      "text/plain": [
       "2025-10-03 03:04:29,879 fedbiomed INFO - \u001b[1mTRAINING\u001b[0m \n",
       "\t\t\t\t\t NODE_ID: NODE_5fbd3836-38ce-4075-9c03-bdef6bd97579 \n",
       "\t\t\t\t\t Round 1 Epoch: 1 | Iteration: 70/80 (88%) | Samples: 2240/2560\n",
       " \t\t\t\t\t Loss: \u001b[1m0.058845\u001b[0m \n",
       "\t\t\t\t\t ---------"
      ]
     },
     "metadata": {},
     "output_type": "display_data"
    },
    {
     "data": {
      "text/plain": [
       "2025-10-03 03:04:29,912 fedbiomed INFO - \u001b[1mTRAINING\u001b[0m \n",
       "\t\t\t\t\t NODE_ID: NODE_5fbd3836-38ce-4075-9c03-bdef6bd97579 \n",
       "\t\t\t\t\t Round 1 Epoch: 1 | Iteration: 80/80 (100%) | Samples: 2541/2541\n",
       " \t\t\t\t\t Loss: \u001b[1m0.223924\u001b[0m \n",
       "\t\t\t\t\t ---------"
      ]
     },
     "metadata": {},
     "output_type": "display_data"
    },
    {
     "data": {
      "text/plain": [
       "2025-10-03 03:04:29,920 fedbiomed INFO - \u001b[1mTRAINING\u001b[0m \n",
       "\t\t\t\t\t NODE_ID: NODE_5fbd3836-38ce-4075-9c03-bdef6bd97579 \n",
       "\t\t\t\t\t Round 1 Epoch: 2 | Iteration: 1/80 (1%) | Samples: 32/2560\n",
       " \t\t\t\t\t Loss: \u001b[1m0.064614\u001b[0m \n",
       "\t\t\t\t\t ---------"
      ]
     },
     "metadata": {},
     "output_type": "display_data"
    },
    {
     "data": {
      "text/plain": [
       "2025-10-03 03:04:29,946 fedbiomed INFO - \u001b[1mTRAINING\u001b[0m \n",
       "\t\t\t\t\t NODE_ID: NODE_9da4e82d-e30d-44c2-a481-b8a877e97f4d \n",
       "\t\t\t\t\t Round 1 Epoch: 1 | Iteration: 20/80 (25%) | Samples: 640/2560\n",
       " \t\t\t\t\t Loss: \u001b[1m0.379148\u001b[0m \n",
       "\t\t\t\t\t ---------"
      ]
     },
     "metadata": {},
     "output_type": "display_data"
    },
    {
     "data": {
      "text/plain": [
       "2025-10-03 03:04:29,967 fedbiomed INFO - \u001b[1mTRAINING\u001b[0m \n",
       "\t\t\t\t\t NODE_ID: NODE_5fbd3836-38ce-4075-9c03-bdef6bd97579 \n",
       "\t\t\t\t\t Round 1 Epoch: 2 | Iteration: 10/80 (12%) | Samples: 320/2560\n",
       " \t\t\t\t\t Loss: \u001b[1m0.050798\u001b[0m \n",
       "\t\t\t\t\t ---------"
      ]
     },
     "metadata": {},
     "output_type": "display_data"
    },
    {
     "data": {
      "text/plain": [
       "2025-10-03 03:04:30,000 fedbiomed INFO - \u001b[1mTRAINING\u001b[0m \n",
       "\t\t\t\t\t NODE_ID: NODE_5fbd3836-38ce-4075-9c03-bdef6bd97579 \n",
       "\t\t\t\t\t Round 1 Epoch: 2 | Iteration: 20/80 (25%) | Samples: 640/2560\n",
       " \t\t\t\t\t Loss: \u001b[1m0.069486\u001b[0m \n",
       "\t\t\t\t\t ---------"
      ]
     },
     "metadata": {},
     "output_type": "display_data"
    },
    {
     "data": {
      "text/plain": [
       "2025-10-03 03:04:30,045 fedbiomed INFO - \u001b[1mTRAINING\u001b[0m \n",
       "\t\t\t\t\t NODE_ID: NODE_5fbd3836-38ce-4075-9c03-bdef6bd97579 \n",
       "\t\t\t\t\t Round 1 Epoch: 2 | Iteration: 30/80 (38%) | Samples: 960/2560\n",
       " \t\t\t\t\t Loss: \u001b[1m0.026699\u001b[0m \n",
       "\t\t\t\t\t ---------"
      ]
     },
     "metadata": {},
     "output_type": "display_data"
    },
    {
     "data": {
      "text/plain": [
       "2025-10-03 03:04:30,055 fedbiomed INFO - \u001b[1mTRAINING\u001b[0m \n",
       "\t\t\t\t\t NODE_ID: NODE_5fbd3836-38ce-4075-9c03-bdef6bd97579 \n",
       "\t\t\t\t\t Round 1 Epoch: 2 | Iteration: 40/80 (50%) | Samples: 1280/2560\n",
       " \t\t\t\t\t Loss: \u001b[1m0.019538\u001b[0m \n",
       "\t\t\t\t\t ---------"
      ]
     },
     "metadata": {},
     "output_type": "display_data"
    },
    {
     "data": {
      "text/plain": [
       "2025-10-03 03:04:30,068 fedbiomed INFO - \u001b[1mTRAINING\u001b[0m \n",
       "\t\t\t\t\t NODE_ID: NODE_5fbd3836-38ce-4075-9c03-bdef6bd97579 \n",
       "\t\t\t\t\t Round 1 Epoch: 2 | Iteration: 50/80 (62%) | Samples: 1600/2560\n",
       " \t\t\t\t\t Loss: \u001b[1m0.024617\u001b[0m \n",
       "\t\t\t\t\t ---------"
      ]
     },
     "metadata": {},
     "output_type": "display_data"
    },
    {
     "data": {
      "text/plain": [
       "2025-10-03 03:04:30,094 fedbiomed INFO - \u001b[1mTRAINING\u001b[0m \n",
       "\t\t\t\t\t NODE_ID: NODE_5fbd3836-38ce-4075-9c03-bdef6bd97579 \n",
       "\t\t\t\t\t Round 1 Epoch: 2 | Iteration: 60/80 (75%) | Samples: 1920/2560\n",
       " \t\t\t\t\t Loss: \u001b[1m0.020105\u001b[0m \n",
       "\t\t\t\t\t ---------"
      ]
     },
     "metadata": {},
     "output_type": "display_data"
    },
    {
     "data": {
      "text/plain": [
       "2025-10-03 03:04:30,109 fedbiomed INFO - \u001b[1mTRAINING\u001b[0m \n",
       "\t\t\t\t\t NODE_ID: NODE_5fbd3836-38ce-4075-9c03-bdef6bd97579 \n",
       "\t\t\t\t\t Round 1 Epoch: 2 | Iteration: 70/80 (88%) | Samples: 2240/2560\n",
       " \t\t\t\t\t Loss: \u001b[1m0.036594\u001b[0m \n",
       "\t\t\t\t\t ---------"
      ]
     },
     "metadata": {},
     "output_type": "display_data"
    },
    {
     "data": {
      "text/plain": [
       "2025-10-03 03:04:30,156 fedbiomed INFO - \u001b[1mTRAINING\u001b[0m \n",
       "\t\t\t\t\t NODE_ID: NODE_5fbd3836-38ce-4075-9c03-bdef6bd97579 \n",
       "\t\t\t\t\t Round 1 Epoch: 2 | Iteration: 80/80 (100%) | Samples: 2541/2541\n",
       " \t\t\t\t\t Loss: \u001b[1m0.011841\u001b[0m \n",
       "\t\t\t\t\t ---------"
      ]
     },
     "metadata": {},
     "output_type": "display_data"
    },
    {
     "data": {
      "text/plain": [
       "2025-10-03 03:04:30,159 fedbiomed INFO - \u001b[1mTRAINING\u001b[0m \n",
       "\t\t\t\t\t NODE_ID: NODE_5fbd3836-38ce-4075-9c03-bdef6bd97579 \n",
       "\t\t\t\t\t Round 1 Epoch: 3 | Iteration: 1/80 (1%) | Samples: 32/2560\n",
       " \t\t\t\t\t Loss: \u001b[1m0.007282\u001b[0m \n",
       "\t\t\t\t\t ---------"
      ]
     },
     "metadata": {},
     "output_type": "display_data"
    },
    {
     "data": {
      "text/plain": [
       "2025-10-03 03:04:30,180 fedbiomed INFO - \u001b[1mTRAINING\u001b[0m \n",
       "\t\t\t\t\t NODE_ID: NODE_5fbd3836-38ce-4075-9c03-bdef6bd97579 \n",
       "\t\t\t\t\t Round 1 Epoch: 3 | Iteration: 10/80 (12%) | Samples: 320/2560\n",
       " \t\t\t\t\t Loss: \u001b[1m0.011548\u001b[0m \n",
       "\t\t\t\t\t ---------"
      ]
     },
     "metadata": {},
     "output_type": "display_data"
    },
    {
     "data": {
      "text/plain": [
       "2025-10-03 03:04:30,194 fedbiomed INFO - \u001b[1mTRAINING\u001b[0m \n",
       "\t\t\t\t\t NODE_ID: NODE_5fbd3836-38ce-4075-9c03-bdef6bd97579 \n",
       "\t\t\t\t\t Round 1 Epoch: 3 | Iteration: 20/80 (25%) | Samples: 640/2560\n",
       " \t\t\t\t\t Loss: \u001b[1m0.028692\u001b[0m \n",
       "\t\t\t\t\t ---------"
      ]
     },
     "metadata": {},
     "output_type": "display_data"
    },
    {
     "data": {
      "text/plain": [
       "2025-10-03 03:04:30,213 fedbiomed INFO - \u001b[1mTRAINING\u001b[0m \n",
       "\t\t\t\t\t NODE_ID: NODE_5fbd3836-38ce-4075-9c03-bdef6bd97579 \n",
       "\t\t\t\t\t Round 1 Epoch: 3 | Iteration: 30/80 (38%) | Samples: 960/2560\n",
       " \t\t\t\t\t Loss: \u001b[1m0.009533\u001b[0m \n",
       "\t\t\t\t\t ---------"
      ]
     },
     "metadata": {},
     "output_type": "display_data"
    },
    {
     "data": {
      "text/plain": [
       "2025-10-03 03:04:30,263 fedbiomed INFO - \u001b[1mTRAINING\u001b[0m \n",
       "\t\t\t\t\t NODE_ID: NODE_5fbd3836-38ce-4075-9c03-bdef6bd97579 \n",
       "\t\t\t\t\t Round 1 Epoch: 3 | Iteration: 40/80 (50%) | Samples: 1280/2560\n",
       " \t\t\t\t\t Loss: \u001b[1m0.052119\u001b[0m \n",
       "\t\t\t\t\t ---------"
      ]
     },
     "metadata": {},
     "output_type": "display_data"
    },
    {
     "data": {
      "text/plain": [
       "2025-10-03 03:04:30,294 fedbiomed INFO - \u001b[1mTRAINING\u001b[0m \n",
       "\t\t\t\t\t NODE_ID: NODE_5fbd3836-38ce-4075-9c03-bdef6bd97579 \n",
       "\t\t\t\t\t Round 1 Epoch: 3 | Iteration: 50/80 (62%) | Samples: 1600/2560\n",
       " \t\t\t\t\t Loss: \u001b[1m0.030828\u001b[0m \n",
       "\t\t\t\t\t ---------"
      ]
     },
     "metadata": {},
     "output_type": "display_data"
    },
    {
     "data": {
      "text/plain": [
       "2025-10-03 03:04:30,317 fedbiomed INFO - \u001b[1mTRAINING\u001b[0m \n",
       "\t\t\t\t\t NODE_ID: NODE_5fbd3836-38ce-4075-9c03-bdef6bd97579 \n",
       "\t\t\t\t\t Round 1 Epoch: 3 | Iteration: 60/80 (75%) | Samples: 1920/2560\n",
       " \t\t\t\t\t Loss: \u001b[1m0.007434\u001b[0m \n",
       "\t\t\t\t\t ---------"
      ]
     },
     "metadata": {},
     "output_type": "display_data"
    },
    {
     "data": {
      "text/plain": [
       "2025-10-03 03:04:30,333 fedbiomed INFO - \u001b[1mTRAINING\u001b[0m \n",
       "\t\t\t\t\t NODE_ID: NODE_9da4e82d-e30d-44c2-a481-b8a877e97f4d \n",
       "\t\t\t\t\t Round 1 Epoch: 1 | Iteration: 30/80 (38%) | Samples: 960/2560\n",
       " \t\t\t\t\t Loss: \u001b[1m0.386038\u001b[0m \n",
       "\t\t\t\t\t ---------"
      ]
     },
     "metadata": {},
     "output_type": "display_data"
    },
    {
     "data": {
      "text/plain": [
       "2025-10-03 03:04:30,351 fedbiomed INFO - \u001b[1mTRAINING\u001b[0m \n",
       "\t\t\t\t\t NODE_ID: NODE_5fbd3836-38ce-4075-9c03-bdef6bd97579 \n",
       "\t\t\t\t\t Round 1 Epoch: 3 | Iteration: 70/80 (88%) | Samples: 2240/2560\n",
       " \t\t\t\t\t Loss: \u001b[1m0.007105\u001b[0m \n",
       "\t\t\t\t\t ---------"
      ]
     },
     "metadata": {},
     "output_type": "display_data"
    },
    {
     "data": {
      "text/plain": [
       "2025-10-03 03:04:30,401 fedbiomed INFO - \u001b[1mTRAINING\u001b[0m \n",
       "\t\t\t\t\t NODE_ID: NODE_5fbd3836-38ce-4075-9c03-bdef6bd97579 \n",
       "\t\t\t\t\t Round 1 Epoch: 3 | Iteration: 80/80 (100%) | Samples: 2541/2541\n",
       " \t\t\t\t\t Loss: \u001b[1m0.010311\u001b[0m \n",
       "\t\t\t\t\t ---------"
      ]
     },
     "metadata": {},
     "output_type": "display_data"
    },
    {
     "data": {
      "text/plain": [
       "2025-10-03 03:04:30,414 fedbiomed INFO - \u001b[1mTRAINING\u001b[0m \n",
       "\t\t\t\t\t NODE_ID: NODE_9da4e82d-e30d-44c2-a481-b8a877e97f4d \n",
       "\t\t\t\t\t Round 1 Epoch: 1 | Iteration: 40/80 (50%) | Samples: 1280/2560\n",
       " \t\t\t\t\t Loss: \u001b[1m0.207401\u001b[0m \n",
       "\t\t\t\t\t ---------"
      ]
     },
     "metadata": {},
     "output_type": "display_data"
    },
    {
     "data": {
      "text/plain": [
       "2025-10-03 03:04:30,425 fedbiomed INFO - \u001b[1mTRAINING\u001b[0m \n",
       "\t\t\t\t\t NODE_ID: NODE_9da4e82d-e30d-44c2-a481-b8a877e97f4d \n",
       "\t\t\t\t\t Round 1 Epoch: 1 | Iteration: 50/80 (62%) | Samples: 1600/2560\n",
       " \t\t\t\t\t Loss: \u001b[1m0.161178\u001b[0m \n",
       "\t\t\t\t\t ---------"
      ]
     },
     "metadata": {},
     "output_type": "display_data"
    },
    {
     "data": {
      "text/plain": [
       "2025-10-03 03:04:30,443 fedbiomed INFO - \u001b[1mTRAINING\u001b[0m \n",
       "\t\t\t\t\t NODE_ID: NODE_9da4e82d-e30d-44c2-a481-b8a877e97f4d \n",
       "\t\t\t\t\t Round 1 Epoch: 1 | Iteration: 60/80 (75%) | Samples: 1920/2560\n",
       " \t\t\t\t\t Loss: \u001b[1m0.096693\u001b[0m \n",
       "\t\t\t\t\t ---------"
      ]
     },
     "metadata": {},
     "output_type": "display_data"
    },
    {
     "data": {
      "text/plain": [
       "2025-10-03 03:04:30,446 fedbiomed INFO - \u001b[1mTRAINING\u001b[0m \n",
       "\t\t\t\t\t NODE_ID: NODE_5fbd3836-38ce-4075-9c03-bdef6bd97579 \n",
       "\t\t\t\t\t Round 1 Epoch: 4 | Iteration: 1/80 (1%) | Samples: 32/2560\n",
       " \t\t\t\t\t Loss: \u001b[1m0.006125\u001b[0m \n",
       "\t\t\t\t\t ---------"
      ]
     },
     "metadata": {},
     "output_type": "display_data"
    },
    {
     "data": {
      "text/plain": [
       "2025-10-03 03:04:30,466 fedbiomed INFO - \u001b[1mTRAINING\u001b[0m \n",
       "\t\t\t\t\t NODE_ID: NODE_5fbd3836-38ce-4075-9c03-bdef6bd97579 \n",
       "\t\t\t\t\t Round 1 Epoch: 4 | Iteration: 10/80 (12%) | Samples: 320/2560\n",
       " \t\t\t\t\t Loss: \u001b[1m0.005481\u001b[0m \n",
       "\t\t\t\t\t ---------"
      ]
     },
     "metadata": {},
     "output_type": "display_data"
    },
    {
     "data": {
      "text/plain": [
       "2025-10-03 03:04:30,531 fedbiomed INFO - \u001b[1mTRAINING\u001b[0m \n",
       "\t\t\t\t\t NODE_ID: NODE_5fbd3836-38ce-4075-9c03-bdef6bd97579 \n",
       "\t\t\t\t\t Round 1 Epoch: 4 | Iteration: 20/80 (25%) | Samples: 640/2560\n",
       " \t\t\t\t\t Loss: \u001b[1m0.048730\u001b[0m \n",
       "\t\t\t\t\t ---------"
      ]
     },
     "metadata": {},
     "output_type": "display_data"
    },
    {
     "data": {
      "text/plain": [
       "2025-10-03 03:04:30,567 fedbiomed INFO - \u001b[1mTRAINING\u001b[0m \n",
       "\t\t\t\t\t NODE_ID: NODE_5fbd3836-38ce-4075-9c03-bdef6bd97579 \n",
       "\t\t\t\t\t Round 1 Epoch: 4 | Iteration: 30/80 (38%) | Samples: 960/2560\n",
       " \t\t\t\t\t Loss: \u001b[1m0.027634\u001b[0m \n",
       "\t\t\t\t\t ---------"
      ]
     },
     "metadata": {},
     "output_type": "display_data"
    },
    {
     "data": {
      "text/plain": [
       "2025-10-03 03:04:30,618 fedbiomed INFO - \u001b[1mTRAINING\u001b[0m \n",
       "\t\t\t\t\t NODE_ID: NODE_5fbd3836-38ce-4075-9c03-bdef6bd97579 \n",
       "\t\t\t\t\t Round 1 Epoch: 4 | Iteration: 40/80 (50%) | Samples: 1280/2560\n",
       " \t\t\t\t\t Loss: \u001b[1m0.006155\u001b[0m \n",
       "\t\t\t\t\t ---------"
      ]
     },
     "metadata": {},
     "output_type": "display_data"
    },
    {
     "data": {
      "text/plain": [
       "2025-10-03 03:04:30,708 fedbiomed INFO - \u001b[1mTRAINING\u001b[0m \n",
       "\t\t\t\t\t NODE_ID: NODE_5fbd3836-38ce-4075-9c03-bdef6bd97579 \n",
       "\t\t\t\t\t Round 1 Epoch: 4 | Iteration: 50/80 (62%) | Samples: 1600/2560\n",
       " \t\t\t\t\t Loss: \u001b[1m0.027501\u001b[0m \n",
       "\t\t\t\t\t ---------"
      ]
     },
     "metadata": {},
     "output_type": "display_data"
    },
    {
     "data": {
      "text/plain": [
       "2025-10-03 03:04:30,765 fedbiomed INFO - \u001b[1mTRAINING\u001b[0m \n",
       "\t\t\t\t\t NODE_ID: NODE_5fbd3836-38ce-4075-9c03-bdef6bd97579 \n",
       "\t\t\t\t\t Round 1 Epoch: 4 | Iteration: 60/80 (75%) | Samples: 1920/2560\n",
       " \t\t\t\t\t Loss: \u001b[1m0.061688\u001b[0m \n",
       "\t\t\t\t\t ---------"
      ]
     },
     "metadata": {},
     "output_type": "display_data"
    },
    {
     "data": {
      "text/plain": [
       "2025-10-03 03:04:30,792 fedbiomed INFO - \u001b[1mTRAINING\u001b[0m \n",
       "\t\t\t\t\t NODE_ID: NODE_9da4e82d-e30d-44c2-a481-b8a877e97f4d \n",
       "\t\t\t\t\t Round 1 Epoch: 1 | Iteration: 70/80 (88%) | Samples: 2240/2560\n",
       " \t\t\t\t\t Loss: \u001b[1m0.073353\u001b[0m \n",
       "\t\t\t\t\t ---------"
      ]
     },
     "metadata": {},
     "output_type": "display_data"
    },
    {
     "data": {
      "text/plain": [
       "2025-10-03 03:04:30,803 fedbiomed INFO - \u001b[1mTRAINING\u001b[0m \n",
       "\t\t\t\t\t NODE_ID: NODE_5fbd3836-38ce-4075-9c03-bdef6bd97579 \n",
       "\t\t\t\t\t Round 1 Epoch: 4 | Iteration: 70/80 (88%) | Samples: 2240/2560\n",
       " \t\t\t\t\t Loss: \u001b[1m0.003813\u001b[0m \n",
       "\t\t\t\t\t ---------"
      ]
     },
     "metadata": {},
     "output_type": "display_data"
    },
    {
     "data": {
      "text/plain": [
       "2025-10-03 03:04:30,863 fedbiomed INFO - \u001b[1mTRAINING\u001b[0m \n",
       "\t\t\t\t\t NODE_ID: NODE_5fbd3836-38ce-4075-9c03-bdef6bd97579 \n",
       "\t\t\t\t\t Round 1 Epoch: 4 | Iteration: 80/80 (100%) | Samples: 2541/2541\n",
       " \t\t\t\t\t Loss: \u001b[1m0.001445\u001b[0m \n",
       "\t\t\t\t\t ---------"
      ]
     },
     "metadata": {},
     "output_type": "display_data"
    },
    {
     "data": {
      "text/plain": [
       "2025-10-03 03:04:30,870 fedbiomed INFO - \u001b[1mTRAINING\u001b[0m \n",
       "\t\t\t\t\t NODE_ID: NODE_5fbd3836-38ce-4075-9c03-bdef6bd97579 \n",
       "\t\t\t\t\t Round 1 Epoch: 5 | Iteration: 1/80 (1%) | Samples: 32/2560\n",
       " \t\t\t\t\t Loss: \u001b[1m0.003355\u001b[0m \n",
       "\t\t\t\t\t ---------"
      ]
     },
     "metadata": {},
     "output_type": "display_data"
    },
    {
     "data": {
      "text/plain": [
       "2025-10-03 03:04:30,901 fedbiomed INFO - \u001b[1mTRAINING\u001b[0m \n",
       "\t\t\t\t\t NODE_ID: NODE_9da4e82d-e30d-44c2-a481-b8a877e97f4d \n",
       "\t\t\t\t\t Round 1 Epoch: 1 | Iteration: 80/80 (100%) | Samples: 2541/2541\n",
       " \t\t\t\t\t Loss: \u001b[1m0.046740\u001b[0m \n",
       "\t\t\t\t\t ---------"
      ]
     },
     "metadata": {},
     "output_type": "display_data"
    },
    {
     "data": {
      "text/plain": [
       "2025-10-03 03:04:30,917 fedbiomed INFO - \u001b[1mTRAINING\u001b[0m \n",
       "\t\t\t\t\t NODE_ID: NODE_9da4e82d-e30d-44c2-a481-b8a877e97f4d \n",
       "\t\t\t\t\t Round 1 Epoch: 2 | Iteration: 1/80 (1%) | Samples: 32/2560\n",
       " \t\t\t\t\t Loss: \u001b[1m0.087955\u001b[0m \n",
       "\t\t\t\t\t ---------"
      ]
     },
     "metadata": {},
     "output_type": "display_data"
    },
    {
     "data": {
      "text/plain": [
       "2025-10-03 03:04:30,958 fedbiomed INFO - \u001b[1mTRAINING\u001b[0m \n",
       "\t\t\t\t\t NODE_ID: NODE_5fbd3836-38ce-4075-9c03-bdef6bd97579 \n",
       "\t\t\t\t\t Round 1 Epoch: 5 | Iteration: 10/80 (12%) | Samples: 320/2560\n",
       " \t\t\t\t\t Loss: \u001b[1m0.004107\u001b[0m \n",
       "\t\t\t\t\t ---------"
      ]
     },
     "metadata": {},
     "output_type": "display_data"
    },
    {
     "data": {
      "text/plain": [
       "2025-10-03 03:04:30,965 fedbiomed INFO - \u001b[1mTRAINING\u001b[0m \n",
       "\t\t\t\t\t NODE_ID: NODE_9da4e82d-e30d-44c2-a481-b8a877e97f4d \n",
       "\t\t\t\t\t Round 1 Epoch: 2 | Iteration: 10/80 (12%) | Samples: 320/2560\n",
       " \t\t\t\t\t Loss: \u001b[1m0.032549\u001b[0m \n",
       "\t\t\t\t\t ---------"
      ]
     },
     "metadata": {},
     "output_type": "display_data"
    },
    {
     "data": {
      "text/plain": [
       "2025-10-03 03:04:31,078 fedbiomed INFO - \u001b[1mTRAINING\u001b[0m \n",
       "\t\t\t\t\t NODE_ID: NODE_5fbd3836-38ce-4075-9c03-bdef6bd97579 \n",
       "\t\t\t\t\t Round 1 Epoch: 5 | Iteration: 20/80 (25%) | Samples: 640/2560\n",
       " \t\t\t\t\t Loss: \u001b[1m0.003360\u001b[0m \n",
       "\t\t\t\t\t ---------"
      ]
     },
     "metadata": {},
     "output_type": "display_data"
    },
    {
     "data": {
      "text/plain": [
       "2025-10-03 03:04:31,156 fedbiomed INFO - \u001b[1mTRAINING\u001b[0m \n",
       "\t\t\t\t\t NODE_ID: NODE_9da4e82d-e30d-44c2-a481-b8a877e97f4d \n",
       "\t\t\t\t\t Round 1 Epoch: 2 | Iteration: 20/80 (25%) | Samples: 640/2560\n",
       " \t\t\t\t\t Loss: \u001b[1m0.036364\u001b[0m \n",
       "\t\t\t\t\t ---------"
      ]
     },
     "metadata": {},
     "output_type": "display_data"
    },
    {
     "data": {
      "text/plain": [
       "2025-10-03 03:04:31,247 fedbiomed INFO - \u001b[1mTRAINING\u001b[0m \n",
       "\t\t\t\t\t NODE_ID: NODE_9da4e82d-e30d-44c2-a481-b8a877e97f4d \n",
       "\t\t\t\t\t Round 1 Epoch: 2 | Iteration: 30/80 (38%) | Samples: 960/2560\n",
       " \t\t\t\t\t Loss: \u001b[1m0.035818\u001b[0m \n",
       "\t\t\t\t\t ---------"
      ]
     },
     "metadata": {},
     "output_type": "display_data"
    },
    {
     "data": {
      "text/plain": [
       "2025-10-03 03:04:31,293 fedbiomed INFO - \u001b[1mTRAINING\u001b[0m \n",
       "\t\t\t\t\t NODE_ID: NODE_5fbd3836-38ce-4075-9c03-bdef6bd97579 \n",
       "\t\t\t\t\t Round 1 Epoch: 5 | Iteration: 30/80 (38%) | Samples: 960/2560\n",
       " \t\t\t\t\t Loss: \u001b[1m0.002629\u001b[0m \n",
       "\t\t\t\t\t ---------"
      ]
     },
     "metadata": {},
     "output_type": "display_data"
    },
    {
     "data": {
      "text/plain": [
       "2025-10-03 03:04:31,321 fedbiomed INFO - \u001b[1mTRAINING\u001b[0m \n",
       "\t\t\t\t\t NODE_ID: NODE_5fbd3836-38ce-4075-9c03-bdef6bd97579 \n",
       "\t\t\t\t\t Round 1 Epoch: 5 | Iteration: 40/80 (50%) | Samples: 1280/2560\n",
       " \t\t\t\t\t Loss: \u001b[1m0.023463\u001b[0m \n",
       "\t\t\t\t\t ---------"
      ]
     },
     "metadata": {},
     "output_type": "display_data"
    },
    {
     "data": {
      "text/plain": [
       "2025-10-03 03:04:31,383 fedbiomed INFO - \u001b[1mTRAINING\u001b[0m \n",
       "\t\t\t\t\t NODE_ID: NODE_5fbd3836-38ce-4075-9c03-bdef6bd97579 \n",
       "\t\t\t\t\t Round 1 Epoch: 5 | Iteration: 50/80 (62%) | Samples: 1600/2560\n",
       " \t\t\t\t\t Loss: \u001b[1m0.023450\u001b[0m \n",
       "\t\t\t\t\t ---------"
      ]
     },
     "metadata": {},
     "output_type": "display_data"
    },
    {
     "data": {
      "text/plain": [
       "2025-10-03 03:04:31,462 fedbiomed INFO - \u001b[1mTRAINING\u001b[0m \n",
       "\t\t\t\t\t NODE_ID: NODE_5fbd3836-38ce-4075-9c03-bdef6bd97579 \n",
       "\t\t\t\t\t Round 1 Epoch: 5 | Iteration: 60/80 (75%) | Samples: 1920/2560\n",
       " \t\t\t\t\t Loss: \u001b[1m0.003026\u001b[0m \n",
       "\t\t\t\t\t ---------"
      ]
     },
     "metadata": {},
     "output_type": "display_data"
    },
    {
     "data": {
      "text/plain": [
       "2025-10-03 03:04:31,467 fedbiomed INFO - \u001b[1mTRAINING\u001b[0m \n",
       "\t\t\t\t\t NODE_ID: NODE_9da4e82d-e30d-44c2-a481-b8a877e97f4d \n",
       "\t\t\t\t\t Round 1 Epoch: 2 | Iteration: 40/80 (50%) | Samples: 1280/2560\n",
       " \t\t\t\t\t Loss: \u001b[1m0.043586\u001b[0m \n",
       "\t\t\t\t\t ---------"
      ]
     },
     "metadata": {},
     "output_type": "display_data"
    },
    {
     "data": {
      "text/plain": [
       "2025-10-03 03:04:31,548 fedbiomed INFO - \u001b[1mTRAINING\u001b[0m \n",
       "\t\t\t\t\t NODE_ID: NODE_5fbd3836-38ce-4075-9c03-bdef6bd97579 \n",
       "\t\t\t\t\t Round 1 Epoch: 5 | Iteration: 70/80 (88%) | Samples: 2240/2560\n",
       " \t\t\t\t\t Loss: \u001b[1m0.005270\u001b[0m \n",
       "\t\t\t\t\t ---------"
      ]
     },
     "metadata": {},
     "output_type": "display_data"
    },
    {
     "data": {
      "text/plain": [
       "2025-10-03 03:04:31,586 fedbiomed INFO - \u001b[1mTRAINING\u001b[0m \n",
       "\t\t\t\t\t NODE_ID: NODE_5fbd3836-38ce-4075-9c03-bdef6bd97579 \n",
       "\t\t\t\t\t Round 1 Epoch: 5 | Iteration: 80/80 (100%) | Samples: 2541/2541\n",
       " \t\t\t\t\t Loss: \u001b[1m0.054919\u001b[0m \n",
       "\t\t\t\t\t ---------"
      ]
     },
     "metadata": {},
     "output_type": "display_data"
    },
    {
     "data": {
      "text/plain": [
       "2025-10-03 03:04:31,591 fedbiomed INFO - \u001b[1mTRAINING\u001b[0m \n",
       "\t\t\t\t\t NODE_ID: NODE_5fbd3836-38ce-4075-9c03-bdef6bd97579 \n",
       "\t\t\t\t\t Round 1 Epoch: 6 | Iteration: 1/80 (1%) | Samples: 32/2560\n",
       " \t\t\t\t\t Loss: \u001b[1m0.043963\u001b[0m \n",
       "\t\t\t\t\t ---------"
      ]
     },
     "metadata": {},
     "output_type": "display_data"
    },
    {
     "data": {
      "text/plain": [
       "2025-10-03 03:04:31,627 fedbiomed INFO - \u001b[1mTRAINING\u001b[0m \n",
       "\t\t\t\t\t NODE_ID: NODE_5fbd3836-38ce-4075-9c03-bdef6bd97579 \n",
       "\t\t\t\t\t Round 1 Epoch: 6 | Iteration: 10/80 (12%) | Samples: 320/2560\n",
       " \t\t\t\t\t Loss: \u001b[1m0.000896\u001b[0m \n",
       "\t\t\t\t\t ---------"
      ]
     },
     "metadata": {},
     "output_type": "display_data"
    },
    {
     "data": {
      "text/plain": [
       "2025-10-03 03:04:31,646 fedbiomed INFO - \u001b[1mTRAINING\u001b[0m \n",
       "\t\t\t\t\t NODE_ID: NODE_5fbd3836-38ce-4075-9c03-bdef6bd97579 \n",
       "\t\t\t\t\t Round 1 Epoch: 6 | Iteration: 20/80 (25%) | Samples: 640/2560\n",
       " \t\t\t\t\t Loss: \u001b[1m0.002025\u001b[0m \n",
       "\t\t\t\t\t ---------"
      ]
     },
     "metadata": {},
     "output_type": "display_data"
    },
    {
     "data": {
      "text/plain": [
       "2025-10-03 03:04:31,673 fedbiomed INFO - \u001b[1mTRAINING\u001b[0m \n",
       "\t\t\t\t\t NODE_ID: NODE_5fbd3836-38ce-4075-9c03-bdef6bd97579 \n",
       "\t\t\t\t\t Round 1 Epoch: 6 | Iteration: 30/80 (38%) | Samples: 960/2560\n",
       " \t\t\t\t\t Loss: \u001b[1m0.023117\u001b[0m \n",
       "\t\t\t\t\t ---------"
      ]
     },
     "metadata": {},
     "output_type": "display_data"
    },
    {
     "data": {
      "text/plain": [
       "2025-10-03 03:04:31,699 fedbiomed INFO - \u001b[1mTRAINING\u001b[0m \n",
       "\t\t\t\t\t NODE_ID: NODE_5fbd3836-38ce-4075-9c03-bdef6bd97579 \n",
       "\t\t\t\t\t Round 1 Epoch: 6 | Iteration: 40/80 (50%) | Samples: 1280/2560\n",
       " \t\t\t\t\t Loss: \u001b[1m0.001475\u001b[0m \n",
       "\t\t\t\t\t ---------"
      ]
     },
     "metadata": {},
     "output_type": "display_data"
    },
    {
     "data": {
      "text/plain": [
       "2025-10-03 03:04:31,729 fedbiomed INFO - \u001b[1mTRAINING\u001b[0m \n",
       "\t\t\t\t\t NODE_ID: NODE_9da4e82d-e30d-44c2-a481-b8a877e97f4d \n",
       "\t\t\t\t\t Round 1 Epoch: 2 | Iteration: 50/80 (62%) | Samples: 1600/2560\n",
       " \t\t\t\t\t Loss: \u001b[1m0.026597\u001b[0m \n",
       "\t\t\t\t\t ---------"
      ]
     },
     "metadata": {},
     "output_type": "display_data"
    },
    {
     "data": {
      "text/plain": [
       "2025-10-03 03:04:31,732 fedbiomed INFO - \u001b[1mTRAINING\u001b[0m \n",
       "\t\t\t\t\t NODE_ID: NODE_5fbd3836-38ce-4075-9c03-bdef6bd97579 \n",
       "\t\t\t\t\t Round 1 Epoch: 6 | Iteration: 50/80 (62%) | Samples: 1600/2560\n",
       " \t\t\t\t\t Loss: \u001b[1m0.001457\u001b[0m \n",
       "\t\t\t\t\t ---------"
      ]
     },
     "metadata": {},
     "output_type": "display_data"
    },
    {
     "data": {
      "text/plain": [
       "2025-10-03 03:04:31,767 fedbiomed INFO - \u001b[1mTRAINING\u001b[0m \n",
       "\t\t\t\t\t NODE_ID: NODE_9da4e82d-e30d-44c2-a481-b8a877e97f4d \n",
       "\t\t\t\t\t Round 1 Epoch: 2 | Iteration: 60/80 (75%) | Samples: 1920/2560\n",
       " \t\t\t\t\t Loss: \u001b[1m0.030895\u001b[0m \n",
       "\t\t\t\t\t ---------"
      ]
     },
     "metadata": {},
     "output_type": "display_data"
    },
    {
     "data": {
      "text/plain": [
       "2025-10-03 03:04:31,802 fedbiomed INFO - \u001b[1mTRAINING\u001b[0m \n",
       "\t\t\t\t\t NODE_ID: NODE_9da4e82d-e30d-44c2-a481-b8a877e97f4d \n",
       "\t\t\t\t\t Round 1 Epoch: 2 | Iteration: 70/80 (88%) | Samples: 2240/2560\n",
       " \t\t\t\t\t Loss: \u001b[1m0.026695\u001b[0m \n",
       "\t\t\t\t\t ---------"
      ]
     },
     "metadata": {},
     "output_type": "display_data"
    },
    {
     "data": {
      "text/plain": [
       "2025-10-03 03:04:31,829 fedbiomed INFO - \u001b[1mTRAINING\u001b[0m \n",
       "\t\t\t\t\t NODE_ID: NODE_9da4e82d-e30d-44c2-a481-b8a877e97f4d \n",
       "\t\t\t\t\t Round 1 Epoch: 2 | Iteration: 80/80 (100%) | Samples: 2541/2541\n",
       " \t\t\t\t\t Loss: \u001b[1m0.016418\u001b[0m \n",
       "\t\t\t\t\t ---------"
      ]
     },
     "metadata": {},
     "output_type": "display_data"
    },
    {
     "data": {
      "text/plain": [
       "2025-10-03 03:04:31,833 fedbiomed INFO - \u001b[1mTRAINING\u001b[0m \n",
       "\t\t\t\t\t NODE_ID: NODE_9da4e82d-e30d-44c2-a481-b8a877e97f4d \n",
       "\t\t\t\t\t Round 1 Epoch: 3 | Iteration: 1/80 (1%) | Samples: 32/2560\n",
       " \t\t\t\t\t Loss: \u001b[1m0.018202\u001b[0m \n",
       "\t\t\t\t\t ---------"
      ]
     },
     "metadata": {},
     "output_type": "display_data"
    },
    {
     "data": {
      "text/plain": [
       "2025-10-03 03:04:31,927 fedbiomed INFO - \u001b[1mTRAINING\u001b[0m \n",
       "\t\t\t\t\t NODE_ID: NODE_9da4e82d-e30d-44c2-a481-b8a877e97f4d \n",
       "\t\t\t\t\t Round 1 Epoch: 3 | Iteration: 10/80 (12%) | Samples: 320/2560\n",
       " \t\t\t\t\t Loss: \u001b[1m0.009271\u001b[0m \n",
       "\t\t\t\t\t ---------"
      ]
     },
     "metadata": {},
     "output_type": "display_data"
    },
    {
     "data": {
      "text/plain": [
       "2025-10-03 03:04:31,946 fedbiomed INFO - \u001b[1mTRAINING\u001b[0m \n",
       "\t\t\t\t\t NODE_ID: NODE_5fbd3836-38ce-4075-9c03-bdef6bd97579 \n",
       "\t\t\t\t\t Round 1 Epoch: 6 | Iteration: 60/80 (75%) | Samples: 1920/2560\n",
       " \t\t\t\t\t Loss: \u001b[1m0.001647\u001b[0m \n",
       "\t\t\t\t\t ---------"
      ]
     },
     "metadata": {},
     "output_type": "display_data"
    },
    {
     "data": {
      "text/plain": [
       "2025-10-03 03:04:31,969 fedbiomed INFO - \u001b[1mTRAINING\u001b[0m \n",
       "\t\t\t\t\t NODE_ID: NODE_9da4e82d-e30d-44c2-a481-b8a877e97f4d \n",
       "\t\t\t\t\t Round 1 Epoch: 3 | Iteration: 20/80 (25%) | Samples: 640/2560\n",
       " \t\t\t\t\t Loss: \u001b[1m0.009739\u001b[0m \n",
       "\t\t\t\t\t ---------"
      ]
     },
     "metadata": {},
     "output_type": "display_data"
    },
    {
     "data": {
      "text/plain": [
       "2025-10-03 03:04:31,990 fedbiomed INFO - \u001b[1mTRAINING\u001b[0m \n",
       "\t\t\t\t\t NODE_ID: NODE_9da4e82d-e30d-44c2-a481-b8a877e97f4d \n",
       "\t\t\t\t\t Round 1 Epoch: 3 | Iteration: 30/80 (38%) | Samples: 960/2560\n",
       " \t\t\t\t\t Loss: \u001b[1m0.006809\u001b[0m \n",
       "\t\t\t\t\t ---------"
      ]
     },
     "metadata": {},
     "output_type": "display_data"
    },
    {
     "data": {
      "text/plain": [
       "2025-10-03 03:04:32,014 fedbiomed INFO - \u001b[1mTRAINING\u001b[0m \n",
       "\t\t\t\t\t NODE_ID: NODE_5fbd3836-38ce-4075-9c03-bdef6bd97579 \n",
       "\t\t\t\t\t Round 1 Epoch: 6 | Iteration: 70/80 (88%) | Samples: 2240/2560\n",
       " \t\t\t\t\t Loss: \u001b[1m0.001805\u001b[0m \n",
       "\t\t\t\t\t ---------"
      ]
     },
     "metadata": {},
     "output_type": "display_data"
    },
    {
     "data": {
      "text/plain": [
       "2025-10-03 03:04:32,043 fedbiomed INFO - \u001b[1mTRAINING\u001b[0m \n",
       "\t\t\t\t\t NODE_ID: NODE_5fbd3836-38ce-4075-9c03-bdef6bd97579 \n",
       "\t\t\t\t\t Round 1 Epoch: 6 | Iteration: 80/80 (100%) | Samples: 2541/2541\n",
       " \t\t\t\t\t Loss: \u001b[1m0.001244\u001b[0m \n",
       "\t\t\t\t\t ---------"
      ]
     },
     "metadata": {},
     "output_type": "display_data"
    },
    {
     "data": {
      "text/plain": [
       "2025-10-03 03:04:32,048 fedbiomed INFO - \u001b[1mTRAINING\u001b[0m \n",
       "\t\t\t\t\t NODE_ID: NODE_5fbd3836-38ce-4075-9c03-bdef6bd97579 \n",
       "\t\t\t\t\t Round 1 Epoch: 7 | Iteration: 1/80 (1%) | Samples: 32/2560\n",
       " \t\t\t\t\t Loss: \u001b[1m0.000971\u001b[0m \n",
       "\t\t\t\t\t ---------"
      ]
     },
     "metadata": {},
     "output_type": "display_data"
    },
    {
     "data": {
      "text/plain": [
       "2025-10-03 03:04:32,086 fedbiomed INFO - \u001b[1mTRAINING\u001b[0m \n",
       "\t\t\t\t\t NODE_ID: NODE_9da4e82d-e30d-44c2-a481-b8a877e97f4d \n",
       "\t\t\t\t\t Round 1 Epoch: 3 | Iteration: 40/80 (50%) | Samples: 1280/2560\n",
       " \t\t\t\t\t Loss: \u001b[1m0.009232\u001b[0m \n",
       "\t\t\t\t\t ---------"
      ]
     },
     "metadata": {},
     "output_type": "display_data"
    },
    {
     "data": {
      "text/plain": [
       "2025-10-03 03:04:32,105 fedbiomed INFO - \u001b[1mTRAINING\u001b[0m \n",
       "\t\t\t\t\t NODE_ID: NODE_9da4e82d-e30d-44c2-a481-b8a877e97f4d \n",
       "\t\t\t\t\t Round 1 Epoch: 3 | Iteration: 50/80 (62%) | Samples: 1600/2560\n",
       " \t\t\t\t\t Loss: \u001b[1m0.008332\u001b[0m \n",
       "\t\t\t\t\t ---------"
      ]
     },
     "metadata": {},
     "output_type": "display_data"
    },
    {
     "data": {
      "text/plain": [
       "2025-10-03 03:04:32,130 fedbiomed INFO - \u001b[1mTRAINING\u001b[0m \n",
       "\t\t\t\t\t NODE_ID: NODE_9da4e82d-e30d-44c2-a481-b8a877e97f4d \n",
       "\t\t\t\t\t Round 1 Epoch: 3 | Iteration: 60/80 (75%) | Samples: 1920/2560\n",
       " \t\t\t\t\t Loss: \u001b[1m0.007200\u001b[0m \n",
       "\t\t\t\t\t ---------"
      ]
     },
     "metadata": {},
     "output_type": "display_data"
    },
    {
     "data": {
      "text/plain": [
       "2025-10-03 03:04:32,149 fedbiomed INFO - \u001b[1mTRAINING\u001b[0m \n",
       "\t\t\t\t\t NODE_ID: NODE_5fbd3836-38ce-4075-9c03-bdef6bd97579 \n",
       "\t\t\t\t\t Round 1 Epoch: 7 | Iteration: 10/80 (12%) | Samples: 320/2560\n",
       " \t\t\t\t\t Loss: \u001b[1m0.001614\u001b[0m \n",
       "\t\t\t\t\t ---------"
      ]
     },
     "metadata": {},
     "output_type": "display_data"
    },
    {
     "data": {
      "text/plain": [
       "2025-10-03 03:04:32,152 fedbiomed INFO - \u001b[1mTRAINING\u001b[0m \n",
       "\t\t\t\t\t NODE_ID: NODE_9da4e82d-e30d-44c2-a481-b8a877e97f4d \n",
       "\t\t\t\t\t Round 1 Epoch: 3 | Iteration: 70/80 (88%) | Samples: 2240/2560\n",
       " \t\t\t\t\t Loss: \u001b[1m0.005824\u001b[0m \n",
       "\t\t\t\t\t ---------"
      ]
     },
     "metadata": {},
     "output_type": "display_data"
    },
    {
     "data": {
      "text/plain": [
       "2025-10-03 03:04:32,183 fedbiomed INFO - \u001b[1mTRAINING\u001b[0m \n",
       "\t\t\t\t\t NODE_ID: NODE_9da4e82d-e30d-44c2-a481-b8a877e97f4d \n",
       "\t\t\t\t\t Round 1 Epoch: 3 | Iteration: 80/80 (100%) | Samples: 2541/2541\n",
       " \t\t\t\t\t Loss: \u001b[1m0.011874\u001b[0m \n",
       "\t\t\t\t\t ---------"
      ]
     },
     "metadata": {},
     "output_type": "display_data"
    },
    {
     "data": {
      "text/plain": [
       "2025-10-03 03:04:32,195 fedbiomed INFO - \u001b[1mTRAINING\u001b[0m \n",
       "\t\t\t\t\t NODE_ID: NODE_5fbd3836-38ce-4075-9c03-bdef6bd97579 \n",
       "\t\t\t\t\t Round 1 Epoch: 7 | Iteration: 20/80 (25%) | Samples: 640/2560\n",
       " \t\t\t\t\t Loss: \u001b[1m0.001511\u001b[0m \n",
       "\t\t\t\t\t ---------"
      ]
     },
     "metadata": {},
     "output_type": "display_data"
    },
    {
     "data": {
      "text/plain": [
       "2025-10-03 03:04:32,225 fedbiomed INFO - \u001b[1mTRAINING\u001b[0m \n",
       "\t\t\t\t\t NODE_ID: NODE_5fbd3836-38ce-4075-9c03-bdef6bd97579 \n",
       "\t\t\t\t\t Round 1 Epoch: 7 | Iteration: 30/80 (38%) | Samples: 960/2560\n",
       " \t\t\t\t\t Loss: \u001b[1m0.001443\u001b[0m \n",
       "\t\t\t\t\t ---------"
      ]
     },
     "metadata": {},
     "output_type": "display_data"
    },
    {
     "data": {
      "text/plain": [
       "2025-10-03 03:04:32,227 fedbiomed INFO - \u001b[1mTRAINING\u001b[0m \n",
       "\t\t\t\t\t NODE_ID: NODE_9da4e82d-e30d-44c2-a481-b8a877e97f4d \n",
       "\t\t\t\t\t Round 1 Epoch: 4 | Iteration: 1/80 (1%) | Samples: 32/2560\n",
       " \t\t\t\t\t Loss: \u001b[1m0.012490\u001b[0m \n",
       "\t\t\t\t\t ---------"
      ]
     },
     "metadata": {},
     "output_type": "display_data"
    },
    {
     "data": {
      "text/plain": [
       "2025-10-03 03:04:32,267 fedbiomed INFO - \u001b[1mTRAINING\u001b[0m \n",
       "\t\t\t\t\t NODE_ID: NODE_9da4e82d-e30d-44c2-a481-b8a877e97f4d \n",
       "\t\t\t\t\t Round 1 Epoch: 4 | Iteration: 10/80 (12%) | Samples: 320/2560\n",
       " \t\t\t\t\t Loss: \u001b[1m0.008012\u001b[0m \n",
       "\t\t\t\t\t ---------"
      ]
     },
     "metadata": {},
     "output_type": "display_data"
    },
    {
     "data": {
      "text/plain": [
       "2025-10-03 03:04:32,291 fedbiomed INFO - \u001b[1mTRAINING\u001b[0m \n",
       "\t\t\t\t\t NODE_ID: NODE_9da4e82d-e30d-44c2-a481-b8a877e97f4d \n",
       "\t\t\t\t\t Round 1 Epoch: 4 | Iteration: 20/80 (25%) | Samples: 640/2560\n",
       " \t\t\t\t\t Loss: \u001b[1m0.011372\u001b[0m \n",
       "\t\t\t\t\t ---------"
      ]
     },
     "metadata": {},
     "output_type": "display_data"
    },
    {
     "data": {
      "text/plain": [
       "2025-10-03 03:04:32,296 fedbiomed INFO - \u001b[1mTRAINING\u001b[0m \n",
       "\t\t\t\t\t NODE_ID: NODE_5fbd3836-38ce-4075-9c03-bdef6bd97579 \n",
       "\t\t\t\t\t Round 1 Epoch: 7 | Iteration: 40/80 (50%) | Samples: 1280/2560\n",
       " \t\t\t\t\t Loss: \u001b[1m0.000955\u001b[0m \n",
       "\t\t\t\t\t ---------"
      ]
     },
     "metadata": {},
     "output_type": "display_data"
    },
    {
     "data": {
      "text/plain": [
       "2025-10-03 03:04:32,320 fedbiomed INFO - \u001b[1mTRAINING\u001b[0m \n",
       "\t\t\t\t\t NODE_ID: NODE_5fbd3836-38ce-4075-9c03-bdef6bd97579 \n",
       "\t\t\t\t\t Round 1 Epoch: 7 | Iteration: 50/80 (62%) | Samples: 1600/2560\n",
       " \t\t\t\t\t Loss: \u001b[1m0.000866\u001b[0m \n",
       "\t\t\t\t\t ---------"
      ]
     },
     "metadata": {},
     "output_type": "display_data"
    },
    {
     "data": {
      "text/plain": [
       "2025-10-03 03:04:32,338 fedbiomed INFO - \u001b[1mTRAINING\u001b[0m \n",
       "\t\t\t\t\t NODE_ID: NODE_5fbd3836-38ce-4075-9c03-bdef6bd97579 \n",
       "\t\t\t\t\t Round 1 Epoch: 7 | Iteration: 60/80 (75%) | Samples: 1920/2560\n",
       " \t\t\t\t\t Loss: \u001b[1m0.001166\u001b[0m \n",
       "\t\t\t\t\t ---------"
      ]
     },
     "metadata": {},
     "output_type": "display_data"
    },
    {
     "data": {
      "text/plain": [
       "2025-10-03 03:04:32,368 fedbiomed INFO - \u001b[1mTRAINING\u001b[0m \n",
       "\t\t\t\t\t NODE_ID: NODE_5fbd3836-38ce-4075-9c03-bdef6bd97579 \n",
       "\t\t\t\t\t Round 1 Epoch: 7 | Iteration: 70/80 (88%) | Samples: 2240/2560\n",
       " \t\t\t\t\t Loss: \u001b[1m0.001324\u001b[0m \n",
       "\t\t\t\t\t ---------"
      ]
     },
     "metadata": {},
     "output_type": "display_data"
    },
    {
     "data": {
      "text/plain": [
       "2025-10-03 03:04:32,392 fedbiomed INFO - \u001b[1mTRAINING\u001b[0m \n",
       "\t\t\t\t\t NODE_ID: NODE_5fbd3836-38ce-4075-9c03-bdef6bd97579 \n",
       "\t\t\t\t\t Round 1 Epoch: 7 | Iteration: 80/80 (100%) | Samples: 2541/2541\n",
       " \t\t\t\t\t Loss: \u001b[1m0.001195\u001b[0m \n",
       "\t\t\t\t\t ---------"
      ]
     },
     "metadata": {},
     "output_type": "display_data"
    },
    {
     "data": {
      "text/plain": [
       "2025-10-03 03:04:32,396 fedbiomed INFO - \u001b[1mTRAINING\u001b[0m \n",
       "\t\t\t\t\t NODE_ID: NODE_5fbd3836-38ce-4075-9c03-bdef6bd97579 \n",
       "\t\t\t\t\t Round 1 Epoch: 8 | Iteration: 1/80 (1%) | Samples: 32/2560\n",
       " \t\t\t\t\t Loss: \u001b[1m0.000812\u001b[0m \n",
       "\t\t\t\t\t ---------"
      ]
     },
     "metadata": {},
     "output_type": "display_data"
    },
    {
     "data": {
      "text/plain": [
       "2025-10-03 03:04:32,420 fedbiomed INFO - \u001b[1mTRAINING\u001b[0m \n",
       "\t\t\t\t\t NODE_ID: NODE_5fbd3836-38ce-4075-9c03-bdef6bd97579 \n",
       "\t\t\t\t\t Round 1 Epoch: 8 | Iteration: 10/80 (12%) | Samples: 320/2560\n",
       " \t\t\t\t\t Loss: \u001b[1m0.001509\u001b[0m \n",
       "\t\t\t\t\t ---------"
      ]
     },
     "metadata": {},
     "output_type": "display_data"
    },
    {
     "data": {
      "text/plain": [
       "2025-10-03 03:04:32,444 fedbiomed INFO - \u001b[1mTRAINING\u001b[0m \n",
       "\t\t\t\t\t NODE_ID: NODE_5fbd3836-38ce-4075-9c03-bdef6bd97579 \n",
       "\t\t\t\t\t Round 1 Epoch: 8 | Iteration: 20/80 (25%) | Samples: 640/2560\n",
       " \t\t\t\t\t Loss: \u001b[1m0.001862\u001b[0m \n",
       "\t\t\t\t\t ---------"
      ]
     },
     "metadata": {},
     "output_type": "display_data"
    },
    {
     "data": {
      "text/plain": [
       "2025-10-03 03:04:32,470 fedbiomed INFO - \u001b[1mTRAINING\u001b[0m \n",
       "\t\t\t\t\t NODE_ID: NODE_5fbd3836-38ce-4075-9c03-bdef6bd97579 \n",
       "\t\t\t\t\t Round 1 Epoch: 8 | Iteration: 30/80 (38%) | Samples: 960/2560\n",
       " \t\t\t\t\t Loss: \u001b[1m0.000747\u001b[0m \n",
       "\t\t\t\t\t ---------"
      ]
     },
     "metadata": {},
     "output_type": "display_data"
    },
    {
     "data": {
      "text/plain": [
       "2025-10-03 03:04:32,490 fedbiomed INFO - \u001b[1mTRAINING\u001b[0m \n",
       "\t\t\t\t\t NODE_ID: NODE_9da4e82d-e30d-44c2-a481-b8a877e97f4d \n",
       "\t\t\t\t\t Round 1 Epoch: 4 | Iteration: 30/80 (38%) | Samples: 960/2560\n",
       " \t\t\t\t\t Loss: \u001b[1m0.004595\u001b[0m \n",
       "\t\t\t\t\t ---------"
      ]
     },
     "metadata": {},
     "output_type": "display_data"
    },
    {
     "data": {
      "text/plain": [
       "2025-10-03 03:04:32,513 fedbiomed INFO - \u001b[1mTRAINING\u001b[0m \n",
       "\t\t\t\t\t NODE_ID: NODE_9da4e82d-e30d-44c2-a481-b8a877e97f4d \n",
       "\t\t\t\t\t Round 1 Epoch: 4 | Iteration: 40/80 (50%) | Samples: 1280/2560\n",
       " \t\t\t\t\t Loss: \u001b[1m0.006917\u001b[0m \n",
       "\t\t\t\t\t ---------"
      ]
     },
     "metadata": {},
     "output_type": "display_data"
    },
    {
     "data": {
      "text/plain": [
       "2025-10-03 03:04:32,543 fedbiomed INFO - \u001b[1mTRAINING\u001b[0m \n",
       "\t\t\t\t\t NODE_ID: NODE_9da4e82d-e30d-44c2-a481-b8a877e97f4d \n",
       "\t\t\t\t\t Round 1 Epoch: 4 | Iteration: 50/80 (62%) | Samples: 1600/2560\n",
       " \t\t\t\t\t Loss: \u001b[1m0.013229\u001b[0m \n",
       "\t\t\t\t\t ---------"
      ]
     },
     "metadata": {},
     "output_type": "display_data"
    },
    {
     "data": {
      "text/plain": [
       "2025-10-03 03:04:32,571 fedbiomed INFO - \u001b[1mTRAINING\u001b[0m \n",
       "\t\t\t\t\t NODE_ID: NODE_9da4e82d-e30d-44c2-a481-b8a877e97f4d \n",
       "\t\t\t\t\t Round 1 Epoch: 4 | Iteration: 60/80 (75%) | Samples: 1920/2560\n",
       " \t\t\t\t\t Loss: \u001b[1m0.005989\u001b[0m \n",
       "\t\t\t\t\t ---------"
      ]
     },
     "metadata": {},
     "output_type": "display_data"
    },
    {
     "data": {
      "text/plain": [
       "2025-10-03 03:04:32,596 fedbiomed INFO - \u001b[1mTRAINING\u001b[0m \n",
       "\t\t\t\t\t NODE_ID: NODE_9da4e82d-e30d-44c2-a481-b8a877e97f4d \n",
       "\t\t\t\t\t Round 1 Epoch: 4 | Iteration: 70/80 (88%) | Samples: 2240/2560\n",
       " \t\t\t\t\t Loss: \u001b[1m0.002520\u001b[0m \n",
       "\t\t\t\t\t ---------"
      ]
     },
     "metadata": {},
     "output_type": "display_data"
    },
    {
     "data": {
      "text/plain": [
       "2025-10-03 03:04:32,620 fedbiomed INFO - \u001b[1mTRAINING\u001b[0m \n",
       "\t\t\t\t\t NODE_ID: NODE_9da4e82d-e30d-44c2-a481-b8a877e97f4d \n",
       "\t\t\t\t\t Round 1 Epoch: 4 | Iteration: 80/80 (100%) | Samples: 2541/2541\n",
       " \t\t\t\t\t Loss: \u001b[1m0.002576\u001b[0m \n",
       "\t\t\t\t\t ---------"
      ]
     },
     "metadata": {},
     "output_type": "display_data"
    },
    {
     "data": {
      "text/plain": [
       "2025-10-03 03:04:32,625 fedbiomed INFO - \u001b[1mTRAINING\u001b[0m \n",
       "\t\t\t\t\t NODE_ID: NODE_9da4e82d-e30d-44c2-a481-b8a877e97f4d \n",
       "\t\t\t\t\t Round 1 Epoch: 5 | Iteration: 1/80 (1%) | Samples: 32/2560\n",
       " \t\t\t\t\t Loss: \u001b[1m0.002968\u001b[0m \n",
       "\t\t\t\t\t ---------"
      ]
     },
     "metadata": {},
     "output_type": "display_data"
    },
    {
     "data": {
      "text/plain": [
       "2025-10-03 03:04:32,651 fedbiomed INFO - \u001b[1mTRAINING\u001b[0m \n",
       "\t\t\t\t\t NODE_ID: NODE_9da4e82d-e30d-44c2-a481-b8a877e97f4d \n",
       "\t\t\t\t\t Round 1 Epoch: 5 | Iteration: 10/80 (12%) | Samples: 320/2560\n",
       " \t\t\t\t\t Loss: \u001b[1m0.002238\u001b[0m \n",
       "\t\t\t\t\t ---------"
      ]
     },
     "metadata": {},
     "output_type": "display_data"
    },
    {
     "data": {
      "text/plain": [
       "2025-10-03 03:04:32,683 fedbiomed INFO - \u001b[1mTRAINING\u001b[0m \n",
       "\t\t\t\t\t NODE_ID: NODE_9da4e82d-e30d-44c2-a481-b8a877e97f4d \n",
       "\t\t\t\t\t Round 1 Epoch: 5 | Iteration: 20/80 (25%) | Samples: 640/2560\n",
       " \t\t\t\t\t Loss: \u001b[1m0.004532\u001b[0m \n",
       "\t\t\t\t\t ---------"
      ]
     },
     "metadata": {},
     "output_type": "display_data"
    },
    {
     "data": {
      "text/plain": [
       "2025-10-03 03:04:32,719 fedbiomed INFO - \u001b[1mTRAINING\u001b[0m \n",
       "\t\t\t\t\t NODE_ID: NODE_9da4e82d-e30d-44c2-a481-b8a877e97f4d \n",
       "\t\t\t\t\t Round 1 Epoch: 5 | Iteration: 30/80 (38%) | Samples: 960/2560\n",
       " \t\t\t\t\t Loss: \u001b[1m0.001910\u001b[0m \n",
       "\t\t\t\t\t ---------"
      ]
     },
     "metadata": {},
     "output_type": "display_data"
    },
    {
     "data": {
      "text/plain": [
       "2025-10-03 03:04:32,742 fedbiomed INFO - \u001b[1mTRAINING\u001b[0m \n",
       "\t\t\t\t\t NODE_ID: NODE_5fbd3836-38ce-4075-9c03-bdef6bd97579 \n",
       "\t\t\t\t\t Round 1 Epoch: 8 | Iteration: 40/80 (50%) | Samples: 1280/2560\n",
       " \t\t\t\t\t Loss: \u001b[1m0.000704\u001b[0m \n",
       "\t\t\t\t\t ---------"
      ]
     },
     "metadata": {},
     "output_type": "display_data"
    },
    {
     "data": {
      "text/plain": [
       "2025-10-03 03:04:32,764 fedbiomed INFO - \u001b[1mTRAINING\u001b[0m \n",
       "\t\t\t\t\t NODE_ID: NODE_5fbd3836-38ce-4075-9c03-bdef6bd97579 \n",
       "\t\t\t\t\t Round 1 Epoch: 8 | Iteration: 50/80 (62%) | Samples: 1600/2560\n",
       " \t\t\t\t\t Loss: \u001b[1m0.021004\u001b[0m \n",
       "\t\t\t\t\t ---------"
      ]
     },
     "metadata": {},
     "output_type": "display_data"
    },
    {
     "data": {
      "text/plain": [
       "2025-10-03 03:04:32,779 fedbiomed INFO - \u001b[1mTRAINING\u001b[0m \n",
       "\t\t\t\t\t NODE_ID: NODE_5fbd3836-38ce-4075-9c03-bdef6bd97579 \n",
       "\t\t\t\t\t Round 1 Epoch: 8 | Iteration: 60/80 (75%) | Samples: 1920/2560\n",
       " \t\t\t\t\t Loss: \u001b[1m0.021260\u001b[0m \n",
       "\t\t\t\t\t ---------"
      ]
     },
     "metadata": {},
     "output_type": "display_data"
    },
    {
     "data": {
      "text/plain": [
       "2025-10-03 03:04:32,790 fedbiomed INFO - \u001b[1mTRAINING\u001b[0m \n",
       "\t\t\t\t\t NODE_ID: NODE_9da4e82d-e30d-44c2-a481-b8a877e97f4d \n",
       "\t\t\t\t\t Round 1 Epoch: 5 | Iteration: 40/80 (50%) | Samples: 1280/2560\n",
       " \t\t\t\t\t Loss: \u001b[1m0.003473\u001b[0m \n",
       "\t\t\t\t\t ---------"
      ]
     },
     "metadata": {},
     "output_type": "display_data"
    },
    {
     "data": {
      "text/plain": [
       "2025-10-03 03:04:32,794 fedbiomed INFO - \u001b[1mTRAINING\u001b[0m \n",
       "\t\t\t\t\t NODE_ID: NODE_5fbd3836-38ce-4075-9c03-bdef6bd97579 \n",
       "\t\t\t\t\t Round 1 Epoch: 8 | Iteration: 70/80 (88%) | Samples: 2240/2560\n",
       " \t\t\t\t\t Loss: \u001b[1m0.042559\u001b[0m \n",
       "\t\t\t\t\t ---------"
      ]
     },
     "metadata": {},
     "output_type": "display_data"
    },
    {
     "data": {
      "text/plain": [
       "2025-10-03 03:04:32,814 fedbiomed INFO - \u001b[1mTRAINING\u001b[0m \n",
       "\t\t\t\t\t NODE_ID: NODE_9da4e82d-e30d-44c2-a481-b8a877e97f4d \n",
       "\t\t\t\t\t Round 1 Epoch: 5 | Iteration: 50/80 (62%) | Samples: 1600/2560\n",
       " \t\t\t\t\t Loss: \u001b[1m0.001940\u001b[0m \n",
       "\t\t\t\t\t ---------"
      ]
     },
     "metadata": {},
     "output_type": "display_data"
    },
    {
     "data": {
      "text/plain": [
       "2025-10-03 03:04:32,823 fedbiomed INFO - \u001b[1mTRAINING\u001b[0m \n",
       "\t\t\t\t\t NODE_ID: NODE_5fbd3836-38ce-4075-9c03-bdef6bd97579 \n",
       "\t\t\t\t\t Round 1 Epoch: 8 | Iteration: 80/80 (100%) | Samples: 2541/2541\n",
       " \t\t\t\t\t Loss: \u001b[1m0.002266\u001b[0m \n",
       "\t\t\t\t\t ---------"
      ]
     },
     "metadata": {},
     "output_type": "display_data"
    },
    {
     "data": {
      "text/plain": [
       "2025-10-03 03:04:32,845 fedbiomed INFO - \u001b[1mTRAINING\u001b[0m \n",
       "\t\t\t\t\t NODE_ID: NODE_9da4e82d-e30d-44c2-a481-b8a877e97f4d \n",
       "\t\t\t\t\t Round 1 Epoch: 5 | Iteration: 60/80 (75%) | Samples: 1920/2560\n",
       " \t\t\t\t\t Loss: \u001b[1m0.003328\u001b[0m \n",
       "\t\t\t\t\t ---------"
      ]
     },
     "metadata": {},
     "output_type": "display_data"
    },
    {
     "data": {
      "text/plain": [
       "2025-10-03 03:04:32,866 fedbiomed INFO - \u001b[1mTRAINING\u001b[0m \n",
       "\t\t\t\t\t NODE_ID: NODE_5fbd3836-38ce-4075-9c03-bdef6bd97579 \n",
       "\t\t\t\t\t Round 1 Epoch: 9 | Iteration: 1/80 (1%) | Samples: 32/2560\n",
       " \t\t\t\t\t Loss: \u001b[1m0.021062\u001b[0m \n",
       "\t\t\t\t\t ---------"
      ]
     },
     "metadata": {},
     "output_type": "display_data"
    },
    {
     "data": {
      "text/plain": [
       "2025-10-03 03:04:32,867 fedbiomed INFO - \u001b[1mTRAINING\u001b[0m \n",
       "\t\t\t\t\t NODE_ID: NODE_9da4e82d-e30d-44c2-a481-b8a877e97f4d \n",
       "\t\t\t\t\t Round 1 Epoch: 5 | Iteration: 70/80 (88%) | Samples: 2240/2560\n",
       " \t\t\t\t\t Loss: \u001b[1m0.004551\u001b[0m \n",
       "\t\t\t\t\t ---------"
      ]
     },
     "metadata": {},
     "output_type": "display_data"
    },
    {
     "data": {
      "text/plain": [
       "2025-10-03 03:04:32,897 fedbiomed INFO - \u001b[1mTRAINING\u001b[0m \n",
       "\t\t\t\t\t NODE_ID: NODE_9da4e82d-e30d-44c2-a481-b8a877e97f4d \n",
       "\t\t\t\t\t Round 1 Epoch: 5 | Iteration: 80/80 (100%) | Samples: 2541/2541\n",
       " \t\t\t\t\t Loss: \u001b[1m0.004381\u001b[0m \n",
       "\t\t\t\t\t ---------"
      ]
     },
     "metadata": {},
     "output_type": "display_data"
    },
    {
     "data": {
      "text/plain": [
       "2025-10-03 03:04:32,924 fedbiomed INFO - \u001b[1mTRAINING\u001b[0m \n",
       "\t\t\t\t\t NODE_ID: NODE_5fbd3836-38ce-4075-9c03-bdef6bd97579 \n",
       "\t\t\t\t\t Round 1 Epoch: 9 | Iteration: 10/80 (12%) | Samples: 320/2560\n",
       " \t\t\t\t\t Loss: \u001b[1m0.000659\u001b[0m \n",
       "\t\t\t\t\t ---------"
      ]
     },
     "metadata": {},
     "output_type": "display_data"
    },
    {
     "data": {
      "text/plain": [
       "2025-10-03 03:04:32,942 fedbiomed INFO - \u001b[1mTRAINING\u001b[0m \n",
       "\t\t\t\t\t NODE_ID: NODE_9da4e82d-e30d-44c2-a481-b8a877e97f4d \n",
       "\t\t\t\t\t Round 1 Epoch: 6 | Iteration: 1/80 (1%) | Samples: 32/2560\n",
       " \t\t\t\t\t Loss: \u001b[1m0.001756\u001b[0m \n",
       "\t\t\t\t\t ---------"
      ]
     },
     "metadata": {},
     "output_type": "display_data"
    },
    {
     "data": {
      "text/plain": [
       "2025-10-03 03:04:32,956 fedbiomed INFO - \u001b[1mTRAINING\u001b[0m \n",
       "\t\t\t\t\t NODE_ID: NODE_5fbd3836-38ce-4075-9c03-bdef6bd97579 \n",
       "\t\t\t\t\t Round 1 Epoch: 9 | Iteration: 20/80 (25%) | Samples: 640/2560\n",
       " \t\t\t\t\t Loss: \u001b[1m0.001600\u001b[0m \n",
       "\t\t\t\t\t ---------"
      ]
     },
     "metadata": {},
     "output_type": "display_data"
    },
    {
     "data": {
      "text/plain": [
       "2025-10-03 03:04:32,983 fedbiomed INFO - \u001b[1mTRAINING\u001b[0m \n",
       "\t\t\t\t\t NODE_ID: NODE_5fbd3836-38ce-4075-9c03-bdef6bd97579 \n",
       "\t\t\t\t\t Round 1 Epoch: 9 | Iteration: 30/80 (38%) | Samples: 960/2560\n",
       " \t\t\t\t\t Loss: \u001b[1m0.000740\u001b[0m \n",
       "\t\t\t\t\t ---------"
      ]
     },
     "metadata": {},
     "output_type": "display_data"
    },
    {
     "data": {
      "text/plain": [
       "2025-10-03 03:04:32,998 fedbiomed INFO - \u001b[1mTRAINING\u001b[0m \n",
       "\t\t\t\t\t NODE_ID: NODE_5fbd3836-38ce-4075-9c03-bdef6bd97579 \n",
       "\t\t\t\t\t Round 1 Epoch: 9 | Iteration: 40/80 (50%) | Samples: 1280/2560\n",
       " \t\t\t\t\t Loss: \u001b[1m0.020601\u001b[0m \n",
       "\t\t\t\t\t ---------"
      ]
     },
     "metadata": {},
     "output_type": "display_data"
    },
    {
     "data": {
      "text/plain": [
       "2025-10-03 03:04:33,013 fedbiomed INFO - \u001b[1mTRAINING\u001b[0m \n",
       "\t\t\t\t\t NODE_ID: NODE_5fbd3836-38ce-4075-9c03-bdef6bd97579 \n",
       "\t\t\t\t\t Round 1 Epoch: 9 | Iteration: 50/80 (62%) | Samples: 1600/2560\n",
       " \t\t\t\t\t Loss: \u001b[1m0.040630\u001b[0m \n",
       "\t\t\t\t\t ---------"
      ]
     },
     "metadata": {},
     "output_type": "display_data"
    },
    {
     "data": {
      "text/plain": [
       "2025-10-03 03:04:33,031 fedbiomed INFO - \u001b[1mTRAINING\u001b[0m \n",
       "\t\t\t\t\t NODE_ID: NODE_5fbd3836-38ce-4075-9c03-bdef6bd97579 \n",
       "\t\t\t\t\t Round 1 Epoch: 9 | Iteration: 60/80 (75%) | Samples: 1920/2560\n",
       " \t\t\t\t\t Loss: \u001b[1m0.041673\u001b[0m \n",
       "\t\t\t\t\t ---------"
      ]
     },
     "metadata": {},
     "output_type": "display_data"
    },
    {
     "data": {
      "text/plain": [
       "2025-10-03 03:04:33,050 fedbiomed INFO - \u001b[1mTRAINING\u001b[0m \n",
       "\t\t\t\t\t NODE_ID: NODE_5fbd3836-38ce-4075-9c03-bdef6bd97579 \n",
       "\t\t\t\t\t Round 1 Epoch: 9 | Iteration: 70/80 (88%) | Samples: 2240/2560\n",
       " \t\t\t\t\t Loss: \u001b[1m0.001130\u001b[0m \n",
       "\t\t\t\t\t ---------"
      ]
     },
     "metadata": {},
     "output_type": "display_data"
    },
    {
     "data": {
      "text/plain": [
       "2025-10-03 03:04:33,103 fedbiomed INFO - \u001b[1mTRAINING\u001b[0m \n",
       "\t\t\t\t\t NODE_ID: NODE_5fbd3836-38ce-4075-9c03-bdef6bd97579 \n",
       "\t\t\t\t\t Round 1 Epoch: 9 | Iteration: 80/80 (100%) | Samples: 2541/2541\n",
       " \t\t\t\t\t Loss: \u001b[1m0.000867\u001b[0m \n",
       "\t\t\t\t\t ---------"
      ]
     },
     "metadata": {},
     "output_type": "display_data"
    },
    {
     "data": {
      "text/plain": [
       "2025-10-03 03:04:33,108 fedbiomed INFO - \u001b[1mTRAINING\u001b[0m \n",
       "\t\t\t\t\t NODE_ID: NODE_5fbd3836-38ce-4075-9c03-bdef6bd97579 \n",
       "\t\t\t\t\t Round 1 Epoch: 10 | Iteration: 1/80 (1%) | Samples: 32/2560\n",
       " \t\t\t\t\t Loss: \u001b[1m0.001118\u001b[0m \n",
       "\t\t\t\t\t ---------"
      ]
     },
     "metadata": {},
     "output_type": "display_data"
    },
    {
     "data": {
      "text/plain": [
       "2025-10-03 03:04:33,117 fedbiomed INFO - \u001b[1mTRAINING\u001b[0m \n",
       "\t\t\t\t\t NODE_ID: NODE_9da4e82d-e30d-44c2-a481-b8a877e97f4d \n",
       "\t\t\t\t\t Round 1 Epoch: 6 | Iteration: 10/80 (12%) | Samples: 320/2560\n",
       " \t\t\t\t\t Loss: \u001b[1m0.002699\u001b[0m \n",
       "\t\t\t\t\t ---------"
      ]
     },
     "metadata": {},
     "output_type": "display_data"
    },
    {
     "data": {
      "text/plain": [
       "2025-10-03 03:04:33,245 fedbiomed INFO - \u001b[1mTRAINING\u001b[0m \n",
       "\t\t\t\t\t NODE_ID: NODE_9da4e82d-e30d-44c2-a481-b8a877e97f4d \n",
       "\t\t\t\t\t Round 1 Epoch: 6 | Iteration: 20/80 (25%) | Samples: 640/2560\n",
       " \t\t\t\t\t Loss: \u001b[1m0.002092\u001b[0m \n",
       "\t\t\t\t\t ---------"
      ]
     },
     "metadata": {},
     "output_type": "display_data"
    },
    {
     "data": {
      "text/plain": [
       "2025-10-03 03:04:33,295 fedbiomed INFO - \u001b[1mTRAINING\u001b[0m \n",
       "\t\t\t\t\t NODE_ID: NODE_5fbd3836-38ce-4075-9c03-bdef6bd97579 \n",
       "\t\t\t\t\t Round 1 Epoch: 10 | Iteration: 10/80 (12%) | Samples: 320/2560\n",
       " \t\t\t\t\t Loss: \u001b[1m0.000850\u001b[0m \n",
       "\t\t\t\t\t ---------"
      ]
     },
     "metadata": {},
     "output_type": "display_data"
    },
    {
     "data": {
      "text/plain": [
       "2025-10-03 03:04:33,323 fedbiomed INFO - \u001b[1mTRAINING\u001b[0m \n",
       "\t\t\t\t\t NODE_ID: NODE_9da4e82d-e30d-44c2-a481-b8a877e97f4d \n",
       "\t\t\t\t\t Round 1 Epoch: 6 | Iteration: 30/80 (38%) | Samples: 960/2560\n",
       " \t\t\t\t\t Loss: \u001b[1m0.001446\u001b[0m \n",
       "\t\t\t\t\t ---------"
      ]
     },
     "metadata": {},
     "output_type": "display_data"
    },
    {
     "data": {
      "text/plain": [
       "2025-10-03 03:04:33,389 fedbiomed INFO - \u001b[1mTRAINING\u001b[0m \n",
       "\t\t\t\t\t NODE_ID: NODE_9da4e82d-e30d-44c2-a481-b8a877e97f4d \n",
       "\t\t\t\t\t Round 1 Epoch: 6 | Iteration: 40/80 (50%) | Samples: 1280/2560\n",
       " \t\t\t\t\t Loss: \u001b[1m0.001900\u001b[0m \n",
       "\t\t\t\t\t ---------"
      ]
     },
     "metadata": {},
     "output_type": "display_data"
    },
    {
     "data": {
      "text/plain": [
       "2025-10-03 03:04:33,461 fedbiomed INFO - \u001b[1mTRAINING\u001b[0m \n",
       "\t\t\t\t\t NODE_ID: NODE_9da4e82d-e30d-44c2-a481-b8a877e97f4d \n",
       "\t\t\t\t\t Round 1 Epoch: 6 | Iteration: 50/80 (62%) | Samples: 1600/2560\n",
       " \t\t\t\t\t Loss: \u001b[1m0.002111\u001b[0m \n",
       "\t\t\t\t\t ---------"
      ]
     },
     "metadata": {},
     "output_type": "display_data"
    },
    {
     "data": {
      "text/plain": [
       "2025-10-03 03:04:33,463 fedbiomed INFO - \u001b[1mTRAINING\u001b[0m \n",
       "\t\t\t\t\t NODE_ID: NODE_5fbd3836-38ce-4075-9c03-bdef6bd97579 \n",
       "\t\t\t\t\t Round 1 Epoch: 10 | Iteration: 20/80 (25%) | Samples: 640/2560\n",
       " \t\t\t\t\t Loss: \u001b[1m0.000587\u001b[0m \n",
       "\t\t\t\t\t ---------"
      ]
     },
     "metadata": {},
     "output_type": "display_data"
    },
    {
     "data": {
      "text/plain": [
       "2025-10-03 03:04:33,471 fedbiomed INFO - \u001b[1mTRAINING\u001b[0m \n",
       "\t\t\t\t\t NODE_ID: NODE_9da4e82d-e30d-44c2-a481-b8a877e97f4d \n",
       "\t\t\t\t\t Round 1 Epoch: 6 | Iteration: 60/80 (75%) | Samples: 1920/2560\n",
       " \t\t\t\t\t Loss: \u001b[1m0.001323\u001b[0m \n",
       "\t\t\t\t\t ---------"
      ]
     },
     "metadata": {},
     "output_type": "display_data"
    },
    {
     "data": {
      "text/plain": [
       "2025-10-03 03:04:33,503 fedbiomed INFO - \u001b[1mTRAINING\u001b[0m \n",
       "\t\t\t\t\t NODE_ID: NODE_5fbd3836-38ce-4075-9c03-bdef6bd97579 \n",
       "\t\t\t\t\t Round 1 Epoch: 10 | Iteration: 30/80 (38%) | Samples: 960/2560\n",
       " \t\t\t\t\t Loss: \u001b[1m0.000540\u001b[0m \n",
       "\t\t\t\t\t ---------"
      ]
     },
     "metadata": {},
     "output_type": "display_data"
    },
    {
     "data": {
      "text/plain": [
       "2025-10-03 03:04:33,530 fedbiomed INFO - \u001b[1mTRAINING\u001b[0m \n",
       "\t\t\t\t\t NODE_ID: NODE_5fbd3836-38ce-4075-9c03-bdef6bd97579 \n",
       "\t\t\t\t\t Round 1 Epoch: 10 | Iteration: 40/80 (50%) | Samples: 1280/2560\n",
       " \t\t\t\t\t Loss: \u001b[1m0.020382\u001b[0m \n",
       "\t\t\t\t\t ---------"
      ]
     },
     "metadata": {},
     "output_type": "display_data"
    },
    {
     "data": {
      "text/plain": [
       "2025-10-03 03:04:33,560 fedbiomed INFO - \u001b[1mTRAINING\u001b[0m \n",
       "\t\t\t\t\t NODE_ID: NODE_5fbd3836-38ce-4075-9c03-bdef6bd97579 \n",
       "\t\t\t\t\t Round 1 Epoch: 10 | Iteration: 50/80 (62%) | Samples: 1600/2560\n",
       " \t\t\t\t\t Loss: \u001b[1m0.000493\u001b[0m \n",
       "\t\t\t\t\t ---------"
      ]
     },
     "metadata": {},
     "output_type": "display_data"
    },
    {
     "data": {
      "text/plain": [
       "2025-10-03 03:04:33,570 fedbiomed INFO - \u001b[1mTRAINING\u001b[0m \n",
       "\t\t\t\t\t NODE_ID: NODE_9da4e82d-e30d-44c2-a481-b8a877e97f4d \n",
       "\t\t\t\t\t Round 1 Epoch: 6 | Iteration: 70/80 (88%) | Samples: 2240/2560\n",
       " \t\t\t\t\t Loss: \u001b[1m0.002034\u001b[0m \n",
       "\t\t\t\t\t ---------"
      ]
     },
     "metadata": {},
     "output_type": "display_data"
    },
    {
     "data": {
      "text/plain": [
       "2025-10-03 03:04:33,588 fedbiomed INFO - \u001b[1mTRAINING\u001b[0m \n",
       "\t\t\t\t\t NODE_ID: NODE_9da4e82d-e30d-44c2-a481-b8a877e97f4d \n",
       "\t\t\t\t\t Round 1 Epoch: 6 | Iteration: 80/80 (100%) | Samples: 2541/2541\n",
       " \t\t\t\t\t Loss: \u001b[1m0.001404\u001b[0m \n",
       "\t\t\t\t\t ---------"
      ]
     },
     "metadata": {},
     "output_type": "display_data"
    },
    {
     "data": {
      "text/plain": [
       "2025-10-03 03:04:33,592 fedbiomed INFO - \u001b[1mTRAINING\u001b[0m \n",
       "\t\t\t\t\t NODE_ID: NODE_9da4e82d-e30d-44c2-a481-b8a877e97f4d \n",
       "\t\t\t\t\t Round 1 Epoch: 7 | Iteration: 1/80 (1%) | Samples: 32/2560\n",
       " \t\t\t\t\t Loss: \u001b[1m0.003165\u001b[0m \n",
       "\t\t\t\t\t ---------"
      ]
     },
     "metadata": {},
     "output_type": "display_data"
    },
    {
     "data": {
      "text/plain": [
       "2025-10-03 03:04:33,609 fedbiomed INFO - \u001b[1mTRAINING\u001b[0m \n",
       "\t\t\t\t\t NODE_ID: NODE_9da4e82d-e30d-44c2-a481-b8a877e97f4d \n",
       "\t\t\t\t\t Round 1 Epoch: 7 | Iteration: 10/80 (12%) | Samples: 320/2560\n",
       " \t\t\t\t\t Loss: \u001b[1m0.002969\u001b[0m \n",
       "\t\t\t\t\t ---------"
      ]
     },
     "metadata": {},
     "output_type": "display_data"
    },
    {
     "data": {
      "text/plain": [
       "2025-10-03 03:04:33,630 fedbiomed INFO - \u001b[1mTRAINING\u001b[0m \n",
       "\t\t\t\t\t NODE_ID: NODE_9da4e82d-e30d-44c2-a481-b8a877e97f4d \n",
       "\t\t\t\t\t Round 1 Epoch: 7 | Iteration: 20/80 (25%) | Samples: 640/2560\n",
       " \t\t\t\t\t Loss: \u001b[1m0.001981\u001b[0m \n",
       "\t\t\t\t\t ---------"
      ]
     },
     "metadata": {},
     "output_type": "display_data"
    },
    {
     "data": {
      "text/plain": [
       "2025-10-03 03:04:33,651 fedbiomed INFO - \u001b[1mTRAINING\u001b[0m \n",
       "\t\t\t\t\t NODE_ID: NODE_5fbd3836-38ce-4075-9c03-bdef6bd97579 \n",
       "\t\t\t\t\t Round 1 Epoch: 10 | Iteration: 60/80 (75%) | Samples: 1920/2560\n",
       " \t\t\t\t\t Loss: \u001b[1m0.000554\u001b[0m \n",
       "\t\t\t\t\t ---------"
      ]
     },
     "metadata": {},
     "output_type": "display_data"
    },
    {
     "data": {
      "text/plain": [
       "2025-10-03 03:04:33,668 fedbiomed INFO - \u001b[1mTRAINING\u001b[0m \n",
       "\t\t\t\t\t NODE_ID: NODE_5fbd3836-38ce-4075-9c03-bdef6bd97579 \n",
       "\t\t\t\t\t Round 1 Epoch: 10 | Iteration: 70/80 (88%) | Samples: 2240/2560\n",
       " \t\t\t\t\t Loss: \u001b[1m0.000434\u001b[0m \n",
       "\t\t\t\t\t ---------"
      ]
     },
     "metadata": {},
     "output_type": "display_data"
    },
    {
     "data": {
      "text/plain": [
       "2025-10-03 03:04:33,687 fedbiomed INFO - \u001b[1mTRAINING\u001b[0m \n",
       "\t\t\t\t\t NODE_ID: NODE_5fbd3836-38ce-4075-9c03-bdef6bd97579 \n",
       "\t\t\t\t\t Round 1 Epoch: 10 | Iteration: 80/80 (100%) | Samples: 2541/2541\n",
       " \t\t\t\t\t Loss: \u001b[1m0.000527\u001b[0m \n",
       "\t\t\t\t\t ---------"
      ]
     },
     "metadata": {},
     "output_type": "display_data"
    },
    {
     "data": {
      "text/plain": [
       "2025-10-03 03:04:33,710 fedbiomed INFO - \u001b[1mTRAINING\u001b[0m \n",
       "\t\t\t\t\t NODE_ID: NODE_9da4e82d-e30d-44c2-a481-b8a877e97f4d \n",
       "\t\t\t\t\t Round 1 Epoch: 7 | Iteration: 30/80 (38%) | Samples: 960/2560\n",
       " \t\t\t\t\t Loss: \u001b[1m0.001802\u001b[0m \n",
       "\t\t\t\t\t ---------"
      ]
     },
     "metadata": {},
     "output_type": "display_data"
    },
    {
     "data": {
      "text/plain": [
       "2025-10-03 03:04:33,713 fedbiomed INFO - \u001b[1mVALIDATION ON LOCAL UPDATES\u001b[0m \n",
       "\t\t\t\t\t NODE_ID: NODE_5fbd3836-38ce-4075-9c03-bdef6bd97579 \n",
       "\t\t\t\t\t Round 1 | Iteration: 1/1 (100%) | Samples: 635/635\n",
       " \t\t\t\t\t ACCURACY: \u001b[1m0.995276\u001b[0m \n",
       "\t\t\t\t\t ---------"
      ]
     },
     "metadata": {},
     "output_type": "display_data"
    },
    {
     "data": {
      "text/plain": [
       "2025-10-03 03:04:33,734 fedbiomed INFO - \u001b[1mTRAINING\u001b[0m \n",
       "\t\t\t\t\t NODE_ID: NODE_9da4e82d-e30d-44c2-a481-b8a877e97f4d \n",
       "\t\t\t\t\t Round 1 Epoch: 7 | Iteration: 40/80 (50%) | Samples: 1280/2560\n",
       " \t\t\t\t\t Loss: \u001b[1m0.000664\u001b[0m \n",
       "\t\t\t\t\t ---------"
      ]
     },
     "metadata": {},
     "output_type": "display_data"
    },
    {
     "data": {
      "text/plain": [
       "2025-10-03 03:04:33,750 fedbiomed INFO - \u001b[1mTRAINING\u001b[0m \n",
       "\t\t\t\t\t NODE_ID: NODE_9da4e82d-e30d-44c2-a481-b8a877e97f4d \n",
       "\t\t\t\t\t Round 1 Epoch: 7 | Iteration: 50/80 (62%) | Samples: 1600/2560\n",
       " \t\t\t\t\t Loss: \u001b[1m0.001222\u001b[0m \n",
       "\t\t\t\t\t ---------"
      ]
     },
     "metadata": {},
     "output_type": "display_data"
    },
    {
     "data": {
      "text/plain": [
       "2025-10-03 03:04:33,764 fedbiomed INFO - \u001b[1mTRAINING\u001b[0m \n",
       "\t\t\t\t\t NODE_ID: NODE_9da4e82d-e30d-44c2-a481-b8a877e97f4d \n",
       "\t\t\t\t\t Round 1 Epoch: 7 | Iteration: 60/80 (75%) | Samples: 1920/2560\n",
       " \t\t\t\t\t Loss: \u001b[1m0.001519\u001b[0m \n",
       "\t\t\t\t\t ---------"
      ]
     },
     "metadata": {},
     "output_type": "display_data"
    },
    {
     "data": {
      "text/plain": [
       "2025-10-03 03:04:33,779 fedbiomed INFO - \u001b[1mTRAINING\u001b[0m \n",
       "\t\t\t\t\t NODE_ID: NODE_9da4e82d-e30d-44c2-a481-b8a877e97f4d \n",
       "\t\t\t\t\t Round 1 Epoch: 7 | Iteration: 70/80 (88%) | Samples: 2240/2560\n",
       " \t\t\t\t\t Loss: \u001b[1m0.001176\u001b[0m \n",
       "\t\t\t\t\t ---------"
      ]
     },
     "metadata": {},
     "output_type": "display_data"
    },
    {
     "data": {
      "text/plain": [
       "2025-10-03 03:04:33,793 fedbiomed INFO - \u001b[1mTRAINING\u001b[0m \n",
       "\t\t\t\t\t NODE_ID: NODE_9da4e82d-e30d-44c2-a481-b8a877e97f4d \n",
       "\t\t\t\t\t Round 1 Epoch: 7 | Iteration: 80/80 (100%) | Samples: 2541/2541\n",
       " \t\t\t\t\t Loss: \u001b[1m0.000804\u001b[0m \n",
       "\t\t\t\t\t ---------"
      ]
     },
     "metadata": {},
     "output_type": "display_data"
    },
    {
     "data": {
      "text/plain": [
       "2025-10-03 03:04:33,799 fedbiomed INFO - \u001b[1mTRAINING\u001b[0m \n",
       "\t\t\t\t\t NODE_ID: NODE_9da4e82d-e30d-44c2-a481-b8a877e97f4d \n",
       "\t\t\t\t\t Round 1 Epoch: 8 | Iteration: 1/80 (1%) | Samples: 32/2560\n",
       " \t\t\t\t\t Loss: \u001b[1m0.001084\u001b[0m \n",
       "\t\t\t\t\t ---------"
      ]
     },
     "metadata": {},
     "output_type": "display_data"
    },
    {
     "data": {
      "text/plain": [
       "2025-10-03 03:04:33,817 fedbiomed INFO - \u001b[1mTRAINING\u001b[0m \n",
       "\t\t\t\t\t NODE_ID: NODE_9da4e82d-e30d-44c2-a481-b8a877e97f4d \n",
       "\t\t\t\t\t Round 1 Epoch: 8 | Iteration: 10/80 (12%) | Samples: 320/2560\n",
       " \t\t\t\t\t Loss: \u001b[1m0.000625\u001b[0m \n",
       "\t\t\t\t\t ---------"
      ]
     },
     "metadata": {},
     "output_type": "display_data"
    },
    {
     "data": {
      "text/plain": [
       "2025-10-03 03:04:33,832 fedbiomed INFO - \u001b[1mTRAINING\u001b[0m \n",
       "\t\t\t\t\t NODE_ID: NODE_9da4e82d-e30d-44c2-a481-b8a877e97f4d \n",
       "\t\t\t\t\t Round 1 Epoch: 8 | Iteration: 20/80 (25%) | Samples: 640/2560\n",
       " \t\t\t\t\t Loss: \u001b[1m0.002216\u001b[0m \n",
       "\t\t\t\t\t ---------"
      ]
     },
     "metadata": {},
     "output_type": "display_data"
    },
    {
     "data": {
      "text/plain": [
       "2025-10-03 03:04:33,846 fedbiomed INFO - \u001b[1mTRAINING\u001b[0m \n",
       "\t\t\t\t\t NODE_ID: NODE_9da4e82d-e30d-44c2-a481-b8a877e97f4d \n",
       "\t\t\t\t\t Round 1 Epoch: 8 | Iteration: 30/80 (38%) | Samples: 960/2560\n",
       " \t\t\t\t\t Loss: \u001b[1m0.001931\u001b[0m \n",
       "\t\t\t\t\t ---------"
      ]
     },
     "metadata": {},
     "output_type": "display_data"
    },
    {
     "data": {
      "text/plain": [
       "2025-10-03 03:04:33,859 fedbiomed INFO - \u001b[1mTRAINING\u001b[0m \n",
       "\t\t\t\t\t NODE_ID: NODE_9da4e82d-e30d-44c2-a481-b8a877e97f4d \n",
       "\t\t\t\t\t Round 1 Epoch: 8 | Iteration: 40/80 (50%) | Samples: 1280/2560\n",
       " \t\t\t\t\t Loss: \u001b[1m0.001474\u001b[0m \n",
       "\t\t\t\t\t ---------"
      ]
     },
     "metadata": {},
     "output_type": "display_data"
    },
    {
     "data": {
      "text/plain": [
       "2025-10-03 03:04:33,872 fedbiomed INFO - \u001b[1mTRAINING\u001b[0m \n",
       "\t\t\t\t\t NODE_ID: NODE_9da4e82d-e30d-44c2-a481-b8a877e97f4d \n",
       "\t\t\t\t\t Round 1 Epoch: 8 | Iteration: 50/80 (62%) | Samples: 1600/2560\n",
       " \t\t\t\t\t Loss: \u001b[1m0.003223\u001b[0m \n",
       "\t\t\t\t\t ---------"
      ]
     },
     "metadata": {},
     "output_type": "display_data"
    },
    {
     "data": {
      "text/plain": [
       "2025-10-03 03:04:33,890 fedbiomed INFO - \u001b[1mTRAINING\u001b[0m \n",
       "\t\t\t\t\t NODE_ID: NODE_9da4e82d-e30d-44c2-a481-b8a877e97f4d \n",
       "\t\t\t\t\t Round 1 Epoch: 8 | Iteration: 60/80 (75%) | Samples: 1920/2560\n",
       " \t\t\t\t\t Loss: \u001b[1m0.000784\u001b[0m \n",
       "\t\t\t\t\t ---------"
      ]
     },
     "metadata": {},
     "output_type": "display_data"
    },
    {
     "data": {
      "text/plain": [
       "2025-10-03 03:04:33,903 fedbiomed INFO - \u001b[1mTRAINING\u001b[0m \n",
       "\t\t\t\t\t NODE_ID: NODE_9da4e82d-e30d-44c2-a481-b8a877e97f4d \n",
       "\t\t\t\t\t Round 1 Epoch: 8 | Iteration: 70/80 (88%) | Samples: 2240/2560\n",
       " \t\t\t\t\t Loss: \u001b[1m0.000966\u001b[0m \n",
       "\t\t\t\t\t ---------"
      ]
     },
     "metadata": {},
     "output_type": "display_data"
    },
    {
     "data": {
      "text/plain": [
       "2025-10-03 03:04:33,912 fedbiomed INFO - \u001b[1mTRAINING\u001b[0m \n",
       "\t\t\t\t\t NODE_ID: NODE_9da4e82d-e30d-44c2-a481-b8a877e97f4d \n",
       "\t\t\t\t\t Round 1 Epoch: 8 | Iteration: 80/80 (100%) | Samples: 2541/2541\n",
       " \t\t\t\t\t Loss: \u001b[1m0.000853\u001b[0m \n",
       "\t\t\t\t\t ---------"
      ]
     },
     "metadata": {},
     "output_type": "display_data"
    },
    {
     "data": {
      "text/plain": [
       "2025-10-03 03:04:33,915 fedbiomed INFO - \u001b[1mTRAINING\u001b[0m \n",
       "\t\t\t\t\t NODE_ID: NODE_9da4e82d-e30d-44c2-a481-b8a877e97f4d \n",
       "\t\t\t\t\t Round 1 Epoch: 9 | Iteration: 1/80 (1%) | Samples: 32/2560\n",
       " \t\t\t\t\t Loss: \u001b[1m0.000804\u001b[0m \n",
       "\t\t\t\t\t ---------"
      ]
     },
     "metadata": {},
     "output_type": "display_data"
    },
    {
     "data": {
      "text/plain": [
       "2025-10-03 03:04:33,924 fedbiomed INFO - \u001b[1mTRAINING\u001b[0m \n",
       "\t\t\t\t\t NODE_ID: NODE_9da4e82d-e30d-44c2-a481-b8a877e97f4d \n",
       "\t\t\t\t\t Round 1 Epoch: 9 | Iteration: 10/80 (12%) | Samples: 320/2560\n",
       " \t\t\t\t\t Loss: \u001b[1m0.001306\u001b[0m \n",
       "\t\t\t\t\t ---------"
      ]
     },
     "metadata": {},
     "output_type": "display_data"
    },
    {
     "data": {
      "text/plain": [
       "2025-10-03 03:04:33,939 fedbiomed INFO - \u001b[1mTRAINING\u001b[0m \n",
       "\t\t\t\t\t NODE_ID: NODE_9da4e82d-e30d-44c2-a481-b8a877e97f4d \n",
       "\t\t\t\t\t Round 1 Epoch: 9 | Iteration: 20/80 (25%) | Samples: 640/2560\n",
       " \t\t\t\t\t Loss: \u001b[1m0.001972\u001b[0m \n",
       "\t\t\t\t\t ---------"
      ]
     },
     "metadata": {},
     "output_type": "display_data"
    },
    {
     "data": {
      "text/plain": [
       "2025-10-03 03:04:33,957 fedbiomed INFO - \u001b[1mTRAINING\u001b[0m \n",
       "\t\t\t\t\t NODE_ID: NODE_9da4e82d-e30d-44c2-a481-b8a877e97f4d \n",
       "\t\t\t\t\t Round 1 Epoch: 9 | Iteration: 30/80 (38%) | Samples: 960/2560\n",
       " \t\t\t\t\t Loss: \u001b[1m0.000704\u001b[0m \n",
       "\t\t\t\t\t ---------"
      ]
     },
     "metadata": {},
     "output_type": "display_data"
    },
    {
     "data": {
      "text/plain": [
       "2025-10-03 03:04:33,967 fedbiomed INFO - \u001b[1mTRAINING\u001b[0m \n",
       "\t\t\t\t\t NODE_ID: NODE_9da4e82d-e30d-44c2-a481-b8a877e97f4d \n",
       "\t\t\t\t\t Round 1 Epoch: 9 | Iteration: 40/80 (50%) | Samples: 1280/2560\n",
       " \t\t\t\t\t Loss: \u001b[1m0.000542\u001b[0m \n",
       "\t\t\t\t\t ---------"
      ]
     },
     "metadata": {},
     "output_type": "display_data"
    },
    {
     "data": {
      "text/plain": [
       "2025-10-03 03:04:33,983 fedbiomed INFO - \u001b[1mTRAINING\u001b[0m \n",
       "\t\t\t\t\t NODE_ID: NODE_9da4e82d-e30d-44c2-a481-b8a877e97f4d \n",
       "\t\t\t\t\t Round 1 Epoch: 9 | Iteration: 50/80 (62%) | Samples: 1600/2560\n",
       " \t\t\t\t\t Loss: \u001b[1m0.000878\u001b[0m \n",
       "\t\t\t\t\t ---------"
      ]
     },
     "metadata": {},
     "output_type": "display_data"
    },
    {
     "data": {
      "text/plain": [
       "2025-10-03 03:04:33,999 fedbiomed INFO - \u001b[1mTRAINING\u001b[0m \n",
       "\t\t\t\t\t NODE_ID: NODE_9da4e82d-e30d-44c2-a481-b8a877e97f4d \n",
       "\t\t\t\t\t Round 1 Epoch: 9 | Iteration: 60/80 (75%) | Samples: 1920/2560\n",
       " \t\t\t\t\t Loss: \u001b[1m0.000511\u001b[0m \n",
       "\t\t\t\t\t ---------"
      ]
     },
     "metadata": {},
     "output_type": "display_data"
    },
    {
     "data": {
      "text/plain": [
       "2025-10-03 03:04:34,011 fedbiomed INFO - \u001b[1mTRAINING\u001b[0m \n",
       "\t\t\t\t\t NODE_ID: NODE_9da4e82d-e30d-44c2-a481-b8a877e97f4d \n",
       "\t\t\t\t\t Round 1 Epoch: 9 | Iteration: 70/80 (88%) | Samples: 2240/2560\n",
       " \t\t\t\t\t Loss: \u001b[1m0.000965\u001b[0m \n",
       "\t\t\t\t\t ---------"
      ]
     },
     "metadata": {},
     "output_type": "display_data"
    },
    {
     "data": {
      "text/plain": [
       "2025-10-03 03:04:34,025 fedbiomed INFO - \u001b[1mTRAINING\u001b[0m \n",
       "\t\t\t\t\t NODE_ID: NODE_9da4e82d-e30d-44c2-a481-b8a877e97f4d \n",
       "\t\t\t\t\t Round 1 Epoch: 9 | Iteration: 80/80 (100%) | Samples: 2541/2541\n",
       " \t\t\t\t\t Loss: \u001b[1m0.000434\u001b[0m \n",
       "\t\t\t\t\t ---------"
      ]
     },
     "metadata": {},
     "output_type": "display_data"
    },
    {
     "data": {
      "text/plain": [
       "2025-10-03 03:04:34,029 fedbiomed INFO - \u001b[1mTRAINING\u001b[0m \n",
       "\t\t\t\t\t NODE_ID: NODE_9da4e82d-e30d-44c2-a481-b8a877e97f4d \n",
       "\t\t\t\t\t Round 1 Epoch: 10 | Iteration: 1/80 (1%) | Samples: 32/2560\n",
       " \t\t\t\t\t Loss: \u001b[1m0.001111\u001b[0m \n",
       "\t\t\t\t\t ---------"
      ]
     },
     "metadata": {},
     "output_type": "display_data"
    },
    {
     "data": {
      "text/plain": [
       "2025-10-03 03:04:34,050 fedbiomed INFO - \u001b[1mTRAINING\u001b[0m \n",
       "\t\t\t\t\t NODE_ID: NODE_9da4e82d-e30d-44c2-a481-b8a877e97f4d \n",
       "\t\t\t\t\t Round 1 Epoch: 10 | Iteration: 10/80 (12%) | Samples: 320/2560\n",
       " \t\t\t\t\t Loss: \u001b[1m0.000995\u001b[0m \n",
       "\t\t\t\t\t ---------"
      ]
     },
     "metadata": {},
     "output_type": "display_data"
    },
    {
     "data": {
      "text/plain": [
       "2025-10-03 03:04:34,060 fedbiomed INFO - \u001b[1mTRAINING\u001b[0m \n",
       "\t\t\t\t\t NODE_ID: NODE_9da4e82d-e30d-44c2-a481-b8a877e97f4d \n",
       "\t\t\t\t\t Round 1 Epoch: 10 | Iteration: 20/80 (25%) | Samples: 640/2560\n",
       " \t\t\t\t\t Loss: \u001b[1m0.001212\u001b[0m \n",
       "\t\t\t\t\t ---------"
      ]
     },
     "metadata": {},
     "output_type": "display_data"
    },
    {
     "data": {
      "text/plain": [
       "2025-10-03 03:04:34,079 fedbiomed INFO - \u001b[1mTRAINING\u001b[0m \n",
       "\t\t\t\t\t NODE_ID: NODE_9da4e82d-e30d-44c2-a481-b8a877e97f4d \n",
       "\t\t\t\t\t Round 1 Epoch: 10 | Iteration: 30/80 (38%) | Samples: 960/2560\n",
       " \t\t\t\t\t Loss: \u001b[1m0.000785\u001b[0m \n",
       "\t\t\t\t\t ---------"
      ]
     },
     "metadata": {},
     "output_type": "display_data"
    },
    {
     "data": {
      "text/plain": [
       "2025-10-03 03:04:34,091 fedbiomed INFO - \u001b[1mTRAINING\u001b[0m \n",
       "\t\t\t\t\t NODE_ID: NODE_9da4e82d-e30d-44c2-a481-b8a877e97f4d \n",
       "\t\t\t\t\t Round 1 Epoch: 10 | Iteration: 40/80 (50%) | Samples: 1280/2560\n",
       " \t\t\t\t\t Loss: \u001b[1m0.000493\u001b[0m \n",
       "\t\t\t\t\t ---------"
      ]
     },
     "metadata": {},
     "output_type": "display_data"
    },
    {
     "data": {
      "text/plain": [
       "2025-10-03 03:04:34,111 fedbiomed INFO - \u001b[1mTRAINING\u001b[0m \n",
       "\t\t\t\t\t NODE_ID: NODE_9da4e82d-e30d-44c2-a481-b8a877e97f4d \n",
       "\t\t\t\t\t Round 1 Epoch: 10 | Iteration: 50/80 (62%) | Samples: 1600/2560\n",
       " \t\t\t\t\t Loss: \u001b[1m0.000412\u001b[0m \n",
       "\t\t\t\t\t ---------"
      ]
     },
     "metadata": {},
     "output_type": "display_data"
    },
    {
     "data": {
      "text/plain": [
       "2025-10-03 03:04:34,127 fedbiomed INFO - \u001b[1mTRAINING\u001b[0m \n",
       "\t\t\t\t\t NODE_ID: NODE_9da4e82d-e30d-44c2-a481-b8a877e97f4d \n",
       "\t\t\t\t\t Round 1 Epoch: 10 | Iteration: 60/80 (75%) | Samples: 1920/2560\n",
       " \t\t\t\t\t Loss: \u001b[1m0.000582\u001b[0m \n",
       "\t\t\t\t\t ---------"
      ]
     },
     "metadata": {},
     "output_type": "display_data"
    },
    {
     "data": {
      "text/plain": [
       "2025-10-03 03:04:34,139 fedbiomed INFO - \u001b[1mTRAINING\u001b[0m \n",
       "\t\t\t\t\t NODE_ID: NODE_9da4e82d-e30d-44c2-a481-b8a877e97f4d \n",
       "\t\t\t\t\t Round 1 Epoch: 10 | Iteration: 70/80 (88%) | Samples: 2240/2560\n",
       " \t\t\t\t\t Loss: \u001b[1m0.000926\u001b[0m \n",
       "\t\t\t\t\t ---------"
      ]
     },
     "metadata": {},
     "output_type": "display_data"
    },
    {
     "data": {
      "text/plain": [
       "2025-10-03 03:04:34,153 fedbiomed INFO - \u001b[1mTRAINING\u001b[0m \n",
       "\t\t\t\t\t NODE_ID: NODE_9da4e82d-e30d-44c2-a481-b8a877e97f4d \n",
       "\t\t\t\t\t Round 1 Epoch: 10 | Iteration: 80/80 (100%) | Samples: 2541/2541\n",
       " \t\t\t\t\t Loss: \u001b[1m0.000626\u001b[0m \n",
       "\t\t\t\t\t ---------"
      ]
     },
     "metadata": {},
     "output_type": "display_data"
    },
    {
     "data": {
      "text/plain": [
       "2025-10-03 03:04:34,163 fedbiomed INFO - \u001b[1mVALIDATION ON LOCAL UPDATES\u001b[0m \n",
       "\t\t\t\t\t NODE_ID: NODE_9da4e82d-e30d-44c2-a481-b8a877e97f4d \n",
       "\t\t\t\t\t Round 1 | Iteration: 1/1 (100%) | Samples: 635/635\n",
       " \t\t\t\t\t ACCURACY: \u001b[1m1.000000\u001b[0m \n",
       "\t\t\t\t\t ---------"
      ]
     },
     "metadata": {},
     "output_type": "display_data"
    },
    {
     "data": {
      "text/plain": [
       "2025-10-03 03:04:34,647 fedbiomed INFO - Nodes that successfully reply in round 0 ['NODE_9da4e82d-e30d-44c2-a481-b8a877e97f4d', 'NODE_5fbd3836-38ce-4075-9c03-bdef6bd97579']"
      ]
     },
     "metadata": {},
     "output_type": "display_data"
    },
    {
     "data": {
      "text/plain": [
       "2025-10-03 03:04:34,651 fedbiomed INFO - Sampled nodes in round 1 ['NODE_9da4e82d-e30d-44c2-a481-b8a877e97f4d', 'NODE_5fbd3836-38ce-4075-9c03-bdef6bd97579']"
      ]
     },
     "metadata": {},
     "output_type": "display_data"
    },
    {
     "name": "stdout",
     "output_type": "stream",
     "text": [
      "<function extract_symbols at 0x7f19a038bac0>\n"
     ]
    },
    {
     "data": {
      "text/plain": [
       "2025-10-03 03:04:34,655 fedbiomed INFO - \u001b[1mSending request\u001b[0m \n",
       "\t\t\t\t\t\u001b[1m To\u001b[0m: NODE_9da4e82d-e30d-44c2-a481-b8a877e97f4d \n",
       "\t\t\t\t\t\u001b[1m Request: \u001b[0m: TRAIN\n",
       " -----------------------------------------------------------------"
      ]
     },
     "metadata": {},
     "output_type": "display_data"
    },
    {
     "data": {
      "text/plain": [
       "2025-10-03 03:04:34,657 fedbiomed INFO - \u001b[1mSending request\u001b[0m \n",
       "\t\t\t\t\t\u001b[1m To\u001b[0m: NODE_5fbd3836-38ce-4075-9c03-bdef6bd97579 \n",
       "\t\t\t\t\t\u001b[1m Request: \u001b[0m: TRAIN\n",
       " -----------------------------------------------------------------"
      ]
     },
     "metadata": {},
     "output_type": "display_data"
    },
    {
     "data": {
      "text/plain": [
       "2025-10-03 03:04:34,667 fedbiomed DEBUG - Node: NODE_9da4e82d-e30d-44c2-a481-b8a877e97f4d polling for the tasks"
      ]
     },
     "metadata": {},
     "output_type": "display_data"
    },
    {
     "data": {
      "text/plain": [
       "2025-10-03 03:04:34,669 fedbiomed DEBUG - Node: NODE_5fbd3836-38ce-4075-9c03-bdef6bd97579 polling for the tasks"
      ]
     },
     "metadata": {},
     "output_type": "display_data"
    },
    {
     "data": {
      "text/plain": [
       "2025-10-03 03:04:35,080 fedbiomed INFO - \u001b[1mVALIDATION ON GLOBAL UPDATES\u001b[0m \n",
       "\t\t\t\t\t NODE_ID: NODE_5fbd3836-38ce-4075-9c03-bdef6bd97579 \n",
       "\t\t\t\t\t Round 2 | Iteration: 1/1 (100%) | Samples: 635/635\n",
       " \t\t\t\t\t ACCURACY: \u001b[1m0.996850\u001b[0m \n",
       "\t\t\t\t\t ---------"
      ]
     },
     "metadata": {},
     "output_type": "display_data"
    },
    {
     "data": {
      "text/plain": [
       "2025-10-03 03:04:35,084 fedbiomed INFO - \u001b[1mTRAINING\u001b[0m \n",
       "\t\t\t\t\t NODE_ID: NODE_5fbd3836-38ce-4075-9c03-bdef6bd97579 \n",
       "\t\t\t\t\t Round 2 Epoch: 1 | Iteration: 1/80 (1%) | Samples: 32/2560\n",
       " \t\t\t\t\t Loss: \u001b[1m0.000441\u001b[0m \n",
       "\t\t\t\t\t ---------"
      ]
     },
     "metadata": {},
     "output_type": "display_data"
    },
    {
     "data": {
      "text/plain": [
       "2025-10-03 03:04:35,097 fedbiomed INFO - \u001b[1mTRAINING\u001b[0m \n",
       "\t\t\t\t\t NODE_ID: NODE_5fbd3836-38ce-4075-9c03-bdef6bd97579 \n",
       "\t\t\t\t\t Round 2 Epoch: 1 | Iteration: 10/80 (12%) | Samples: 320/2560\n",
       " \t\t\t\t\t Loss: \u001b[1m0.029870\u001b[0m \n",
       "\t\t\t\t\t ---------"
      ]
     },
     "metadata": {},
     "output_type": "display_data"
    },
    {
     "data": {
      "text/plain": [
       "2025-10-03 03:04:35,110 fedbiomed INFO - \u001b[1mTRAINING\u001b[0m \n",
       "\t\t\t\t\t NODE_ID: NODE_5fbd3836-38ce-4075-9c03-bdef6bd97579 \n",
       "\t\t\t\t\t Round 2 Epoch: 1 | Iteration: 20/80 (25%) | Samples: 640/2560\n",
       " \t\t\t\t\t Loss: \u001b[1m0.000398\u001b[0m \n",
       "\t\t\t\t\t ---------"
      ]
     },
     "metadata": {},
     "output_type": "display_data"
    },
    {
     "data": {
      "text/plain": [
       "2025-10-03 03:04:35,131 fedbiomed INFO - \u001b[1mTRAINING\u001b[0m \n",
       "\t\t\t\t\t NODE_ID: NODE_5fbd3836-38ce-4075-9c03-bdef6bd97579 \n",
       "\t\t\t\t\t Round 2 Epoch: 1 | Iteration: 30/80 (38%) | Samples: 960/2560\n",
       " \t\t\t\t\t Loss: \u001b[1m0.002012\u001b[0m \n",
       "\t\t\t\t\t ---------"
      ]
     },
     "metadata": {},
     "output_type": "display_data"
    },
    {
     "data": {
      "text/plain": [
       "2025-10-03 03:04:35,147 fedbiomed INFO - \u001b[1mTRAINING\u001b[0m \n",
       "\t\t\t\t\t NODE_ID: NODE_5fbd3836-38ce-4075-9c03-bdef6bd97579 \n",
       "\t\t\t\t\t Round 2 Epoch: 1 | Iteration: 40/80 (50%) | Samples: 1280/2560\n",
       " \t\t\t\t\t Loss: \u001b[1m0.000748\u001b[0m \n",
       "\t\t\t\t\t ---------"
      ]
     },
     "metadata": {},
     "output_type": "display_data"
    },
    {
     "data": {
      "text/plain": [
       "2025-10-03 03:04:35,158 fedbiomed INFO - \u001b[1mTRAINING\u001b[0m \n",
       "\t\t\t\t\t NODE_ID: NODE_5fbd3836-38ce-4075-9c03-bdef6bd97579 \n",
       "\t\t\t\t\t Round 2 Epoch: 1 | Iteration: 50/80 (62%) | Samples: 1600/2560\n",
       " \t\t\t\t\t Loss: \u001b[1m0.000209\u001b[0m \n",
       "\t\t\t\t\t ---------"
      ]
     },
     "metadata": {},
     "output_type": "display_data"
    },
    {
     "data": {
      "text/plain": [
       "2025-10-03 03:04:35,173 fedbiomed INFO - \u001b[1mVALIDATION ON GLOBAL UPDATES\u001b[0m \n",
       "\t\t\t\t\t NODE_ID: NODE_9da4e82d-e30d-44c2-a481-b8a877e97f4d \n",
       "\t\t\t\t\t Round 2 | Iteration: 1/1 (100%) | Samples: 635/635\n",
       " \t\t\t\t\t ACCURACY: \u001b[1m0.998425\u001b[0m \n",
       "\t\t\t\t\t ---------"
      ]
     },
     "metadata": {},
     "output_type": "display_data"
    },
    {
     "data": {
      "text/plain": [
       "2025-10-03 03:04:35,216 fedbiomed INFO - \u001b[1mTRAINING\u001b[0m \n",
       "\t\t\t\t\t NODE_ID: NODE_5fbd3836-38ce-4075-9c03-bdef6bd97579 \n",
       "\t\t\t\t\t Round 2 Epoch: 1 | Iteration: 60/80 (75%) | Samples: 1920/2560\n",
       " \t\t\t\t\t Loss: \u001b[1m0.001732\u001b[0m \n",
       "\t\t\t\t\t ---------"
      ]
     },
     "metadata": {},
     "output_type": "display_data"
    },
    {
     "data": {
      "text/plain": [
       "2025-10-03 03:04:35,225 fedbiomed INFO - \u001b[1mTRAINING\u001b[0m \n",
       "\t\t\t\t\t NODE_ID: NODE_9da4e82d-e30d-44c2-a481-b8a877e97f4d \n",
       "\t\t\t\t\t Round 2 Epoch: 1 | Iteration: 1/80 (1%) | Samples: 32/2560\n",
       " \t\t\t\t\t Loss: \u001b[1m0.027592\u001b[0m \n",
       "\t\t\t\t\t ---------"
      ]
     },
     "metadata": {},
     "output_type": "display_data"
    },
    {
     "data": {
      "text/plain": [
       "2025-10-03 03:04:35,276 fedbiomed INFO - \u001b[1mTRAINING\u001b[0m \n",
       "\t\t\t\t\t NODE_ID: NODE_5fbd3836-38ce-4075-9c03-bdef6bd97579 \n",
       "\t\t\t\t\t Round 2 Epoch: 1 | Iteration: 70/80 (88%) | Samples: 2240/2560\n",
       " \t\t\t\t\t Loss: \u001b[1m0.000123\u001b[0m \n",
       "\t\t\t\t\t ---------"
      ]
     },
     "metadata": {},
     "output_type": "display_data"
    },
    {
     "data": {
      "text/plain": [
       "2025-10-03 03:04:35,307 fedbiomed INFO - \u001b[1mTRAINING\u001b[0m \n",
       "\t\t\t\t\t NODE_ID: NODE_9da4e82d-e30d-44c2-a481-b8a877e97f4d \n",
       "\t\t\t\t\t Round 2 Epoch: 1 | Iteration: 10/80 (12%) | Samples: 320/2560\n",
       " \t\t\t\t\t Loss: \u001b[1m0.000246\u001b[0m \n",
       "\t\t\t\t\t ---------"
      ]
     },
     "metadata": {},
     "output_type": "display_data"
    },
    {
     "data": {
      "text/plain": [
       "2025-10-03 03:04:35,347 fedbiomed INFO - \u001b[1mTRAINING\u001b[0m \n",
       "\t\t\t\t\t NODE_ID: NODE_9da4e82d-e30d-44c2-a481-b8a877e97f4d \n",
       "\t\t\t\t\t Round 2 Epoch: 1 | Iteration: 20/80 (25%) | Samples: 640/2560\n",
       " \t\t\t\t\t Loss: \u001b[1m0.000474\u001b[0m \n",
       "\t\t\t\t\t ---------"
      ]
     },
     "metadata": {},
     "output_type": "display_data"
    },
    {
     "data": {
      "text/plain": [
       "2025-10-03 03:04:35,382 fedbiomed INFO - \u001b[1mTRAINING\u001b[0m \n",
       "\t\t\t\t\t NODE_ID: NODE_9da4e82d-e30d-44c2-a481-b8a877e97f4d \n",
       "\t\t\t\t\t Round 2 Epoch: 1 | Iteration: 30/80 (38%) | Samples: 960/2560\n",
       " \t\t\t\t\t Loss: \u001b[1m0.003890\u001b[0m \n",
       "\t\t\t\t\t ---------"
      ]
     },
     "metadata": {},
     "output_type": "display_data"
    },
    {
     "data": {
      "text/plain": [
       "2025-10-03 03:04:35,414 fedbiomed INFO - \u001b[1mTRAINING\u001b[0m \n",
       "\t\t\t\t\t NODE_ID: NODE_5fbd3836-38ce-4075-9c03-bdef6bd97579 \n",
       "\t\t\t\t\t Round 2 Epoch: 1 | Iteration: 80/80 (100%) | Samples: 2541/2541\n",
       " \t\t\t\t\t Loss: \u001b[1m0.000337\u001b[0m \n",
       "\t\t\t\t\t ---------"
      ]
     },
     "metadata": {},
     "output_type": "display_data"
    },
    {
     "data": {
      "text/plain": [
       "2025-10-03 03:04:35,426 fedbiomed INFO - \u001b[1mTRAINING\u001b[0m \n",
       "\t\t\t\t\t NODE_ID: NODE_9da4e82d-e30d-44c2-a481-b8a877e97f4d \n",
       "\t\t\t\t\t Round 2 Epoch: 1 | Iteration: 40/80 (50%) | Samples: 1280/2560\n",
       " \t\t\t\t\t Loss: \u001b[1m0.001600\u001b[0m \n",
       "\t\t\t\t\t ---------"
      ]
     },
     "metadata": {},
     "output_type": "display_data"
    },
    {
     "data": {
      "text/plain": [
       "2025-10-03 03:04:35,445 fedbiomed INFO - \u001b[1mTRAINING\u001b[0m \n",
       "\t\t\t\t\t NODE_ID: NODE_5fbd3836-38ce-4075-9c03-bdef6bd97579 \n",
       "\t\t\t\t\t Round 2 Epoch: 2 | Iteration: 1/80 (1%) | Samples: 32/2560\n",
       " \t\t\t\t\t Loss: \u001b[1m0.000388\u001b[0m \n",
       "\t\t\t\t\t ---------"
      ]
     },
     "metadata": {},
     "output_type": "display_data"
    },
    {
     "data": {
      "text/plain": [
       "2025-10-03 03:04:35,461 fedbiomed INFO - \u001b[1mTRAINING\u001b[0m \n",
       "\t\t\t\t\t NODE_ID: NODE_9da4e82d-e30d-44c2-a481-b8a877e97f4d \n",
       "\t\t\t\t\t Round 2 Epoch: 1 | Iteration: 50/80 (62%) | Samples: 1600/2560\n",
       " \t\t\t\t\t Loss: \u001b[1m0.000351\u001b[0m \n",
       "\t\t\t\t\t ---------"
      ]
     },
     "metadata": {},
     "output_type": "display_data"
    },
    {
     "data": {
      "text/plain": [
       "2025-10-03 03:04:35,484 fedbiomed INFO - \u001b[1mTRAINING\u001b[0m \n",
       "\t\t\t\t\t NODE_ID: NODE_9da4e82d-e30d-44c2-a481-b8a877e97f4d \n",
       "\t\t\t\t\t Round 2 Epoch: 1 | Iteration: 60/80 (75%) | Samples: 1920/2560\n",
       " \t\t\t\t\t Loss: \u001b[1m0.000606\u001b[0m \n",
       "\t\t\t\t\t ---------"
      ]
     },
     "metadata": {},
     "output_type": "display_data"
    },
    {
     "data": {
      "text/plain": [
       "2025-10-03 03:04:35,504 fedbiomed INFO - \u001b[1mTRAINING\u001b[0m \n",
       "\t\t\t\t\t NODE_ID: NODE_9da4e82d-e30d-44c2-a481-b8a877e97f4d \n",
       "\t\t\t\t\t Round 2 Epoch: 1 | Iteration: 70/80 (88%) | Samples: 2240/2560\n",
       " \t\t\t\t\t Loss: \u001b[1m0.000491\u001b[0m \n",
       "\t\t\t\t\t ---------"
      ]
     },
     "metadata": {},
     "output_type": "display_data"
    },
    {
     "data": {
      "text/plain": [
       "2025-10-03 03:04:35,521 fedbiomed INFO - \u001b[1mTRAINING\u001b[0m \n",
       "\t\t\t\t\t NODE_ID: NODE_9da4e82d-e30d-44c2-a481-b8a877e97f4d \n",
       "\t\t\t\t\t Round 2 Epoch: 1 | Iteration: 80/80 (100%) | Samples: 2541/2541\n",
       " \t\t\t\t\t Loss: \u001b[1m0.002203\u001b[0m \n",
       "\t\t\t\t\t ---------"
      ]
     },
     "metadata": {},
     "output_type": "display_data"
    },
    {
     "data": {
      "text/plain": [
       "2025-10-03 03:04:35,524 fedbiomed INFO - \u001b[1mTRAINING\u001b[0m \n",
       "\t\t\t\t\t NODE_ID: NODE_9da4e82d-e30d-44c2-a481-b8a877e97f4d \n",
       "\t\t\t\t\t Round 2 Epoch: 2 | Iteration: 1/80 (1%) | Samples: 32/2560\n",
       " \t\t\t\t\t Loss: \u001b[1m0.000510\u001b[0m \n",
       "\t\t\t\t\t ---------"
      ]
     },
     "metadata": {},
     "output_type": "display_data"
    },
    {
     "data": {
      "text/plain": [
       "2025-10-03 03:04:35,542 fedbiomed INFO - \u001b[1mTRAINING\u001b[0m \n",
       "\t\t\t\t\t NODE_ID: NODE_9da4e82d-e30d-44c2-a481-b8a877e97f4d \n",
       "\t\t\t\t\t Round 2 Epoch: 2 | Iteration: 10/80 (12%) | Samples: 320/2560\n",
       " \t\t\t\t\t Loss: \u001b[1m0.000589\u001b[0m \n",
       "\t\t\t\t\t ---------"
      ]
     },
     "metadata": {},
     "output_type": "display_data"
    },
    {
     "data": {
      "text/plain": [
       "2025-10-03 03:04:35,562 fedbiomed INFO - \u001b[1mTRAINING\u001b[0m \n",
       "\t\t\t\t\t NODE_ID: NODE_9da4e82d-e30d-44c2-a481-b8a877e97f4d \n",
       "\t\t\t\t\t Round 2 Epoch: 2 | Iteration: 20/80 (25%) | Samples: 640/2560\n",
       " \t\t\t\t\t Loss: \u001b[1m0.000469\u001b[0m \n",
       "\t\t\t\t\t ---------"
      ]
     },
     "metadata": {},
     "output_type": "display_data"
    },
    {
     "data": {
      "text/plain": [
       "2025-10-03 03:04:35,579 fedbiomed INFO - \u001b[1mTRAINING\u001b[0m \n",
       "\t\t\t\t\t NODE_ID: NODE_5fbd3836-38ce-4075-9c03-bdef6bd97579 \n",
       "\t\t\t\t\t Round 2 Epoch: 2 | Iteration: 10/80 (12%) | Samples: 320/2560\n",
       " \t\t\t\t\t Loss: \u001b[1m0.000470\u001b[0m \n",
       "\t\t\t\t\t ---------"
      ]
     },
     "metadata": {},
     "output_type": "display_data"
    },
    {
     "data": {
      "text/plain": [
       "2025-10-03 03:04:35,598 fedbiomed INFO - \u001b[1mTRAINING\u001b[0m \n",
       "\t\t\t\t\t NODE_ID: NODE_5fbd3836-38ce-4075-9c03-bdef6bd97579 \n",
       "\t\t\t\t\t Round 2 Epoch: 2 | Iteration: 20/80 (25%) | Samples: 640/2560\n",
       " \t\t\t\t\t Loss: \u001b[1m0.000151\u001b[0m \n",
       "\t\t\t\t\t ---------"
      ]
     },
     "metadata": {},
     "output_type": "display_data"
    },
    {
     "data": {
      "text/plain": [
       "2025-10-03 03:04:35,616 fedbiomed INFO - \u001b[1mTRAINING\u001b[0m \n",
       "\t\t\t\t\t NODE_ID: NODE_5fbd3836-38ce-4075-9c03-bdef6bd97579 \n",
       "\t\t\t\t\t Round 2 Epoch: 2 | Iteration: 30/80 (38%) | Samples: 960/2560\n",
       " \t\t\t\t\t Loss: \u001b[1m0.000059\u001b[0m \n",
       "\t\t\t\t\t ---------"
      ]
     },
     "metadata": {},
     "output_type": "display_data"
    },
    {
     "data": {
      "text/plain": [
       "2025-10-03 03:04:35,641 fedbiomed INFO - \u001b[1mTRAINING\u001b[0m \n",
       "\t\t\t\t\t NODE_ID: NODE_5fbd3836-38ce-4075-9c03-bdef6bd97579 \n",
       "\t\t\t\t\t Round 2 Epoch: 2 | Iteration: 40/80 (50%) | Samples: 1280/2560\n",
       " \t\t\t\t\t Loss: \u001b[1m0.000285\u001b[0m \n",
       "\t\t\t\t\t ---------"
      ]
     },
     "metadata": {},
     "output_type": "display_data"
    },
    {
     "data": {
      "text/plain": [
       "2025-10-03 03:04:35,668 fedbiomed INFO - \u001b[1mTRAINING\u001b[0m \n",
       "\t\t\t\t\t NODE_ID: NODE_5fbd3836-38ce-4075-9c03-bdef6bd97579 \n",
       "\t\t\t\t\t Round 2 Epoch: 2 | Iteration: 50/80 (62%) | Samples: 1600/2560\n",
       " \t\t\t\t\t Loss: \u001b[1m0.000126\u001b[0m \n",
       "\t\t\t\t\t ---------"
      ]
     },
     "metadata": {},
     "output_type": "display_data"
    },
    {
     "data": {
      "text/plain": [
       "2025-10-03 03:04:35,688 fedbiomed INFO - \u001b[1mTRAINING\u001b[0m \n",
       "\t\t\t\t\t NODE_ID: NODE_5fbd3836-38ce-4075-9c03-bdef6bd97579 \n",
       "\t\t\t\t\t Round 2 Epoch: 2 | Iteration: 60/80 (75%) | Samples: 1920/2560\n",
       " \t\t\t\t\t Loss: \u001b[1m0.000167\u001b[0m \n",
       "\t\t\t\t\t ---------"
      ]
     },
     "metadata": {},
     "output_type": "display_data"
    },
    {
     "data": {
      "text/plain": [
       "2025-10-03 03:04:35,706 fedbiomed INFO - \u001b[1mTRAINING\u001b[0m \n",
       "\t\t\t\t\t NODE_ID: NODE_5fbd3836-38ce-4075-9c03-bdef6bd97579 \n",
       "\t\t\t\t\t Round 2 Epoch: 2 | Iteration: 70/80 (88%) | Samples: 2240/2560\n",
       " \t\t\t\t\t Loss: \u001b[1m0.000089\u001b[0m \n",
       "\t\t\t\t\t ---------"
      ]
     },
     "metadata": {},
     "output_type": "display_data"
    },
    {
     "data": {
      "text/plain": [
       "2025-10-03 03:04:35,721 fedbiomed INFO - \u001b[1mTRAINING\u001b[0m \n",
       "\t\t\t\t\t NODE_ID: NODE_9da4e82d-e30d-44c2-a481-b8a877e97f4d \n",
       "\t\t\t\t\t Round 2 Epoch: 2 | Iteration: 30/80 (38%) | Samples: 960/2560\n",
       " \t\t\t\t\t Loss: \u001b[1m0.000347\u001b[0m \n",
       "\t\t\t\t\t ---------"
      ]
     },
     "metadata": {},
     "output_type": "display_data"
    },
    {
     "data": {
      "text/plain": [
       "2025-10-03 03:04:35,733 fedbiomed INFO - \u001b[1mTRAINING\u001b[0m \n",
       "\t\t\t\t\t NODE_ID: NODE_5fbd3836-38ce-4075-9c03-bdef6bd97579 \n",
       "\t\t\t\t\t Round 2 Epoch: 2 | Iteration: 80/80 (100%) | Samples: 2541/2541\n",
       " \t\t\t\t\t Loss: \u001b[1m0.000043\u001b[0m \n",
       "\t\t\t\t\t ---------"
      ]
     },
     "metadata": {},
     "output_type": "display_data"
    },
    {
     "data": {
      "text/plain": [
       "2025-10-03 03:04:35,738 fedbiomed INFO - \u001b[1mTRAINING\u001b[0m \n",
       "\t\t\t\t\t NODE_ID: NODE_5fbd3836-38ce-4075-9c03-bdef6bd97579 \n",
       "\t\t\t\t\t Round 2 Epoch: 3 | Iteration: 1/80 (1%) | Samples: 32/2560\n",
       " \t\t\t\t\t Loss: \u001b[1m0.000049\u001b[0m \n",
       "\t\t\t\t\t ---------"
      ]
     },
     "metadata": {},
     "output_type": "display_data"
    },
    {
     "data": {
      "text/plain": [
       "2025-10-03 03:04:35,759 fedbiomed INFO - \u001b[1mTRAINING\u001b[0m \n",
       "\t\t\t\t\t NODE_ID: NODE_5fbd3836-38ce-4075-9c03-bdef6bd97579 \n",
       "\t\t\t\t\t Round 2 Epoch: 3 | Iteration: 10/80 (12%) | Samples: 320/2560\n",
       " \t\t\t\t\t Loss: \u001b[1m0.000158\u001b[0m \n",
       "\t\t\t\t\t ---------"
      ]
     },
     "metadata": {},
     "output_type": "display_data"
    },
    {
     "data": {
      "text/plain": [
       "2025-10-03 03:04:35,777 fedbiomed INFO - \u001b[1mTRAINING\u001b[0m \n",
       "\t\t\t\t\t NODE_ID: NODE_5fbd3836-38ce-4075-9c03-bdef6bd97579 \n",
       "\t\t\t\t\t Round 2 Epoch: 3 | Iteration: 20/80 (25%) | Samples: 640/2560\n",
       " \t\t\t\t\t Loss: \u001b[1m0.000031\u001b[0m \n",
       "\t\t\t\t\t ---------"
      ]
     },
     "metadata": {},
     "output_type": "display_data"
    },
    {
     "data": {
      "text/plain": [
       "2025-10-03 03:04:35,796 fedbiomed INFO - \u001b[1mTRAINING\u001b[0m \n",
       "\t\t\t\t\t NODE_ID: NODE_5fbd3836-38ce-4075-9c03-bdef6bd97579 \n",
       "\t\t\t\t\t Round 2 Epoch: 3 | Iteration: 30/80 (38%) | Samples: 960/2560\n",
       " \t\t\t\t\t Loss: \u001b[1m0.000563\u001b[0m \n",
       "\t\t\t\t\t ---------"
      ]
     },
     "metadata": {},
     "output_type": "display_data"
    },
    {
     "data": {
      "text/plain": [
       "2025-10-03 03:04:35,820 fedbiomed INFO - \u001b[1mTRAINING\u001b[0m \n",
       "\t\t\t\t\t NODE_ID: NODE_5fbd3836-38ce-4075-9c03-bdef6bd97579 \n",
       "\t\t\t\t\t Round 2 Epoch: 3 | Iteration: 40/80 (50%) | Samples: 1280/2560\n",
       " \t\t\t\t\t Loss: \u001b[1m0.000038\u001b[0m \n",
       "\t\t\t\t\t ---------"
      ]
     },
     "metadata": {},
     "output_type": "display_data"
    },
    {
     "data": {
      "text/plain": [
       "2025-10-03 03:04:35,837 fedbiomed INFO - \u001b[1mTRAINING\u001b[0m \n",
       "\t\t\t\t\t NODE_ID: NODE_5fbd3836-38ce-4075-9c03-bdef6bd97579 \n",
       "\t\t\t\t\t Round 2 Epoch: 3 | Iteration: 50/80 (62%) | Samples: 1600/2560\n",
       " \t\t\t\t\t Loss: \u001b[1m0.000052\u001b[0m \n",
       "\t\t\t\t\t ---------"
      ]
     },
     "metadata": {},
     "output_type": "display_data"
    },
    {
     "data": {
      "text/plain": [
       "2025-10-03 03:04:35,859 fedbiomed INFO - \u001b[1mTRAINING\u001b[0m \n",
       "\t\t\t\t\t NODE_ID: NODE_5fbd3836-38ce-4075-9c03-bdef6bd97579 \n",
       "\t\t\t\t\t Round 2 Epoch: 3 | Iteration: 60/80 (75%) | Samples: 1920/2560\n",
       " \t\t\t\t\t Loss: \u001b[1m0.000029\u001b[0m \n",
       "\t\t\t\t\t ---------"
      ]
     },
     "metadata": {},
     "output_type": "display_data"
    },
    {
     "data": {
      "text/plain": [
       "2025-10-03 03:04:35,865 fedbiomed INFO - \u001b[1mTRAINING\u001b[0m \n",
       "\t\t\t\t\t NODE_ID: NODE_9da4e82d-e30d-44c2-a481-b8a877e97f4d \n",
       "\t\t\t\t\t Round 2 Epoch: 2 | Iteration: 40/80 (50%) | Samples: 1280/2560\n",
       " \t\t\t\t\t Loss: \u001b[1m0.001038\u001b[0m \n",
       "\t\t\t\t\t ---------"
      ]
     },
     "metadata": {},
     "output_type": "display_data"
    },
    {
     "data": {
      "text/plain": [
       "2025-10-03 03:04:35,885 fedbiomed INFO - \u001b[1mTRAINING\u001b[0m \n",
       "\t\t\t\t\t NODE_ID: NODE_5fbd3836-38ce-4075-9c03-bdef6bd97579 \n",
       "\t\t\t\t\t Round 2 Epoch: 3 | Iteration: 70/80 (88%) | Samples: 2240/2560\n",
       " \t\t\t\t\t Loss: \u001b[1m0.000047\u001b[0m \n",
       "\t\t\t\t\t ---------"
      ]
     },
     "metadata": {},
     "output_type": "display_data"
    },
    {
     "data": {
      "text/plain": [
       "2025-10-03 03:04:35,905 fedbiomed INFO - \u001b[1mTRAINING\u001b[0m \n",
       "\t\t\t\t\t NODE_ID: NODE_5fbd3836-38ce-4075-9c03-bdef6bd97579 \n",
       "\t\t\t\t\t Round 2 Epoch: 3 | Iteration: 80/80 (100%) | Samples: 2541/2541\n",
       " \t\t\t\t\t Loss: \u001b[1m0.000347\u001b[0m \n",
       "\t\t\t\t\t ---------"
      ]
     },
     "metadata": {},
     "output_type": "display_data"
    },
    {
     "data": {
      "text/plain": [
       "2025-10-03 03:04:35,913 fedbiomed INFO - \u001b[1mTRAINING\u001b[0m \n",
       "\t\t\t\t\t NODE_ID: NODE_5fbd3836-38ce-4075-9c03-bdef6bd97579 \n",
       "\t\t\t\t\t Round 2 Epoch: 4 | Iteration: 1/80 (1%) | Samples: 32/2560\n",
       " \t\t\t\t\t Loss: \u001b[1m0.000039\u001b[0m \n",
       "\t\t\t\t\t ---------"
      ]
     },
     "metadata": {},
     "output_type": "display_data"
    },
    {
     "data": {
      "text/plain": [
       "2025-10-03 03:04:35,932 fedbiomed INFO - \u001b[1mTRAINING\u001b[0m \n",
       "\t\t\t\t\t NODE_ID: NODE_5fbd3836-38ce-4075-9c03-bdef6bd97579 \n",
       "\t\t\t\t\t Round 2 Epoch: 4 | Iteration: 10/80 (12%) | Samples: 320/2560\n",
       " \t\t\t\t\t Loss: \u001b[1m0.000030\u001b[0m \n",
       "\t\t\t\t\t ---------"
      ]
     },
     "metadata": {},
     "output_type": "display_data"
    },
    {
     "data": {
      "text/plain": [
       "2025-10-03 03:04:35,951 fedbiomed INFO - \u001b[1mTRAINING\u001b[0m \n",
       "\t\t\t\t\t NODE_ID: NODE_5fbd3836-38ce-4075-9c03-bdef6bd97579 \n",
       "\t\t\t\t\t Round 2 Epoch: 4 | Iteration: 20/80 (25%) | Samples: 640/2560\n",
       " \t\t\t\t\t Loss: \u001b[1m0.000189\u001b[0m \n",
       "\t\t\t\t\t ---------"
      ]
     },
     "metadata": {},
     "output_type": "display_data"
    },
    {
     "data": {
      "text/plain": [
       "2025-10-03 03:04:35,970 fedbiomed INFO - \u001b[1mTRAINING\u001b[0m \n",
       "\t\t\t\t\t NODE_ID: NODE_5fbd3836-38ce-4075-9c03-bdef6bd97579 \n",
       "\t\t\t\t\t Round 2 Epoch: 4 | Iteration: 30/80 (38%) | Samples: 960/2560\n",
       " \t\t\t\t\t Loss: \u001b[1m0.000077\u001b[0m \n",
       "\t\t\t\t\t ---------"
      ]
     },
     "metadata": {},
     "output_type": "display_data"
    },
    {
     "data": {
      "text/plain": [
       "2025-10-03 03:04:35,992 fedbiomed INFO - \u001b[1mTRAINING\u001b[0m \n",
       "\t\t\t\t\t NODE_ID: NODE_5fbd3836-38ce-4075-9c03-bdef6bd97579 \n",
       "\t\t\t\t\t Round 2 Epoch: 4 | Iteration: 40/80 (50%) | Samples: 1280/2560\n",
       " \t\t\t\t\t Loss: \u001b[1m0.000065\u001b[0m \n",
       "\t\t\t\t\t ---------"
      ]
     },
     "metadata": {},
     "output_type": "display_data"
    },
    {
     "data": {
      "text/plain": [
       "2025-10-03 03:04:36,012 fedbiomed INFO - \u001b[1mTRAINING\u001b[0m \n",
       "\t\t\t\t\t NODE_ID: NODE_5fbd3836-38ce-4075-9c03-bdef6bd97579 \n",
       "\t\t\t\t\t Round 2 Epoch: 4 | Iteration: 50/80 (62%) | Samples: 1600/2560\n",
       " \t\t\t\t\t Loss: \u001b[1m0.000017\u001b[0m \n",
       "\t\t\t\t\t ---------"
      ]
     },
     "metadata": {},
     "output_type": "display_data"
    },
    {
     "data": {
      "text/plain": [
       "2025-10-03 03:04:36,032 fedbiomed INFO - \u001b[1mTRAINING\u001b[0m \n",
       "\t\t\t\t\t NODE_ID: NODE_5fbd3836-38ce-4075-9c03-bdef6bd97579 \n",
       "\t\t\t\t\t Round 2 Epoch: 4 | Iteration: 60/80 (75%) | Samples: 1920/2560\n",
       " \t\t\t\t\t Loss: \u001b[1m0.000011\u001b[0m \n",
       "\t\t\t\t\t ---------"
      ]
     },
     "metadata": {},
     "output_type": "display_data"
    },
    {
     "data": {
      "text/plain": [
       "2025-10-03 03:04:36,052 fedbiomed INFO - \u001b[1mTRAINING\u001b[0m \n",
       "\t\t\t\t\t NODE_ID: NODE_5fbd3836-38ce-4075-9c03-bdef6bd97579 \n",
       "\t\t\t\t\t Round 2 Epoch: 4 | Iteration: 70/80 (88%) | Samples: 2240/2560\n",
       " \t\t\t\t\t Loss: \u001b[1m0.000021\u001b[0m \n",
       "\t\t\t\t\t ---------"
      ]
     },
     "metadata": {},
     "output_type": "display_data"
    },
    {
     "data": {
      "text/plain": [
       "2025-10-03 03:04:36,086 fedbiomed INFO - \u001b[1mTRAINING\u001b[0m \n",
       "\t\t\t\t\t NODE_ID: NODE_5fbd3836-38ce-4075-9c03-bdef6bd97579 \n",
       "\t\t\t\t\t Round 2 Epoch: 4 | Iteration: 80/80 (100%) | Samples: 2541/2541\n",
       " \t\t\t\t\t Loss: \u001b[1m0.000004\u001b[0m \n",
       "\t\t\t\t\t ---------"
      ]
     },
     "metadata": {},
     "output_type": "display_data"
    },
    {
     "data": {
      "text/plain": [
       "2025-10-03 03:04:36,096 fedbiomed INFO - \u001b[1mTRAINING\u001b[0m \n",
       "\t\t\t\t\t NODE_ID: NODE_5fbd3836-38ce-4075-9c03-bdef6bd97579 \n",
       "\t\t\t\t\t Round 2 Epoch: 5 | Iteration: 1/80 (1%) | Samples: 32/2560\n",
       " \t\t\t\t\t Loss: \u001b[1m0.000049\u001b[0m \n",
       "\t\t\t\t\t ---------"
      ]
     },
     "metadata": {},
     "output_type": "display_data"
    },
    {
     "data": {
      "text/plain": [
       "2025-10-03 03:04:36,116 fedbiomed INFO - \u001b[1mTRAINING\u001b[0m \n",
       "\t\t\t\t\t NODE_ID: NODE_9da4e82d-e30d-44c2-a481-b8a877e97f4d \n",
       "\t\t\t\t\t Round 2 Epoch: 2 | Iteration: 50/80 (62%) | Samples: 1600/2560\n",
       " \t\t\t\t\t Loss: \u001b[1m0.000149\u001b[0m \n",
       "\t\t\t\t\t ---------"
      ]
     },
     "metadata": {},
     "output_type": "display_data"
    },
    {
     "data": {
      "text/plain": [
       "2025-10-03 03:04:36,132 fedbiomed INFO - \u001b[1mTRAINING\u001b[0m \n",
       "\t\t\t\t\t NODE_ID: NODE_5fbd3836-38ce-4075-9c03-bdef6bd97579 \n",
       "\t\t\t\t\t Round 2 Epoch: 5 | Iteration: 10/80 (12%) | Samples: 320/2560\n",
       " \t\t\t\t\t Loss: \u001b[1m0.000076\u001b[0m \n",
       "\t\t\t\t\t ---------"
      ]
     },
     "metadata": {},
     "output_type": "display_data"
    },
    {
     "data": {
      "text/plain": [
       "2025-10-03 03:04:36,154 fedbiomed INFO - \u001b[1mTRAINING\u001b[0m \n",
       "\t\t\t\t\t NODE_ID: NODE_5fbd3836-38ce-4075-9c03-bdef6bd97579 \n",
       "\t\t\t\t\t Round 2 Epoch: 5 | Iteration: 20/80 (25%) | Samples: 640/2560\n",
       " \t\t\t\t\t Loss: \u001b[1m0.000123\u001b[0m \n",
       "\t\t\t\t\t ---------"
      ]
     },
     "metadata": {},
     "output_type": "display_data"
    },
    {
     "data": {
      "text/plain": [
       "2025-10-03 03:04:36,177 fedbiomed INFO - \u001b[1mTRAINING\u001b[0m \n",
       "\t\t\t\t\t NODE_ID: NODE_5fbd3836-38ce-4075-9c03-bdef6bd97579 \n",
       "\t\t\t\t\t Round 2 Epoch: 5 | Iteration: 30/80 (38%) | Samples: 960/2560\n",
       " \t\t\t\t\t Loss: \u001b[1m0.000030\u001b[0m \n",
       "\t\t\t\t\t ---------"
      ]
     },
     "metadata": {},
     "output_type": "display_data"
    },
    {
     "data": {
      "text/plain": [
       "2025-10-03 03:04:36,210 fedbiomed INFO - \u001b[1mTRAINING\u001b[0m \n",
       "\t\t\t\t\t NODE_ID: NODE_9da4e82d-e30d-44c2-a481-b8a877e97f4d \n",
       "\t\t\t\t\t Round 2 Epoch: 2 | Iteration: 60/80 (75%) | Samples: 1920/2560\n",
       " \t\t\t\t\t Loss: \u001b[1m0.000373\u001b[0m \n",
       "\t\t\t\t\t ---------"
      ]
     },
     "metadata": {},
     "output_type": "display_data"
    },
    {
     "data": {
      "text/plain": [
       "2025-10-03 03:04:36,212 fedbiomed INFO - \u001b[1mTRAINING\u001b[0m \n",
       "\t\t\t\t\t NODE_ID: NODE_5fbd3836-38ce-4075-9c03-bdef6bd97579 \n",
       "\t\t\t\t\t Round 2 Epoch: 5 | Iteration: 40/80 (50%) | Samples: 1280/2560\n",
       " \t\t\t\t\t Loss: \u001b[1m0.000075\u001b[0m \n",
       "\t\t\t\t\t ---------"
      ]
     },
     "metadata": {},
     "output_type": "display_data"
    },
    {
     "data": {
      "text/plain": [
       "2025-10-03 03:04:36,232 fedbiomed INFO - \u001b[1mTRAINING\u001b[0m \n",
       "\t\t\t\t\t NODE_ID: NODE_5fbd3836-38ce-4075-9c03-bdef6bd97579 \n",
       "\t\t\t\t\t Round 2 Epoch: 5 | Iteration: 50/80 (62%) | Samples: 1600/2560\n",
       " \t\t\t\t\t Loss: \u001b[1m0.000013\u001b[0m \n",
       "\t\t\t\t\t ---------"
      ]
     },
     "metadata": {},
     "output_type": "display_data"
    },
    {
     "data": {
      "text/plain": [
       "2025-10-03 03:04:36,252 fedbiomed INFO - \u001b[1mTRAINING\u001b[0m \n",
       "\t\t\t\t\t NODE_ID: NODE_5fbd3836-38ce-4075-9c03-bdef6bd97579 \n",
       "\t\t\t\t\t Round 2 Epoch: 5 | Iteration: 60/80 (75%) | Samples: 1920/2560\n",
       " \t\t\t\t\t Loss: \u001b[1m0.000011\u001b[0m \n",
       "\t\t\t\t\t ---------"
      ]
     },
     "metadata": {},
     "output_type": "display_data"
    },
    {
     "data": {
      "text/plain": [
       "2025-10-03 03:04:36,272 fedbiomed INFO - \u001b[1mTRAINING\u001b[0m \n",
       "\t\t\t\t\t NODE_ID: NODE_5fbd3836-38ce-4075-9c03-bdef6bd97579 \n",
       "\t\t\t\t\t Round 2 Epoch: 5 | Iteration: 70/80 (88%) | Samples: 2240/2560\n",
       " \t\t\t\t\t Loss: \u001b[1m0.000012\u001b[0m \n",
       "\t\t\t\t\t ---------"
      ]
     },
     "metadata": {},
     "output_type": "display_data"
    },
    {
     "data": {
      "text/plain": [
       "2025-10-03 03:04:36,294 fedbiomed INFO - \u001b[1mTRAINING\u001b[0m \n",
       "\t\t\t\t\t NODE_ID: NODE_5fbd3836-38ce-4075-9c03-bdef6bd97579 \n",
       "\t\t\t\t\t Round 2 Epoch: 5 | Iteration: 80/80 (100%) | Samples: 2541/2541\n",
       " \t\t\t\t\t Loss: \u001b[1m0.000174\u001b[0m \n",
       "\t\t\t\t\t ---------"
      ]
     },
     "metadata": {},
     "output_type": "display_data"
    },
    {
     "data": {
      "text/plain": [
       "2025-10-03 03:04:36,298 fedbiomed INFO - \u001b[1mTRAINING\u001b[0m \n",
       "\t\t\t\t\t NODE_ID: NODE_5fbd3836-38ce-4075-9c03-bdef6bd97579 \n",
       "\t\t\t\t\t Round 2 Epoch: 6 | Iteration: 1/80 (1%) | Samples: 32/2560\n",
       " \t\t\t\t\t Loss: \u001b[1m0.000033\u001b[0m \n",
       "\t\t\t\t\t ---------"
      ]
     },
     "metadata": {},
     "output_type": "display_data"
    },
    {
     "data": {
      "text/plain": [
       "2025-10-03 03:04:36,318 fedbiomed INFO - \u001b[1mTRAINING\u001b[0m \n",
       "\t\t\t\t\t NODE_ID: NODE_5fbd3836-38ce-4075-9c03-bdef6bd97579 \n",
       "\t\t\t\t\t Round 2 Epoch: 6 | Iteration: 10/80 (12%) | Samples: 320/2560\n",
       " \t\t\t\t\t Loss: \u001b[1m0.000030\u001b[0m \n",
       "\t\t\t\t\t ---------"
      ]
     },
     "metadata": {},
     "output_type": "display_data"
    },
    {
     "data": {
      "text/plain": [
       "2025-10-03 03:04:36,343 fedbiomed INFO - \u001b[1mTRAINING\u001b[0m \n",
       "\t\t\t\t\t NODE_ID: NODE_5fbd3836-38ce-4075-9c03-bdef6bd97579 \n",
       "\t\t\t\t\t Round 2 Epoch: 6 | Iteration: 20/80 (25%) | Samples: 640/2560\n",
       " \t\t\t\t\t Loss: \u001b[1m0.000008\u001b[0m \n",
       "\t\t\t\t\t ---------"
      ]
     },
     "metadata": {},
     "output_type": "display_data"
    },
    {
     "data": {
      "text/plain": [
       "2025-10-03 03:04:36,355 fedbiomed INFO - \u001b[1mTRAINING\u001b[0m \n",
       "\t\t\t\t\t NODE_ID: NODE_5fbd3836-38ce-4075-9c03-bdef6bd97579 \n",
       "\t\t\t\t\t Round 2 Epoch: 6 | Iteration: 30/80 (38%) | Samples: 960/2560\n",
       " \t\t\t\t\t Loss: \u001b[1m0.000012\u001b[0m \n",
       "\t\t\t\t\t ---------"
      ]
     },
     "metadata": {},
     "output_type": "display_data"
    },
    {
     "data": {
      "text/plain": [
       "2025-10-03 03:04:36,373 fedbiomed INFO - \u001b[1mTRAINING\u001b[0m \n",
       "\t\t\t\t\t NODE_ID: NODE_5fbd3836-38ce-4075-9c03-bdef6bd97579 \n",
       "\t\t\t\t\t Round 2 Epoch: 6 | Iteration: 40/80 (50%) | Samples: 1280/2560\n",
       " \t\t\t\t\t Loss: \u001b[1m0.000024\u001b[0m \n",
       "\t\t\t\t\t ---------"
      ]
     },
     "metadata": {},
     "output_type": "display_data"
    },
    {
     "data": {
      "text/plain": [
       "2025-10-03 03:04:36,395 fedbiomed INFO - \u001b[1mTRAINING\u001b[0m \n",
       "\t\t\t\t\t NODE_ID: NODE_5fbd3836-38ce-4075-9c03-bdef6bd97579 \n",
       "\t\t\t\t\t Round 2 Epoch: 6 | Iteration: 50/80 (62%) | Samples: 1600/2560\n",
       " \t\t\t\t\t Loss: \u001b[1m0.000044\u001b[0m \n",
       "\t\t\t\t\t ---------"
      ]
     },
     "metadata": {},
     "output_type": "display_data"
    },
    {
     "data": {
      "text/plain": [
       "2025-10-03 03:04:36,422 fedbiomed INFO - \u001b[1mTRAINING\u001b[0m \n",
       "\t\t\t\t\t NODE_ID: NODE_5fbd3836-38ce-4075-9c03-bdef6bd97579 \n",
       "\t\t\t\t\t Round 2 Epoch: 6 | Iteration: 60/80 (75%) | Samples: 1920/2560\n",
       " \t\t\t\t\t Loss: \u001b[1m0.000005\u001b[0m \n",
       "\t\t\t\t\t ---------"
      ]
     },
     "metadata": {},
     "output_type": "display_data"
    },
    {
     "data": {
      "text/plain": [
       "2025-10-03 03:04:36,445 fedbiomed INFO - \u001b[1mTRAINING\u001b[0m \n",
       "\t\t\t\t\t NODE_ID: NODE_5fbd3836-38ce-4075-9c03-bdef6bd97579 \n",
       "\t\t\t\t\t Round 2 Epoch: 6 | Iteration: 70/80 (88%) | Samples: 2240/2560\n",
       " \t\t\t\t\t Loss: \u001b[1m0.000006\u001b[0m \n",
       "\t\t\t\t\t ---------"
      ]
     },
     "metadata": {},
     "output_type": "display_data"
    },
    {
     "data": {
      "text/plain": [
       "2025-10-03 03:04:36,472 fedbiomed INFO - \u001b[1mTRAINING\u001b[0m \n",
       "\t\t\t\t\t NODE_ID: NODE_5fbd3836-38ce-4075-9c03-bdef6bd97579 \n",
       "\t\t\t\t\t Round 2 Epoch: 6 | Iteration: 80/80 (100%) | Samples: 2541/2541\n",
       " \t\t\t\t\t Loss: \u001b[1m0.000005\u001b[0m \n",
       "\t\t\t\t\t ---------"
      ]
     },
     "metadata": {},
     "output_type": "display_data"
    },
    {
     "data": {
      "text/plain": [
       "2025-10-03 03:04:36,484 fedbiomed INFO - \u001b[1mTRAINING\u001b[0m \n",
       "\t\t\t\t\t NODE_ID: NODE_9da4e82d-e30d-44c2-a481-b8a877e97f4d \n",
       "\t\t\t\t\t Round 2 Epoch: 2 | Iteration: 70/80 (88%) | Samples: 2240/2560\n",
       " \t\t\t\t\t Loss: \u001b[1m0.000125\u001b[0m \n",
       "\t\t\t\t\t ---------"
      ]
     },
     "metadata": {},
     "output_type": "display_data"
    },
    {
     "data": {
      "text/plain": [
       "2025-10-03 03:04:36,506 fedbiomed INFO - \u001b[1mTRAINING\u001b[0m \n",
       "\t\t\t\t\t NODE_ID: NODE_5fbd3836-38ce-4075-9c03-bdef6bd97579 \n",
       "\t\t\t\t\t Round 2 Epoch: 7 | Iteration: 1/80 (1%) | Samples: 32/2560\n",
       " \t\t\t\t\t Loss: \u001b[1m0.000030\u001b[0m \n",
       "\t\t\t\t\t ---------"
      ]
     },
     "metadata": {},
     "output_type": "display_data"
    },
    {
     "data": {
      "text/plain": [
       "2025-10-03 03:04:36,516 fedbiomed INFO - \u001b[1mTRAINING\u001b[0m \n",
       "\t\t\t\t\t NODE_ID: NODE_9da4e82d-e30d-44c2-a481-b8a877e97f4d \n",
       "\t\t\t\t\t Round 2 Epoch: 2 | Iteration: 80/80 (100%) | Samples: 2541/2541\n",
       " \t\t\t\t\t Loss: \u001b[1m0.000060\u001b[0m \n",
       "\t\t\t\t\t ---------"
      ]
     },
     "metadata": {},
     "output_type": "display_data"
    },
    {
     "data": {
      "text/plain": [
       "2025-10-03 03:04:36,524 fedbiomed INFO - \u001b[1mTRAINING\u001b[0m \n",
       "\t\t\t\t\t NODE_ID: NODE_9da4e82d-e30d-44c2-a481-b8a877e97f4d \n",
       "\t\t\t\t\t Round 2 Epoch: 3 | Iteration: 1/80 (1%) | Samples: 32/2560\n",
       " \t\t\t\t\t Loss: \u001b[1m0.000089\u001b[0m \n",
       "\t\t\t\t\t ---------"
      ]
     },
     "metadata": {},
     "output_type": "display_data"
    },
    {
     "data": {
      "text/plain": [
       "2025-10-03 03:04:36,545 fedbiomed INFO - \u001b[1mTRAINING\u001b[0m \n",
       "\t\t\t\t\t NODE_ID: NODE_9da4e82d-e30d-44c2-a481-b8a877e97f4d \n",
       "\t\t\t\t\t Round 2 Epoch: 3 | Iteration: 10/80 (12%) | Samples: 320/2560\n",
       " \t\t\t\t\t Loss: \u001b[1m0.000082\u001b[0m \n",
       "\t\t\t\t\t ---------"
      ]
     },
     "metadata": {},
     "output_type": "display_data"
    },
    {
     "data": {
      "text/plain": [
       "2025-10-03 03:04:36,556 fedbiomed INFO - \u001b[1mTRAINING\u001b[0m \n",
       "\t\t\t\t\t NODE_ID: NODE_5fbd3836-38ce-4075-9c03-bdef6bd97579 \n",
       "\t\t\t\t\t Round 2 Epoch: 7 | Iteration: 10/80 (12%) | Samples: 320/2560\n",
       " \t\t\t\t\t Loss: \u001b[1m0.000014\u001b[0m \n",
       "\t\t\t\t\t ---------"
      ]
     },
     "metadata": {},
     "output_type": "display_data"
    },
    {
     "data": {
      "text/plain": [
       "2025-10-03 03:04:36,567 fedbiomed INFO - \u001b[1mTRAINING\u001b[0m \n",
       "\t\t\t\t\t NODE_ID: NODE_9da4e82d-e30d-44c2-a481-b8a877e97f4d \n",
       "\t\t\t\t\t Round 2 Epoch: 3 | Iteration: 20/80 (25%) | Samples: 640/2560\n",
       " \t\t\t\t\t Loss: \u001b[1m0.000234\u001b[0m \n",
       "\t\t\t\t\t ---------"
      ]
     },
     "metadata": {},
     "output_type": "display_data"
    },
    {
     "data": {
      "text/plain": [
       "2025-10-03 03:04:36,577 fedbiomed INFO - \u001b[1mTRAINING\u001b[0m \n",
       "\t\t\t\t\t NODE_ID: NODE_5fbd3836-38ce-4075-9c03-bdef6bd97579 \n",
       "\t\t\t\t\t Round 2 Epoch: 7 | Iteration: 20/80 (25%) | Samples: 640/2560\n",
       " \t\t\t\t\t Loss: \u001b[1m0.000020\u001b[0m \n",
       "\t\t\t\t\t ---------"
      ]
     },
     "metadata": {},
     "output_type": "display_data"
    },
    {
     "data": {
      "text/plain": [
       "2025-10-03 03:04:36,591 fedbiomed INFO - \u001b[1mTRAINING\u001b[0m \n",
       "\t\t\t\t\t NODE_ID: NODE_9da4e82d-e30d-44c2-a481-b8a877e97f4d \n",
       "\t\t\t\t\t Round 2 Epoch: 3 | Iteration: 30/80 (38%) | Samples: 960/2560\n",
       " \t\t\t\t\t Loss: \u001b[1m0.000118\u001b[0m \n",
       "\t\t\t\t\t ---------"
      ]
     },
     "metadata": {},
     "output_type": "display_data"
    },
    {
     "data": {
      "text/plain": [
       "2025-10-03 03:04:36,601 fedbiomed INFO - \u001b[1mTRAINING\u001b[0m \n",
       "\t\t\t\t\t NODE_ID: NODE_5fbd3836-38ce-4075-9c03-bdef6bd97579 \n",
       "\t\t\t\t\t Round 2 Epoch: 7 | Iteration: 30/80 (38%) | Samples: 960/2560\n",
       " \t\t\t\t\t Loss: \u001b[1m0.000010\u001b[0m \n",
       "\t\t\t\t\t ---------"
      ]
     },
     "metadata": {},
     "output_type": "display_data"
    },
    {
     "data": {
      "text/plain": [
       "2025-10-03 03:04:36,617 fedbiomed INFO - \u001b[1mTRAINING\u001b[0m \n",
       "\t\t\t\t\t NODE_ID: NODE_9da4e82d-e30d-44c2-a481-b8a877e97f4d \n",
       "\t\t\t\t\t Round 2 Epoch: 3 | Iteration: 40/80 (50%) | Samples: 1280/2560\n",
       " \t\t\t\t\t Loss: \u001b[1m0.000089\u001b[0m \n",
       "\t\t\t\t\t ---------"
      ]
     },
     "metadata": {},
     "output_type": "display_data"
    },
    {
     "data": {
      "text/plain": [
       "2025-10-03 03:04:36,626 fedbiomed INFO - \u001b[1mTRAINING\u001b[0m \n",
       "\t\t\t\t\t NODE_ID: NODE_5fbd3836-38ce-4075-9c03-bdef6bd97579 \n",
       "\t\t\t\t\t Round 2 Epoch: 7 | Iteration: 40/80 (50%) | Samples: 1280/2560\n",
       " \t\t\t\t\t Loss: \u001b[1m0.000063\u001b[0m \n",
       "\t\t\t\t\t ---------"
      ]
     },
     "metadata": {},
     "output_type": "display_data"
    },
    {
     "data": {
      "text/plain": [
       "2025-10-03 03:04:36,640 fedbiomed INFO - \u001b[1mTRAINING\u001b[0m \n",
       "\t\t\t\t\t NODE_ID: NODE_9da4e82d-e30d-44c2-a481-b8a877e97f4d \n",
       "\t\t\t\t\t Round 2 Epoch: 3 | Iteration: 50/80 (62%) | Samples: 1600/2560\n",
       " \t\t\t\t\t Loss: \u001b[1m0.000139\u001b[0m \n",
       "\t\t\t\t\t ---------"
      ]
     },
     "metadata": {},
     "output_type": "display_data"
    },
    {
     "data": {
      "text/plain": [
       "2025-10-03 03:04:36,645 fedbiomed INFO - \u001b[1mTRAINING\u001b[0m \n",
       "\t\t\t\t\t NODE_ID: NODE_5fbd3836-38ce-4075-9c03-bdef6bd97579 \n",
       "\t\t\t\t\t Round 2 Epoch: 7 | Iteration: 50/80 (62%) | Samples: 1600/2560\n",
       " \t\t\t\t\t Loss: \u001b[1m0.000013\u001b[0m \n",
       "\t\t\t\t\t ---------"
      ]
     },
     "metadata": {},
     "output_type": "display_data"
    },
    {
     "data": {
      "text/plain": [
       "2025-10-03 03:04:36,663 fedbiomed INFO - \u001b[1mTRAINING\u001b[0m \n",
       "\t\t\t\t\t NODE_ID: NODE_9da4e82d-e30d-44c2-a481-b8a877e97f4d \n",
       "\t\t\t\t\t Round 2 Epoch: 3 | Iteration: 60/80 (75%) | Samples: 1920/2560\n",
       " \t\t\t\t\t Loss: \u001b[1m0.000146\u001b[0m \n",
       "\t\t\t\t\t ---------"
      ]
     },
     "metadata": {},
     "output_type": "display_data"
    },
    {
     "data": {
      "text/plain": [
       "2025-10-03 03:04:36,665 fedbiomed INFO - \u001b[1mTRAINING\u001b[0m \n",
       "\t\t\t\t\t NODE_ID: NODE_5fbd3836-38ce-4075-9c03-bdef6bd97579 \n",
       "\t\t\t\t\t Round 2 Epoch: 7 | Iteration: 60/80 (75%) | Samples: 1920/2560\n",
       " \t\t\t\t\t Loss: \u001b[1m0.000019\u001b[0m \n",
       "\t\t\t\t\t ---------"
      ]
     },
     "metadata": {},
     "output_type": "display_data"
    },
    {
     "data": {
      "text/plain": [
       "2025-10-03 03:04:36,685 fedbiomed INFO - \u001b[1mTRAINING\u001b[0m \n",
       "\t\t\t\t\t NODE_ID: NODE_9da4e82d-e30d-44c2-a481-b8a877e97f4d \n",
       "\t\t\t\t\t Round 2 Epoch: 3 | Iteration: 70/80 (88%) | Samples: 2240/2560\n",
       " \t\t\t\t\t Loss: \u001b[1m0.000191\u001b[0m \n",
       "\t\t\t\t\t ---------"
      ]
     },
     "metadata": {},
     "output_type": "display_data"
    },
    {
     "data": {
      "text/plain": [
       "2025-10-03 03:04:36,692 fedbiomed INFO - \u001b[1mTRAINING\u001b[0m \n",
       "\t\t\t\t\t NODE_ID: NODE_5fbd3836-38ce-4075-9c03-bdef6bd97579 \n",
       "\t\t\t\t\t Round 2 Epoch: 7 | Iteration: 70/80 (88%) | Samples: 2240/2560\n",
       " \t\t\t\t\t Loss: \u001b[1m0.000018\u001b[0m \n",
       "\t\t\t\t\t ---------"
      ]
     },
     "metadata": {},
     "output_type": "display_data"
    },
    {
     "data": {
      "text/plain": [
       "2025-10-03 03:04:36,707 fedbiomed INFO - \u001b[1mTRAINING\u001b[0m \n",
       "\t\t\t\t\t NODE_ID: NODE_9da4e82d-e30d-44c2-a481-b8a877e97f4d \n",
       "\t\t\t\t\t Round 2 Epoch: 3 | Iteration: 80/80 (100%) | Samples: 2541/2541\n",
       " \t\t\t\t\t Loss: \u001b[1m0.000430\u001b[0m \n",
       "\t\t\t\t\t ---------"
      ]
     },
     "metadata": {},
     "output_type": "display_data"
    },
    {
     "data": {
      "text/plain": [
       "2025-10-03 03:04:36,712 fedbiomed INFO - \u001b[1mTRAINING\u001b[0m \n",
       "\t\t\t\t\t NODE_ID: NODE_5fbd3836-38ce-4075-9c03-bdef6bd97579 \n",
       "\t\t\t\t\t Round 2 Epoch: 7 | Iteration: 80/80 (100%) | Samples: 2541/2541\n",
       " \t\t\t\t\t Loss: \u001b[1m0.000109\u001b[0m \n",
       "\t\t\t\t\t ---------"
      ]
     },
     "metadata": {},
     "output_type": "display_data"
    },
    {
     "data": {
      "text/plain": [
       "2025-10-03 03:04:36,720 fedbiomed INFO - \u001b[1mTRAINING\u001b[0m \n",
       "\t\t\t\t\t NODE_ID: NODE_5fbd3836-38ce-4075-9c03-bdef6bd97579 \n",
       "\t\t\t\t\t Round 2 Epoch: 8 | Iteration: 1/80 (1%) | Samples: 32/2560\n",
       " \t\t\t\t\t Loss: \u001b[1m0.000062\u001b[0m \n",
       "\t\t\t\t\t ---------"
      ]
     },
     "metadata": {},
     "output_type": "display_data"
    },
    {
     "data": {
      "text/plain": [
       "2025-10-03 03:04:36,725 fedbiomed INFO - \u001b[1mTRAINING\u001b[0m \n",
       "\t\t\t\t\t NODE_ID: NODE_9da4e82d-e30d-44c2-a481-b8a877e97f4d \n",
       "\t\t\t\t\t Round 2 Epoch: 4 | Iteration: 1/80 (1%) | Samples: 32/2560\n",
       " \t\t\t\t\t Loss: \u001b[1m0.000156\u001b[0m \n",
       "\t\t\t\t\t ---------"
      ]
     },
     "metadata": {},
     "output_type": "display_data"
    },
    {
     "data": {
      "text/plain": [
       "2025-10-03 03:04:36,741 fedbiomed INFO - \u001b[1mTRAINING\u001b[0m \n",
       "\t\t\t\t\t NODE_ID: NODE_5fbd3836-38ce-4075-9c03-bdef6bd97579 \n",
       "\t\t\t\t\t Round 2 Epoch: 8 | Iteration: 10/80 (12%) | Samples: 320/2560\n",
       " \t\t\t\t\t Loss: \u001b[1m0.000011\u001b[0m \n",
       "\t\t\t\t\t ---------"
      ]
     },
     "metadata": {},
     "output_type": "display_data"
    },
    {
     "data": {
      "text/plain": [
       "2025-10-03 03:04:36,747 fedbiomed INFO - \u001b[1mTRAINING\u001b[0m \n",
       "\t\t\t\t\t NODE_ID: NODE_9da4e82d-e30d-44c2-a481-b8a877e97f4d \n",
       "\t\t\t\t\t Round 2 Epoch: 4 | Iteration: 10/80 (12%) | Samples: 320/2560\n",
       " \t\t\t\t\t Loss: \u001b[1m0.000155\u001b[0m \n",
       "\t\t\t\t\t ---------"
      ]
     },
     "metadata": {},
     "output_type": "display_data"
    },
    {
     "data": {
      "text/plain": [
       "2025-10-03 03:04:36,765 fedbiomed INFO - \u001b[1mTRAINING\u001b[0m \n",
       "\t\t\t\t\t NODE_ID: NODE_5fbd3836-38ce-4075-9c03-bdef6bd97579 \n",
       "\t\t\t\t\t Round 2 Epoch: 8 | Iteration: 20/80 (25%) | Samples: 640/2560\n",
       " \t\t\t\t\t Loss: \u001b[1m0.000014\u001b[0m \n",
       "\t\t\t\t\t ---------"
      ]
     },
     "metadata": {},
     "output_type": "display_data"
    },
    {
     "data": {
      "text/plain": [
       "2025-10-03 03:04:36,768 fedbiomed INFO - \u001b[1mTRAINING\u001b[0m \n",
       "\t\t\t\t\t NODE_ID: NODE_9da4e82d-e30d-44c2-a481-b8a877e97f4d \n",
       "\t\t\t\t\t Round 2 Epoch: 4 | Iteration: 20/80 (25%) | Samples: 640/2560\n",
       " \t\t\t\t\t Loss: \u001b[1m0.000127\u001b[0m \n",
       "\t\t\t\t\t ---------"
      ]
     },
     "metadata": {},
     "output_type": "display_data"
    },
    {
     "data": {
      "text/plain": [
       "2025-10-03 03:04:36,784 fedbiomed INFO - \u001b[1mTRAINING\u001b[0m \n",
       "\t\t\t\t\t NODE_ID: NODE_5fbd3836-38ce-4075-9c03-bdef6bd97579 \n",
       "\t\t\t\t\t Round 2 Epoch: 8 | Iteration: 30/80 (38%) | Samples: 960/2560\n",
       " \t\t\t\t\t Loss: \u001b[1m0.000006\u001b[0m \n",
       "\t\t\t\t\t ---------"
      ]
     },
     "metadata": {},
     "output_type": "display_data"
    },
    {
     "data": {
      "text/plain": [
       "2025-10-03 03:04:36,804 fedbiomed INFO - \u001b[1mTRAINING\u001b[0m \n",
       "\t\t\t\t\t NODE_ID: NODE_9da4e82d-e30d-44c2-a481-b8a877e97f4d \n",
       "\t\t\t\t\t Round 2 Epoch: 4 | Iteration: 30/80 (38%) | Samples: 960/2560\n",
       " \t\t\t\t\t Loss: \u001b[1m0.000482\u001b[0m \n",
       "\t\t\t\t\t ---------"
      ]
     },
     "metadata": {},
     "output_type": "display_data"
    },
    {
     "data": {
      "text/plain": [
       "2025-10-03 03:04:36,806 fedbiomed INFO - \u001b[1mTRAINING\u001b[0m \n",
       "\t\t\t\t\t NODE_ID: NODE_5fbd3836-38ce-4075-9c03-bdef6bd97579 \n",
       "\t\t\t\t\t Round 2 Epoch: 8 | Iteration: 40/80 (50%) | Samples: 1280/2560\n",
       " \t\t\t\t\t Loss: \u001b[1m0.000011\u001b[0m \n",
       "\t\t\t\t\t ---------"
      ]
     },
     "metadata": {},
     "output_type": "display_data"
    },
    {
     "data": {
      "text/plain": [
       "2025-10-03 03:04:36,827 fedbiomed INFO - \u001b[1mTRAINING\u001b[0m \n",
       "\t\t\t\t\t NODE_ID: NODE_9da4e82d-e30d-44c2-a481-b8a877e97f4d \n",
       "\t\t\t\t\t Round 2 Epoch: 4 | Iteration: 40/80 (50%) | Samples: 1280/2560\n",
       " \t\t\t\t\t Loss: \u001b[1m0.000040\u001b[0m \n",
       "\t\t\t\t\t ---------"
      ]
     },
     "metadata": {},
     "output_type": "display_data"
    },
    {
     "data": {
      "text/plain": [
       "2025-10-03 03:04:36,828 fedbiomed INFO - \u001b[1mTRAINING\u001b[0m \n",
       "\t\t\t\t\t NODE_ID: NODE_5fbd3836-38ce-4075-9c03-bdef6bd97579 \n",
       "\t\t\t\t\t Round 2 Epoch: 8 | Iteration: 50/80 (62%) | Samples: 1600/2560\n",
       " \t\t\t\t\t Loss: \u001b[1m0.000005\u001b[0m \n",
       "\t\t\t\t\t ---------"
      ]
     },
     "metadata": {},
     "output_type": "display_data"
    },
    {
     "data": {
      "text/plain": [
       "2025-10-03 03:04:36,849 fedbiomed INFO - \u001b[1mTRAINING\u001b[0m \n",
       "\t\t\t\t\t NODE_ID: NODE_9da4e82d-e30d-44c2-a481-b8a877e97f4d \n",
       "\t\t\t\t\t Round 2 Epoch: 4 | Iteration: 50/80 (62%) | Samples: 1600/2560\n",
       " \t\t\t\t\t Loss: \u001b[1m0.000058\u001b[0m \n",
       "\t\t\t\t\t ---------"
      ]
     },
     "metadata": {},
     "output_type": "display_data"
    },
    {
     "data": {
      "text/plain": [
       "2025-10-03 03:04:36,859 fedbiomed INFO - \u001b[1mTRAINING\u001b[0m \n",
       "\t\t\t\t\t NODE_ID: NODE_5fbd3836-38ce-4075-9c03-bdef6bd97579 \n",
       "\t\t\t\t\t Round 2 Epoch: 8 | Iteration: 60/80 (75%) | Samples: 1920/2560\n",
       " \t\t\t\t\t Loss: \u001b[1m0.000020\u001b[0m \n",
       "\t\t\t\t\t ---------"
      ]
     },
     "metadata": {},
     "output_type": "display_data"
    },
    {
     "data": {
      "text/plain": [
       "2025-10-03 03:04:36,871 fedbiomed INFO - \u001b[1mTRAINING\u001b[0m \n",
       "\t\t\t\t\t NODE_ID: NODE_9da4e82d-e30d-44c2-a481-b8a877e97f4d \n",
       "\t\t\t\t\t Round 2 Epoch: 4 | Iteration: 60/80 (75%) | Samples: 1920/2560\n",
       " \t\t\t\t\t Loss: \u001b[1m0.000187\u001b[0m \n",
       "\t\t\t\t\t ---------"
      ]
     },
     "metadata": {},
     "output_type": "display_data"
    },
    {
     "data": {
      "text/plain": [
       "2025-10-03 03:04:36,883 fedbiomed INFO - \u001b[1mTRAINING\u001b[0m \n",
       "\t\t\t\t\t NODE_ID: NODE_5fbd3836-38ce-4075-9c03-bdef6bd97579 \n",
       "\t\t\t\t\t Round 2 Epoch: 8 | Iteration: 70/80 (88%) | Samples: 2240/2560\n",
       " \t\t\t\t\t Loss: \u001b[1m0.000012\u001b[0m \n",
       "\t\t\t\t\t ---------"
      ]
     },
     "metadata": {},
     "output_type": "display_data"
    },
    {
     "data": {
      "text/plain": [
       "2025-10-03 03:04:36,891 fedbiomed INFO - \u001b[1mTRAINING\u001b[0m \n",
       "\t\t\t\t\t NODE_ID: NODE_9da4e82d-e30d-44c2-a481-b8a877e97f4d \n",
       "\t\t\t\t\t Round 2 Epoch: 4 | Iteration: 70/80 (88%) | Samples: 2240/2560\n",
       " \t\t\t\t\t Loss: \u001b[1m0.000058\u001b[0m \n",
       "\t\t\t\t\t ---------"
      ]
     },
     "metadata": {},
     "output_type": "display_data"
    },
    {
     "data": {
      "text/plain": [
       "2025-10-03 03:04:36,905 fedbiomed INFO - \u001b[1mTRAINING\u001b[0m \n",
       "\t\t\t\t\t NODE_ID: NODE_5fbd3836-38ce-4075-9c03-bdef6bd97579 \n",
       "\t\t\t\t\t Round 2 Epoch: 8 | Iteration: 80/80 (100%) | Samples: 2541/2541\n",
       " \t\t\t\t\t Loss: \u001b[1m0.000071\u001b[0m \n",
       "\t\t\t\t\t ---------"
      ]
     },
     "metadata": {},
     "output_type": "display_data"
    },
    {
     "data": {
      "text/plain": [
       "2025-10-03 03:04:36,909 fedbiomed INFO - \u001b[1mTRAINING\u001b[0m \n",
       "\t\t\t\t\t NODE_ID: NODE_9da4e82d-e30d-44c2-a481-b8a877e97f4d \n",
       "\t\t\t\t\t Round 2 Epoch: 4 | Iteration: 80/80 (100%) | Samples: 2541/2541\n",
       " \t\t\t\t\t Loss: \u001b[1m0.000014\u001b[0m \n",
       "\t\t\t\t\t ---------"
      ]
     },
     "metadata": {},
     "output_type": "display_data"
    },
    {
     "data": {
      "text/plain": [
       "2025-10-03 03:04:36,912 fedbiomed INFO - \u001b[1mTRAINING\u001b[0m \n",
       "\t\t\t\t\t NODE_ID: NODE_5fbd3836-38ce-4075-9c03-bdef6bd97579 \n",
       "\t\t\t\t\t Round 2 Epoch: 9 | Iteration: 1/80 (1%) | Samples: 32/2560\n",
       " \t\t\t\t\t Loss: \u001b[1m0.000008\u001b[0m \n",
       "\t\t\t\t\t ---------"
      ]
     },
     "metadata": {},
     "output_type": "display_data"
    },
    {
     "data": {
      "text/plain": [
       "2025-10-03 03:04:36,914 fedbiomed INFO - \u001b[1mTRAINING\u001b[0m \n",
       "\t\t\t\t\t NODE_ID: NODE_9da4e82d-e30d-44c2-a481-b8a877e97f4d \n",
       "\t\t\t\t\t Round 2 Epoch: 5 | Iteration: 1/80 (1%) | Samples: 32/2560\n",
       " \t\t\t\t\t Loss: \u001b[1m0.000011\u001b[0m \n",
       "\t\t\t\t\t ---------"
      ]
     },
     "metadata": {},
     "output_type": "display_data"
    },
    {
     "data": {
      "text/plain": [
       "2025-10-03 03:04:36,932 fedbiomed INFO - \u001b[1mTRAINING\u001b[0m \n",
       "\t\t\t\t\t NODE_ID: NODE_9da4e82d-e30d-44c2-a481-b8a877e97f4d \n",
       "\t\t\t\t\t Round 2 Epoch: 5 | Iteration: 10/80 (12%) | Samples: 320/2560\n",
       " \t\t\t\t\t Loss: \u001b[1m0.000151\u001b[0m \n",
       "\t\t\t\t\t ---------"
      ]
     },
     "metadata": {},
     "output_type": "display_data"
    },
    {
     "data": {
      "text/plain": [
       "2025-10-03 03:04:36,933 fedbiomed INFO - \u001b[1mTRAINING\u001b[0m \n",
       "\t\t\t\t\t NODE_ID: NODE_5fbd3836-38ce-4075-9c03-bdef6bd97579 \n",
       "\t\t\t\t\t Round 2 Epoch: 9 | Iteration: 10/80 (12%) | Samples: 320/2560\n",
       " \t\t\t\t\t Loss: \u001b[1m0.000007\u001b[0m \n",
       "\t\t\t\t\t ---------"
      ]
     },
     "metadata": {},
     "output_type": "display_data"
    },
    {
     "data": {
      "text/plain": [
       "2025-10-03 03:04:36,954 fedbiomed INFO - \u001b[1mTRAINING\u001b[0m \n",
       "\t\t\t\t\t NODE_ID: NODE_9da4e82d-e30d-44c2-a481-b8a877e97f4d \n",
       "\t\t\t\t\t Round 2 Epoch: 5 | Iteration: 20/80 (25%) | Samples: 640/2560\n",
       " \t\t\t\t\t Loss: \u001b[1m0.000050\u001b[0m \n",
       "\t\t\t\t\t ---------"
      ]
     },
     "metadata": {},
     "output_type": "display_data"
    },
    {
     "data": {
      "text/plain": [
       "2025-10-03 03:04:36,956 fedbiomed INFO - \u001b[1mTRAINING\u001b[0m \n",
       "\t\t\t\t\t NODE_ID: NODE_5fbd3836-38ce-4075-9c03-bdef6bd97579 \n",
       "\t\t\t\t\t Round 2 Epoch: 9 | Iteration: 20/80 (25%) | Samples: 640/2560\n",
       " \t\t\t\t\t Loss: \u001b[1m0.000020\u001b[0m \n",
       "\t\t\t\t\t ---------"
      ]
     },
     "metadata": {},
     "output_type": "display_data"
    },
    {
     "data": {
      "text/plain": [
       "2025-10-03 03:04:36,974 fedbiomed INFO - \u001b[1mTRAINING\u001b[0m \n",
       "\t\t\t\t\t NODE_ID: NODE_9da4e82d-e30d-44c2-a481-b8a877e97f4d \n",
       "\t\t\t\t\t Round 2 Epoch: 5 | Iteration: 30/80 (38%) | Samples: 960/2560\n",
       " \t\t\t\t\t Loss: \u001b[1m0.000072\u001b[0m \n",
       "\t\t\t\t\t ---------"
      ]
     },
     "metadata": {},
     "output_type": "display_data"
    },
    {
     "data": {
      "text/plain": [
       "2025-10-03 03:04:36,982 fedbiomed INFO - \u001b[1mTRAINING\u001b[0m \n",
       "\t\t\t\t\t NODE_ID: NODE_5fbd3836-38ce-4075-9c03-bdef6bd97579 \n",
       "\t\t\t\t\t Round 2 Epoch: 9 | Iteration: 30/80 (38%) | Samples: 960/2560\n",
       " \t\t\t\t\t Loss: \u001b[1m0.000001\u001b[0m \n",
       "\t\t\t\t\t ---------"
      ]
     },
     "metadata": {},
     "output_type": "display_data"
    },
    {
     "data": {
      "text/plain": [
       "2025-10-03 03:04:36,994 fedbiomed INFO - \u001b[1mTRAINING\u001b[0m \n",
       "\t\t\t\t\t NODE_ID: NODE_9da4e82d-e30d-44c2-a481-b8a877e97f4d \n",
       "\t\t\t\t\t Round 2 Epoch: 5 | Iteration: 40/80 (50%) | Samples: 1280/2560\n",
       " \t\t\t\t\t Loss: \u001b[1m0.000021\u001b[0m \n",
       "\t\t\t\t\t ---------"
      ]
     },
     "metadata": {},
     "output_type": "display_data"
    },
    {
     "data": {
      "text/plain": [
       "2025-10-03 03:04:37,006 fedbiomed INFO - \u001b[1mTRAINING\u001b[0m \n",
       "\t\t\t\t\t NODE_ID: NODE_5fbd3836-38ce-4075-9c03-bdef6bd97579 \n",
       "\t\t\t\t\t Round 2 Epoch: 9 | Iteration: 40/80 (50%) | Samples: 1280/2560\n",
       " \t\t\t\t\t Loss: \u001b[1m0.000003\u001b[0m \n",
       "\t\t\t\t\t ---------"
      ]
     },
     "metadata": {},
     "output_type": "display_data"
    },
    {
     "data": {
      "text/plain": [
       "2025-10-03 03:04:37,016 fedbiomed INFO - \u001b[1mTRAINING\u001b[0m \n",
       "\t\t\t\t\t NODE_ID: NODE_9da4e82d-e30d-44c2-a481-b8a877e97f4d \n",
       "\t\t\t\t\t Round 2 Epoch: 5 | Iteration: 50/80 (62%) | Samples: 1600/2560\n",
       " \t\t\t\t\t Loss: \u001b[1m0.000016\u001b[0m \n",
       "\t\t\t\t\t ---------"
      ]
     },
     "metadata": {},
     "output_type": "display_data"
    },
    {
     "data": {
      "text/plain": [
       "2025-10-03 03:04:37,029 fedbiomed INFO - \u001b[1mTRAINING\u001b[0m \n",
       "\t\t\t\t\t NODE_ID: NODE_5fbd3836-38ce-4075-9c03-bdef6bd97579 \n",
       "\t\t\t\t\t Round 2 Epoch: 9 | Iteration: 50/80 (62%) | Samples: 1600/2560\n",
       " \t\t\t\t\t Loss: \u001b[1m0.000006\u001b[0m \n",
       "\t\t\t\t\t ---------"
      ]
     },
     "metadata": {},
     "output_type": "display_data"
    },
    {
     "data": {
      "text/plain": [
       "2025-10-03 03:04:37,038 fedbiomed INFO - \u001b[1mTRAINING\u001b[0m \n",
       "\t\t\t\t\t NODE_ID: NODE_9da4e82d-e30d-44c2-a481-b8a877e97f4d \n",
       "\t\t\t\t\t Round 2 Epoch: 5 | Iteration: 60/80 (75%) | Samples: 1920/2560\n",
       " \t\t\t\t\t Loss: \u001b[1m0.000058\u001b[0m \n",
       "\t\t\t\t\t ---------"
      ]
     },
     "metadata": {},
     "output_type": "display_data"
    },
    {
     "data": {
      "text/plain": [
       "2025-10-03 03:04:37,052 fedbiomed INFO - \u001b[1mTRAINING\u001b[0m \n",
       "\t\t\t\t\t NODE_ID: NODE_5fbd3836-38ce-4075-9c03-bdef6bd97579 \n",
       "\t\t\t\t\t Round 2 Epoch: 9 | Iteration: 60/80 (75%) | Samples: 1920/2560\n",
       " \t\t\t\t\t Loss: \u001b[1m0.000033\u001b[0m \n",
       "\t\t\t\t\t ---------"
      ]
     },
     "metadata": {},
     "output_type": "display_data"
    },
    {
     "data": {
      "text/plain": [
       "2025-10-03 03:04:37,059 fedbiomed INFO - \u001b[1mTRAINING\u001b[0m \n",
       "\t\t\t\t\t NODE_ID: NODE_9da4e82d-e30d-44c2-a481-b8a877e97f4d \n",
       "\t\t\t\t\t Round 2 Epoch: 5 | Iteration: 70/80 (88%) | Samples: 2240/2560\n",
       " \t\t\t\t\t Loss: \u001b[1m0.000056\u001b[0m \n",
       "\t\t\t\t\t ---------"
      ]
     },
     "metadata": {},
     "output_type": "display_data"
    },
    {
     "data": {
      "text/plain": [
       "2025-10-03 03:04:37,084 fedbiomed INFO - \u001b[1mTRAINING\u001b[0m \n",
       "\t\t\t\t\t NODE_ID: NODE_9da4e82d-e30d-44c2-a481-b8a877e97f4d \n",
       "\t\t\t\t\t Round 2 Epoch: 5 | Iteration: 80/80 (100%) | Samples: 2541/2541\n",
       " \t\t\t\t\t Loss: \u001b[1m0.000069\u001b[0m \n",
       "\t\t\t\t\t ---------"
      ]
     },
     "metadata": {},
     "output_type": "display_data"
    },
    {
     "data": {
      "text/plain": [
       "2025-10-03 03:04:37,091 fedbiomed INFO - \u001b[1mTRAINING\u001b[0m \n",
       "\t\t\t\t\t NODE_ID: NODE_5fbd3836-38ce-4075-9c03-bdef6bd97579 \n",
       "\t\t\t\t\t Round 2 Epoch: 9 | Iteration: 70/80 (88%) | Samples: 2240/2560\n",
       " \t\t\t\t\t Loss: \u001b[1m0.000014\u001b[0m \n",
       "\t\t\t\t\t ---------"
      ]
     },
     "metadata": {},
     "output_type": "display_data"
    },
    {
     "data": {
      "text/plain": [
       "2025-10-03 03:04:37,093 fedbiomed INFO - \u001b[1mTRAINING\u001b[0m \n",
       "\t\t\t\t\t NODE_ID: NODE_9da4e82d-e30d-44c2-a481-b8a877e97f4d \n",
       "\t\t\t\t\t Round 2 Epoch: 6 | Iteration: 1/80 (1%) | Samples: 32/2560\n",
       " \t\t\t\t\t Loss: \u001b[1m0.000037\u001b[0m \n",
       "\t\t\t\t\t ---------"
      ]
     },
     "metadata": {},
     "output_type": "display_data"
    },
    {
     "data": {
      "text/plain": [
       "2025-10-03 03:04:37,113 fedbiomed INFO - \u001b[1mTRAINING\u001b[0m \n",
       "\t\t\t\t\t NODE_ID: NODE_9da4e82d-e30d-44c2-a481-b8a877e97f4d \n",
       "\t\t\t\t\t Round 2 Epoch: 6 | Iteration: 10/80 (12%) | Samples: 320/2560\n",
       " \t\t\t\t\t Loss: \u001b[1m0.000028\u001b[0m \n",
       "\t\t\t\t\t ---------"
      ]
     },
     "metadata": {},
     "output_type": "display_data"
    },
    {
     "data": {
      "text/plain": [
       "2025-10-03 03:04:37,117 fedbiomed INFO - \u001b[1mTRAINING\u001b[0m \n",
       "\t\t\t\t\t NODE_ID: NODE_5fbd3836-38ce-4075-9c03-bdef6bd97579 \n",
       "\t\t\t\t\t Round 2 Epoch: 9 | Iteration: 80/80 (100%) | Samples: 2541/2541\n",
       " \t\t\t\t\t Loss: \u001b[1m0.000008\u001b[0m \n",
       "\t\t\t\t\t ---------"
      ]
     },
     "metadata": {},
     "output_type": "display_data"
    },
    {
     "data": {
      "text/plain": [
       "2025-10-03 03:04:37,120 fedbiomed INFO - \u001b[1mTRAINING\u001b[0m \n",
       "\t\t\t\t\t NODE_ID: NODE_5fbd3836-38ce-4075-9c03-bdef6bd97579 \n",
       "\t\t\t\t\t Round 2 Epoch: 10 | Iteration: 1/80 (1%) | Samples: 32/2560\n",
       " \t\t\t\t\t Loss: \u001b[1m0.000014\u001b[0m \n",
       "\t\t\t\t\t ---------"
      ]
     },
     "metadata": {},
     "output_type": "display_data"
    },
    {
     "data": {
      "text/plain": [
       "2025-10-03 03:04:37,139 fedbiomed INFO - \u001b[1mTRAINING\u001b[0m \n",
       "\t\t\t\t\t NODE_ID: NODE_9da4e82d-e30d-44c2-a481-b8a877e97f4d \n",
       "\t\t\t\t\t Round 2 Epoch: 6 | Iteration: 20/80 (25%) | Samples: 640/2560\n",
       " \t\t\t\t\t Loss: \u001b[1m0.000020\u001b[0m \n",
       "\t\t\t\t\t ---------"
      ]
     },
     "metadata": {},
     "output_type": "display_data"
    },
    {
     "data": {
      "text/plain": [
       "2025-10-03 03:04:37,142 fedbiomed INFO - \u001b[1mTRAINING\u001b[0m \n",
       "\t\t\t\t\t NODE_ID: NODE_5fbd3836-38ce-4075-9c03-bdef6bd97579 \n",
       "\t\t\t\t\t Round 2 Epoch: 10 | Iteration: 10/80 (12%) | Samples: 320/2560\n",
       " \t\t\t\t\t Loss: \u001b[1m0.000024\u001b[0m \n",
       "\t\t\t\t\t ---------"
      ]
     },
     "metadata": {},
     "output_type": "display_data"
    },
    {
     "data": {
      "text/plain": [
       "2025-10-03 03:04:37,159 fedbiomed INFO - \u001b[1mTRAINING\u001b[0m \n",
       "\t\t\t\t\t NODE_ID: NODE_9da4e82d-e30d-44c2-a481-b8a877e97f4d \n",
       "\t\t\t\t\t Round 2 Epoch: 6 | Iteration: 30/80 (38%) | Samples: 960/2560\n",
       " \t\t\t\t\t Loss: \u001b[1m0.000040\u001b[0m \n",
       "\t\t\t\t\t ---------"
      ]
     },
     "metadata": {},
     "output_type": "display_data"
    },
    {
     "data": {
      "text/plain": [
       "2025-10-03 03:04:37,164 fedbiomed INFO - \u001b[1mTRAINING\u001b[0m \n",
       "\t\t\t\t\t NODE_ID: NODE_5fbd3836-38ce-4075-9c03-bdef6bd97579 \n",
       "\t\t\t\t\t Round 2 Epoch: 10 | Iteration: 20/80 (25%) | Samples: 640/2560\n",
       " \t\t\t\t\t Loss: \u001b[1m0.000023\u001b[0m \n",
       "\t\t\t\t\t ---------"
      ]
     },
     "metadata": {},
     "output_type": "display_data"
    },
    {
     "data": {
      "text/plain": [
       "2025-10-03 03:04:37,180 fedbiomed INFO - \u001b[1mTRAINING\u001b[0m \n",
       "\t\t\t\t\t NODE_ID: NODE_9da4e82d-e30d-44c2-a481-b8a877e97f4d \n",
       "\t\t\t\t\t Round 2 Epoch: 6 | Iteration: 40/80 (50%) | Samples: 1280/2560\n",
       " \t\t\t\t\t Loss: \u001b[1m0.000050\u001b[0m \n",
       "\t\t\t\t\t ---------"
      ]
     },
     "metadata": {},
     "output_type": "display_data"
    },
    {
     "data": {
      "text/plain": [
       "2025-10-03 03:04:37,188 fedbiomed INFO - \u001b[1mTRAINING\u001b[0m \n",
       "\t\t\t\t\t NODE_ID: NODE_5fbd3836-38ce-4075-9c03-bdef6bd97579 \n",
       "\t\t\t\t\t Round 2 Epoch: 10 | Iteration: 30/80 (38%) | Samples: 960/2560\n",
       " \t\t\t\t\t Loss: \u001b[1m0.000008\u001b[0m \n",
       "\t\t\t\t\t ---------"
      ]
     },
     "metadata": {},
     "output_type": "display_data"
    },
    {
     "data": {
      "text/plain": [
       "2025-10-03 03:04:37,202 fedbiomed INFO - \u001b[1mTRAINING\u001b[0m \n",
       "\t\t\t\t\t NODE_ID: NODE_9da4e82d-e30d-44c2-a481-b8a877e97f4d \n",
       "\t\t\t\t\t Round 2 Epoch: 6 | Iteration: 50/80 (62%) | Samples: 1600/2560\n",
       " \t\t\t\t\t Loss: \u001b[1m0.000098\u001b[0m \n",
       "\t\t\t\t\t ---------"
      ]
     },
     "metadata": {},
     "output_type": "display_data"
    },
    {
     "data": {
      "text/plain": [
       "2025-10-03 03:04:37,210 fedbiomed INFO - \u001b[1mTRAINING\u001b[0m \n",
       "\t\t\t\t\t NODE_ID: NODE_5fbd3836-38ce-4075-9c03-bdef6bd97579 \n",
       "\t\t\t\t\t Round 2 Epoch: 10 | Iteration: 40/80 (50%) | Samples: 1280/2560\n",
       " \t\t\t\t\t Loss: \u001b[1m0.000014\u001b[0m \n",
       "\t\t\t\t\t ---------"
      ]
     },
     "metadata": {},
     "output_type": "display_data"
    },
    {
     "data": {
      "text/plain": [
       "2025-10-03 03:04:37,223 fedbiomed INFO - \u001b[1mTRAINING\u001b[0m \n",
       "\t\t\t\t\t NODE_ID: NODE_9da4e82d-e30d-44c2-a481-b8a877e97f4d \n",
       "\t\t\t\t\t Round 2 Epoch: 6 | Iteration: 60/80 (75%) | Samples: 1920/2560\n",
       " \t\t\t\t\t Loss: \u001b[1m0.000042\u001b[0m \n",
       "\t\t\t\t\t ---------"
      ]
     },
     "metadata": {},
     "output_type": "display_data"
    },
    {
     "data": {
      "text/plain": [
       "2025-10-03 03:04:37,235 fedbiomed INFO - \u001b[1mTRAINING\u001b[0m \n",
       "\t\t\t\t\t NODE_ID: NODE_5fbd3836-38ce-4075-9c03-bdef6bd97579 \n",
       "\t\t\t\t\t Round 2 Epoch: 10 | Iteration: 50/80 (62%) | Samples: 1600/2560\n",
       " \t\t\t\t\t Loss: \u001b[1m0.000008\u001b[0m \n",
       "\t\t\t\t\t ---------"
      ]
     },
     "metadata": {},
     "output_type": "display_data"
    },
    {
     "data": {
      "text/plain": [
       "2025-10-03 03:04:37,246 fedbiomed INFO - \u001b[1mTRAINING\u001b[0m \n",
       "\t\t\t\t\t NODE_ID: NODE_9da4e82d-e30d-44c2-a481-b8a877e97f4d \n",
       "\t\t\t\t\t Round 2 Epoch: 6 | Iteration: 70/80 (88%) | Samples: 2240/2560\n",
       " \t\t\t\t\t Loss: \u001b[1m0.000084\u001b[0m \n",
       "\t\t\t\t\t ---------"
      ]
     },
     "metadata": {},
     "output_type": "display_data"
    },
    {
     "data": {
      "text/plain": [
       "2025-10-03 03:04:37,259 fedbiomed INFO - \u001b[1mTRAINING\u001b[0m \n",
       "\t\t\t\t\t NODE_ID: NODE_5fbd3836-38ce-4075-9c03-bdef6bd97579 \n",
       "\t\t\t\t\t Round 2 Epoch: 10 | Iteration: 60/80 (75%) | Samples: 1920/2560\n",
       " \t\t\t\t\t Loss: \u001b[1m0.000014\u001b[0m \n",
       "\t\t\t\t\t ---------"
      ]
     },
     "metadata": {},
     "output_type": "display_data"
    },
    {
     "data": {
      "text/plain": [
       "2025-10-03 03:04:37,269 fedbiomed INFO - \u001b[1mTRAINING\u001b[0m \n",
       "\t\t\t\t\t NODE_ID: NODE_9da4e82d-e30d-44c2-a481-b8a877e97f4d \n",
       "\t\t\t\t\t Round 2 Epoch: 6 | Iteration: 80/80 (100%) | Samples: 2541/2541\n",
       " \t\t\t\t\t Loss: \u001b[1m0.000057\u001b[0m \n",
       "\t\t\t\t\t ---------"
      ]
     },
     "metadata": {},
     "output_type": "display_data"
    },
    {
     "data": {
      "text/plain": [
       "2025-10-03 03:04:37,273 fedbiomed INFO - \u001b[1mTRAINING\u001b[0m \n",
       "\t\t\t\t\t NODE_ID: NODE_9da4e82d-e30d-44c2-a481-b8a877e97f4d \n",
       "\t\t\t\t\t Round 2 Epoch: 7 | Iteration: 1/80 (1%) | Samples: 32/2560\n",
       " \t\t\t\t\t Loss: \u001b[1m0.000034\u001b[0m \n",
       "\t\t\t\t\t ---------"
      ]
     },
     "metadata": {},
     "output_type": "display_data"
    },
    {
     "data": {
      "text/plain": [
       "2025-10-03 03:04:37,288 fedbiomed INFO - \u001b[1mTRAINING\u001b[0m \n",
       "\t\t\t\t\t NODE_ID: NODE_5fbd3836-38ce-4075-9c03-bdef6bd97579 \n",
       "\t\t\t\t\t Round 2 Epoch: 10 | Iteration: 70/80 (88%) | Samples: 2240/2560\n",
       " \t\t\t\t\t Loss: \u001b[1m0.000008\u001b[0m \n",
       "\t\t\t\t\t ---------"
      ]
     },
     "metadata": {},
     "output_type": "display_data"
    },
    {
     "data": {
      "text/plain": [
       "2025-10-03 03:04:37,293 fedbiomed INFO - \u001b[1mTRAINING\u001b[0m \n",
       "\t\t\t\t\t NODE_ID: NODE_9da4e82d-e30d-44c2-a481-b8a877e97f4d \n",
       "\t\t\t\t\t Round 2 Epoch: 7 | Iteration: 10/80 (12%) | Samples: 320/2560\n",
       " \t\t\t\t\t Loss: \u001b[1m0.000026\u001b[0m \n",
       "\t\t\t\t\t ---------"
      ]
     },
     "metadata": {},
     "output_type": "display_data"
    },
    {
     "data": {
      "text/plain": [
       "2025-10-03 03:04:37,312 fedbiomed INFO - \u001b[1mTRAINING\u001b[0m \n",
       "\t\t\t\t\t NODE_ID: NODE_5fbd3836-38ce-4075-9c03-bdef6bd97579 \n",
       "\t\t\t\t\t Round 2 Epoch: 10 | Iteration: 80/80 (100%) | Samples: 2541/2541\n",
       " \t\t\t\t\t Loss: \u001b[1m0.000001\u001b[0m \n",
       "\t\t\t\t\t ---------"
      ]
     },
     "metadata": {},
     "output_type": "display_data"
    },
    {
     "data": {
      "text/plain": [
       "2025-10-03 03:04:37,314 fedbiomed INFO - \u001b[1mTRAINING\u001b[0m \n",
       "\t\t\t\t\t NODE_ID: NODE_9da4e82d-e30d-44c2-a481-b8a877e97f4d \n",
       "\t\t\t\t\t Round 2 Epoch: 7 | Iteration: 20/80 (25%) | Samples: 640/2560\n",
       " \t\t\t\t\t Loss: \u001b[1m0.000042\u001b[0m \n",
       "\t\t\t\t\t ---------"
      ]
     },
     "metadata": {},
     "output_type": "display_data"
    },
    {
     "data": {
      "text/plain": [
       "2025-10-03 03:04:37,322 fedbiomed INFO - \u001b[1mVALIDATION ON LOCAL UPDATES\u001b[0m \n",
       "\t\t\t\t\t NODE_ID: NODE_5fbd3836-38ce-4075-9c03-bdef6bd97579 \n",
       "\t\t\t\t\t Round 2 | Iteration: 1/1 (100%) | Samples: 635/635\n",
       " \t\t\t\t\t ACCURACY: \u001b[1m1.000000\u001b[0m \n",
       "\t\t\t\t\t ---------"
      ]
     },
     "metadata": {},
     "output_type": "display_data"
    },
    {
     "data": {
      "text/plain": [
       "2025-10-03 03:04:37,339 fedbiomed INFO - \u001b[1mTRAINING\u001b[0m \n",
       "\t\t\t\t\t NODE_ID: NODE_9da4e82d-e30d-44c2-a481-b8a877e97f4d \n",
       "\t\t\t\t\t Round 2 Epoch: 7 | Iteration: 30/80 (38%) | Samples: 960/2560\n",
       " \t\t\t\t\t Loss: \u001b[1m0.000024\u001b[0m \n",
       "\t\t\t\t\t ---------"
      ]
     },
     "metadata": {},
     "output_type": "display_data"
    },
    {
     "data": {
      "text/plain": [
       "2025-10-03 03:04:37,358 fedbiomed INFO - \u001b[1mTRAINING\u001b[0m \n",
       "\t\t\t\t\t NODE_ID: NODE_9da4e82d-e30d-44c2-a481-b8a877e97f4d \n",
       "\t\t\t\t\t Round 2 Epoch: 7 | Iteration: 40/80 (50%) | Samples: 1280/2560\n",
       " \t\t\t\t\t Loss: \u001b[1m0.000036\u001b[0m \n",
       "\t\t\t\t\t ---------"
      ]
     },
     "metadata": {},
     "output_type": "display_data"
    },
    {
     "data": {
      "text/plain": [
       "2025-10-03 03:04:37,367 fedbiomed INFO - \u001b[1mTRAINING\u001b[0m \n",
       "\t\t\t\t\t NODE_ID: NODE_9da4e82d-e30d-44c2-a481-b8a877e97f4d \n",
       "\t\t\t\t\t Round 2 Epoch: 7 | Iteration: 50/80 (62%) | Samples: 1600/2560\n",
       " \t\t\t\t\t Loss: \u001b[1m0.000066\u001b[0m \n",
       "\t\t\t\t\t ---------"
      ]
     },
     "metadata": {},
     "output_type": "display_data"
    },
    {
     "data": {
      "text/plain": [
       "2025-10-03 03:04:37,376 fedbiomed INFO - \u001b[1mTRAINING\u001b[0m \n",
       "\t\t\t\t\t NODE_ID: NODE_9da4e82d-e30d-44c2-a481-b8a877e97f4d \n",
       "\t\t\t\t\t Round 2 Epoch: 7 | Iteration: 60/80 (75%) | Samples: 1920/2560\n",
       " \t\t\t\t\t Loss: \u001b[1m0.000020\u001b[0m \n",
       "\t\t\t\t\t ---------"
      ]
     },
     "metadata": {},
     "output_type": "display_data"
    },
    {
     "data": {
      "text/plain": [
       "2025-10-03 03:04:37,386 fedbiomed INFO - \u001b[1mTRAINING\u001b[0m \n",
       "\t\t\t\t\t NODE_ID: NODE_9da4e82d-e30d-44c2-a481-b8a877e97f4d \n",
       "\t\t\t\t\t Round 2 Epoch: 7 | Iteration: 70/80 (88%) | Samples: 2240/2560\n",
       " \t\t\t\t\t Loss: \u001b[1m0.000038\u001b[0m \n",
       "\t\t\t\t\t ---------"
      ]
     },
     "metadata": {},
     "output_type": "display_data"
    },
    {
     "data": {
      "text/plain": [
       "2025-10-03 03:04:37,397 fedbiomed INFO - \u001b[1mTRAINING\u001b[0m \n",
       "\t\t\t\t\t NODE_ID: NODE_9da4e82d-e30d-44c2-a481-b8a877e97f4d \n",
       "\t\t\t\t\t Round 2 Epoch: 7 | Iteration: 80/80 (100%) | Samples: 2541/2541\n",
       " \t\t\t\t\t Loss: \u001b[1m0.000064\u001b[0m \n",
       "\t\t\t\t\t ---------"
      ]
     },
     "metadata": {},
     "output_type": "display_data"
    },
    {
     "data": {
      "text/plain": [
       "2025-10-03 03:04:37,400 fedbiomed INFO - \u001b[1mTRAINING\u001b[0m \n",
       "\t\t\t\t\t NODE_ID: NODE_9da4e82d-e30d-44c2-a481-b8a877e97f4d \n",
       "\t\t\t\t\t Round 2 Epoch: 8 | Iteration: 1/80 (1%) | Samples: 32/2560\n",
       " \t\t\t\t\t Loss: \u001b[1m0.000040\u001b[0m \n",
       "\t\t\t\t\t ---------"
      ]
     },
     "metadata": {},
     "output_type": "display_data"
    },
    {
     "data": {
      "text/plain": [
       "2025-10-03 03:04:37,415 fedbiomed INFO - \u001b[1mTRAINING\u001b[0m \n",
       "\t\t\t\t\t NODE_ID: NODE_9da4e82d-e30d-44c2-a481-b8a877e97f4d \n",
       "\t\t\t\t\t Round 2 Epoch: 8 | Iteration: 10/80 (12%) | Samples: 320/2560\n",
       " \t\t\t\t\t Loss: \u001b[1m0.000016\u001b[0m \n",
       "\t\t\t\t\t ---------"
      ]
     },
     "metadata": {},
     "output_type": "display_data"
    },
    {
     "data": {
      "text/plain": [
       "2025-10-03 03:04:37,425 fedbiomed INFO - \u001b[1mTRAINING\u001b[0m \n",
       "\t\t\t\t\t NODE_ID: NODE_9da4e82d-e30d-44c2-a481-b8a877e97f4d \n",
       "\t\t\t\t\t Round 2 Epoch: 8 | Iteration: 20/80 (25%) | Samples: 640/2560\n",
       " \t\t\t\t\t Loss: \u001b[1m0.000017\u001b[0m \n",
       "\t\t\t\t\t ---------"
      ]
     },
     "metadata": {},
     "output_type": "display_data"
    },
    {
     "data": {
      "text/plain": [
       "2025-10-03 03:04:37,434 fedbiomed INFO - \u001b[1mTRAINING\u001b[0m \n",
       "\t\t\t\t\t NODE_ID: NODE_9da4e82d-e30d-44c2-a481-b8a877e97f4d \n",
       "\t\t\t\t\t Round 2 Epoch: 8 | Iteration: 30/80 (38%) | Samples: 960/2560\n",
       " \t\t\t\t\t Loss: \u001b[1m0.000050\u001b[0m \n",
       "\t\t\t\t\t ---------"
      ]
     },
     "metadata": {},
     "output_type": "display_data"
    },
    {
     "data": {
      "text/plain": [
       "2025-10-03 03:04:37,453 fedbiomed INFO - \u001b[1mTRAINING\u001b[0m \n",
       "\t\t\t\t\t NODE_ID: NODE_9da4e82d-e30d-44c2-a481-b8a877e97f4d \n",
       "\t\t\t\t\t Round 2 Epoch: 8 | Iteration: 40/80 (50%) | Samples: 1280/2560\n",
       " \t\t\t\t\t Loss: \u001b[1m0.000024\u001b[0m \n",
       "\t\t\t\t\t ---------"
      ]
     },
     "metadata": {},
     "output_type": "display_data"
    },
    {
     "data": {
      "text/plain": [
       "2025-10-03 03:04:37,466 fedbiomed INFO - \u001b[1mTRAINING\u001b[0m \n",
       "\t\t\t\t\t NODE_ID: NODE_9da4e82d-e30d-44c2-a481-b8a877e97f4d \n",
       "\t\t\t\t\t Round 2 Epoch: 8 | Iteration: 50/80 (62%) | Samples: 1600/2560\n",
       " \t\t\t\t\t Loss: \u001b[1m0.000052\u001b[0m \n",
       "\t\t\t\t\t ---------"
      ]
     },
     "metadata": {},
     "output_type": "display_data"
    },
    {
     "data": {
      "text/plain": [
       "2025-10-03 03:04:37,474 fedbiomed INFO - \u001b[1mTRAINING\u001b[0m \n",
       "\t\t\t\t\t NODE_ID: NODE_9da4e82d-e30d-44c2-a481-b8a877e97f4d \n",
       "\t\t\t\t\t Round 2 Epoch: 8 | Iteration: 60/80 (75%) | Samples: 1920/2560\n",
       " \t\t\t\t\t Loss: \u001b[1m0.000013\u001b[0m \n",
       "\t\t\t\t\t ---------"
      ]
     },
     "metadata": {},
     "output_type": "display_data"
    },
    {
     "data": {
      "text/plain": [
       "2025-10-03 03:04:37,483 fedbiomed INFO - \u001b[1mTRAINING\u001b[0m \n",
       "\t\t\t\t\t NODE_ID: NODE_9da4e82d-e30d-44c2-a481-b8a877e97f4d \n",
       "\t\t\t\t\t Round 2 Epoch: 8 | Iteration: 70/80 (88%) | Samples: 2240/2560\n",
       " \t\t\t\t\t Loss: \u001b[1m0.000159\u001b[0m \n",
       "\t\t\t\t\t ---------"
      ]
     },
     "metadata": {},
     "output_type": "display_data"
    },
    {
     "data": {
      "text/plain": [
       "2025-10-03 03:04:37,494 fedbiomed INFO - \u001b[1mTRAINING\u001b[0m \n",
       "\t\t\t\t\t NODE_ID: NODE_9da4e82d-e30d-44c2-a481-b8a877e97f4d \n",
       "\t\t\t\t\t Round 2 Epoch: 8 | Iteration: 80/80 (100%) | Samples: 2541/2541\n",
       " \t\t\t\t\t Loss: \u001b[1m0.000010\u001b[0m \n",
       "\t\t\t\t\t ---------"
      ]
     },
     "metadata": {},
     "output_type": "display_data"
    },
    {
     "data": {
      "text/plain": [
       "2025-10-03 03:04:37,497 fedbiomed INFO - \u001b[1mTRAINING\u001b[0m \n",
       "\t\t\t\t\t NODE_ID: NODE_9da4e82d-e30d-44c2-a481-b8a877e97f4d \n",
       "\t\t\t\t\t Round 2 Epoch: 9 | Iteration: 1/80 (1%) | Samples: 32/2560\n",
       " \t\t\t\t\t Loss: \u001b[1m0.000024\u001b[0m \n",
       "\t\t\t\t\t ---------"
      ]
     },
     "metadata": {},
     "output_type": "display_data"
    },
    {
     "data": {
      "text/plain": [
       "2025-10-03 03:04:37,507 fedbiomed INFO - \u001b[1mTRAINING\u001b[0m \n",
       "\t\t\t\t\t NODE_ID: NODE_9da4e82d-e30d-44c2-a481-b8a877e97f4d \n",
       "\t\t\t\t\t Round 2 Epoch: 9 | Iteration: 10/80 (12%) | Samples: 320/2560\n",
       " \t\t\t\t\t Loss: \u001b[1m0.000022\u001b[0m \n",
       "\t\t\t\t\t ---------"
      ]
     },
     "metadata": {},
     "output_type": "display_data"
    },
    {
     "data": {
      "text/plain": [
       "2025-10-03 03:04:37,517 fedbiomed INFO - \u001b[1mTRAINING\u001b[0m \n",
       "\t\t\t\t\t NODE_ID: NODE_9da4e82d-e30d-44c2-a481-b8a877e97f4d \n",
       "\t\t\t\t\t Round 2 Epoch: 9 | Iteration: 20/80 (25%) | Samples: 640/2560\n",
       " \t\t\t\t\t Loss: \u001b[1m0.000101\u001b[0m \n",
       "\t\t\t\t\t ---------"
      ]
     },
     "metadata": {},
     "output_type": "display_data"
    },
    {
     "data": {
      "text/plain": [
       "2025-10-03 03:04:37,530 fedbiomed INFO - \u001b[1mTRAINING\u001b[0m \n",
       "\t\t\t\t\t NODE_ID: NODE_9da4e82d-e30d-44c2-a481-b8a877e97f4d \n",
       "\t\t\t\t\t Round 2 Epoch: 9 | Iteration: 30/80 (38%) | Samples: 960/2560\n",
       " \t\t\t\t\t Loss: \u001b[1m0.000007\u001b[0m \n",
       "\t\t\t\t\t ---------"
      ]
     },
     "metadata": {},
     "output_type": "display_data"
    },
    {
     "data": {
      "text/plain": [
       "2025-10-03 03:04:37,538 fedbiomed INFO - \u001b[1mTRAINING\u001b[0m \n",
       "\t\t\t\t\t NODE_ID: NODE_9da4e82d-e30d-44c2-a481-b8a877e97f4d \n",
       "\t\t\t\t\t Round 2 Epoch: 9 | Iteration: 40/80 (50%) | Samples: 1280/2560\n",
       " \t\t\t\t\t Loss: \u001b[1m0.000012\u001b[0m \n",
       "\t\t\t\t\t ---------"
      ]
     },
     "metadata": {},
     "output_type": "display_data"
    },
    {
     "data": {
      "text/plain": [
       "2025-10-03 03:04:37,546 fedbiomed INFO - \u001b[1mTRAINING\u001b[0m \n",
       "\t\t\t\t\t NODE_ID: NODE_9da4e82d-e30d-44c2-a481-b8a877e97f4d \n",
       "\t\t\t\t\t Round 2 Epoch: 9 | Iteration: 50/80 (62%) | Samples: 1600/2560\n",
       " \t\t\t\t\t Loss: \u001b[1m0.000020\u001b[0m \n",
       "\t\t\t\t\t ---------"
      ]
     },
     "metadata": {},
     "output_type": "display_data"
    },
    {
     "data": {
      "text/plain": [
       "2025-10-03 03:04:37,553 fedbiomed INFO - \u001b[1mTRAINING\u001b[0m \n",
       "\t\t\t\t\t NODE_ID: NODE_9da4e82d-e30d-44c2-a481-b8a877e97f4d \n",
       "\t\t\t\t\t Round 2 Epoch: 9 | Iteration: 60/80 (75%) | Samples: 1920/2560\n",
       " \t\t\t\t\t Loss: \u001b[1m0.000020\u001b[0m \n",
       "\t\t\t\t\t ---------"
      ]
     },
     "metadata": {},
     "output_type": "display_data"
    },
    {
     "data": {
      "text/plain": [
       "2025-10-03 03:04:37,570 fedbiomed INFO - \u001b[1mTRAINING\u001b[0m \n",
       "\t\t\t\t\t NODE_ID: NODE_9da4e82d-e30d-44c2-a481-b8a877e97f4d \n",
       "\t\t\t\t\t Round 2 Epoch: 9 | Iteration: 70/80 (88%) | Samples: 2240/2560\n",
       " \t\t\t\t\t Loss: \u001b[1m0.000011\u001b[0m \n",
       "\t\t\t\t\t ---------"
      ]
     },
     "metadata": {},
     "output_type": "display_data"
    },
    {
     "data": {
      "text/plain": [
       "2025-10-03 03:04:37,578 fedbiomed INFO - \u001b[1mTRAINING\u001b[0m \n",
       "\t\t\t\t\t NODE_ID: NODE_9da4e82d-e30d-44c2-a481-b8a877e97f4d \n",
       "\t\t\t\t\t Round 2 Epoch: 9 | Iteration: 80/80 (100%) | Samples: 2541/2541\n",
       " \t\t\t\t\t Loss: \u001b[1m0.000018\u001b[0m \n",
       "\t\t\t\t\t ---------"
      ]
     },
     "metadata": {},
     "output_type": "display_data"
    },
    {
     "data": {
      "text/plain": [
       "2025-10-03 03:04:37,581 fedbiomed INFO - \u001b[1mTRAINING\u001b[0m \n",
       "\t\t\t\t\t NODE_ID: NODE_9da4e82d-e30d-44c2-a481-b8a877e97f4d \n",
       "\t\t\t\t\t Round 2 Epoch: 10 | Iteration: 1/80 (1%) | Samples: 32/2560\n",
       " \t\t\t\t\t Loss: \u001b[1m0.000021\u001b[0m \n",
       "\t\t\t\t\t ---------"
      ]
     },
     "metadata": {},
     "output_type": "display_data"
    },
    {
     "data": {
      "text/plain": [
       "2025-10-03 03:04:37,593 fedbiomed INFO - \u001b[1mTRAINING\u001b[0m \n",
       "\t\t\t\t\t NODE_ID: NODE_9da4e82d-e30d-44c2-a481-b8a877e97f4d \n",
       "\t\t\t\t\t Round 2 Epoch: 10 | Iteration: 10/80 (12%) | Samples: 320/2560\n",
       " \t\t\t\t\t Loss: \u001b[1m0.000013\u001b[0m \n",
       "\t\t\t\t\t ---------"
      ]
     },
     "metadata": {},
     "output_type": "display_data"
    },
    {
     "data": {
      "text/plain": [
       "2025-10-03 03:04:37,604 fedbiomed INFO - \u001b[1mTRAINING\u001b[0m \n",
       "\t\t\t\t\t NODE_ID: NODE_9da4e82d-e30d-44c2-a481-b8a877e97f4d \n",
       "\t\t\t\t\t Round 2 Epoch: 10 | Iteration: 20/80 (25%) | Samples: 640/2560\n",
       " \t\t\t\t\t Loss: \u001b[1m0.000035\u001b[0m \n",
       "\t\t\t\t\t ---------"
      ]
     },
     "metadata": {},
     "output_type": "display_data"
    },
    {
     "data": {
      "text/plain": [
       "2025-10-03 03:04:37,616 fedbiomed INFO - \u001b[1mTRAINING\u001b[0m \n",
       "\t\t\t\t\t NODE_ID: NODE_9da4e82d-e30d-44c2-a481-b8a877e97f4d \n",
       "\t\t\t\t\t Round 2 Epoch: 10 | Iteration: 30/80 (38%) | Samples: 960/2560\n",
       " \t\t\t\t\t Loss: \u001b[1m0.000021\u001b[0m \n",
       "\t\t\t\t\t ---------"
      ]
     },
     "metadata": {},
     "output_type": "display_data"
    },
    {
     "data": {
      "text/plain": [
       "2025-10-03 03:04:37,632 fedbiomed INFO - \u001b[1mTRAINING\u001b[0m \n",
       "\t\t\t\t\t NODE_ID: NODE_9da4e82d-e30d-44c2-a481-b8a877e97f4d \n",
       "\t\t\t\t\t Round 2 Epoch: 10 | Iteration: 40/80 (50%) | Samples: 1280/2560\n",
       " \t\t\t\t\t Loss: \u001b[1m0.000013\u001b[0m \n",
       "\t\t\t\t\t ---------"
      ]
     },
     "metadata": {},
     "output_type": "display_data"
    },
    {
     "data": {
      "text/plain": [
       "2025-10-03 03:04:37,640 fedbiomed INFO - \u001b[1mTRAINING\u001b[0m \n",
       "\t\t\t\t\t NODE_ID: NODE_9da4e82d-e30d-44c2-a481-b8a877e97f4d \n",
       "\t\t\t\t\t Round 2 Epoch: 10 | Iteration: 50/80 (62%) | Samples: 1600/2560\n",
       " \t\t\t\t\t Loss: \u001b[1m0.000013\u001b[0m \n",
       "\t\t\t\t\t ---------"
      ]
     },
     "metadata": {},
     "output_type": "display_data"
    },
    {
     "data": {
      "text/plain": [
       "2025-10-03 03:04:37,649 fedbiomed INFO - \u001b[1mTRAINING\u001b[0m \n",
       "\t\t\t\t\t NODE_ID: NODE_9da4e82d-e30d-44c2-a481-b8a877e97f4d \n",
       "\t\t\t\t\t Round 2 Epoch: 10 | Iteration: 60/80 (75%) | Samples: 1920/2560\n",
       " \t\t\t\t\t Loss: \u001b[1m0.000022\u001b[0m \n",
       "\t\t\t\t\t ---------"
      ]
     },
     "metadata": {},
     "output_type": "display_data"
    },
    {
     "data": {
      "text/plain": [
       "2025-10-03 03:04:37,660 fedbiomed INFO - \u001b[1mTRAINING\u001b[0m \n",
       "\t\t\t\t\t NODE_ID: NODE_9da4e82d-e30d-44c2-a481-b8a877e97f4d \n",
       "\t\t\t\t\t Round 2 Epoch: 10 | Iteration: 70/80 (88%) | Samples: 2240/2560\n",
       " \t\t\t\t\t Loss: \u001b[1m0.000020\u001b[0m \n",
       "\t\t\t\t\t ---------"
      ]
     },
     "metadata": {},
     "output_type": "display_data"
    },
    {
     "data": {
      "text/plain": [
       "2025-10-03 03:04:37,670 fedbiomed INFO - \u001b[1mTRAINING\u001b[0m \n",
       "\t\t\t\t\t NODE_ID: NODE_9da4e82d-e30d-44c2-a481-b8a877e97f4d \n",
       "\t\t\t\t\t Round 2 Epoch: 10 | Iteration: 80/80 (100%) | Samples: 2541/2541\n",
       " \t\t\t\t\t Loss: \u001b[1m0.000004\u001b[0m \n",
       "\t\t\t\t\t ---------"
      ]
     },
     "metadata": {},
     "output_type": "display_data"
    },
    {
     "data": {
      "text/plain": [
       "2025-10-03 03:04:37,678 fedbiomed INFO - \u001b[1mVALIDATION ON LOCAL UPDATES\u001b[0m \n",
       "\t\t\t\t\t NODE_ID: NODE_9da4e82d-e30d-44c2-a481-b8a877e97f4d \n",
       "\t\t\t\t\t Round 2 | Iteration: 1/1 (100%) | Samples: 635/635\n",
       " \t\t\t\t\t ACCURACY: \u001b[1m1.000000\u001b[0m \n",
       "\t\t\t\t\t ---------"
      ]
     },
     "metadata": {},
     "output_type": "display_data"
    },
    {
     "data": {
      "text/plain": [
       "2025-10-03 03:04:38,050 fedbiomed INFO - Nodes that successfully reply in round 1 ['NODE_9da4e82d-e30d-44c2-a481-b8a877e97f4d', 'NODE_5fbd3836-38ce-4075-9c03-bdef6bd97579']"
      ]
     },
     "metadata": {},
     "output_type": "display_data"
    },
    {
     "data": {
      "text/plain": [
       "2025-10-03 03:04:38,052 fedbiomed INFO - Sampled nodes in round 2 ['NODE_9da4e82d-e30d-44c2-a481-b8a877e97f4d', 'NODE_5fbd3836-38ce-4075-9c03-bdef6bd97579']"
      ]
     },
     "metadata": {},
     "output_type": "display_data"
    },
    {
     "name": "stdout",
     "output_type": "stream",
     "text": [
      "<function extract_symbols at 0x7f19a038bac0>\n"
     ]
    },
    {
     "data": {
      "text/plain": [
       "2025-10-03 03:04:38,054 fedbiomed INFO - \u001b[1mSending request\u001b[0m \n",
       "\t\t\t\t\t\u001b[1m To\u001b[0m: NODE_9da4e82d-e30d-44c2-a481-b8a877e97f4d \n",
       "\t\t\t\t\t\u001b[1m Request: \u001b[0m: TRAIN\n",
       " -----------------------------------------------------------------"
      ]
     },
     "metadata": {},
     "output_type": "display_data"
    },
    {
     "data": {
      "text/plain": [
       "2025-10-03 03:04:38,056 fedbiomed INFO - \u001b[1mSending request\u001b[0m \n",
       "\t\t\t\t\t\u001b[1m To\u001b[0m: NODE_5fbd3836-38ce-4075-9c03-bdef6bd97579 \n",
       "\t\t\t\t\t\u001b[1m Request: \u001b[0m: TRAIN\n",
       " -----------------------------------------------------------------"
      ]
     },
     "metadata": {},
     "output_type": "display_data"
    },
    {
     "data": {
      "text/plain": [
       "2025-10-03 03:04:38,063 fedbiomed DEBUG - Node: NODE_9da4e82d-e30d-44c2-a481-b8a877e97f4d polling for the tasks"
      ]
     },
     "metadata": {},
     "output_type": "display_data"
    },
    {
     "data": {
      "text/plain": [
       "2025-10-03 03:04:38,065 fedbiomed DEBUG - Node: NODE_5fbd3836-38ce-4075-9c03-bdef6bd97579 polling for the tasks"
      ]
     },
     "metadata": {},
     "output_type": "display_data"
    },
    {
     "data": {
      "text/plain": [
       "2025-10-03 03:04:38,396 fedbiomed INFO - \u001b[1mVALIDATION ON GLOBAL UPDATES\u001b[0m \n",
       "\t\t\t\t\t NODE_ID: NODE_5fbd3836-38ce-4075-9c03-bdef6bd97579 \n",
       "\t\t\t\t\t Round 3 | Iteration: 1/1 (100%) | Samples: 635/635\n",
       " \t\t\t\t\t ACCURACY: \u001b[1m1.000000\u001b[0m \n",
       "\t\t\t\t\t ---------"
      ]
     },
     "metadata": {},
     "output_type": "display_data"
    },
    {
     "data": {
      "text/plain": [
       "2025-10-03 03:04:38,401 fedbiomed INFO - \u001b[1mTRAINING\u001b[0m \n",
       "\t\t\t\t\t NODE_ID: NODE_5fbd3836-38ce-4075-9c03-bdef6bd97579 \n",
       "\t\t\t\t\t Round 3 Epoch: 1 | Iteration: 1/80 (1%) | Samples: 32/2560\n",
       " \t\t\t\t\t Loss: \u001b[1m0.000009\u001b[0m \n",
       "\t\t\t\t\t ---------"
      ]
     },
     "metadata": {},
     "output_type": "display_data"
    },
    {
     "data": {
      "text/plain": [
       "2025-10-03 03:04:38,410 fedbiomed INFO - \u001b[1mTRAINING\u001b[0m \n",
       "\t\t\t\t\t NODE_ID: NODE_5fbd3836-38ce-4075-9c03-bdef6bd97579 \n",
       "\t\t\t\t\t Round 3 Epoch: 1 | Iteration: 10/80 (12%) | Samples: 320/2560\n",
       " \t\t\t\t\t Loss: \u001b[1m0.000004\u001b[0m \n",
       "\t\t\t\t\t ---------"
      ]
     },
     "metadata": {},
     "output_type": "display_data"
    },
    {
     "data": {
      "text/plain": [
       "2025-10-03 03:04:38,422 fedbiomed INFO - \u001b[1mTRAINING\u001b[0m \n",
       "\t\t\t\t\t NODE_ID: NODE_5fbd3836-38ce-4075-9c03-bdef6bd97579 \n",
       "\t\t\t\t\t Round 3 Epoch: 1 | Iteration: 20/80 (25%) | Samples: 640/2560\n",
       " \t\t\t\t\t Loss: \u001b[1m0.000018\u001b[0m \n",
       "\t\t\t\t\t ---------"
      ]
     },
     "metadata": {},
     "output_type": "display_data"
    },
    {
     "data": {
      "text/plain": [
       "2025-10-03 03:04:38,436 fedbiomed INFO - \u001b[1mTRAINING\u001b[0m \n",
       "\t\t\t\t\t NODE_ID: NODE_5fbd3836-38ce-4075-9c03-bdef6bd97579 \n",
       "\t\t\t\t\t Round 3 Epoch: 1 | Iteration: 30/80 (38%) | Samples: 960/2560\n",
       " \t\t\t\t\t Loss: \u001b[1m0.000007\u001b[0m \n",
       "\t\t\t\t\t ---------"
      ]
     },
     "metadata": {},
     "output_type": "display_data"
    },
    {
     "data": {
      "text/plain": [
       "2025-10-03 03:04:38,448 fedbiomed INFO - \u001b[1mTRAINING\u001b[0m \n",
       "\t\t\t\t\t NODE_ID: NODE_5fbd3836-38ce-4075-9c03-bdef6bd97579 \n",
       "\t\t\t\t\t Round 3 Epoch: 1 | Iteration: 40/80 (50%) | Samples: 1280/2560\n",
       " \t\t\t\t\t Loss: \u001b[1m0.000013\u001b[0m \n",
       "\t\t\t\t\t ---------"
      ]
     },
     "metadata": {},
     "output_type": "display_data"
    },
    {
     "data": {
      "text/plain": [
       "2025-10-03 03:04:38,461 fedbiomed INFO - \u001b[1mTRAINING\u001b[0m \n",
       "\t\t\t\t\t NODE_ID: NODE_5fbd3836-38ce-4075-9c03-bdef6bd97579 \n",
       "\t\t\t\t\t Round 3 Epoch: 1 | Iteration: 50/80 (62%) | Samples: 1600/2560\n",
       " \t\t\t\t\t Loss: \u001b[1m0.000003\u001b[0m \n",
       "\t\t\t\t\t ---------"
      ]
     },
     "metadata": {},
     "output_type": "display_data"
    },
    {
     "data": {
      "text/plain": [
       "2025-10-03 03:04:38,496 fedbiomed INFO - \u001b[1mVALIDATION ON GLOBAL UPDATES\u001b[0m \n",
       "\t\t\t\t\t NODE_ID: NODE_9da4e82d-e30d-44c2-a481-b8a877e97f4d \n",
       "\t\t\t\t\t Round 3 | Iteration: 1/1 (100%) | Samples: 635/635\n",
       " \t\t\t\t\t ACCURACY: \u001b[1m1.000000\u001b[0m \n",
       "\t\t\t\t\t ---------"
      ]
     },
     "metadata": {},
     "output_type": "display_data"
    },
    {
     "data": {
      "text/plain": [
       "2025-10-03 03:04:38,498 fedbiomed INFO - \u001b[1mTRAINING\u001b[0m \n",
       "\t\t\t\t\t NODE_ID: NODE_5fbd3836-38ce-4075-9c03-bdef6bd97579 \n",
       "\t\t\t\t\t Round 3 Epoch: 1 | Iteration: 60/80 (75%) | Samples: 1920/2560\n",
       " \t\t\t\t\t Loss: \u001b[1m0.000003\u001b[0m \n",
       "\t\t\t\t\t ---------"
      ]
     },
     "metadata": {},
     "output_type": "display_data"
    },
    {
     "data": {
      "text/plain": [
       "2025-10-03 03:04:38,500 fedbiomed INFO - \u001b[1mTRAINING\u001b[0m \n",
       "\t\t\t\t\t NODE_ID: NODE_9da4e82d-e30d-44c2-a481-b8a877e97f4d \n",
       "\t\t\t\t\t Round 3 Epoch: 1 | Iteration: 1/80 (1%) | Samples: 32/2560\n",
       " \t\t\t\t\t Loss: \u001b[1m0.000028\u001b[0m \n",
       "\t\t\t\t\t ---------"
      ]
     },
     "metadata": {},
     "output_type": "display_data"
    },
    {
     "data": {
      "text/plain": [
       "2025-10-03 03:04:38,502 fedbiomed INFO - \u001b[1mTRAINING\u001b[0m \n",
       "\t\t\t\t\t NODE_ID: NODE_5fbd3836-38ce-4075-9c03-bdef6bd97579 \n",
       "\t\t\t\t\t Round 3 Epoch: 1 | Iteration: 70/80 (88%) | Samples: 2240/2560\n",
       " \t\t\t\t\t Loss: \u001b[1m0.000002\u001b[0m \n",
       "\t\t\t\t\t ---------"
      ]
     },
     "metadata": {},
     "output_type": "display_data"
    },
    {
     "data": {
      "text/plain": [
       "2025-10-03 03:04:38,504 fedbiomed INFO - \u001b[1mTRAINING\u001b[0m \n",
       "\t\t\t\t\t NODE_ID: NODE_9da4e82d-e30d-44c2-a481-b8a877e97f4d \n",
       "\t\t\t\t\t Round 3 Epoch: 1 | Iteration: 10/80 (12%) | Samples: 320/2560\n",
       " \t\t\t\t\t Loss: \u001b[1m0.000003\u001b[0m \n",
       "\t\t\t\t\t ---------"
      ]
     },
     "metadata": {},
     "output_type": "display_data"
    },
    {
     "data": {
      "text/plain": [
       "2025-10-03 03:04:38,508 fedbiomed INFO - \u001b[1mTRAINING\u001b[0m \n",
       "\t\t\t\t\t NODE_ID: NODE_5fbd3836-38ce-4075-9c03-bdef6bd97579 \n",
       "\t\t\t\t\t Round 3 Epoch: 1 | Iteration: 80/80 (100%) | Samples: 2541/2541\n",
       " \t\t\t\t\t Loss: \u001b[1m0.000023\u001b[0m \n",
       "\t\t\t\t\t ---------"
      ]
     },
     "metadata": {},
     "output_type": "display_data"
    },
    {
     "data": {
      "text/plain": [
       "2025-10-03 03:04:38,510 fedbiomed INFO - \u001b[1mTRAINING\u001b[0m \n",
       "\t\t\t\t\t NODE_ID: NODE_5fbd3836-38ce-4075-9c03-bdef6bd97579 \n",
       "\t\t\t\t\t Round 3 Epoch: 2 | Iteration: 1/80 (1%) | Samples: 32/2560\n",
       " \t\t\t\t\t Loss: \u001b[1m0.000001\u001b[0m \n",
       "\t\t\t\t\t ---------"
      ]
     },
     "metadata": {},
     "output_type": "display_data"
    },
    {
     "data": {
      "text/plain": [
       "2025-10-03 03:04:38,526 fedbiomed INFO - \u001b[1mTRAINING\u001b[0m \n",
       "\t\t\t\t\t NODE_ID: NODE_5fbd3836-38ce-4075-9c03-bdef6bd97579 \n",
       "\t\t\t\t\t Round 3 Epoch: 2 | Iteration: 10/80 (12%) | Samples: 320/2560\n",
       " \t\t\t\t\t Loss: \u001b[1m0.000001\u001b[0m \n",
       "\t\t\t\t\t ---------"
      ]
     },
     "metadata": {},
     "output_type": "display_data"
    },
    {
     "data": {
      "text/plain": [
       "2025-10-03 03:04:38,529 fedbiomed INFO - \u001b[1mTRAINING\u001b[0m \n",
       "\t\t\t\t\t NODE_ID: NODE_9da4e82d-e30d-44c2-a481-b8a877e97f4d \n",
       "\t\t\t\t\t Round 3 Epoch: 1 | Iteration: 20/80 (25%) | Samples: 640/2560\n",
       " \t\t\t\t\t Loss: \u001b[1m0.000048\u001b[0m \n",
       "\t\t\t\t\t ---------"
      ]
     },
     "metadata": {},
     "output_type": "display_data"
    },
    {
     "data": {
      "text/plain": [
       "2025-10-03 03:04:38,530 fedbiomed INFO - \u001b[1mTRAINING\u001b[0m \n",
       "\t\t\t\t\t NODE_ID: NODE_5fbd3836-38ce-4075-9c03-bdef6bd97579 \n",
       "\t\t\t\t\t Round 3 Epoch: 2 | Iteration: 20/80 (25%) | Samples: 640/2560\n",
       " \t\t\t\t\t Loss: \u001b[1m0.000001\u001b[0m \n",
       "\t\t\t\t\t ---------"
      ]
     },
     "metadata": {},
     "output_type": "display_data"
    },
    {
     "data": {
      "text/plain": [
       "2025-10-03 03:04:38,534 fedbiomed INFO - \u001b[1mTRAINING\u001b[0m \n",
       "\t\t\t\t\t NODE_ID: NODE_5fbd3836-38ce-4075-9c03-bdef6bd97579 \n",
       "\t\t\t\t\t Round 3 Epoch: 2 | Iteration: 30/80 (38%) | Samples: 960/2560\n",
       " \t\t\t\t\t Loss: \u001b[1m0.000001\u001b[0m \n",
       "\t\t\t\t\t ---------"
      ]
     },
     "metadata": {},
     "output_type": "display_data"
    },
    {
     "data": {
      "text/plain": [
       "2025-10-03 03:04:38,544 fedbiomed INFO - \u001b[1mTRAINING\u001b[0m \n",
       "\t\t\t\t\t NODE_ID: NODE_9da4e82d-e30d-44c2-a481-b8a877e97f4d \n",
       "\t\t\t\t\t Round 3 Epoch: 1 | Iteration: 30/80 (38%) | Samples: 960/2560\n",
       " \t\t\t\t\t Loss: \u001b[1m0.000002\u001b[0m \n",
       "\t\t\t\t\t ---------"
      ]
     },
     "metadata": {},
     "output_type": "display_data"
    },
    {
     "data": {
      "text/plain": [
       "2025-10-03 03:04:38,549 fedbiomed INFO - \u001b[1mTRAINING\u001b[0m \n",
       "\t\t\t\t\t NODE_ID: NODE_5fbd3836-38ce-4075-9c03-bdef6bd97579 \n",
       "\t\t\t\t\t Round 3 Epoch: 2 | Iteration: 40/80 (50%) | Samples: 1280/2560\n",
       " \t\t\t\t\t Loss: \u001b[1m0.000000\u001b[0m \n",
       "\t\t\t\t\t ---------"
      ]
     },
     "metadata": {},
     "output_type": "display_data"
    },
    {
     "data": {
      "text/plain": [
       "2025-10-03 03:04:38,560 fedbiomed INFO - \u001b[1mTRAINING\u001b[0m \n",
       "\t\t\t\t\t NODE_ID: NODE_5fbd3836-38ce-4075-9c03-bdef6bd97579 \n",
       "\t\t\t\t\t Round 3 Epoch: 2 | Iteration: 50/80 (62%) | Samples: 1600/2560\n",
       " \t\t\t\t\t Loss: \u001b[1m0.000001\u001b[0m \n",
       "\t\t\t\t\t ---------"
      ]
     },
     "metadata": {},
     "output_type": "display_data"
    },
    {
     "data": {
      "text/plain": [
       "2025-10-03 03:04:38,562 fedbiomed INFO - \u001b[1mTRAINING\u001b[0m \n",
       "\t\t\t\t\t NODE_ID: NODE_9da4e82d-e30d-44c2-a481-b8a877e97f4d \n",
       "\t\t\t\t\t Round 3 Epoch: 1 | Iteration: 40/80 (50%) | Samples: 1280/2560\n",
       " \t\t\t\t\t Loss: \u001b[1m0.000014\u001b[0m \n",
       "\t\t\t\t\t ---------"
      ]
     },
     "metadata": {},
     "output_type": "display_data"
    },
    {
     "data": {
      "text/plain": [
       "2025-10-03 03:04:38,572 fedbiomed INFO - \u001b[1mTRAINING\u001b[0m \n",
       "\t\t\t\t\t NODE_ID: NODE_5fbd3836-38ce-4075-9c03-bdef6bd97579 \n",
       "\t\t\t\t\t Round 3 Epoch: 2 | Iteration: 60/80 (75%) | Samples: 1920/2560\n",
       " \t\t\t\t\t Loss: \u001b[1m0.000002\u001b[0m \n",
       "\t\t\t\t\t ---------"
      ]
     },
     "metadata": {},
     "output_type": "display_data"
    },
    {
     "data": {
      "text/plain": [
       "2025-10-03 03:04:38,578 fedbiomed INFO - \u001b[1mTRAINING\u001b[0m \n",
       "\t\t\t\t\t NODE_ID: NODE_9da4e82d-e30d-44c2-a481-b8a877e97f4d \n",
       "\t\t\t\t\t Round 3 Epoch: 1 | Iteration: 50/80 (62%) | Samples: 1600/2560\n",
       " \t\t\t\t\t Loss: \u001b[1m0.000001\u001b[0m \n",
       "\t\t\t\t\t ---------"
      ]
     },
     "metadata": {},
     "output_type": "display_data"
    },
    {
     "data": {
      "text/plain": [
       "2025-10-03 03:04:38,585 fedbiomed INFO - \u001b[1mTRAINING\u001b[0m \n",
       "\t\t\t\t\t NODE_ID: NODE_5fbd3836-38ce-4075-9c03-bdef6bd97579 \n",
       "\t\t\t\t\t Round 3 Epoch: 2 | Iteration: 70/80 (88%) | Samples: 2240/2560\n",
       " \t\t\t\t\t Loss: \u001b[1m0.000002\u001b[0m \n",
       "\t\t\t\t\t ---------"
      ]
     },
     "metadata": {},
     "output_type": "display_data"
    },
    {
     "data": {
      "text/plain": [
       "2025-10-03 03:04:38,598 fedbiomed INFO - \u001b[1mTRAINING\u001b[0m \n",
       "\t\t\t\t\t NODE_ID: NODE_9da4e82d-e30d-44c2-a481-b8a877e97f4d \n",
       "\t\t\t\t\t Round 3 Epoch: 1 | Iteration: 60/80 (75%) | Samples: 1920/2560\n",
       " \t\t\t\t\t Loss: \u001b[1m0.000002\u001b[0m \n",
       "\t\t\t\t\t ---------"
      ]
     },
     "metadata": {},
     "output_type": "display_data"
    },
    {
     "data": {
      "text/plain": [
       "2025-10-03 03:04:38,599 fedbiomed INFO - \u001b[1mTRAINING\u001b[0m \n",
       "\t\t\t\t\t NODE_ID: NODE_5fbd3836-38ce-4075-9c03-bdef6bd97579 \n",
       "\t\t\t\t\t Round 3 Epoch: 2 | Iteration: 80/80 (100%) | Samples: 2541/2541\n",
       " \t\t\t\t\t Loss: \u001b[1m0.000000\u001b[0m \n",
       "\t\t\t\t\t ---------"
      ]
     },
     "metadata": {},
     "output_type": "display_data"
    },
    {
     "data": {
      "text/plain": [
       "2025-10-03 03:04:38,605 fedbiomed INFO - \u001b[1mTRAINING\u001b[0m \n",
       "\t\t\t\t\t NODE_ID: NODE_5fbd3836-38ce-4075-9c03-bdef6bd97579 \n",
       "\t\t\t\t\t Round 3 Epoch: 3 | Iteration: 1/80 (1%) | Samples: 32/2560\n",
       " \t\t\t\t\t Loss: \u001b[1m0.000000\u001b[0m \n",
       "\t\t\t\t\t ---------"
      ]
     },
     "metadata": {},
     "output_type": "display_data"
    },
    {
     "data": {
      "text/plain": [
       "2025-10-03 03:04:38,617 fedbiomed INFO - \u001b[1mTRAINING\u001b[0m \n",
       "\t\t\t\t\t NODE_ID: NODE_9da4e82d-e30d-44c2-a481-b8a877e97f4d \n",
       "\t\t\t\t\t Round 3 Epoch: 1 | Iteration: 70/80 (88%) | Samples: 2240/2560\n",
       " \t\t\t\t\t Loss: \u001b[1m0.000001\u001b[0m \n",
       "\t\t\t\t\t ---------"
      ]
     },
     "metadata": {},
     "output_type": "display_data"
    },
    {
     "data": {
      "text/plain": [
       "2025-10-03 03:04:38,618 fedbiomed INFO - \u001b[1mTRAINING\u001b[0m \n",
       "\t\t\t\t\t NODE_ID: NODE_5fbd3836-38ce-4075-9c03-bdef6bd97579 \n",
       "\t\t\t\t\t Round 3 Epoch: 3 | Iteration: 10/80 (12%) | Samples: 320/2560\n",
       " \t\t\t\t\t Loss: \u001b[1m0.000000\u001b[0m \n",
       "\t\t\t\t\t ---------"
      ]
     },
     "metadata": {},
     "output_type": "display_data"
    },
    {
     "data": {
      "text/plain": [
       "2025-10-03 03:04:38,640 fedbiomed INFO - \u001b[1mTRAINING\u001b[0m \n",
       "\t\t\t\t\t NODE_ID: NODE_5fbd3836-38ce-4075-9c03-bdef6bd97579 \n",
       "\t\t\t\t\t Round 3 Epoch: 3 | Iteration: 20/80 (25%) | Samples: 640/2560\n",
       " \t\t\t\t\t Loss: \u001b[1m0.000000\u001b[0m \n",
       "\t\t\t\t\t ---------"
      ]
     },
     "metadata": {},
     "output_type": "display_data"
    },
    {
     "data": {
      "text/plain": [
       "2025-10-03 03:04:38,652 fedbiomed INFO - \u001b[1mTRAINING\u001b[0m \n",
       "\t\t\t\t\t NODE_ID: NODE_9da4e82d-e30d-44c2-a481-b8a877e97f4d \n",
       "\t\t\t\t\t Round 3 Epoch: 1 | Iteration: 80/80 (100%) | Samples: 2541/2541\n",
       " \t\t\t\t\t Loss: \u001b[1m0.000003\u001b[0m \n",
       "\t\t\t\t\t ---------"
      ]
     },
     "metadata": {},
     "output_type": "display_data"
    },
    {
     "data": {
      "text/plain": [
       "2025-10-03 03:04:38,656 fedbiomed INFO - \u001b[1mTRAINING\u001b[0m \n",
       "\t\t\t\t\t NODE_ID: NODE_9da4e82d-e30d-44c2-a481-b8a877e97f4d \n",
       "\t\t\t\t\t Round 3 Epoch: 2 | Iteration: 1/80 (1%) | Samples: 32/2560\n",
       " \t\t\t\t\t Loss: \u001b[1m0.000004\u001b[0m \n",
       "\t\t\t\t\t ---------"
      ]
     },
     "metadata": {},
     "output_type": "display_data"
    },
    {
     "data": {
      "text/plain": [
       "2025-10-03 03:04:38,661 fedbiomed INFO - \u001b[1mTRAINING\u001b[0m \n",
       "\t\t\t\t\t NODE_ID: NODE_5fbd3836-38ce-4075-9c03-bdef6bd97579 \n",
       "\t\t\t\t\t Round 3 Epoch: 3 | Iteration: 30/80 (38%) | Samples: 960/2560\n",
       " \t\t\t\t\t Loss: \u001b[1m0.000001\u001b[0m \n",
       "\t\t\t\t\t ---------"
      ]
     },
     "metadata": {},
     "output_type": "display_data"
    },
    {
     "data": {
      "text/plain": [
       "2025-10-03 03:04:38,671 fedbiomed INFO - \u001b[1mTRAINING\u001b[0m \n",
       "\t\t\t\t\t NODE_ID: NODE_9da4e82d-e30d-44c2-a481-b8a877e97f4d \n",
       "\t\t\t\t\t Round 3 Epoch: 2 | Iteration: 10/80 (12%) | Samples: 320/2560\n",
       " \t\t\t\t\t Loss: \u001b[1m0.000008\u001b[0m \n",
       "\t\t\t\t\t ---------"
      ]
     },
     "metadata": {},
     "output_type": "display_data"
    },
    {
     "data": {
      "text/plain": [
       "2025-10-03 03:04:38,674 fedbiomed INFO - \u001b[1mTRAINING\u001b[0m \n",
       "\t\t\t\t\t NODE_ID: NODE_5fbd3836-38ce-4075-9c03-bdef6bd97579 \n",
       "\t\t\t\t\t Round 3 Epoch: 3 | Iteration: 40/80 (50%) | Samples: 1280/2560\n",
       " \t\t\t\t\t Loss: \u001b[1m0.000001\u001b[0m \n",
       "\t\t\t\t\t ---------"
      ]
     },
     "metadata": {},
     "output_type": "display_data"
    },
    {
     "data": {
      "text/plain": [
       "2025-10-03 03:04:38,687 fedbiomed INFO - \u001b[1mTRAINING\u001b[0m \n",
       "\t\t\t\t\t NODE_ID: NODE_9da4e82d-e30d-44c2-a481-b8a877e97f4d \n",
       "\t\t\t\t\t Round 3 Epoch: 2 | Iteration: 20/80 (25%) | Samples: 640/2560\n",
       " \t\t\t\t\t Loss: \u001b[1m0.000008\u001b[0m \n",
       "\t\t\t\t\t ---------"
      ]
     },
     "metadata": {},
     "output_type": "display_data"
    },
    {
     "data": {
      "text/plain": [
       "2025-10-03 03:04:38,688 fedbiomed INFO - \u001b[1mTRAINING\u001b[0m \n",
       "\t\t\t\t\t NODE_ID: NODE_5fbd3836-38ce-4075-9c03-bdef6bd97579 \n",
       "\t\t\t\t\t Round 3 Epoch: 3 | Iteration: 50/80 (62%) | Samples: 1600/2560\n",
       " \t\t\t\t\t Loss: \u001b[1m0.000001\u001b[0m \n",
       "\t\t\t\t\t ---------"
      ]
     },
     "metadata": {},
     "output_type": "display_data"
    },
    {
     "data": {
      "text/plain": [
       "2025-10-03 03:04:38,734 fedbiomed INFO - \u001b[1mTRAINING\u001b[0m \n",
       "\t\t\t\t\t NODE_ID: NODE_5fbd3836-38ce-4075-9c03-bdef6bd97579 \n",
       "\t\t\t\t\t Round 3 Epoch: 3 | Iteration: 60/80 (75%) | Samples: 1920/2560\n",
       " \t\t\t\t\t Loss: \u001b[1m0.000000\u001b[0m \n",
       "\t\t\t\t\t ---------"
      ]
     },
     "metadata": {},
     "output_type": "display_data"
    },
    {
     "data": {
      "text/plain": [
       "2025-10-03 03:04:38,736 fedbiomed INFO - \u001b[1mTRAINING\u001b[0m \n",
       "\t\t\t\t\t NODE_ID: NODE_9da4e82d-e30d-44c2-a481-b8a877e97f4d \n",
       "\t\t\t\t\t Round 3 Epoch: 2 | Iteration: 30/80 (38%) | Samples: 960/2560\n",
       " \t\t\t\t\t Loss: \u001b[1m0.000002\u001b[0m \n",
       "\t\t\t\t\t ---------"
      ]
     },
     "metadata": {},
     "output_type": "display_data"
    },
    {
     "data": {
      "text/plain": [
       "2025-10-03 03:04:38,747 fedbiomed INFO - \u001b[1mTRAINING\u001b[0m \n",
       "\t\t\t\t\t NODE_ID: NODE_9da4e82d-e30d-44c2-a481-b8a877e97f4d \n",
       "\t\t\t\t\t Round 3 Epoch: 2 | Iteration: 40/80 (50%) | Samples: 1280/2560\n",
       " \t\t\t\t\t Loss: \u001b[1m0.000001\u001b[0m \n",
       "\t\t\t\t\t ---------"
      ]
     },
     "metadata": {},
     "output_type": "display_data"
    },
    {
     "data": {
      "text/plain": [
       "2025-10-03 03:04:38,749 fedbiomed INFO - \u001b[1mTRAINING\u001b[0m \n",
       "\t\t\t\t\t NODE_ID: NODE_5fbd3836-38ce-4075-9c03-bdef6bd97579 \n",
       "\t\t\t\t\t Round 3 Epoch: 3 | Iteration: 70/80 (88%) | Samples: 2240/2560\n",
       " \t\t\t\t\t Loss: \u001b[1m0.000000\u001b[0m \n",
       "\t\t\t\t\t ---------"
      ]
     },
     "metadata": {},
     "output_type": "display_data"
    },
    {
     "data": {
      "text/plain": [
       "2025-10-03 03:04:38,760 fedbiomed INFO - \u001b[1mTRAINING\u001b[0m \n",
       "\t\t\t\t\t NODE_ID: NODE_9da4e82d-e30d-44c2-a481-b8a877e97f4d \n",
       "\t\t\t\t\t Round 3 Epoch: 2 | Iteration: 50/80 (62%) | Samples: 1600/2560\n",
       " \t\t\t\t\t Loss: \u001b[1m0.000001\u001b[0m \n",
       "\t\t\t\t\t ---------"
      ]
     },
     "metadata": {},
     "output_type": "display_data"
    },
    {
     "data": {
      "text/plain": [
       "2025-10-03 03:04:38,763 fedbiomed INFO - \u001b[1mTRAINING\u001b[0m \n",
       "\t\t\t\t\t NODE_ID: NODE_5fbd3836-38ce-4075-9c03-bdef6bd97579 \n",
       "\t\t\t\t\t Round 3 Epoch: 3 | Iteration: 80/80 (100%) | Samples: 2541/2541\n",
       " \t\t\t\t\t Loss: \u001b[1m0.000000\u001b[0m \n",
       "\t\t\t\t\t ---------"
      ]
     },
     "metadata": {},
     "output_type": "display_data"
    },
    {
     "data": {
      "text/plain": [
       "2025-10-03 03:04:38,764 fedbiomed INFO - \u001b[1mTRAINING\u001b[0m \n",
       "\t\t\t\t\t NODE_ID: NODE_5fbd3836-38ce-4075-9c03-bdef6bd97579 \n",
       "\t\t\t\t\t Round 3 Epoch: 4 | Iteration: 1/80 (1%) | Samples: 32/2560\n",
       " \t\t\t\t\t Loss: \u001b[1m0.000000\u001b[0m \n",
       "\t\t\t\t\t ---------"
      ]
     },
     "metadata": {},
     "output_type": "display_data"
    },
    {
     "data": {
      "text/plain": [
       "2025-10-03 03:04:38,775 fedbiomed INFO - \u001b[1mTRAINING\u001b[0m \n",
       "\t\t\t\t\t NODE_ID: NODE_9da4e82d-e30d-44c2-a481-b8a877e97f4d \n",
       "\t\t\t\t\t Round 3 Epoch: 2 | Iteration: 60/80 (75%) | Samples: 1920/2560\n",
       " \t\t\t\t\t Loss: \u001b[1m0.000009\u001b[0m \n",
       "\t\t\t\t\t ---------"
      ]
     },
     "metadata": {},
     "output_type": "display_data"
    },
    {
     "data": {
      "text/plain": [
       "2025-10-03 03:04:38,784 fedbiomed INFO - \u001b[1mTRAINING\u001b[0m \n",
       "\t\t\t\t\t NODE_ID: NODE_5fbd3836-38ce-4075-9c03-bdef6bd97579 \n",
       "\t\t\t\t\t Round 3 Epoch: 4 | Iteration: 10/80 (12%) | Samples: 320/2560\n",
       " \t\t\t\t\t Loss: \u001b[1m0.000000\u001b[0m \n",
       "\t\t\t\t\t ---------"
      ]
     },
     "metadata": {},
     "output_type": "display_data"
    },
    {
     "data": {
      "text/plain": [
       "2025-10-03 03:04:38,791 fedbiomed INFO - \u001b[1mTRAINING\u001b[0m \n",
       "\t\t\t\t\t NODE_ID: NODE_9da4e82d-e30d-44c2-a481-b8a877e97f4d \n",
       "\t\t\t\t\t Round 3 Epoch: 2 | Iteration: 70/80 (88%) | Samples: 2240/2560\n",
       " \t\t\t\t\t Loss: \u001b[1m0.000005\u001b[0m \n",
       "\t\t\t\t\t ---------"
      ]
     },
     "metadata": {},
     "output_type": "display_data"
    },
    {
     "data": {
      "text/plain": [
       "2025-10-03 03:04:38,801 fedbiomed INFO - \u001b[1mTRAINING\u001b[0m \n",
       "\t\t\t\t\t NODE_ID: NODE_5fbd3836-38ce-4075-9c03-bdef6bd97579 \n",
       "\t\t\t\t\t Round 3 Epoch: 4 | Iteration: 20/80 (25%) | Samples: 640/2560\n",
       " \t\t\t\t\t Loss: \u001b[1m0.000001\u001b[0m \n",
       "\t\t\t\t\t ---------"
      ]
     },
     "metadata": {},
     "output_type": "display_data"
    },
    {
     "data": {
      "text/plain": [
       "2025-10-03 03:04:38,804 fedbiomed INFO - \u001b[1mTRAINING\u001b[0m \n",
       "\t\t\t\t\t NODE_ID: NODE_9da4e82d-e30d-44c2-a481-b8a877e97f4d \n",
       "\t\t\t\t\t Round 3 Epoch: 2 | Iteration: 80/80 (100%) | Samples: 2541/2541\n",
       " \t\t\t\t\t Loss: \u001b[1m0.000005\u001b[0m \n",
       "\t\t\t\t\t ---------"
      ]
     },
     "metadata": {},
     "output_type": "display_data"
    },
    {
     "data": {
      "text/plain": [
       "2025-10-03 03:04:38,806 fedbiomed INFO - \u001b[1mTRAINING\u001b[0m \n",
       "\t\t\t\t\t NODE_ID: NODE_9da4e82d-e30d-44c2-a481-b8a877e97f4d \n",
       "\t\t\t\t\t Round 3 Epoch: 3 | Iteration: 1/80 (1%) | Samples: 32/2560\n",
       " \t\t\t\t\t Loss: \u001b[1m0.000007\u001b[0m \n",
       "\t\t\t\t\t ---------"
      ]
     },
     "metadata": {},
     "output_type": "display_data"
    },
    {
     "data": {
      "text/plain": [
       "2025-10-03 03:04:38,815 fedbiomed INFO - \u001b[1mTRAINING\u001b[0m \n",
       "\t\t\t\t\t NODE_ID: NODE_9da4e82d-e30d-44c2-a481-b8a877e97f4d \n",
       "\t\t\t\t\t Round 3 Epoch: 3 | Iteration: 10/80 (12%) | Samples: 320/2560\n",
       " \t\t\t\t\t Loss: \u001b[1m0.000003\u001b[0m \n",
       "\t\t\t\t\t ---------"
      ]
     },
     "metadata": {},
     "output_type": "display_data"
    },
    {
     "data": {
      "text/plain": [
       "2025-10-03 03:04:38,826 fedbiomed INFO - \u001b[1mTRAINING\u001b[0m \n",
       "\t\t\t\t\t NODE_ID: NODE_5fbd3836-38ce-4075-9c03-bdef6bd97579 \n",
       "\t\t\t\t\t Round 3 Epoch: 4 | Iteration: 30/80 (38%) | Samples: 960/2560\n",
       " \t\t\t\t\t Loss: \u001b[1m0.000000\u001b[0m \n",
       "\t\t\t\t\t ---------"
      ]
     },
     "metadata": {},
     "output_type": "display_data"
    },
    {
     "data": {
      "text/plain": [
       "2025-10-03 03:04:38,828 fedbiomed INFO - \u001b[1mTRAINING\u001b[0m \n",
       "\t\t\t\t\t NODE_ID: NODE_9da4e82d-e30d-44c2-a481-b8a877e97f4d \n",
       "\t\t\t\t\t Round 3 Epoch: 3 | Iteration: 20/80 (25%) | Samples: 640/2560\n",
       " \t\t\t\t\t Loss: \u001b[1m0.000002\u001b[0m \n",
       "\t\t\t\t\t ---------"
      ]
     },
     "metadata": {},
     "output_type": "display_data"
    },
    {
     "data": {
      "text/plain": [
       "2025-10-03 03:04:38,843 fedbiomed INFO - \u001b[1mTRAINING\u001b[0m \n",
       "\t\t\t\t\t NODE_ID: NODE_5fbd3836-38ce-4075-9c03-bdef6bd97579 \n",
       "\t\t\t\t\t Round 3 Epoch: 4 | Iteration: 40/80 (50%) | Samples: 1280/2560\n",
       " \t\t\t\t\t Loss: \u001b[1m0.000001\u001b[0m \n",
       "\t\t\t\t\t ---------"
      ]
     },
     "metadata": {},
     "output_type": "display_data"
    },
    {
     "data": {
      "text/plain": [
       "2025-10-03 03:04:38,845 fedbiomed INFO - \u001b[1mTRAINING\u001b[0m \n",
       "\t\t\t\t\t NODE_ID: NODE_9da4e82d-e30d-44c2-a481-b8a877e97f4d \n",
       "\t\t\t\t\t Round 3 Epoch: 3 | Iteration: 30/80 (38%) | Samples: 960/2560\n",
       " \t\t\t\t\t Loss: \u001b[1m0.000002\u001b[0m \n",
       "\t\t\t\t\t ---------"
      ]
     },
     "metadata": {},
     "output_type": "display_data"
    },
    {
     "data": {
      "text/plain": [
       "2025-10-03 03:04:38,856 fedbiomed INFO - \u001b[1mTRAINING\u001b[0m \n",
       "\t\t\t\t\t NODE_ID: NODE_9da4e82d-e30d-44c2-a481-b8a877e97f4d \n",
       "\t\t\t\t\t Round 3 Epoch: 3 | Iteration: 40/80 (50%) | Samples: 1280/2560\n",
       " \t\t\t\t\t Loss: \u001b[1m0.000004\u001b[0m \n",
       "\t\t\t\t\t ---------"
      ]
     },
     "metadata": {},
     "output_type": "display_data"
    },
    {
     "data": {
      "text/plain": [
       "2025-10-03 03:04:38,859 fedbiomed INFO - \u001b[1mTRAINING\u001b[0m \n",
       "\t\t\t\t\t NODE_ID: NODE_5fbd3836-38ce-4075-9c03-bdef6bd97579 \n",
       "\t\t\t\t\t Round 3 Epoch: 4 | Iteration: 50/80 (62%) | Samples: 1600/2560\n",
       " \t\t\t\t\t Loss: \u001b[1m0.000000\u001b[0m \n",
       "\t\t\t\t\t ---------"
      ]
     },
     "metadata": {},
     "output_type": "display_data"
    },
    {
     "data": {
      "text/plain": [
       "2025-10-03 03:04:38,869 fedbiomed INFO - \u001b[1mTRAINING\u001b[0m \n",
       "\t\t\t\t\t NODE_ID: NODE_9da4e82d-e30d-44c2-a481-b8a877e97f4d \n",
       "\t\t\t\t\t Round 3 Epoch: 3 | Iteration: 50/80 (62%) | Samples: 1600/2560\n",
       " \t\t\t\t\t Loss: \u001b[1m0.000001\u001b[0m \n",
       "\t\t\t\t\t ---------"
      ]
     },
     "metadata": {},
     "output_type": "display_data"
    },
    {
     "data": {
      "text/plain": [
       "2025-10-03 03:04:38,876 fedbiomed INFO - \u001b[1mTRAINING\u001b[0m \n",
       "\t\t\t\t\t NODE_ID: NODE_5fbd3836-38ce-4075-9c03-bdef6bd97579 \n",
       "\t\t\t\t\t Round 3 Epoch: 4 | Iteration: 60/80 (75%) | Samples: 1920/2560\n",
       " \t\t\t\t\t Loss: \u001b[1m0.000000\u001b[0m \n",
       "\t\t\t\t\t ---------"
      ]
     },
     "metadata": {},
     "output_type": "display_data"
    },
    {
     "data": {
      "text/plain": [
       "2025-10-03 03:04:38,887 fedbiomed INFO - \u001b[1mTRAINING\u001b[0m \n",
       "\t\t\t\t\t NODE_ID: NODE_9da4e82d-e30d-44c2-a481-b8a877e97f4d \n",
       "\t\t\t\t\t Round 3 Epoch: 3 | Iteration: 60/80 (75%) | Samples: 1920/2560\n",
       " \t\t\t\t\t Loss: \u001b[1m0.000001\u001b[0m \n",
       "\t\t\t\t\t ---------"
      ]
     },
     "metadata": {},
     "output_type": "display_data"
    },
    {
     "data": {
      "text/plain": [
       "2025-10-03 03:04:38,895 fedbiomed INFO - \u001b[1mTRAINING\u001b[0m \n",
       "\t\t\t\t\t NODE_ID: NODE_5fbd3836-38ce-4075-9c03-bdef6bd97579 \n",
       "\t\t\t\t\t Round 3 Epoch: 4 | Iteration: 70/80 (88%) | Samples: 2240/2560\n",
       " \t\t\t\t\t Loss: \u001b[1m0.000000\u001b[0m \n",
       "\t\t\t\t\t ---------"
      ]
     },
     "metadata": {},
     "output_type": "display_data"
    },
    {
     "data": {
      "text/plain": [
       "2025-10-03 03:04:38,899 fedbiomed INFO - \u001b[1mTRAINING\u001b[0m \n",
       "\t\t\t\t\t NODE_ID: NODE_9da4e82d-e30d-44c2-a481-b8a877e97f4d \n",
       "\t\t\t\t\t Round 3 Epoch: 3 | Iteration: 70/80 (88%) | Samples: 2240/2560\n",
       " \t\t\t\t\t Loss: \u001b[1m0.000003\u001b[0m \n",
       "\t\t\t\t\t ---------"
      ]
     },
     "metadata": {},
     "output_type": "display_data"
    },
    {
     "data": {
      "text/plain": [
       "2025-10-03 03:04:38,912 fedbiomed INFO - \u001b[1mTRAINING\u001b[0m \n",
       "\t\t\t\t\t NODE_ID: NODE_5fbd3836-38ce-4075-9c03-bdef6bd97579 \n",
       "\t\t\t\t\t Round 3 Epoch: 4 | Iteration: 80/80 (100%) | Samples: 2541/2541\n",
       " \t\t\t\t\t Loss: \u001b[1m0.000000\u001b[0m \n",
       "\t\t\t\t\t ---------"
      ]
     },
     "metadata": {},
     "output_type": "display_data"
    },
    {
     "data": {
      "text/plain": [
       "2025-10-03 03:04:38,914 fedbiomed INFO - \u001b[1mTRAINING\u001b[0m \n",
       "\t\t\t\t\t NODE_ID: NODE_9da4e82d-e30d-44c2-a481-b8a877e97f4d \n",
       "\t\t\t\t\t Round 3 Epoch: 3 | Iteration: 80/80 (100%) | Samples: 2541/2541\n",
       " \t\t\t\t\t Loss: \u001b[1m0.000001\u001b[0m \n",
       "\t\t\t\t\t ---------"
      ]
     },
     "metadata": {},
     "output_type": "display_data"
    },
    {
     "data": {
      "text/plain": [
       "2025-10-03 03:04:38,915 fedbiomed INFO - \u001b[1mTRAINING\u001b[0m \n",
       "\t\t\t\t\t NODE_ID: NODE_5fbd3836-38ce-4075-9c03-bdef6bd97579 \n",
       "\t\t\t\t\t Round 3 Epoch: 5 | Iteration: 1/80 (1%) | Samples: 32/2560\n",
       " \t\t\t\t\t Loss: \u001b[1m0.000000\u001b[0m \n",
       "\t\t\t\t\t ---------"
      ]
     },
     "metadata": {},
     "output_type": "display_data"
    },
    {
     "data": {
      "text/plain": [
       "2025-10-03 03:04:38,917 fedbiomed INFO - \u001b[1mTRAINING\u001b[0m \n",
       "\t\t\t\t\t NODE_ID: NODE_9da4e82d-e30d-44c2-a481-b8a877e97f4d \n",
       "\t\t\t\t\t Round 3 Epoch: 4 | Iteration: 1/80 (1%) | Samples: 32/2560\n",
       " \t\t\t\t\t Loss: \u001b[1m0.000001\u001b[0m \n",
       "\t\t\t\t\t ---------"
      ]
     },
     "metadata": {},
     "output_type": "display_data"
    },
    {
     "data": {
      "text/plain": [
       "2025-10-03 03:04:38,927 fedbiomed INFO - \u001b[1mTRAINING\u001b[0m \n",
       "\t\t\t\t\t NODE_ID: NODE_5fbd3836-38ce-4075-9c03-bdef6bd97579 \n",
       "\t\t\t\t\t Round 3 Epoch: 5 | Iteration: 10/80 (12%) | Samples: 320/2560\n",
       " \t\t\t\t\t Loss: \u001b[1m0.000000\u001b[0m \n",
       "\t\t\t\t\t ---------"
      ]
     },
     "metadata": {},
     "output_type": "display_data"
    },
    {
     "data": {
      "text/plain": [
       "2025-10-03 03:04:38,929 fedbiomed INFO - \u001b[1mTRAINING\u001b[0m \n",
       "\t\t\t\t\t NODE_ID: NODE_9da4e82d-e30d-44c2-a481-b8a877e97f4d \n",
       "\t\t\t\t\t Round 3 Epoch: 4 | Iteration: 10/80 (12%) | Samples: 320/2560\n",
       " \t\t\t\t\t Loss: \u001b[1m0.000001\u001b[0m \n",
       "\t\t\t\t\t ---------"
      ]
     },
     "metadata": {},
     "output_type": "display_data"
    },
    {
     "data": {
      "text/plain": [
       "2025-10-03 03:04:38,943 fedbiomed INFO - \u001b[1mTRAINING\u001b[0m \n",
       "\t\t\t\t\t NODE_ID: NODE_5fbd3836-38ce-4075-9c03-bdef6bd97579 \n",
       "\t\t\t\t\t Round 3 Epoch: 5 | Iteration: 20/80 (25%) | Samples: 640/2560\n",
       " \t\t\t\t\t Loss: \u001b[1m0.000000\u001b[0m \n",
       "\t\t\t\t\t ---------"
      ]
     },
     "metadata": {},
     "output_type": "display_data"
    },
    {
     "data": {
      "text/plain": [
       "2025-10-03 03:04:38,945 fedbiomed INFO - \u001b[1mTRAINING\u001b[0m \n",
       "\t\t\t\t\t NODE_ID: NODE_9da4e82d-e30d-44c2-a481-b8a877e97f4d \n",
       "\t\t\t\t\t Round 3 Epoch: 4 | Iteration: 20/80 (25%) | Samples: 640/2560\n",
       " \t\t\t\t\t Loss: \u001b[1m0.000002\u001b[0m \n",
       "\t\t\t\t\t ---------"
      ]
     },
     "metadata": {},
     "output_type": "display_data"
    },
    {
     "data": {
      "text/plain": [
       "2025-10-03 03:04:38,956 fedbiomed INFO - \u001b[1mTRAINING\u001b[0m \n",
       "\t\t\t\t\t NODE_ID: NODE_9da4e82d-e30d-44c2-a481-b8a877e97f4d \n",
       "\t\t\t\t\t Round 3 Epoch: 4 | Iteration: 30/80 (38%) | Samples: 960/2560\n",
       " \t\t\t\t\t Loss: \u001b[1m0.000002\u001b[0m \n",
       "\t\t\t\t\t ---------"
      ]
     },
     "metadata": {},
     "output_type": "display_data"
    },
    {
     "data": {
      "text/plain": [
       "2025-10-03 03:04:38,958 fedbiomed INFO - \u001b[1mTRAINING\u001b[0m \n",
       "\t\t\t\t\t NODE_ID: NODE_5fbd3836-38ce-4075-9c03-bdef6bd97579 \n",
       "\t\t\t\t\t Round 3 Epoch: 5 | Iteration: 30/80 (38%) | Samples: 960/2560\n",
       " \t\t\t\t\t Loss: \u001b[1m0.000000\u001b[0m \n",
       "\t\t\t\t\t ---------"
      ]
     },
     "metadata": {},
     "output_type": "display_data"
    },
    {
     "data": {
      "text/plain": [
       "2025-10-03 03:04:38,969 fedbiomed INFO - \u001b[1mTRAINING\u001b[0m \n",
       "\t\t\t\t\t NODE_ID: NODE_9da4e82d-e30d-44c2-a481-b8a877e97f4d \n",
       "\t\t\t\t\t Round 3 Epoch: 4 | Iteration: 40/80 (50%) | Samples: 1280/2560\n",
       " \t\t\t\t\t Loss: \u001b[1m0.000001\u001b[0m \n",
       "\t\t\t\t\t ---------"
      ]
     },
     "metadata": {},
     "output_type": "display_data"
    },
    {
     "data": {
      "text/plain": [
       "2025-10-03 03:04:38,970 fedbiomed INFO - \u001b[1mTRAINING\u001b[0m \n",
       "\t\t\t\t\t NODE_ID: NODE_5fbd3836-38ce-4075-9c03-bdef6bd97579 \n",
       "\t\t\t\t\t Round 3 Epoch: 5 | Iteration: 40/80 (50%) | Samples: 1280/2560\n",
       " \t\t\t\t\t Loss: \u001b[1m0.000000\u001b[0m \n",
       "\t\t\t\t\t ---------"
      ]
     },
     "metadata": {},
     "output_type": "display_data"
    },
    {
     "data": {
      "text/plain": [
       "2025-10-03 03:04:38,980 fedbiomed INFO - \u001b[1mTRAINING\u001b[0m \n",
       "\t\t\t\t\t NODE_ID: NODE_5fbd3836-38ce-4075-9c03-bdef6bd97579 \n",
       "\t\t\t\t\t Round 3 Epoch: 5 | Iteration: 50/80 (62%) | Samples: 1600/2560\n",
       " \t\t\t\t\t Loss: \u001b[1m0.000000\u001b[0m \n",
       "\t\t\t\t\t ---------"
      ]
     },
     "metadata": {},
     "output_type": "display_data"
    },
    {
     "data": {
      "text/plain": [
       "2025-10-03 03:04:38,981 fedbiomed INFO - \u001b[1mTRAINING\u001b[0m \n",
       "\t\t\t\t\t NODE_ID: NODE_9da4e82d-e30d-44c2-a481-b8a877e97f4d \n",
       "\t\t\t\t\t Round 3 Epoch: 4 | Iteration: 50/80 (62%) | Samples: 1600/2560\n",
       " \t\t\t\t\t Loss: \u001b[1m0.000001\u001b[0m \n",
       "\t\t\t\t\t ---------"
      ]
     },
     "metadata": {},
     "output_type": "display_data"
    },
    {
     "data": {
      "text/plain": [
       "2025-10-03 03:04:38,992 fedbiomed INFO - \u001b[1mTRAINING\u001b[0m \n",
       "\t\t\t\t\t NODE_ID: NODE_5fbd3836-38ce-4075-9c03-bdef6bd97579 \n",
       "\t\t\t\t\t Round 3 Epoch: 5 | Iteration: 60/80 (75%) | Samples: 1920/2560\n",
       " \t\t\t\t\t Loss: \u001b[1m0.000000\u001b[0m \n",
       "\t\t\t\t\t ---------"
      ]
     },
     "metadata": {},
     "output_type": "display_data"
    },
    {
     "data": {
      "text/plain": [
       "2025-10-03 03:04:38,994 fedbiomed INFO - \u001b[1mTRAINING\u001b[0m \n",
       "\t\t\t\t\t NODE_ID: NODE_9da4e82d-e30d-44c2-a481-b8a877e97f4d \n",
       "\t\t\t\t\t Round 3 Epoch: 4 | Iteration: 60/80 (75%) | Samples: 1920/2560\n",
       " \t\t\t\t\t Loss: \u001b[1m0.000003\u001b[0m \n",
       "\t\t\t\t\t ---------"
      ]
     },
     "metadata": {},
     "output_type": "display_data"
    },
    {
     "data": {
      "text/plain": [
       "2025-10-03 03:04:39,004 fedbiomed INFO - \u001b[1mTRAINING\u001b[0m \n",
       "\t\t\t\t\t NODE_ID: NODE_5fbd3836-38ce-4075-9c03-bdef6bd97579 \n",
       "\t\t\t\t\t Round 3 Epoch: 5 | Iteration: 70/80 (88%) | Samples: 2240/2560\n",
       " \t\t\t\t\t Loss: \u001b[1m0.000000\u001b[0m \n",
       "\t\t\t\t\t ---------"
      ]
     },
     "metadata": {},
     "output_type": "display_data"
    },
    {
     "data": {
      "text/plain": [
       "2025-10-03 03:04:39,008 fedbiomed INFO - \u001b[1mTRAINING\u001b[0m \n",
       "\t\t\t\t\t NODE_ID: NODE_9da4e82d-e30d-44c2-a481-b8a877e97f4d \n",
       "\t\t\t\t\t Round 3 Epoch: 4 | Iteration: 70/80 (88%) | Samples: 2240/2560\n",
       " \t\t\t\t\t Loss: \u001b[1m0.000002\u001b[0m \n",
       "\t\t\t\t\t ---------"
      ]
     },
     "metadata": {},
     "output_type": "display_data"
    },
    {
     "data": {
      "text/plain": [
       "2025-10-03 03:04:39,018 fedbiomed INFO - \u001b[1mTRAINING\u001b[0m \n",
       "\t\t\t\t\t NODE_ID: NODE_5fbd3836-38ce-4075-9c03-bdef6bd97579 \n",
       "\t\t\t\t\t Round 3 Epoch: 5 | Iteration: 80/80 (100%) | Samples: 2541/2541\n",
       " \t\t\t\t\t Loss: \u001b[1m0.000000\u001b[0m \n",
       "\t\t\t\t\t ---------"
      ]
     },
     "metadata": {},
     "output_type": "display_data"
    },
    {
     "data": {
      "text/plain": [
       "2025-10-03 03:04:39,020 fedbiomed INFO - \u001b[1mTRAINING\u001b[0m \n",
       "\t\t\t\t\t NODE_ID: NODE_5fbd3836-38ce-4075-9c03-bdef6bd97579 \n",
       "\t\t\t\t\t Round 3 Epoch: 6 | Iteration: 1/80 (1%) | Samples: 32/2560\n",
       " \t\t\t\t\t Loss: \u001b[1m0.000000\u001b[0m \n",
       "\t\t\t\t\t ---------"
      ]
     },
     "metadata": {},
     "output_type": "display_data"
    },
    {
     "data": {
      "text/plain": [
       "2025-10-03 03:04:39,026 fedbiomed INFO - \u001b[1mTRAINING\u001b[0m \n",
       "\t\t\t\t\t NODE_ID: NODE_9da4e82d-e30d-44c2-a481-b8a877e97f4d \n",
       "\t\t\t\t\t Round 3 Epoch: 4 | Iteration: 80/80 (100%) | Samples: 2541/2541\n",
       " \t\t\t\t\t Loss: \u001b[1m0.000001\u001b[0m \n",
       "\t\t\t\t\t ---------"
      ]
     },
     "metadata": {},
     "output_type": "display_data"
    },
    {
     "data": {
      "text/plain": [
       "2025-10-03 03:04:39,028 fedbiomed INFO - \u001b[1mTRAINING\u001b[0m \n",
       "\t\t\t\t\t NODE_ID: NODE_9da4e82d-e30d-44c2-a481-b8a877e97f4d \n",
       "\t\t\t\t\t Round 3 Epoch: 5 | Iteration: 1/80 (1%) | Samples: 32/2560\n",
       " \t\t\t\t\t Loss: \u001b[1m0.000001\u001b[0m \n",
       "\t\t\t\t\t ---------"
      ]
     },
     "metadata": {},
     "output_type": "display_data"
    },
    {
     "data": {
      "text/plain": [
       "2025-10-03 03:04:39,031 fedbiomed INFO - \u001b[1mTRAINING\u001b[0m \n",
       "\t\t\t\t\t NODE_ID: NODE_5fbd3836-38ce-4075-9c03-bdef6bd97579 \n",
       "\t\t\t\t\t Round 3 Epoch: 6 | Iteration: 10/80 (12%) | Samples: 320/2560\n",
       " \t\t\t\t\t Loss: \u001b[1m0.000000\u001b[0m \n",
       "\t\t\t\t\t ---------"
      ]
     },
     "metadata": {},
     "output_type": "display_data"
    },
    {
     "data": {
      "text/plain": [
       "2025-10-03 03:04:39,042 fedbiomed INFO - \u001b[1mTRAINING\u001b[0m \n",
       "\t\t\t\t\t NODE_ID: NODE_9da4e82d-e30d-44c2-a481-b8a877e97f4d \n",
       "\t\t\t\t\t Round 3 Epoch: 5 | Iteration: 10/80 (12%) | Samples: 320/2560\n",
       " \t\t\t\t\t Loss: \u001b[1m0.000001\u001b[0m \n",
       "\t\t\t\t\t ---------"
      ]
     },
     "metadata": {},
     "output_type": "display_data"
    },
    {
     "data": {
      "text/plain": [
       "2025-10-03 03:04:39,045 fedbiomed INFO - \u001b[1mTRAINING\u001b[0m \n",
       "\t\t\t\t\t NODE_ID: NODE_5fbd3836-38ce-4075-9c03-bdef6bd97579 \n",
       "\t\t\t\t\t Round 3 Epoch: 6 | Iteration: 20/80 (25%) | Samples: 640/2560\n",
       " \t\t\t\t\t Loss: \u001b[1m0.000000\u001b[0m \n",
       "\t\t\t\t\t ---------"
      ]
     },
     "metadata": {},
     "output_type": "display_data"
    },
    {
     "data": {
      "text/plain": [
       "2025-10-03 03:04:39,055 fedbiomed INFO - \u001b[1mTRAINING\u001b[0m \n",
       "\t\t\t\t\t NODE_ID: NODE_9da4e82d-e30d-44c2-a481-b8a877e97f4d \n",
       "\t\t\t\t\t Round 3 Epoch: 5 | Iteration: 20/80 (25%) | Samples: 640/2560\n",
       " \t\t\t\t\t Loss: \u001b[1m0.000001\u001b[0m \n",
       "\t\t\t\t\t ---------"
      ]
     },
     "metadata": {},
     "output_type": "display_data"
    },
    {
     "data": {
      "text/plain": [
       "2025-10-03 03:04:39,060 fedbiomed INFO - \u001b[1mTRAINING\u001b[0m \n",
       "\t\t\t\t\t NODE_ID: NODE_5fbd3836-38ce-4075-9c03-bdef6bd97579 \n",
       "\t\t\t\t\t Round 3 Epoch: 6 | Iteration: 30/80 (38%) | Samples: 960/2560\n",
       " \t\t\t\t\t Loss: \u001b[1m0.000000\u001b[0m \n",
       "\t\t\t\t\t ---------"
      ]
     },
     "metadata": {},
     "output_type": "display_data"
    },
    {
     "data": {
      "text/plain": [
       "2025-10-03 03:04:39,072 fedbiomed INFO - \u001b[1mTRAINING\u001b[0m \n",
       "\t\t\t\t\t NODE_ID: NODE_9da4e82d-e30d-44c2-a481-b8a877e97f4d \n",
       "\t\t\t\t\t Round 3 Epoch: 5 | Iteration: 30/80 (38%) | Samples: 960/2560\n",
       " \t\t\t\t\t Loss: \u001b[1m0.000001\u001b[0m \n",
       "\t\t\t\t\t ---------"
      ]
     },
     "metadata": {},
     "output_type": "display_data"
    },
    {
     "data": {
      "text/plain": [
       "2025-10-03 03:04:39,073 fedbiomed INFO - \u001b[1mTRAINING\u001b[0m \n",
       "\t\t\t\t\t NODE_ID: NODE_5fbd3836-38ce-4075-9c03-bdef6bd97579 \n",
       "\t\t\t\t\t Round 3 Epoch: 6 | Iteration: 40/80 (50%) | Samples: 1280/2560\n",
       " \t\t\t\t\t Loss: \u001b[1m0.000000\u001b[0m \n",
       "\t\t\t\t\t ---------"
      ]
     },
     "metadata": {},
     "output_type": "display_data"
    },
    {
     "data": {
      "text/plain": [
       "2025-10-03 03:04:39,084 fedbiomed INFO - \u001b[1mTRAINING\u001b[0m \n",
       "\t\t\t\t\t NODE_ID: NODE_5fbd3836-38ce-4075-9c03-bdef6bd97579 \n",
       "\t\t\t\t\t Round 3 Epoch: 6 | Iteration: 50/80 (62%) | Samples: 1600/2560\n",
       " \t\t\t\t\t Loss: \u001b[1m0.000000\u001b[0m \n",
       "\t\t\t\t\t ---------"
      ]
     },
     "metadata": {},
     "output_type": "display_data"
    },
    {
     "data": {
      "text/plain": [
       "2025-10-03 03:04:39,085 fedbiomed INFO - \u001b[1mTRAINING\u001b[0m \n",
       "\t\t\t\t\t NODE_ID: NODE_9da4e82d-e30d-44c2-a481-b8a877e97f4d \n",
       "\t\t\t\t\t Round 3 Epoch: 5 | Iteration: 40/80 (50%) | Samples: 1280/2560\n",
       " \t\t\t\t\t Loss: \u001b[1m0.000002\u001b[0m \n",
       "\t\t\t\t\t ---------"
      ]
     },
     "metadata": {},
     "output_type": "display_data"
    },
    {
     "data": {
      "text/plain": [
       "2025-10-03 03:04:39,097 fedbiomed INFO - \u001b[1mTRAINING\u001b[0m \n",
       "\t\t\t\t\t NODE_ID: NODE_5fbd3836-38ce-4075-9c03-bdef6bd97579 \n",
       "\t\t\t\t\t Round 3 Epoch: 6 | Iteration: 60/80 (75%) | Samples: 1920/2560\n",
       " \t\t\t\t\t Loss: \u001b[1m0.000000\u001b[0m \n",
       "\t\t\t\t\t ---------"
      ]
     },
     "metadata": {},
     "output_type": "display_data"
    },
    {
     "data": {
      "text/plain": [
       "2025-10-03 03:04:39,102 fedbiomed INFO - \u001b[1mTRAINING\u001b[0m \n",
       "\t\t\t\t\t NODE_ID: NODE_9da4e82d-e30d-44c2-a481-b8a877e97f4d \n",
       "\t\t\t\t\t Round 3 Epoch: 5 | Iteration: 50/80 (62%) | Samples: 1600/2560\n",
       " \t\t\t\t\t Loss: \u001b[1m0.000002\u001b[0m \n",
       "\t\t\t\t\t ---------"
      ]
     },
     "metadata": {},
     "output_type": "display_data"
    },
    {
     "data": {
      "text/plain": [
       "2025-10-03 03:04:39,108 fedbiomed INFO - \u001b[1mTRAINING\u001b[0m \n",
       "\t\t\t\t\t NODE_ID: NODE_5fbd3836-38ce-4075-9c03-bdef6bd97579 \n",
       "\t\t\t\t\t Round 3 Epoch: 6 | Iteration: 70/80 (88%) | Samples: 2240/2560\n",
       " \t\t\t\t\t Loss: \u001b[1m0.000000\u001b[0m \n",
       "\t\t\t\t\t ---------"
      ]
     },
     "metadata": {},
     "output_type": "display_data"
    },
    {
     "data": {
      "text/plain": [
       "2025-10-03 03:04:39,116 fedbiomed INFO - \u001b[1mTRAINING\u001b[0m \n",
       "\t\t\t\t\t NODE_ID: NODE_9da4e82d-e30d-44c2-a481-b8a877e97f4d \n",
       "\t\t\t\t\t Round 3 Epoch: 5 | Iteration: 60/80 (75%) | Samples: 1920/2560\n",
       " \t\t\t\t\t Loss: \u001b[1m0.000001\u001b[0m \n",
       "\t\t\t\t\t ---------"
      ]
     },
     "metadata": {},
     "output_type": "display_data"
    },
    {
     "data": {
      "text/plain": [
       "2025-10-03 03:04:39,122 fedbiomed INFO - \u001b[1mTRAINING\u001b[0m \n",
       "\t\t\t\t\t NODE_ID: NODE_5fbd3836-38ce-4075-9c03-bdef6bd97579 \n",
       "\t\t\t\t\t Round 3 Epoch: 6 | Iteration: 80/80 (100%) | Samples: 2541/2541\n",
       " \t\t\t\t\t Loss: \u001b[1m0.000000\u001b[0m \n",
       "\t\t\t\t\t ---------"
      ]
     },
     "metadata": {},
     "output_type": "display_data"
    },
    {
     "data": {
      "text/plain": [
       "2025-10-03 03:04:39,124 fedbiomed INFO - \u001b[1mTRAINING\u001b[0m \n",
       "\t\t\t\t\t NODE_ID: NODE_5fbd3836-38ce-4075-9c03-bdef6bd97579 \n",
       "\t\t\t\t\t Round 3 Epoch: 7 | Iteration: 1/80 (1%) | Samples: 32/2560\n",
       " \t\t\t\t\t Loss: \u001b[1m0.000000\u001b[0m \n",
       "\t\t\t\t\t ---------"
      ]
     },
     "metadata": {},
     "output_type": "display_data"
    },
    {
     "data": {
      "text/plain": [
       "2025-10-03 03:04:39,133 fedbiomed INFO - \u001b[1mTRAINING\u001b[0m \n",
       "\t\t\t\t\t NODE_ID: NODE_5fbd3836-38ce-4075-9c03-bdef6bd97579 \n",
       "\t\t\t\t\t Round 3 Epoch: 7 | Iteration: 10/80 (12%) | Samples: 320/2560\n",
       " \t\t\t\t\t Loss: \u001b[1m0.000000\u001b[0m \n",
       "\t\t\t\t\t ---------"
      ]
     },
     "metadata": {},
     "output_type": "display_data"
    },
    {
     "data": {
      "text/plain": [
       "2025-10-03 03:04:39,137 fedbiomed INFO - \u001b[1mTRAINING\u001b[0m \n",
       "\t\t\t\t\t NODE_ID: NODE_9da4e82d-e30d-44c2-a481-b8a877e97f4d \n",
       "\t\t\t\t\t Round 3 Epoch: 5 | Iteration: 70/80 (88%) | Samples: 2240/2560\n",
       " \t\t\t\t\t Loss: \u001b[1m0.000000\u001b[0m \n",
       "\t\t\t\t\t ---------"
      ]
     },
     "metadata": {},
     "output_type": "display_data"
    },
    {
     "data": {
      "text/plain": [
       "2025-10-03 03:04:39,149 fedbiomed INFO - \u001b[1mTRAINING\u001b[0m \n",
       "\t\t\t\t\t NODE_ID: NODE_5fbd3836-38ce-4075-9c03-bdef6bd97579 \n",
       "\t\t\t\t\t Round 3 Epoch: 7 | Iteration: 20/80 (25%) | Samples: 640/2560\n",
       " \t\t\t\t\t Loss: \u001b[1m0.000000\u001b[0m \n",
       "\t\t\t\t\t ---------"
      ]
     },
     "metadata": {},
     "output_type": "display_data"
    },
    {
     "data": {
      "text/plain": [
       "2025-10-03 03:04:39,154 fedbiomed INFO - \u001b[1mTRAINING\u001b[0m \n",
       "\t\t\t\t\t NODE_ID: NODE_9da4e82d-e30d-44c2-a481-b8a877e97f4d \n",
       "\t\t\t\t\t Round 3 Epoch: 5 | Iteration: 80/80 (100%) | Samples: 2541/2541\n",
       " \t\t\t\t\t Loss: \u001b[1m0.000002\u001b[0m \n",
       "\t\t\t\t\t ---------"
      ]
     },
     "metadata": {},
     "output_type": "display_data"
    },
    {
     "data": {
      "text/plain": [
       "2025-10-03 03:04:39,160 fedbiomed INFO - \u001b[1mTRAINING\u001b[0m \n",
       "\t\t\t\t\t NODE_ID: NODE_9da4e82d-e30d-44c2-a481-b8a877e97f4d \n",
       "\t\t\t\t\t Round 3 Epoch: 6 | Iteration: 1/80 (1%) | Samples: 32/2560\n",
       " \t\t\t\t\t Loss: \u001b[1m0.000002\u001b[0m \n",
       "\t\t\t\t\t ---------"
      ]
     },
     "metadata": {},
     "output_type": "display_data"
    },
    {
     "data": {
      "text/plain": [
       "2025-10-03 03:04:39,164 fedbiomed INFO - \u001b[1mTRAINING\u001b[0m \n",
       "\t\t\t\t\t NODE_ID: NODE_5fbd3836-38ce-4075-9c03-bdef6bd97579 \n",
       "\t\t\t\t\t Round 3 Epoch: 7 | Iteration: 30/80 (38%) | Samples: 960/2560\n",
       " \t\t\t\t\t Loss: \u001b[1m0.000000\u001b[0m \n",
       "\t\t\t\t\t ---------"
      ]
     },
     "metadata": {},
     "output_type": "display_data"
    },
    {
     "data": {
      "text/plain": [
       "2025-10-03 03:04:39,175 fedbiomed INFO - \u001b[1mTRAINING\u001b[0m \n",
       "\t\t\t\t\t NODE_ID: NODE_9da4e82d-e30d-44c2-a481-b8a877e97f4d \n",
       "\t\t\t\t\t Round 3 Epoch: 6 | Iteration: 10/80 (12%) | Samples: 320/2560\n",
       " \t\t\t\t\t Loss: \u001b[1m0.000001\u001b[0m \n",
       "\t\t\t\t\t ---------"
      ]
     },
     "metadata": {},
     "output_type": "display_data"
    },
    {
     "data": {
      "text/plain": [
       "2025-10-03 03:04:39,176 fedbiomed INFO - \u001b[1mTRAINING\u001b[0m \n",
       "\t\t\t\t\t NODE_ID: NODE_5fbd3836-38ce-4075-9c03-bdef6bd97579 \n",
       "\t\t\t\t\t Round 3 Epoch: 7 | Iteration: 40/80 (50%) | Samples: 1280/2560\n",
       " \t\t\t\t\t Loss: \u001b[1m0.000000\u001b[0m \n",
       "\t\t\t\t\t ---------"
      ]
     },
     "metadata": {},
     "output_type": "display_data"
    },
    {
     "data": {
      "text/plain": [
       "2025-10-03 03:04:39,188 fedbiomed INFO - \u001b[1mTRAINING\u001b[0m \n",
       "\t\t\t\t\t NODE_ID: NODE_5fbd3836-38ce-4075-9c03-bdef6bd97579 \n",
       "\t\t\t\t\t Round 3 Epoch: 7 | Iteration: 50/80 (62%) | Samples: 1600/2560\n",
       " \t\t\t\t\t Loss: \u001b[1m0.000000\u001b[0m \n",
       "\t\t\t\t\t ---------"
      ]
     },
     "metadata": {},
     "output_type": "display_data"
    },
    {
     "data": {
      "text/plain": [
       "2025-10-03 03:04:39,190 fedbiomed INFO - \u001b[1mTRAINING\u001b[0m \n",
       "\t\t\t\t\t NODE_ID: NODE_9da4e82d-e30d-44c2-a481-b8a877e97f4d \n",
       "\t\t\t\t\t Round 3 Epoch: 6 | Iteration: 20/80 (25%) | Samples: 640/2560\n",
       " \t\t\t\t\t Loss: \u001b[1m0.000002\u001b[0m \n",
       "\t\t\t\t\t ---------"
      ]
     },
     "metadata": {},
     "output_type": "display_data"
    },
    {
     "data": {
      "text/plain": [
       "2025-10-03 03:04:39,200 fedbiomed INFO - \u001b[1mTRAINING\u001b[0m \n",
       "\t\t\t\t\t NODE_ID: NODE_9da4e82d-e30d-44c2-a481-b8a877e97f4d \n",
       "\t\t\t\t\t Round 3 Epoch: 6 | Iteration: 30/80 (38%) | Samples: 960/2560\n",
       " \t\t\t\t\t Loss: \u001b[1m0.000000\u001b[0m \n",
       "\t\t\t\t\t ---------"
      ]
     },
     "metadata": {},
     "output_type": "display_data"
    },
    {
     "data": {
      "text/plain": [
       "2025-10-03 03:04:39,202 fedbiomed INFO - \u001b[1mTRAINING\u001b[0m \n",
       "\t\t\t\t\t NODE_ID: NODE_5fbd3836-38ce-4075-9c03-bdef6bd97579 \n",
       "\t\t\t\t\t Round 3 Epoch: 7 | Iteration: 60/80 (75%) | Samples: 1920/2560\n",
       " \t\t\t\t\t Loss: \u001b[1m0.000000\u001b[0m \n",
       "\t\t\t\t\t ---------"
      ]
     },
     "metadata": {},
     "output_type": "display_data"
    },
    {
     "data": {
      "text/plain": [
       "2025-10-03 03:04:39,217 fedbiomed INFO - \u001b[1mTRAINING\u001b[0m \n",
       "\t\t\t\t\t NODE_ID: NODE_5fbd3836-38ce-4075-9c03-bdef6bd97579 \n",
       "\t\t\t\t\t Round 3 Epoch: 7 | Iteration: 70/80 (88%) | Samples: 2240/2560\n",
       " \t\t\t\t\t Loss: \u001b[1m0.000000\u001b[0m \n",
       "\t\t\t\t\t ---------"
      ]
     },
     "metadata": {},
     "output_type": "display_data"
    },
    {
     "data": {
      "text/plain": [
       "2025-10-03 03:04:39,218 fedbiomed INFO - \u001b[1mTRAINING\u001b[0m \n",
       "\t\t\t\t\t NODE_ID: NODE_9da4e82d-e30d-44c2-a481-b8a877e97f4d \n",
       "\t\t\t\t\t Round 3 Epoch: 6 | Iteration: 40/80 (50%) | Samples: 1280/2560\n",
       " \t\t\t\t\t Loss: \u001b[1m0.000001\u001b[0m \n",
       "\t\t\t\t\t ---------"
      ]
     },
     "metadata": {},
     "output_type": "display_data"
    },
    {
     "data": {
      "text/plain": [
       "2025-10-03 03:04:39,233 fedbiomed INFO - \u001b[1mTRAINING\u001b[0m \n",
       "\t\t\t\t\t NODE_ID: NODE_9da4e82d-e30d-44c2-a481-b8a877e97f4d \n",
       "\t\t\t\t\t Round 3 Epoch: 6 | Iteration: 50/80 (62%) | Samples: 1600/2560\n",
       " \t\t\t\t\t Loss: \u001b[1m0.000001\u001b[0m \n",
       "\t\t\t\t\t ---------"
      ]
     },
     "metadata": {},
     "output_type": "display_data"
    },
    {
     "data": {
      "text/plain": [
       "2025-10-03 03:04:39,234 fedbiomed INFO - \u001b[1mTRAINING\u001b[0m \n",
       "\t\t\t\t\t NODE_ID: NODE_5fbd3836-38ce-4075-9c03-bdef6bd97579 \n",
       "\t\t\t\t\t Round 3 Epoch: 7 | Iteration: 80/80 (100%) | Samples: 2541/2541\n",
       " \t\t\t\t\t Loss: \u001b[1m0.000000\u001b[0m \n",
       "\t\t\t\t\t ---------"
      ]
     },
     "metadata": {},
     "output_type": "display_data"
    },
    {
     "data": {
      "text/plain": [
       "2025-10-03 03:04:39,237 fedbiomed INFO - \u001b[1mTRAINING\u001b[0m \n",
       "\t\t\t\t\t NODE_ID: NODE_5fbd3836-38ce-4075-9c03-bdef6bd97579 \n",
       "\t\t\t\t\t Round 3 Epoch: 8 | Iteration: 1/80 (1%) | Samples: 32/2560\n",
       " \t\t\t\t\t Loss: \u001b[1m0.000000\u001b[0m \n",
       "\t\t\t\t\t ---------"
      ]
     },
     "metadata": {},
     "output_type": "display_data"
    },
    {
     "data": {
      "text/plain": [
       "2025-10-03 03:04:39,246 fedbiomed INFO - \u001b[1mTRAINING\u001b[0m \n",
       "\t\t\t\t\t NODE_ID: NODE_9da4e82d-e30d-44c2-a481-b8a877e97f4d \n",
       "\t\t\t\t\t Round 3 Epoch: 6 | Iteration: 60/80 (75%) | Samples: 1920/2560\n",
       " \t\t\t\t\t Loss: \u001b[1m0.000000\u001b[0m \n",
       "\t\t\t\t\t ---------"
      ]
     },
     "metadata": {},
     "output_type": "display_data"
    },
    {
     "data": {
      "text/plain": [
       "2025-10-03 03:04:39,250 fedbiomed INFO - \u001b[1mTRAINING\u001b[0m \n",
       "\t\t\t\t\t NODE_ID: NODE_5fbd3836-38ce-4075-9c03-bdef6bd97579 \n",
       "\t\t\t\t\t Round 3 Epoch: 8 | Iteration: 10/80 (12%) | Samples: 320/2560\n",
       " \t\t\t\t\t Loss: \u001b[1m0.000000\u001b[0m \n",
       "\t\t\t\t\t ---------"
      ]
     },
     "metadata": {},
     "output_type": "display_data"
    },
    {
     "data": {
      "text/plain": [
       "2025-10-03 03:04:39,260 fedbiomed INFO - \u001b[1mTRAINING\u001b[0m \n",
       "\t\t\t\t\t NODE_ID: NODE_9da4e82d-e30d-44c2-a481-b8a877e97f4d \n",
       "\t\t\t\t\t Round 3 Epoch: 6 | Iteration: 70/80 (88%) | Samples: 2240/2560\n",
       " \t\t\t\t\t Loss: \u001b[1m0.000001\u001b[0m \n",
       "\t\t\t\t\t ---------"
      ]
     },
     "metadata": {},
     "output_type": "display_data"
    },
    {
     "data": {
      "text/plain": [
       "2025-10-03 03:04:39,262 fedbiomed INFO - \u001b[1mTRAINING\u001b[0m \n",
       "\t\t\t\t\t NODE_ID: NODE_5fbd3836-38ce-4075-9c03-bdef6bd97579 \n",
       "\t\t\t\t\t Round 3 Epoch: 8 | Iteration: 20/80 (25%) | Samples: 640/2560\n",
       " \t\t\t\t\t Loss: \u001b[1m0.000000\u001b[0m \n",
       "\t\t\t\t\t ---------"
      ]
     },
     "metadata": {},
     "output_type": "display_data"
    },
    {
     "data": {
      "text/plain": [
       "2025-10-03 03:04:39,273 fedbiomed INFO - \u001b[1mTRAINING\u001b[0m \n",
       "\t\t\t\t\t NODE_ID: NODE_5fbd3836-38ce-4075-9c03-bdef6bd97579 \n",
       "\t\t\t\t\t Round 3 Epoch: 8 | Iteration: 30/80 (38%) | Samples: 960/2560\n",
       " \t\t\t\t\t Loss: \u001b[1m0.000000\u001b[0m \n",
       "\t\t\t\t\t ---------"
      ]
     },
     "metadata": {},
     "output_type": "display_data"
    },
    {
     "data": {
      "text/plain": [
       "2025-10-03 03:04:39,275 fedbiomed INFO - \u001b[1mTRAINING\u001b[0m \n",
       "\t\t\t\t\t NODE_ID: NODE_9da4e82d-e30d-44c2-a481-b8a877e97f4d \n",
       "\t\t\t\t\t Round 3 Epoch: 6 | Iteration: 80/80 (100%) | Samples: 2541/2541\n",
       " \t\t\t\t\t Loss: \u001b[1m0.000002\u001b[0m \n",
       "\t\t\t\t\t ---------"
      ]
     },
     "metadata": {},
     "output_type": "display_data"
    },
    {
     "data": {
      "text/plain": [
       "2025-10-03 03:04:39,279 fedbiomed INFO - \u001b[1mTRAINING\u001b[0m \n",
       "\t\t\t\t\t NODE_ID: NODE_9da4e82d-e30d-44c2-a481-b8a877e97f4d \n",
       "\t\t\t\t\t Round 3 Epoch: 7 | Iteration: 1/80 (1%) | Samples: 32/2560\n",
       " \t\t\t\t\t Loss: \u001b[1m0.000000\u001b[0m \n",
       "\t\t\t\t\t ---------"
      ]
     },
     "metadata": {},
     "output_type": "display_data"
    },
    {
     "data": {
      "text/plain": [
       "2025-10-03 03:04:39,287 fedbiomed INFO - \u001b[1mTRAINING\u001b[0m \n",
       "\t\t\t\t\t NODE_ID: NODE_5fbd3836-38ce-4075-9c03-bdef6bd97579 \n",
       "\t\t\t\t\t Round 3 Epoch: 8 | Iteration: 40/80 (50%) | Samples: 1280/2560\n",
       " \t\t\t\t\t Loss: \u001b[1m0.000000\u001b[0m \n",
       "\t\t\t\t\t ---------"
      ]
     },
     "metadata": {},
     "output_type": "display_data"
    },
    {
     "data": {
      "text/plain": [
       "2025-10-03 03:04:39,289 fedbiomed INFO - \u001b[1mTRAINING\u001b[0m \n",
       "\t\t\t\t\t NODE_ID: NODE_9da4e82d-e30d-44c2-a481-b8a877e97f4d \n",
       "\t\t\t\t\t Round 3 Epoch: 7 | Iteration: 10/80 (12%) | Samples: 320/2560\n",
       " \t\t\t\t\t Loss: \u001b[1m0.000001\u001b[0m \n",
       "\t\t\t\t\t ---------"
      ]
     },
     "metadata": {},
     "output_type": "display_data"
    },
    {
     "data": {
      "text/plain": [
       "2025-10-03 03:04:39,300 fedbiomed INFO - \u001b[1mTRAINING\u001b[0m \n",
       "\t\t\t\t\t NODE_ID: NODE_9da4e82d-e30d-44c2-a481-b8a877e97f4d \n",
       "\t\t\t\t\t Round 3 Epoch: 7 | Iteration: 20/80 (25%) | Samples: 640/2560\n",
       " \t\t\t\t\t Loss: \u001b[1m0.000003\u001b[0m \n",
       "\t\t\t\t\t ---------"
      ]
     },
     "metadata": {},
     "output_type": "display_data"
    },
    {
     "data": {
      "text/plain": [
       "2025-10-03 03:04:39,302 fedbiomed INFO - \u001b[1mTRAINING\u001b[0m \n",
       "\t\t\t\t\t NODE_ID: NODE_5fbd3836-38ce-4075-9c03-bdef6bd97579 \n",
       "\t\t\t\t\t Round 3 Epoch: 8 | Iteration: 50/80 (62%) | Samples: 1600/2560\n",
       " \t\t\t\t\t Loss: \u001b[1m0.000000\u001b[0m \n",
       "\t\t\t\t\t ---------"
      ]
     },
     "metadata": {},
     "output_type": "display_data"
    },
    {
     "data": {
      "text/plain": [
       "2025-10-03 03:04:39,313 fedbiomed INFO - \u001b[1mTRAINING\u001b[0m \n",
       "\t\t\t\t\t NODE_ID: NODE_9da4e82d-e30d-44c2-a481-b8a877e97f4d \n",
       "\t\t\t\t\t Round 3 Epoch: 7 | Iteration: 30/80 (38%) | Samples: 960/2560\n",
       " \t\t\t\t\t Loss: \u001b[1m0.000000\u001b[0m \n",
       "\t\t\t\t\t ---------"
      ]
     },
     "metadata": {},
     "output_type": "display_data"
    },
    {
     "data": {
      "text/plain": [
       "2025-10-03 03:04:39,315 fedbiomed INFO - \u001b[1mTRAINING\u001b[0m \n",
       "\t\t\t\t\t NODE_ID: NODE_5fbd3836-38ce-4075-9c03-bdef6bd97579 \n",
       "\t\t\t\t\t Round 3 Epoch: 8 | Iteration: 60/80 (75%) | Samples: 1920/2560\n",
       " \t\t\t\t\t Loss: \u001b[1m0.000000\u001b[0m \n",
       "\t\t\t\t\t ---------"
      ]
     },
     "metadata": {},
     "output_type": "display_data"
    },
    {
     "data": {
      "text/plain": [
       "2025-10-03 03:04:39,327 fedbiomed INFO - \u001b[1mTRAINING\u001b[0m \n",
       "\t\t\t\t\t NODE_ID: NODE_5fbd3836-38ce-4075-9c03-bdef6bd97579 \n",
       "\t\t\t\t\t Round 3 Epoch: 8 | Iteration: 70/80 (88%) | Samples: 2240/2560\n",
       " \t\t\t\t\t Loss: \u001b[1m0.000000\u001b[0m \n",
       "\t\t\t\t\t ---------"
      ]
     },
     "metadata": {},
     "output_type": "display_data"
    },
    {
     "data": {
      "text/plain": [
       "2025-10-03 03:04:39,329 fedbiomed INFO - \u001b[1mTRAINING\u001b[0m \n",
       "\t\t\t\t\t NODE_ID: NODE_9da4e82d-e30d-44c2-a481-b8a877e97f4d \n",
       "\t\t\t\t\t Round 3 Epoch: 7 | Iteration: 40/80 (50%) | Samples: 1280/2560\n",
       " \t\t\t\t\t Loss: \u001b[1m0.000001\u001b[0m \n",
       "\t\t\t\t\t ---------"
      ]
     },
     "metadata": {},
     "output_type": "display_data"
    },
    {
     "data": {
      "text/plain": [
       "2025-10-03 03:04:39,341 fedbiomed INFO - \u001b[1mTRAINING\u001b[0m \n",
       "\t\t\t\t\t NODE_ID: NODE_9da4e82d-e30d-44c2-a481-b8a877e97f4d \n",
       "\t\t\t\t\t Round 3 Epoch: 7 | Iteration: 50/80 (62%) | Samples: 1600/2560\n",
       " \t\t\t\t\t Loss: \u001b[1m0.000001\u001b[0m \n",
       "\t\t\t\t\t ---------"
      ]
     },
     "metadata": {},
     "output_type": "display_data"
    },
    {
     "data": {
      "text/plain": [
       "2025-10-03 03:04:39,342 fedbiomed INFO - \u001b[1mTRAINING\u001b[0m \n",
       "\t\t\t\t\t NODE_ID: NODE_5fbd3836-38ce-4075-9c03-bdef6bd97579 \n",
       "\t\t\t\t\t Round 3 Epoch: 8 | Iteration: 80/80 (100%) | Samples: 2541/2541\n",
       " \t\t\t\t\t Loss: \u001b[1m0.000000\u001b[0m \n",
       "\t\t\t\t\t ---------"
      ]
     },
     "metadata": {},
     "output_type": "display_data"
    },
    {
     "data": {
      "text/plain": [
       "2025-10-03 03:04:39,345 fedbiomed INFO - \u001b[1mTRAINING\u001b[0m \n",
       "\t\t\t\t\t NODE_ID: NODE_5fbd3836-38ce-4075-9c03-bdef6bd97579 \n",
       "\t\t\t\t\t Round 3 Epoch: 9 | Iteration: 1/80 (1%) | Samples: 32/2560\n",
       " \t\t\t\t\t Loss: \u001b[1m0.000000\u001b[0m \n",
       "\t\t\t\t\t ---------"
      ]
     },
     "metadata": {},
     "output_type": "display_data"
    },
    {
     "data": {
      "text/plain": [
       "2025-10-03 03:04:39,355 fedbiomed INFO - \u001b[1mTRAINING\u001b[0m \n",
       "\t\t\t\t\t NODE_ID: NODE_9da4e82d-e30d-44c2-a481-b8a877e97f4d \n",
       "\t\t\t\t\t Round 3 Epoch: 7 | Iteration: 60/80 (75%) | Samples: 1920/2560\n",
       " \t\t\t\t\t Loss: \u001b[1m0.000000\u001b[0m \n",
       "\t\t\t\t\t ---------"
      ]
     },
     "metadata": {},
     "output_type": "display_data"
    },
    {
     "data": {
      "text/plain": [
       "2025-10-03 03:04:39,359 fedbiomed INFO - \u001b[1mTRAINING\u001b[0m \n",
       "\t\t\t\t\t NODE_ID: NODE_5fbd3836-38ce-4075-9c03-bdef6bd97579 \n",
       "\t\t\t\t\t Round 3 Epoch: 9 | Iteration: 10/80 (12%) | Samples: 320/2560\n",
       " \t\t\t\t\t Loss: \u001b[1m0.000000\u001b[0m \n",
       "\t\t\t\t\t ---------"
      ]
     },
     "metadata": {},
     "output_type": "display_data"
    },
    {
     "data": {
      "text/plain": [
       "2025-10-03 03:04:39,369 fedbiomed INFO - \u001b[1mTRAINING\u001b[0m \n",
       "\t\t\t\t\t NODE_ID: NODE_9da4e82d-e30d-44c2-a481-b8a877e97f4d \n",
       "\t\t\t\t\t Round 3 Epoch: 7 | Iteration: 70/80 (88%) | Samples: 2240/2560\n",
       " \t\t\t\t\t Loss: \u001b[1m0.000001\u001b[0m \n",
       "\t\t\t\t\t ---------"
      ]
     },
     "metadata": {},
     "output_type": "display_data"
    },
    {
     "data": {
      "text/plain": [
       "2025-10-03 03:04:39,371 fedbiomed INFO - \u001b[1mTRAINING\u001b[0m \n",
       "\t\t\t\t\t NODE_ID: NODE_5fbd3836-38ce-4075-9c03-bdef6bd97579 \n",
       "\t\t\t\t\t Round 3 Epoch: 9 | Iteration: 20/80 (25%) | Samples: 640/2560\n",
       " \t\t\t\t\t Loss: \u001b[1m0.000000\u001b[0m \n",
       "\t\t\t\t\t ---------"
      ]
     },
     "metadata": {},
     "output_type": "display_data"
    },
    {
     "data": {
      "text/plain": [
       "2025-10-03 03:04:39,382 fedbiomed INFO - \u001b[1mTRAINING\u001b[0m \n",
       "\t\t\t\t\t NODE_ID: NODE_5fbd3836-38ce-4075-9c03-bdef6bd97579 \n",
       "\t\t\t\t\t Round 3 Epoch: 9 | Iteration: 30/80 (38%) | Samples: 960/2560\n",
       " \t\t\t\t\t Loss: \u001b[1m0.000000\u001b[0m \n",
       "\t\t\t\t\t ---------"
      ]
     },
     "metadata": {},
     "output_type": "display_data"
    },
    {
     "data": {
      "text/plain": [
       "2025-10-03 03:04:39,384 fedbiomed INFO - \u001b[1mTRAINING\u001b[0m \n",
       "\t\t\t\t\t NODE_ID: NODE_9da4e82d-e30d-44c2-a481-b8a877e97f4d \n",
       "\t\t\t\t\t Round 3 Epoch: 7 | Iteration: 80/80 (100%) | Samples: 2541/2541\n",
       " \t\t\t\t\t Loss: \u001b[1m0.000000\u001b[0m \n",
       "\t\t\t\t\t ---------"
      ]
     },
     "metadata": {},
     "output_type": "display_data"
    },
    {
     "data": {
      "text/plain": [
       "2025-10-03 03:04:39,385 fedbiomed INFO - \u001b[1mTRAINING\u001b[0m \n",
       "\t\t\t\t\t NODE_ID: NODE_9da4e82d-e30d-44c2-a481-b8a877e97f4d \n",
       "\t\t\t\t\t Round 3 Epoch: 8 | Iteration: 1/80 (1%) | Samples: 32/2560\n",
       " \t\t\t\t\t Loss: \u001b[1m0.000000\u001b[0m \n",
       "\t\t\t\t\t ---------"
      ]
     },
     "metadata": {},
     "output_type": "display_data"
    },
    {
     "data": {
      "text/plain": [
       "2025-10-03 03:04:39,397 fedbiomed INFO - \u001b[1mTRAINING\u001b[0m \n",
       "\t\t\t\t\t NODE_ID: NODE_5fbd3836-38ce-4075-9c03-bdef6bd97579 \n",
       "\t\t\t\t\t Round 3 Epoch: 9 | Iteration: 40/80 (50%) | Samples: 1280/2560\n",
       " \t\t\t\t\t Loss: \u001b[1m0.000000\u001b[0m \n",
       "\t\t\t\t\t ---------"
      ]
     },
     "metadata": {},
     "output_type": "display_data"
    },
    {
     "data": {
      "text/plain": [
       "2025-10-03 03:04:39,400 fedbiomed INFO - \u001b[1mTRAINING\u001b[0m \n",
       "\t\t\t\t\t NODE_ID: NODE_9da4e82d-e30d-44c2-a481-b8a877e97f4d \n",
       "\t\t\t\t\t Round 3 Epoch: 8 | Iteration: 10/80 (12%) | Samples: 320/2560\n",
       " \t\t\t\t\t Loss: \u001b[1m0.000001\u001b[0m \n",
       "\t\t\t\t\t ---------"
      ]
     },
     "metadata": {},
     "output_type": "display_data"
    },
    {
     "data": {
      "text/plain": [
       "2025-10-03 03:04:39,412 fedbiomed INFO - \u001b[1mTRAINING\u001b[0m \n",
       "\t\t\t\t\t NODE_ID: NODE_9da4e82d-e30d-44c2-a481-b8a877e97f4d \n",
       "\t\t\t\t\t Round 3 Epoch: 8 | Iteration: 20/80 (25%) | Samples: 640/2560\n",
       " \t\t\t\t\t Loss: \u001b[1m0.000000\u001b[0m \n",
       "\t\t\t\t\t ---------"
      ]
     },
     "metadata": {},
     "output_type": "display_data"
    },
    {
     "data": {
      "text/plain": [
       "2025-10-03 03:04:39,414 fedbiomed INFO - \u001b[1mTRAINING\u001b[0m \n",
       "\t\t\t\t\t NODE_ID: NODE_5fbd3836-38ce-4075-9c03-bdef6bd97579 \n",
       "\t\t\t\t\t Round 3 Epoch: 9 | Iteration: 50/80 (62%) | Samples: 1600/2560\n",
       " \t\t\t\t\t Loss: \u001b[1m0.000000\u001b[0m \n",
       "\t\t\t\t\t ---------"
      ]
     },
     "metadata": {},
     "output_type": "display_data"
    },
    {
     "data": {
      "text/plain": [
       "2025-10-03 03:04:39,425 fedbiomed INFO - \u001b[1mTRAINING\u001b[0m \n",
       "\t\t\t\t\t NODE_ID: NODE_9da4e82d-e30d-44c2-a481-b8a877e97f4d \n",
       "\t\t\t\t\t Round 3 Epoch: 8 | Iteration: 30/80 (38%) | Samples: 960/2560\n",
       " \t\t\t\t\t Loss: \u001b[1m0.000000\u001b[0m \n",
       "\t\t\t\t\t ---------"
      ]
     },
     "metadata": {},
     "output_type": "display_data"
    },
    {
     "data": {
      "text/plain": [
       "2025-10-03 03:04:39,427 fedbiomed INFO - \u001b[1mTRAINING\u001b[0m \n",
       "\t\t\t\t\t NODE_ID: NODE_5fbd3836-38ce-4075-9c03-bdef6bd97579 \n",
       "\t\t\t\t\t Round 3 Epoch: 9 | Iteration: 60/80 (75%) | Samples: 1920/2560\n",
       " \t\t\t\t\t Loss: \u001b[1m0.000000\u001b[0m \n",
       "\t\t\t\t\t ---------"
      ]
     },
     "metadata": {},
     "output_type": "display_data"
    },
    {
     "data": {
      "text/plain": [
       "2025-10-03 03:04:39,436 fedbiomed INFO - \u001b[1mTRAINING\u001b[0m \n",
       "\t\t\t\t\t NODE_ID: NODE_9da4e82d-e30d-44c2-a481-b8a877e97f4d \n",
       "\t\t\t\t\t Round 3 Epoch: 8 | Iteration: 40/80 (50%) | Samples: 1280/2560\n",
       " \t\t\t\t\t Loss: \u001b[1m0.000001\u001b[0m \n",
       "\t\t\t\t\t ---------"
      ]
     },
     "metadata": {},
     "output_type": "display_data"
    },
    {
     "data": {
      "text/plain": [
       "2025-10-03 03:04:39,443 fedbiomed INFO - \u001b[1mTRAINING\u001b[0m \n",
       "\t\t\t\t\t NODE_ID: NODE_5fbd3836-38ce-4075-9c03-bdef6bd97579 \n",
       "\t\t\t\t\t Round 3 Epoch: 9 | Iteration: 70/80 (88%) | Samples: 2240/2560\n",
       " \t\t\t\t\t Loss: \u001b[1m0.000000\u001b[0m \n",
       "\t\t\t\t\t ---------"
      ]
     },
     "metadata": {},
     "output_type": "display_data"
    },
    {
     "data": {
      "text/plain": [
       "2025-10-03 03:04:39,462 fedbiomed INFO - \u001b[1mTRAINING\u001b[0m \n",
       "\t\t\t\t\t NODE_ID: NODE_9da4e82d-e30d-44c2-a481-b8a877e97f4d \n",
       "\t\t\t\t\t Round 3 Epoch: 8 | Iteration: 50/80 (62%) | Samples: 1600/2560\n",
       " \t\t\t\t\t Loss: \u001b[1m0.000001\u001b[0m \n",
       "\t\t\t\t\t ---------"
      ]
     },
     "metadata": {},
     "output_type": "display_data"
    },
    {
     "data": {
      "text/plain": [
       "2025-10-03 03:04:39,482 fedbiomed INFO - \u001b[1mTRAINING\u001b[0m \n",
       "\t\t\t\t\t NODE_ID: NODE_5fbd3836-38ce-4075-9c03-bdef6bd97579 \n",
       "\t\t\t\t\t Round 3 Epoch: 9 | Iteration: 80/80 (100%) | Samples: 2541/2541\n",
       " \t\t\t\t\t Loss: \u001b[1m0.000000\u001b[0m \n",
       "\t\t\t\t\t ---------"
      ]
     },
     "metadata": {},
     "output_type": "display_data"
    },
    {
     "data": {
      "text/plain": [
       "2025-10-03 03:04:39,488 fedbiomed INFO - \u001b[1mTRAINING\u001b[0m \n",
       "\t\t\t\t\t NODE_ID: NODE_5fbd3836-38ce-4075-9c03-bdef6bd97579 \n",
       "\t\t\t\t\t Round 3 Epoch: 10 | Iteration: 1/80 (1%) | Samples: 32/2560\n",
       " \t\t\t\t\t Loss: \u001b[1m0.000000\u001b[0m \n",
       "\t\t\t\t\t ---------"
      ]
     },
     "metadata": {},
     "output_type": "display_data"
    },
    {
     "data": {
      "text/plain": [
       "2025-10-03 03:04:39,499 fedbiomed INFO - \u001b[1mTRAINING\u001b[0m \n",
       "\t\t\t\t\t NODE_ID: NODE_9da4e82d-e30d-44c2-a481-b8a877e97f4d \n",
       "\t\t\t\t\t Round 3 Epoch: 8 | Iteration: 60/80 (75%) | Samples: 1920/2560\n",
       " \t\t\t\t\t Loss: \u001b[1m0.000000\u001b[0m \n",
       "\t\t\t\t\t ---------"
      ]
     },
     "metadata": {},
     "output_type": "display_data"
    },
    {
     "data": {
      "text/plain": [
       "2025-10-03 03:04:39,523 fedbiomed INFO - \u001b[1mTRAINING\u001b[0m \n",
       "\t\t\t\t\t NODE_ID: NODE_5fbd3836-38ce-4075-9c03-bdef6bd97579 \n",
       "\t\t\t\t\t Round 3 Epoch: 10 | Iteration: 10/80 (12%) | Samples: 320/2560\n",
       " \t\t\t\t\t Loss: \u001b[1m0.000000\u001b[0m \n",
       "\t\t\t\t\t ---------"
      ]
     },
     "metadata": {},
     "output_type": "display_data"
    },
    {
     "data": {
      "text/plain": [
       "2025-10-03 03:04:39,531 fedbiomed INFO - \u001b[1mTRAINING\u001b[0m \n",
       "\t\t\t\t\t NODE_ID: NODE_9da4e82d-e30d-44c2-a481-b8a877e97f4d \n",
       "\t\t\t\t\t Round 3 Epoch: 8 | Iteration: 70/80 (88%) | Samples: 2240/2560\n",
       " \t\t\t\t\t Loss: \u001b[1m0.000001\u001b[0m \n",
       "\t\t\t\t\t ---------"
      ]
     },
     "metadata": {},
     "output_type": "display_data"
    },
    {
     "data": {
      "text/plain": [
       "2025-10-03 03:04:39,536 fedbiomed INFO - \u001b[1mTRAINING\u001b[0m \n",
       "\t\t\t\t\t NODE_ID: NODE_5fbd3836-38ce-4075-9c03-bdef6bd97579 \n",
       "\t\t\t\t\t Round 3 Epoch: 10 | Iteration: 20/80 (25%) | Samples: 640/2560\n",
       " \t\t\t\t\t Loss: \u001b[1m0.000000\u001b[0m \n",
       "\t\t\t\t\t ---------"
      ]
     },
     "metadata": {},
     "output_type": "display_data"
    },
    {
     "data": {
      "text/plain": [
       "2025-10-03 03:04:39,554 fedbiomed INFO - \u001b[1mTRAINING\u001b[0m \n",
       "\t\t\t\t\t NODE_ID: NODE_9da4e82d-e30d-44c2-a481-b8a877e97f4d \n",
       "\t\t\t\t\t Round 3 Epoch: 8 | Iteration: 80/80 (100%) | Samples: 2541/2541\n",
       " \t\t\t\t\t Loss: \u001b[1m0.000000\u001b[0m \n",
       "\t\t\t\t\t ---------"
      ]
     },
     "metadata": {},
     "output_type": "display_data"
    },
    {
     "data": {
      "text/plain": [
       "2025-10-03 03:04:39,556 fedbiomed INFO - \u001b[1mTRAINING\u001b[0m \n",
       "\t\t\t\t\t NODE_ID: NODE_5fbd3836-38ce-4075-9c03-bdef6bd97579 \n",
       "\t\t\t\t\t Round 3 Epoch: 10 | Iteration: 30/80 (38%) | Samples: 960/2560\n",
       " \t\t\t\t\t Loss: \u001b[1m0.000000\u001b[0m \n",
       "\t\t\t\t\t ---------"
      ]
     },
     "metadata": {},
     "output_type": "display_data"
    },
    {
     "data": {
      "text/plain": [
       "2025-10-03 03:04:39,558 fedbiomed INFO - \u001b[1mTRAINING\u001b[0m \n",
       "\t\t\t\t\t NODE_ID: NODE_9da4e82d-e30d-44c2-a481-b8a877e97f4d \n",
       "\t\t\t\t\t Round 3 Epoch: 9 | Iteration: 1/80 (1%) | Samples: 32/2560\n",
       " \t\t\t\t\t Loss: \u001b[1m0.000000\u001b[0m \n",
       "\t\t\t\t\t ---------"
      ]
     },
     "metadata": {},
     "output_type": "display_data"
    },
    {
     "data": {
      "text/plain": [
       "2025-10-03 03:04:39,584 fedbiomed INFO - \u001b[1mTRAINING\u001b[0m \n",
       "\t\t\t\t\t NODE_ID: NODE_5fbd3836-38ce-4075-9c03-bdef6bd97579 \n",
       "\t\t\t\t\t Round 3 Epoch: 10 | Iteration: 40/80 (50%) | Samples: 1280/2560\n",
       " \t\t\t\t\t Loss: \u001b[1m0.000000\u001b[0m \n",
       "\t\t\t\t\t ---------"
      ]
     },
     "metadata": {},
     "output_type": "display_data"
    },
    {
     "data": {
      "text/plain": [
       "2025-10-03 03:04:39,599 fedbiomed INFO - \u001b[1mTRAINING\u001b[0m \n",
       "\t\t\t\t\t NODE_ID: NODE_9da4e82d-e30d-44c2-a481-b8a877e97f4d \n",
       "\t\t\t\t\t Round 3 Epoch: 9 | Iteration: 10/80 (12%) | Samples: 320/2560\n",
       " \t\t\t\t\t Loss: \u001b[1m0.000001\u001b[0m \n",
       "\t\t\t\t\t ---------"
      ]
     },
     "metadata": {},
     "output_type": "display_data"
    },
    {
     "data": {
      "text/plain": [
       "2025-10-03 03:04:39,620 fedbiomed INFO - \u001b[1mTRAINING\u001b[0m \n",
       "\t\t\t\t\t NODE_ID: NODE_5fbd3836-38ce-4075-9c03-bdef6bd97579 \n",
       "\t\t\t\t\t Round 3 Epoch: 10 | Iteration: 50/80 (62%) | Samples: 1600/2560\n",
       " \t\t\t\t\t Loss: \u001b[1m0.000000\u001b[0m \n",
       "\t\t\t\t\t ---------"
      ]
     },
     "metadata": {},
     "output_type": "display_data"
    },
    {
     "data": {
      "text/plain": [
       "2025-10-03 03:04:39,627 fedbiomed INFO - \u001b[1mTRAINING\u001b[0m \n",
       "\t\t\t\t\t NODE_ID: NODE_9da4e82d-e30d-44c2-a481-b8a877e97f4d \n",
       "\t\t\t\t\t Round 3 Epoch: 9 | Iteration: 20/80 (25%) | Samples: 640/2560\n",
       " \t\t\t\t\t Loss: \u001b[1m0.000000\u001b[0m \n",
       "\t\t\t\t\t ---------"
      ]
     },
     "metadata": {},
     "output_type": "display_data"
    },
    {
     "data": {
      "text/plain": [
       "2025-10-03 03:04:39,634 fedbiomed INFO - \u001b[1mTRAINING\u001b[0m \n",
       "\t\t\t\t\t NODE_ID: NODE_5fbd3836-38ce-4075-9c03-bdef6bd97579 \n",
       "\t\t\t\t\t Round 3 Epoch: 10 | Iteration: 60/80 (75%) | Samples: 1920/2560\n",
       " \t\t\t\t\t Loss: \u001b[1m0.000000\u001b[0m \n",
       "\t\t\t\t\t ---------"
      ]
     },
     "metadata": {},
     "output_type": "display_data"
    },
    {
     "data": {
      "text/plain": [
       "2025-10-03 03:04:39,643 fedbiomed INFO - \u001b[1mTRAINING\u001b[0m \n",
       "\t\t\t\t\t NODE_ID: NODE_9da4e82d-e30d-44c2-a481-b8a877e97f4d \n",
       "\t\t\t\t\t Round 3 Epoch: 9 | Iteration: 30/80 (38%) | Samples: 960/2560\n",
       " \t\t\t\t\t Loss: \u001b[1m0.000000\u001b[0m \n",
       "\t\t\t\t\t ---------"
      ]
     },
     "metadata": {},
     "output_type": "display_data"
    },
    {
     "data": {
      "text/plain": [
       "2025-10-03 03:04:39,649 fedbiomed INFO - \u001b[1mTRAINING\u001b[0m \n",
       "\t\t\t\t\t NODE_ID: NODE_5fbd3836-38ce-4075-9c03-bdef6bd97579 \n",
       "\t\t\t\t\t Round 3 Epoch: 10 | Iteration: 70/80 (88%) | Samples: 2240/2560\n",
       " \t\t\t\t\t Loss: \u001b[1m0.000000\u001b[0m \n",
       "\t\t\t\t\t ---------"
      ]
     },
     "metadata": {},
     "output_type": "display_data"
    },
    {
     "data": {
      "text/plain": [
       "2025-10-03 03:04:39,658 fedbiomed INFO - \u001b[1mTRAINING\u001b[0m \n",
       "\t\t\t\t\t NODE_ID: NODE_9da4e82d-e30d-44c2-a481-b8a877e97f4d \n",
       "\t\t\t\t\t Round 3 Epoch: 9 | Iteration: 40/80 (50%) | Samples: 1280/2560\n",
       " \t\t\t\t\t Loss: \u001b[1m0.000000\u001b[0m \n",
       "\t\t\t\t\t ---------"
      ]
     },
     "metadata": {},
     "output_type": "display_data"
    },
    {
     "data": {
      "text/plain": [
       "2025-10-03 03:04:39,663 fedbiomed INFO - \u001b[1mTRAINING\u001b[0m \n",
       "\t\t\t\t\t NODE_ID: NODE_5fbd3836-38ce-4075-9c03-bdef6bd97579 \n",
       "\t\t\t\t\t Round 3 Epoch: 10 | Iteration: 80/80 (100%) | Samples: 2541/2541\n",
       " \t\t\t\t\t Loss: \u001b[1m0.000000\u001b[0m \n",
       "\t\t\t\t\t ---------"
      ]
     },
     "metadata": {},
     "output_type": "display_data"
    },
    {
     "data": {
      "text/plain": [
       "2025-10-03 03:04:39,670 fedbiomed INFO - \u001b[1mVALIDATION ON LOCAL UPDATES\u001b[0m \n",
       "\t\t\t\t\t NODE_ID: NODE_5fbd3836-38ce-4075-9c03-bdef6bd97579 \n",
       "\t\t\t\t\t Round 3 | Iteration: 1/1 (100%) | Samples: 635/635\n",
       " \t\t\t\t\t ACCURACY: \u001b[1m1.000000\u001b[0m \n",
       "\t\t\t\t\t ---------"
      ]
     },
     "metadata": {},
     "output_type": "display_data"
    },
    {
     "data": {
      "text/plain": [
       "2025-10-03 03:04:39,674 fedbiomed INFO - \u001b[1mTRAINING\u001b[0m \n",
       "\t\t\t\t\t NODE_ID: NODE_9da4e82d-e30d-44c2-a481-b8a877e97f4d \n",
       "\t\t\t\t\t Round 3 Epoch: 9 | Iteration: 50/80 (62%) | Samples: 1600/2560\n",
       " \t\t\t\t\t Loss: \u001b[1m0.000000\u001b[0m \n",
       "\t\t\t\t\t ---------"
      ]
     },
     "metadata": {},
     "output_type": "display_data"
    },
    {
     "data": {
      "text/plain": [
       "2025-10-03 03:04:39,685 fedbiomed INFO - \u001b[1mTRAINING\u001b[0m \n",
       "\t\t\t\t\t NODE_ID: NODE_9da4e82d-e30d-44c2-a481-b8a877e97f4d \n",
       "\t\t\t\t\t Round 3 Epoch: 9 | Iteration: 60/80 (75%) | Samples: 1920/2560\n",
       " \t\t\t\t\t Loss: \u001b[1m0.000000\u001b[0m \n",
       "\t\t\t\t\t ---------"
      ]
     },
     "metadata": {},
     "output_type": "display_data"
    },
    {
     "data": {
      "text/plain": [
       "2025-10-03 03:04:39,701 fedbiomed INFO - \u001b[1mTRAINING\u001b[0m \n",
       "\t\t\t\t\t NODE_ID: NODE_9da4e82d-e30d-44c2-a481-b8a877e97f4d \n",
       "\t\t\t\t\t Round 3 Epoch: 9 | Iteration: 70/80 (88%) | Samples: 2240/2560\n",
       " \t\t\t\t\t Loss: \u001b[1m0.000000\u001b[0m \n",
       "\t\t\t\t\t ---------"
      ]
     },
     "metadata": {},
     "output_type": "display_data"
    },
    {
     "data": {
      "text/plain": [
       "2025-10-03 03:04:39,710 fedbiomed INFO - \u001b[1mTRAINING\u001b[0m \n",
       "\t\t\t\t\t NODE_ID: NODE_9da4e82d-e30d-44c2-a481-b8a877e97f4d \n",
       "\t\t\t\t\t Round 3 Epoch: 9 | Iteration: 80/80 (100%) | Samples: 2541/2541\n",
       " \t\t\t\t\t Loss: \u001b[1m0.000000\u001b[0m \n",
       "\t\t\t\t\t ---------"
      ]
     },
     "metadata": {},
     "output_type": "display_data"
    },
    {
     "data": {
      "text/plain": [
       "2025-10-03 03:04:39,715 fedbiomed INFO - \u001b[1mTRAINING\u001b[0m \n",
       "\t\t\t\t\t NODE_ID: NODE_9da4e82d-e30d-44c2-a481-b8a877e97f4d \n",
       "\t\t\t\t\t Round 3 Epoch: 10 | Iteration: 1/80 (1%) | Samples: 32/2560\n",
       " \t\t\t\t\t Loss: \u001b[1m0.000000\u001b[0m \n",
       "\t\t\t\t\t ---------"
      ]
     },
     "metadata": {},
     "output_type": "display_data"
    },
    {
     "data": {
      "text/plain": [
       "2025-10-03 03:04:39,728 fedbiomed INFO - \u001b[1mTRAINING\u001b[0m \n",
       "\t\t\t\t\t NODE_ID: NODE_9da4e82d-e30d-44c2-a481-b8a877e97f4d \n",
       "\t\t\t\t\t Round 3 Epoch: 10 | Iteration: 10/80 (12%) | Samples: 320/2560\n",
       " \t\t\t\t\t Loss: \u001b[1m0.000000\u001b[0m \n",
       "\t\t\t\t\t ---------"
      ]
     },
     "metadata": {},
     "output_type": "display_data"
    },
    {
     "data": {
      "text/plain": [
       "2025-10-03 03:04:39,736 fedbiomed INFO - \u001b[1mTRAINING\u001b[0m \n",
       "\t\t\t\t\t NODE_ID: NODE_9da4e82d-e30d-44c2-a481-b8a877e97f4d \n",
       "\t\t\t\t\t Round 3 Epoch: 10 | Iteration: 20/80 (25%) | Samples: 640/2560\n",
       " \t\t\t\t\t Loss: \u001b[1m0.000000\u001b[0m \n",
       "\t\t\t\t\t ---------"
      ]
     },
     "metadata": {},
     "output_type": "display_data"
    },
    {
     "data": {
      "text/plain": [
       "2025-10-03 03:04:39,750 fedbiomed INFO - \u001b[1mTRAINING\u001b[0m \n",
       "\t\t\t\t\t NODE_ID: NODE_9da4e82d-e30d-44c2-a481-b8a877e97f4d \n",
       "\t\t\t\t\t Round 3 Epoch: 10 | Iteration: 30/80 (38%) | Samples: 960/2560\n",
       " \t\t\t\t\t Loss: \u001b[1m0.000000\u001b[0m \n",
       "\t\t\t\t\t ---------"
      ]
     },
     "metadata": {},
     "output_type": "display_data"
    },
    {
     "data": {
      "text/plain": [
       "2025-10-03 03:04:39,761 fedbiomed INFO - \u001b[1mTRAINING\u001b[0m \n",
       "\t\t\t\t\t NODE_ID: NODE_9da4e82d-e30d-44c2-a481-b8a877e97f4d \n",
       "\t\t\t\t\t Round 3 Epoch: 10 | Iteration: 40/80 (50%) | Samples: 1280/2560\n",
       " \t\t\t\t\t Loss: \u001b[1m0.000001\u001b[0m \n",
       "\t\t\t\t\t ---------"
      ]
     },
     "metadata": {},
     "output_type": "display_data"
    },
    {
     "data": {
      "text/plain": [
       "2025-10-03 03:04:39,774 fedbiomed INFO - \u001b[1mTRAINING\u001b[0m \n",
       "\t\t\t\t\t NODE_ID: NODE_9da4e82d-e30d-44c2-a481-b8a877e97f4d \n",
       "\t\t\t\t\t Round 3 Epoch: 10 | Iteration: 50/80 (62%) | Samples: 1600/2560\n",
       " \t\t\t\t\t Loss: \u001b[1m0.000000\u001b[0m \n",
       "\t\t\t\t\t ---------"
      ]
     },
     "metadata": {},
     "output_type": "display_data"
    },
    {
     "data": {
      "text/plain": [
       "2025-10-03 03:04:39,787 fedbiomed INFO - \u001b[1mTRAINING\u001b[0m \n",
       "\t\t\t\t\t NODE_ID: NODE_9da4e82d-e30d-44c2-a481-b8a877e97f4d \n",
       "\t\t\t\t\t Round 3 Epoch: 10 | Iteration: 60/80 (75%) | Samples: 1920/2560\n",
       " \t\t\t\t\t Loss: \u001b[1m0.000000\u001b[0m \n",
       "\t\t\t\t\t ---------"
      ]
     },
     "metadata": {},
     "output_type": "display_data"
    },
    {
     "data": {
      "text/plain": [
       "2025-10-03 03:04:39,797 fedbiomed INFO - \u001b[1mTRAINING\u001b[0m \n",
       "\t\t\t\t\t NODE_ID: NODE_9da4e82d-e30d-44c2-a481-b8a877e97f4d \n",
       "\t\t\t\t\t Round 3 Epoch: 10 | Iteration: 70/80 (88%) | Samples: 2240/2560\n",
       " \t\t\t\t\t Loss: \u001b[1m0.000001\u001b[0m \n",
       "\t\t\t\t\t ---------"
      ]
     },
     "metadata": {},
     "output_type": "display_data"
    },
    {
     "data": {
      "text/plain": [
       "2025-10-03 03:04:39,808 fedbiomed INFO - \u001b[1mTRAINING\u001b[0m \n",
       "\t\t\t\t\t NODE_ID: NODE_9da4e82d-e30d-44c2-a481-b8a877e97f4d \n",
       "\t\t\t\t\t Round 3 Epoch: 10 | Iteration: 80/80 (100%) | Samples: 2541/2541\n",
       " \t\t\t\t\t Loss: \u001b[1m0.000000\u001b[0m \n",
       "\t\t\t\t\t ---------"
      ]
     },
     "metadata": {},
     "output_type": "display_data"
    },
    {
     "data": {
      "text/plain": [
       "2025-10-03 03:04:39,814 fedbiomed INFO - \u001b[1mVALIDATION ON LOCAL UPDATES\u001b[0m \n",
       "\t\t\t\t\t NODE_ID: NODE_9da4e82d-e30d-44c2-a481-b8a877e97f4d \n",
       "\t\t\t\t\t Round 3 | Iteration: 1/1 (100%) | Samples: 635/635\n",
       " \t\t\t\t\t ACCURACY: \u001b[1m1.000000\u001b[0m \n",
       "\t\t\t\t\t ---------"
      ]
     },
     "metadata": {},
     "output_type": "display_data"
    },
    {
     "data": {
      "text/plain": [
       "2025-10-03 03:04:40,196 fedbiomed INFO - Nodes that successfully reply in round 2 ['NODE_9da4e82d-e30d-44c2-a481-b8a877e97f4d', 'NODE_5fbd3836-38ce-4075-9c03-bdef6bd97579']"
      ]
     },
     "metadata": {},
     "output_type": "display_data"
    },
    {
     "data": {
      "text/plain": [
       "2025-10-03 03:04:40,197 fedbiomed INFO - Sampled nodes in round 3 ['NODE_9da4e82d-e30d-44c2-a481-b8a877e97f4d', 'NODE_5fbd3836-38ce-4075-9c03-bdef6bd97579']"
      ]
     },
     "metadata": {},
     "output_type": "display_data"
    },
    {
     "name": "stdout",
     "output_type": "stream",
     "text": [
      "<function extract_symbols at 0x7f19a038bac0>\n"
     ]
    },
    {
     "data": {
      "text/plain": [
       "2025-10-03 03:04:40,200 fedbiomed INFO - \u001b[1mSending request\u001b[0m \n",
       "\t\t\t\t\t\u001b[1m To\u001b[0m: NODE_9da4e82d-e30d-44c2-a481-b8a877e97f4d \n",
       "\t\t\t\t\t\u001b[1m Request: \u001b[0m: TRAIN\n",
       " -----------------------------------------------------------------"
      ]
     },
     "metadata": {},
     "output_type": "display_data"
    },
    {
     "data": {
      "text/plain": [
       "2025-10-03 03:04:40,202 fedbiomed INFO - \u001b[1mSending request\u001b[0m \n",
       "\t\t\t\t\t\u001b[1m To\u001b[0m: NODE_5fbd3836-38ce-4075-9c03-bdef6bd97579 \n",
       "\t\t\t\t\t\u001b[1m Request: \u001b[0m: TRAIN\n",
       " -----------------------------------------------------------------"
      ]
     },
     "metadata": {},
     "output_type": "display_data"
    },
    {
     "data": {
      "text/plain": [
       "2025-10-03 03:04:40,209 fedbiomed DEBUG - Node: NODE_9da4e82d-e30d-44c2-a481-b8a877e97f4d polling for the tasks"
      ]
     },
     "metadata": {},
     "output_type": "display_data"
    },
    {
     "data": {
      "text/plain": [
       "2025-10-03 03:04:40,211 fedbiomed DEBUG - Node: NODE_5fbd3836-38ce-4075-9c03-bdef6bd97579 polling for the tasks"
      ]
     },
     "metadata": {},
     "output_type": "display_data"
    },
    {
     "data": {
      "text/plain": [
       "2025-10-03 03:04:40,537 fedbiomed INFO - \u001b[1mVALIDATION ON GLOBAL UPDATES\u001b[0m \n",
       "\t\t\t\t\t NODE_ID: NODE_5fbd3836-38ce-4075-9c03-bdef6bd97579 \n",
       "\t\t\t\t\t Round 4 | Iteration: 1/1 (100%) | Samples: 635/635\n",
       " \t\t\t\t\t ACCURACY: \u001b[1m1.000000\u001b[0m \n",
       "\t\t\t\t\t ---------"
      ]
     },
     "metadata": {},
     "output_type": "display_data"
    },
    {
     "data": {
      "text/plain": [
       "2025-10-03 03:04:40,540 fedbiomed INFO - \u001b[1mTRAINING\u001b[0m \n",
       "\t\t\t\t\t NODE_ID: NODE_5fbd3836-38ce-4075-9c03-bdef6bd97579 \n",
       "\t\t\t\t\t Round 4 Epoch: 1 | Iteration: 1/80 (1%) | Samples: 32/2560\n",
       " \t\t\t\t\t Loss: \u001b[1m0.000000\u001b[0m \n",
       "\t\t\t\t\t ---------"
      ]
     },
     "metadata": {},
     "output_type": "display_data"
    },
    {
     "data": {
      "text/plain": [
       "2025-10-03 03:04:40,550 fedbiomed INFO - \u001b[1mTRAINING\u001b[0m \n",
       "\t\t\t\t\t NODE_ID: NODE_5fbd3836-38ce-4075-9c03-bdef6bd97579 \n",
       "\t\t\t\t\t Round 4 Epoch: 1 | Iteration: 10/80 (12%) | Samples: 320/2560\n",
       " \t\t\t\t\t Loss: \u001b[1m0.000000\u001b[0m \n",
       "\t\t\t\t\t ---------"
      ]
     },
     "metadata": {},
     "output_type": "display_data"
    },
    {
     "data": {
      "text/plain": [
       "2025-10-03 03:04:40,564 fedbiomed INFO - \u001b[1mTRAINING\u001b[0m \n",
       "\t\t\t\t\t NODE_ID: NODE_5fbd3836-38ce-4075-9c03-bdef6bd97579 \n",
       "\t\t\t\t\t Round 4 Epoch: 1 | Iteration: 20/80 (25%) | Samples: 640/2560\n",
       " \t\t\t\t\t Loss: \u001b[1m0.000000\u001b[0m \n",
       "\t\t\t\t\t ---------"
      ]
     },
     "metadata": {},
     "output_type": "display_data"
    },
    {
     "data": {
      "text/plain": [
       "2025-10-03 03:04:40,582 fedbiomed INFO - \u001b[1mTRAINING\u001b[0m \n",
       "\t\t\t\t\t NODE_ID: NODE_5fbd3836-38ce-4075-9c03-bdef6bd97579 \n",
       "\t\t\t\t\t Round 4 Epoch: 1 | Iteration: 30/80 (38%) | Samples: 960/2560\n",
       " \t\t\t\t\t Loss: \u001b[1m0.000000\u001b[0m \n",
       "\t\t\t\t\t ---------"
      ]
     },
     "metadata": {},
     "output_type": "display_data"
    },
    {
     "data": {
      "text/plain": [
       "2025-10-03 03:04:40,594 fedbiomed INFO - \u001b[1mTRAINING\u001b[0m \n",
       "\t\t\t\t\t NODE_ID: NODE_5fbd3836-38ce-4075-9c03-bdef6bd97579 \n",
       "\t\t\t\t\t Round 4 Epoch: 1 | Iteration: 40/80 (50%) | Samples: 1280/2560\n",
       " \t\t\t\t\t Loss: \u001b[1m0.000000\u001b[0m \n",
       "\t\t\t\t\t ---------"
      ]
     },
     "metadata": {},
     "output_type": "display_data"
    },
    {
     "data": {
      "text/plain": [
       "2025-10-03 03:04:40,606 fedbiomed INFO - \u001b[1mTRAINING\u001b[0m \n",
       "\t\t\t\t\t NODE_ID: NODE_5fbd3836-38ce-4075-9c03-bdef6bd97579 \n",
       "\t\t\t\t\t Round 4 Epoch: 1 | Iteration: 50/80 (62%) | Samples: 1600/2560\n",
       " \t\t\t\t\t Loss: \u001b[1m0.000000\u001b[0m \n",
       "\t\t\t\t\t ---------"
      ]
     },
     "metadata": {},
     "output_type": "display_data"
    },
    {
     "data": {
      "text/plain": [
       "2025-10-03 03:04:40,636 fedbiomed INFO - \u001b[1mTRAINING\u001b[0m \n",
       "\t\t\t\t\t NODE_ID: NODE_5fbd3836-38ce-4075-9c03-bdef6bd97579 \n",
       "\t\t\t\t\t Round 4 Epoch: 1 | Iteration: 60/80 (75%) | Samples: 1920/2560\n",
       " \t\t\t\t\t Loss: \u001b[1m0.000001\u001b[0m \n",
       "\t\t\t\t\t ---------"
      ]
     },
     "metadata": {},
     "output_type": "display_data"
    },
    {
     "data": {
      "text/plain": [
       "2025-10-03 03:04:40,638 fedbiomed INFO - \u001b[1mVALIDATION ON GLOBAL UPDATES\u001b[0m \n",
       "\t\t\t\t\t NODE_ID: NODE_9da4e82d-e30d-44c2-a481-b8a877e97f4d \n",
       "\t\t\t\t\t Round 4 | Iteration: 1/1 (100%) | Samples: 635/635\n",
       " \t\t\t\t\t ACCURACY: \u001b[1m1.000000\u001b[0m \n",
       "\t\t\t\t\t ---------"
      ]
     },
     "metadata": {},
     "output_type": "display_data"
    },
    {
     "data": {
      "text/plain": [
       "2025-10-03 03:04:40,640 fedbiomed INFO - \u001b[1mTRAINING\u001b[0m \n",
       "\t\t\t\t\t NODE_ID: NODE_5fbd3836-38ce-4075-9c03-bdef6bd97579 \n",
       "\t\t\t\t\t Round 4 Epoch: 1 | Iteration: 70/80 (88%) | Samples: 2240/2560\n",
       " \t\t\t\t\t Loss: \u001b[1m0.000000\u001b[0m \n",
       "\t\t\t\t\t ---------"
      ]
     },
     "metadata": {},
     "output_type": "display_data"
    },
    {
     "data": {
      "text/plain": [
       "2025-10-03 03:04:40,643 fedbiomed INFO - \u001b[1mTRAINING\u001b[0m \n",
       "\t\t\t\t\t NODE_ID: NODE_9da4e82d-e30d-44c2-a481-b8a877e97f4d \n",
       "\t\t\t\t\t Round 4 Epoch: 1 | Iteration: 1/80 (1%) | Samples: 32/2560\n",
       " \t\t\t\t\t Loss: \u001b[1m0.000000\u001b[0m \n",
       "\t\t\t\t\t ---------"
      ]
     },
     "metadata": {},
     "output_type": "display_data"
    },
    {
     "data": {
      "text/plain": [
       "2025-10-03 03:04:40,649 fedbiomed INFO - \u001b[1mTRAINING\u001b[0m \n",
       "\t\t\t\t\t NODE_ID: NODE_5fbd3836-38ce-4075-9c03-bdef6bd97579 \n",
       "\t\t\t\t\t Round 4 Epoch: 1 | Iteration: 80/80 (100%) | Samples: 2541/2541\n",
       " \t\t\t\t\t Loss: \u001b[1m0.000000\u001b[0m \n",
       "\t\t\t\t\t ---------"
      ]
     },
     "metadata": {},
     "output_type": "display_data"
    },
    {
     "data": {
      "text/plain": [
       "2025-10-03 03:04:40,651 fedbiomed INFO - \u001b[1mTRAINING\u001b[0m \n",
       "\t\t\t\t\t NODE_ID: NODE_5fbd3836-38ce-4075-9c03-bdef6bd97579 \n",
       "\t\t\t\t\t Round 4 Epoch: 2 | Iteration: 1/80 (1%) | Samples: 32/2560\n",
       " \t\t\t\t\t Loss: \u001b[1m0.000000\u001b[0m \n",
       "\t\t\t\t\t ---------"
      ]
     },
     "metadata": {},
     "output_type": "display_data"
    },
    {
     "data": {
      "text/plain": [
       "2025-10-03 03:04:40,662 fedbiomed INFO - \u001b[1mTRAINING\u001b[0m \n",
       "\t\t\t\t\t NODE_ID: NODE_9da4e82d-e30d-44c2-a481-b8a877e97f4d \n",
       "\t\t\t\t\t Round 4 Epoch: 1 | Iteration: 10/80 (12%) | Samples: 320/2560\n",
       " \t\t\t\t\t Loss: \u001b[1m0.000000\u001b[0m \n",
       "\t\t\t\t\t ---------"
      ]
     },
     "metadata": {},
     "output_type": "display_data"
    },
    {
     "data": {
      "text/plain": [
       "2025-10-03 03:04:40,664 fedbiomed INFO - \u001b[1mTRAINING\u001b[0m \n",
       "\t\t\t\t\t NODE_ID: NODE_5fbd3836-38ce-4075-9c03-bdef6bd97579 \n",
       "\t\t\t\t\t Round 4 Epoch: 2 | Iteration: 10/80 (12%) | Samples: 320/2560\n",
       " \t\t\t\t\t Loss: \u001b[1m0.000000\u001b[0m \n",
       "\t\t\t\t\t ---------"
      ]
     },
     "metadata": {},
     "output_type": "display_data"
    },
    {
     "data": {
      "text/plain": [
       "2025-10-03 03:04:40,674 fedbiomed INFO - \u001b[1mTRAINING\u001b[0m \n",
       "\t\t\t\t\t NODE_ID: NODE_5fbd3836-38ce-4075-9c03-bdef6bd97579 \n",
       "\t\t\t\t\t Round 4 Epoch: 2 | Iteration: 20/80 (25%) | Samples: 640/2560\n",
       " \t\t\t\t\t Loss: \u001b[1m0.000000\u001b[0m \n",
       "\t\t\t\t\t ---------"
      ]
     },
     "metadata": {},
     "output_type": "display_data"
    },
    {
     "data": {
      "text/plain": [
       "2025-10-03 03:04:40,682 fedbiomed INFO - \u001b[1mTRAINING\u001b[0m \n",
       "\t\t\t\t\t NODE_ID: NODE_9da4e82d-e30d-44c2-a481-b8a877e97f4d \n",
       "\t\t\t\t\t Round 4 Epoch: 1 | Iteration: 20/80 (25%) | Samples: 640/2560\n",
       " \t\t\t\t\t Loss: \u001b[1m0.000000\u001b[0m \n",
       "\t\t\t\t\t ---------"
      ]
     },
     "metadata": {},
     "output_type": "display_data"
    },
    {
     "data": {
      "text/plain": [
       "2025-10-03 03:04:40,690 fedbiomed INFO - \u001b[1mTRAINING\u001b[0m \n",
       "\t\t\t\t\t NODE_ID: NODE_5fbd3836-38ce-4075-9c03-bdef6bd97579 \n",
       "\t\t\t\t\t Round 4 Epoch: 2 | Iteration: 30/80 (38%) | Samples: 960/2560\n",
       " \t\t\t\t\t Loss: \u001b[1m0.000000\u001b[0m \n",
       "\t\t\t\t\t ---------"
      ]
     },
     "metadata": {},
     "output_type": "display_data"
    },
    {
     "data": {
      "text/plain": [
       "2025-10-03 03:04:40,699 fedbiomed INFO - \u001b[1mTRAINING\u001b[0m \n",
       "\t\t\t\t\t NODE_ID: NODE_9da4e82d-e30d-44c2-a481-b8a877e97f4d \n",
       "\t\t\t\t\t Round 4 Epoch: 1 | Iteration: 30/80 (38%) | Samples: 960/2560\n",
       " \t\t\t\t\t Loss: \u001b[1m0.000000\u001b[0m \n",
       "\t\t\t\t\t ---------"
      ]
     },
     "metadata": {},
     "output_type": "display_data"
    },
    {
     "data": {
      "text/plain": [
       "2025-10-03 03:04:40,710 fedbiomed INFO - \u001b[1mTRAINING\u001b[0m \n",
       "\t\t\t\t\t NODE_ID: NODE_5fbd3836-38ce-4075-9c03-bdef6bd97579 \n",
       "\t\t\t\t\t Round 4 Epoch: 2 | Iteration: 40/80 (50%) | Samples: 1280/2560\n",
       " \t\t\t\t\t Loss: \u001b[1m0.000000\u001b[0m \n",
       "\t\t\t\t\t ---------"
      ]
     },
     "metadata": {},
     "output_type": "display_data"
    },
    {
     "data": {
      "text/plain": [
       "2025-10-03 03:04:40,724 fedbiomed INFO - \u001b[1mTRAINING\u001b[0m \n",
       "\t\t\t\t\t NODE_ID: NODE_9da4e82d-e30d-44c2-a481-b8a877e97f4d \n",
       "\t\t\t\t\t Round 4 Epoch: 1 | Iteration: 40/80 (50%) | Samples: 1280/2560\n",
       " \t\t\t\t\t Loss: \u001b[1m0.000001\u001b[0m \n",
       "\t\t\t\t\t ---------"
      ]
     },
     "metadata": {},
     "output_type": "display_data"
    },
    {
     "data": {
      "text/plain": [
       "2025-10-03 03:04:40,727 fedbiomed INFO - \u001b[1mTRAINING\u001b[0m \n",
       "\t\t\t\t\t NODE_ID: NODE_5fbd3836-38ce-4075-9c03-bdef6bd97579 \n",
       "\t\t\t\t\t Round 4 Epoch: 2 | Iteration: 50/80 (62%) | Samples: 1600/2560\n",
       " \t\t\t\t\t Loss: \u001b[1m0.000000\u001b[0m \n",
       "\t\t\t\t\t ---------"
      ]
     },
     "metadata": {},
     "output_type": "display_data"
    },
    {
     "data": {
      "text/plain": [
       "2025-10-03 03:04:40,742 fedbiomed INFO - \u001b[1mTRAINING\u001b[0m \n",
       "\t\t\t\t\t NODE_ID: NODE_9da4e82d-e30d-44c2-a481-b8a877e97f4d \n",
       "\t\t\t\t\t Round 4 Epoch: 1 | Iteration: 50/80 (62%) | Samples: 1600/2560\n",
       " \t\t\t\t\t Loss: \u001b[1m0.000002\u001b[0m \n",
       "\t\t\t\t\t ---------"
      ]
     },
     "metadata": {},
     "output_type": "display_data"
    },
    {
     "data": {
      "text/plain": [
       "2025-10-03 03:04:40,748 fedbiomed INFO - \u001b[1mTRAINING\u001b[0m \n",
       "\t\t\t\t\t NODE_ID: NODE_5fbd3836-38ce-4075-9c03-bdef6bd97579 \n",
       "\t\t\t\t\t Round 4 Epoch: 2 | Iteration: 60/80 (75%) | Samples: 1920/2560\n",
       " \t\t\t\t\t Loss: \u001b[1m0.000000\u001b[0m \n",
       "\t\t\t\t\t ---------"
      ]
     },
     "metadata": {},
     "output_type": "display_data"
    },
    {
     "data": {
      "text/plain": [
       "2025-10-03 03:04:40,757 fedbiomed INFO - \u001b[1mTRAINING\u001b[0m \n",
       "\t\t\t\t\t NODE_ID: NODE_9da4e82d-e30d-44c2-a481-b8a877e97f4d \n",
       "\t\t\t\t\t Round 4 Epoch: 1 | Iteration: 60/80 (75%) | Samples: 1920/2560\n",
       " \t\t\t\t\t Loss: \u001b[1m0.000000\u001b[0m \n",
       "\t\t\t\t\t ---------"
      ]
     },
     "metadata": {},
     "output_type": "display_data"
    },
    {
     "data": {
      "text/plain": [
       "2025-10-03 03:04:40,769 fedbiomed INFO - \u001b[1mTRAINING\u001b[0m \n",
       "\t\t\t\t\t NODE_ID: NODE_5fbd3836-38ce-4075-9c03-bdef6bd97579 \n",
       "\t\t\t\t\t Round 4 Epoch: 2 | Iteration: 70/80 (88%) | Samples: 2240/2560\n",
       " \t\t\t\t\t Loss: \u001b[1m0.000000\u001b[0m \n",
       "\t\t\t\t\t ---------"
      ]
     },
     "metadata": {},
     "output_type": "display_data"
    },
    {
     "data": {
      "text/plain": [
       "2025-10-03 03:04:40,777 fedbiomed INFO - \u001b[1mTRAINING\u001b[0m \n",
       "\t\t\t\t\t NODE_ID: NODE_9da4e82d-e30d-44c2-a481-b8a877e97f4d \n",
       "\t\t\t\t\t Round 4 Epoch: 1 | Iteration: 70/80 (88%) | Samples: 2240/2560\n",
       " \t\t\t\t\t Loss: \u001b[1m0.000000\u001b[0m \n",
       "\t\t\t\t\t ---------"
      ]
     },
     "metadata": {},
     "output_type": "display_data"
    },
    {
     "data": {
      "text/plain": [
       "2025-10-03 03:04:40,793 fedbiomed INFO - \u001b[1mTRAINING\u001b[0m \n",
       "\t\t\t\t\t NODE_ID: NODE_5fbd3836-38ce-4075-9c03-bdef6bd97579 \n",
       "\t\t\t\t\t Round 4 Epoch: 2 | Iteration: 80/80 (100%) | Samples: 2541/2541\n",
       " \t\t\t\t\t Loss: \u001b[1m0.000000\u001b[0m \n",
       "\t\t\t\t\t ---------"
      ]
     },
     "metadata": {},
     "output_type": "display_data"
    },
    {
     "data": {
      "text/plain": [
       "2025-10-03 03:04:40,796 fedbiomed INFO - \u001b[1mTRAINING\u001b[0m \n",
       "\t\t\t\t\t NODE_ID: NODE_9da4e82d-e30d-44c2-a481-b8a877e97f4d \n",
       "\t\t\t\t\t Round 4 Epoch: 1 | Iteration: 80/80 (100%) | Samples: 2541/2541\n",
       " \t\t\t\t\t Loss: \u001b[1m0.000000\u001b[0m \n",
       "\t\t\t\t\t ---------"
      ]
     },
     "metadata": {},
     "output_type": "display_data"
    },
    {
     "data": {
      "text/plain": [
       "2025-10-03 03:04:40,799 fedbiomed INFO - \u001b[1mTRAINING\u001b[0m \n",
       "\t\t\t\t\t NODE_ID: NODE_5fbd3836-38ce-4075-9c03-bdef6bd97579 \n",
       "\t\t\t\t\t Round 4 Epoch: 3 | Iteration: 1/80 (1%) | Samples: 32/2560\n",
       " \t\t\t\t\t Loss: \u001b[1m0.000000\u001b[0m \n",
       "\t\t\t\t\t ---------"
      ]
     },
     "metadata": {},
     "output_type": "display_data"
    },
    {
     "data": {
      "text/plain": [
       "2025-10-03 03:04:40,809 fedbiomed INFO - \u001b[1mTRAINING\u001b[0m \n",
       "\t\t\t\t\t NODE_ID: NODE_9da4e82d-e30d-44c2-a481-b8a877e97f4d \n",
       "\t\t\t\t\t Round 4 Epoch: 2 | Iteration: 1/80 (1%) | Samples: 32/2560\n",
       " \t\t\t\t\t Loss: \u001b[1m0.000000\u001b[0m \n",
       "\t\t\t\t\t ---------"
      ]
     },
     "metadata": {},
     "output_type": "display_data"
    },
    {
     "data": {
      "text/plain": [
       "2025-10-03 03:04:40,818 fedbiomed INFO - \u001b[1mTRAINING\u001b[0m \n",
       "\t\t\t\t\t NODE_ID: NODE_5fbd3836-38ce-4075-9c03-bdef6bd97579 \n",
       "\t\t\t\t\t Round 4 Epoch: 3 | Iteration: 10/80 (12%) | Samples: 320/2560\n",
       " \t\t\t\t\t Loss: \u001b[1m0.000000\u001b[0m \n",
       "\t\t\t\t\t ---------"
      ]
     },
     "metadata": {},
     "output_type": "display_data"
    },
    {
     "data": {
      "text/plain": [
       "2025-10-03 03:04:40,826 fedbiomed INFO - \u001b[1mTRAINING\u001b[0m \n",
       "\t\t\t\t\t NODE_ID: NODE_9da4e82d-e30d-44c2-a481-b8a877e97f4d \n",
       "\t\t\t\t\t Round 4 Epoch: 2 | Iteration: 10/80 (12%) | Samples: 320/2560\n",
       " \t\t\t\t\t Loss: \u001b[1m0.000000\u001b[0m \n",
       "\t\t\t\t\t ---------"
      ]
     },
     "metadata": {},
     "output_type": "display_data"
    },
    {
     "data": {
      "text/plain": [
       "2025-10-03 03:04:40,836 fedbiomed INFO - \u001b[1mTRAINING\u001b[0m \n",
       "\t\t\t\t\t NODE_ID: NODE_5fbd3836-38ce-4075-9c03-bdef6bd97579 \n",
       "\t\t\t\t\t Round 4 Epoch: 3 | Iteration: 20/80 (25%) | Samples: 640/2560\n",
       " \t\t\t\t\t Loss: \u001b[1m0.000000\u001b[0m \n",
       "\t\t\t\t\t ---------"
      ]
     },
     "metadata": {},
     "output_type": "display_data"
    },
    {
     "data": {
      "text/plain": [
       "2025-10-03 03:04:40,839 fedbiomed INFO - \u001b[1mTRAINING\u001b[0m \n",
       "\t\t\t\t\t NODE_ID: NODE_9da4e82d-e30d-44c2-a481-b8a877e97f4d \n",
       "\t\t\t\t\t Round 4 Epoch: 2 | Iteration: 20/80 (25%) | Samples: 640/2560\n",
       " \t\t\t\t\t Loss: \u001b[1m0.000000\u001b[0m \n",
       "\t\t\t\t\t ---------"
      ]
     },
     "metadata": {},
     "output_type": "display_data"
    },
    {
     "data": {
      "text/plain": [
       "2025-10-03 03:04:40,855 fedbiomed INFO - \u001b[1mTRAINING\u001b[0m \n",
       "\t\t\t\t\t NODE_ID: NODE_9da4e82d-e30d-44c2-a481-b8a877e97f4d \n",
       "\t\t\t\t\t Round 4 Epoch: 2 | Iteration: 30/80 (38%) | Samples: 960/2560\n",
       " \t\t\t\t\t Loss: \u001b[1m0.000000\u001b[0m \n",
       "\t\t\t\t\t ---------"
      ]
     },
     "metadata": {},
     "output_type": "display_data"
    },
    {
     "data": {
      "text/plain": [
       "2025-10-03 03:04:40,860 fedbiomed INFO - \u001b[1mTRAINING\u001b[0m \n",
       "\t\t\t\t\t NODE_ID: NODE_5fbd3836-38ce-4075-9c03-bdef6bd97579 \n",
       "\t\t\t\t\t Round 4 Epoch: 3 | Iteration: 30/80 (38%) | Samples: 960/2560\n",
       " \t\t\t\t\t Loss: \u001b[1m0.000000\u001b[0m \n",
       "\t\t\t\t\t ---------"
      ]
     },
     "metadata": {},
     "output_type": "display_data"
    },
    {
     "data": {
      "text/plain": [
       "2025-10-03 03:04:40,872 fedbiomed INFO - \u001b[1mTRAINING\u001b[0m \n",
       "\t\t\t\t\t NODE_ID: NODE_9da4e82d-e30d-44c2-a481-b8a877e97f4d \n",
       "\t\t\t\t\t Round 4 Epoch: 2 | Iteration: 40/80 (50%) | Samples: 1280/2560\n",
       " \t\t\t\t\t Loss: \u001b[1m0.000000\u001b[0m \n",
       "\t\t\t\t\t ---------"
      ]
     },
     "metadata": {},
     "output_type": "display_data"
    },
    {
     "data": {
      "text/plain": [
       "2025-10-03 03:04:40,877 fedbiomed INFO - \u001b[1mTRAINING\u001b[0m \n",
       "\t\t\t\t\t NODE_ID: NODE_5fbd3836-38ce-4075-9c03-bdef6bd97579 \n",
       "\t\t\t\t\t Round 4 Epoch: 3 | Iteration: 40/80 (50%) | Samples: 1280/2560\n",
       " \t\t\t\t\t Loss: \u001b[1m0.000000\u001b[0m \n",
       "\t\t\t\t\t ---------"
      ]
     },
     "metadata": {},
     "output_type": "display_data"
    },
    {
     "data": {
      "text/plain": [
       "2025-10-03 03:04:40,883 fedbiomed INFO - \u001b[1mTRAINING\u001b[0m \n",
       "\t\t\t\t\t NODE_ID: NODE_9da4e82d-e30d-44c2-a481-b8a877e97f4d \n",
       "\t\t\t\t\t Round 4 Epoch: 2 | Iteration: 50/80 (62%) | Samples: 1600/2560\n",
       " \t\t\t\t\t Loss: \u001b[1m0.000000\u001b[0m \n",
       "\t\t\t\t\t ---------"
      ]
     },
     "metadata": {},
     "output_type": "display_data"
    },
    {
     "data": {
      "text/plain": [
       "2025-10-03 03:04:40,894 fedbiomed INFO - \u001b[1mTRAINING\u001b[0m \n",
       "\t\t\t\t\t NODE_ID: NODE_9da4e82d-e30d-44c2-a481-b8a877e97f4d \n",
       "\t\t\t\t\t Round 4 Epoch: 2 | Iteration: 60/80 (75%) | Samples: 1920/2560\n",
       " \t\t\t\t\t Loss: \u001b[1m0.000000\u001b[0m \n",
       "\t\t\t\t\t ---------"
      ]
     },
     "metadata": {},
     "output_type": "display_data"
    },
    {
     "data": {
      "text/plain": [
       "2025-10-03 03:04:40,896 fedbiomed INFO - \u001b[1mTRAINING\u001b[0m \n",
       "\t\t\t\t\t NODE_ID: NODE_5fbd3836-38ce-4075-9c03-bdef6bd97579 \n",
       "\t\t\t\t\t Round 4 Epoch: 3 | Iteration: 50/80 (62%) | Samples: 1600/2560\n",
       " \t\t\t\t\t Loss: \u001b[1m0.000000\u001b[0m \n",
       "\t\t\t\t\t ---------"
      ]
     },
     "metadata": {},
     "output_type": "display_data"
    },
    {
     "data": {
      "text/plain": [
       "2025-10-03 03:04:40,907 fedbiomed INFO - \u001b[1mTRAINING\u001b[0m \n",
       "\t\t\t\t\t NODE_ID: NODE_9da4e82d-e30d-44c2-a481-b8a877e97f4d \n",
       "\t\t\t\t\t Round 4 Epoch: 2 | Iteration: 70/80 (88%) | Samples: 2240/2560\n",
       " \t\t\t\t\t Loss: \u001b[1m0.000000\u001b[0m \n",
       "\t\t\t\t\t ---------"
      ]
     },
     "metadata": {},
     "output_type": "display_data"
    },
    {
     "data": {
      "text/plain": [
       "2025-10-03 03:04:40,909 fedbiomed INFO - \u001b[1mTRAINING\u001b[0m \n",
       "\t\t\t\t\t NODE_ID: NODE_5fbd3836-38ce-4075-9c03-bdef6bd97579 \n",
       "\t\t\t\t\t Round 4 Epoch: 3 | Iteration: 60/80 (75%) | Samples: 1920/2560\n",
       " \t\t\t\t\t Loss: \u001b[1m0.000000\u001b[0m \n",
       "\t\t\t\t\t ---------"
      ]
     },
     "metadata": {},
     "output_type": "display_data"
    },
    {
     "data": {
      "text/plain": [
       "2025-10-03 03:04:40,918 fedbiomed INFO - \u001b[1mTRAINING\u001b[0m \n",
       "\t\t\t\t\t NODE_ID: NODE_9da4e82d-e30d-44c2-a481-b8a877e97f4d \n",
       "\t\t\t\t\t Round 4 Epoch: 2 | Iteration: 80/80 (100%) | Samples: 2541/2541\n",
       " \t\t\t\t\t Loss: \u001b[1m0.000000\u001b[0m \n",
       "\t\t\t\t\t ---------"
      ]
     },
     "metadata": {},
     "output_type": "display_data"
    },
    {
     "data": {
      "text/plain": [
       "2025-10-03 03:04:40,921 fedbiomed INFO - \u001b[1mTRAINING\u001b[0m \n",
       "\t\t\t\t\t NODE_ID: NODE_9da4e82d-e30d-44c2-a481-b8a877e97f4d \n",
       "\t\t\t\t\t Round 4 Epoch: 3 | Iteration: 1/80 (1%) | Samples: 32/2560\n",
       " \t\t\t\t\t Loss: \u001b[1m0.000000\u001b[0m \n",
       "\t\t\t\t\t ---------"
      ]
     },
     "metadata": {},
     "output_type": "display_data"
    },
    {
     "data": {
      "text/plain": [
       "2025-10-03 03:04:40,931 fedbiomed INFO - \u001b[1mTRAINING\u001b[0m \n",
       "\t\t\t\t\t NODE_ID: NODE_9da4e82d-e30d-44c2-a481-b8a877e97f4d \n",
       "\t\t\t\t\t Round 4 Epoch: 3 | Iteration: 10/80 (12%) | Samples: 320/2560\n",
       " \t\t\t\t\t Loss: \u001b[1m0.000000\u001b[0m \n",
       "\t\t\t\t\t ---------"
      ]
     },
     "metadata": {},
     "output_type": "display_data"
    },
    {
     "data": {
      "text/plain": [
       "2025-10-03 03:04:40,938 fedbiomed INFO - \u001b[1mTRAINING\u001b[0m \n",
       "\t\t\t\t\t NODE_ID: NODE_5fbd3836-38ce-4075-9c03-bdef6bd97579 \n",
       "\t\t\t\t\t Round 4 Epoch: 3 | Iteration: 70/80 (88%) | Samples: 2240/2560\n",
       " \t\t\t\t\t Loss: \u001b[1m0.000000\u001b[0m \n",
       "\t\t\t\t\t ---------"
      ]
     },
     "metadata": {},
     "output_type": "display_data"
    },
    {
     "data": {
      "text/plain": [
       "2025-10-03 03:04:40,944 fedbiomed INFO - \u001b[1mTRAINING\u001b[0m \n",
       "\t\t\t\t\t NODE_ID: NODE_9da4e82d-e30d-44c2-a481-b8a877e97f4d \n",
       "\t\t\t\t\t Round 4 Epoch: 3 | Iteration: 20/80 (25%) | Samples: 640/2560\n",
       " \t\t\t\t\t Loss: \u001b[1m0.000000\u001b[0m \n",
       "\t\t\t\t\t ---------"
      ]
     },
     "metadata": {},
     "output_type": "display_data"
    },
    {
     "data": {
      "text/plain": [
       "2025-10-03 03:04:40,959 fedbiomed INFO - \u001b[1mTRAINING\u001b[0m \n",
       "\t\t\t\t\t NODE_ID: NODE_9da4e82d-e30d-44c2-a481-b8a877e97f4d \n",
       "\t\t\t\t\t Round 4 Epoch: 3 | Iteration: 30/80 (38%) | Samples: 960/2560\n",
       " \t\t\t\t\t Loss: \u001b[1m0.000000\u001b[0m \n",
       "\t\t\t\t\t ---------"
      ]
     },
     "metadata": {},
     "output_type": "display_data"
    },
    {
     "data": {
      "text/plain": [
       "2025-10-03 03:04:40,968 fedbiomed INFO - \u001b[1mTRAINING\u001b[0m \n",
       "\t\t\t\t\t NODE_ID: NODE_5fbd3836-38ce-4075-9c03-bdef6bd97579 \n",
       "\t\t\t\t\t Round 4 Epoch: 3 | Iteration: 80/80 (100%) | Samples: 2541/2541\n",
       " \t\t\t\t\t Loss: \u001b[1m0.000000\u001b[0m \n",
       "\t\t\t\t\t ---------"
      ]
     },
     "metadata": {},
     "output_type": "display_data"
    },
    {
     "data": {
      "text/plain": [
       "2025-10-03 03:04:40,969 fedbiomed INFO - \u001b[1mTRAINING\u001b[0m \n",
       "\t\t\t\t\t NODE_ID: NODE_9da4e82d-e30d-44c2-a481-b8a877e97f4d \n",
       "\t\t\t\t\t Round 4 Epoch: 3 | Iteration: 40/80 (50%) | Samples: 1280/2560\n",
       " \t\t\t\t\t Loss: \u001b[1m0.000000\u001b[0m \n",
       "\t\t\t\t\t ---------"
      ]
     },
     "metadata": {},
     "output_type": "display_data"
    },
    {
     "data": {
      "text/plain": [
       "2025-10-03 03:04:40,975 fedbiomed INFO - \u001b[1mTRAINING\u001b[0m \n",
       "\t\t\t\t\t NODE_ID: NODE_5fbd3836-38ce-4075-9c03-bdef6bd97579 \n",
       "\t\t\t\t\t Round 4 Epoch: 4 | Iteration: 1/80 (1%) | Samples: 32/2560\n",
       " \t\t\t\t\t Loss: \u001b[1m0.000000\u001b[0m \n",
       "\t\t\t\t\t ---------"
      ]
     },
     "metadata": {},
     "output_type": "display_data"
    },
    {
     "data": {
      "text/plain": [
       "2025-10-03 03:04:40,986 fedbiomed INFO - \u001b[1mTRAINING\u001b[0m \n",
       "\t\t\t\t\t NODE_ID: NODE_9da4e82d-e30d-44c2-a481-b8a877e97f4d \n",
       "\t\t\t\t\t Round 4 Epoch: 3 | Iteration: 50/80 (62%) | Samples: 1600/2560\n",
       " \t\t\t\t\t Loss: \u001b[1m0.000000\u001b[0m \n",
       "\t\t\t\t\t ---------"
      ]
     },
     "metadata": {},
     "output_type": "display_data"
    },
    {
     "data": {
      "text/plain": [
       "2025-10-03 03:04:40,993 fedbiomed INFO - \u001b[1mTRAINING\u001b[0m \n",
       "\t\t\t\t\t NODE_ID: NODE_5fbd3836-38ce-4075-9c03-bdef6bd97579 \n",
       "\t\t\t\t\t Round 4 Epoch: 4 | Iteration: 10/80 (12%) | Samples: 320/2560\n",
       " \t\t\t\t\t Loss: \u001b[1m0.000000\u001b[0m \n",
       "\t\t\t\t\t ---------"
      ]
     },
     "metadata": {},
     "output_type": "display_data"
    },
    {
     "data": {
      "text/plain": [
       "2025-10-03 03:04:41,000 fedbiomed INFO - \u001b[1mTRAINING\u001b[0m \n",
       "\t\t\t\t\t NODE_ID: NODE_9da4e82d-e30d-44c2-a481-b8a877e97f4d \n",
       "\t\t\t\t\t Round 4 Epoch: 3 | Iteration: 60/80 (75%) | Samples: 1920/2560\n",
       " \t\t\t\t\t Loss: \u001b[1m0.000000\u001b[0m \n",
       "\t\t\t\t\t ---------"
      ]
     },
     "metadata": {},
     "output_type": "display_data"
    },
    {
     "data": {
      "text/plain": [
       "2025-10-03 03:04:41,012 fedbiomed INFO - \u001b[1mTRAINING\u001b[0m \n",
       "\t\t\t\t\t NODE_ID: NODE_5fbd3836-38ce-4075-9c03-bdef6bd97579 \n",
       "\t\t\t\t\t Round 4 Epoch: 4 | Iteration: 20/80 (25%) | Samples: 640/2560\n",
       " \t\t\t\t\t Loss: \u001b[1m0.000000\u001b[0m \n",
       "\t\t\t\t\t ---------"
      ]
     },
     "metadata": {},
     "output_type": "display_data"
    },
    {
     "data": {
      "text/plain": [
       "2025-10-03 03:04:41,015 fedbiomed INFO - \u001b[1mTRAINING\u001b[0m \n",
       "\t\t\t\t\t NODE_ID: NODE_9da4e82d-e30d-44c2-a481-b8a877e97f4d \n",
       "\t\t\t\t\t Round 4 Epoch: 3 | Iteration: 70/80 (88%) | Samples: 2240/2560\n",
       " \t\t\t\t\t Loss: \u001b[1m0.000000\u001b[0m \n",
       "\t\t\t\t\t ---------"
      ]
     },
     "metadata": {},
     "output_type": "display_data"
    },
    {
     "data": {
      "text/plain": [
       "2025-10-03 03:04:41,026 fedbiomed INFO - \u001b[1mTRAINING\u001b[0m \n",
       "\t\t\t\t\t NODE_ID: NODE_5fbd3836-38ce-4075-9c03-bdef6bd97579 \n",
       "\t\t\t\t\t Round 4 Epoch: 4 | Iteration: 30/80 (38%) | Samples: 960/2560\n",
       " \t\t\t\t\t Loss: \u001b[1m0.000000\u001b[0m \n",
       "\t\t\t\t\t ---------"
      ]
     },
     "metadata": {},
     "output_type": "display_data"
    },
    {
     "data": {
      "text/plain": [
       "2025-10-03 03:04:41,031 fedbiomed INFO - \u001b[1mTRAINING\u001b[0m \n",
       "\t\t\t\t\t NODE_ID: NODE_9da4e82d-e30d-44c2-a481-b8a877e97f4d \n",
       "\t\t\t\t\t Round 4 Epoch: 3 | Iteration: 80/80 (100%) | Samples: 2541/2541\n",
       " \t\t\t\t\t Loss: \u001b[1m0.000000\u001b[0m \n",
       "\t\t\t\t\t ---------"
      ]
     },
     "metadata": {},
     "output_type": "display_data"
    },
    {
     "data": {
      "text/plain": [
       "2025-10-03 03:04:41,037 fedbiomed INFO - \u001b[1mTRAINING\u001b[0m \n",
       "\t\t\t\t\t NODE_ID: NODE_9da4e82d-e30d-44c2-a481-b8a877e97f4d \n",
       "\t\t\t\t\t Round 4 Epoch: 4 | Iteration: 1/80 (1%) | Samples: 32/2560\n",
       " \t\t\t\t\t Loss: \u001b[1m0.000000\u001b[0m \n",
       "\t\t\t\t\t ---------"
      ]
     },
     "metadata": {},
     "output_type": "display_data"
    },
    {
     "data": {
      "text/plain": [
       "2025-10-03 03:04:41,047 fedbiomed INFO - \u001b[1mTRAINING\u001b[0m \n",
       "\t\t\t\t\t NODE_ID: NODE_5fbd3836-38ce-4075-9c03-bdef6bd97579 \n",
       "\t\t\t\t\t Round 4 Epoch: 4 | Iteration: 40/80 (50%) | Samples: 1280/2560\n",
       " \t\t\t\t\t Loss: \u001b[1m0.000000\u001b[0m \n",
       "\t\t\t\t\t ---------"
      ]
     },
     "metadata": {},
     "output_type": "display_data"
    },
    {
     "data": {
      "text/plain": [
       "2025-10-03 03:04:41,048 fedbiomed INFO - \u001b[1mTRAINING\u001b[0m \n",
       "\t\t\t\t\t NODE_ID: NODE_9da4e82d-e30d-44c2-a481-b8a877e97f4d \n",
       "\t\t\t\t\t Round 4 Epoch: 4 | Iteration: 10/80 (12%) | Samples: 320/2560\n",
       " \t\t\t\t\t Loss: \u001b[1m0.000000\u001b[0m \n",
       "\t\t\t\t\t ---------"
      ]
     },
     "metadata": {},
     "output_type": "display_data"
    },
    {
     "data": {
      "text/plain": [
       "2025-10-03 03:04:41,063 fedbiomed INFO - \u001b[1mTRAINING\u001b[0m \n",
       "\t\t\t\t\t NODE_ID: NODE_5fbd3836-38ce-4075-9c03-bdef6bd97579 \n",
       "\t\t\t\t\t Round 4 Epoch: 4 | Iteration: 50/80 (62%) | Samples: 1600/2560\n",
       " \t\t\t\t\t Loss: \u001b[1m0.000000\u001b[0m \n",
       "\t\t\t\t\t ---------"
      ]
     },
     "metadata": {},
     "output_type": "display_data"
    },
    {
     "data": {
      "text/plain": [
       "2025-10-03 03:04:41,065 fedbiomed INFO - \u001b[1mTRAINING\u001b[0m \n",
       "\t\t\t\t\t NODE_ID: NODE_9da4e82d-e30d-44c2-a481-b8a877e97f4d \n",
       "\t\t\t\t\t Round 4 Epoch: 4 | Iteration: 20/80 (25%) | Samples: 640/2560\n",
       " \t\t\t\t\t Loss: \u001b[1m0.000000\u001b[0m \n",
       "\t\t\t\t\t ---------"
      ]
     },
     "metadata": {},
     "output_type": "display_data"
    },
    {
     "data": {
      "text/plain": [
       "2025-10-03 03:04:41,076 fedbiomed INFO - \u001b[1mTRAINING\u001b[0m \n",
       "\t\t\t\t\t NODE_ID: NODE_5fbd3836-38ce-4075-9c03-bdef6bd97579 \n",
       "\t\t\t\t\t Round 4 Epoch: 4 | Iteration: 60/80 (75%) | Samples: 1920/2560\n",
       " \t\t\t\t\t Loss: \u001b[1m0.000000\u001b[0m \n",
       "\t\t\t\t\t ---------"
      ]
     },
     "metadata": {},
     "output_type": "display_data"
    },
    {
     "data": {
      "text/plain": [
       "2025-10-03 03:04:41,078 fedbiomed INFO - \u001b[1mTRAINING\u001b[0m \n",
       "\t\t\t\t\t NODE_ID: NODE_9da4e82d-e30d-44c2-a481-b8a877e97f4d \n",
       "\t\t\t\t\t Round 4 Epoch: 4 | Iteration: 30/80 (38%) | Samples: 960/2560\n",
       " \t\t\t\t\t Loss: \u001b[1m0.000000\u001b[0m \n",
       "\t\t\t\t\t ---------"
      ]
     },
     "metadata": {},
     "output_type": "display_data"
    },
    {
     "data": {
      "text/plain": [
       "2025-10-03 03:04:41,089 fedbiomed INFO - \u001b[1mTRAINING\u001b[0m \n",
       "\t\t\t\t\t NODE_ID: NODE_5fbd3836-38ce-4075-9c03-bdef6bd97579 \n",
       "\t\t\t\t\t Round 4 Epoch: 4 | Iteration: 70/80 (88%) | Samples: 2240/2560\n",
       " \t\t\t\t\t Loss: \u001b[1m0.000000\u001b[0m \n",
       "\t\t\t\t\t ---------"
      ]
     },
     "metadata": {},
     "output_type": "display_data"
    },
    {
     "data": {
      "text/plain": [
       "2025-10-03 03:04:41,093 fedbiomed INFO - \u001b[1mTRAINING\u001b[0m \n",
       "\t\t\t\t\t NODE_ID: NODE_9da4e82d-e30d-44c2-a481-b8a877e97f4d \n",
       "\t\t\t\t\t Round 4 Epoch: 4 | Iteration: 40/80 (50%) | Samples: 1280/2560\n",
       " \t\t\t\t\t Loss: \u001b[1m0.000000\u001b[0m \n",
       "\t\t\t\t\t ---------"
      ]
     },
     "metadata": {},
     "output_type": "display_data"
    },
    {
     "data": {
      "text/plain": [
       "2025-10-03 03:04:41,105 fedbiomed INFO - \u001b[1mTRAINING\u001b[0m \n",
       "\t\t\t\t\t NODE_ID: NODE_5fbd3836-38ce-4075-9c03-bdef6bd97579 \n",
       "\t\t\t\t\t Round 4 Epoch: 4 | Iteration: 80/80 (100%) | Samples: 2541/2541\n",
       " \t\t\t\t\t Loss: \u001b[1m0.000000\u001b[0m \n",
       "\t\t\t\t\t ---------"
      ]
     },
     "metadata": {},
     "output_type": "display_data"
    },
    {
     "data": {
      "text/plain": [
       "2025-10-03 03:04:41,110 fedbiomed INFO - \u001b[1mTRAINING\u001b[0m \n",
       "\t\t\t\t\t NODE_ID: NODE_9da4e82d-e30d-44c2-a481-b8a877e97f4d \n",
       "\t\t\t\t\t Round 4 Epoch: 4 | Iteration: 50/80 (62%) | Samples: 1600/2560\n",
       " \t\t\t\t\t Loss: \u001b[1m0.000000\u001b[0m \n",
       "\t\t\t\t\t ---------"
      ]
     },
     "metadata": {},
     "output_type": "display_data"
    },
    {
     "data": {
      "text/plain": [
       "2025-10-03 03:04:41,111 fedbiomed INFO - \u001b[1mTRAINING\u001b[0m \n",
       "\t\t\t\t\t NODE_ID: NODE_5fbd3836-38ce-4075-9c03-bdef6bd97579 \n",
       "\t\t\t\t\t Round 4 Epoch: 5 | Iteration: 1/80 (1%) | Samples: 32/2560\n",
       " \t\t\t\t\t Loss: \u001b[1m0.000000\u001b[0m \n",
       "\t\t\t\t\t ---------"
      ]
     },
     "metadata": {},
     "output_type": "display_data"
    },
    {
     "data": {
      "text/plain": [
       "2025-10-03 03:04:41,128 fedbiomed INFO - \u001b[1mTRAINING\u001b[0m \n",
       "\t\t\t\t\t NODE_ID: NODE_9da4e82d-e30d-44c2-a481-b8a877e97f4d \n",
       "\t\t\t\t\t Round 4 Epoch: 4 | Iteration: 60/80 (75%) | Samples: 1920/2560\n",
       " \t\t\t\t\t Loss: \u001b[1m0.000000\u001b[0m \n",
       "\t\t\t\t\t ---------"
      ]
     },
     "metadata": {},
     "output_type": "display_data"
    },
    {
     "data": {
      "text/plain": [
       "2025-10-03 03:04:41,129 fedbiomed INFO - \u001b[1mTRAINING\u001b[0m \n",
       "\t\t\t\t\t NODE_ID: NODE_5fbd3836-38ce-4075-9c03-bdef6bd97579 \n",
       "\t\t\t\t\t Round 4 Epoch: 5 | Iteration: 10/80 (12%) | Samples: 320/2560\n",
       " \t\t\t\t\t Loss: \u001b[1m0.000000\u001b[0m \n",
       "\t\t\t\t\t ---------"
      ]
     },
     "metadata": {},
     "output_type": "display_data"
    },
    {
     "data": {
      "text/plain": [
       "2025-10-03 03:04:41,141 fedbiomed INFO - \u001b[1mTRAINING\u001b[0m \n",
       "\t\t\t\t\t NODE_ID: NODE_9da4e82d-e30d-44c2-a481-b8a877e97f4d \n",
       "\t\t\t\t\t Round 4 Epoch: 4 | Iteration: 70/80 (88%) | Samples: 2240/2560\n",
       " \t\t\t\t\t Loss: \u001b[1m0.000000\u001b[0m \n",
       "\t\t\t\t\t ---------"
      ]
     },
     "metadata": {},
     "output_type": "display_data"
    },
    {
     "data": {
      "text/plain": [
       "2025-10-03 03:04:41,153 fedbiomed INFO - \u001b[1mTRAINING\u001b[0m \n",
       "\t\t\t\t\t NODE_ID: NODE_9da4e82d-e30d-44c2-a481-b8a877e97f4d \n",
       "\t\t\t\t\t Round 4 Epoch: 4 | Iteration: 80/80 (100%) | Samples: 2541/2541\n",
       " \t\t\t\t\t Loss: \u001b[1m0.000000\u001b[0m \n",
       "\t\t\t\t\t ---------"
      ]
     },
     "metadata": {},
     "output_type": "display_data"
    },
    {
     "data": {
      "text/plain": [
       "2025-10-03 03:04:41,156 fedbiomed INFO - \u001b[1mTRAINING\u001b[0m \n",
       "\t\t\t\t\t NODE_ID: NODE_5fbd3836-38ce-4075-9c03-bdef6bd97579 \n",
       "\t\t\t\t\t Round 4 Epoch: 5 | Iteration: 20/80 (25%) | Samples: 640/2560\n",
       " \t\t\t\t\t Loss: \u001b[1m0.000000\u001b[0m \n",
       "\t\t\t\t\t ---------"
      ]
     },
     "metadata": {},
     "output_type": "display_data"
    },
    {
     "data": {
      "text/plain": [
       "2025-10-03 03:04:41,160 fedbiomed INFO - \u001b[1mTRAINING\u001b[0m \n",
       "\t\t\t\t\t NODE_ID: NODE_9da4e82d-e30d-44c2-a481-b8a877e97f4d \n",
       "\t\t\t\t\t Round 4 Epoch: 5 | Iteration: 1/80 (1%) | Samples: 32/2560\n",
       " \t\t\t\t\t Loss: \u001b[1m0.000000\u001b[0m \n",
       "\t\t\t\t\t ---------"
      ]
     },
     "metadata": {},
     "output_type": "display_data"
    },
    {
     "data": {
      "text/plain": [
       "2025-10-03 03:04:41,172 fedbiomed INFO - \u001b[1mTRAINING\u001b[0m \n",
       "\t\t\t\t\t NODE_ID: NODE_5fbd3836-38ce-4075-9c03-bdef6bd97579 \n",
       "\t\t\t\t\t Round 4 Epoch: 5 | Iteration: 30/80 (38%) | Samples: 960/2560\n",
       " \t\t\t\t\t Loss: \u001b[1m0.000000\u001b[0m \n",
       "\t\t\t\t\t ---------"
      ]
     },
     "metadata": {},
     "output_type": "display_data"
    },
    {
     "data": {
      "text/plain": [
       "2025-10-03 03:04:41,176 fedbiomed INFO - \u001b[1mTRAINING\u001b[0m \n",
       "\t\t\t\t\t NODE_ID: NODE_9da4e82d-e30d-44c2-a481-b8a877e97f4d \n",
       "\t\t\t\t\t Round 4 Epoch: 5 | Iteration: 10/80 (12%) | Samples: 320/2560\n",
       " \t\t\t\t\t Loss: \u001b[1m0.000000\u001b[0m \n",
       "\t\t\t\t\t ---------"
      ]
     },
     "metadata": {},
     "output_type": "display_data"
    },
    {
     "data": {
      "text/plain": [
       "2025-10-03 03:04:41,186 fedbiomed INFO - \u001b[1mTRAINING\u001b[0m \n",
       "\t\t\t\t\t NODE_ID: NODE_5fbd3836-38ce-4075-9c03-bdef6bd97579 \n",
       "\t\t\t\t\t Round 4 Epoch: 5 | Iteration: 40/80 (50%) | Samples: 1280/2560\n",
       " \t\t\t\t\t Loss: \u001b[1m0.000000\u001b[0m \n",
       "\t\t\t\t\t ---------"
      ]
     },
     "metadata": {},
     "output_type": "display_data"
    },
    {
     "data": {
      "text/plain": [
       "2025-10-03 03:04:41,200 fedbiomed INFO - \u001b[1mTRAINING\u001b[0m \n",
       "\t\t\t\t\t NODE_ID: NODE_5fbd3836-38ce-4075-9c03-bdef6bd97579 \n",
       "\t\t\t\t\t Round 4 Epoch: 5 | Iteration: 50/80 (62%) | Samples: 1600/2560\n",
       " \t\t\t\t\t Loss: \u001b[1m0.000000\u001b[0m \n",
       "\t\t\t\t\t ---------"
      ]
     },
     "metadata": {},
     "output_type": "display_data"
    },
    {
     "data": {
      "text/plain": [
       "2025-10-03 03:04:41,201 fedbiomed INFO - \u001b[1mTRAINING\u001b[0m \n",
       "\t\t\t\t\t NODE_ID: NODE_9da4e82d-e30d-44c2-a481-b8a877e97f4d \n",
       "\t\t\t\t\t Round 4 Epoch: 5 | Iteration: 20/80 (25%) | Samples: 640/2560\n",
       " \t\t\t\t\t Loss: \u001b[1m0.000000\u001b[0m \n",
       "\t\t\t\t\t ---------"
      ]
     },
     "metadata": {},
     "output_type": "display_data"
    },
    {
     "data": {
      "text/plain": [
       "2025-10-03 03:04:41,211 fedbiomed INFO - \u001b[1mTRAINING\u001b[0m \n",
       "\t\t\t\t\t NODE_ID: NODE_9da4e82d-e30d-44c2-a481-b8a877e97f4d \n",
       "\t\t\t\t\t Round 4 Epoch: 5 | Iteration: 30/80 (38%) | Samples: 960/2560\n",
       " \t\t\t\t\t Loss: \u001b[1m0.000000\u001b[0m \n",
       "\t\t\t\t\t ---------"
      ]
     },
     "metadata": {},
     "output_type": "display_data"
    },
    {
     "data": {
      "text/plain": [
       "2025-10-03 03:04:41,218 fedbiomed INFO - \u001b[1mTRAINING\u001b[0m \n",
       "\t\t\t\t\t NODE_ID: NODE_5fbd3836-38ce-4075-9c03-bdef6bd97579 \n",
       "\t\t\t\t\t Round 4 Epoch: 5 | Iteration: 60/80 (75%) | Samples: 1920/2560\n",
       " \t\t\t\t\t Loss: \u001b[1m0.000000\u001b[0m \n",
       "\t\t\t\t\t ---------"
      ]
     },
     "metadata": {},
     "output_type": "display_data"
    },
    {
     "data": {
      "text/plain": [
       "2025-10-03 03:04:41,223 fedbiomed INFO - \u001b[1mTRAINING\u001b[0m \n",
       "\t\t\t\t\t NODE_ID: NODE_9da4e82d-e30d-44c2-a481-b8a877e97f4d \n",
       "\t\t\t\t\t Round 4 Epoch: 5 | Iteration: 40/80 (50%) | Samples: 1280/2560\n",
       " \t\t\t\t\t Loss: \u001b[1m0.000000\u001b[0m \n",
       "\t\t\t\t\t ---------"
      ]
     },
     "metadata": {},
     "output_type": "display_data"
    },
    {
     "data": {
      "text/plain": [
       "2025-10-03 03:04:41,235 fedbiomed INFO - \u001b[1mTRAINING\u001b[0m \n",
       "\t\t\t\t\t NODE_ID: NODE_9da4e82d-e30d-44c2-a481-b8a877e97f4d \n",
       "\t\t\t\t\t Round 4 Epoch: 5 | Iteration: 50/80 (62%) | Samples: 1600/2560\n",
       " \t\t\t\t\t Loss: \u001b[1m0.000000\u001b[0m \n",
       "\t\t\t\t\t ---------"
      ]
     },
     "metadata": {},
     "output_type": "display_data"
    },
    {
     "data": {
      "text/plain": [
       "2025-10-03 03:04:41,238 fedbiomed INFO - \u001b[1mTRAINING\u001b[0m \n",
       "\t\t\t\t\t NODE_ID: NODE_5fbd3836-38ce-4075-9c03-bdef6bd97579 \n",
       "\t\t\t\t\t Round 4 Epoch: 5 | Iteration: 70/80 (88%) | Samples: 2240/2560\n",
       " \t\t\t\t\t Loss: \u001b[1m0.000000\u001b[0m \n",
       "\t\t\t\t\t ---------"
      ]
     },
     "metadata": {},
     "output_type": "display_data"
    },
    {
     "data": {
      "text/plain": [
       "2025-10-03 03:04:41,250 fedbiomed INFO - \u001b[1mTRAINING\u001b[0m \n",
       "\t\t\t\t\t NODE_ID: NODE_9da4e82d-e30d-44c2-a481-b8a877e97f4d \n",
       "\t\t\t\t\t Round 4 Epoch: 5 | Iteration: 60/80 (75%) | Samples: 1920/2560\n",
       " \t\t\t\t\t Loss: \u001b[1m0.000000\u001b[0m \n",
       "\t\t\t\t\t ---------"
      ]
     },
     "metadata": {},
     "output_type": "display_data"
    },
    {
     "data": {
      "text/plain": [
       "2025-10-03 03:04:41,261 fedbiomed INFO - \u001b[1mTRAINING\u001b[0m \n",
       "\t\t\t\t\t NODE_ID: NODE_9da4e82d-e30d-44c2-a481-b8a877e97f4d \n",
       "\t\t\t\t\t Round 4 Epoch: 5 | Iteration: 70/80 (88%) | Samples: 2240/2560\n",
       " \t\t\t\t\t Loss: \u001b[1m0.000000\u001b[0m \n",
       "\t\t\t\t\t ---------"
      ]
     },
     "metadata": {},
     "output_type": "display_data"
    },
    {
     "data": {
      "text/plain": [
       "2025-10-03 03:04:41,263 fedbiomed INFO - \u001b[1mTRAINING\u001b[0m \n",
       "\t\t\t\t\t NODE_ID: NODE_5fbd3836-38ce-4075-9c03-bdef6bd97579 \n",
       "\t\t\t\t\t Round 4 Epoch: 5 | Iteration: 80/80 (100%) | Samples: 2541/2541\n",
       " \t\t\t\t\t Loss: \u001b[1m0.000000\u001b[0m \n",
       "\t\t\t\t\t ---------"
      ]
     },
     "metadata": {},
     "output_type": "display_data"
    },
    {
     "data": {
      "text/plain": [
       "2025-10-03 03:04:41,267 fedbiomed INFO - \u001b[1mTRAINING\u001b[0m \n",
       "\t\t\t\t\t NODE_ID: NODE_5fbd3836-38ce-4075-9c03-bdef6bd97579 \n",
       "\t\t\t\t\t Round 4 Epoch: 6 | Iteration: 1/80 (1%) | Samples: 32/2560\n",
       " \t\t\t\t\t Loss: \u001b[1m0.000000\u001b[0m \n",
       "\t\t\t\t\t ---------"
      ]
     },
     "metadata": {},
     "output_type": "display_data"
    },
    {
     "data": {
      "text/plain": [
       "2025-10-03 03:04:41,279 fedbiomed INFO - \u001b[1mTRAINING\u001b[0m \n",
       "\t\t\t\t\t NODE_ID: NODE_9da4e82d-e30d-44c2-a481-b8a877e97f4d \n",
       "\t\t\t\t\t Round 4 Epoch: 5 | Iteration: 80/80 (100%) | Samples: 2541/2541\n",
       " \t\t\t\t\t Loss: \u001b[1m0.000000\u001b[0m \n",
       "\t\t\t\t\t ---------"
      ]
     },
     "metadata": {},
     "output_type": "display_data"
    },
    {
     "data": {
      "text/plain": [
       "2025-10-03 03:04:41,283 fedbiomed INFO - \u001b[1mTRAINING\u001b[0m \n",
       "\t\t\t\t\t NODE_ID: NODE_9da4e82d-e30d-44c2-a481-b8a877e97f4d \n",
       "\t\t\t\t\t Round 4 Epoch: 6 | Iteration: 1/80 (1%) | Samples: 32/2560\n",
       " \t\t\t\t\t Loss: \u001b[1m0.000000\u001b[0m \n",
       "\t\t\t\t\t ---------"
      ]
     },
     "metadata": {},
     "output_type": "display_data"
    },
    {
     "data": {
      "text/plain": [
       "2025-10-03 03:04:41,286 fedbiomed INFO - \u001b[1mTRAINING\u001b[0m \n",
       "\t\t\t\t\t NODE_ID: NODE_5fbd3836-38ce-4075-9c03-bdef6bd97579 \n",
       "\t\t\t\t\t Round 4 Epoch: 6 | Iteration: 10/80 (12%) | Samples: 320/2560\n",
       " \t\t\t\t\t Loss: \u001b[1m0.000000\u001b[0m \n",
       "\t\t\t\t\t ---------"
      ]
     },
     "metadata": {},
     "output_type": "display_data"
    },
    {
     "data": {
      "text/plain": [
       "2025-10-03 03:04:41,303 fedbiomed INFO - \u001b[1mTRAINING\u001b[0m \n",
       "\t\t\t\t\t NODE_ID: NODE_5fbd3836-38ce-4075-9c03-bdef6bd97579 \n",
       "\t\t\t\t\t Round 4 Epoch: 6 | Iteration: 20/80 (25%) | Samples: 640/2560\n",
       " \t\t\t\t\t Loss: \u001b[1m0.000000\u001b[0m \n",
       "\t\t\t\t\t ---------"
      ]
     },
     "metadata": {},
     "output_type": "display_data"
    },
    {
     "data": {
      "text/plain": [
       "2025-10-03 03:04:41,305 fedbiomed INFO - \u001b[1mTRAINING\u001b[0m \n",
       "\t\t\t\t\t NODE_ID: NODE_9da4e82d-e30d-44c2-a481-b8a877e97f4d \n",
       "\t\t\t\t\t Round 4 Epoch: 6 | Iteration: 10/80 (12%) | Samples: 320/2560\n",
       " \t\t\t\t\t Loss: \u001b[1m0.000000\u001b[0m \n",
       "\t\t\t\t\t ---------"
      ]
     },
     "metadata": {},
     "output_type": "display_data"
    },
    {
     "data": {
      "text/plain": [
       "2025-10-03 03:04:41,314 fedbiomed INFO - \u001b[1mTRAINING\u001b[0m \n",
       "\t\t\t\t\t NODE_ID: NODE_5fbd3836-38ce-4075-9c03-bdef6bd97579 \n",
       "\t\t\t\t\t Round 4 Epoch: 6 | Iteration: 30/80 (38%) | Samples: 960/2560\n",
       " \t\t\t\t\t Loss: \u001b[1m0.000000\u001b[0m \n",
       "\t\t\t\t\t ---------"
      ]
     },
     "metadata": {},
     "output_type": "display_data"
    },
    {
     "data": {
      "text/plain": [
       "2025-10-03 03:04:41,324 fedbiomed INFO - \u001b[1mTRAINING\u001b[0m \n",
       "\t\t\t\t\t NODE_ID: NODE_9da4e82d-e30d-44c2-a481-b8a877e97f4d \n",
       "\t\t\t\t\t Round 4 Epoch: 6 | Iteration: 20/80 (25%) | Samples: 640/2560\n",
       " \t\t\t\t\t Loss: \u001b[1m0.000000\u001b[0m \n",
       "\t\t\t\t\t ---------"
      ]
     },
     "metadata": {},
     "output_type": "display_data"
    },
    {
     "data": {
      "text/plain": [
       "2025-10-03 03:04:41,331 fedbiomed INFO - \u001b[1mTRAINING\u001b[0m \n",
       "\t\t\t\t\t NODE_ID: NODE_5fbd3836-38ce-4075-9c03-bdef6bd97579 \n",
       "\t\t\t\t\t Round 4 Epoch: 6 | Iteration: 40/80 (50%) | Samples: 1280/2560\n",
       " \t\t\t\t\t Loss: \u001b[1m0.000000\u001b[0m \n",
       "\t\t\t\t\t ---------"
      ]
     },
     "metadata": {},
     "output_type": "display_data"
    },
    {
     "data": {
      "text/plain": [
       "2025-10-03 03:04:41,343 fedbiomed INFO - \u001b[1mTRAINING\u001b[0m \n",
       "\t\t\t\t\t NODE_ID: NODE_9da4e82d-e30d-44c2-a481-b8a877e97f4d \n",
       "\t\t\t\t\t Round 4 Epoch: 6 | Iteration: 30/80 (38%) | Samples: 960/2560\n",
       " \t\t\t\t\t Loss: \u001b[1m0.000000\u001b[0m \n",
       "\t\t\t\t\t ---------"
      ]
     },
     "metadata": {},
     "output_type": "display_data"
    },
    {
     "data": {
      "text/plain": [
       "2025-10-03 03:04:41,348 fedbiomed INFO - \u001b[1mTRAINING\u001b[0m \n",
       "\t\t\t\t\t NODE_ID: NODE_5fbd3836-38ce-4075-9c03-bdef6bd97579 \n",
       "\t\t\t\t\t Round 4 Epoch: 6 | Iteration: 50/80 (62%) | Samples: 1600/2560\n",
       " \t\t\t\t\t Loss: \u001b[1m0.000000\u001b[0m \n",
       "\t\t\t\t\t ---------"
      ]
     },
     "metadata": {},
     "output_type": "display_data"
    },
    {
     "data": {
      "text/plain": [
       "2025-10-03 03:04:41,376 fedbiomed INFO - \u001b[1mTRAINING\u001b[0m \n",
       "\t\t\t\t\t NODE_ID: NODE_9da4e82d-e30d-44c2-a481-b8a877e97f4d \n",
       "\t\t\t\t\t Round 4 Epoch: 6 | Iteration: 40/80 (50%) | Samples: 1280/2560\n",
       " \t\t\t\t\t Loss: \u001b[1m0.000000\u001b[0m \n",
       "\t\t\t\t\t ---------"
      ]
     },
     "metadata": {},
     "output_type": "display_data"
    },
    {
     "data": {
      "text/plain": [
       "2025-10-03 03:04:41,378 fedbiomed INFO - \u001b[1mTRAINING\u001b[0m \n",
       "\t\t\t\t\t NODE_ID: NODE_5fbd3836-38ce-4075-9c03-bdef6bd97579 \n",
       "\t\t\t\t\t Round 4 Epoch: 6 | Iteration: 60/80 (75%) | Samples: 1920/2560\n",
       " \t\t\t\t\t Loss: \u001b[1m0.000000\u001b[0m \n",
       "\t\t\t\t\t ---------"
      ]
     },
     "metadata": {},
     "output_type": "display_data"
    },
    {
     "data": {
      "text/plain": [
       "2025-10-03 03:04:41,393 fedbiomed INFO - \u001b[1mTRAINING\u001b[0m \n",
       "\t\t\t\t\t NODE_ID: NODE_5fbd3836-38ce-4075-9c03-bdef6bd97579 \n",
       "\t\t\t\t\t Round 4 Epoch: 6 | Iteration: 70/80 (88%) | Samples: 2240/2560\n",
       " \t\t\t\t\t Loss: \u001b[1m0.000000\u001b[0m \n",
       "\t\t\t\t\t ---------"
      ]
     },
     "metadata": {},
     "output_type": "display_data"
    },
    {
     "data": {
      "text/plain": [
       "2025-10-03 03:04:41,404 fedbiomed INFO - \u001b[1mTRAINING\u001b[0m \n",
       "\t\t\t\t\t NODE_ID: NODE_9da4e82d-e30d-44c2-a481-b8a877e97f4d \n",
       "\t\t\t\t\t Round 4 Epoch: 6 | Iteration: 50/80 (62%) | Samples: 1600/2560\n",
       " \t\t\t\t\t Loss: \u001b[1m0.000000\u001b[0m \n",
       "\t\t\t\t\t ---------"
      ]
     },
     "metadata": {},
     "output_type": "display_data"
    },
    {
     "data": {
      "text/plain": [
       "2025-10-03 03:04:41,415 fedbiomed INFO - \u001b[1mTRAINING\u001b[0m \n",
       "\t\t\t\t\t NODE_ID: NODE_5fbd3836-38ce-4075-9c03-bdef6bd97579 \n",
       "\t\t\t\t\t Round 4 Epoch: 6 | Iteration: 80/80 (100%) | Samples: 2541/2541\n",
       " \t\t\t\t\t Loss: \u001b[1m0.000000\u001b[0m \n",
       "\t\t\t\t\t ---------"
      ]
     },
     "metadata": {},
     "output_type": "display_data"
    },
    {
     "data": {
      "text/plain": [
       "2025-10-03 03:04:41,417 fedbiomed INFO - \u001b[1mTRAINING\u001b[0m \n",
       "\t\t\t\t\t NODE_ID: NODE_9da4e82d-e30d-44c2-a481-b8a877e97f4d \n",
       "\t\t\t\t\t Round 4 Epoch: 6 | Iteration: 60/80 (75%) | Samples: 1920/2560\n",
       " \t\t\t\t\t Loss: \u001b[1m0.000000\u001b[0m \n",
       "\t\t\t\t\t ---------"
      ]
     },
     "metadata": {},
     "output_type": "display_data"
    },
    {
     "data": {
      "text/plain": [
       "2025-10-03 03:04:41,421 fedbiomed INFO - \u001b[1mTRAINING\u001b[0m \n",
       "\t\t\t\t\t NODE_ID: NODE_5fbd3836-38ce-4075-9c03-bdef6bd97579 \n",
       "\t\t\t\t\t Round 4 Epoch: 7 | Iteration: 1/80 (1%) | Samples: 32/2560\n",
       " \t\t\t\t\t Loss: \u001b[1m0.000000\u001b[0m \n",
       "\t\t\t\t\t ---------"
      ]
     },
     "metadata": {},
     "output_type": "display_data"
    },
    {
     "data": {
      "text/plain": [
       "2025-10-03 03:04:41,431 fedbiomed INFO - \u001b[1mTRAINING\u001b[0m \n",
       "\t\t\t\t\t NODE_ID: NODE_9da4e82d-e30d-44c2-a481-b8a877e97f4d \n",
       "\t\t\t\t\t Round 4 Epoch: 6 | Iteration: 70/80 (88%) | Samples: 2240/2560\n",
       " \t\t\t\t\t Loss: \u001b[1m0.000000\u001b[0m \n",
       "\t\t\t\t\t ---------"
      ]
     },
     "metadata": {},
     "output_type": "display_data"
    },
    {
     "data": {
      "text/plain": [
       "2025-10-03 03:04:41,440 fedbiomed INFO - \u001b[1mTRAINING\u001b[0m \n",
       "\t\t\t\t\t NODE_ID: NODE_5fbd3836-38ce-4075-9c03-bdef6bd97579 \n",
       "\t\t\t\t\t Round 4 Epoch: 7 | Iteration: 10/80 (12%) | Samples: 320/2560\n",
       " \t\t\t\t\t Loss: \u001b[1m0.000000\u001b[0m \n",
       "\t\t\t\t\t ---------"
      ]
     },
     "metadata": {},
     "output_type": "display_data"
    },
    {
     "data": {
      "text/plain": [
       "2025-10-03 03:04:41,446 fedbiomed INFO - \u001b[1mTRAINING\u001b[0m \n",
       "\t\t\t\t\t NODE_ID: NODE_9da4e82d-e30d-44c2-a481-b8a877e97f4d \n",
       "\t\t\t\t\t Round 4 Epoch: 6 | Iteration: 80/80 (100%) | Samples: 2541/2541\n",
       " \t\t\t\t\t Loss: \u001b[1m0.000000\u001b[0m \n",
       "\t\t\t\t\t ---------"
      ]
     },
     "metadata": {},
     "output_type": "display_data"
    },
    {
     "data": {
      "text/plain": [
       "2025-10-03 03:04:41,452 fedbiomed INFO - \u001b[1mTRAINING\u001b[0m \n",
       "\t\t\t\t\t NODE_ID: NODE_9da4e82d-e30d-44c2-a481-b8a877e97f4d \n",
       "\t\t\t\t\t Round 4 Epoch: 7 | Iteration: 1/80 (1%) | Samples: 32/2560\n",
       " \t\t\t\t\t Loss: \u001b[1m0.000000\u001b[0m \n",
       "\t\t\t\t\t ---------"
      ]
     },
     "metadata": {},
     "output_type": "display_data"
    },
    {
     "data": {
      "text/plain": [
       "2025-10-03 03:04:41,464 fedbiomed INFO - \u001b[1mTRAINING\u001b[0m \n",
       "\t\t\t\t\t NODE_ID: NODE_5fbd3836-38ce-4075-9c03-bdef6bd97579 \n",
       "\t\t\t\t\t Round 4 Epoch: 7 | Iteration: 20/80 (25%) | Samples: 640/2560\n",
       " \t\t\t\t\t Loss: \u001b[1m0.000000\u001b[0m \n",
       "\t\t\t\t\t ---------"
      ]
     },
     "metadata": {},
     "output_type": "display_data"
    },
    {
     "data": {
      "text/plain": [
       "2025-10-03 03:04:41,469 fedbiomed INFO - \u001b[1mTRAINING\u001b[0m \n",
       "\t\t\t\t\t NODE_ID: NODE_9da4e82d-e30d-44c2-a481-b8a877e97f4d \n",
       "\t\t\t\t\t Round 4 Epoch: 7 | Iteration: 10/80 (12%) | Samples: 320/2560\n",
       " \t\t\t\t\t Loss: \u001b[1m0.000000\u001b[0m \n",
       "\t\t\t\t\t ---------"
      ]
     },
     "metadata": {},
     "output_type": "display_data"
    },
    {
     "data": {
      "text/plain": [
       "2025-10-03 03:04:41,483 fedbiomed INFO - \u001b[1mTRAINING\u001b[0m \n",
       "\t\t\t\t\t NODE_ID: NODE_9da4e82d-e30d-44c2-a481-b8a877e97f4d \n",
       "\t\t\t\t\t Round 4 Epoch: 7 | Iteration: 20/80 (25%) | Samples: 640/2560\n",
       " \t\t\t\t\t Loss: \u001b[1m0.000000\u001b[0m \n",
       "\t\t\t\t\t ---------"
      ]
     },
     "metadata": {},
     "output_type": "display_data"
    },
    {
     "data": {
      "text/plain": [
       "2025-10-03 03:04:41,487 fedbiomed INFO - \u001b[1mTRAINING\u001b[0m \n",
       "\t\t\t\t\t NODE_ID: NODE_5fbd3836-38ce-4075-9c03-bdef6bd97579 \n",
       "\t\t\t\t\t Round 4 Epoch: 7 | Iteration: 30/80 (38%) | Samples: 960/2560\n",
       " \t\t\t\t\t Loss: \u001b[1m0.000000\u001b[0m \n",
       "\t\t\t\t\t ---------"
      ]
     },
     "metadata": {},
     "output_type": "display_data"
    },
    {
     "data": {
      "text/plain": [
       "2025-10-03 03:04:41,500 fedbiomed INFO - \u001b[1mTRAINING\u001b[0m \n",
       "\t\t\t\t\t NODE_ID: NODE_9da4e82d-e30d-44c2-a481-b8a877e97f4d \n",
       "\t\t\t\t\t Round 4 Epoch: 7 | Iteration: 30/80 (38%) | Samples: 960/2560\n",
       " \t\t\t\t\t Loss: \u001b[1m0.000000\u001b[0m \n",
       "\t\t\t\t\t ---------"
      ]
     },
     "metadata": {},
     "output_type": "display_data"
    },
    {
     "data": {
      "text/plain": [
       "2025-10-03 03:04:41,510 fedbiomed INFO - \u001b[1mTRAINING\u001b[0m \n",
       "\t\t\t\t\t NODE_ID: NODE_5fbd3836-38ce-4075-9c03-bdef6bd97579 \n",
       "\t\t\t\t\t Round 4 Epoch: 7 | Iteration: 40/80 (50%) | Samples: 1280/2560\n",
       " \t\t\t\t\t Loss: \u001b[1m0.000000\u001b[0m \n",
       "\t\t\t\t\t ---------"
      ]
     },
     "metadata": {},
     "output_type": "display_data"
    },
    {
     "data": {
      "text/plain": [
       "2025-10-03 03:04:41,515 fedbiomed INFO - \u001b[1mTRAINING\u001b[0m \n",
       "\t\t\t\t\t NODE_ID: NODE_9da4e82d-e30d-44c2-a481-b8a877e97f4d \n",
       "\t\t\t\t\t Round 4 Epoch: 7 | Iteration: 40/80 (50%) | Samples: 1280/2560\n",
       " \t\t\t\t\t Loss: \u001b[1m0.000000\u001b[0m \n",
       "\t\t\t\t\t ---------"
      ]
     },
     "metadata": {},
     "output_type": "display_data"
    },
    {
     "data": {
      "text/plain": [
       "2025-10-03 03:04:41,527 fedbiomed INFO - \u001b[1mTRAINING\u001b[0m \n",
       "\t\t\t\t\t NODE_ID: NODE_5fbd3836-38ce-4075-9c03-bdef6bd97579 \n",
       "\t\t\t\t\t Round 4 Epoch: 7 | Iteration: 50/80 (62%) | Samples: 1600/2560\n",
       " \t\t\t\t\t Loss: \u001b[1m0.000000\u001b[0m \n",
       "\t\t\t\t\t ---------"
      ]
     },
     "metadata": {},
     "output_type": "display_data"
    },
    {
     "data": {
      "text/plain": [
       "2025-10-03 03:04:41,536 fedbiomed INFO - \u001b[1mTRAINING\u001b[0m \n",
       "\t\t\t\t\t NODE_ID: NODE_9da4e82d-e30d-44c2-a481-b8a877e97f4d \n",
       "\t\t\t\t\t Round 4 Epoch: 7 | Iteration: 50/80 (62%) | Samples: 1600/2560\n",
       " \t\t\t\t\t Loss: \u001b[1m0.000000\u001b[0m \n",
       "\t\t\t\t\t ---------"
      ]
     },
     "metadata": {},
     "output_type": "display_data"
    },
    {
     "data": {
      "text/plain": [
       "2025-10-03 03:04:41,548 fedbiomed INFO - \u001b[1mTRAINING\u001b[0m \n",
       "\t\t\t\t\t NODE_ID: NODE_5fbd3836-38ce-4075-9c03-bdef6bd97579 \n",
       "\t\t\t\t\t Round 4 Epoch: 7 | Iteration: 60/80 (75%) | Samples: 1920/2560\n",
       " \t\t\t\t\t Loss: \u001b[1m0.000000\u001b[0m \n",
       "\t\t\t\t\t ---------"
      ]
     },
     "metadata": {},
     "output_type": "display_data"
    },
    {
     "data": {
      "text/plain": [
       "2025-10-03 03:04:41,553 fedbiomed INFO - \u001b[1mTRAINING\u001b[0m \n",
       "\t\t\t\t\t NODE_ID: NODE_9da4e82d-e30d-44c2-a481-b8a877e97f4d \n",
       "\t\t\t\t\t Round 4 Epoch: 7 | Iteration: 60/80 (75%) | Samples: 1920/2560\n",
       " \t\t\t\t\t Loss: \u001b[1m0.000000\u001b[0m \n",
       "\t\t\t\t\t ---------"
      ]
     },
     "metadata": {},
     "output_type": "display_data"
    },
    {
     "data": {
      "text/plain": [
       "2025-10-03 03:04:41,560 fedbiomed INFO - \u001b[1mTRAINING\u001b[0m \n",
       "\t\t\t\t\t NODE_ID: NODE_5fbd3836-38ce-4075-9c03-bdef6bd97579 \n",
       "\t\t\t\t\t Round 4 Epoch: 7 | Iteration: 70/80 (88%) | Samples: 2240/2560\n",
       " \t\t\t\t\t Loss: \u001b[1m0.000000\u001b[0m \n",
       "\t\t\t\t\t ---------"
      ]
     },
     "metadata": {},
     "output_type": "display_data"
    },
    {
     "data": {
      "text/plain": [
       "2025-10-03 03:04:41,571 fedbiomed INFO - \u001b[1mTRAINING\u001b[0m \n",
       "\t\t\t\t\t NODE_ID: NODE_9da4e82d-e30d-44c2-a481-b8a877e97f4d \n",
       "\t\t\t\t\t Round 4 Epoch: 7 | Iteration: 70/80 (88%) | Samples: 2240/2560\n",
       " \t\t\t\t\t Loss: \u001b[1m0.000000\u001b[0m \n",
       "\t\t\t\t\t ---------"
      ]
     },
     "metadata": {},
     "output_type": "display_data"
    },
    {
     "data": {
      "text/plain": [
       "2025-10-03 03:04:41,573 fedbiomed INFO - \u001b[1mTRAINING\u001b[0m \n",
       "\t\t\t\t\t NODE_ID: NODE_5fbd3836-38ce-4075-9c03-bdef6bd97579 \n",
       "\t\t\t\t\t Round 4 Epoch: 7 | Iteration: 80/80 (100%) | Samples: 2541/2541\n",
       " \t\t\t\t\t Loss: \u001b[1m0.000000\u001b[0m \n",
       "\t\t\t\t\t ---------"
      ]
     },
     "metadata": {},
     "output_type": "display_data"
    },
    {
     "data": {
      "text/plain": [
       "2025-10-03 03:04:41,580 fedbiomed INFO - \u001b[1mTRAINING\u001b[0m \n",
       "\t\t\t\t\t NODE_ID: NODE_5fbd3836-38ce-4075-9c03-bdef6bd97579 \n",
       "\t\t\t\t\t Round 4 Epoch: 8 | Iteration: 1/80 (1%) | Samples: 32/2560\n",
       " \t\t\t\t\t Loss: \u001b[1m0.000000\u001b[0m \n",
       "\t\t\t\t\t ---------"
      ]
     },
     "metadata": {},
     "output_type": "display_data"
    },
    {
     "data": {
      "text/plain": [
       "2025-10-03 03:04:41,595 fedbiomed INFO - \u001b[1mTRAINING\u001b[0m \n",
       "\t\t\t\t\t NODE_ID: NODE_9da4e82d-e30d-44c2-a481-b8a877e97f4d \n",
       "\t\t\t\t\t Round 4 Epoch: 7 | Iteration: 80/80 (100%) | Samples: 2541/2541\n",
       " \t\t\t\t\t Loss: \u001b[1m0.000000\u001b[0m \n",
       "\t\t\t\t\t ---------"
      ]
     },
     "metadata": {},
     "output_type": "display_data"
    },
    {
     "data": {
      "text/plain": [
       "2025-10-03 03:04:41,597 fedbiomed INFO - \u001b[1mTRAINING\u001b[0m \n",
       "\t\t\t\t\t NODE_ID: NODE_5fbd3836-38ce-4075-9c03-bdef6bd97579 \n",
       "\t\t\t\t\t Round 4 Epoch: 8 | Iteration: 10/80 (12%) | Samples: 320/2560\n",
       " \t\t\t\t\t Loss: \u001b[1m0.000000\u001b[0m \n",
       "\t\t\t\t\t ---------"
      ]
     },
     "metadata": {},
     "output_type": "display_data"
    },
    {
     "data": {
      "text/plain": [
       "2025-10-03 03:04:41,603 fedbiomed INFO - \u001b[1mTRAINING\u001b[0m \n",
       "\t\t\t\t\t NODE_ID: NODE_9da4e82d-e30d-44c2-a481-b8a877e97f4d \n",
       "\t\t\t\t\t Round 4 Epoch: 8 | Iteration: 1/80 (1%) | Samples: 32/2560\n",
       " \t\t\t\t\t Loss: \u001b[1m0.000000\u001b[0m \n",
       "\t\t\t\t\t ---------"
      ]
     },
     "metadata": {},
     "output_type": "display_data"
    },
    {
     "data": {
      "text/plain": [
       "2025-10-03 03:04:41,610 fedbiomed INFO - \u001b[1mTRAINING\u001b[0m \n",
       "\t\t\t\t\t NODE_ID: NODE_5fbd3836-38ce-4075-9c03-bdef6bd97579 \n",
       "\t\t\t\t\t Round 4 Epoch: 8 | Iteration: 20/80 (25%) | Samples: 640/2560\n",
       " \t\t\t\t\t Loss: \u001b[1m0.000000\u001b[0m \n",
       "\t\t\t\t\t ---------"
      ]
     },
     "metadata": {},
     "output_type": "display_data"
    },
    {
     "data": {
      "text/plain": [
       "2025-10-03 03:04:41,619 fedbiomed INFO - \u001b[1mTRAINING\u001b[0m \n",
       "\t\t\t\t\t NODE_ID: NODE_9da4e82d-e30d-44c2-a481-b8a877e97f4d \n",
       "\t\t\t\t\t Round 4 Epoch: 8 | Iteration: 10/80 (12%) | Samples: 320/2560\n",
       " \t\t\t\t\t Loss: \u001b[1m0.000000\u001b[0m \n",
       "\t\t\t\t\t ---------"
      ]
     },
     "metadata": {},
     "output_type": "display_data"
    },
    {
     "data": {
      "text/plain": [
       "2025-10-03 03:04:41,624 fedbiomed INFO - \u001b[1mTRAINING\u001b[0m \n",
       "\t\t\t\t\t NODE_ID: NODE_5fbd3836-38ce-4075-9c03-bdef6bd97579 \n",
       "\t\t\t\t\t Round 4 Epoch: 8 | Iteration: 30/80 (38%) | Samples: 960/2560\n",
       " \t\t\t\t\t Loss: \u001b[1m0.000000\u001b[0m \n",
       "\t\t\t\t\t ---------"
      ]
     },
     "metadata": {},
     "output_type": "display_data"
    },
    {
     "data": {
      "text/plain": [
       "2025-10-03 03:04:41,633 fedbiomed INFO - \u001b[1mTRAINING\u001b[0m \n",
       "\t\t\t\t\t NODE_ID: NODE_9da4e82d-e30d-44c2-a481-b8a877e97f4d \n",
       "\t\t\t\t\t Round 4 Epoch: 8 | Iteration: 20/80 (25%) | Samples: 640/2560\n",
       " \t\t\t\t\t Loss: \u001b[1m0.000000\u001b[0m \n",
       "\t\t\t\t\t ---------"
      ]
     },
     "metadata": {},
     "output_type": "display_data"
    },
    {
     "data": {
      "text/plain": [
       "2025-10-03 03:04:41,641 fedbiomed INFO - \u001b[1mTRAINING\u001b[0m \n",
       "\t\t\t\t\t NODE_ID: NODE_5fbd3836-38ce-4075-9c03-bdef6bd97579 \n",
       "\t\t\t\t\t Round 4 Epoch: 8 | Iteration: 40/80 (50%) | Samples: 1280/2560\n",
       " \t\t\t\t\t Loss: \u001b[1m0.000000\u001b[0m \n",
       "\t\t\t\t\t ---------"
      ]
     },
     "metadata": {},
     "output_type": "display_data"
    },
    {
     "data": {
      "text/plain": [
       "2025-10-03 03:04:41,652 fedbiomed INFO - \u001b[1mTRAINING\u001b[0m \n",
       "\t\t\t\t\t NODE_ID: NODE_9da4e82d-e30d-44c2-a481-b8a877e97f4d \n",
       "\t\t\t\t\t Round 4 Epoch: 8 | Iteration: 30/80 (38%) | Samples: 960/2560\n",
       " \t\t\t\t\t Loss: \u001b[1m0.000000\u001b[0m \n",
       "\t\t\t\t\t ---------"
      ]
     },
     "metadata": {},
     "output_type": "display_data"
    },
    {
     "data": {
      "text/plain": [
       "2025-10-03 03:04:41,656 fedbiomed INFO - \u001b[1mTRAINING\u001b[0m \n",
       "\t\t\t\t\t NODE_ID: NODE_5fbd3836-38ce-4075-9c03-bdef6bd97579 \n",
       "\t\t\t\t\t Round 4 Epoch: 8 | Iteration: 50/80 (62%) | Samples: 1600/2560\n",
       " \t\t\t\t\t Loss: \u001b[1m0.000000\u001b[0m \n",
       "\t\t\t\t\t ---------"
      ]
     },
     "metadata": {},
     "output_type": "display_data"
    },
    {
     "data": {
      "text/plain": [
       "2025-10-03 03:04:41,666 fedbiomed INFO - \u001b[1mTRAINING\u001b[0m \n",
       "\t\t\t\t\t NODE_ID: NODE_9da4e82d-e30d-44c2-a481-b8a877e97f4d \n",
       "\t\t\t\t\t Round 4 Epoch: 8 | Iteration: 40/80 (50%) | Samples: 1280/2560\n",
       " \t\t\t\t\t Loss: \u001b[1m0.000000\u001b[0m \n",
       "\t\t\t\t\t ---------"
      ]
     },
     "metadata": {},
     "output_type": "display_data"
    },
    {
     "data": {
      "text/plain": [
       "2025-10-03 03:04:41,669 fedbiomed INFO - \u001b[1mTRAINING\u001b[0m \n",
       "\t\t\t\t\t NODE_ID: NODE_5fbd3836-38ce-4075-9c03-bdef6bd97579 \n",
       "\t\t\t\t\t Round 4 Epoch: 8 | Iteration: 60/80 (75%) | Samples: 1920/2560\n",
       " \t\t\t\t\t Loss: \u001b[1m0.000000\u001b[0m \n",
       "\t\t\t\t\t ---------"
      ]
     },
     "metadata": {},
     "output_type": "display_data"
    },
    {
     "data": {
      "text/plain": [
       "2025-10-03 03:04:41,682 fedbiomed INFO - \u001b[1mTRAINING\u001b[0m \n",
       "\t\t\t\t\t NODE_ID: NODE_5fbd3836-38ce-4075-9c03-bdef6bd97579 \n",
       "\t\t\t\t\t Round 4 Epoch: 8 | Iteration: 70/80 (88%) | Samples: 2240/2560\n",
       " \t\t\t\t\t Loss: \u001b[1m0.000000\u001b[0m \n",
       "\t\t\t\t\t ---------"
      ]
     },
     "metadata": {},
     "output_type": "display_data"
    },
    {
     "data": {
      "text/plain": [
       "2025-10-03 03:04:41,686 fedbiomed INFO - \u001b[1mTRAINING\u001b[0m \n",
       "\t\t\t\t\t NODE_ID: NODE_9da4e82d-e30d-44c2-a481-b8a877e97f4d \n",
       "\t\t\t\t\t Round 4 Epoch: 8 | Iteration: 50/80 (62%) | Samples: 1600/2560\n",
       " \t\t\t\t\t Loss: \u001b[1m0.000000\u001b[0m \n",
       "\t\t\t\t\t ---------"
      ]
     },
     "metadata": {},
     "output_type": "display_data"
    },
    {
     "data": {
      "text/plain": [
       "2025-10-03 03:04:41,696 fedbiomed INFO - \u001b[1mTRAINING\u001b[0m \n",
       "\t\t\t\t\t NODE_ID: NODE_5fbd3836-38ce-4075-9c03-bdef6bd97579 \n",
       "\t\t\t\t\t Round 4 Epoch: 8 | Iteration: 80/80 (100%) | Samples: 2541/2541\n",
       " \t\t\t\t\t Loss: \u001b[1m0.000000\u001b[0m \n",
       "\t\t\t\t\t ---------"
      ]
     },
     "metadata": {},
     "output_type": "display_data"
    },
    {
     "data": {
      "text/plain": [
       "2025-10-03 03:04:41,703 fedbiomed INFO - \u001b[1mTRAINING\u001b[0m \n",
       "\t\t\t\t\t NODE_ID: NODE_5fbd3836-38ce-4075-9c03-bdef6bd97579 \n",
       "\t\t\t\t\t Round 4 Epoch: 9 | Iteration: 1/80 (1%) | Samples: 32/2560\n",
       " \t\t\t\t\t Loss: \u001b[1m0.000000\u001b[0m \n",
       "\t\t\t\t\t ---------"
      ]
     },
     "metadata": {},
     "output_type": "display_data"
    },
    {
     "data": {
      "text/plain": [
       "2025-10-03 03:04:41,713 fedbiomed INFO - \u001b[1mTRAINING\u001b[0m \n",
       "\t\t\t\t\t NODE_ID: NODE_9da4e82d-e30d-44c2-a481-b8a877e97f4d \n",
       "\t\t\t\t\t Round 4 Epoch: 8 | Iteration: 60/80 (75%) | Samples: 1920/2560\n",
       " \t\t\t\t\t Loss: \u001b[1m0.000000\u001b[0m \n",
       "\t\t\t\t\t ---------"
      ]
     },
     "metadata": {},
     "output_type": "display_data"
    },
    {
     "data": {
      "text/plain": [
       "2025-10-03 03:04:41,717 fedbiomed INFO - \u001b[1mTRAINING\u001b[0m \n",
       "\t\t\t\t\t NODE_ID: NODE_5fbd3836-38ce-4075-9c03-bdef6bd97579 \n",
       "\t\t\t\t\t Round 4 Epoch: 9 | Iteration: 10/80 (12%) | Samples: 320/2560\n",
       " \t\t\t\t\t Loss: \u001b[1m0.000000\u001b[0m \n",
       "\t\t\t\t\t ---------"
      ]
     },
     "metadata": {},
     "output_type": "display_data"
    },
    {
     "data": {
      "text/plain": [
       "2025-10-03 03:04:41,733 fedbiomed INFO - \u001b[1mTRAINING\u001b[0m \n",
       "\t\t\t\t\t NODE_ID: NODE_9da4e82d-e30d-44c2-a481-b8a877e97f4d \n",
       "\t\t\t\t\t Round 4 Epoch: 8 | Iteration: 70/80 (88%) | Samples: 2240/2560\n",
       " \t\t\t\t\t Loss: \u001b[1m0.000000\u001b[0m \n",
       "\t\t\t\t\t ---------"
      ]
     },
     "metadata": {},
     "output_type": "display_data"
    },
    {
     "data": {
      "text/plain": [
       "2025-10-03 03:04:41,736 fedbiomed INFO - \u001b[1mTRAINING\u001b[0m \n",
       "\t\t\t\t\t NODE_ID: NODE_5fbd3836-38ce-4075-9c03-bdef6bd97579 \n",
       "\t\t\t\t\t Round 4 Epoch: 9 | Iteration: 20/80 (25%) | Samples: 640/2560\n",
       " \t\t\t\t\t Loss: \u001b[1m0.000000\u001b[0m \n",
       "\t\t\t\t\t ---------"
      ]
     },
     "metadata": {},
     "output_type": "display_data"
    },
    {
     "data": {
      "text/plain": [
       "2025-10-03 03:04:41,750 fedbiomed INFO - \u001b[1mTRAINING\u001b[0m \n",
       "\t\t\t\t\t NODE_ID: NODE_5fbd3836-38ce-4075-9c03-bdef6bd97579 \n",
       "\t\t\t\t\t Round 4 Epoch: 9 | Iteration: 30/80 (38%) | Samples: 960/2560\n",
       " \t\t\t\t\t Loss: \u001b[1m0.000000\u001b[0m \n",
       "\t\t\t\t\t ---------"
      ]
     },
     "metadata": {},
     "output_type": "display_data"
    },
    {
     "data": {
      "text/plain": [
       "2025-10-03 03:04:41,752 fedbiomed INFO - \u001b[1mTRAINING\u001b[0m \n",
       "\t\t\t\t\t NODE_ID: NODE_9da4e82d-e30d-44c2-a481-b8a877e97f4d \n",
       "\t\t\t\t\t Round 4 Epoch: 8 | Iteration: 80/80 (100%) | Samples: 2541/2541\n",
       " \t\t\t\t\t Loss: \u001b[1m0.000000\u001b[0m \n",
       "\t\t\t\t\t ---------"
      ]
     },
     "metadata": {},
     "output_type": "display_data"
    },
    {
     "data": {
      "text/plain": [
       "2025-10-03 03:04:41,756 fedbiomed INFO - \u001b[1mTRAINING\u001b[0m \n",
       "\t\t\t\t\t NODE_ID: NODE_9da4e82d-e30d-44c2-a481-b8a877e97f4d \n",
       "\t\t\t\t\t Round 4 Epoch: 9 | Iteration: 1/80 (1%) | Samples: 32/2560\n",
       " \t\t\t\t\t Loss: \u001b[1m0.000000\u001b[0m \n",
       "\t\t\t\t\t ---------"
      ]
     },
     "metadata": {},
     "output_type": "display_data"
    },
    {
     "data": {
      "text/plain": [
       "2025-10-03 03:04:41,768 fedbiomed INFO - \u001b[1mTRAINING\u001b[0m \n",
       "\t\t\t\t\t NODE_ID: NODE_5fbd3836-38ce-4075-9c03-bdef6bd97579 \n",
       "\t\t\t\t\t Round 4 Epoch: 9 | Iteration: 40/80 (50%) | Samples: 1280/2560\n",
       " \t\t\t\t\t Loss: \u001b[1m0.000000\u001b[0m \n",
       "\t\t\t\t\t ---------"
      ]
     },
     "metadata": {},
     "output_type": "display_data"
    },
    {
     "data": {
      "text/plain": [
       "2025-10-03 03:04:41,775 fedbiomed INFO - \u001b[1mTRAINING\u001b[0m \n",
       "\t\t\t\t\t NODE_ID: NODE_9da4e82d-e30d-44c2-a481-b8a877e97f4d \n",
       "\t\t\t\t\t Round 4 Epoch: 9 | Iteration: 10/80 (12%) | Samples: 320/2560\n",
       " \t\t\t\t\t Loss: \u001b[1m0.000000\u001b[0m \n",
       "\t\t\t\t\t ---------"
      ]
     },
     "metadata": {},
     "output_type": "display_data"
    },
    {
     "data": {
      "text/plain": [
       "2025-10-03 03:04:41,782 fedbiomed INFO - \u001b[1mTRAINING\u001b[0m \n",
       "\t\t\t\t\t NODE_ID: NODE_5fbd3836-38ce-4075-9c03-bdef6bd97579 \n",
       "\t\t\t\t\t Round 4 Epoch: 9 | Iteration: 50/80 (62%) | Samples: 1600/2560\n",
       " \t\t\t\t\t Loss: \u001b[1m0.000000\u001b[0m \n",
       "\t\t\t\t\t ---------"
      ]
     },
     "metadata": {},
     "output_type": "display_data"
    },
    {
     "data": {
      "text/plain": [
       "2025-10-03 03:04:41,793 fedbiomed INFO - \u001b[1mTRAINING\u001b[0m \n",
       "\t\t\t\t\t NODE_ID: NODE_5fbd3836-38ce-4075-9c03-bdef6bd97579 \n",
       "\t\t\t\t\t Round 4 Epoch: 9 | Iteration: 60/80 (75%) | Samples: 1920/2560\n",
       " \t\t\t\t\t Loss: \u001b[1m0.000000\u001b[0m \n",
       "\t\t\t\t\t ---------"
      ]
     },
     "metadata": {},
     "output_type": "display_data"
    },
    {
     "data": {
      "text/plain": [
       "2025-10-03 03:04:41,797 fedbiomed INFO - \u001b[1mTRAINING\u001b[0m \n",
       "\t\t\t\t\t NODE_ID: NODE_9da4e82d-e30d-44c2-a481-b8a877e97f4d \n",
       "\t\t\t\t\t Round 4 Epoch: 9 | Iteration: 20/80 (25%) | Samples: 640/2560\n",
       " \t\t\t\t\t Loss: \u001b[1m0.000000\u001b[0m \n",
       "\t\t\t\t\t ---------"
      ]
     },
     "metadata": {},
     "output_type": "display_data"
    },
    {
     "data": {
      "text/plain": [
       "2025-10-03 03:04:41,809 fedbiomed INFO - \u001b[1mTRAINING\u001b[0m \n",
       "\t\t\t\t\t NODE_ID: NODE_5fbd3836-38ce-4075-9c03-bdef6bd97579 \n",
       "\t\t\t\t\t Round 4 Epoch: 9 | Iteration: 70/80 (88%) | Samples: 2240/2560\n",
       " \t\t\t\t\t Loss: \u001b[1m0.000000\u001b[0m \n",
       "\t\t\t\t\t ---------"
      ]
     },
     "metadata": {},
     "output_type": "display_data"
    },
    {
     "data": {
      "text/plain": [
       "2025-10-03 03:04:41,818 fedbiomed INFO - \u001b[1mTRAINING\u001b[0m \n",
       "\t\t\t\t\t NODE_ID: NODE_9da4e82d-e30d-44c2-a481-b8a877e97f4d \n",
       "\t\t\t\t\t Round 4 Epoch: 9 | Iteration: 30/80 (38%) | Samples: 960/2560\n",
       " \t\t\t\t\t Loss: \u001b[1m0.000000\u001b[0m \n",
       "\t\t\t\t\t ---------"
      ]
     },
     "metadata": {},
     "output_type": "display_data"
    },
    {
     "data": {
      "text/plain": [
       "2025-10-03 03:04:41,825 fedbiomed INFO - \u001b[1mTRAINING\u001b[0m \n",
       "\t\t\t\t\t NODE_ID: NODE_5fbd3836-38ce-4075-9c03-bdef6bd97579 \n",
       "\t\t\t\t\t Round 4 Epoch: 9 | Iteration: 80/80 (100%) | Samples: 2541/2541\n",
       " \t\t\t\t\t Loss: \u001b[1m0.000000\u001b[0m \n",
       "\t\t\t\t\t ---------"
      ]
     },
     "metadata": {},
     "output_type": "display_data"
    },
    {
     "data": {
      "text/plain": [
       "2025-10-03 03:04:41,832 fedbiomed INFO - \u001b[1mTRAINING\u001b[0m \n",
       "\t\t\t\t\t NODE_ID: NODE_5fbd3836-38ce-4075-9c03-bdef6bd97579 \n",
       "\t\t\t\t\t Round 4 Epoch: 10 | Iteration: 1/80 (1%) | Samples: 32/2560\n",
       " \t\t\t\t\t Loss: \u001b[1m0.000000\u001b[0m \n",
       "\t\t\t\t\t ---------"
      ]
     },
     "metadata": {},
     "output_type": "display_data"
    },
    {
     "data": {
      "text/plain": [
       "2025-10-03 03:04:41,837 fedbiomed INFO - \u001b[1mTRAINING\u001b[0m \n",
       "\t\t\t\t\t NODE_ID: NODE_9da4e82d-e30d-44c2-a481-b8a877e97f4d \n",
       "\t\t\t\t\t Round 4 Epoch: 9 | Iteration: 40/80 (50%) | Samples: 1280/2560\n",
       " \t\t\t\t\t Loss: \u001b[1m0.000000\u001b[0m \n",
       "\t\t\t\t\t ---------"
      ]
     },
     "metadata": {},
     "output_type": "display_data"
    },
    {
     "data": {
      "text/plain": [
       "2025-10-03 03:04:41,855 fedbiomed INFO - \u001b[1mTRAINING\u001b[0m \n",
       "\t\t\t\t\t NODE_ID: NODE_5fbd3836-38ce-4075-9c03-bdef6bd97579 \n",
       "\t\t\t\t\t Round 4 Epoch: 10 | Iteration: 10/80 (12%) | Samples: 320/2560\n",
       " \t\t\t\t\t Loss: \u001b[1m0.000000\u001b[0m \n",
       "\t\t\t\t\t ---------"
      ]
     },
     "metadata": {},
     "output_type": "display_data"
    },
    {
     "data": {
      "text/plain": [
       "2025-10-03 03:04:41,869 fedbiomed INFO - \u001b[1mTRAINING\u001b[0m \n",
       "\t\t\t\t\t NODE_ID: NODE_9da4e82d-e30d-44c2-a481-b8a877e97f4d \n",
       "\t\t\t\t\t Round 4 Epoch: 9 | Iteration: 50/80 (62%) | Samples: 1600/2560\n",
       " \t\t\t\t\t Loss: \u001b[1m0.000000\u001b[0m \n",
       "\t\t\t\t\t ---------"
      ]
     },
     "metadata": {},
     "output_type": "display_data"
    },
    {
     "data": {
      "text/plain": [
       "2025-10-03 03:04:41,871 fedbiomed INFO - \u001b[1mTRAINING\u001b[0m \n",
       "\t\t\t\t\t NODE_ID: NODE_5fbd3836-38ce-4075-9c03-bdef6bd97579 \n",
       "\t\t\t\t\t Round 4 Epoch: 10 | Iteration: 20/80 (25%) | Samples: 640/2560\n",
       " \t\t\t\t\t Loss: \u001b[1m0.000000\u001b[0m \n",
       "\t\t\t\t\t ---------"
      ]
     },
     "metadata": {},
     "output_type": "display_data"
    },
    {
     "data": {
      "text/plain": [
       "2025-10-03 03:04:41,881 fedbiomed INFO - \u001b[1mTRAINING\u001b[0m \n",
       "\t\t\t\t\t NODE_ID: NODE_5fbd3836-38ce-4075-9c03-bdef6bd97579 \n",
       "\t\t\t\t\t Round 4 Epoch: 10 | Iteration: 30/80 (38%) | Samples: 960/2560\n",
       " \t\t\t\t\t Loss: \u001b[1m0.000000\u001b[0m \n",
       "\t\t\t\t\t ---------"
      ]
     },
     "metadata": {},
     "output_type": "display_data"
    },
    {
     "data": {
      "text/plain": [
       "2025-10-03 03:04:41,889 fedbiomed INFO - \u001b[1mTRAINING\u001b[0m \n",
       "\t\t\t\t\t NODE_ID: NODE_9da4e82d-e30d-44c2-a481-b8a877e97f4d \n",
       "\t\t\t\t\t Round 4 Epoch: 9 | Iteration: 60/80 (75%) | Samples: 1920/2560\n",
       " \t\t\t\t\t Loss: \u001b[1m0.000000\u001b[0m \n",
       "\t\t\t\t\t ---------"
      ]
     },
     "metadata": {},
     "output_type": "display_data"
    },
    {
     "data": {
      "text/plain": [
       "2025-10-03 03:04:41,897 fedbiomed INFO - \u001b[1mTRAINING\u001b[0m \n",
       "\t\t\t\t\t NODE_ID: NODE_5fbd3836-38ce-4075-9c03-bdef6bd97579 \n",
       "\t\t\t\t\t Round 4 Epoch: 10 | Iteration: 40/80 (50%) | Samples: 1280/2560\n",
       " \t\t\t\t\t Loss: \u001b[1m0.000000\u001b[0m \n",
       "\t\t\t\t\t ---------"
      ]
     },
     "metadata": {},
     "output_type": "display_data"
    },
    {
     "data": {
      "text/plain": [
       "2025-10-03 03:04:41,908 fedbiomed INFO - \u001b[1mTRAINING\u001b[0m \n",
       "\t\t\t\t\t NODE_ID: NODE_9da4e82d-e30d-44c2-a481-b8a877e97f4d \n",
       "\t\t\t\t\t Round 4 Epoch: 9 | Iteration: 70/80 (88%) | Samples: 2240/2560\n",
       " \t\t\t\t\t Loss: \u001b[1m0.000000\u001b[0m \n",
       "\t\t\t\t\t ---------"
      ]
     },
     "metadata": {},
     "output_type": "display_data"
    },
    {
     "data": {
      "text/plain": [
       "2025-10-03 03:04:41,909 fedbiomed INFO - \u001b[1mTRAINING\u001b[0m \n",
       "\t\t\t\t\t NODE_ID: NODE_5fbd3836-38ce-4075-9c03-bdef6bd97579 \n",
       "\t\t\t\t\t Round 4 Epoch: 10 | Iteration: 50/80 (62%) | Samples: 1600/2560\n",
       " \t\t\t\t\t Loss: \u001b[1m0.000000\u001b[0m \n",
       "\t\t\t\t\t ---------"
      ]
     },
     "metadata": {},
     "output_type": "display_data"
    },
    {
     "data": {
      "text/plain": [
       "2025-10-03 03:04:41,922 fedbiomed INFO - \u001b[1mTRAINING\u001b[0m \n",
       "\t\t\t\t\t NODE_ID: NODE_5fbd3836-38ce-4075-9c03-bdef6bd97579 \n",
       "\t\t\t\t\t Round 4 Epoch: 10 | Iteration: 60/80 (75%) | Samples: 1920/2560\n",
       " \t\t\t\t\t Loss: \u001b[1m0.000000\u001b[0m \n",
       "\t\t\t\t\t ---------"
      ]
     },
     "metadata": {},
     "output_type": "display_data"
    },
    {
     "data": {
      "text/plain": [
       "2025-10-03 03:04:41,929 fedbiomed INFO - \u001b[1mTRAINING\u001b[0m \n",
       "\t\t\t\t\t NODE_ID: NODE_9da4e82d-e30d-44c2-a481-b8a877e97f4d \n",
       "\t\t\t\t\t Round 4 Epoch: 9 | Iteration: 80/80 (100%) | Samples: 2541/2541\n",
       " \t\t\t\t\t Loss: \u001b[1m0.000000\u001b[0m \n",
       "\t\t\t\t\t ---------"
      ]
     },
     "metadata": {},
     "output_type": "display_data"
    },
    {
     "data": {
      "text/plain": [
       "2025-10-03 03:04:41,933 fedbiomed INFO - \u001b[1mTRAINING\u001b[0m \n",
       "\t\t\t\t\t NODE_ID: NODE_9da4e82d-e30d-44c2-a481-b8a877e97f4d \n",
       "\t\t\t\t\t Round 4 Epoch: 10 | Iteration: 1/80 (1%) | Samples: 32/2560\n",
       " \t\t\t\t\t Loss: \u001b[1m0.000000\u001b[0m \n",
       "\t\t\t\t\t ---------"
      ]
     },
     "metadata": {},
     "output_type": "display_data"
    },
    {
     "data": {
      "text/plain": [
       "2025-10-03 03:04:41,941 fedbiomed INFO - \u001b[1mTRAINING\u001b[0m \n",
       "\t\t\t\t\t NODE_ID: NODE_5fbd3836-38ce-4075-9c03-bdef6bd97579 \n",
       "\t\t\t\t\t Round 4 Epoch: 10 | Iteration: 70/80 (88%) | Samples: 2240/2560\n",
       " \t\t\t\t\t Loss: \u001b[1m0.000000\u001b[0m \n",
       "\t\t\t\t\t ---------"
      ]
     },
     "metadata": {},
     "output_type": "display_data"
    },
    {
     "data": {
      "text/plain": [
       "2025-10-03 03:04:41,953 fedbiomed INFO - \u001b[1mTRAINING\u001b[0m \n",
       "\t\t\t\t\t NODE_ID: NODE_5fbd3836-38ce-4075-9c03-bdef6bd97579 \n",
       "\t\t\t\t\t Round 4 Epoch: 10 | Iteration: 80/80 (100%) | Samples: 2541/2541\n",
       " \t\t\t\t\t Loss: \u001b[1m0.000000\u001b[0m \n",
       "\t\t\t\t\t ---------"
      ]
     },
     "metadata": {},
     "output_type": "display_data"
    },
    {
     "data": {
      "text/plain": [
       "2025-10-03 03:04:41,955 fedbiomed INFO - \u001b[1mTRAINING\u001b[0m \n",
       "\t\t\t\t\t NODE_ID: NODE_9da4e82d-e30d-44c2-a481-b8a877e97f4d \n",
       "\t\t\t\t\t Round 4 Epoch: 10 | Iteration: 10/80 (12%) | Samples: 320/2560\n",
       " \t\t\t\t\t Loss: \u001b[1m0.000000\u001b[0m \n",
       "\t\t\t\t\t ---------"
      ]
     },
     "metadata": {},
     "output_type": "display_data"
    },
    {
     "data": {
      "text/plain": [
       "2025-10-03 03:04:41,961 fedbiomed INFO - \u001b[1mVALIDATION ON LOCAL UPDATES\u001b[0m \n",
       "\t\t\t\t\t NODE_ID: NODE_5fbd3836-38ce-4075-9c03-bdef6bd97579 \n",
       "\t\t\t\t\t Round 4 | Iteration: 1/1 (100%) | Samples: 635/635\n",
       " \t\t\t\t\t ACCURACY: \u001b[1m1.000000\u001b[0m \n",
       "\t\t\t\t\t ---------"
      ]
     },
     "metadata": {},
     "output_type": "display_data"
    },
    {
     "data": {
      "text/plain": [
       "2025-10-03 03:04:41,978 fedbiomed INFO - \u001b[1mTRAINING\u001b[0m \n",
       "\t\t\t\t\t NODE_ID: NODE_9da4e82d-e30d-44c2-a481-b8a877e97f4d \n",
       "\t\t\t\t\t Round 4 Epoch: 10 | Iteration: 20/80 (25%) | Samples: 640/2560\n",
       " \t\t\t\t\t Loss: \u001b[1m0.000000\u001b[0m \n",
       "\t\t\t\t\t ---------"
      ]
     },
     "metadata": {},
     "output_type": "display_data"
    },
    {
     "data": {
      "text/plain": [
       "2025-10-03 03:04:41,987 fedbiomed INFO - \u001b[1mTRAINING\u001b[0m \n",
       "\t\t\t\t\t NODE_ID: NODE_9da4e82d-e30d-44c2-a481-b8a877e97f4d \n",
       "\t\t\t\t\t Round 4 Epoch: 10 | Iteration: 30/80 (38%) | Samples: 960/2560\n",
       " \t\t\t\t\t Loss: \u001b[1m0.000000\u001b[0m \n",
       "\t\t\t\t\t ---------"
      ]
     },
     "metadata": {},
     "output_type": "display_data"
    },
    {
     "data": {
      "text/plain": [
       "2025-10-03 03:04:41,998 fedbiomed INFO - \u001b[1mTRAINING\u001b[0m \n",
       "\t\t\t\t\t NODE_ID: NODE_9da4e82d-e30d-44c2-a481-b8a877e97f4d \n",
       "\t\t\t\t\t Round 4 Epoch: 10 | Iteration: 40/80 (50%) | Samples: 1280/2560\n",
       " \t\t\t\t\t Loss: \u001b[1m0.000000\u001b[0m \n",
       "\t\t\t\t\t ---------"
      ]
     },
     "metadata": {},
     "output_type": "display_data"
    },
    {
     "data": {
      "text/plain": [
       "2025-10-03 03:04:42,006 fedbiomed INFO - \u001b[1mTRAINING\u001b[0m \n",
       "\t\t\t\t\t NODE_ID: NODE_9da4e82d-e30d-44c2-a481-b8a877e97f4d \n",
       "\t\t\t\t\t Round 4 Epoch: 10 | Iteration: 50/80 (62%) | Samples: 1600/2560\n",
       " \t\t\t\t\t Loss: \u001b[1m0.000000\u001b[0m \n",
       "\t\t\t\t\t ---------"
      ]
     },
     "metadata": {},
     "output_type": "display_data"
    },
    {
     "data": {
      "text/plain": [
       "2025-10-03 03:04:42,017 fedbiomed INFO - \u001b[1mTRAINING\u001b[0m \n",
       "\t\t\t\t\t NODE_ID: NODE_9da4e82d-e30d-44c2-a481-b8a877e97f4d \n",
       "\t\t\t\t\t Round 4 Epoch: 10 | Iteration: 60/80 (75%) | Samples: 1920/2560\n",
       " \t\t\t\t\t Loss: \u001b[1m0.000000\u001b[0m \n",
       "\t\t\t\t\t ---------"
      ]
     },
     "metadata": {},
     "output_type": "display_data"
    },
    {
     "data": {
      "text/plain": [
       "2025-10-03 03:04:42,024 fedbiomed INFO - \u001b[1mTRAINING\u001b[0m \n",
       "\t\t\t\t\t NODE_ID: NODE_9da4e82d-e30d-44c2-a481-b8a877e97f4d \n",
       "\t\t\t\t\t Round 4 Epoch: 10 | Iteration: 70/80 (88%) | Samples: 2240/2560\n",
       " \t\t\t\t\t Loss: \u001b[1m0.000000\u001b[0m \n",
       "\t\t\t\t\t ---------"
      ]
     },
     "metadata": {},
     "output_type": "display_data"
    },
    {
     "data": {
      "text/plain": [
       "2025-10-03 03:04:42,032 fedbiomed INFO - \u001b[1mTRAINING\u001b[0m \n",
       "\t\t\t\t\t NODE_ID: NODE_9da4e82d-e30d-44c2-a481-b8a877e97f4d \n",
       "\t\t\t\t\t Round 4 Epoch: 10 | Iteration: 80/80 (100%) | Samples: 2541/2541\n",
       " \t\t\t\t\t Loss: \u001b[1m0.000000\u001b[0m \n",
       "\t\t\t\t\t ---------"
      ]
     },
     "metadata": {},
     "output_type": "display_data"
    },
    {
     "data": {
      "text/plain": [
       "2025-10-03 03:04:42,041 fedbiomed INFO - \u001b[1mVALIDATION ON LOCAL UPDATES\u001b[0m \n",
       "\t\t\t\t\t NODE_ID: NODE_9da4e82d-e30d-44c2-a481-b8a877e97f4d \n",
       "\t\t\t\t\t Round 4 | Iteration: 1/1 (100%) | Samples: 635/635\n",
       " \t\t\t\t\t ACCURACY: \u001b[1m1.000000\u001b[0m \n",
       "\t\t\t\t\t ---------"
      ]
     },
     "metadata": {},
     "output_type": "display_data"
    },
    {
     "data": {
      "text/plain": [
       "2025-10-03 03:04:42,437 fedbiomed INFO - Nodes that successfully reply in round 3 ['NODE_9da4e82d-e30d-44c2-a481-b8a877e97f4d', 'NODE_5fbd3836-38ce-4075-9c03-bdef6bd97579']"
      ]
     },
     "metadata": {},
     "output_type": "display_data"
    },
    {
     "data": {
      "text/plain": [
       "2025-10-03 03:04:42,439 fedbiomed INFO - Sampled nodes in round 4 ['NODE_9da4e82d-e30d-44c2-a481-b8a877e97f4d', 'NODE_5fbd3836-38ce-4075-9c03-bdef6bd97579']"
      ]
     },
     "metadata": {},
     "output_type": "display_data"
    },
    {
     "name": "stdout",
     "output_type": "stream",
     "text": [
      "<function extract_symbols at 0x7f19a038bac0>\n"
     ]
    },
    {
     "data": {
      "text/plain": [
       "2025-10-03 03:04:42,441 fedbiomed INFO - \u001b[1mSending request\u001b[0m \n",
       "\t\t\t\t\t\u001b[1m To\u001b[0m: NODE_9da4e82d-e30d-44c2-a481-b8a877e97f4d \n",
       "\t\t\t\t\t\u001b[1m Request: \u001b[0m: TRAIN\n",
       " -----------------------------------------------------------------"
      ]
     },
     "metadata": {},
     "output_type": "display_data"
    },
    {
     "data": {
      "text/plain": [
       "2025-10-03 03:04:42,442 fedbiomed INFO - \u001b[1mSending request\u001b[0m \n",
       "\t\t\t\t\t\u001b[1m To\u001b[0m: NODE_5fbd3836-38ce-4075-9c03-bdef6bd97579 \n",
       "\t\t\t\t\t\u001b[1m Request: \u001b[0m: TRAIN\n",
       " -----------------------------------------------------------------"
      ]
     },
     "metadata": {},
     "output_type": "display_data"
    },
    {
     "data": {
      "text/plain": [
       "2025-10-03 03:04:42,452 fedbiomed DEBUG - Node: NODE_9da4e82d-e30d-44c2-a481-b8a877e97f4d polling for the tasks"
      ]
     },
     "metadata": {},
     "output_type": "display_data"
    },
    {
     "data": {
      "text/plain": [
       "2025-10-03 03:04:42,454 fedbiomed DEBUG - Node: NODE_5fbd3836-38ce-4075-9c03-bdef6bd97579 polling for the tasks"
      ]
     },
     "metadata": {},
     "output_type": "display_data"
    },
    {
     "data": {
      "text/plain": [
       "2025-10-03 03:04:42,772 fedbiomed INFO - \u001b[1mVALIDATION ON GLOBAL UPDATES\u001b[0m \n",
       "\t\t\t\t\t NODE_ID: NODE_5fbd3836-38ce-4075-9c03-bdef6bd97579 \n",
       "\t\t\t\t\t Round 5 | Iteration: 1/1 (100%) | Samples: 635/635\n",
       " \t\t\t\t\t ACCURACY: \u001b[1m1.000000\u001b[0m \n",
       "\t\t\t\t\t ---------"
      ]
     },
     "metadata": {},
     "output_type": "display_data"
    },
    {
     "data": {
      "text/plain": [
       "2025-10-03 03:04:42,776 fedbiomed INFO - \u001b[1mTRAINING\u001b[0m \n",
       "\t\t\t\t\t NODE_ID: NODE_5fbd3836-38ce-4075-9c03-bdef6bd97579 \n",
       "\t\t\t\t\t Round 5 Epoch: 1 | Iteration: 1/80 (1%) | Samples: 32/2560\n",
       " \t\t\t\t\t Loss: \u001b[1m0.000000\u001b[0m \n",
       "\t\t\t\t\t ---------"
      ]
     },
     "metadata": {},
     "output_type": "display_data"
    },
    {
     "data": {
      "text/plain": [
       "2025-10-03 03:04:42,785 fedbiomed INFO - \u001b[1mTRAINING\u001b[0m \n",
       "\t\t\t\t\t NODE_ID: NODE_5fbd3836-38ce-4075-9c03-bdef6bd97579 \n",
       "\t\t\t\t\t Round 5 Epoch: 1 | Iteration: 10/80 (12%) | Samples: 320/2560\n",
       " \t\t\t\t\t Loss: \u001b[1m0.000000\u001b[0m \n",
       "\t\t\t\t\t ---------"
      ]
     },
     "metadata": {},
     "output_type": "display_data"
    },
    {
     "data": {
      "text/plain": [
       "2025-10-03 03:04:42,797 fedbiomed INFO - \u001b[1mTRAINING\u001b[0m \n",
       "\t\t\t\t\t NODE_ID: NODE_5fbd3836-38ce-4075-9c03-bdef6bd97579 \n",
       "\t\t\t\t\t Round 5 Epoch: 1 | Iteration: 20/80 (25%) | Samples: 640/2560\n",
       " \t\t\t\t\t Loss: \u001b[1m0.000000\u001b[0m \n",
       "\t\t\t\t\t ---------"
      ]
     },
     "metadata": {},
     "output_type": "display_data"
    },
    {
     "data": {
      "text/plain": [
       "2025-10-03 03:04:42,818 fedbiomed INFO - \u001b[1mTRAINING\u001b[0m \n",
       "\t\t\t\t\t NODE_ID: NODE_5fbd3836-38ce-4075-9c03-bdef6bd97579 \n",
       "\t\t\t\t\t Round 5 Epoch: 1 | Iteration: 30/80 (38%) | Samples: 960/2560\n",
       " \t\t\t\t\t Loss: \u001b[1m0.000000\u001b[0m \n",
       "\t\t\t\t\t ---------"
      ]
     },
     "metadata": {},
     "output_type": "display_data"
    },
    {
     "data": {
      "text/plain": [
       "2025-10-03 03:04:42,829 fedbiomed INFO - \u001b[1mTRAINING\u001b[0m \n",
       "\t\t\t\t\t NODE_ID: NODE_5fbd3836-38ce-4075-9c03-bdef6bd97579 \n",
       "\t\t\t\t\t Round 5 Epoch: 1 | Iteration: 40/80 (50%) | Samples: 1280/2560\n",
       " \t\t\t\t\t Loss: \u001b[1m0.000000\u001b[0m \n",
       "\t\t\t\t\t ---------"
      ]
     },
     "metadata": {},
     "output_type": "display_data"
    },
    {
     "data": {
      "text/plain": [
       "2025-10-03 03:04:42,842 fedbiomed INFO - \u001b[1mTRAINING\u001b[0m \n",
       "\t\t\t\t\t NODE_ID: NODE_5fbd3836-38ce-4075-9c03-bdef6bd97579 \n",
       "\t\t\t\t\t Round 5 Epoch: 1 | Iteration: 50/80 (62%) | Samples: 1600/2560\n",
       " \t\t\t\t\t Loss: \u001b[1m0.000000\u001b[0m \n",
       "\t\t\t\t\t ---------"
      ]
     },
     "metadata": {},
     "output_type": "display_data"
    },
    {
     "data": {
      "text/plain": [
       "2025-10-03 03:04:42,885 fedbiomed INFO - \u001b[1mTRAINING\u001b[0m \n",
       "\t\t\t\t\t NODE_ID: NODE_5fbd3836-38ce-4075-9c03-bdef6bd97579 \n",
       "\t\t\t\t\t Round 5 Epoch: 1 | Iteration: 60/80 (75%) | Samples: 1920/2560\n",
       " \t\t\t\t\t Loss: \u001b[1m0.000000\u001b[0m \n",
       "\t\t\t\t\t ---------"
      ]
     },
     "metadata": {},
     "output_type": "display_data"
    },
    {
     "data": {
      "text/plain": [
       "2025-10-03 03:04:42,886 fedbiomed INFO - \u001b[1mVALIDATION ON GLOBAL UPDATES\u001b[0m \n",
       "\t\t\t\t\t NODE_ID: NODE_9da4e82d-e30d-44c2-a481-b8a877e97f4d \n",
       "\t\t\t\t\t Round 5 | Iteration: 1/1 (100%) | Samples: 635/635\n",
       " \t\t\t\t\t ACCURACY: \u001b[1m1.000000\u001b[0m \n",
       "\t\t\t\t\t ---------"
      ]
     },
     "metadata": {},
     "output_type": "display_data"
    },
    {
     "data": {
      "text/plain": [
       "2025-10-03 03:04:42,888 fedbiomed INFO - \u001b[1mTRAINING\u001b[0m \n",
       "\t\t\t\t\t NODE_ID: NODE_5fbd3836-38ce-4075-9c03-bdef6bd97579 \n",
       "\t\t\t\t\t Round 5 Epoch: 1 | Iteration: 70/80 (88%) | Samples: 2240/2560\n",
       " \t\t\t\t\t Loss: \u001b[1m0.000000\u001b[0m \n",
       "\t\t\t\t\t ---------"
      ]
     },
     "metadata": {},
     "output_type": "display_data"
    },
    {
     "data": {
      "text/plain": [
       "2025-10-03 03:04:42,890 fedbiomed INFO - \u001b[1mTRAINING\u001b[0m \n",
       "\t\t\t\t\t NODE_ID: NODE_9da4e82d-e30d-44c2-a481-b8a877e97f4d \n",
       "\t\t\t\t\t Round 5 Epoch: 1 | Iteration: 1/80 (1%) | Samples: 32/2560\n",
       " \t\t\t\t\t Loss: \u001b[1m0.000000\u001b[0m \n",
       "\t\t\t\t\t ---------"
      ]
     },
     "metadata": {},
     "output_type": "display_data"
    },
    {
     "data": {
      "text/plain": [
       "2025-10-03 03:04:42,892 fedbiomed INFO - \u001b[1mTRAINING\u001b[0m \n",
       "\t\t\t\t\t NODE_ID: NODE_5fbd3836-38ce-4075-9c03-bdef6bd97579 \n",
       "\t\t\t\t\t Round 5 Epoch: 1 | Iteration: 80/80 (100%) | Samples: 2541/2541\n",
       " \t\t\t\t\t Loss: \u001b[1m0.000000\u001b[0m \n",
       "\t\t\t\t\t ---------"
      ]
     },
     "metadata": {},
     "output_type": "display_data"
    },
    {
     "data": {
      "text/plain": [
       "2025-10-03 03:04:42,897 fedbiomed INFO - \u001b[1mTRAINING\u001b[0m \n",
       "\t\t\t\t\t NODE_ID: NODE_9da4e82d-e30d-44c2-a481-b8a877e97f4d \n",
       "\t\t\t\t\t Round 5 Epoch: 1 | Iteration: 10/80 (12%) | Samples: 320/2560\n",
       " \t\t\t\t\t Loss: \u001b[1m0.000000\u001b[0m \n",
       "\t\t\t\t\t ---------"
      ]
     },
     "metadata": {},
     "output_type": "display_data"
    },
    {
     "data": {
      "text/plain": [
       "2025-10-03 03:04:42,899 fedbiomed INFO - \u001b[1mTRAINING\u001b[0m \n",
       "\t\t\t\t\t NODE_ID: NODE_5fbd3836-38ce-4075-9c03-bdef6bd97579 \n",
       "\t\t\t\t\t Round 5 Epoch: 2 | Iteration: 1/80 (1%) | Samples: 32/2560\n",
       " \t\t\t\t\t Loss: \u001b[1m0.000000\u001b[0m \n",
       "\t\t\t\t\t ---------"
      ]
     },
     "metadata": {},
     "output_type": "display_data"
    },
    {
     "data": {
      "text/plain": [
       "2025-10-03 03:04:42,907 fedbiomed INFO - \u001b[1mTRAINING\u001b[0m \n",
       "\t\t\t\t\t NODE_ID: NODE_9da4e82d-e30d-44c2-a481-b8a877e97f4d \n",
       "\t\t\t\t\t Round 5 Epoch: 1 | Iteration: 20/80 (25%) | Samples: 640/2560\n",
       " \t\t\t\t\t Loss: \u001b[1m0.000000\u001b[0m \n",
       "\t\t\t\t\t ---------"
      ]
     },
     "metadata": {},
     "output_type": "display_data"
    },
    {
     "data": {
      "text/plain": [
       "2025-10-03 03:04:42,909 fedbiomed INFO - \u001b[1mTRAINING\u001b[0m \n",
       "\t\t\t\t\t NODE_ID: NODE_5fbd3836-38ce-4075-9c03-bdef6bd97579 \n",
       "\t\t\t\t\t Round 5 Epoch: 2 | Iteration: 10/80 (12%) | Samples: 320/2560\n",
       " \t\t\t\t\t Loss: \u001b[1m0.000000\u001b[0m \n",
       "\t\t\t\t\t ---------"
      ]
     },
     "metadata": {},
     "output_type": "display_data"
    },
    {
     "data": {
      "text/plain": [
       "2025-10-03 03:04:42,927 fedbiomed INFO - \u001b[1mTRAINING\u001b[0m \n",
       "\t\t\t\t\t NODE_ID: NODE_9da4e82d-e30d-44c2-a481-b8a877e97f4d \n",
       "\t\t\t\t\t Round 5 Epoch: 1 | Iteration: 30/80 (38%) | Samples: 960/2560\n",
       " \t\t\t\t\t Loss: \u001b[1m0.000000\u001b[0m \n",
       "\t\t\t\t\t ---------"
      ]
     },
     "metadata": {},
     "output_type": "display_data"
    },
    {
     "data": {
      "text/plain": [
       "2025-10-03 03:04:42,929 fedbiomed INFO - \u001b[1mTRAINING\u001b[0m \n",
       "\t\t\t\t\t NODE_ID: NODE_5fbd3836-38ce-4075-9c03-bdef6bd97579 \n",
       "\t\t\t\t\t Round 5 Epoch: 2 | Iteration: 20/80 (25%) | Samples: 640/2560\n",
       " \t\t\t\t\t Loss: \u001b[1m0.000000\u001b[0m \n",
       "\t\t\t\t\t ---------"
      ]
     },
     "metadata": {},
     "output_type": "display_data"
    },
    {
     "data": {
      "text/plain": [
       "2025-10-03 03:04:42,944 fedbiomed INFO - \u001b[1mTRAINING\u001b[0m \n",
       "\t\t\t\t\t NODE_ID: NODE_9da4e82d-e30d-44c2-a481-b8a877e97f4d \n",
       "\t\t\t\t\t Round 5 Epoch: 1 | Iteration: 40/80 (50%) | Samples: 1280/2560\n",
       " \t\t\t\t\t Loss: \u001b[1m0.000000\u001b[0m \n",
       "\t\t\t\t\t ---------"
      ]
     },
     "metadata": {},
     "output_type": "display_data"
    },
    {
     "data": {
      "text/plain": [
       "2025-10-03 03:04:42,955 fedbiomed INFO - \u001b[1mTRAINING\u001b[0m \n",
       "\t\t\t\t\t NODE_ID: NODE_5fbd3836-38ce-4075-9c03-bdef6bd97579 \n",
       "\t\t\t\t\t Round 5 Epoch: 2 | Iteration: 30/80 (38%) | Samples: 960/2560\n",
       " \t\t\t\t\t Loss: \u001b[1m0.000000\u001b[0m \n",
       "\t\t\t\t\t ---------"
      ]
     },
     "metadata": {},
     "output_type": "display_data"
    },
    {
     "data": {
      "text/plain": [
       "2025-10-03 03:04:42,970 fedbiomed INFO - \u001b[1mTRAINING\u001b[0m \n",
       "\t\t\t\t\t NODE_ID: NODE_9da4e82d-e30d-44c2-a481-b8a877e97f4d \n",
       "\t\t\t\t\t Round 5 Epoch: 1 | Iteration: 50/80 (62%) | Samples: 1600/2560\n",
       " \t\t\t\t\t Loss: \u001b[1m0.000000\u001b[0m \n",
       "\t\t\t\t\t ---------"
      ]
     },
     "metadata": {},
     "output_type": "display_data"
    },
    {
     "data": {
      "text/plain": [
       "2025-10-03 03:04:42,975 fedbiomed INFO - \u001b[1mTRAINING\u001b[0m \n",
       "\t\t\t\t\t NODE_ID: NODE_5fbd3836-38ce-4075-9c03-bdef6bd97579 \n",
       "\t\t\t\t\t Round 5 Epoch: 2 | Iteration: 40/80 (50%) | Samples: 1280/2560\n",
       " \t\t\t\t\t Loss: \u001b[1m0.000000\u001b[0m \n",
       "\t\t\t\t\t ---------"
      ]
     },
     "metadata": {},
     "output_type": "display_data"
    },
    {
     "data": {
      "text/plain": [
       "2025-10-03 03:04:42,986 fedbiomed INFO - \u001b[1mTRAINING\u001b[0m \n",
       "\t\t\t\t\t NODE_ID: NODE_9da4e82d-e30d-44c2-a481-b8a877e97f4d \n",
       "\t\t\t\t\t Round 5 Epoch: 1 | Iteration: 60/80 (75%) | Samples: 1920/2560\n",
       " \t\t\t\t\t Loss: \u001b[1m0.000000\u001b[0m \n",
       "\t\t\t\t\t ---------"
      ]
     },
     "metadata": {},
     "output_type": "display_data"
    },
    {
     "data": {
      "text/plain": [
       "2025-10-03 03:04:42,999 fedbiomed INFO - \u001b[1mTRAINING\u001b[0m \n",
       "\t\t\t\t\t NODE_ID: NODE_9da4e82d-e30d-44c2-a481-b8a877e97f4d \n",
       "\t\t\t\t\t Round 5 Epoch: 1 | Iteration: 70/80 (88%) | Samples: 2240/2560\n",
       " \t\t\t\t\t Loss: \u001b[1m0.000000\u001b[0m \n",
       "\t\t\t\t\t ---------"
      ]
     },
     "metadata": {},
     "output_type": "display_data"
    },
    {
     "data": {
      "text/plain": [
       "2025-10-03 03:04:43,001 fedbiomed INFO - \u001b[1mTRAINING\u001b[0m \n",
       "\t\t\t\t\t NODE_ID: NODE_5fbd3836-38ce-4075-9c03-bdef6bd97579 \n",
       "\t\t\t\t\t Round 5 Epoch: 2 | Iteration: 50/80 (62%) | Samples: 1600/2560\n",
       " \t\t\t\t\t Loss: \u001b[1m0.000000\u001b[0m \n",
       "\t\t\t\t\t ---------"
      ]
     },
     "metadata": {},
     "output_type": "display_data"
    },
    {
     "data": {
      "text/plain": [
       "2025-10-03 03:04:43,011 fedbiomed INFO - \u001b[1mTRAINING\u001b[0m \n",
       "\t\t\t\t\t NODE_ID: NODE_9da4e82d-e30d-44c2-a481-b8a877e97f4d \n",
       "\t\t\t\t\t Round 5 Epoch: 1 | Iteration: 80/80 (100%) | Samples: 2541/2541\n",
       " \t\t\t\t\t Loss: \u001b[1m0.000000\u001b[0m \n",
       "\t\t\t\t\t ---------"
      ]
     },
     "metadata": {},
     "output_type": "display_data"
    },
    {
     "data": {
      "text/plain": [
       "2025-10-03 03:04:43,013 fedbiomed INFO - \u001b[1mTRAINING\u001b[0m \n",
       "\t\t\t\t\t NODE_ID: NODE_9da4e82d-e30d-44c2-a481-b8a877e97f4d \n",
       "\t\t\t\t\t Round 5 Epoch: 2 | Iteration: 1/80 (1%) | Samples: 32/2560\n",
       " \t\t\t\t\t Loss: \u001b[1m0.000000\u001b[0m \n",
       "\t\t\t\t\t ---------"
      ]
     },
     "metadata": {},
     "output_type": "display_data"
    },
    {
     "data": {
      "text/plain": [
       "2025-10-03 03:04:43,026 fedbiomed INFO - \u001b[1mTRAINING\u001b[0m \n",
       "\t\t\t\t\t NODE_ID: NODE_5fbd3836-38ce-4075-9c03-bdef6bd97579 \n",
       "\t\t\t\t\t Round 5 Epoch: 2 | Iteration: 60/80 (75%) | Samples: 1920/2560\n",
       " \t\t\t\t\t Loss: \u001b[1m0.000000\u001b[0m \n",
       "\t\t\t\t\t ---------"
      ]
     },
     "metadata": {},
     "output_type": "display_data"
    },
    {
     "data": {
      "text/plain": [
       "2025-10-03 03:04:43,027 fedbiomed INFO - \u001b[1mTRAINING\u001b[0m \n",
       "\t\t\t\t\t NODE_ID: NODE_9da4e82d-e30d-44c2-a481-b8a877e97f4d \n",
       "\t\t\t\t\t Round 5 Epoch: 2 | Iteration: 10/80 (12%) | Samples: 320/2560\n",
       " \t\t\t\t\t Loss: \u001b[1m0.000000\u001b[0m \n",
       "\t\t\t\t\t ---------"
      ]
     },
     "metadata": {},
     "output_type": "display_data"
    },
    {
     "data": {
      "text/plain": [
       "2025-10-03 03:04:43,038 fedbiomed INFO - \u001b[1mTRAINING\u001b[0m \n",
       "\t\t\t\t\t NODE_ID: NODE_9da4e82d-e30d-44c2-a481-b8a877e97f4d \n",
       "\t\t\t\t\t Round 5 Epoch: 2 | Iteration: 20/80 (25%) | Samples: 640/2560\n",
       " \t\t\t\t\t Loss: \u001b[1m0.000000\u001b[0m \n",
       "\t\t\t\t\t ---------"
      ]
     },
     "metadata": {},
     "output_type": "display_data"
    },
    {
     "data": {
      "text/plain": [
       "2025-10-03 03:04:43,051 fedbiomed INFO - \u001b[1mTRAINING\u001b[0m \n",
       "\t\t\t\t\t NODE_ID: NODE_9da4e82d-e30d-44c2-a481-b8a877e97f4d \n",
       "\t\t\t\t\t Round 5 Epoch: 2 | Iteration: 30/80 (38%) | Samples: 960/2560\n",
       " \t\t\t\t\t Loss: \u001b[1m0.000000\u001b[0m \n",
       "\t\t\t\t\t ---------"
      ]
     },
     "metadata": {},
     "output_type": "display_data"
    },
    {
     "data": {
      "text/plain": [
       "2025-10-03 03:04:43,056 fedbiomed INFO - \u001b[1mTRAINING\u001b[0m \n",
       "\t\t\t\t\t NODE_ID: NODE_5fbd3836-38ce-4075-9c03-bdef6bd97579 \n",
       "\t\t\t\t\t Round 5 Epoch: 2 | Iteration: 70/80 (88%) | Samples: 2240/2560\n",
       " \t\t\t\t\t Loss: \u001b[1m0.000000\u001b[0m \n",
       "\t\t\t\t\t ---------"
      ]
     },
     "metadata": {},
     "output_type": "display_data"
    },
    {
     "data": {
      "text/plain": [
       "2025-10-03 03:04:43,065 fedbiomed INFO - \u001b[1mTRAINING\u001b[0m \n",
       "\t\t\t\t\t NODE_ID: NODE_9da4e82d-e30d-44c2-a481-b8a877e97f4d \n",
       "\t\t\t\t\t Round 5 Epoch: 2 | Iteration: 40/80 (50%) | Samples: 1280/2560\n",
       " \t\t\t\t\t Loss: \u001b[1m0.000000\u001b[0m \n",
       "\t\t\t\t\t ---------"
      ]
     },
     "metadata": {},
     "output_type": "display_data"
    },
    {
     "data": {
      "text/plain": [
       "2025-10-03 03:04:43,078 fedbiomed INFO - \u001b[1mTRAINING\u001b[0m \n",
       "\t\t\t\t\t NODE_ID: NODE_5fbd3836-38ce-4075-9c03-bdef6bd97579 \n",
       "\t\t\t\t\t Round 5 Epoch: 2 | Iteration: 80/80 (100%) | Samples: 2541/2541\n",
       " \t\t\t\t\t Loss: \u001b[1m0.000000\u001b[0m \n",
       "\t\t\t\t\t ---------"
      ]
     },
     "metadata": {},
     "output_type": "display_data"
    },
    {
     "data": {
      "text/plain": [
       "2025-10-03 03:04:43,080 fedbiomed INFO - \u001b[1mTRAINING\u001b[0m \n",
       "\t\t\t\t\t NODE_ID: NODE_9da4e82d-e30d-44c2-a481-b8a877e97f4d \n",
       "\t\t\t\t\t Round 5 Epoch: 2 | Iteration: 50/80 (62%) | Samples: 1600/2560\n",
       " \t\t\t\t\t Loss: \u001b[1m0.000000\u001b[0m \n",
       "\t\t\t\t\t ---------"
      ]
     },
     "metadata": {},
     "output_type": "display_data"
    },
    {
     "data": {
      "text/plain": [
       "2025-10-03 03:04:43,084 fedbiomed INFO - \u001b[1mTRAINING\u001b[0m \n",
       "\t\t\t\t\t NODE_ID: NODE_5fbd3836-38ce-4075-9c03-bdef6bd97579 \n",
       "\t\t\t\t\t Round 5 Epoch: 3 | Iteration: 1/80 (1%) | Samples: 32/2560\n",
       " \t\t\t\t\t Loss: \u001b[1m0.000000\u001b[0m \n",
       "\t\t\t\t\t ---------"
      ]
     },
     "metadata": {},
     "output_type": "display_data"
    },
    {
     "data": {
      "text/plain": [
       "2025-10-03 03:04:43,091 fedbiomed INFO - \u001b[1mTRAINING\u001b[0m \n",
       "\t\t\t\t\t NODE_ID: NODE_9da4e82d-e30d-44c2-a481-b8a877e97f4d \n",
       "\t\t\t\t\t Round 5 Epoch: 2 | Iteration: 60/80 (75%) | Samples: 1920/2560\n",
       " \t\t\t\t\t Loss: \u001b[1m0.000000\u001b[0m \n",
       "\t\t\t\t\t ---------"
      ]
     },
     "metadata": {},
     "output_type": "display_data"
    },
    {
     "data": {
      "text/plain": [
       "2025-10-03 03:04:43,106 fedbiomed INFO - \u001b[1mTRAINING\u001b[0m \n",
       "\t\t\t\t\t NODE_ID: NODE_9da4e82d-e30d-44c2-a481-b8a877e97f4d \n",
       "\t\t\t\t\t Round 5 Epoch: 2 | Iteration: 70/80 (88%) | Samples: 2240/2560\n",
       " \t\t\t\t\t Loss: \u001b[1m0.000000\u001b[0m \n",
       "\t\t\t\t\t ---------"
      ]
     },
     "metadata": {},
     "output_type": "display_data"
    },
    {
     "data": {
      "text/plain": [
       "2025-10-03 03:04:43,112 fedbiomed INFO - \u001b[1mTRAINING\u001b[0m \n",
       "\t\t\t\t\t NODE_ID: NODE_5fbd3836-38ce-4075-9c03-bdef6bd97579 \n",
       "\t\t\t\t\t Round 5 Epoch: 3 | Iteration: 10/80 (12%) | Samples: 320/2560\n",
       " \t\t\t\t\t Loss: \u001b[1m0.000000\u001b[0m \n",
       "\t\t\t\t\t ---------"
      ]
     },
     "metadata": {},
     "output_type": "display_data"
    },
    {
     "data": {
      "text/plain": [
       "2025-10-03 03:04:43,121 fedbiomed INFO - \u001b[1mTRAINING\u001b[0m \n",
       "\t\t\t\t\t NODE_ID: NODE_9da4e82d-e30d-44c2-a481-b8a877e97f4d \n",
       "\t\t\t\t\t Round 5 Epoch: 2 | Iteration: 80/80 (100%) | Samples: 2541/2541\n",
       " \t\t\t\t\t Loss: \u001b[1m0.000000\u001b[0m \n",
       "\t\t\t\t\t ---------"
      ]
     },
     "metadata": {},
     "output_type": "display_data"
    },
    {
     "data": {
      "text/plain": [
       "2025-10-03 03:04:43,123 fedbiomed INFO - \u001b[1mTRAINING\u001b[0m \n",
       "\t\t\t\t\t NODE_ID: NODE_9da4e82d-e30d-44c2-a481-b8a877e97f4d \n",
       "\t\t\t\t\t Round 5 Epoch: 3 | Iteration: 1/80 (1%) | Samples: 32/2560\n",
       " \t\t\t\t\t Loss: \u001b[1m0.000000\u001b[0m \n",
       "\t\t\t\t\t ---------"
      ]
     },
     "metadata": {},
     "output_type": "display_data"
    },
    {
     "data": {
      "text/plain": [
       "2025-10-03 03:04:43,133 fedbiomed INFO - \u001b[1mTRAINING\u001b[0m \n",
       "\t\t\t\t\t NODE_ID: NODE_9da4e82d-e30d-44c2-a481-b8a877e97f4d \n",
       "\t\t\t\t\t Round 5 Epoch: 3 | Iteration: 10/80 (12%) | Samples: 320/2560\n",
       " \t\t\t\t\t Loss: \u001b[1m0.000000\u001b[0m \n",
       "\t\t\t\t\t ---------"
      ]
     },
     "metadata": {},
     "output_type": "display_data"
    },
    {
     "data": {
      "text/plain": [
       "2025-10-03 03:04:43,141 fedbiomed INFO - \u001b[1mTRAINING\u001b[0m \n",
       "\t\t\t\t\t NODE_ID: NODE_5fbd3836-38ce-4075-9c03-bdef6bd97579 \n",
       "\t\t\t\t\t Round 5 Epoch: 3 | Iteration: 20/80 (25%) | Samples: 640/2560\n",
       " \t\t\t\t\t Loss: \u001b[1m0.000000\u001b[0m \n",
       "\t\t\t\t\t ---------"
      ]
     },
     "metadata": {},
     "output_type": "display_data"
    },
    {
     "data": {
      "text/plain": [
       "2025-10-03 03:04:43,154 fedbiomed INFO - \u001b[1mTRAINING\u001b[0m \n",
       "\t\t\t\t\t NODE_ID: NODE_9da4e82d-e30d-44c2-a481-b8a877e97f4d \n",
       "\t\t\t\t\t Round 5 Epoch: 3 | Iteration: 20/80 (25%) | Samples: 640/2560\n",
       " \t\t\t\t\t Loss: \u001b[1m0.000000\u001b[0m \n",
       "\t\t\t\t\t ---------"
      ]
     },
     "metadata": {},
     "output_type": "display_data"
    },
    {
     "data": {
      "text/plain": [
       "2025-10-03 03:04:43,162 fedbiomed INFO - \u001b[1mTRAINING\u001b[0m \n",
       "\t\t\t\t\t NODE_ID: NODE_5fbd3836-38ce-4075-9c03-bdef6bd97579 \n",
       "\t\t\t\t\t Round 5 Epoch: 3 | Iteration: 30/80 (38%) | Samples: 960/2560\n",
       " \t\t\t\t\t Loss: \u001b[1m0.000000\u001b[0m \n",
       "\t\t\t\t\t ---------"
      ]
     },
     "metadata": {},
     "output_type": "display_data"
    },
    {
     "data": {
      "text/plain": [
       "2025-10-03 03:04:43,169 fedbiomed INFO - \u001b[1mTRAINING\u001b[0m \n",
       "\t\t\t\t\t NODE_ID: NODE_9da4e82d-e30d-44c2-a481-b8a877e97f4d \n",
       "\t\t\t\t\t Round 5 Epoch: 3 | Iteration: 30/80 (38%) | Samples: 960/2560\n",
       " \t\t\t\t\t Loss: \u001b[1m0.000000\u001b[0m \n",
       "\t\t\t\t\t ---------"
      ]
     },
     "metadata": {},
     "output_type": "display_data"
    },
    {
     "data": {
      "text/plain": [
       "2025-10-03 03:04:43,184 fedbiomed INFO - \u001b[1mTRAINING\u001b[0m \n",
       "\t\t\t\t\t NODE_ID: NODE_9da4e82d-e30d-44c2-a481-b8a877e97f4d \n",
       "\t\t\t\t\t Round 5 Epoch: 3 | Iteration: 40/80 (50%) | Samples: 1280/2560\n",
       " \t\t\t\t\t Loss: \u001b[1m0.000000\u001b[0m \n",
       "\t\t\t\t\t ---------"
      ]
     },
     "metadata": {},
     "output_type": "display_data"
    },
    {
     "data": {
      "text/plain": [
       "2025-10-03 03:04:43,186 fedbiomed INFO - \u001b[1mTRAINING\u001b[0m \n",
       "\t\t\t\t\t NODE_ID: NODE_5fbd3836-38ce-4075-9c03-bdef6bd97579 \n",
       "\t\t\t\t\t Round 5 Epoch: 3 | Iteration: 40/80 (50%) | Samples: 1280/2560\n",
       " \t\t\t\t\t Loss: \u001b[1m0.000000\u001b[0m \n",
       "\t\t\t\t\t ---------"
      ]
     },
     "metadata": {},
     "output_type": "display_data"
    },
    {
     "data": {
      "text/plain": [
       "2025-10-03 03:04:43,203 fedbiomed INFO - \u001b[1mTRAINING\u001b[0m \n",
       "\t\t\t\t\t NODE_ID: NODE_9da4e82d-e30d-44c2-a481-b8a877e97f4d \n",
       "\t\t\t\t\t Round 5 Epoch: 3 | Iteration: 50/80 (62%) | Samples: 1600/2560\n",
       " \t\t\t\t\t Loss: \u001b[1m0.000000\u001b[0m \n",
       "\t\t\t\t\t ---------"
      ]
     },
     "metadata": {},
     "output_type": "display_data"
    },
    {
     "data": {
      "text/plain": [
       "2025-10-03 03:04:43,206 fedbiomed INFO - \u001b[1mTRAINING\u001b[0m \n",
       "\t\t\t\t\t NODE_ID: NODE_5fbd3836-38ce-4075-9c03-bdef6bd97579 \n",
       "\t\t\t\t\t Round 5 Epoch: 3 | Iteration: 50/80 (62%) | Samples: 1600/2560\n",
       " \t\t\t\t\t Loss: \u001b[1m0.000000\u001b[0m \n",
       "\t\t\t\t\t ---------"
      ]
     },
     "metadata": {},
     "output_type": "display_data"
    },
    {
     "data": {
      "text/plain": [
       "2025-10-03 03:04:43,226 fedbiomed INFO - \u001b[1mTRAINING\u001b[0m \n",
       "\t\t\t\t\t NODE_ID: NODE_9da4e82d-e30d-44c2-a481-b8a877e97f4d \n",
       "\t\t\t\t\t Round 5 Epoch: 3 | Iteration: 60/80 (75%) | Samples: 1920/2560\n",
       " \t\t\t\t\t Loss: \u001b[1m0.000000\u001b[0m \n",
       "\t\t\t\t\t ---------"
      ]
     },
     "metadata": {},
     "output_type": "display_data"
    },
    {
     "data": {
      "text/plain": [
       "2025-10-03 03:04:43,228 fedbiomed INFO - \u001b[1mTRAINING\u001b[0m \n",
       "\t\t\t\t\t NODE_ID: NODE_5fbd3836-38ce-4075-9c03-bdef6bd97579 \n",
       "\t\t\t\t\t Round 5 Epoch: 3 | Iteration: 60/80 (75%) | Samples: 1920/2560\n",
       " \t\t\t\t\t Loss: \u001b[1m0.000000\u001b[0m \n",
       "\t\t\t\t\t ---------"
      ]
     },
     "metadata": {},
     "output_type": "display_data"
    },
    {
     "data": {
      "text/plain": [
       "2025-10-03 03:04:43,245 fedbiomed INFO - \u001b[1mTRAINING\u001b[0m \n",
       "\t\t\t\t\t NODE_ID: NODE_5fbd3836-38ce-4075-9c03-bdef6bd97579 \n",
       "\t\t\t\t\t Round 5 Epoch: 3 | Iteration: 70/80 (88%) | Samples: 2240/2560\n",
       " \t\t\t\t\t Loss: \u001b[1m0.000000\u001b[0m \n",
       "\t\t\t\t\t ---------"
      ]
     },
     "metadata": {},
     "output_type": "display_data"
    },
    {
     "data": {
      "text/plain": [
       "2025-10-03 03:04:43,250 fedbiomed INFO - \u001b[1mTRAINING\u001b[0m \n",
       "\t\t\t\t\t NODE_ID: NODE_9da4e82d-e30d-44c2-a481-b8a877e97f4d \n",
       "\t\t\t\t\t Round 5 Epoch: 3 | Iteration: 70/80 (88%) | Samples: 2240/2560\n",
       " \t\t\t\t\t Loss: \u001b[1m0.000000\u001b[0m \n",
       "\t\t\t\t\t ---------"
      ]
     },
     "metadata": {},
     "output_type": "display_data"
    },
    {
     "data": {
      "text/plain": [
       "2025-10-03 03:04:43,267 fedbiomed INFO - \u001b[1mTRAINING\u001b[0m \n",
       "\t\t\t\t\t NODE_ID: NODE_5fbd3836-38ce-4075-9c03-bdef6bd97579 \n",
       "\t\t\t\t\t Round 5 Epoch: 3 | Iteration: 80/80 (100%) | Samples: 2541/2541\n",
       " \t\t\t\t\t Loss: \u001b[1m0.000000\u001b[0m \n",
       "\t\t\t\t\t ---------"
      ]
     },
     "metadata": {},
     "output_type": "display_data"
    },
    {
     "data": {
      "text/plain": [
       "2025-10-03 03:04:43,271 fedbiomed INFO - \u001b[1mTRAINING\u001b[0m \n",
       "\t\t\t\t\t NODE_ID: NODE_5fbd3836-38ce-4075-9c03-bdef6bd97579 \n",
       "\t\t\t\t\t Round 5 Epoch: 4 | Iteration: 1/80 (1%) | Samples: 32/2560\n",
       " \t\t\t\t\t Loss: \u001b[1m0.000000\u001b[0m \n",
       "\t\t\t\t\t ---------"
      ]
     },
     "metadata": {},
     "output_type": "display_data"
    },
    {
     "data": {
      "text/plain": [
       "2025-10-03 03:04:43,280 fedbiomed INFO - \u001b[1mTRAINING\u001b[0m \n",
       "\t\t\t\t\t NODE_ID: NODE_9da4e82d-e30d-44c2-a481-b8a877e97f4d \n",
       "\t\t\t\t\t Round 5 Epoch: 3 | Iteration: 80/80 (100%) | Samples: 2541/2541\n",
       " \t\t\t\t\t Loss: \u001b[1m0.000000\u001b[0m \n",
       "\t\t\t\t\t ---------"
      ]
     },
     "metadata": {},
     "output_type": "display_data"
    },
    {
     "data": {
      "text/plain": [
       "2025-10-03 03:04:43,286 fedbiomed INFO - \u001b[1mTRAINING\u001b[0m \n",
       "\t\t\t\t\t NODE_ID: NODE_9da4e82d-e30d-44c2-a481-b8a877e97f4d \n",
       "\t\t\t\t\t Round 5 Epoch: 4 | Iteration: 1/80 (1%) | Samples: 32/2560\n",
       " \t\t\t\t\t Loss: \u001b[1m0.000000\u001b[0m \n",
       "\t\t\t\t\t ---------"
      ]
     },
     "metadata": {},
     "output_type": "display_data"
    },
    {
     "data": {
      "text/plain": [
       "2025-10-03 03:04:43,296 fedbiomed INFO - \u001b[1mTRAINING\u001b[0m \n",
       "\t\t\t\t\t NODE_ID: NODE_5fbd3836-38ce-4075-9c03-bdef6bd97579 \n",
       "\t\t\t\t\t Round 5 Epoch: 4 | Iteration: 10/80 (12%) | Samples: 320/2560\n",
       " \t\t\t\t\t Loss: \u001b[1m0.000000\u001b[0m \n",
       "\t\t\t\t\t ---------"
      ]
     },
     "metadata": {},
     "output_type": "display_data"
    },
    {
     "data": {
      "text/plain": [
       "2025-10-03 03:04:43,309 fedbiomed INFO - \u001b[1mTRAINING\u001b[0m \n",
       "\t\t\t\t\t NODE_ID: NODE_9da4e82d-e30d-44c2-a481-b8a877e97f4d \n",
       "\t\t\t\t\t Round 5 Epoch: 4 | Iteration: 10/80 (12%) | Samples: 320/2560\n",
       " \t\t\t\t\t Loss: \u001b[1m0.000000\u001b[0m \n",
       "\t\t\t\t\t ---------"
      ]
     },
     "metadata": {},
     "output_type": "display_data"
    },
    {
     "data": {
      "text/plain": [
       "2025-10-03 03:04:43,319 fedbiomed INFO - \u001b[1mTRAINING\u001b[0m \n",
       "\t\t\t\t\t NODE_ID: NODE_5fbd3836-38ce-4075-9c03-bdef6bd97579 \n",
       "\t\t\t\t\t Round 5 Epoch: 4 | Iteration: 20/80 (25%) | Samples: 640/2560\n",
       " \t\t\t\t\t Loss: \u001b[1m0.000000\u001b[0m \n",
       "\t\t\t\t\t ---------"
      ]
     },
     "metadata": {},
     "output_type": "display_data"
    },
    {
     "data": {
      "text/plain": [
       "2025-10-03 03:04:43,333 fedbiomed INFO - \u001b[1mTRAINING\u001b[0m \n",
       "\t\t\t\t\t NODE_ID: NODE_9da4e82d-e30d-44c2-a481-b8a877e97f4d \n",
       "\t\t\t\t\t Round 5 Epoch: 4 | Iteration: 20/80 (25%) | Samples: 640/2560\n",
       " \t\t\t\t\t Loss: \u001b[1m0.000000\u001b[0m \n",
       "\t\t\t\t\t ---------"
      ]
     },
     "metadata": {},
     "output_type": "display_data"
    },
    {
     "data": {
      "text/plain": [
       "2025-10-03 03:04:43,339 fedbiomed INFO - \u001b[1mTRAINING\u001b[0m \n",
       "\t\t\t\t\t NODE_ID: NODE_5fbd3836-38ce-4075-9c03-bdef6bd97579 \n",
       "\t\t\t\t\t Round 5 Epoch: 4 | Iteration: 30/80 (38%) | Samples: 960/2560\n",
       " \t\t\t\t\t Loss: \u001b[1m0.000000\u001b[0m \n",
       "\t\t\t\t\t ---------"
      ]
     },
     "metadata": {},
     "output_type": "display_data"
    },
    {
     "data": {
      "text/plain": [
       "2025-10-03 03:04:43,356 fedbiomed INFO - \u001b[1mTRAINING\u001b[0m \n",
       "\t\t\t\t\t NODE_ID: NODE_9da4e82d-e30d-44c2-a481-b8a877e97f4d \n",
       "\t\t\t\t\t Round 5 Epoch: 4 | Iteration: 30/80 (38%) | Samples: 960/2560\n",
       " \t\t\t\t\t Loss: \u001b[1m0.000000\u001b[0m \n",
       "\t\t\t\t\t ---------"
      ]
     },
     "metadata": {},
     "output_type": "display_data"
    },
    {
     "data": {
      "text/plain": [
       "2025-10-03 03:04:43,360 fedbiomed INFO - \u001b[1mTRAINING\u001b[0m \n",
       "\t\t\t\t\t NODE_ID: NODE_5fbd3836-38ce-4075-9c03-bdef6bd97579 \n",
       "\t\t\t\t\t Round 5 Epoch: 4 | Iteration: 40/80 (50%) | Samples: 1280/2560\n",
       " \t\t\t\t\t Loss: \u001b[1m0.000000\u001b[0m \n",
       "\t\t\t\t\t ---------"
      ]
     },
     "metadata": {},
     "output_type": "display_data"
    },
    {
     "data": {
      "text/plain": [
       "2025-10-03 03:04:43,380 fedbiomed INFO - \u001b[1mTRAINING\u001b[0m \n",
       "\t\t\t\t\t NODE_ID: NODE_9da4e82d-e30d-44c2-a481-b8a877e97f4d \n",
       "\t\t\t\t\t Round 5 Epoch: 4 | Iteration: 40/80 (50%) | Samples: 1280/2560\n",
       " \t\t\t\t\t Loss: \u001b[1m0.000000\u001b[0m \n",
       "\t\t\t\t\t ---------"
      ]
     },
     "metadata": {},
     "output_type": "display_data"
    },
    {
     "data": {
      "text/plain": [
       "2025-10-03 03:04:43,383 fedbiomed INFO - \u001b[1mTRAINING\u001b[0m \n",
       "\t\t\t\t\t NODE_ID: NODE_5fbd3836-38ce-4075-9c03-bdef6bd97579 \n",
       "\t\t\t\t\t Round 5 Epoch: 4 | Iteration: 50/80 (62%) | Samples: 1600/2560\n",
       " \t\t\t\t\t Loss: \u001b[1m0.000000\u001b[0m \n",
       "\t\t\t\t\t ---------"
      ]
     },
     "metadata": {},
     "output_type": "display_data"
    },
    {
     "data": {
      "text/plain": [
       "2025-10-03 03:04:43,402 fedbiomed INFO - \u001b[1mTRAINING\u001b[0m \n",
       "\t\t\t\t\t NODE_ID: NODE_5fbd3836-38ce-4075-9c03-bdef6bd97579 \n",
       "\t\t\t\t\t Round 5 Epoch: 4 | Iteration: 60/80 (75%) | Samples: 1920/2560\n",
       " \t\t\t\t\t Loss: \u001b[1m0.000000\u001b[0m \n",
       "\t\t\t\t\t ---------"
      ]
     },
     "metadata": {},
     "output_type": "display_data"
    },
    {
     "data": {
      "text/plain": [
       "2025-10-03 03:04:43,405 fedbiomed INFO - \u001b[1mTRAINING\u001b[0m \n",
       "\t\t\t\t\t NODE_ID: NODE_9da4e82d-e30d-44c2-a481-b8a877e97f4d \n",
       "\t\t\t\t\t Round 5 Epoch: 4 | Iteration: 50/80 (62%) | Samples: 1600/2560\n",
       " \t\t\t\t\t Loss: \u001b[1m0.000000\u001b[0m \n",
       "\t\t\t\t\t ---------"
      ]
     },
     "metadata": {},
     "output_type": "display_data"
    },
    {
     "data": {
      "text/plain": [
       "2025-10-03 03:04:43,419 fedbiomed INFO - \u001b[1mTRAINING\u001b[0m \n",
       "\t\t\t\t\t NODE_ID: NODE_5fbd3836-38ce-4075-9c03-bdef6bd97579 \n",
       "\t\t\t\t\t Round 5 Epoch: 4 | Iteration: 70/80 (88%) | Samples: 2240/2560\n",
       " \t\t\t\t\t Loss: \u001b[1m0.000000\u001b[0m \n",
       "\t\t\t\t\t ---------"
      ]
     },
     "metadata": {},
     "output_type": "display_data"
    },
    {
     "data": {
      "text/plain": [
       "2025-10-03 03:04:43,426 fedbiomed INFO - \u001b[1mTRAINING\u001b[0m \n",
       "\t\t\t\t\t NODE_ID: NODE_9da4e82d-e30d-44c2-a481-b8a877e97f4d \n",
       "\t\t\t\t\t Round 5 Epoch: 4 | Iteration: 60/80 (75%) | Samples: 1920/2560\n",
       " \t\t\t\t\t Loss: \u001b[1m0.000000\u001b[0m \n",
       "\t\t\t\t\t ---------"
      ]
     },
     "metadata": {},
     "output_type": "display_data"
    },
    {
     "data": {
      "text/plain": [
       "2025-10-03 03:04:43,439 fedbiomed INFO - \u001b[1mTRAINING\u001b[0m \n",
       "\t\t\t\t\t NODE_ID: NODE_5fbd3836-38ce-4075-9c03-bdef6bd97579 \n",
       "\t\t\t\t\t Round 5 Epoch: 4 | Iteration: 80/80 (100%) | Samples: 2541/2541\n",
       " \t\t\t\t\t Loss: \u001b[1m0.000000\u001b[0m \n",
       "\t\t\t\t\t ---------"
      ]
     },
     "metadata": {},
     "output_type": "display_data"
    },
    {
     "data": {
      "text/plain": [
       "2025-10-03 03:04:43,442 fedbiomed INFO - \u001b[1mTRAINING\u001b[0m \n",
       "\t\t\t\t\t NODE_ID: NODE_5fbd3836-38ce-4075-9c03-bdef6bd97579 \n",
       "\t\t\t\t\t Round 5 Epoch: 5 | Iteration: 1/80 (1%) | Samples: 32/2560\n",
       " \t\t\t\t\t Loss: \u001b[1m0.000000\u001b[0m \n",
       "\t\t\t\t\t ---------"
      ]
     },
     "metadata": {},
     "output_type": "display_data"
    },
    {
     "data": {
      "text/plain": [
       "2025-10-03 03:04:43,452 fedbiomed INFO - \u001b[1mTRAINING\u001b[0m \n",
       "\t\t\t\t\t NODE_ID: NODE_5fbd3836-38ce-4075-9c03-bdef6bd97579 \n",
       "\t\t\t\t\t Round 5 Epoch: 5 | Iteration: 10/80 (12%) | Samples: 320/2560\n",
       " \t\t\t\t\t Loss: \u001b[1m0.000000\u001b[0m \n",
       "\t\t\t\t\t ---------"
      ]
     },
     "metadata": {},
     "output_type": "display_data"
    },
    {
     "data": {
      "text/plain": [
       "2025-10-03 03:04:43,454 fedbiomed INFO - \u001b[1mTRAINING\u001b[0m \n",
       "\t\t\t\t\t NODE_ID: NODE_9da4e82d-e30d-44c2-a481-b8a877e97f4d \n",
       "\t\t\t\t\t Round 5 Epoch: 4 | Iteration: 70/80 (88%) | Samples: 2240/2560\n",
       " \t\t\t\t\t Loss: \u001b[1m0.000000\u001b[0m \n",
       "\t\t\t\t\t ---------"
      ]
     },
     "metadata": {},
     "output_type": "display_data"
    },
    {
     "data": {
      "text/plain": [
       "2025-10-03 03:04:43,464 fedbiomed INFO - \u001b[1mTRAINING\u001b[0m \n",
       "\t\t\t\t\t NODE_ID: NODE_5fbd3836-38ce-4075-9c03-bdef6bd97579 \n",
       "\t\t\t\t\t Round 5 Epoch: 5 | Iteration: 20/80 (25%) | Samples: 640/2560\n",
       " \t\t\t\t\t Loss: \u001b[1m0.000000\u001b[0m \n",
       "\t\t\t\t\t ---------"
      ]
     },
     "metadata": {},
     "output_type": "display_data"
    },
    {
     "data": {
      "text/plain": [
       "2025-10-03 03:04:43,475 fedbiomed INFO - \u001b[1mTRAINING\u001b[0m \n",
       "\t\t\t\t\t NODE_ID: NODE_9da4e82d-e30d-44c2-a481-b8a877e97f4d \n",
       "\t\t\t\t\t Round 5 Epoch: 4 | Iteration: 80/80 (100%) | Samples: 2541/2541\n",
       " \t\t\t\t\t Loss: \u001b[1m0.000000\u001b[0m \n",
       "\t\t\t\t\t ---------"
      ]
     },
     "metadata": {},
     "output_type": "display_data"
    },
    {
     "data": {
      "text/plain": [
       "2025-10-03 03:04:43,477 fedbiomed INFO - \u001b[1mTRAINING\u001b[0m \n",
       "\t\t\t\t\t NODE_ID: NODE_5fbd3836-38ce-4075-9c03-bdef6bd97579 \n",
       "\t\t\t\t\t Round 5 Epoch: 5 | Iteration: 30/80 (38%) | Samples: 960/2560\n",
       " \t\t\t\t\t Loss: \u001b[1m0.000000\u001b[0m \n",
       "\t\t\t\t\t ---------"
      ]
     },
     "metadata": {},
     "output_type": "display_data"
    },
    {
     "data": {
      "text/plain": [
       "2025-10-03 03:04:43,482 fedbiomed INFO - \u001b[1mTRAINING\u001b[0m \n",
       "\t\t\t\t\t NODE_ID: NODE_9da4e82d-e30d-44c2-a481-b8a877e97f4d \n",
       "\t\t\t\t\t Round 5 Epoch: 5 | Iteration: 1/80 (1%) | Samples: 32/2560\n",
       " \t\t\t\t\t Loss: \u001b[1m0.000000\u001b[0m \n",
       "\t\t\t\t\t ---------"
      ]
     },
     "metadata": {},
     "output_type": "display_data"
    },
    {
     "data": {
      "text/plain": [
       "2025-10-03 03:04:43,498 fedbiomed INFO - \u001b[1mTRAINING\u001b[0m \n",
       "\t\t\t\t\t NODE_ID: NODE_5fbd3836-38ce-4075-9c03-bdef6bd97579 \n",
       "\t\t\t\t\t Round 5 Epoch: 5 | Iteration: 40/80 (50%) | Samples: 1280/2560\n",
       " \t\t\t\t\t Loss: \u001b[1m0.000000\u001b[0m \n",
       "\t\t\t\t\t ---------"
      ]
     },
     "metadata": {},
     "output_type": "display_data"
    },
    {
     "data": {
      "text/plain": [
       "2025-10-03 03:04:43,500 fedbiomed INFO - \u001b[1mTRAINING\u001b[0m \n",
       "\t\t\t\t\t NODE_ID: NODE_9da4e82d-e30d-44c2-a481-b8a877e97f4d \n",
       "\t\t\t\t\t Round 5 Epoch: 5 | Iteration: 10/80 (12%) | Samples: 320/2560\n",
       " \t\t\t\t\t Loss: \u001b[1m0.000000\u001b[0m \n",
       "\t\t\t\t\t ---------"
      ]
     },
     "metadata": {},
     "output_type": "display_data"
    },
    {
     "data": {
      "text/plain": [
       "2025-10-03 03:04:43,517 fedbiomed INFO - \u001b[1mTRAINING\u001b[0m \n",
       "\t\t\t\t\t NODE_ID: NODE_5fbd3836-38ce-4075-9c03-bdef6bd97579 \n",
       "\t\t\t\t\t Round 5 Epoch: 5 | Iteration: 50/80 (62%) | Samples: 1600/2560\n",
       " \t\t\t\t\t Loss: \u001b[1m0.000000\u001b[0m \n",
       "\t\t\t\t\t ---------"
      ]
     },
     "metadata": {},
     "output_type": "display_data"
    },
    {
     "data": {
      "text/plain": [
       "2025-10-03 03:04:43,519 fedbiomed INFO - \u001b[1mTRAINING\u001b[0m \n",
       "\t\t\t\t\t NODE_ID: NODE_9da4e82d-e30d-44c2-a481-b8a877e97f4d \n",
       "\t\t\t\t\t Round 5 Epoch: 5 | Iteration: 20/80 (25%) | Samples: 640/2560\n",
       " \t\t\t\t\t Loss: \u001b[1m0.000000\u001b[0m \n",
       "\t\t\t\t\t ---------"
      ]
     },
     "metadata": {},
     "output_type": "display_data"
    },
    {
     "data": {
      "text/plain": [
       "2025-10-03 03:04:43,536 fedbiomed INFO - \u001b[1mTRAINING\u001b[0m \n",
       "\t\t\t\t\t NODE_ID: NODE_5fbd3836-38ce-4075-9c03-bdef6bd97579 \n",
       "\t\t\t\t\t Round 5 Epoch: 5 | Iteration: 60/80 (75%) | Samples: 1920/2560\n",
       " \t\t\t\t\t Loss: \u001b[1m0.000000\u001b[0m \n",
       "\t\t\t\t\t ---------"
      ]
     },
     "metadata": {},
     "output_type": "display_data"
    },
    {
     "data": {
      "text/plain": [
       "2025-10-03 03:04:43,538 fedbiomed INFO - \u001b[1mTRAINING\u001b[0m \n",
       "\t\t\t\t\t NODE_ID: NODE_9da4e82d-e30d-44c2-a481-b8a877e97f4d \n",
       "\t\t\t\t\t Round 5 Epoch: 5 | Iteration: 30/80 (38%) | Samples: 960/2560\n",
       " \t\t\t\t\t Loss: \u001b[1m0.000000\u001b[0m \n",
       "\t\t\t\t\t ---------"
      ]
     },
     "metadata": {},
     "output_type": "display_data"
    },
    {
     "data": {
      "text/plain": [
       "2025-10-03 03:04:43,555 fedbiomed INFO - \u001b[1mTRAINING\u001b[0m \n",
       "\t\t\t\t\t NODE_ID: NODE_5fbd3836-38ce-4075-9c03-bdef6bd97579 \n",
       "\t\t\t\t\t Round 5 Epoch: 5 | Iteration: 70/80 (88%) | Samples: 2240/2560\n",
       " \t\t\t\t\t Loss: \u001b[1m0.000000\u001b[0m \n",
       "\t\t\t\t\t ---------"
      ]
     },
     "metadata": {},
     "output_type": "display_data"
    },
    {
     "data": {
      "text/plain": [
       "2025-10-03 03:04:43,557 fedbiomed INFO - \u001b[1mTRAINING\u001b[0m \n",
       "\t\t\t\t\t NODE_ID: NODE_9da4e82d-e30d-44c2-a481-b8a877e97f4d \n",
       "\t\t\t\t\t Round 5 Epoch: 5 | Iteration: 40/80 (50%) | Samples: 1280/2560\n",
       " \t\t\t\t\t Loss: \u001b[1m0.000000\u001b[0m \n",
       "\t\t\t\t\t ---------"
      ]
     },
     "metadata": {},
     "output_type": "display_data"
    },
    {
     "data": {
      "text/plain": [
       "2025-10-03 03:04:43,573 fedbiomed INFO - \u001b[1mTRAINING\u001b[0m \n",
       "\t\t\t\t\t NODE_ID: NODE_5fbd3836-38ce-4075-9c03-bdef6bd97579 \n",
       "\t\t\t\t\t Round 5 Epoch: 5 | Iteration: 80/80 (100%) | Samples: 2541/2541\n",
       " \t\t\t\t\t Loss: \u001b[1m0.000000\u001b[0m \n",
       "\t\t\t\t\t ---------"
      ]
     },
     "metadata": {},
     "output_type": "display_data"
    },
    {
     "data": {
      "text/plain": [
       "2025-10-03 03:04:43,576 fedbiomed INFO - \u001b[1mTRAINING\u001b[0m \n",
       "\t\t\t\t\t NODE_ID: NODE_5fbd3836-38ce-4075-9c03-bdef6bd97579 \n",
       "\t\t\t\t\t Round 5 Epoch: 6 | Iteration: 1/80 (1%) | Samples: 32/2560\n",
       " \t\t\t\t\t Loss: \u001b[1m0.000000\u001b[0m \n",
       "\t\t\t\t\t ---------"
      ]
     },
     "metadata": {},
     "output_type": "display_data"
    },
    {
     "data": {
      "text/plain": [
       "2025-10-03 03:04:43,577 fedbiomed INFO - \u001b[1mTRAINING\u001b[0m \n",
       "\t\t\t\t\t NODE_ID: NODE_9da4e82d-e30d-44c2-a481-b8a877e97f4d \n",
       "\t\t\t\t\t Round 5 Epoch: 5 | Iteration: 50/80 (62%) | Samples: 1600/2560\n",
       " \t\t\t\t\t Loss: \u001b[1m0.000000\u001b[0m \n",
       "\t\t\t\t\t ---------"
      ]
     },
     "metadata": {},
     "output_type": "display_data"
    },
    {
     "data": {
      "text/plain": [
       "2025-10-03 03:04:43,590 fedbiomed INFO - \u001b[1mTRAINING\u001b[0m \n",
       "\t\t\t\t\t NODE_ID: NODE_5fbd3836-38ce-4075-9c03-bdef6bd97579 \n",
       "\t\t\t\t\t Round 5 Epoch: 6 | Iteration: 10/80 (12%) | Samples: 320/2560\n",
       " \t\t\t\t\t Loss: \u001b[1m0.000000\u001b[0m \n",
       "\t\t\t\t\t ---------"
      ]
     },
     "metadata": {},
     "output_type": "display_data"
    },
    {
     "data": {
      "text/plain": [
       "2025-10-03 03:04:43,599 fedbiomed INFO - \u001b[1mTRAINING\u001b[0m \n",
       "\t\t\t\t\t NODE_ID: NODE_9da4e82d-e30d-44c2-a481-b8a877e97f4d \n",
       "\t\t\t\t\t Round 5 Epoch: 5 | Iteration: 60/80 (75%) | Samples: 1920/2560\n",
       " \t\t\t\t\t Loss: \u001b[1m0.000000\u001b[0m \n",
       "\t\t\t\t\t ---------"
      ]
     },
     "metadata": {},
     "output_type": "display_data"
    },
    {
     "data": {
      "text/plain": [
       "2025-10-03 03:04:43,612 fedbiomed INFO - \u001b[1mTRAINING\u001b[0m \n",
       "\t\t\t\t\t NODE_ID: NODE_5fbd3836-38ce-4075-9c03-bdef6bd97579 \n",
       "\t\t\t\t\t Round 5 Epoch: 6 | Iteration: 20/80 (25%) | Samples: 640/2560\n",
       " \t\t\t\t\t Loss: \u001b[1m0.000000\u001b[0m \n",
       "\t\t\t\t\t ---------"
      ]
     },
     "metadata": {},
     "output_type": "display_data"
    },
    {
     "data": {
      "text/plain": [
       "2025-10-03 03:04:43,624 fedbiomed INFO - \u001b[1mTRAINING\u001b[0m \n",
       "\t\t\t\t\t NODE_ID: NODE_9da4e82d-e30d-44c2-a481-b8a877e97f4d \n",
       "\t\t\t\t\t Round 5 Epoch: 5 | Iteration: 70/80 (88%) | Samples: 2240/2560\n",
       " \t\t\t\t\t Loss: \u001b[1m0.000000\u001b[0m \n",
       "\t\t\t\t\t ---------"
      ]
     },
     "metadata": {},
     "output_type": "display_data"
    },
    {
     "data": {
      "text/plain": [
       "2025-10-03 03:04:43,631 fedbiomed INFO - \u001b[1mTRAINING\u001b[0m \n",
       "\t\t\t\t\t NODE_ID: NODE_5fbd3836-38ce-4075-9c03-bdef6bd97579 \n",
       "\t\t\t\t\t Round 5 Epoch: 6 | Iteration: 30/80 (38%) | Samples: 960/2560\n",
       " \t\t\t\t\t Loss: \u001b[1m0.000000\u001b[0m \n",
       "\t\t\t\t\t ---------"
      ]
     },
     "metadata": {},
     "output_type": "display_data"
    },
    {
     "data": {
      "text/plain": [
       "2025-10-03 03:04:43,643 fedbiomed INFO - \u001b[1mTRAINING\u001b[0m \n",
       "\t\t\t\t\t NODE_ID: NODE_9da4e82d-e30d-44c2-a481-b8a877e97f4d \n",
       "\t\t\t\t\t Round 5 Epoch: 5 | Iteration: 80/80 (100%) | Samples: 2541/2541\n",
       " \t\t\t\t\t Loss: \u001b[1m0.000000\u001b[0m \n",
       "\t\t\t\t\t ---------"
      ]
     },
     "metadata": {},
     "output_type": "display_data"
    },
    {
     "data": {
      "text/plain": [
       "2025-10-03 03:04:43,647 fedbiomed INFO - \u001b[1mTRAINING\u001b[0m \n",
       "\t\t\t\t\t NODE_ID: NODE_9da4e82d-e30d-44c2-a481-b8a877e97f4d \n",
       "\t\t\t\t\t Round 5 Epoch: 6 | Iteration: 1/80 (1%) | Samples: 32/2560\n",
       " \t\t\t\t\t Loss: \u001b[1m0.000000\u001b[0m \n",
       "\t\t\t\t\t ---------"
      ]
     },
     "metadata": {},
     "output_type": "display_data"
    },
    {
     "data": {
      "text/plain": [
       "2025-10-03 03:04:43,650 fedbiomed INFO - \u001b[1mTRAINING\u001b[0m \n",
       "\t\t\t\t\t NODE_ID: NODE_5fbd3836-38ce-4075-9c03-bdef6bd97579 \n",
       "\t\t\t\t\t Round 5 Epoch: 6 | Iteration: 40/80 (50%) | Samples: 1280/2560\n",
       " \t\t\t\t\t Loss: \u001b[1m0.000000\u001b[0m \n",
       "\t\t\t\t\t ---------"
      ]
     },
     "metadata": {},
     "output_type": "display_data"
    },
    {
     "data": {
      "text/plain": [
       "2025-10-03 03:04:43,671 fedbiomed INFO - \u001b[1mTRAINING\u001b[0m \n",
       "\t\t\t\t\t NODE_ID: NODE_9da4e82d-e30d-44c2-a481-b8a877e97f4d \n",
       "\t\t\t\t\t Round 5 Epoch: 6 | Iteration: 10/80 (12%) | Samples: 320/2560\n",
       " \t\t\t\t\t Loss: \u001b[1m0.000000\u001b[0m \n",
       "\t\t\t\t\t ---------"
      ]
     },
     "metadata": {},
     "output_type": "display_data"
    },
    {
     "data": {
      "text/plain": [
       "2025-10-03 03:04:43,673 fedbiomed INFO - \u001b[1mTRAINING\u001b[0m \n",
       "\t\t\t\t\t NODE_ID: NODE_5fbd3836-38ce-4075-9c03-bdef6bd97579 \n",
       "\t\t\t\t\t Round 5 Epoch: 6 | Iteration: 50/80 (62%) | Samples: 1600/2560\n",
       " \t\t\t\t\t Loss: \u001b[1m0.000000\u001b[0m \n",
       "\t\t\t\t\t ---------"
      ]
     },
     "metadata": {},
     "output_type": "display_data"
    },
    {
     "data": {
      "text/plain": [
       "2025-10-03 03:04:43,690 fedbiomed INFO - \u001b[1mTRAINING\u001b[0m \n",
       "\t\t\t\t\t NODE_ID: NODE_9da4e82d-e30d-44c2-a481-b8a877e97f4d \n",
       "\t\t\t\t\t Round 5 Epoch: 6 | Iteration: 20/80 (25%) | Samples: 640/2560\n",
       " \t\t\t\t\t Loss: \u001b[1m0.000000\u001b[0m \n",
       "\t\t\t\t\t ---------"
      ]
     },
     "metadata": {},
     "output_type": "display_data"
    },
    {
     "data": {
      "text/plain": [
       "2025-10-03 03:04:43,692 fedbiomed INFO - \u001b[1mTRAINING\u001b[0m \n",
       "\t\t\t\t\t NODE_ID: NODE_5fbd3836-38ce-4075-9c03-bdef6bd97579 \n",
       "\t\t\t\t\t Round 5 Epoch: 6 | Iteration: 60/80 (75%) | Samples: 1920/2560\n",
       " \t\t\t\t\t Loss: \u001b[1m0.000000\u001b[0m \n",
       "\t\t\t\t\t ---------"
      ]
     },
     "metadata": {},
     "output_type": "display_data"
    },
    {
     "data": {
      "text/plain": [
       "2025-10-03 03:04:43,709 fedbiomed INFO - \u001b[1mTRAINING\u001b[0m \n",
       "\t\t\t\t\t NODE_ID: NODE_5fbd3836-38ce-4075-9c03-bdef6bd97579 \n",
       "\t\t\t\t\t Round 5 Epoch: 6 | Iteration: 70/80 (88%) | Samples: 2240/2560\n",
       " \t\t\t\t\t Loss: \u001b[1m0.000000\u001b[0m \n",
       "\t\t\t\t\t ---------"
      ]
     },
     "metadata": {},
     "output_type": "display_data"
    },
    {
     "data": {
      "text/plain": [
       "2025-10-03 03:04:43,712 fedbiomed INFO - \u001b[1mTRAINING\u001b[0m \n",
       "\t\t\t\t\t NODE_ID: NODE_9da4e82d-e30d-44c2-a481-b8a877e97f4d \n",
       "\t\t\t\t\t Round 5 Epoch: 6 | Iteration: 30/80 (38%) | Samples: 960/2560\n",
       " \t\t\t\t\t Loss: \u001b[1m0.000000\u001b[0m \n",
       "\t\t\t\t\t ---------"
      ]
     },
     "metadata": {},
     "output_type": "display_data"
    },
    {
     "data": {
      "text/plain": [
       "2025-10-03 03:04:43,730 fedbiomed INFO - \u001b[1mTRAINING\u001b[0m \n",
       "\t\t\t\t\t NODE_ID: NODE_9da4e82d-e30d-44c2-a481-b8a877e97f4d \n",
       "\t\t\t\t\t Round 5 Epoch: 6 | Iteration: 40/80 (50%) | Samples: 1280/2560\n",
       " \t\t\t\t\t Loss: \u001b[1m0.000000\u001b[0m \n",
       "\t\t\t\t\t ---------"
      ]
     },
     "metadata": {},
     "output_type": "display_data"
    },
    {
     "data": {
      "text/plain": [
       "2025-10-03 03:04:43,740 fedbiomed INFO - \u001b[1mTRAINING\u001b[0m \n",
       "\t\t\t\t\t NODE_ID: NODE_5fbd3836-38ce-4075-9c03-bdef6bd97579 \n",
       "\t\t\t\t\t Round 5 Epoch: 6 | Iteration: 80/80 (100%) | Samples: 2541/2541\n",
       " \t\t\t\t\t Loss: \u001b[1m0.000000\u001b[0m \n",
       "\t\t\t\t\t ---------"
      ]
     },
     "metadata": {},
     "output_type": "display_data"
    },
    {
     "data": {
      "text/plain": [
       "2025-10-03 03:04:43,746 fedbiomed INFO - \u001b[1mTRAINING\u001b[0m \n",
       "\t\t\t\t\t NODE_ID: NODE_5fbd3836-38ce-4075-9c03-bdef6bd97579 \n",
       "\t\t\t\t\t Round 5 Epoch: 7 | Iteration: 1/80 (1%) | Samples: 32/2560\n",
       " \t\t\t\t\t Loss: \u001b[1m0.000000\u001b[0m \n",
       "\t\t\t\t\t ---------"
      ]
     },
     "metadata": {},
     "output_type": "display_data"
    },
    {
     "data": {
      "text/plain": [
       "2025-10-03 03:04:43,757 fedbiomed INFO - \u001b[1mTRAINING\u001b[0m \n",
       "\t\t\t\t\t NODE_ID: NODE_9da4e82d-e30d-44c2-a481-b8a877e97f4d \n",
       "\t\t\t\t\t Round 5 Epoch: 6 | Iteration: 50/80 (62%) | Samples: 1600/2560\n",
       " \t\t\t\t\t Loss: \u001b[1m0.000000\u001b[0m \n",
       "\t\t\t\t\t ---------"
      ]
     },
     "metadata": {},
     "output_type": "display_data"
    },
    {
     "data": {
      "text/plain": [
       "2025-10-03 03:04:43,765 fedbiomed INFO - \u001b[1mTRAINING\u001b[0m \n",
       "\t\t\t\t\t NODE_ID: NODE_5fbd3836-38ce-4075-9c03-bdef6bd97579 \n",
       "\t\t\t\t\t Round 5 Epoch: 7 | Iteration: 10/80 (12%) | Samples: 320/2560\n",
       " \t\t\t\t\t Loss: \u001b[1m0.000000\u001b[0m \n",
       "\t\t\t\t\t ---------"
      ]
     },
     "metadata": {},
     "output_type": "display_data"
    },
    {
     "data": {
      "text/plain": [
       "2025-10-03 03:04:43,781 fedbiomed INFO - \u001b[1mTRAINING\u001b[0m \n",
       "\t\t\t\t\t NODE_ID: NODE_9da4e82d-e30d-44c2-a481-b8a877e97f4d \n",
       "\t\t\t\t\t Round 5 Epoch: 6 | Iteration: 60/80 (75%) | Samples: 1920/2560\n",
       " \t\t\t\t\t Loss: \u001b[1m0.000000\u001b[0m \n",
       "\t\t\t\t\t ---------"
      ]
     },
     "metadata": {},
     "output_type": "display_data"
    },
    {
     "data": {
      "text/plain": [
       "2025-10-03 03:04:43,792 fedbiomed INFO - \u001b[1mTRAINING\u001b[0m \n",
       "\t\t\t\t\t NODE_ID: NODE_5fbd3836-38ce-4075-9c03-bdef6bd97579 \n",
       "\t\t\t\t\t Round 5 Epoch: 7 | Iteration: 20/80 (25%) | Samples: 640/2560\n",
       " \t\t\t\t\t Loss: \u001b[1m0.000000\u001b[0m \n",
       "\t\t\t\t\t ---------"
      ]
     },
     "metadata": {},
     "output_type": "display_data"
    },
    {
     "data": {
      "text/plain": [
       "2025-10-03 03:04:43,801 fedbiomed INFO - \u001b[1mTRAINING\u001b[0m \n",
       "\t\t\t\t\t NODE_ID: NODE_9da4e82d-e30d-44c2-a481-b8a877e97f4d \n",
       "\t\t\t\t\t Round 5 Epoch: 6 | Iteration: 70/80 (88%) | Samples: 2240/2560\n",
       " \t\t\t\t\t Loss: \u001b[1m0.000000\u001b[0m \n",
       "\t\t\t\t\t ---------"
      ]
     },
     "metadata": {},
     "output_type": "display_data"
    },
    {
     "data": {
      "text/plain": [
       "2025-10-03 03:04:43,809 fedbiomed INFO - \u001b[1mTRAINING\u001b[0m \n",
       "\t\t\t\t\t NODE_ID: NODE_5fbd3836-38ce-4075-9c03-bdef6bd97579 \n",
       "\t\t\t\t\t Round 5 Epoch: 7 | Iteration: 30/80 (38%) | Samples: 960/2560\n",
       " \t\t\t\t\t Loss: \u001b[1m0.000000\u001b[0m \n",
       "\t\t\t\t\t ---------"
      ]
     },
     "metadata": {},
     "output_type": "display_data"
    },
    {
     "data": {
      "text/plain": [
       "2025-10-03 03:04:43,818 fedbiomed INFO - \u001b[1mTRAINING\u001b[0m \n",
       "\t\t\t\t\t NODE_ID: NODE_9da4e82d-e30d-44c2-a481-b8a877e97f4d \n",
       "\t\t\t\t\t Round 5 Epoch: 6 | Iteration: 80/80 (100%) | Samples: 2541/2541\n",
       " \t\t\t\t\t Loss: \u001b[1m0.000000\u001b[0m \n",
       "\t\t\t\t\t ---------"
      ]
     },
     "metadata": {},
     "output_type": "display_data"
    },
    {
     "data": {
      "text/plain": [
       "2025-10-03 03:04:43,820 fedbiomed INFO - \u001b[1mTRAINING\u001b[0m \n",
       "\t\t\t\t\t NODE_ID: NODE_9da4e82d-e30d-44c2-a481-b8a877e97f4d \n",
       "\t\t\t\t\t Round 5 Epoch: 7 | Iteration: 1/80 (1%) | Samples: 32/2560\n",
       " \t\t\t\t\t Loss: \u001b[1m0.000000\u001b[0m \n",
       "\t\t\t\t\t ---------"
      ]
     },
     "metadata": {},
     "output_type": "display_data"
    },
    {
     "data": {
      "text/plain": [
       "2025-10-03 03:04:43,828 fedbiomed INFO - \u001b[1mTRAINING\u001b[0m \n",
       "\t\t\t\t\t NODE_ID: NODE_5fbd3836-38ce-4075-9c03-bdef6bd97579 \n",
       "\t\t\t\t\t Round 5 Epoch: 7 | Iteration: 40/80 (50%) | Samples: 1280/2560\n",
       " \t\t\t\t\t Loss: \u001b[1m0.000000\u001b[0m \n",
       "\t\t\t\t\t ---------"
      ]
     },
     "metadata": {},
     "output_type": "display_data"
    },
    {
     "data": {
      "text/plain": [
       "2025-10-03 03:04:43,833 fedbiomed INFO - \u001b[1mTRAINING\u001b[0m \n",
       "\t\t\t\t\t NODE_ID: NODE_9da4e82d-e30d-44c2-a481-b8a877e97f4d \n",
       "\t\t\t\t\t Round 5 Epoch: 7 | Iteration: 10/80 (12%) | Samples: 320/2560\n",
       " \t\t\t\t\t Loss: \u001b[1m0.000000\u001b[0m \n",
       "\t\t\t\t\t ---------"
      ]
     },
     "metadata": {},
     "output_type": "display_data"
    },
    {
     "data": {
      "text/plain": [
       "2025-10-03 03:04:43,850 fedbiomed INFO - \u001b[1mTRAINING\u001b[0m \n",
       "\t\t\t\t\t NODE_ID: NODE_9da4e82d-e30d-44c2-a481-b8a877e97f4d \n",
       "\t\t\t\t\t Round 5 Epoch: 7 | Iteration: 20/80 (25%) | Samples: 640/2560\n",
       " \t\t\t\t\t Loss: \u001b[1m0.000000\u001b[0m \n",
       "\t\t\t\t\t ---------"
      ]
     },
     "metadata": {},
     "output_type": "display_data"
    },
    {
     "data": {
      "text/plain": [
       "2025-10-03 03:04:43,854 fedbiomed INFO - \u001b[1mTRAINING\u001b[0m \n",
       "\t\t\t\t\t NODE_ID: NODE_5fbd3836-38ce-4075-9c03-bdef6bd97579 \n",
       "\t\t\t\t\t Round 5 Epoch: 7 | Iteration: 50/80 (62%) | Samples: 1600/2560\n",
       " \t\t\t\t\t Loss: \u001b[1m0.000000\u001b[0m \n",
       "\t\t\t\t\t ---------"
      ]
     },
     "metadata": {},
     "output_type": "display_data"
    },
    {
     "data": {
      "text/plain": [
       "2025-10-03 03:04:43,867 fedbiomed INFO - \u001b[1mTRAINING\u001b[0m \n",
       "\t\t\t\t\t NODE_ID: NODE_5fbd3836-38ce-4075-9c03-bdef6bd97579 \n",
       "\t\t\t\t\t Round 5 Epoch: 7 | Iteration: 60/80 (75%) | Samples: 1920/2560\n",
       " \t\t\t\t\t Loss: \u001b[1m0.000000\u001b[0m \n",
       "\t\t\t\t\t ---------"
      ]
     },
     "metadata": {},
     "output_type": "display_data"
    },
    {
     "data": {
      "text/plain": [
       "2025-10-03 03:04:43,877 fedbiomed INFO - \u001b[1mTRAINING\u001b[0m \n",
       "\t\t\t\t\t NODE_ID: NODE_9da4e82d-e30d-44c2-a481-b8a877e97f4d \n",
       "\t\t\t\t\t Round 5 Epoch: 7 | Iteration: 30/80 (38%) | Samples: 960/2560\n",
       " \t\t\t\t\t Loss: \u001b[1m0.000000\u001b[0m \n",
       "\t\t\t\t\t ---------"
      ]
     },
     "metadata": {},
     "output_type": "display_data"
    },
    {
     "data": {
      "text/plain": [
       "2025-10-03 03:04:43,893 fedbiomed INFO - \u001b[1mTRAINING\u001b[0m \n",
       "\t\t\t\t\t NODE_ID: NODE_5fbd3836-38ce-4075-9c03-bdef6bd97579 \n",
       "\t\t\t\t\t Round 5 Epoch: 7 | Iteration: 70/80 (88%) | Samples: 2240/2560\n",
       " \t\t\t\t\t Loss: \u001b[1m0.000000\u001b[0m \n",
       "\t\t\t\t\t ---------"
      ]
     },
     "metadata": {},
     "output_type": "display_data"
    },
    {
     "data": {
      "text/plain": [
       "2025-10-03 03:04:43,898 fedbiomed INFO - \u001b[1mTRAINING\u001b[0m \n",
       "\t\t\t\t\t NODE_ID: NODE_9da4e82d-e30d-44c2-a481-b8a877e97f4d \n",
       "\t\t\t\t\t Round 5 Epoch: 7 | Iteration: 40/80 (50%) | Samples: 1280/2560\n",
       " \t\t\t\t\t Loss: \u001b[1m0.000000\u001b[0m \n",
       "\t\t\t\t\t ---------"
      ]
     },
     "metadata": {},
     "output_type": "display_data"
    },
    {
     "data": {
      "text/plain": [
       "2025-10-03 03:04:43,917 fedbiomed INFO - \u001b[1mTRAINING\u001b[0m \n",
       "\t\t\t\t\t NODE_ID: NODE_5fbd3836-38ce-4075-9c03-bdef6bd97579 \n",
       "\t\t\t\t\t Round 5 Epoch: 7 | Iteration: 80/80 (100%) | Samples: 2541/2541\n",
       " \t\t\t\t\t Loss: \u001b[1m0.000000\u001b[0m \n",
       "\t\t\t\t\t ---------"
      ]
     },
     "metadata": {},
     "output_type": "display_data"
    },
    {
     "data": {
      "text/plain": [
       "2025-10-03 03:04:43,919 fedbiomed INFO - \u001b[1mTRAINING\u001b[0m \n",
       "\t\t\t\t\t NODE_ID: NODE_9da4e82d-e30d-44c2-a481-b8a877e97f4d \n",
       "\t\t\t\t\t Round 5 Epoch: 7 | Iteration: 50/80 (62%) | Samples: 1600/2560\n",
       " \t\t\t\t\t Loss: \u001b[1m0.000000\u001b[0m \n",
       "\t\t\t\t\t ---------"
      ]
     },
     "metadata": {},
     "output_type": "display_data"
    },
    {
     "data": {
      "text/plain": [
       "2025-10-03 03:04:43,926 fedbiomed INFO - \u001b[1mTRAINING\u001b[0m \n",
       "\t\t\t\t\t NODE_ID: NODE_5fbd3836-38ce-4075-9c03-bdef6bd97579 \n",
       "\t\t\t\t\t Round 5 Epoch: 8 | Iteration: 1/80 (1%) | Samples: 32/2560\n",
       " \t\t\t\t\t Loss: \u001b[1m0.000000\u001b[0m \n",
       "\t\t\t\t\t ---------"
      ]
     },
     "metadata": {},
     "output_type": "display_data"
    },
    {
     "data": {
      "text/plain": [
       "2025-10-03 03:04:43,943 fedbiomed INFO - \u001b[1mTRAINING\u001b[0m \n",
       "\t\t\t\t\t NODE_ID: NODE_9da4e82d-e30d-44c2-a481-b8a877e97f4d \n",
       "\t\t\t\t\t Round 5 Epoch: 7 | Iteration: 60/80 (75%) | Samples: 1920/2560\n",
       " \t\t\t\t\t Loss: \u001b[1m0.000000\u001b[0m \n",
       "\t\t\t\t\t ---------"
      ]
     },
     "metadata": {},
     "output_type": "display_data"
    },
    {
     "data": {
      "text/plain": [
       "2025-10-03 03:04:43,948 fedbiomed INFO - \u001b[1mTRAINING\u001b[0m \n",
       "\t\t\t\t\t NODE_ID: NODE_5fbd3836-38ce-4075-9c03-bdef6bd97579 \n",
       "\t\t\t\t\t Round 5 Epoch: 8 | Iteration: 10/80 (12%) | Samples: 320/2560\n",
       " \t\t\t\t\t Loss: \u001b[1m0.000000\u001b[0m \n",
       "\t\t\t\t\t ---------"
      ]
     },
     "metadata": {},
     "output_type": "display_data"
    },
    {
     "data": {
      "text/plain": [
       "2025-10-03 03:04:43,967 fedbiomed INFO - \u001b[1mTRAINING\u001b[0m \n",
       "\t\t\t\t\t NODE_ID: NODE_9da4e82d-e30d-44c2-a481-b8a877e97f4d \n",
       "\t\t\t\t\t Round 5 Epoch: 7 | Iteration: 70/80 (88%) | Samples: 2240/2560\n",
       " \t\t\t\t\t Loss: \u001b[1m0.000000\u001b[0m \n",
       "\t\t\t\t\t ---------"
      ]
     },
     "metadata": {},
     "output_type": "display_data"
    },
    {
     "data": {
      "text/plain": [
       "2025-10-03 03:04:43,969 fedbiomed INFO - \u001b[1mTRAINING\u001b[0m \n",
       "\t\t\t\t\t NODE_ID: NODE_5fbd3836-38ce-4075-9c03-bdef6bd97579 \n",
       "\t\t\t\t\t Round 5 Epoch: 8 | Iteration: 20/80 (25%) | Samples: 640/2560\n",
       " \t\t\t\t\t Loss: \u001b[1m0.000000\u001b[0m \n",
       "\t\t\t\t\t ---------"
      ]
     },
     "metadata": {},
     "output_type": "display_data"
    },
    {
     "data": {
      "text/plain": [
       "2025-10-03 03:04:43,995 fedbiomed INFO - \u001b[1mTRAINING\u001b[0m \n",
       "\t\t\t\t\t NODE_ID: NODE_5fbd3836-38ce-4075-9c03-bdef6bd97579 \n",
       "\t\t\t\t\t Round 5 Epoch: 8 | Iteration: 30/80 (38%) | Samples: 960/2560\n",
       " \t\t\t\t\t Loss: \u001b[1m0.000000\u001b[0m \n",
       "\t\t\t\t\t ---------"
      ]
     },
     "metadata": {},
     "output_type": "display_data"
    },
    {
     "data": {
      "text/plain": [
       "2025-10-03 03:04:43,999 fedbiomed INFO - \u001b[1mTRAINING\u001b[0m \n",
       "\t\t\t\t\t NODE_ID: NODE_9da4e82d-e30d-44c2-a481-b8a877e97f4d \n",
       "\t\t\t\t\t Round 5 Epoch: 7 | Iteration: 80/80 (100%) | Samples: 2541/2541\n",
       " \t\t\t\t\t Loss: \u001b[1m0.000000\u001b[0m \n",
       "\t\t\t\t\t ---------"
      ]
     },
     "metadata": {},
     "output_type": "display_data"
    },
    {
     "data": {
      "text/plain": [
       "2025-10-03 03:04:44,006 fedbiomed INFO - \u001b[1mTRAINING\u001b[0m \n",
       "\t\t\t\t\t NODE_ID: NODE_9da4e82d-e30d-44c2-a481-b8a877e97f4d \n",
       "\t\t\t\t\t Round 5 Epoch: 8 | Iteration: 1/80 (1%) | Samples: 32/2560\n",
       " \t\t\t\t\t Loss: \u001b[1m0.000000\u001b[0m \n",
       "\t\t\t\t\t ---------"
      ]
     },
     "metadata": {},
     "output_type": "display_data"
    },
    {
     "data": {
      "text/plain": [
       "2025-10-03 03:04:44,018 fedbiomed INFO - \u001b[1mTRAINING\u001b[0m \n",
       "\t\t\t\t\t NODE_ID: NODE_9da4e82d-e30d-44c2-a481-b8a877e97f4d \n",
       "\t\t\t\t\t Round 5 Epoch: 8 | Iteration: 10/80 (12%) | Samples: 320/2560\n",
       " \t\t\t\t\t Loss: \u001b[1m0.000000\u001b[0m \n",
       "\t\t\t\t\t ---------"
      ]
     },
     "metadata": {},
     "output_type": "display_data"
    },
    {
     "data": {
      "text/plain": [
       "2025-10-03 03:04:44,020 fedbiomed INFO - \u001b[1mTRAINING\u001b[0m \n",
       "\t\t\t\t\t NODE_ID: NODE_5fbd3836-38ce-4075-9c03-bdef6bd97579 \n",
       "\t\t\t\t\t Round 5 Epoch: 8 | Iteration: 40/80 (50%) | Samples: 1280/2560\n",
       " \t\t\t\t\t Loss: \u001b[1m0.000000\u001b[0m \n",
       "\t\t\t\t\t ---------"
      ]
     },
     "metadata": {},
     "output_type": "display_data"
    },
    {
     "data": {
      "text/plain": [
       "2025-10-03 03:04:44,033 fedbiomed INFO - \u001b[1mTRAINING\u001b[0m \n",
       "\t\t\t\t\t NODE_ID: NODE_9da4e82d-e30d-44c2-a481-b8a877e97f4d \n",
       "\t\t\t\t\t Round 5 Epoch: 8 | Iteration: 20/80 (25%) | Samples: 640/2560\n",
       " \t\t\t\t\t Loss: \u001b[1m0.000000\u001b[0m \n",
       "\t\t\t\t\t ---------"
      ]
     },
     "metadata": {},
     "output_type": "display_data"
    },
    {
     "data": {
      "text/plain": [
       "2025-10-03 03:04:44,041 fedbiomed INFO - \u001b[1mTRAINING\u001b[0m \n",
       "\t\t\t\t\t NODE_ID: NODE_5fbd3836-38ce-4075-9c03-bdef6bd97579 \n",
       "\t\t\t\t\t Round 5 Epoch: 8 | Iteration: 50/80 (62%) | Samples: 1600/2560\n",
       " \t\t\t\t\t Loss: \u001b[1m0.000000\u001b[0m \n",
       "\t\t\t\t\t ---------"
      ]
     },
     "metadata": {},
     "output_type": "display_data"
    },
    {
     "data": {
      "text/plain": [
       "2025-10-03 03:04:44,048 fedbiomed INFO - \u001b[1mTRAINING\u001b[0m \n",
       "\t\t\t\t\t NODE_ID: NODE_9da4e82d-e30d-44c2-a481-b8a877e97f4d \n",
       "\t\t\t\t\t Round 5 Epoch: 8 | Iteration: 30/80 (38%) | Samples: 960/2560\n",
       " \t\t\t\t\t Loss: \u001b[1m0.000000\u001b[0m \n",
       "\t\t\t\t\t ---------"
      ]
     },
     "metadata": {},
     "output_type": "display_data"
    },
    {
     "data": {
      "text/plain": [
       "2025-10-03 03:04:44,060 fedbiomed INFO - \u001b[1mTRAINING\u001b[0m \n",
       "\t\t\t\t\t NODE_ID: NODE_9da4e82d-e30d-44c2-a481-b8a877e97f4d \n",
       "\t\t\t\t\t Round 5 Epoch: 8 | Iteration: 40/80 (50%) | Samples: 1280/2560\n",
       " \t\t\t\t\t Loss: \u001b[1m0.000000\u001b[0m \n",
       "\t\t\t\t\t ---------"
      ]
     },
     "metadata": {},
     "output_type": "display_data"
    },
    {
     "data": {
      "text/plain": [
       "2025-10-03 03:04:44,065 fedbiomed INFO - \u001b[1mTRAINING\u001b[0m \n",
       "\t\t\t\t\t NODE_ID: NODE_5fbd3836-38ce-4075-9c03-bdef6bd97579 \n",
       "\t\t\t\t\t Round 5 Epoch: 8 | Iteration: 60/80 (75%) | Samples: 1920/2560\n",
       " \t\t\t\t\t Loss: \u001b[1m0.000000\u001b[0m \n",
       "\t\t\t\t\t ---------"
      ]
     },
     "metadata": {},
     "output_type": "display_data"
    },
    {
     "data": {
      "text/plain": [
       "2025-10-03 03:04:44,075 fedbiomed INFO - \u001b[1mTRAINING\u001b[0m \n",
       "\t\t\t\t\t NODE_ID: NODE_9da4e82d-e30d-44c2-a481-b8a877e97f4d \n",
       "\t\t\t\t\t Round 5 Epoch: 8 | Iteration: 50/80 (62%) | Samples: 1600/2560\n",
       " \t\t\t\t\t Loss: \u001b[1m0.000000\u001b[0m \n",
       "\t\t\t\t\t ---------"
      ]
     },
     "metadata": {},
     "output_type": "display_data"
    },
    {
     "data": {
      "text/plain": [
       "2025-10-03 03:04:44,087 fedbiomed INFO - \u001b[1mTRAINING\u001b[0m \n",
       "\t\t\t\t\t NODE_ID: NODE_9da4e82d-e30d-44c2-a481-b8a877e97f4d \n",
       "\t\t\t\t\t Round 5 Epoch: 8 | Iteration: 60/80 (75%) | Samples: 1920/2560\n",
       " \t\t\t\t\t Loss: \u001b[1m0.000000\u001b[0m \n",
       "\t\t\t\t\t ---------"
      ]
     },
     "metadata": {},
     "output_type": "display_data"
    },
    {
     "data": {
      "text/plain": [
       "2025-10-03 03:04:44,089 fedbiomed INFO - \u001b[1mTRAINING\u001b[0m \n",
       "\t\t\t\t\t NODE_ID: NODE_5fbd3836-38ce-4075-9c03-bdef6bd97579 \n",
       "\t\t\t\t\t Round 5 Epoch: 8 | Iteration: 70/80 (88%) | Samples: 2240/2560\n",
       " \t\t\t\t\t Loss: \u001b[1m0.000000\u001b[0m \n",
       "\t\t\t\t\t ---------"
      ]
     },
     "metadata": {},
     "output_type": "display_data"
    },
    {
     "data": {
      "text/plain": [
       "2025-10-03 03:04:44,103 fedbiomed INFO - \u001b[1mTRAINING\u001b[0m \n",
       "\t\t\t\t\t NODE_ID: NODE_9da4e82d-e30d-44c2-a481-b8a877e97f4d \n",
       "\t\t\t\t\t Round 5 Epoch: 8 | Iteration: 70/80 (88%) | Samples: 2240/2560\n",
       " \t\t\t\t\t Loss: \u001b[1m0.000000\u001b[0m \n",
       "\t\t\t\t\t ---------"
      ]
     },
     "metadata": {},
     "output_type": "display_data"
    },
    {
     "data": {
      "text/plain": [
       "2025-10-03 03:04:44,112 fedbiomed INFO - \u001b[1mTRAINING\u001b[0m \n",
       "\t\t\t\t\t NODE_ID: NODE_5fbd3836-38ce-4075-9c03-bdef6bd97579 \n",
       "\t\t\t\t\t Round 5 Epoch: 8 | Iteration: 80/80 (100%) | Samples: 2541/2541\n",
       " \t\t\t\t\t Loss: \u001b[1m0.000000\u001b[0m \n",
       "\t\t\t\t\t ---------"
      ]
     },
     "metadata": {},
     "output_type": "display_data"
    },
    {
     "data": {
      "text/plain": [
       "2025-10-03 03:04:44,116 fedbiomed INFO - \u001b[1mTRAINING\u001b[0m \n",
       "\t\t\t\t\t NODE_ID: NODE_5fbd3836-38ce-4075-9c03-bdef6bd97579 \n",
       "\t\t\t\t\t Round 5 Epoch: 9 | Iteration: 1/80 (1%) | Samples: 32/2560\n",
       " \t\t\t\t\t Loss: \u001b[1m0.000000\u001b[0m \n",
       "\t\t\t\t\t ---------"
      ]
     },
     "metadata": {},
     "output_type": "display_data"
    },
    {
     "data": {
      "text/plain": [
       "2025-10-03 03:04:44,122 fedbiomed INFO - \u001b[1mTRAINING\u001b[0m \n",
       "\t\t\t\t\t NODE_ID: NODE_9da4e82d-e30d-44c2-a481-b8a877e97f4d \n",
       "\t\t\t\t\t Round 5 Epoch: 8 | Iteration: 80/80 (100%) | Samples: 2541/2541\n",
       " \t\t\t\t\t Loss: \u001b[1m0.000000\u001b[0m \n",
       "\t\t\t\t\t ---------"
      ]
     },
     "metadata": {},
     "output_type": "display_data"
    },
    {
     "data": {
      "text/plain": [
       "2025-10-03 03:04:44,126 fedbiomed INFO - \u001b[1mTRAINING\u001b[0m \n",
       "\t\t\t\t\t NODE_ID: NODE_9da4e82d-e30d-44c2-a481-b8a877e97f4d \n",
       "\t\t\t\t\t Round 5 Epoch: 9 | Iteration: 1/80 (1%) | Samples: 32/2560\n",
       " \t\t\t\t\t Loss: \u001b[1m0.000000\u001b[0m \n",
       "\t\t\t\t\t ---------"
      ]
     },
     "metadata": {},
     "output_type": "display_data"
    },
    {
     "data": {
      "text/plain": [
       "2025-10-03 03:04:44,142 fedbiomed INFO - \u001b[1mTRAINING\u001b[0m \n",
       "\t\t\t\t\t NODE_ID: NODE_5fbd3836-38ce-4075-9c03-bdef6bd97579 \n",
       "\t\t\t\t\t Round 5 Epoch: 9 | Iteration: 10/80 (12%) | Samples: 320/2560\n",
       " \t\t\t\t\t Loss: \u001b[1m0.000000\u001b[0m \n",
       "\t\t\t\t\t ---------"
      ]
     },
     "metadata": {},
     "output_type": "display_data"
    },
    {
     "data": {
      "text/plain": [
       "2025-10-03 03:04:44,144 fedbiomed INFO - \u001b[1mTRAINING\u001b[0m \n",
       "\t\t\t\t\t NODE_ID: NODE_9da4e82d-e30d-44c2-a481-b8a877e97f4d \n",
       "\t\t\t\t\t Round 5 Epoch: 9 | Iteration: 10/80 (12%) | Samples: 320/2560\n",
       " \t\t\t\t\t Loss: \u001b[1m0.000000\u001b[0m \n",
       "\t\t\t\t\t ---------"
      ]
     },
     "metadata": {},
     "output_type": "display_data"
    },
    {
     "data": {
      "text/plain": [
       "2025-10-03 03:04:44,164 fedbiomed INFO - \u001b[1mTRAINING\u001b[0m \n",
       "\t\t\t\t\t NODE_ID: NODE_5fbd3836-38ce-4075-9c03-bdef6bd97579 \n",
       "\t\t\t\t\t Round 5 Epoch: 9 | Iteration: 20/80 (25%) | Samples: 640/2560\n",
       " \t\t\t\t\t Loss: \u001b[1m0.000000\u001b[0m \n",
       "\t\t\t\t\t ---------"
      ]
     },
     "metadata": {},
     "output_type": "display_data"
    },
    {
     "data": {
      "text/plain": [
       "2025-10-03 03:04:44,165 fedbiomed INFO - \u001b[1mTRAINING\u001b[0m \n",
       "\t\t\t\t\t NODE_ID: NODE_9da4e82d-e30d-44c2-a481-b8a877e97f4d \n",
       "\t\t\t\t\t Round 5 Epoch: 9 | Iteration: 20/80 (25%) | Samples: 640/2560\n",
       " \t\t\t\t\t Loss: \u001b[1m0.000000\u001b[0m \n",
       "\t\t\t\t\t ---------"
      ]
     },
     "metadata": {},
     "output_type": "display_data"
    },
    {
     "data": {
      "text/plain": [
       "2025-10-03 03:04:44,183 fedbiomed INFO - \u001b[1mTRAINING\u001b[0m \n",
       "\t\t\t\t\t NODE_ID: NODE_9da4e82d-e30d-44c2-a481-b8a877e97f4d \n",
       "\t\t\t\t\t Round 5 Epoch: 9 | Iteration: 30/80 (38%) | Samples: 960/2560\n",
       " \t\t\t\t\t Loss: \u001b[1m0.000000\u001b[0m \n",
       "\t\t\t\t\t ---------"
      ]
     },
     "metadata": {},
     "output_type": "display_data"
    },
    {
     "data": {
      "text/plain": [
       "2025-10-03 03:04:44,185 fedbiomed INFO - \u001b[1mTRAINING\u001b[0m \n",
       "\t\t\t\t\t NODE_ID: NODE_5fbd3836-38ce-4075-9c03-bdef6bd97579 \n",
       "\t\t\t\t\t Round 5 Epoch: 9 | Iteration: 30/80 (38%) | Samples: 960/2560\n",
       " \t\t\t\t\t Loss: \u001b[1m0.000000\u001b[0m \n",
       "\t\t\t\t\t ---------"
      ]
     },
     "metadata": {},
     "output_type": "display_data"
    },
    {
     "data": {
      "text/plain": [
       "2025-10-03 03:04:44,203 fedbiomed INFO - \u001b[1mTRAINING\u001b[0m \n",
       "\t\t\t\t\t NODE_ID: NODE_9da4e82d-e30d-44c2-a481-b8a877e97f4d \n",
       "\t\t\t\t\t Round 5 Epoch: 9 | Iteration: 40/80 (50%) | Samples: 1280/2560\n",
       " \t\t\t\t\t Loss: \u001b[1m0.000000\u001b[0m \n",
       "\t\t\t\t\t ---------"
      ]
     },
     "metadata": {},
     "output_type": "display_data"
    },
    {
     "data": {
      "text/plain": [
       "2025-10-03 03:04:44,208 fedbiomed INFO - \u001b[1mTRAINING\u001b[0m \n",
       "\t\t\t\t\t NODE_ID: NODE_5fbd3836-38ce-4075-9c03-bdef6bd97579 \n",
       "\t\t\t\t\t Round 5 Epoch: 9 | Iteration: 40/80 (50%) | Samples: 1280/2560\n",
       " \t\t\t\t\t Loss: \u001b[1m0.000000\u001b[0m \n",
       "\t\t\t\t\t ---------"
      ]
     },
     "metadata": {},
     "output_type": "display_data"
    },
    {
     "data": {
      "text/plain": [
       "2025-10-03 03:04:44,226 fedbiomed INFO - \u001b[1mTRAINING\u001b[0m \n",
       "\t\t\t\t\t NODE_ID: NODE_9da4e82d-e30d-44c2-a481-b8a877e97f4d \n",
       "\t\t\t\t\t Round 5 Epoch: 9 | Iteration: 50/80 (62%) | Samples: 1600/2560\n",
       " \t\t\t\t\t Loss: \u001b[1m0.000000\u001b[0m \n",
       "\t\t\t\t\t ---------"
      ]
     },
     "metadata": {},
     "output_type": "display_data"
    },
    {
     "data": {
      "text/plain": [
       "2025-10-03 03:04:44,234 fedbiomed INFO - \u001b[1mTRAINING\u001b[0m \n",
       "\t\t\t\t\t NODE_ID: NODE_5fbd3836-38ce-4075-9c03-bdef6bd97579 \n",
       "\t\t\t\t\t Round 5 Epoch: 9 | Iteration: 50/80 (62%) | Samples: 1600/2560\n",
       " \t\t\t\t\t Loss: \u001b[1m0.000000\u001b[0m \n",
       "\t\t\t\t\t ---------"
      ]
     },
     "metadata": {},
     "output_type": "display_data"
    },
    {
     "data": {
      "text/plain": [
       "2025-10-03 03:04:44,249 fedbiomed INFO - \u001b[1mTRAINING\u001b[0m \n",
       "\t\t\t\t\t NODE_ID: NODE_5fbd3836-38ce-4075-9c03-bdef6bd97579 \n",
       "\t\t\t\t\t Round 5 Epoch: 9 | Iteration: 60/80 (75%) | Samples: 1920/2560\n",
       " \t\t\t\t\t Loss: \u001b[1m0.000000\u001b[0m \n",
       "\t\t\t\t\t ---------"
      ]
     },
     "metadata": {},
     "output_type": "display_data"
    },
    {
     "data": {
      "text/plain": [
       "2025-10-03 03:04:44,251 fedbiomed INFO - \u001b[1mTRAINING\u001b[0m \n",
       "\t\t\t\t\t NODE_ID: NODE_9da4e82d-e30d-44c2-a481-b8a877e97f4d \n",
       "\t\t\t\t\t Round 5 Epoch: 9 | Iteration: 60/80 (75%) | Samples: 1920/2560\n",
       " \t\t\t\t\t Loss: \u001b[1m0.000000\u001b[0m \n",
       "\t\t\t\t\t ---------"
      ]
     },
     "metadata": {},
     "output_type": "display_data"
    },
    {
     "data": {
      "text/plain": [
       "2025-10-03 03:04:44,264 fedbiomed INFO - \u001b[1mTRAINING\u001b[0m \n",
       "\t\t\t\t\t NODE_ID: NODE_5fbd3836-38ce-4075-9c03-bdef6bd97579 \n",
       "\t\t\t\t\t Round 5 Epoch: 9 | Iteration: 70/80 (88%) | Samples: 2240/2560\n",
       " \t\t\t\t\t Loss: \u001b[1m0.000000\u001b[0m \n",
       "\t\t\t\t\t ---------"
      ]
     },
     "metadata": {},
     "output_type": "display_data"
    },
    {
     "data": {
      "text/plain": [
       "2025-10-03 03:04:44,268 fedbiomed INFO - \u001b[1mTRAINING\u001b[0m \n",
       "\t\t\t\t\t NODE_ID: NODE_9da4e82d-e30d-44c2-a481-b8a877e97f4d \n",
       "\t\t\t\t\t Round 5 Epoch: 9 | Iteration: 70/80 (88%) | Samples: 2240/2560\n",
       " \t\t\t\t\t Loss: \u001b[1m0.000000\u001b[0m \n",
       "\t\t\t\t\t ---------"
      ]
     },
     "metadata": {},
     "output_type": "display_data"
    },
    {
     "data": {
      "text/plain": [
       "2025-10-03 03:04:44,277 fedbiomed INFO - \u001b[1mTRAINING\u001b[0m \n",
       "\t\t\t\t\t NODE_ID: NODE_5fbd3836-38ce-4075-9c03-bdef6bd97579 \n",
       "\t\t\t\t\t Round 5 Epoch: 9 | Iteration: 80/80 (100%) | Samples: 2541/2541\n",
       " \t\t\t\t\t Loss: \u001b[1m0.000000\u001b[0m \n",
       "\t\t\t\t\t ---------"
      ]
     },
     "metadata": {},
     "output_type": "display_data"
    },
    {
     "data": {
      "text/plain": [
       "2025-10-03 03:04:44,281 fedbiomed INFO - \u001b[1mTRAINING\u001b[0m \n",
       "\t\t\t\t\t NODE_ID: NODE_5fbd3836-38ce-4075-9c03-bdef6bd97579 \n",
       "\t\t\t\t\t Round 5 Epoch: 10 | Iteration: 1/80 (1%) | Samples: 32/2560\n",
       " \t\t\t\t\t Loss: \u001b[1m0.000000\u001b[0m \n",
       "\t\t\t\t\t ---------"
      ]
     },
     "metadata": {},
     "output_type": "display_data"
    },
    {
     "data": {
      "text/plain": [
       "2025-10-03 03:04:44,286 fedbiomed INFO - \u001b[1mTRAINING\u001b[0m \n",
       "\t\t\t\t\t NODE_ID: NODE_9da4e82d-e30d-44c2-a481-b8a877e97f4d \n",
       "\t\t\t\t\t Round 5 Epoch: 9 | Iteration: 80/80 (100%) | Samples: 2541/2541\n",
       " \t\t\t\t\t Loss: \u001b[1m0.000000\u001b[0m \n",
       "\t\t\t\t\t ---------"
      ]
     },
     "metadata": {},
     "output_type": "display_data"
    },
    {
     "data": {
      "text/plain": [
       "2025-10-03 03:04:44,289 fedbiomed INFO - \u001b[1mTRAINING\u001b[0m \n",
       "\t\t\t\t\t NODE_ID: NODE_9da4e82d-e30d-44c2-a481-b8a877e97f4d \n",
       "\t\t\t\t\t Round 5 Epoch: 10 | Iteration: 1/80 (1%) | Samples: 32/2560\n",
       " \t\t\t\t\t Loss: \u001b[1m0.000000\u001b[0m \n",
       "\t\t\t\t\t ---------"
      ]
     },
     "metadata": {},
     "output_type": "display_data"
    },
    {
     "data": {
      "text/plain": [
       "2025-10-03 03:04:44,301 fedbiomed INFO - \u001b[1mTRAINING\u001b[0m \n",
       "\t\t\t\t\t NODE_ID: NODE_5fbd3836-38ce-4075-9c03-bdef6bd97579 \n",
       "\t\t\t\t\t Round 5 Epoch: 10 | Iteration: 10/80 (12%) | Samples: 320/2560\n",
       " \t\t\t\t\t Loss: \u001b[1m0.000000\u001b[0m \n",
       "\t\t\t\t\t ---------"
      ]
     },
     "metadata": {},
     "output_type": "display_data"
    },
    {
     "data": {
      "text/plain": [
       "2025-10-03 03:04:44,305 fedbiomed INFO - \u001b[1mTRAINING\u001b[0m \n",
       "\t\t\t\t\t NODE_ID: NODE_9da4e82d-e30d-44c2-a481-b8a877e97f4d \n",
       "\t\t\t\t\t Round 5 Epoch: 10 | Iteration: 10/80 (12%) | Samples: 320/2560\n",
       " \t\t\t\t\t Loss: \u001b[1m0.000000\u001b[0m \n",
       "\t\t\t\t\t ---------"
      ]
     },
     "metadata": {},
     "output_type": "display_data"
    },
    {
     "data": {
      "text/plain": [
       "2025-10-03 03:04:44,319 fedbiomed INFO - \u001b[1mTRAINING\u001b[0m \n",
       "\t\t\t\t\t NODE_ID: NODE_9da4e82d-e30d-44c2-a481-b8a877e97f4d \n",
       "\t\t\t\t\t Round 5 Epoch: 10 | Iteration: 20/80 (25%) | Samples: 640/2560\n",
       " \t\t\t\t\t Loss: \u001b[1m0.000000\u001b[0m \n",
       "\t\t\t\t\t ---------"
      ]
     },
     "metadata": {},
     "output_type": "display_data"
    },
    {
     "data": {
      "text/plain": [
       "2025-10-03 03:04:44,323 fedbiomed INFO - \u001b[1mTRAINING\u001b[0m \n",
       "\t\t\t\t\t NODE_ID: NODE_5fbd3836-38ce-4075-9c03-bdef6bd97579 \n",
       "\t\t\t\t\t Round 5 Epoch: 10 | Iteration: 20/80 (25%) | Samples: 640/2560\n",
       " \t\t\t\t\t Loss: \u001b[1m0.000000\u001b[0m \n",
       "\t\t\t\t\t ---------"
      ]
     },
     "metadata": {},
     "output_type": "display_data"
    },
    {
     "data": {
      "text/plain": [
       "2025-10-03 03:04:44,333 fedbiomed INFO - \u001b[1mTRAINING\u001b[0m \n",
       "\t\t\t\t\t NODE_ID: NODE_9da4e82d-e30d-44c2-a481-b8a877e97f4d \n",
       "\t\t\t\t\t Round 5 Epoch: 10 | Iteration: 30/80 (38%) | Samples: 960/2560\n",
       " \t\t\t\t\t Loss: \u001b[1m0.000000\u001b[0m \n",
       "\t\t\t\t\t ---------"
      ]
     },
     "metadata": {},
     "output_type": "display_data"
    },
    {
     "data": {
      "text/plain": [
       "2025-10-03 03:04:44,341 fedbiomed INFO - \u001b[1mTRAINING\u001b[0m \n",
       "\t\t\t\t\t NODE_ID: NODE_5fbd3836-38ce-4075-9c03-bdef6bd97579 \n",
       "\t\t\t\t\t Round 5 Epoch: 10 | Iteration: 30/80 (38%) | Samples: 960/2560\n",
       " \t\t\t\t\t Loss: \u001b[1m0.000000\u001b[0m \n",
       "\t\t\t\t\t ---------"
      ]
     },
     "metadata": {},
     "output_type": "display_data"
    },
    {
     "data": {
      "text/plain": [
       "2025-10-03 03:04:44,343 fedbiomed INFO - \u001b[1mTRAINING\u001b[0m \n",
       "\t\t\t\t\t NODE_ID: NODE_9da4e82d-e30d-44c2-a481-b8a877e97f4d \n",
       "\t\t\t\t\t Round 5 Epoch: 10 | Iteration: 40/80 (50%) | Samples: 1280/2560\n",
       " \t\t\t\t\t Loss: \u001b[1m0.000000\u001b[0m \n",
       "\t\t\t\t\t ---------"
      ]
     },
     "metadata": {},
     "output_type": "display_data"
    },
    {
     "data": {
      "text/plain": [
       "2025-10-03 03:04:44,359 fedbiomed INFO - \u001b[1mTRAINING\u001b[0m \n",
       "\t\t\t\t\t NODE_ID: NODE_9da4e82d-e30d-44c2-a481-b8a877e97f4d \n",
       "\t\t\t\t\t Round 5 Epoch: 10 | Iteration: 50/80 (62%) | Samples: 1600/2560\n",
       " \t\t\t\t\t Loss: \u001b[1m0.000000\u001b[0m \n",
       "\t\t\t\t\t ---------"
      ]
     },
     "metadata": {},
     "output_type": "display_data"
    },
    {
     "data": {
      "text/plain": [
       "2025-10-03 03:04:44,363 fedbiomed INFO - \u001b[1mTRAINING\u001b[0m \n",
       "\t\t\t\t\t NODE_ID: NODE_5fbd3836-38ce-4075-9c03-bdef6bd97579 \n",
       "\t\t\t\t\t Round 5 Epoch: 10 | Iteration: 40/80 (50%) | Samples: 1280/2560\n",
       " \t\t\t\t\t Loss: \u001b[1m0.000000\u001b[0m \n",
       "\t\t\t\t\t ---------"
      ]
     },
     "metadata": {},
     "output_type": "display_data"
    },
    {
     "data": {
      "text/plain": [
       "2025-10-03 03:04:44,377 fedbiomed INFO - \u001b[1mTRAINING\u001b[0m \n",
       "\t\t\t\t\t NODE_ID: NODE_9da4e82d-e30d-44c2-a481-b8a877e97f4d \n",
       "\t\t\t\t\t Round 5 Epoch: 10 | Iteration: 60/80 (75%) | Samples: 1920/2560\n",
       " \t\t\t\t\t Loss: \u001b[1m0.000000\u001b[0m \n",
       "\t\t\t\t\t ---------"
      ]
     },
     "metadata": {},
     "output_type": "display_data"
    },
    {
     "data": {
      "text/plain": [
       "2025-10-03 03:04:44,383 fedbiomed INFO - \u001b[1mTRAINING\u001b[0m \n",
       "\t\t\t\t\t NODE_ID: NODE_5fbd3836-38ce-4075-9c03-bdef6bd97579 \n",
       "\t\t\t\t\t Round 5 Epoch: 10 | Iteration: 50/80 (62%) | Samples: 1600/2560\n",
       " \t\t\t\t\t Loss: \u001b[1m0.000000\u001b[0m \n",
       "\t\t\t\t\t ---------"
      ]
     },
     "metadata": {},
     "output_type": "display_data"
    },
    {
     "data": {
      "text/plain": [
       "2025-10-03 03:04:44,393 fedbiomed INFO - \u001b[1mTRAINING\u001b[0m \n",
       "\t\t\t\t\t NODE_ID: NODE_9da4e82d-e30d-44c2-a481-b8a877e97f4d \n",
       "\t\t\t\t\t Round 5 Epoch: 10 | Iteration: 70/80 (88%) | Samples: 2240/2560\n",
       " \t\t\t\t\t Loss: \u001b[1m0.000000\u001b[0m \n",
       "\t\t\t\t\t ---------"
      ]
     },
     "metadata": {},
     "output_type": "display_data"
    },
    {
     "data": {
      "text/plain": [
       "2025-10-03 03:04:44,403 fedbiomed INFO - \u001b[1mTRAINING\u001b[0m \n",
       "\t\t\t\t\t NODE_ID: NODE_5fbd3836-38ce-4075-9c03-bdef6bd97579 \n",
       "\t\t\t\t\t Round 5 Epoch: 10 | Iteration: 60/80 (75%) | Samples: 1920/2560\n",
       " \t\t\t\t\t Loss: \u001b[1m0.000000\u001b[0m \n",
       "\t\t\t\t\t ---------"
      ]
     },
     "metadata": {},
     "output_type": "display_data"
    },
    {
     "data": {
      "text/plain": [
       "2025-10-03 03:04:44,408 fedbiomed INFO - \u001b[1mTRAINING\u001b[0m \n",
       "\t\t\t\t\t NODE_ID: NODE_9da4e82d-e30d-44c2-a481-b8a877e97f4d \n",
       "\t\t\t\t\t Round 5 Epoch: 10 | Iteration: 80/80 (100%) | Samples: 2541/2541\n",
       " \t\t\t\t\t Loss: \u001b[1m0.000000\u001b[0m \n",
       "\t\t\t\t\t ---------"
      ]
     },
     "metadata": {},
     "output_type": "display_data"
    },
    {
     "data": {
      "text/plain": [
       "2025-10-03 03:04:44,416 fedbiomed INFO - \u001b[1mVALIDATION ON LOCAL UPDATES\u001b[0m \n",
       "\t\t\t\t\t NODE_ID: NODE_9da4e82d-e30d-44c2-a481-b8a877e97f4d \n",
       "\t\t\t\t\t Round 5 | Iteration: 1/1 (100%) | Samples: 635/635\n",
       " \t\t\t\t\t ACCURACY: \u001b[1m1.000000\u001b[0m \n",
       "\t\t\t\t\t ---------"
      ]
     },
     "metadata": {},
     "output_type": "display_data"
    },
    {
     "data": {
      "text/plain": [
       "2025-10-03 03:04:44,424 fedbiomed INFO - \u001b[1mTRAINING\u001b[0m \n",
       "\t\t\t\t\t NODE_ID: NODE_5fbd3836-38ce-4075-9c03-bdef6bd97579 \n",
       "\t\t\t\t\t Round 5 Epoch: 10 | Iteration: 70/80 (88%) | Samples: 2240/2560\n",
       " \t\t\t\t\t Loss: \u001b[1m0.000000\u001b[0m \n",
       "\t\t\t\t\t ---------"
      ]
     },
     "metadata": {},
     "output_type": "display_data"
    },
    {
     "data": {
      "text/plain": [
       "2025-10-03 03:04:44,438 fedbiomed INFO - \u001b[1mTRAINING\u001b[0m \n",
       "\t\t\t\t\t NODE_ID: NODE_5fbd3836-38ce-4075-9c03-bdef6bd97579 \n",
       "\t\t\t\t\t Round 5 Epoch: 10 | Iteration: 80/80 (100%) | Samples: 2541/2541\n",
       " \t\t\t\t\t Loss: \u001b[1m0.000000\u001b[0m \n",
       "\t\t\t\t\t ---------"
      ]
     },
     "metadata": {},
     "output_type": "display_data"
    },
    {
     "data": {
      "text/plain": [
       "2025-10-03 03:04:44,443 fedbiomed INFO - \u001b[1mVALIDATION ON LOCAL UPDATES\u001b[0m \n",
       "\t\t\t\t\t NODE_ID: NODE_5fbd3836-38ce-4075-9c03-bdef6bd97579 \n",
       "\t\t\t\t\t Round 5 | Iteration: 1/1 (100%) | Samples: 635/635\n",
       " \t\t\t\t\t ACCURACY: \u001b[1m1.000000\u001b[0m \n",
       "\t\t\t\t\t ---------"
      ]
     },
     "metadata": {},
     "output_type": "display_data"
    },
    {
     "data": {
      "text/plain": [
       "2025-10-03 03:04:44,830 fedbiomed INFO - Nodes that successfully reply in round 4 ['NODE_9da4e82d-e30d-44c2-a481-b8a877e97f4d', 'NODE_5fbd3836-38ce-4075-9c03-bdef6bd97579']"
      ]
     },
     "metadata": {},
     "output_type": "display_data"
    },
    {
     "name": "stdout",
     "output_type": "stream",
     "text": [
      "<function extract_symbols at 0x7f19a038bac0>\n"
     ]
    },
    {
     "data": {
      "text/plain": [
       "2025-10-03 03:04:44,833 fedbiomed INFO - \u001b[1mSending request\u001b[0m \n",
       "\t\t\t\t\t\u001b[1m To\u001b[0m: NODE_9da4e82d-e30d-44c2-a481-b8a877e97f4d \n",
       "\t\t\t\t\t\u001b[1m Request: \u001b[0m:Perform final validation on aggregated parameters \n",
       " -----------------------------------------------------------------"
      ]
     },
     "metadata": {},
     "output_type": "display_data"
    },
    {
     "data": {
      "text/plain": [
       "2025-10-03 03:04:44,834 fedbiomed INFO - \u001b[1mSending request\u001b[0m \n",
       "\t\t\t\t\t\u001b[1m To\u001b[0m: NODE_5fbd3836-38ce-4075-9c03-bdef6bd97579 \n",
       "\t\t\t\t\t\u001b[1m Request: \u001b[0m:Perform final validation on aggregated parameters \n",
       " -----------------------------------------------------------------"
      ]
     },
     "metadata": {},
     "output_type": "display_data"
    },
    {
     "data": {
      "text/plain": [
       "2025-10-03 03:04:44,842 fedbiomed DEBUG - Node: NODE_9da4e82d-e30d-44c2-a481-b8a877e97f4d polling for the tasks"
      ]
     },
     "metadata": {},
     "output_type": "display_data"
    },
    {
     "data": {
      "text/plain": [
       "2025-10-03 03:04:44,844 fedbiomed DEBUG - Node: NODE_5fbd3836-38ce-4075-9c03-bdef6bd97579 polling for the tasks"
      ]
     },
     "metadata": {},
     "output_type": "display_data"
    },
    {
     "data": {
      "text/plain": [
       "2025-10-03 03:04:45,164 fedbiomed INFO - \u001b[1mVALIDATION ON GLOBAL UPDATES\u001b[0m \n",
       "\t\t\t\t\t NODE_ID: NODE_5fbd3836-38ce-4075-9c03-bdef6bd97579 \n",
       "\t\t\t\t\t Round 6 | Iteration: 1/1 (100%) | Samples: 635/635\n",
       " \t\t\t\t\t ACCURACY: \u001b[1m1.000000\u001b[0m \n",
       "\t\t\t\t\t ---------"
      ]
     },
     "metadata": {},
     "output_type": "display_data"
    },
    {
     "data": {
      "text/plain": [
       "2025-10-03 03:04:45,215 fedbiomed INFO - \u001b[1mVALIDATION ON GLOBAL UPDATES\u001b[0m \n",
       "\t\t\t\t\t NODE_ID: NODE_9da4e82d-e30d-44c2-a481-b8a877e97f4d \n",
       "\t\t\t\t\t Round 6 | Iteration: 1/1 (100%) | Samples: 635/635\n",
       " \t\t\t\t\t ACCURACY: \u001b[1m1.000000\u001b[0m \n",
       "\t\t\t\t\t ---------"
      ]
     },
     "metadata": {},
     "output_type": "display_data"
    }
   ],
   "source": [
    "from fedbiomed.researcher.federated_workflows import Experiment\n",
    "from fedbiomed.researcher.aggregators.fedavg import FedAverage\n",
    "from fedbiomed.common.metrics import MetricTypes\n",
    "\n",
    "tags = ['mama', 'cancer','mamografia']  # los tags con los que etiquetaste tu dataset en los nodos\n",
    "rounds = 5\n",
    "model_args = {}\n",
    "\n",
    "# ——— Cambia aquí: añade test_ratio, test_on_global_updates y test_metric ———\n",
    "training_args = {\n",
    "    'loader_args':            {'batch_size': 32},\n",
    "    'optimizer_args':         {'lr': 1e-3},\n",
    "    'epochs':                 10,\n",
    "    'dry_run':                False,\n",
    "    'batch_maxnum':           100,\n",
    "\n",
    "    # split local train/val y evalúa globalmente\n",
    "    'test_ratio':             0.2,  \n",
    "    'test_on_global_updates': True,\n",
    "    'test_metric': MetricTypes.ACCURACY,\n",
    "    'test_on_global_updates': True,\n",
    "    'test_on_local_updates': True,\n",
    "    'log_interval':           10\n",
    "}\n",
    "\n",
    "exp = Experiment(\n",
    "    tags=tags,\n",
    "    model_args=model_args,\n",
    "    training_plan_class=MyTrainingPlan,\n",
    "    training_args=training_args,\n",
    "    round_limit=rounds,\n",
    "    aggregator=FedAverage(),\n",
    "    tensorboard=True\n",
    ")\n",
    "\n",
    "# Ejecuta el entrenamiento y guarda el resultado\n",
    "results = exp.run()\n",
    "\n",
    "# Guardas los pesos aprendidos en un .pth\n",
    "exp.training_plan().export_model('modelo_federado.pth')"
   ]
  },
  {
   "cell_type": "code",
   "execution_count": 3,
   "id": "71472a95-dff3-4394-b0db-fb0d4f3f36db",
   "metadata": {},
   "outputs": [
    {
     "name": "stdout",
     "output_type": "stream",
     "text": [
      "Training rounds keys: dict_keys([0, 1, 2, 3, 4])\n",
      "Aggregated params keys: dict_keys([0, 1, 2, 3, 4])\n"
     ]
    }
   ],
   "source": [
    "try:\n",
    "    exp.training_plan().export_model('./trained_model')\n",
    "except Exception as e:\n",
    "    print(e)\n",
    "\n",
    "print(\"Training rounds keys:\", exp.training_replies().keys())\n",
    "print(\"Aggregated params keys:\", exp.aggregated_params().keys())"
   ]
  },
  {
   "cell_type": "code",
   "execution_count": 4,
   "id": "c4f97147-4376-41e0-9a18-927632d778f8",
   "metadata": {},
   "outputs": [
    {
     "data": {
      "text/plain": [
       "Net(\n",
       "  (fc1): Linear(in_features=512, out_features=16, bias=True)\n",
       "  (fc2): Linear(in_features=16, out_features=2, bias=True)\n",
       ")"
      ]
     },
     "execution_count": 4,
     "metadata": {},
     "output_type": "execute_result"
    }
   ],
   "source": [
    "import torch\n",
    "device = torch.device('cuda' if torch.cuda.is_available() else 'cpu')\n",
    "# 1) Recupera tu TrainingPlan en una variable\n",
    "plan = exp.training_plan()\n",
    "# 2) Importa los pesos que ya exportaste\n",
    "plan.import_model('modelo_federado.pth')\n",
    "# 3) Llama al método model() para obtener la red, y pásala a modo eval\n",
    "model = plan.model().to(device).eval()   # <- ojo a los paréntesis\n",
    "model.eval()"
   ]
  },
  {
   "cell_type": "code",
   "execution_count": 6,
   "id": "6742c46a-5f2d-44e9-8bdd-77bec438f175",
   "metadata": {},
   "outputs": [],
   "source": [
    "import pandas as pd\n",
    "import torch\n",
    "from sklearn.preprocessing import StandardScaler\n",
    "from torch.utils.data import DataLoader, TensorDataset\n",
    "\n",
    "# Cargar el DataFrame\n",
    "df_test = pd.read_csv(\"sin_metadatos_metricas.csv\")\n",
    "\n",
    "# Separar características y etiquetas\n",
    "X = df_test.drop(columns=[\"Diagnostic\"]).values\n",
    "y = df_test[\"Diagnostic\"].values\n",
    "\n",
    "\n",
    "# Convertir a tensores\n",
    "# Supongamos que df_test ya está normalizado\n",
    "X_test = torch.tensor(df_test.drop(columns=[\"Diagnostic\"]).values, dtype=torch.float32)\n",
    "y_test = torch.tensor(df_test[\"Diagnostic\"].values, dtype=torch.long)"
   ]
  },
  {
   "cell_type": "code",
   "execution_count": 7,
   "id": "9dce5e49-6813-4973-a686-de1fad0535e5",
   "metadata": {},
   "outputs": [],
   "source": [
    "# Pasar tensores al dispositivo\n",
    "X_test = X_test.to(device)\n",
    "y_test = y_test.to(device)\n",
    "\n",
    "# Crear DataLoader\n",
    "test_dataset = TensorDataset(X_test, y_test)\n",
    "test_loader = DataLoader(test_dataset, batch_size=32, shuffle=False)\n"
   ]
  },
  {
   "cell_type": "code",
   "execution_count": 8,
   "id": "ae46b7b6-efb4-4e83-9140-bde6f51764c3",
   "metadata": {},
   "outputs": [],
   "source": [
    "# Evaluación\n",
    "y_true = []\n",
    "y_pred = []\n",
    "y_score = []\n",
    "\n",
    "with torch.no_grad():\n",
    "    for inputs, labels in test_loader:\n",
    "        inputs = inputs.to(device)\n",
    "        labels = labels.to(device)\n",
    "\n",
    "        outputs = model(inputs)\n",
    "        probs = F.softmax(outputs, dim=1)\n",
    "        preds = torch.argmax(probs, dim=1)\n",
    "\n",
    "        y_true.extend(labels.cpu().numpy())\n",
    "        y_pred.extend(preds.cpu().numpy())\n",
    "        y_score.extend(probs[:, 1].cpu().numpy())  # Probabilidad clase positiva\n",
    "\n"
   ]
  },
  {
   "cell_type": "code",
   "execution_count": 9,
   "id": "a5124807-5896-4454-b403-31b1c96b7143",
   "metadata": {},
   "outputs": [
    {
     "name": "stdout",
     "output_type": "stream",
     "text": [
      "🔹 Matriz de confusión:\n",
      " [[ 86  14]\n",
      " [  0 100]]\n"
     ]
    }
   ],
   "source": [
    "from sklearn.metrics import confusion_matrix, roc_curve, auc, classification_report\n",
    "# Métricas\n",
    "y_true = np.array(y_true)\n",
    "y_pred = np.array(y_pred)\n",
    "y_score = np.array(y_score)\n",
    "\n",
    "# Matriz de confusión\n",
    "cm = confusion_matrix(y_true, y_pred)\n",
    "print(\"🔹 Matriz de confusión:\\n\", cm)\n"
   ]
  },
  {
   "cell_type": "code",
   "execution_count": 10,
   "id": "105003c3-15c2-4ff9-9777-53add683b47f",
   "metadata": {},
   "outputs": [
    {
     "data": {
      "image/png": "[encoded data removed]",
      "text/plain": [
       "<Figure size 640x480 with 1 Axes>"
      ]
     },
     "metadata": {},
     "output_type": "display_data"
    },
    {
     "name": "stdout",
     "output_type": "stream",
     "text": [
      "\n",
      "🔹 Reporte de clasificación:\n",
      "              precision    recall  f1-score   support\n",
      "\n",
      "           0      1.000     0.860     0.925       100\n",
      "           1      0.877     1.000     0.935       100\n",
      "\n",
      "    accuracy                          0.930       200\n",
      "   macro avg      0.939     0.930     0.930       200\n",
      "weighted avg      0.939     0.930     0.930       200\n",
      "\n"
     ]
    }
   ],
   "source": [
    "import torch.nn.functional as F\n",
    "from sklearn.metrics import confusion_matrix, roc_curve, auc, classification_report\n",
    "import matplotlib.pyplot as plt\n",
    "import numpy as np\n",
    "\n",
    "# Curva ROC y AUC\n",
    "fpr, tpr, thresholds = roc_curve(y_true, y_score)\n",
    "roc_auc = auc(fpr, tpr)\n",
    "\n",
    "plt.figure()\n",
    "plt.plot(fpr, tpr, label=f'Curva roc (AUC = {roc_auc:.5f})')\n",
    "plt.plot([0, 1], [0, 1], 'k--')\n",
    "plt.xlabel('Tasa de Falsos Positivos')\n",
    "plt.ylabel('Tasa de Verdaderos Positivos')\n",
    "plt.title('Curva ROC')\n",
    "plt.legend(loc=\"lower right\")\n",
    "plt.grid(True)\n",
    "plt.show()\n",
    "\n",
    "# Reporte de clasificación\n",
    "print(\"\\n🔹 Reporte de clasificación:\")\n",
    "print(classification_report(y_true, y_pred, digits=3))\n"
   ]
  },
  {
   "cell_type": "code",
   "execution_count": null,
   "id": "6b55f12d-8b9c-4b6c-9c2f-30ce74dbf55b",
   "metadata": {},
   "outputs": [],
   "source": []
  }
 ],
 "metadata": {
  "kernelspec": {
   "display_name": "Python 3 (ipykernel)",
   "language": "python",
   "name": "python3"
  },
  "language_info": {
   "codemirror_mode": {
    "name": "ipython",
    "version": 3
   },
   "file_extension": ".py",
   "mimetype": "text/x-python",
   "name": "python",
   "nbconvert_exporter": "python",
   "pygments_lexer": "ipython3",
   "version": "3.10.18"
  }
 },
 "nbformat": 4,
 "nbformat_minor": 5
}
