{
 "cells": [
  {
   "cell_type": "code",
   "execution_count": 1,
   "id": "37914cf9-7f2e-4521-9ede-110d8eb2a3ce",
   "metadata": {},
   "outputs": [],
   "source": [
    "import torch\n",
    "import torch.nn as nn\n",
    "import torch.nn.functional as F\n",
    "from fedbiomed.common.training_plans import TorchTrainingPlan\n",
    "from fedbiomed.common.data import DataManager\n",
    "import pandas as pd\n",
    "from torch.utils.data import Dataset, DataLoader, TensorDataset\n",
    "from sklearn.model_selection import train_test_split\n",
    "from sklearn.preprocessing import StandardScaler\n",
    "import numpy as np\n",
    "\n",
    "# Dataset personalizado que carga CSV desde la ruta local del nodo\n",
    "class BreastCancerDataset(Dataset):\n",
    "    def __init__(self, csv_path):\n",
    "        df = pd.read_csv(csv_path)\n",
    "        # Asumiendo que las columnas de características están en df.columns[:-1]\n",
    "        # y la última columna es la etiqueta\n",
    "        X = df.iloc[:, :-1].values.astype(np.float32)\n",
    "        y = df.iloc[:, -1].values.astype(np.int64)\n",
    "\n",
    "        # Normalizar características\n",
    "        scaler = StandardScaler()\n",
    "        X = scaler.fit_transform(X)\n",
    "\n",
    "        self.X = torch.tensor(X)\n",
    "        self.y = torch.tensor(y)\n",
    "\n",
    "    def __len__(self):\n",
    "        return len(self.y)\n",
    "\n",
    "    def __getitem__(self, idx):\n",
    "        return self.X[idx], self.y[idx]\n",
    "\n",
    "class MyTrainingPlan(TorchTrainingPlan):\n",
    "\n",
    "    class BreastCancerDataset(torch.utils.data.Dataset):\n",
    "        def __init__(self, csv_path):\n",
    "            import pandas as pd\n",
    "            from sklearn.preprocessing import StandardScaler\n",
    "            df = pd.read_csv(csv_path)\n",
    "            X = df.iloc[:, :-1].values.astype(np.float32)\n",
    "            y = df.iloc[:, -1].values.astype(np.int64)\n",
    "            scaler = StandardScaler()\n",
    "            X = scaler.fit_transform(X)\n",
    "            self.X = torch.tensor(X)\n",
    "            self.y = torch.tensor(y)\n",
    "\n",
    "        def __len__(self):\n",
    "            return len(self.y)\n",
    "\n",
    "        def __getitem__(self, idx):\n",
    "            return self.X[idx], self.y[idx]\n",
    "\n",
    "    def init_model(self, model_args):\n",
    "        class Net(nn.Module):\n",
    "            def __init__(self):\n",
    "                super().__init__()\n",
    "                self.fc1 = nn.Linear(539, 16)\n",
    "                self.fc2 = nn.Linear(16, 2)\n",
    "\n",
    "            def forward(self, x):\n",
    "                x = F.relu(self.fc1(x))\n",
    "                x = self.fc2(x)\n",
    "                return F.log_softmax(x, dim=1)\n",
    "        return Net()\n",
    "\n",
    "    def init_optimizer(self, optimizer_args):\n",
    "        return torch.optim.Adam(self.model().parameters(), lr=optimizer_args['lr'])\n",
    "\n",
    "    def init_dependencies(self):\n",
    "        return [\n",
    "            \"import numpy as np\",\n",
    "            'import pandas as pd',\n",
    "            'from sklearn.preprocessing import StandardScaler',\n",
    "            'import torch',\n",
    "            'import torch.nn.functional as F'\n",
    "        ]\n",
    "\n",
    "    def training_data(self):\n",
    "        # Usa la clase anidada\n",
    "        dataset = self.BreastCancerDataset(self.dataset_path)\n",
    "        return DataManager(dataset=dataset, shuffle=True)\n",
    "\n",
    "    def training_step(self, data, target):\n",
    "        output = self.model().forward(data)\n",
    "        loss = F.nll_loss(output, target)\n",
    "        return loss"
   ]
  },
  {
   "cell_type": "code",
   "execution_count": 2,
   "id": "65d1b6d3-a222-4527-8cd0-1a15c9173f79",
   "metadata": {},
   "outputs": [],
   "source": [
    "from fedbiomed.common.metrics import MetricTypes\n",
    "\n",
    "model_args = {}\n",
    "\n",
    "training_args = {\n",
    "    'loader_args': {'batch_size': 32},\n",
    "    'optimizer_args': {'lr': 1e-3},\n",
    "    'epochs': 5,\n",
    "    'dry_run': False,\n",
    "    'batch_maxnum': 100,\n",
    "    # otros parámetros opcionales\n",
    "}"
   ]
  },
  {
   "cell_type": "code",
   "execution_count": 3,
   "id": "fdc72bcf-aa29-4850-8ad8-408c297e93f8",
   "metadata": {},
   "outputs": [
    {
     "data": {
      "text/plain": [
       "2025-06-04 21:22:57,988 fedbiomed INFO - Starting researcher service..."
      ]
     },
     "metadata": {},
     "output_type": "display_data"
    },
    {
     "data": {
      "text/plain": [
       "2025-06-04 21:22:58,003 fedbiomed INFO - Waiting 3s for nodes to connect..."
      ]
     },
     "metadata": {},
     "output_type": "display_data"
    },
    {
     "data": {
      "text/plain": [
       "2025-06-04 21:22:58,756 fedbiomed DEBUG - Node: NODE_c4d7343b-8cc2-4c1e-9543-90dae1f49cff polling for the tasks"
      ]
     },
     "metadata": {},
     "output_type": "display_data"
    },
    {
     "data": {
      "text/plain": [
       "2025-06-04 21:22:59,901 fedbiomed INFO - Updating training data. This action will update FederatedDataset, and the nodes that will participate to the experiment."
      ]
     },
     "metadata": {},
     "output_type": "display_data"
    },
    {
     "data": {
      "text/plain": [
       "2025-06-04 21:22:59,950 fedbiomed DEBUG - Node: NODE_c4d7343b-8cc2-4c1e-9543-90dae1f49cff polling for the tasks"
      ]
     },
     "metadata": {},
     "output_type": "display_data"
    },
    {
     "data": {
      "text/plain": [
       "2025-06-04 21:22:59,971 fedbiomed INFO - Node selected for training -> NODE_c4d7343b-8cc2-4c1e-9543-90dae1f49cff"
      ]
     },
     "metadata": {},
     "output_type": "display_data"
    },
    {
     "name": "stdout",
     "output_type": "stream",
     "text": [
      "<function extract_symbols at 0x7fb984fc7760>\n"
     ]
    },
    {
     "data": {
      "text/plain": [
       "2025-06-04 21:22:59,979 fedbiomed DEBUG - Model file has been saved: /home/gersa/fedbiomed-dcm/Modulo_DICOM/fbm-researcher/var/experiments/Experiment_0006/model_e308dd9c-88cd-429d-8018-fe39ca7516f5.py"
      ]
     },
     "metadata": {},
     "output_type": "display_data"
    },
    {
     "name": "stderr",
     "output_type": "stream",
     "text": [
      "Secure RNG turned off. This is perfectly fine for experimentation as it allows for much faster training performance, but remember to turn it on and retrain one last time before production with ``secure_mode`` turned on.\n"
     ]
    },
    {
     "data": {
      "text/plain": [
       "2025-06-04 21:22:59,996 fedbiomed INFO - Removing tensorboard logs from previous experiment"
      ]
     },
     "metadata": {},
     "output_type": "display_data"
    },
    {
     "data": {
      "text/plain": [
       "2025-06-04 21:23:00,000 fedbiomed INFO - Sampled nodes in round 0 ['NODE_c4d7343b-8cc2-4c1e-9543-90dae1f49cff']"
      ]
     },
     "metadata": {},
     "output_type": "display_data"
    },
    {
     "name": "stdout",
     "output_type": "stream",
     "text": [
      "<function extract_symbols at 0x7fb984fc7760>\n"
     ]
    },
    {
     "data": {
      "text/plain": [
       "2025-06-04 21:23:00,004 fedbiomed INFO - \u001b[1mSending request\u001b[0m \n",
       "\t\t\t\t\t\u001b[1m To\u001b[0m: NODE_c4d7343b-8cc2-4c1e-9543-90dae1f49cff \n",
       "\t\t\t\t\t\u001b[1m Request: \u001b[0m: TRAIN\n",
       " -----------------------------------------------------------------"
      ]
     },
     "metadata": {},
     "output_type": "display_data"
    },
    {
     "data": {
      "text/plain": [
       "2025-06-04 21:23:00,035 fedbiomed DEBUG - Node: NODE_c4d7343b-8cc2-4c1e-9543-90dae1f49cff polling for the tasks"
      ]
     },
     "metadata": {},
     "output_type": "display_data"
    },
    {
     "data": {
      "text/plain": [
       "2025-06-04 21:23:01,207 fedbiomed INFO - \u001b[1mTRAINING\u001b[0m \n",
       "\t\t\t\t\t NODE_ID: NODE_c4d7343b-8cc2-4c1e-9543-90dae1f49cff \n",
       "\t\t\t\t\t Round 1 Epoch: 1 | Iteration: 1/7 (14%) | Samples: 32/224\n",
       " \t\t\t\t\t Loss: \u001b[1m0.568072\u001b[0m \n",
       "\t\t\t\t\t ---------"
      ]
     },
     "metadata": {},
     "output_type": "display_data"
    },
    {
     "data": {
      "text/plain": [
       "2025-06-04 21:23:01,240 fedbiomed INFO - \u001b[1mTRAINING\u001b[0m \n",
       "\t\t\t\t\t NODE_ID: NODE_c4d7343b-8cc2-4c1e-9543-90dae1f49cff \n",
       "\t\t\t\t\t Round 1 Epoch: 1 | Iteration: 7/7 (100%) | Samples: 208/208\n",
       " \t\t\t\t\t Loss: \u001b[1m0.438142\u001b[0m \n",
       "\t\t\t\t\t ---------"
      ]
     },
     "metadata": {},
     "output_type": "display_data"
    },
    {
     "data": {
      "text/plain": [
       "2025-06-04 21:23:01,250 fedbiomed INFO - \u001b[1mTRAINING\u001b[0m \n",
       "\t\t\t\t\t NODE_ID: NODE_c4d7343b-8cc2-4c1e-9543-90dae1f49cff \n",
       "\t\t\t\t\t Round 1 Epoch: 2 | Iteration: 1/7 (14%) | Samples: 32/224\n",
       " \t\t\t\t\t Loss: \u001b[1m0.419090\u001b[0m \n",
       "\t\t\t\t\t ---------"
      ]
     },
     "metadata": {},
     "output_type": "display_data"
    },
    {
     "data": {
      "text/plain": [
       "2025-06-04 21:23:01,260 fedbiomed INFO - \u001b[1mTRAINING\u001b[0m \n",
       "\t\t\t\t\t NODE_ID: NODE_c4d7343b-8cc2-4c1e-9543-90dae1f49cff \n",
       "\t\t\t\t\t Round 1 Epoch: 2 | Iteration: 3/7 (43%) | Samples: 96/224\n",
       " \t\t\t\t\t Loss: \u001b[1m0.329159\u001b[0m \n",
       "\t\t\t\t\t ---------"
      ]
     },
     "metadata": {},
     "output_type": "display_data"
    },
    {
     "data": {
      "text/plain": [
       "2025-06-04 21:23:01,282 fedbiomed INFO - \u001b[1mTRAINING\u001b[0m \n",
       "\t\t\t\t\t NODE_ID: NODE_c4d7343b-8cc2-4c1e-9543-90dae1f49cff \n",
       "\t\t\t\t\t Round 1 Epoch: 2 | Iteration: 7/7 (100%) | Samples: 208/208\n",
       " \t\t\t\t\t Loss: \u001b[1m0.278424\u001b[0m \n",
       "\t\t\t\t\t ---------"
      ]
     },
     "metadata": {},
     "output_type": "display_data"
    },
    {
     "data": {
      "text/plain": [
       "2025-06-04 21:23:01,294 fedbiomed INFO - \u001b[1mTRAINING\u001b[0m \n",
       "\t\t\t\t\t NODE_ID: NODE_c4d7343b-8cc2-4c1e-9543-90dae1f49cff \n",
       "\t\t\t\t\t Round 1 Epoch: 3 | Iteration: 1/7 (14%) | Samples: 32/224\n",
       " \t\t\t\t\t Loss: \u001b[1m0.191847\u001b[0m \n",
       "\t\t\t\t\t ---------"
      ]
     },
     "metadata": {},
     "output_type": "display_data"
    },
    {
     "data": {
      "text/plain": [
       "2025-06-04 21:23:01,321 fedbiomed INFO - \u001b[1mTRAINING\u001b[0m \n",
       "\t\t\t\t\t NODE_ID: NODE_c4d7343b-8cc2-4c1e-9543-90dae1f49cff \n",
       "\t\t\t\t\t Round 1 Epoch: 3 | Iteration: 6/7 (86%) | Samples: 192/224\n",
       " \t\t\t\t\t Loss: \u001b[1m0.212289\u001b[0m \n",
       "\t\t\t\t\t ---------"
      ]
     },
     "metadata": {},
     "output_type": "display_data"
    },
    {
     "data": {
      "text/plain": [
       "2025-06-04 21:23:01,327 fedbiomed INFO - \u001b[1mTRAINING\u001b[0m \n",
       "\t\t\t\t\t NODE_ID: NODE_c4d7343b-8cc2-4c1e-9543-90dae1f49cff \n",
       "\t\t\t\t\t Round 1 Epoch: 3 | Iteration: 7/7 (100%) | Samples: 208/208\n",
       " \t\t\t\t\t Loss: \u001b[1m0.271997\u001b[0m \n",
       "\t\t\t\t\t ---------"
      ]
     },
     "metadata": {},
     "output_type": "display_data"
    },
    {
     "data": {
      "text/plain": [
       "2025-06-04 21:23:01,334 fedbiomed INFO - \u001b[1mTRAINING\u001b[0m \n",
       "\t\t\t\t\t NODE_ID: NODE_c4d7343b-8cc2-4c1e-9543-90dae1f49cff \n",
       "\t\t\t\t\t Round 1 Epoch: 4 | Iteration: 1/7 (14%) | Samples: 32/224\n",
       " \t\t\t\t\t Loss: \u001b[1m0.163795\u001b[0m \n",
       "\t\t\t\t\t ---------"
      ]
     },
     "metadata": {},
     "output_type": "display_data"
    },
    {
     "data": {
      "text/plain": [
       "2025-06-04 21:23:01,361 fedbiomed INFO - \u001b[1mTRAINING\u001b[0m \n",
       "\t\t\t\t\t NODE_ID: NODE_c4d7343b-8cc2-4c1e-9543-90dae1f49cff \n",
       "\t\t\t\t\t Round 1 Epoch: 4 | Iteration: 7/7 (100%) | Samples: 208/208\n",
       " \t\t\t\t\t Loss: \u001b[1m0.215665\u001b[0m \n",
       "\t\t\t\t\t ---------"
      ]
     },
     "metadata": {},
     "output_type": "display_data"
    },
    {
     "data": {
      "text/plain": [
       "2025-06-04 21:23:01,367 fedbiomed INFO - \u001b[1mTRAINING\u001b[0m \n",
       "\t\t\t\t\t NODE_ID: NODE_c4d7343b-8cc2-4c1e-9543-90dae1f49cff \n",
       "\t\t\t\t\t Round 1 Epoch: 5 | Iteration: 1/7 (14%) | Samples: 32/224\n",
       " \t\t\t\t\t Loss: \u001b[1m0.155252\u001b[0m \n",
       "\t\t\t\t\t ---------"
      ]
     },
     "metadata": {},
     "output_type": "display_data"
    },
    {
     "data": {
      "text/plain": [
       "2025-06-04 21:23:01,373 fedbiomed INFO - \u001b[1mTRAINING\u001b[0m \n",
       "\t\t\t\t\t NODE_ID: NODE_c4d7343b-8cc2-4c1e-9543-90dae1f49cff \n",
       "\t\t\t\t\t Round 1 Epoch: 5 | Iteration: 2/7 (29%) | Samples: 64/224\n",
       " \t\t\t\t\t Loss: \u001b[1m0.327440\u001b[0m \n",
       "\t\t\t\t\t ---------"
      ]
     },
     "metadata": {},
     "output_type": "display_data"
    },
    {
     "data": {
      "text/plain": [
       "2025-06-04 21:23:01,395 fedbiomed INFO - \u001b[1mTRAINING\u001b[0m \n",
       "\t\t\t\t\t NODE_ID: NODE_c4d7343b-8cc2-4c1e-9543-90dae1f49cff \n",
       "\t\t\t\t\t Round 1 Epoch: 5 | Iteration: 7/7 (100%) | Samples: 208/208\n",
       " \t\t\t\t\t Loss: \u001b[1m0.073432\u001b[0m \n",
       "\t\t\t\t\t ---------"
      ]
     },
     "metadata": {},
     "output_type": "display_data"
    },
    {
     "data": {
      "text/plain": [
       "2025-06-04 21:23:01,414 fedbiomed INFO - Nodes that successfully reply in round 0 ['NODE_c4d7343b-8cc2-4c1e-9543-90dae1f49cff']"
      ]
     },
     "metadata": {},
     "output_type": "display_data"
    },
    {
     "data": {
      "text/plain": [
       "2025-06-04 21:23:01,423 fedbiomed INFO - Sampled nodes in round 1 ['NODE_c4d7343b-8cc2-4c1e-9543-90dae1f49cff']"
      ]
     },
     "metadata": {},
     "output_type": "display_data"
    },
    {
     "name": "stdout",
     "output_type": "stream",
     "text": [
      "<function extract_symbols at 0x7fb984fc7760>\n"
     ]
    },
    {
     "data": {
      "text/plain": [
       "2025-06-04 21:23:01,428 fedbiomed INFO - \u001b[1mSending request\u001b[0m \n",
       "\t\t\t\t\t\u001b[1m To\u001b[0m: NODE_c4d7343b-8cc2-4c1e-9543-90dae1f49cff \n",
       "\t\t\t\t\t\u001b[1m Request: \u001b[0m: TRAIN\n",
       " -----------------------------------------------------------------"
      ]
     },
     "metadata": {},
     "output_type": "display_data"
    },
    {
     "data": {
      "text/plain": [
       "2025-06-04 21:23:01,447 fedbiomed DEBUG - Node: NODE_c4d7343b-8cc2-4c1e-9543-90dae1f49cff polling for the tasks"
      ]
     },
     "metadata": {},
     "output_type": "display_data"
    },
    {
     "data": {
      "text/plain": [
       "2025-06-04 21:23:01,511 fedbiomed INFO - \u001b[1mTRAINING\u001b[0m \n",
       "\t\t\t\t\t NODE_ID: NODE_c4d7343b-8cc2-4c1e-9543-90dae1f49cff \n",
       "\t\t\t\t\t Round 2 Epoch: 1 | Iteration: 1/7 (14%) | Samples: 32/224\n",
       " \t\t\t\t\t Loss: \u001b[1m0.079117\u001b[0m \n",
       "\t\t\t\t\t ---------"
      ]
     },
     "metadata": {},
     "output_type": "display_data"
    },
    {
     "data": {
      "text/plain": [
       "2025-06-04 21:23:01,526 fedbiomed INFO - \u001b[1mTRAINING\u001b[0m \n",
       "\t\t\t\t\t NODE_ID: NODE_c4d7343b-8cc2-4c1e-9543-90dae1f49cff \n",
       "\t\t\t\t\t Round 2 Epoch: 1 | Iteration: 7/7 (100%) | Samples: 208/208\n",
       " \t\t\t\t\t Loss: \u001b[1m0.439390\u001b[0m \n",
       "\t\t\t\t\t ---------"
      ]
     },
     "metadata": {},
     "output_type": "display_data"
    },
    {
     "data": {
      "text/plain": [
       "2025-06-04 21:23:01,531 fedbiomed INFO - \u001b[1mTRAINING\u001b[0m \n",
       "\t\t\t\t\t NODE_ID: NODE_c4d7343b-8cc2-4c1e-9543-90dae1f49cff \n",
       "\t\t\t\t\t Round 2 Epoch: 2 | Iteration: 1/7 (14%) | Samples: 32/224\n",
       " \t\t\t\t\t Loss: \u001b[1m0.061031\u001b[0m \n",
       "\t\t\t\t\t ---------"
      ]
     },
     "metadata": {},
     "output_type": "display_data"
    },
    {
     "data": {
      "text/plain": [
       "2025-06-04 21:23:01,553 fedbiomed INFO - \u001b[1mTRAINING\u001b[0m \n",
       "\t\t\t\t\t NODE_ID: NODE_c4d7343b-8cc2-4c1e-9543-90dae1f49cff \n",
       "\t\t\t\t\t Round 2 Epoch: 2 | Iteration: 3/7 (43%) | Samples: 96/224\n",
       " \t\t\t\t\t Loss: \u001b[1m0.242991\u001b[0m \n",
       "\t\t\t\t\t ---------"
      ]
     },
     "metadata": {},
     "output_type": "display_data"
    },
    {
     "data": {
      "text/plain": [
       "2025-06-04 21:23:01,561 fedbiomed INFO - \u001b[1mTRAINING\u001b[0m \n",
       "\t\t\t\t\t NODE_ID: NODE_c4d7343b-8cc2-4c1e-9543-90dae1f49cff \n",
       "\t\t\t\t\t Round 2 Epoch: 2 | Iteration: 7/7 (100%) | Samples: 208/208\n",
       " \t\t\t\t\t Loss: \u001b[1m0.081042\u001b[0m \n",
       "\t\t\t\t\t ---------"
      ]
     },
     "metadata": {},
     "output_type": "display_data"
    },
    {
     "data": {
      "text/plain": [
       "2025-06-04 21:23:01,573 fedbiomed INFO - \u001b[1mTRAINING\u001b[0m \n",
       "\t\t\t\t\t NODE_ID: NODE_c4d7343b-8cc2-4c1e-9543-90dae1f49cff \n",
       "\t\t\t\t\t Round 2 Epoch: 3 | Iteration: 1/7 (14%) | Samples: 32/224\n",
       " \t\t\t\t\t Loss: \u001b[1m0.225780\u001b[0m \n",
       "\t\t\t\t\t ---------"
      ]
     },
     "metadata": {},
     "output_type": "display_data"
    },
    {
     "data": {
      "text/plain": [
       "2025-06-04 21:23:01,597 fedbiomed INFO - \u001b[1mTRAINING\u001b[0m \n",
       "\t\t\t\t\t NODE_ID: NODE_c4d7343b-8cc2-4c1e-9543-90dae1f49cff \n",
       "\t\t\t\t\t Round 2 Epoch: 3 | Iteration: 6/7 (86%) | Samples: 192/224\n",
       " \t\t\t\t\t Loss: \u001b[1m0.057239\u001b[0m \n",
       "\t\t\t\t\t ---------"
      ]
     },
     "metadata": {},
     "output_type": "display_data"
    },
    {
     "data": {
      "text/plain": [
       "2025-06-04 21:23:01,603 fedbiomed INFO - \u001b[1mTRAINING\u001b[0m \n",
       "\t\t\t\t\t NODE_ID: NODE_c4d7343b-8cc2-4c1e-9543-90dae1f49cff \n",
       "\t\t\t\t\t Round 2 Epoch: 3 | Iteration: 7/7 (100%) | Samples: 208/208\n",
       " \t\t\t\t\t Loss: \u001b[1m0.071861\u001b[0m \n",
       "\t\t\t\t\t ---------"
      ]
     },
     "metadata": {},
     "output_type": "display_data"
    },
    {
     "data": {
      "text/plain": [
       "2025-06-04 21:23:01,610 fedbiomed INFO - \u001b[1mTRAINING\u001b[0m \n",
       "\t\t\t\t\t NODE_ID: NODE_c4d7343b-8cc2-4c1e-9543-90dae1f49cff \n",
       "\t\t\t\t\t Round 2 Epoch: 4 | Iteration: 1/7 (14%) | Samples: 32/224\n",
       " \t\t\t\t\t Loss: \u001b[1m0.036204\u001b[0m \n",
       "\t\t\t\t\t ---------"
      ]
     },
     "metadata": {},
     "output_type": "display_data"
    },
    {
     "data": {
      "text/plain": [
       "2025-06-04 21:23:01,631 fedbiomed INFO - \u001b[1mTRAINING\u001b[0m \n",
       "\t\t\t\t\t NODE_ID: NODE_c4d7343b-8cc2-4c1e-9543-90dae1f49cff \n",
       "\t\t\t\t\t Round 2 Epoch: 4 | Iteration: 7/7 (100%) | Samples: 208/208\n",
       " \t\t\t\t\t Loss: \u001b[1m0.035719\u001b[0m \n",
       "\t\t\t\t\t ---------"
      ]
     },
     "metadata": {},
     "output_type": "display_data"
    },
    {
     "data": {
      "text/plain": [
       "2025-06-04 21:23:01,638 fedbiomed INFO - \u001b[1mTRAINING\u001b[0m \n",
       "\t\t\t\t\t NODE_ID: NODE_c4d7343b-8cc2-4c1e-9543-90dae1f49cff \n",
       "\t\t\t\t\t Round 2 Epoch: 5 | Iteration: 1/7 (14%) | Samples: 32/224\n",
       " \t\t\t\t\t Loss: \u001b[1m0.073643\u001b[0m \n",
       "\t\t\t\t\t ---------"
      ]
     },
     "metadata": {},
     "output_type": "display_data"
    },
    {
     "data": {
      "text/plain": [
       "2025-06-04 21:23:01,646 fedbiomed INFO - \u001b[1mTRAINING\u001b[0m \n",
       "\t\t\t\t\t NODE_ID: NODE_c4d7343b-8cc2-4c1e-9543-90dae1f49cff \n",
       "\t\t\t\t\t Round 2 Epoch: 5 | Iteration: 2/7 (29%) | Samples: 64/224\n",
       " \t\t\t\t\t Loss: \u001b[1m0.048986\u001b[0m \n",
       "\t\t\t\t\t ---------"
      ]
     },
     "metadata": {},
     "output_type": "display_data"
    },
    {
     "data": {
      "text/plain": [
       "2025-06-04 21:23:01,663 fedbiomed INFO - \u001b[1mTRAINING\u001b[0m \n",
       "\t\t\t\t\t NODE_ID: NODE_c4d7343b-8cc2-4c1e-9543-90dae1f49cff \n",
       "\t\t\t\t\t Round 2 Epoch: 5 | Iteration: 7/7 (100%) | Samples: 208/208\n",
       " \t\t\t\t\t Loss: \u001b[1m0.069071\u001b[0m \n",
       "\t\t\t\t\t ---------"
      ]
     },
     "metadata": {},
     "output_type": "display_data"
    },
    {
     "data": {
      "text/plain": [
       "2025-06-04 21:23:01,680 fedbiomed INFO - Nodes that successfully reply in round 1 ['NODE_c4d7343b-8cc2-4c1e-9543-90dae1f49cff']"
      ]
     },
     "metadata": {},
     "output_type": "display_data"
    },
    {
     "data": {
      "text/plain": [
       "2"
      ]
     },
     "execution_count": 3,
     "metadata": {},
     "output_type": "execute_result"
    }
   ],
   "source": [
    "from fedbiomed.researcher.federated_workflows import Experiment\n",
    "from fedbiomed.researcher.aggregators.fedavg import FedAverage\n",
    "\n",
    "tags = ['breast', 'cancer','mamography']  # los tags con los que etiquetaste tu dataset en los nodos\n",
    "rounds = 2\n",
    "\n",
    "exp = Experiment(\n",
    "    tags=tags,\n",
    "    model_args=model_args,\n",
    "    training_plan_class=MyTrainingPlan,\n",
    "    training_args=training_args,\n",
    "    round_limit=rounds,\n",
    "    aggregator=FedAverage(),\n",
    "    tensorboard=True\n",
    ")\n",
    "\n",
    "exp.run()  # corre el entrenamiento federado"
   ]
  },
  {
   "cell_type": "code",
   "execution_count": 4,
   "id": "d6329df5-2d09-4e20-8687-ba9d5327daa0",
   "metadata": {},
   "outputs": [
    {
     "name": "stdout",
     "output_type": "stream",
     "text": [
      "Training rounds keys: dict_keys([0, 1])\n",
      "Aggregated params keys: dict_keys([0, 1])\n"
     ]
    }
   ],
   "source": [
    "try:\n",
    "    exp.training_plan().export_model('./trained_model')\n",
    "except Exception as e:\n",
    "    print(e)\n",
    "\n",
    "print(\"Training rounds keys:\", exp.training_replies().keys())\n",
    "print(\"Aggregated params keys:\", exp.aggregated_params().keys())"
   ]
  }
 ],
 "metadata": {
  "kernelspec": {
   "display_name": "Python 3 (ipykernel)",
   "language": "python",
   "name": "python3"
  },
  "language_info": {
   "codemirror_mode": {
    "name": "ipython",
    "version": 3
   },
   "file_extension": ".py",
   "mimetype": "text/x-python",
   "name": "python",
   "nbconvert_exporter": "python",
   "pygments_lexer": "ipython3",
   "version": "3.10.17"
  }
 },
 "nbformat": 4,
 "nbformat_minor": 5
}
