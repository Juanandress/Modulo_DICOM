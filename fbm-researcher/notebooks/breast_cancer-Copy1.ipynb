{
 "cells": [
  {
   "cell_type": "code",
   "execution_count": 1,
   "id": "e27dfaef-623c-4b17-a1d9-299341bf940d",
   "metadata": {},
   "outputs": [],
   "source": [
    "import torch\n",
    "import torch.nn as nn\n",
    "import torch.nn.functional as F\n",
    "from fedbiomed.common.training_plans import TorchTrainingPlan\n",
    "from fedbiomed.common.data import DataManager\n",
    "import pandas as pd\n",
    "from torch.utils.data import Dataset, DataLoader, TensorDataset\n",
    "from sklearn.model_selection import train_test_split\n",
    "from sklearn.preprocessing import StandardScaler\n",
    "import numpy as np\n",
    "from sklearn.metrics import precision_score, recall_score, f1_score, roc_auc_score\n",
    "import logging\n",
    "logger = logging.getLogger(__name__)\n",
    "# Dataset personalizado que carga CSV desde la ruta local del nodo\n",
    "class BreastCancerDataset(Dataset):\n",
    "    def __init__(self, csv_path):\n",
    "        df = pd.read_csv(csv_path)\n",
    "        # Asumiendo que las columnas de características están en df.columns[:-1]\n",
    "        # y la última columna es la etiqueta\n",
    "        X = df.iloc[:, :-1].values.astype(np.float32)\n",
    "        y = df.iloc[:, -1].values.astype(np.int64)\n",
    "\n",
    "        # Normalizar características\n",
    "        scaler = StandardScaler()\n",
    "        X = scaler.fit_transform(X)\n",
    "\n",
    "        self.X = torch.tensor(X)\n",
    "        self.y = torch.tensor(y)\n",
    "\n",
    "    def __len__(self):\n",
    "        return len(self.y)\n",
    "\n",
    "    def __getitem__(self, idx):\n",
    "        return self.X[idx], self.y[idx]\n",
    "\n",
    "from fedbiomed.common.training_plans import TorchTrainingPlan\n",
    "import torch\n",
    "import torch.nn as nn\n",
    "import torch.nn.functional as F\n",
    "from sklearn.preprocessing import StandardScaler\n",
    "from sklearn.metrics import precision_score, recall_score, f1_score, roc_auc_score\n",
    "import pandas as pd\n",
    "import numpy as np\n",
    "\n",
    "class MyTrainingPlan(TorchTrainingPlan):\n",
    "\n",
    "    class BreastCancerDataset(torch.utils.data.Dataset):\n",
    "        def __init__(self, csv_path):\n",
    "            df = pd.read_csv(csv_path)\n",
    "            X = df.iloc[:, :-1].values.astype(np.float32)\n",
    "            y = df.iloc[:, -1].values.astype(np.int64)\n",
    "            scaler = StandardScaler()\n",
    "            X = scaler.fit_transform(X)\n",
    "            self.X = torch.tensor(X)\n",
    "            self.y = torch.tensor(y)\n",
    "\n",
    "        def __len__(self):\n",
    "            return len(self.y)\n",
    "\n",
    "        def __getitem__(self, idx):\n",
    "            return self.X[idx], self.y[idx]\n",
    "\n",
    "    def init_model(self, model_args):\n",
    "        class Net(nn.Module):\n",
    "            def __init__(self):\n",
    "                super().__init__()\n",
    "                self.fc1 = nn.Linear(512, 16)\n",
    "                self.fc2 = nn.Linear(16, 2)\n",
    "\n",
    "            def forward(self, x):\n",
    "                x = F.relu(self.fc1(x))\n",
    "                x = self.fc2(x)\n",
    "                return F.log_softmax(x, dim=1)\n",
    "        return Net()\n",
    "\n",
    "    def init_optimizer(self, optimizer_args):\n",
    "        return torch.optim.Adam(self.model().parameters(), lr=optimizer_args['lr'])\n",
    "\n",
    "    def init_dependencies(self):\n",
    "        return [\n",
    "            \"import numpy as np\",\n",
    "            \"import pandas as pd\",\n",
    "            \"from sklearn.preprocessing import StandardScaler\",\n",
    "            \"import torch\",\n",
    "            \"import torch.nn.functional as F\",\n",
    "            \"from sklearn.metrics import precision_score, recall_score, f1_score, roc_auc_score\",\n",
    "            \"from sklearn.model_selection import train_test_split\",  # <--- esta línea es la clave\n",
    "            \"from torch.utils.data import TensorDataset\"\n",
    "        ]\n",
    "\n",
    "    #def training_data(self):\n",
    "     #   dataset = self.BreastCancerDataset(self.dataset_path)\n",
    "      #  return DataManager(dataset=dataset, batch_size=32, shuffle=True)\n",
    "    \n",
    "    def training_data(self):\n",
    "        df = pd.read_csv(self.dataset_path)\n",
    "        X = df.iloc[:, :-1].values.astype(np.float32)\n",
    "        y = df.iloc[:, -1].values.astype(np.int64)\n",
    "        X = StandardScaler().fit_transform(X)\n",
    "    \n",
    "        # Split manual (como Fed-BioMed lo haría)\n",
    "        X_train, X_test, y_train, y_test = train_test_split(X, y, test_size=0.2, random_state=42)\n",
    "    \n",
    "        # Guarda el conjunto de test para luego evaluarlo manualmente si deseas\n",
    "        self.X_val = torch.tensor(X_test)\n",
    "        self.y_val = torch.tensor(y_test)\n",
    "    \n",
    "        dataset = TensorDataset(torch.tensor(X_train), torch.tensor(y_train))\n",
    "        return DataManager(dataset=dataset, batch_size=32, shuffle=True)\n",
    "        \n",
    "    def training_step(self, data, target, epoch=None):\n",
    "        # Entrenamiento normal\n",
    "        self.model().train()\n",
    "        output = self.model().forward(data)\n",
    "        loss = F.nll_loss(output, target)\n",
    "        return loss\n",
    "        \n",
    "   \n",
    "    def evaluate(self, data, target):\n",
    "        \"\"\"\n",
    "        Fed-BioMed invoca esto sobre cada batch de validación\n",
    "        (cuando tengas test_on_global_updates=True).\n",
    "        Debe devolver un dict {<metric_name>: value, …}.\n",
    "        \"\"\"\n",
    "        logger.info(\">>> Ejecutando método evaluate personalizado\")\n",
    "        #raise RuntimeError(\"Este evaluate() sí se está ejecutando.\")\n",
    "        self.model().eval()\n",
    "        with torch.no_grad():\n",
    "            logits = self.model()(data)\n",
    "            loss   = F.nll_loss(logits, target).item()\n",
    "            preds  = logits.argmax(dim=1).cpu().numpy()\n",
    "            y_true = target.cpu().numpy()\n",
    "\n",
    "            # calcula todas tus métricas\n",
    "            acc  = (preds == y_true).mean()\n",
    "            prec = precision_score(y_true, preds, average='weighted', zero_division=0)\n",
    "            rec  = recall_score(y_true, preds, average='weighted', zero_division=0)\n",
    "            f1   = f1_score(y_true, preds, average='weighted', zero_division=0)\n",
    "\n",
    "            metrics = {\n",
    "                        'global/loss':      loss,\n",
    "                        'global/accuracy':  acc,\n",
    "                        'global/precision': prec,\n",
    "                        'global/recall':    rec,\n",
    "                        'global/f1_score':  f1\n",
    "            }\n",
    "    \n",
    "            # loguea las métricas para TensorBoard\n",
    "            for name, val in metrics.items():\n",
    "                self.log(name, val)\n",
    "\n",
    "            logger.info(f\"Evaluating metrics: acc={acc}, prec={prec}, recall={rec}, f1={f1}\")\n",
    "\n",
    "    \n",
    "        return metrics\n",
    "\n",
    "\n",
    "\n"
   ]
  },
  {
   "cell_type": "code",
   "execution_count": 2,
   "id": "fdc72bcf-aa29-4850-8ad8-408c297e93f8",
   "metadata": {
    "scrolled": true
   },
   "outputs": [
    {
     "data": {
      "text/plain": [
       "2025-08-01 18:31:15,807 fedbiomed INFO - Starting researcher service..."
      ]
     },
     "metadata": {},
     "output_type": "display_data"
    },
    {
     "data": {
      "text/plain": [
       "2025-08-01 18:31:15,817 fedbiomed INFO - Waiting 3s for nodes to connect..."
      ]
     },
     "metadata": {},
     "output_type": "display_data"
    },
    {
     "data": {
      "text/plain": [
       "2025-08-01 18:31:16,930 fedbiomed DEBUG - Node: NODE_1396bb40-b8fc-4d8f-9575-8a5bba5b6ebb polling for the tasks"
      ]
     },
     "metadata": {},
     "output_type": "display_data"
    },
    {
     "data": {
      "text/plain": [
       "2025-08-01 18:31:18,824 fedbiomed INFO - Updating training data. This action will update FederatedDataset, and the nodes that will participate to the experiment."
      ]
     },
     "metadata": {},
     "output_type": "display_data"
    },
    {
     "data": {
      "text/plain": [
       "2025-08-01 18:31:18,891 fedbiomed DEBUG - Node: NODE_1396bb40-b8fc-4d8f-9575-8a5bba5b6ebb polling for the tasks"
      ]
     },
     "metadata": {},
     "output_type": "display_data"
    },
    {
     "data": {
      "text/plain": [
       "2025-08-01 18:31:18,897 fedbiomed INFO - Node selected for training -> NODE_1396bb40-b8fc-4d8f-9575-8a5bba5b6ebb"
      ]
     },
     "metadata": {},
     "output_type": "display_data"
    },
    {
     "name": "stdout",
     "output_type": "stream",
     "text": [
      "<function extract_symbols at 0x7fa3d0b5fb50>\n"
     ]
    },
    {
     "data": {
      "text/plain": [
       "2025-08-01 18:31:18,909 fedbiomed DEBUG - Model file has been saved: /home/gersa/fedbiomed-dcm/Modulo_DICOM/fbm-researcher/var/experiments/Experiment_0006/model_866c4978-0490-495c-b58a-4bc583df3d85.py"
      ]
     },
     "metadata": {},
     "output_type": "display_data"
    },
    {
     "name": "stderr",
     "output_type": "stream",
     "text": [
      "Secure RNG turned off. This is perfectly fine for experimentation as it allows for much faster training performance, but remember to turn it on and retrain one last time before production with ``secure_mode`` turned on.\n"
     ]
    },
    {
     "data": {
      "text/plain": [
       "2025-08-01 18:31:18,920 fedbiomed INFO - Removing tensorboard logs from previous experiment"
      ]
     },
     "metadata": {},
     "output_type": "display_data"
    },
    {
     "data": {
      "text/plain": [
       "2025-08-01 18:31:18,928 fedbiomed INFO - Sampled nodes in round 0 ['NODE_1396bb40-b8fc-4d8f-9575-8a5bba5b6ebb']"
      ]
     },
     "metadata": {},
     "output_type": "display_data"
    },
    {
     "name": "stdout",
     "output_type": "stream",
     "text": [
      "<function extract_symbols at 0x7fa3d0b5fb50>\n"
     ]
    },
    {
     "data": {
      "text/plain": [
       "2025-08-01 18:31:18,931 fedbiomed INFO - \u001b[1mSending request\u001b[0m \n",
       "\t\t\t\t\t\u001b[1m To\u001b[0m: NODE_1396bb40-b8fc-4d8f-9575-8a5bba5b6ebb \n",
       "\t\t\t\t\t\u001b[1m Request: \u001b[0m: TRAIN\n",
       " -----------------------------------------------------------------"
      ]
     },
     "metadata": {},
     "output_type": "display_data"
    },
    {
     "data": {
      "text/plain": [
       "2025-08-01 18:31:18,977 fedbiomed DEBUG - Node: NODE_1396bb40-b8fc-4d8f-9575-8a5bba5b6ebb polling for the tasks"
      ]
     },
     "metadata": {},
     "output_type": "display_data"
    },
    {
     "data": {
      "text/plain": [
       "2025-08-01 18:31:19,974 fedbiomed INFO - \u001b[1mVALIDATION ON GLOBAL UPDATES\u001b[0m \n",
       "\t\t\t\t\t NODE_ID: NODE_1396bb40-b8fc-4d8f-9575-8a5bba5b6ebb \n",
       "\t\t\t\t\t Round 1 | Iteration: 1/1 (100%) | Samples: 1302/1302\n",
       " \t\t\t\t\t F1_SCORE: \u001b[1m0.515477\u001b[0m \n",
       "\t\t\t\t\t ---------"
      ]
     },
     "metadata": {},
     "output_type": "display_data"
    },
    {
     "data": {
      "text/plain": [
       "2025-08-01 18:31:19,989 fedbiomed INFO - \u001b[1mTRAINING\u001b[0m \n",
       "\t\t\t\t\t NODE_ID: NODE_1396bb40-b8fc-4d8f-9575-8a5bba5b6ebb \n",
       "\t\t\t\t\t Round 1 Epoch: 1 | Iteration: 1/100 (1%) | Samples: 32/3200\n",
       " \t\t\t\t\t Loss: \u001b[1m0.694395\u001b[0m \n",
       "\t\t\t\t\t ---------"
      ]
     },
     "metadata": {},
     "output_type": "display_data"
    },
    {
     "data": {
      "text/plain": [
       "2025-08-01 18:31:20,002 fedbiomed INFO - \u001b[1mTRAINING\u001b[0m \n",
       "\t\t\t\t\t NODE_ID: NODE_1396bb40-b8fc-4d8f-9575-8a5bba5b6ebb \n",
       "\t\t\t\t\t Round 1 Epoch: 1 | Iteration: 10/100 (10%) | Samples: 320/3200\n",
       " \t\t\t\t\t Loss: \u001b[1m0.588409\u001b[0m \n",
       "\t\t\t\t\t ---------"
      ]
     },
     "metadata": {},
     "output_type": "display_data"
    },
    {
     "data": {
      "text/plain": [
       "2025-08-01 18:31:20,025 fedbiomed INFO - \u001b[1mTRAINING\u001b[0m \n",
       "\t\t\t\t\t NODE_ID: NODE_1396bb40-b8fc-4d8f-9575-8a5bba5b6ebb \n",
       "\t\t\t\t\t Round 1 Epoch: 1 | Iteration: 20/100 (20%) | Samples: 640/3200\n",
       " \t\t\t\t\t Loss: \u001b[1m0.411480\u001b[0m \n",
       "\t\t\t\t\t ---------"
      ]
     },
     "metadata": {},
     "output_type": "display_data"
    },
    {
     "data": {
      "text/plain": [
       "2025-08-01 18:31:20,038 fedbiomed INFO - \u001b[1mTRAINING\u001b[0m \n",
       "\t\t\t\t\t NODE_ID: NODE_1396bb40-b8fc-4d8f-9575-8a5bba5b6ebb \n",
       "\t\t\t\t\t Round 1 Epoch: 1 | Iteration: 30/100 (30%) | Samples: 960/3200\n",
       " \t\t\t\t\t Loss: \u001b[1m0.256522\u001b[0m \n",
       "\t\t\t\t\t ---------"
      ]
     },
     "metadata": {},
     "output_type": "display_data"
    },
    {
     "data": {
      "text/plain": [
       "2025-08-01 18:31:20,052 fedbiomed INFO - \u001b[1mTRAINING\u001b[0m \n",
       "\t\t\t\t\t NODE_ID: NODE_1396bb40-b8fc-4d8f-9575-8a5bba5b6ebb \n",
       "\t\t\t\t\t Round 1 Epoch: 1 | Iteration: 40/100 (40%) | Samples: 1280/3200\n",
       " \t\t\t\t\t Loss: \u001b[1m0.253351\u001b[0m \n",
       "\t\t\t\t\t ---------"
      ]
     },
     "metadata": {},
     "output_type": "display_data"
    },
    {
     "data": {
      "text/plain": [
       "2025-08-01 18:31:20,069 fedbiomed INFO - \u001b[1mTRAINING\u001b[0m \n",
       "\t\t\t\t\t NODE_ID: NODE_1396bb40-b8fc-4d8f-9575-8a5bba5b6ebb \n",
       "\t\t\t\t\t Round 1 Epoch: 1 | Iteration: 50/100 (50%) | Samples: 1600/3200\n",
       " \t\t\t\t\t Loss: \u001b[1m0.188650\u001b[0m \n",
       "\t\t\t\t\t ---------"
      ]
     },
     "metadata": {},
     "output_type": "display_data"
    },
    {
     "data": {
      "text/plain": [
       "2025-08-01 18:31:20,091 fedbiomed INFO - \u001b[1mTRAINING\u001b[0m \n",
       "\t\t\t\t\t NODE_ID: NODE_1396bb40-b8fc-4d8f-9575-8a5bba5b6ebb \n",
       "\t\t\t\t\t Round 1 Epoch: 1 | Iteration: 60/100 (60%) | Samples: 1920/3200\n",
       " \t\t\t\t\t Loss: \u001b[1m0.079449\u001b[0m \n",
       "\t\t\t\t\t ---------"
      ]
     },
     "metadata": {},
     "output_type": "display_data"
    },
    {
     "data": {
      "text/plain": [
       "2025-08-01 18:31:20,104 fedbiomed INFO - \u001b[1mTRAINING\u001b[0m \n",
       "\t\t\t\t\t NODE_ID: NODE_1396bb40-b8fc-4d8f-9575-8a5bba5b6ebb \n",
       "\t\t\t\t\t Round 1 Epoch: 1 | Iteration: 70/100 (70%) | Samples: 2240/3200\n",
       " \t\t\t\t\t Loss: \u001b[1m0.078990\u001b[0m \n",
       "\t\t\t\t\t ---------"
      ]
     },
     "metadata": {},
     "output_type": "display_data"
    },
    {
     "data": {
      "text/plain": [
       "2025-08-01 18:31:20,120 fedbiomed INFO - \u001b[1mTRAINING\u001b[0m \n",
       "\t\t\t\t\t NODE_ID: NODE_1396bb40-b8fc-4d8f-9575-8a5bba5b6ebb \n",
       "\t\t\t\t\t Round 1 Epoch: 1 | Iteration: 80/100 (80%) | Samples: 2560/3200\n",
       " \t\t\t\t\t Loss: \u001b[1m0.061301\u001b[0m \n",
       "\t\t\t\t\t ---------"
      ]
     },
     "metadata": {},
     "output_type": "display_data"
    },
    {
     "data": {
      "text/plain": [
       "2025-08-01 18:31:20,135 fedbiomed INFO - \u001b[1mTRAINING\u001b[0m \n",
       "\t\t\t\t\t NODE_ID: NODE_1396bb40-b8fc-4d8f-9575-8a5bba5b6ebb \n",
       "\t\t\t\t\t Round 1 Epoch: 1 | Iteration: 90/100 (90%) | Samples: 2880/3200\n",
       " \t\t\t\t\t Loss: \u001b[1m0.129600\u001b[0m \n",
       "\t\t\t\t\t ---------"
      ]
     },
     "metadata": {},
     "output_type": "display_data"
    },
    {
     "data": {
      "text/plain": [
       "2025-08-01 18:31:20,150 fedbiomed INFO - \u001b[1mTRAINING\u001b[0m \n",
       "\t\t\t\t\t NODE_ID: NODE_1396bb40-b8fc-4d8f-9575-8a5bba5b6ebb \n",
       "\t\t\t\t\t Round 1 Epoch: 1 | Iteration: 100/100 (100%) | Samples: 3200/3200\n",
       " \t\t\t\t\t Loss: \u001b[1m0.073500\u001b[0m \n",
       "\t\t\t\t\t ---------"
      ]
     },
     "metadata": {},
     "output_type": "display_data"
    },
    {
     "data": {
      "text/plain": [
       "2025-08-01 18:31:20,155 fedbiomed INFO - \u001b[1mTRAINING\u001b[0m \n",
       "\t\t\t\t\t NODE_ID: NODE_1396bb40-b8fc-4d8f-9575-8a5bba5b6ebb \n",
       "\t\t\t\t\t Round 1 Epoch: 2 | Iteration: 1/100 (1%) | Samples: 32/3200\n",
       " \t\t\t\t\t Loss: \u001b[1m0.033842\u001b[0m \n",
       "\t\t\t\t\t ---------"
      ]
     },
     "metadata": {},
     "output_type": "display_data"
    },
    {
     "data": {
      "text/plain": [
       "2025-08-01 18:31:20,182 fedbiomed INFO - \u001b[1mTRAINING\u001b[0m \n",
       "\t\t\t\t\t NODE_ID: NODE_1396bb40-b8fc-4d8f-9575-8a5bba5b6ebb \n",
       "\t\t\t\t\t Round 1 Epoch: 2 | Iteration: 10/100 (10%) | Samples: 320/3200\n",
       " \t\t\t\t\t Loss: \u001b[1m0.064894\u001b[0m \n",
       "\t\t\t\t\t ---------"
      ]
     },
     "metadata": {},
     "output_type": "display_data"
    },
    {
     "data": {
      "text/plain": [
       "2025-08-01 18:31:20,197 fedbiomed INFO - \u001b[1mTRAINING\u001b[0m \n",
       "\t\t\t\t\t NODE_ID: NODE_1396bb40-b8fc-4d8f-9575-8a5bba5b6ebb \n",
       "\t\t\t\t\t Round 1 Epoch: 2 | Iteration: 20/100 (20%) | Samples: 640/3200\n",
       " \t\t\t\t\t Loss: \u001b[1m0.077764\u001b[0m \n",
       "\t\t\t\t\t ---------"
      ]
     },
     "metadata": {},
     "output_type": "display_data"
    },
    {
     "data": {
      "text/plain": [
       "2025-08-01 18:31:20,212 fedbiomed INFO - \u001b[1mTRAINING\u001b[0m \n",
       "\t\t\t\t\t NODE_ID: NODE_1396bb40-b8fc-4d8f-9575-8a5bba5b6ebb \n",
       "\t\t\t\t\t Round 1 Epoch: 2 | Iteration: 30/100 (30%) | Samples: 960/3200\n",
       " \t\t\t\t\t Loss: \u001b[1m0.047452\u001b[0m \n",
       "\t\t\t\t\t ---------"
      ]
     },
     "metadata": {},
     "output_type": "display_data"
    },
    {
     "data": {
      "text/plain": [
       "2025-08-01 18:31:20,226 fedbiomed INFO - \u001b[1mTRAINING\u001b[0m \n",
       "\t\t\t\t\t NODE_ID: NODE_1396bb40-b8fc-4d8f-9575-8a5bba5b6ebb \n",
       "\t\t\t\t\t Round 1 Epoch: 2 | Iteration: 40/100 (40%) | Samples: 1280/3200\n",
       " \t\t\t\t\t Loss: \u001b[1m0.098374\u001b[0m \n",
       "\t\t\t\t\t ---------"
      ]
     },
     "metadata": {},
     "output_type": "display_data"
    },
    {
     "data": {
      "text/plain": [
       "2025-08-01 18:31:20,241 fedbiomed INFO - \u001b[1mTRAINING\u001b[0m \n",
       "\t\t\t\t\t NODE_ID: NODE_1396bb40-b8fc-4d8f-9575-8a5bba5b6ebb \n",
       "\t\t\t\t\t Round 1 Epoch: 2 | Iteration: 50/100 (50%) | Samples: 1600/3200\n",
       " \t\t\t\t\t Loss: \u001b[1m0.018068\u001b[0m \n",
       "\t\t\t\t\t ---------"
      ]
     },
     "metadata": {},
     "output_type": "display_data"
    },
    {
     "data": {
      "text/plain": [
       "2025-08-01 18:31:20,259 fedbiomed INFO - \u001b[1mTRAINING\u001b[0m \n",
       "\t\t\t\t\t NODE_ID: NODE_1396bb40-b8fc-4d8f-9575-8a5bba5b6ebb \n",
       "\t\t\t\t\t Round 1 Epoch: 2 | Iteration: 60/100 (60%) | Samples: 1920/3200\n",
       " \t\t\t\t\t Loss: \u001b[1m0.015485\u001b[0m \n",
       "\t\t\t\t\t ---------"
      ]
     },
     "metadata": {},
     "output_type": "display_data"
    },
    {
     "data": {
      "text/plain": [
       "2025-08-01 18:31:20,272 fedbiomed INFO - \u001b[1mTRAINING\u001b[0m \n",
       "\t\t\t\t\t NODE_ID: NODE_1396bb40-b8fc-4d8f-9575-8a5bba5b6ebb \n",
       "\t\t\t\t\t Round 1 Epoch: 2 | Iteration: 70/100 (70%) | Samples: 2240/3200\n",
       " \t\t\t\t\t Loss: \u001b[1m0.019056\u001b[0m \n",
       "\t\t\t\t\t ---------"
      ]
     },
     "metadata": {},
     "output_type": "display_data"
    },
    {
     "data": {
      "text/plain": [
       "2025-08-01 18:31:20,291 fedbiomed INFO - \u001b[1mTRAINING\u001b[0m \n",
       "\t\t\t\t\t NODE_ID: NODE_1396bb40-b8fc-4d8f-9575-8a5bba5b6ebb \n",
       "\t\t\t\t\t Round 1 Epoch: 2 | Iteration: 80/100 (80%) | Samples: 2560/3200\n",
       " \t\t\t\t\t Loss: \u001b[1m0.019699\u001b[0m \n",
       "\t\t\t\t\t ---------"
      ]
     },
     "metadata": {},
     "output_type": "display_data"
    },
    {
     "data": {
      "text/plain": [
       "2025-08-01 18:31:20,311 fedbiomed INFO - \u001b[1mTRAINING\u001b[0m \n",
       "\t\t\t\t\t NODE_ID: NODE_1396bb40-b8fc-4d8f-9575-8a5bba5b6ebb \n",
       "\t\t\t\t\t Round 1 Epoch: 2 | Iteration: 90/100 (90%) | Samples: 2880/3200\n",
       " \t\t\t\t\t Loss: \u001b[1m0.007688\u001b[0m \n",
       "\t\t\t\t\t ---------"
      ]
     },
     "metadata": {},
     "output_type": "display_data"
    },
    {
     "data": {
      "text/plain": [
       "2025-08-01 18:31:20,330 fedbiomed INFO - \u001b[1mTRAINING\u001b[0m \n",
       "\t\t\t\t\t NODE_ID: NODE_1396bb40-b8fc-4d8f-9575-8a5bba5b6ebb \n",
       "\t\t\t\t\t Round 1 Epoch: 2 | Iteration: 100/100 (100%) | Samples: 3200/3200\n",
       " \t\t\t\t\t Loss: \u001b[1m0.016137\u001b[0m \n",
       "\t\t\t\t\t ---------"
      ]
     },
     "metadata": {},
     "output_type": "display_data"
    },
    {
     "data": {
      "text/plain": [
       "2025-08-01 18:31:20,334 fedbiomed INFO - \u001b[1mTRAINING\u001b[0m \n",
       "\t\t\t\t\t NODE_ID: NODE_1396bb40-b8fc-4d8f-9575-8a5bba5b6ebb \n",
       "\t\t\t\t\t Round 1 Epoch: 3 | Iteration: 1/100 (1%) | Samples: 32/3200\n",
       " \t\t\t\t\t Loss: \u001b[1m0.009481\u001b[0m \n",
       "\t\t\t\t\t ---------"
      ]
     },
     "metadata": {},
     "output_type": "display_data"
    },
    {
     "data": {
      "text/plain": [
       "2025-08-01 18:31:20,348 fedbiomed INFO - \u001b[1mTRAINING\u001b[0m \n",
       "\t\t\t\t\t NODE_ID: NODE_1396bb40-b8fc-4d8f-9575-8a5bba5b6ebb \n",
       "\t\t\t\t\t Round 1 Epoch: 3 | Iteration: 10/100 (10%) | Samples: 320/3200\n",
       " \t\t\t\t\t Loss: \u001b[1m0.011998\u001b[0m \n",
       "\t\t\t\t\t ---------"
      ]
     },
     "metadata": {},
     "output_type": "display_data"
    },
    {
     "data": {
      "text/plain": [
       "2025-08-01 18:31:20,363 fedbiomed INFO - \u001b[1mTRAINING\u001b[0m \n",
       "\t\t\t\t\t NODE_ID: NODE_1396bb40-b8fc-4d8f-9575-8a5bba5b6ebb \n",
       "\t\t\t\t\t Round 1 Epoch: 3 | Iteration: 20/100 (20%) | Samples: 640/3200\n",
       " \t\t\t\t\t Loss: \u001b[1m0.005707\u001b[0m \n",
       "\t\t\t\t\t ---------"
      ]
     },
     "metadata": {},
     "output_type": "display_data"
    },
    {
     "data": {
      "text/plain": [
       "2025-08-01 18:31:20,380 fedbiomed INFO - \u001b[1mTRAINING\u001b[0m \n",
       "\t\t\t\t\t NODE_ID: NODE_1396bb40-b8fc-4d8f-9575-8a5bba5b6ebb \n",
       "\t\t\t\t\t Round 1 Epoch: 3 | Iteration: 30/100 (30%) | Samples: 960/3200\n",
       " \t\t\t\t\t Loss: \u001b[1m0.011015\u001b[0m \n",
       "\t\t\t\t\t ---------"
      ]
     },
     "metadata": {},
     "output_type": "display_data"
    },
    {
     "data": {
      "text/plain": [
       "2025-08-01 18:31:20,393 fedbiomed INFO - \u001b[1mTRAINING\u001b[0m \n",
       "\t\t\t\t\t NODE_ID: NODE_1396bb40-b8fc-4d8f-9575-8a5bba5b6ebb \n",
       "\t\t\t\t\t Round 1 Epoch: 3 | Iteration: 40/100 (40%) | Samples: 1280/3200\n",
       " \t\t\t\t\t Loss: \u001b[1m0.005431\u001b[0m \n",
       "\t\t\t\t\t ---------"
      ]
     },
     "metadata": {},
     "output_type": "display_data"
    },
    {
     "data": {
      "text/plain": [
       "2025-08-01 18:31:20,406 fedbiomed INFO - \u001b[1mTRAINING\u001b[0m \n",
       "\t\t\t\t\t NODE_ID: NODE_1396bb40-b8fc-4d8f-9575-8a5bba5b6ebb \n",
       "\t\t\t\t\t Round 1 Epoch: 3 | Iteration: 50/100 (50%) | Samples: 1600/3200\n",
       " \t\t\t\t\t Loss: \u001b[1m0.005646\u001b[0m \n",
       "\t\t\t\t\t ---------"
      ]
     },
     "metadata": {},
     "output_type": "display_data"
    },
    {
     "data": {
      "text/plain": [
       "2025-08-01 18:31:20,422 fedbiomed INFO - \u001b[1mTRAINING\u001b[0m \n",
       "\t\t\t\t\t NODE_ID: NODE_1396bb40-b8fc-4d8f-9575-8a5bba5b6ebb \n",
       "\t\t\t\t\t Round 1 Epoch: 3 | Iteration: 60/100 (60%) | Samples: 1920/3200\n",
       " \t\t\t\t\t Loss: \u001b[1m0.008310\u001b[0m \n",
       "\t\t\t\t\t ---------"
      ]
     },
     "metadata": {},
     "output_type": "display_data"
    },
    {
     "data": {
      "text/plain": [
       "2025-08-01 18:31:20,441 fedbiomed INFO - \u001b[1mTRAINING\u001b[0m \n",
       "\t\t\t\t\t NODE_ID: NODE_1396bb40-b8fc-4d8f-9575-8a5bba5b6ebb \n",
       "\t\t\t\t\t Round 1 Epoch: 3 | Iteration: 70/100 (70%) | Samples: 2240/3200\n",
       " \t\t\t\t\t Loss: \u001b[1m0.004993\u001b[0m \n",
       "\t\t\t\t\t ---------"
      ]
     },
     "metadata": {},
     "output_type": "display_data"
    },
    {
     "data": {
      "text/plain": [
       "2025-08-01 18:31:20,461 fedbiomed INFO - \u001b[1mTRAINING\u001b[0m \n",
       "\t\t\t\t\t NODE_ID: NODE_1396bb40-b8fc-4d8f-9575-8a5bba5b6ebb \n",
       "\t\t\t\t\t Round 1 Epoch: 3 | Iteration: 80/100 (80%) | Samples: 2560/3200\n",
       " \t\t\t\t\t Loss: \u001b[1m0.008555\u001b[0m \n",
       "\t\t\t\t\t ---------"
      ]
     },
     "metadata": {},
     "output_type": "display_data"
    },
    {
     "data": {
      "text/plain": [
       "2025-08-01 18:31:20,477 fedbiomed INFO - \u001b[1mTRAINING\u001b[0m \n",
       "\t\t\t\t\t NODE_ID: NODE_1396bb40-b8fc-4d8f-9575-8a5bba5b6ebb \n",
       "\t\t\t\t\t Round 1 Epoch: 3 | Iteration: 90/100 (90%) | Samples: 2880/3200\n",
       " \t\t\t\t\t Loss: \u001b[1m0.005409\u001b[0m \n",
       "\t\t\t\t\t ---------"
      ]
     },
     "metadata": {},
     "output_type": "display_data"
    },
    {
     "data": {
      "text/plain": [
       "2025-08-01 18:31:20,494 fedbiomed INFO - \u001b[1mTRAINING\u001b[0m \n",
       "\t\t\t\t\t NODE_ID: NODE_1396bb40-b8fc-4d8f-9575-8a5bba5b6ebb \n",
       "\t\t\t\t\t Round 1 Epoch: 3 | Iteration: 100/100 (100%) | Samples: 3200/3200\n",
       " \t\t\t\t\t Loss: \u001b[1m0.006790\u001b[0m \n",
       "\t\t\t\t\t ---------"
      ]
     },
     "metadata": {},
     "output_type": "display_data"
    },
    {
     "data": {
      "text/plain": [
       "2025-08-01 18:31:20,500 fedbiomed INFO - \u001b[1mTRAINING\u001b[0m \n",
       "\t\t\t\t\t NODE_ID: NODE_1396bb40-b8fc-4d8f-9575-8a5bba5b6ebb \n",
       "\t\t\t\t\t Round 1 Epoch: 4 | Iteration: 1/100 (1%) | Samples: 32/3200\n",
       " \t\t\t\t\t Loss: \u001b[1m0.004093\u001b[0m \n",
       "\t\t\t\t\t ---------"
      ]
     },
     "metadata": {},
     "output_type": "display_data"
    },
    {
     "data": {
      "text/plain": [
       "2025-08-01 18:31:20,526 fedbiomed INFO - \u001b[1mTRAINING\u001b[0m \n",
       "\t\t\t\t\t NODE_ID: NODE_1396bb40-b8fc-4d8f-9575-8a5bba5b6ebb \n",
       "\t\t\t\t\t Round 1 Epoch: 4 | Iteration: 10/100 (10%) | Samples: 320/3200\n",
       " \t\t\t\t\t Loss: \u001b[1m0.004815\u001b[0m \n",
       "\t\t\t\t\t ---------"
      ]
     },
     "metadata": {},
     "output_type": "display_data"
    },
    {
     "data": {
      "text/plain": [
       "2025-08-01 18:31:20,544 fedbiomed INFO - \u001b[1mTRAINING\u001b[0m \n",
       "\t\t\t\t\t NODE_ID: NODE_1396bb40-b8fc-4d8f-9575-8a5bba5b6ebb \n",
       "\t\t\t\t\t Round 1 Epoch: 4 | Iteration: 20/100 (20%) | Samples: 640/3200\n",
       " \t\t\t\t\t Loss: \u001b[1m0.004206\u001b[0m \n",
       "\t\t\t\t\t ---------"
      ]
     },
     "metadata": {},
     "output_type": "display_data"
    },
    {
     "data": {
      "text/plain": [
       "2025-08-01 18:31:20,575 fedbiomed INFO - \u001b[1mTRAINING\u001b[0m \n",
       "\t\t\t\t\t NODE_ID: NODE_1396bb40-b8fc-4d8f-9575-8a5bba5b6ebb \n",
       "\t\t\t\t\t Round 1 Epoch: 4 | Iteration: 30/100 (30%) | Samples: 960/3200\n",
       " \t\t\t\t\t Loss: \u001b[1m0.002436\u001b[0m \n",
       "\t\t\t\t\t ---------"
      ]
     },
     "metadata": {},
     "output_type": "display_data"
    },
    {
     "data": {
      "text/plain": [
       "2025-08-01 18:31:20,599 fedbiomed INFO - \u001b[1mTRAINING\u001b[0m \n",
       "\t\t\t\t\t NODE_ID: NODE_1396bb40-b8fc-4d8f-9575-8a5bba5b6ebb \n",
       "\t\t\t\t\t Round 1 Epoch: 4 | Iteration: 40/100 (40%) | Samples: 1280/3200\n",
       " \t\t\t\t\t Loss: \u001b[1m0.005426\u001b[0m \n",
       "\t\t\t\t\t ---------"
      ]
     },
     "metadata": {},
     "output_type": "display_data"
    },
    {
     "data": {
      "text/plain": [
       "2025-08-01 18:31:20,620 fedbiomed INFO - \u001b[1mTRAINING\u001b[0m \n",
       "\t\t\t\t\t NODE_ID: NODE_1396bb40-b8fc-4d8f-9575-8a5bba5b6ebb \n",
       "\t\t\t\t\t Round 1 Epoch: 4 | Iteration: 50/100 (50%) | Samples: 1600/3200\n",
       " \t\t\t\t\t Loss: \u001b[1m0.004408\u001b[0m \n",
       "\t\t\t\t\t ---------"
      ]
     },
     "metadata": {},
     "output_type": "display_data"
    },
    {
     "data": {
      "text/plain": [
       "2025-08-01 18:31:20,644 fedbiomed INFO - \u001b[1mTRAINING\u001b[0m \n",
       "\t\t\t\t\t NODE_ID: NODE_1396bb40-b8fc-4d8f-9575-8a5bba5b6ebb \n",
       "\t\t\t\t\t Round 1 Epoch: 4 | Iteration: 60/100 (60%) | Samples: 1920/3200\n",
       " \t\t\t\t\t Loss: \u001b[1m0.005288\u001b[0m \n",
       "\t\t\t\t\t ---------"
      ]
     },
     "metadata": {},
     "output_type": "display_data"
    },
    {
     "data": {
      "text/plain": [
       "2025-08-01 18:31:20,674 fedbiomed INFO - \u001b[1mTRAINING\u001b[0m \n",
       "\t\t\t\t\t NODE_ID: NODE_1396bb40-b8fc-4d8f-9575-8a5bba5b6ebb \n",
       "\t\t\t\t\t Round 1 Epoch: 4 | Iteration: 70/100 (70%) | Samples: 2240/3200\n",
       " \t\t\t\t\t Loss: \u001b[1m0.010423\u001b[0m \n",
       "\t\t\t\t\t ---------"
      ]
     },
     "metadata": {},
     "output_type": "display_data"
    },
    {
     "data": {
      "text/plain": [
       "2025-08-01 18:31:20,734 fedbiomed INFO - \u001b[1mTRAINING\u001b[0m \n",
       "\t\t\t\t\t NODE_ID: NODE_1396bb40-b8fc-4d8f-9575-8a5bba5b6ebb \n",
       "\t\t\t\t\t Round 1 Epoch: 4 | Iteration: 80/100 (80%) | Samples: 2560/3200\n",
       " \t\t\t\t\t Loss: \u001b[1m0.002375\u001b[0m \n",
       "\t\t\t\t\t ---------"
      ]
     },
     "metadata": {},
     "output_type": "display_data"
    },
    {
     "data": {
      "text/plain": [
       "2025-08-01 18:31:20,771 fedbiomed INFO - \u001b[1mTRAINING\u001b[0m \n",
       "\t\t\t\t\t NODE_ID: NODE_1396bb40-b8fc-4d8f-9575-8a5bba5b6ebb \n",
       "\t\t\t\t\t Round 1 Epoch: 4 | Iteration: 90/100 (90%) | Samples: 2880/3200\n",
       " \t\t\t\t\t Loss: \u001b[1m0.006107\u001b[0m \n",
       "\t\t\t\t\t ---------"
      ]
     },
     "metadata": {},
     "output_type": "display_data"
    },
    {
     "data": {
      "text/plain": [
       "2025-08-01 18:31:20,806 fedbiomed INFO - \u001b[1mTRAINING\u001b[0m \n",
       "\t\t\t\t\t NODE_ID: NODE_1396bb40-b8fc-4d8f-9575-8a5bba5b6ebb \n",
       "\t\t\t\t\t Round 1 Epoch: 4 | Iteration: 100/100 (100%) | Samples: 3200/3200\n",
       " \t\t\t\t\t Loss: \u001b[1m0.002547\u001b[0m \n",
       "\t\t\t\t\t ---------"
      ]
     },
     "metadata": {},
     "output_type": "display_data"
    },
    {
     "data": {
      "text/plain": [
       "2025-08-01 18:31:20,813 fedbiomed INFO - \u001b[1mTRAINING\u001b[0m \n",
       "\t\t\t\t\t NODE_ID: NODE_1396bb40-b8fc-4d8f-9575-8a5bba5b6ebb \n",
       "\t\t\t\t\t Round 1 Epoch: 5 | Iteration: 1/100 (1%) | Samples: 32/3200\n",
       " \t\t\t\t\t Loss: \u001b[1m0.001700\u001b[0m \n",
       "\t\t\t\t\t ---------"
      ]
     },
     "metadata": {},
     "output_type": "display_data"
    },
    {
     "data": {
      "text/plain": [
       "2025-08-01 18:31:20,830 fedbiomed INFO - \u001b[1mTRAINING\u001b[0m \n",
       "\t\t\t\t\t NODE_ID: NODE_1396bb40-b8fc-4d8f-9575-8a5bba5b6ebb \n",
       "\t\t\t\t\t Round 1 Epoch: 5 | Iteration: 10/100 (10%) | Samples: 320/3200\n",
       " \t\t\t\t\t Loss: \u001b[1m0.002141\u001b[0m \n",
       "\t\t\t\t\t ---------"
      ]
     },
     "metadata": {},
     "output_type": "display_data"
    },
    {
     "data": {
      "text/plain": [
       "2025-08-01 18:31:20,855 fedbiomed INFO - \u001b[1mTRAINING\u001b[0m \n",
       "\t\t\t\t\t NODE_ID: NODE_1396bb40-b8fc-4d8f-9575-8a5bba5b6ebb \n",
       "\t\t\t\t\t Round 1 Epoch: 5 | Iteration: 20/100 (20%) | Samples: 640/3200\n",
       " \t\t\t\t\t Loss: \u001b[1m0.001999\u001b[0m \n",
       "\t\t\t\t\t ---------"
      ]
     },
     "metadata": {},
     "output_type": "display_data"
    },
    {
     "data": {
      "text/plain": [
       "2025-08-01 18:31:20,883 fedbiomed INFO - \u001b[1mTRAINING\u001b[0m \n",
       "\t\t\t\t\t NODE_ID: NODE_1396bb40-b8fc-4d8f-9575-8a5bba5b6ebb \n",
       "\t\t\t\t\t Round 1 Epoch: 5 | Iteration: 30/100 (30%) | Samples: 960/3200\n",
       " \t\t\t\t\t Loss: \u001b[1m0.007067\u001b[0m \n",
       "\t\t\t\t\t ---------"
      ]
     },
     "metadata": {},
     "output_type": "display_data"
    },
    {
     "data": {
      "text/plain": [
       "2025-08-01 18:31:20,907 fedbiomed INFO - \u001b[1mTRAINING\u001b[0m \n",
       "\t\t\t\t\t NODE_ID: NODE_1396bb40-b8fc-4d8f-9575-8a5bba5b6ebb \n",
       "\t\t\t\t\t Round 1 Epoch: 5 | Iteration: 40/100 (40%) | Samples: 1280/3200\n",
       " \t\t\t\t\t Loss: \u001b[1m0.002465\u001b[0m \n",
       "\t\t\t\t\t ---------"
      ]
     },
     "metadata": {},
     "output_type": "display_data"
    },
    {
     "data": {
      "text/plain": [
       "2025-08-01 18:31:20,938 fedbiomed INFO - \u001b[1mTRAINING\u001b[0m \n",
       "\t\t\t\t\t NODE_ID: NODE_1396bb40-b8fc-4d8f-9575-8a5bba5b6ebb \n",
       "\t\t\t\t\t Round 1 Epoch: 5 | Iteration: 50/100 (50%) | Samples: 1600/3200\n",
       " \t\t\t\t\t Loss: \u001b[1m0.001691\u001b[0m \n",
       "\t\t\t\t\t ---------"
      ]
     },
     "metadata": {},
     "output_type": "display_data"
    },
    {
     "data": {
      "text/plain": [
       "2025-08-01 18:31:20,959 fedbiomed INFO - \u001b[1mTRAINING\u001b[0m \n",
       "\t\t\t\t\t NODE_ID: NODE_1396bb40-b8fc-4d8f-9575-8a5bba5b6ebb \n",
       "\t\t\t\t\t Round 1 Epoch: 5 | Iteration: 60/100 (60%) | Samples: 1920/3200\n",
       " \t\t\t\t\t Loss: \u001b[1m0.002132\u001b[0m \n",
       "\t\t\t\t\t ---------"
      ]
     },
     "metadata": {},
     "output_type": "display_data"
    },
    {
     "data": {
      "text/plain": [
       "2025-08-01 18:31:20,998 fedbiomed INFO - \u001b[1mTRAINING\u001b[0m \n",
       "\t\t\t\t\t NODE_ID: NODE_1396bb40-b8fc-4d8f-9575-8a5bba5b6ebb \n",
       "\t\t\t\t\t Round 1 Epoch: 5 | Iteration: 70/100 (70%) | Samples: 2240/3200\n",
       " \t\t\t\t\t Loss: \u001b[1m0.002110\u001b[0m \n",
       "\t\t\t\t\t ---------"
      ]
     },
     "metadata": {},
     "output_type": "display_data"
    },
    {
     "data": {
      "text/plain": [
       "2025-08-01 18:31:21,008 fedbiomed INFO - \u001b[1mTRAINING\u001b[0m \n",
       "\t\t\t\t\t NODE_ID: NODE_1396bb40-b8fc-4d8f-9575-8a5bba5b6ebb \n",
       "\t\t\t\t\t Round 1 Epoch: 5 | Iteration: 80/100 (80%) | Samples: 2560/3200\n",
       " \t\t\t\t\t Loss: \u001b[1m0.002085\u001b[0m \n",
       "\t\t\t\t\t ---------"
      ]
     },
     "metadata": {},
     "output_type": "display_data"
    },
    {
     "data": {
      "text/plain": [
       "2025-08-01 18:31:21,019 fedbiomed INFO - \u001b[1mTRAINING\u001b[0m \n",
       "\t\t\t\t\t NODE_ID: NODE_1396bb40-b8fc-4d8f-9575-8a5bba5b6ebb \n",
       "\t\t\t\t\t Round 1 Epoch: 5 | Iteration: 90/100 (90%) | Samples: 2880/3200\n",
       " \t\t\t\t\t Loss: \u001b[1m0.001286\u001b[0m \n",
       "\t\t\t\t\t ---------"
      ]
     },
     "metadata": {},
     "output_type": "display_data"
    },
    {
     "data": {
      "text/plain": [
       "2025-08-01 18:31:21,029 fedbiomed INFO - \u001b[1mTRAINING\u001b[0m \n",
       "\t\t\t\t\t NODE_ID: NODE_1396bb40-b8fc-4d8f-9575-8a5bba5b6ebb \n",
       "\t\t\t\t\t Round 1 Epoch: 5 | Iteration: 100/100 (100%) | Samples: 3200/3200\n",
       " \t\t\t\t\t Loss: \u001b[1m0.001109\u001b[0m \n",
       "\t\t\t\t\t ---------"
      ]
     },
     "metadata": {},
     "output_type": "display_data"
    },
    {
     "data": {
      "text/plain": [
       "2025-08-01 18:31:21,043 fedbiomed INFO - \u001b[1mVALIDATION ON LOCAL UPDATES\u001b[0m \n",
       "\t\t\t\t\t NODE_ID: NODE_1396bb40-b8fc-4d8f-9575-8a5bba5b6ebb \n",
       "\t\t\t\t\t Round 1 | Iteration: 1/1 (100%) | Samples: 1302/1302\n",
       " \t\t\t\t\t F1_SCORE: \u001b[1m1.000000\u001b[0m \n",
       "\t\t\t\t\t ---------"
      ]
     },
     "metadata": {},
     "output_type": "display_data"
    },
    {
     "data": {
      "text/plain": [
       "2025-08-01 18:31:21,107 fedbiomed INFO - Nodes that successfully reply in round 0 ['NODE_1396bb40-b8fc-4d8f-9575-8a5bba5b6ebb']"
      ]
     },
     "metadata": {},
     "output_type": "display_data"
    },
    {
     "data": {
      "text/plain": [
       "2025-08-01 18:31:21,111 fedbiomed INFO - Sampled nodes in round 1 ['NODE_1396bb40-b8fc-4d8f-9575-8a5bba5b6ebb']"
      ]
     },
     "metadata": {},
     "output_type": "display_data"
    },
    {
     "name": "stdout",
     "output_type": "stream",
     "text": [
      "<function extract_symbols at 0x7fa3d0b5fb50>\n"
     ]
    },
    {
     "data": {
      "text/plain": [
       "2025-08-01 18:31:21,114 fedbiomed INFO - \u001b[1mSending request\u001b[0m \n",
       "\t\t\t\t\t\u001b[1m To\u001b[0m: NODE_1396bb40-b8fc-4d8f-9575-8a5bba5b6ebb \n",
       "\t\t\t\t\t\u001b[1m Request: \u001b[0m: TRAIN\n",
       " -----------------------------------------------------------------"
      ]
     },
     "metadata": {},
     "output_type": "display_data"
    },
    {
     "data": {
      "text/plain": [
       "2025-08-01 18:31:21,124 fedbiomed DEBUG - Node: NODE_1396bb40-b8fc-4d8f-9575-8a5bba5b6ebb polling for the tasks"
      ]
     },
     "metadata": {},
     "output_type": "display_data"
    },
    {
     "data": {
      "text/plain": [
       "2025-08-01 18:31:21,636 fedbiomed INFO - \u001b[1mVALIDATION ON GLOBAL UPDATES\u001b[0m \n",
       "\t\t\t\t\t NODE_ID: NODE_1396bb40-b8fc-4d8f-9575-8a5bba5b6ebb \n",
       "\t\t\t\t\t Round 2 | Iteration: 1/1 (100%) | Samples: 1302/1302\n",
       " \t\t\t\t\t F1_SCORE: \u001b[1m1.000000\u001b[0m \n",
       "\t\t\t\t\t ---------"
      ]
     },
     "metadata": {},
     "output_type": "display_data"
    },
    {
     "data": {
      "text/plain": [
       "2025-08-01 18:31:21,640 fedbiomed INFO - \u001b[1mTRAINING\u001b[0m \n",
       "\t\t\t\t\t NODE_ID: NODE_1396bb40-b8fc-4d8f-9575-8a5bba5b6ebb \n",
       "\t\t\t\t\t Round 2 Epoch: 1 | Iteration: 1/100 (1%) | Samples: 32/3200\n",
       " \t\t\t\t\t Loss: \u001b[1m0.003139\u001b[0m \n",
       "\t\t\t\t\t ---------"
      ]
     },
     "metadata": {},
     "output_type": "display_data"
    },
    {
     "data": {
      "text/plain": [
       "2025-08-01 18:31:21,653 fedbiomed INFO - \u001b[1mTRAINING\u001b[0m \n",
       "\t\t\t\t\t NODE_ID: NODE_1396bb40-b8fc-4d8f-9575-8a5bba5b6ebb \n",
       "\t\t\t\t\t Round 2 Epoch: 1 | Iteration: 10/100 (10%) | Samples: 320/3200\n",
       " \t\t\t\t\t Loss: \u001b[1m0.001345\u001b[0m \n",
       "\t\t\t\t\t ---------"
      ]
     },
     "metadata": {},
     "output_type": "display_data"
    },
    {
     "data": {
      "text/plain": [
       "2025-08-01 18:31:21,682 fedbiomed INFO - \u001b[1mTRAINING\u001b[0m \n",
       "\t\t\t\t\t NODE_ID: NODE_1396bb40-b8fc-4d8f-9575-8a5bba5b6ebb \n",
       "\t\t\t\t\t Round 2 Epoch: 1 | Iteration: 20/100 (20%) | Samples: 640/3200\n",
       " \t\t\t\t\t Loss: \u001b[1m0.000619\u001b[0m \n",
       "\t\t\t\t\t ---------"
      ]
     },
     "metadata": {},
     "output_type": "display_data"
    },
    {
     "data": {
      "text/plain": [
       "2025-08-01 18:31:21,704 fedbiomed INFO - \u001b[1mTRAINING\u001b[0m \n",
       "\t\t\t\t\t NODE_ID: NODE_1396bb40-b8fc-4d8f-9575-8a5bba5b6ebb \n",
       "\t\t\t\t\t Round 2 Epoch: 1 | Iteration: 30/100 (30%) | Samples: 960/3200\n",
       " \t\t\t\t\t Loss: \u001b[1m0.000201\u001b[0m \n",
       "\t\t\t\t\t ---------"
      ]
     },
     "metadata": {},
     "output_type": "display_data"
    },
    {
     "data": {
      "text/plain": [
       "2025-08-01 18:31:21,726 fedbiomed INFO - \u001b[1mTRAINING\u001b[0m \n",
       "\t\t\t\t\t NODE_ID: NODE_1396bb40-b8fc-4d8f-9575-8a5bba5b6ebb \n",
       "\t\t\t\t\t Round 2 Epoch: 1 | Iteration: 40/100 (40%) | Samples: 1280/3200\n",
       " \t\t\t\t\t Loss: \u001b[1m0.000671\u001b[0m \n",
       "\t\t\t\t\t ---------"
      ]
     },
     "metadata": {},
     "output_type": "display_data"
    },
    {
     "data": {
      "text/plain": [
       "2025-08-01 18:31:21,744 fedbiomed INFO - \u001b[1mTRAINING\u001b[0m \n",
       "\t\t\t\t\t NODE_ID: NODE_1396bb40-b8fc-4d8f-9575-8a5bba5b6ebb \n",
       "\t\t\t\t\t Round 2 Epoch: 1 | Iteration: 50/100 (50%) | Samples: 1600/3200\n",
       " \t\t\t\t\t Loss: \u001b[1m0.000388\u001b[0m \n",
       "\t\t\t\t\t ---------"
      ]
     },
     "metadata": {},
     "output_type": "display_data"
    },
    {
     "data": {
      "text/plain": [
       "2025-08-01 18:31:21,764 fedbiomed INFO - \u001b[1mTRAINING\u001b[0m \n",
       "\t\t\t\t\t NODE_ID: NODE_1396bb40-b8fc-4d8f-9575-8a5bba5b6ebb \n",
       "\t\t\t\t\t Round 2 Epoch: 1 | Iteration: 60/100 (60%) | Samples: 1920/3200\n",
       " \t\t\t\t\t Loss: \u001b[1m0.000198\u001b[0m \n",
       "\t\t\t\t\t ---------"
      ]
     },
     "metadata": {},
     "output_type": "display_data"
    },
    {
     "data": {
      "text/plain": [
       "2025-08-01 18:31:21,801 fedbiomed INFO - \u001b[1mTRAINING\u001b[0m \n",
       "\t\t\t\t\t NODE_ID: NODE_1396bb40-b8fc-4d8f-9575-8a5bba5b6ebb \n",
       "\t\t\t\t\t Round 2 Epoch: 1 | Iteration: 70/100 (70%) | Samples: 2240/3200\n",
       " \t\t\t\t\t Loss: \u001b[1m0.001671\u001b[0m \n",
       "\t\t\t\t\t ---------"
      ]
     },
     "metadata": {},
     "output_type": "display_data"
    },
    {
     "data": {
      "text/plain": [
       "2025-08-01 18:31:21,829 fedbiomed INFO - \u001b[1mTRAINING\u001b[0m \n",
       "\t\t\t\t\t NODE_ID: NODE_1396bb40-b8fc-4d8f-9575-8a5bba5b6ebb \n",
       "\t\t\t\t\t Round 2 Epoch: 1 | Iteration: 80/100 (80%) | Samples: 2560/3200\n",
       " \t\t\t\t\t Loss: \u001b[1m0.000139\u001b[0m \n",
       "\t\t\t\t\t ---------"
      ]
     },
     "metadata": {},
     "output_type": "display_data"
    },
    {
     "data": {
      "text/plain": [
       "2025-08-01 18:31:21,853 fedbiomed INFO - \u001b[1mTRAINING\u001b[0m \n",
       "\t\t\t\t\t NODE_ID: NODE_1396bb40-b8fc-4d8f-9575-8a5bba5b6ebb \n",
       "\t\t\t\t\t Round 2 Epoch: 1 | Iteration: 90/100 (90%) | Samples: 2880/3200\n",
       " \t\t\t\t\t Loss: \u001b[1m0.000400\u001b[0m \n",
       "\t\t\t\t\t ---------"
      ]
     },
     "metadata": {},
     "output_type": "display_data"
    },
    {
     "data": {
      "text/plain": [
       "2025-08-01 18:31:21,873 fedbiomed INFO - \u001b[1mTRAINING\u001b[0m \n",
       "\t\t\t\t\t NODE_ID: NODE_1396bb40-b8fc-4d8f-9575-8a5bba5b6ebb \n",
       "\t\t\t\t\t Round 2 Epoch: 1 | Iteration: 100/100 (100%) | Samples: 3200/3200\n",
       " \t\t\t\t\t Loss: \u001b[1m0.000220\u001b[0m \n",
       "\t\t\t\t\t ---------"
      ]
     },
     "metadata": {},
     "output_type": "display_data"
    },
    {
     "data": {
      "text/plain": [
       "2025-08-01 18:31:21,880 fedbiomed INFO - \u001b[1mTRAINING\u001b[0m \n",
       "\t\t\t\t\t NODE_ID: NODE_1396bb40-b8fc-4d8f-9575-8a5bba5b6ebb \n",
       "\t\t\t\t\t Round 2 Epoch: 2 | Iteration: 1/100 (1%) | Samples: 32/3200\n",
       " \t\t\t\t\t Loss: \u001b[1m0.000129\u001b[0m \n",
       "\t\t\t\t\t ---------"
      ]
     },
     "metadata": {},
     "output_type": "display_data"
    },
    {
     "data": {
      "text/plain": [
       "2025-08-01 18:31:21,897 fedbiomed INFO - \u001b[1mTRAINING\u001b[0m \n",
       "\t\t\t\t\t NODE_ID: NODE_1396bb40-b8fc-4d8f-9575-8a5bba5b6ebb \n",
       "\t\t\t\t\t Round 2 Epoch: 2 | Iteration: 10/100 (10%) | Samples: 320/3200\n",
       " \t\t\t\t\t Loss: \u001b[1m0.000127\u001b[0m \n",
       "\t\t\t\t\t ---------"
      ]
     },
     "metadata": {},
     "output_type": "display_data"
    },
    {
     "data": {
      "text/plain": [
       "2025-08-01 18:31:21,916 fedbiomed INFO - \u001b[1mTRAINING\u001b[0m \n",
       "\t\t\t\t\t NODE_ID: NODE_1396bb40-b8fc-4d8f-9575-8a5bba5b6ebb \n",
       "\t\t\t\t\t Round 2 Epoch: 2 | Iteration: 20/100 (20%) | Samples: 640/3200\n",
       " \t\t\t\t\t Loss: \u001b[1m0.000077\u001b[0m \n",
       "\t\t\t\t\t ---------"
      ]
     },
     "metadata": {},
     "output_type": "display_data"
    },
    {
     "data": {
      "text/plain": [
       "2025-08-01 18:31:21,939 fedbiomed INFO - \u001b[1mTRAINING\u001b[0m \n",
       "\t\t\t\t\t NODE_ID: NODE_1396bb40-b8fc-4d8f-9575-8a5bba5b6ebb \n",
       "\t\t\t\t\t Round 2 Epoch: 2 | Iteration: 30/100 (30%) | Samples: 960/3200\n",
       " \t\t\t\t\t Loss: \u001b[1m0.000143\u001b[0m \n",
       "\t\t\t\t\t ---------"
      ]
     },
     "metadata": {},
     "output_type": "display_data"
    },
    {
     "data": {
      "text/plain": [
       "2025-08-01 18:31:21,954 fedbiomed INFO - \u001b[1mTRAINING\u001b[0m \n",
       "\t\t\t\t\t NODE_ID: NODE_1396bb40-b8fc-4d8f-9575-8a5bba5b6ebb \n",
       "\t\t\t\t\t Round 2 Epoch: 2 | Iteration: 40/100 (40%) | Samples: 1280/3200\n",
       " \t\t\t\t\t Loss: \u001b[1m0.000236\u001b[0m \n",
       "\t\t\t\t\t ---------"
      ]
     },
     "metadata": {},
     "output_type": "display_data"
    },
    {
     "data": {
      "text/plain": [
       "2025-08-01 18:31:21,965 fedbiomed INFO - \u001b[1mTRAINING\u001b[0m \n",
       "\t\t\t\t\t NODE_ID: NODE_1396bb40-b8fc-4d8f-9575-8a5bba5b6ebb \n",
       "\t\t\t\t\t Round 2 Epoch: 2 | Iteration: 50/100 (50%) | Samples: 1600/3200\n",
       " \t\t\t\t\t Loss: \u001b[1m0.000113\u001b[0m \n",
       "\t\t\t\t\t ---------"
      ]
     },
     "metadata": {},
     "output_type": "display_data"
    },
    {
     "data": {
      "text/plain": [
       "2025-08-01 18:31:21,984 fedbiomed INFO - \u001b[1mTRAINING\u001b[0m \n",
       "\t\t\t\t\t NODE_ID: NODE_1396bb40-b8fc-4d8f-9575-8a5bba5b6ebb \n",
       "\t\t\t\t\t Round 2 Epoch: 2 | Iteration: 60/100 (60%) | Samples: 1920/3200\n",
       " \t\t\t\t\t Loss: \u001b[1m0.000137\u001b[0m \n",
       "\t\t\t\t\t ---------"
      ]
     },
     "metadata": {},
     "output_type": "display_data"
    },
    {
     "data": {
      "text/plain": [
       "2025-08-01 18:31:22,015 fedbiomed INFO - \u001b[1mTRAINING\u001b[0m \n",
       "\t\t\t\t\t NODE_ID: NODE_1396bb40-b8fc-4d8f-9575-8a5bba5b6ebb \n",
       "\t\t\t\t\t Round 2 Epoch: 2 | Iteration: 70/100 (70%) | Samples: 2240/3200\n",
       " \t\t\t\t\t Loss: \u001b[1m0.000179\u001b[0m \n",
       "\t\t\t\t\t ---------"
      ]
     },
     "metadata": {},
     "output_type": "display_data"
    },
    {
     "data": {
      "text/plain": [
       "2025-08-01 18:31:22,046 fedbiomed INFO - \u001b[1mTRAINING\u001b[0m \n",
       "\t\t\t\t\t NODE_ID: NODE_1396bb40-b8fc-4d8f-9575-8a5bba5b6ebb \n",
       "\t\t\t\t\t Round 2 Epoch: 2 | Iteration: 80/100 (80%) | Samples: 2560/3200\n",
       " \t\t\t\t\t Loss: \u001b[1m0.000045\u001b[0m \n",
       "\t\t\t\t\t ---------"
      ]
     },
     "metadata": {},
     "output_type": "display_data"
    },
    {
     "data": {
      "text/plain": [
       "2025-08-01 18:31:22,077 fedbiomed INFO - \u001b[1mTRAINING\u001b[0m \n",
       "\t\t\t\t\t NODE_ID: NODE_1396bb40-b8fc-4d8f-9575-8a5bba5b6ebb \n",
       "\t\t\t\t\t Round 2 Epoch: 2 | Iteration: 90/100 (90%) | Samples: 2880/3200\n",
       " \t\t\t\t\t Loss: \u001b[1m0.000037\u001b[0m \n",
       "\t\t\t\t\t ---------"
      ]
     },
     "metadata": {},
     "output_type": "display_data"
    },
    {
     "data": {
      "text/plain": [
       "2025-08-01 18:31:22,109 fedbiomed INFO - \u001b[1mTRAINING\u001b[0m \n",
       "\t\t\t\t\t NODE_ID: NODE_1396bb40-b8fc-4d8f-9575-8a5bba5b6ebb \n",
       "\t\t\t\t\t Round 2 Epoch: 2 | Iteration: 100/100 (100%) | Samples: 3200/3200\n",
       " \t\t\t\t\t Loss: \u001b[1m0.000130\u001b[0m \n",
       "\t\t\t\t\t ---------"
      ]
     },
     "metadata": {},
     "output_type": "display_data"
    },
    {
     "data": {
      "text/plain": [
       "2025-08-01 18:31:22,115 fedbiomed INFO - \u001b[1mTRAINING\u001b[0m \n",
       "\t\t\t\t\t NODE_ID: NODE_1396bb40-b8fc-4d8f-9575-8a5bba5b6ebb \n",
       "\t\t\t\t\t Round 2 Epoch: 3 | Iteration: 1/100 (1%) | Samples: 32/3200\n",
       " \t\t\t\t\t Loss: \u001b[1m0.000051\u001b[0m \n",
       "\t\t\t\t\t ---------"
      ]
     },
     "metadata": {},
     "output_type": "display_data"
    },
    {
     "data": {
      "text/plain": [
       "2025-08-01 18:31:22,140 fedbiomed INFO - \u001b[1mTRAINING\u001b[0m \n",
       "\t\t\t\t\t NODE_ID: NODE_1396bb40-b8fc-4d8f-9575-8a5bba5b6ebb \n",
       "\t\t\t\t\t Round 2 Epoch: 3 | Iteration: 10/100 (10%) | Samples: 320/3200\n",
       " \t\t\t\t\t Loss: \u001b[1m0.000037\u001b[0m \n",
       "\t\t\t\t\t ---------"
      ]
     },
     "metadata": {},
     "output_type": "display_data"
    },
    {
     "data": {
      "text/plain": [
       "2025-08-01 18:31:22,172 fedbiomed INFO - \u001b[1mTRAINING\u001b[0m \n",
       "\t\t\t\t\t NODE_ID: NODE_1396bb40-b8fc-4d8f-9575-8a5bba5b6ebb \n",
       "\t\t\t\t\t Round 2 Epoch: 3 | Iteration: 20/100 (20%) | Samples: 640/3200\n",
       " \t\t\t\t\t Loss: \u001b[1m0.000037\u001b[0m \n",
       "\t\t\t\t\t ---------"
      ]
     },
     "metadata": {},
     "output_type": "display_data"
    },
    {
     "data": {
      "text/plain": [
       "2025-08-01 18:31:22,196 fedbiomed INFO - \u001b[1mTRAINING\u001b[0m \n",
       "\t\t\t\t\t NODE_ID: NODE_1396bb40-b8fc-4d8f-9575-8a5bba5b6ebb \n",
       "\t\t\t\t\t Round 2 Epoch: 3 | Iteration: 30/100 (30%) | Samples: 960/3200\n",
       " \t\t\t\t\t Loss: \u001b[1m0.000050\u001b[0m \n",
       "\t\t\t\t\t ---------"
      ]
     },
     "metadata": {},
     "output_type": "display_data"
    },
    {
     "data": {
      "text/plain": [
       "2025-08-01 18:31:22,216 fedbiomed INFO - \u001b[1mTRAINING\u001b[0m \n",
       "\t\t\t\t\t NODE_ID: NODE_1396bb40-b8fc-4d8f-9575-8a5bba5b6ebb \n",
       "\t\t\t\t\t Round 2 Epoch: 3 | Iteration: 40/100 (40%) | Samples: 1280/3200\n",
       " \t\t\t\t\t Loss: \u001b[1m0.000038\u001b[0m \n",
       "\t\t\t\t\t ---------"
      ]
     },
     "metadata": {},
     "output_type": "display_data"
    },
    {
     "data": {
      "text/plain": [
       "2025-08-01 18:31:22,245 fedbiomed INFO - \u001b[1mTRAINING\u001b[0m \n",
       "\t\t\t\t\t NODE_ID: NODE_1396bb40-b8fc-4d8f-9575-8a5bba5b6ebb \n",
       "\t\t\t\t\t Round 2 Epoch: 3 | Iteration: 50/100 (50%) | Samples: 1600/3200\n",
       " \t\t\t\t\t Loss: \u001b[1m0.000029\u001b[0m \n",
       "\t\t\t\t\t ---------"
      ]
     },
     "metadata": {},
     "output_type": "display_data"
    },
    {
     "data": {
      "text/plain": [
       "2025-08-01 18:31:22,263 fedbiomed INFO - \u001b[1mTRAINING\u001b[0m \n",
       "\t\t\t\t\t NODE_ID: NODE_1396bb40-b8fc-4d8f-9575-8a5bba5b6ebb \n",
       "\t\t\t\t\t Round 2 Epoch: 3 | Iteration: 60/100 (60%) | Samples: 1920/3200\n",
       " \t\t\t\t\t Loss: \u001b[1m0.000025\u001b[0m \n",
       "\t\t\t\t\t ---------"
      ]
     },
     "metadata": {},
     "output_type": "display_data"
    },
    {
     "data": {
      "text/plain": [
       "2025-08-01 18:31:22,281 fedbiomed INFO - \u001b[1mTRAINING\u001b[0m \n",
       "\t\t\t\t\t NODE_ID: NODE_1396bb40-b8fc-4d8f-9575-8a5bba5b6ebb \n",
       "\t\t\t\t\t Round 2 Epoch: 3 | Iteration: 70/100 (70%) | Samples: 2240/3200\n",
       " \t\t\t\t\t Loss: \u001b[1m0.000083\u001b[0m \n",
       "\t\t\t\t\t ---------"
      ]
     },
     "metadata": {},
     "output_type": "display_data"
    },
    {
     "data": {
      "text/plain": [
       "2025-08-01 18:31:22,304 fedbiomed INFO - \u001b[1mTRAINING\u001b[0m \n",
       "\t\t\t\t\t NODE_ID: NODE_1396bb40-b8fc-4d8f-9575-8a5bba5b6ebb \n",
       "\t\t\t\t\t Round 2 Epoch: 3 | Iteration: 80/100 (80%) | Samples: 2560/3200\n",
       " \t\t\t\t\t Loss: \u001b[1m0.000013\u001b[0m \n",
       "\t\t\t\t\t ---------"
      ]
     },
     "metadata": {},
     "output_type": "display_data"
    },
    {
     "data": {
      "text/plain": [
       "2025-08-01 18:31:22,313 fedbiomed INFO - \u001b[1mTRAINING\u001b[0m \n",
       "\t\t\t\t\t NODE_ID: NODE_1396bb40-b8fc-4d8f-9575-8a5bba5b6ebb \n",
       "\t\t\t\t\t Round 2 Epoch: 3 | Iteration: 90/100 (90%) | Samples: 2880/3200\n",
       " \t\t\t\t\t Loss: \u001b[1m0.000017\u001b[0m \n",
       "\t\t\t\t\t ---------"
      ]
     },
     "metadata": {},
     "output_type": "display_data"
    },
    {
     "data": {
      "text/plain": [
       "2025-08-01 18:31:22,329 fedbiomed INFO - \u001b[1mTRAINING\u001b[0m \n",
       "\t\t\t\t\t NODE_ID: NODE_1396bb40-b8fc-4d8f-9575-8a5bba5b6ebb \n",
       "\t\t\t\t\t Round 2 Epoch: 3 | Iteration: 100/100 (100%) | Samples: 3200/3200\n",
       " \t\t\t\t\t Loss: \u001b[1m0.000048\u001b[0m \n",
       "\t\t\t\t\t ---------"
      ]
     },
     "metadata": {},
     "output_type": "display_data"
    },
    {
     "data": {
      "text/plain": [
       "2025-08-01 18:31:22,334 fedbiomed INFO - \u001b[1mTRAINING\u001b[0m \n",
       "\t\t\t\t\t NODE_ID: NODE_1396bb40-b8fc-4d8f-9575-8a5bba5b6ebb \n",
       "\t\t\t\t\t Round 2 Epoch: 4 | Iteration: 1/100 (1%) | Samples: 32/3200\n",
       " \t\t\t\t\t Loss: \u001b[1m0.000055\u001b[0m \n",
       "\t\t\t\t\t ---------"
      ]
     },
     "metadata": {},
     "output_type": "display_data"
    },
    {
     "data": {
      "text/plain": [
       "2025-08-01 18:31:22,374 fedbiomed INFO - \u001b[1mTRAINING\u001b[0m \n",
       "\t\t\t\t\t NODE_ID: NODE_1396bb40-b8fc-4d8f-9575-8a5bba5b6ebb \n",
       "\t\t\t\t\t Round 2 Epoch: 4 | Iteration: 10/100 (10%) | Samples: 320/3200\n",
       " \t\t\t\t\t Loss: \u001b[1m0.000041\u001b[0m \n",
       "\t\t\t\t\t ---------"
      ]
     },
     "metadata": {},
     "output_type": "display_data"
    },
    {
     "data": {
      "text/plain": [
       "2025-08-01 18:31:22,391 fedbiomed INFO - \u001b[1mTRAINING\u001b[0m \n",
       "\t\t\t\t\t NODE_ID: NODE_1396bb40-b8fc-4d8f-9575-8a5bba5b6ebb \n",
       "\t\t\t\t\t Round 2 Epoch: 4 | Iteration: 20/100 (20%) | Samples: 640/3200\n",
       " \t\t\t\t\t Loss: \u001b[1m0.000025\u001b[0m \n",
       "\t\t\t\t\t ---------"
      ]
     },
     "metadata": {},
     "output_type": "display_data"
    },
    {
     "data": {
      "text/plain": [
       "2025-08-01 18:31:22,407 fedbiomed INFO - \u001b[1mTRAINING\u001b[0m \n",
       "\t\t\t\t\t NODE_ID: NODE_1396bb40-b8fc-4d8f-9575-8a5bba5b6ebb \n",
       "\t\t\t\t\t Round 2 Epoch: 4 | Iteration: 30/100 (30%) | Samples: 960/3200\n",
       " \t\t\t\t\t Loss: \u001b[1m0.000031\u001b[0m \n",
       "\t\t\t\t\t ---------"
      ]
     },
     "metadata": {},
     "output_type": "display_data"
    },
    {
     "data": {
      "text/plain": [
       "2025-08-01 18:31:22,428 fedbiomed INFO - \u001b[1mTRAINING\u001b[0m \n",
       "\t\t\t\t\t NODE_ID: NODE_1396bb40-b8fc-4d8f-9575-8a5bba5b6ebb \n",
       "\t\t\t\t\t Round 2 Epoch: 4 | Iteration: 40/100 (40%) | Samples: 1280/3200\n",
       " \t\t\t\t\t Loss: \u001b[1m0.000034\u001b[0m \n",
       "\t\t\t\t\t ---------"
      ]
     },
     "metadata": {},
     "output_type": "display_data"
    },
    {
     "data": {
      "text/plain": [
       "2025-08-01 18:31:22,437 fedbiomed INFO - \u001b[1mTRAINING\u001b[0m \n",
       "\t\t\t\t\t NODE_ID: NODE_1396bb40-b8fc-4d8f-9575-8a5bba5b6ebb \n",
       "\t\t\t\t\t Round 2 Epoch: 4 | Iteration: 50/100 (50%) | Samples: 1600/3200\n",
       " \t\t\t\t\t Loss: \u001b[1m0.000034\u001b[0m \n",
       "\t\t\t\t\t ---------"
      ]
     },
     "metadata": {},
     "output_type": "display_data"
    },
    {
     "data": {
      "text/plain": [
       "2025-08-01 18:31:22,449 fedbiomed INFO - \u001b[1mTRAINING\u001b[0m \n",
       "\t\t\t\t\t NODE_ID: NODE_1396bb40-b8fc-4d8f-9575-8a5bba5b6ebb \n",
       "\t\t\t\t\t Round 2 Epoch: 4 | Iteration: 60/100 (60%) | Samples: 1920/3200\n",
       " \t\t\t\t\t Loss: \u001b[1m0.000028\u001b[0m \n",
       "\t\t\t\t\t ---------"
      ]
     },
     "metadata": {},
     "output_type": "display_data"
    },
    {
     "data": {
      "text/plain": [
       "2025-08-01 18:31:22,468 fedbiomed INFO - \u001b[1mTRAINING\u001b[0m \n",
       "\t\t\t\t\t NODE_ID: NODE_1396bb40-b8fc-4d8f-9575-8a5bba5b6ebb \n",
       "\t\t\t\t\t Round 2 Epoch: 4 | Iteration: 70/100 (70%) | Samples: 2240/3200\n",
       " \t\t\t\t\t Loss: \u001b[1m0.000024\u001b[0m \n",
       "\t\t\t\t\t ---------"
      ]
     },
     "metadata": {},
     "output_type": "display_data"
    },
    {
     "data": {
      "text/plain": [
       "2025-08-01 18:31:22,493 fedbiomed INFO - \u001b[1mTRAINING\u001b[0m \n",
       "\t\t\t\t\t NODE_ID: NODE_1396bb40-b8fc-4d8f-9575-8a5bba5b6ebb \n",
       "\t\t\t\t\t Round 2 Epoch: 4 | Iteration: 80/100 (80%) | Samples: 2560/3200\n",
       " \t\t\t\t\t Loss: \u001b[1m0.000036\u001b[0m \n",
       "\t\t\t\t\t ---------"
      ]
     },
     "metadata": {},
     "output_type": "display_data"
    },
    {
     "data": {
      "text/plain": [
       "2025-08-01 18:31:22,506 fedbiomed INFO - \u001b[1mTRAINING\u001b[0m \n",
       "\t\t\t\t\t NODE_ID: NODE_1396bb40-b8fc-4d8f-9575-8a5bba5b6ebb \n",
       "\t\t\t\t\t Round 2 Epoch: 4 | Iteration: 90/100 (90%) | Samples: 2880/3200\n",
       " \t\t\t\t\t Loss: \u001b[1m0.000028\u001b[0m \n",
       "\t\t\t\t\t ---------"
      ]
     },
     "metadata": {},
     "output_type": "display_data"
    },
    {
     "data": {
      "text/plain": [
       "2025-08-01 18:31:22,515 fedbiomed INFO - \u001b[1mTRAINING\u001b[0m \n",
       "\t\t\t\t\t NODE_ID: NODE_1396bb40-b8fc-4d8f-9575-8a5bba5b6ebb \n",
       "\t\t\t\t\t Round 2 Epoch: 4 | Iteration: 100/100 (100%) | Samples: 3200/3200\n",
       " \t\t\t\t\t Loss: \u001b[1m0.000076\u001b[0m \n",
       "\t\t\t\t\t ---------"
      ]
     },
     "metadata": {},
     "output_type": "display_data"
    },
    {
     "data": {
      "text/plain": [
       "2025-08-01 18:31:22,517 fedbiomed INFO - \u001b[1mTRAINING\u001b[0m \n",
       "\t\t\t\t\t NODE_ID: NODE_1396bb40-b8fc-4d8f-9575-8a5bba5b6ebb \n",
       "\t\t\t\t\t Round 2 Epoch: 5 | Iteration: 1/100 (1%) | Samples: 32/3200\n",
       " \t\t\t\t\t Loss: \u001b[1m0.000012\u001b[0m \n",
       "\t\t\t\t\t ---------"
      ]
     },
     "metadata": {},
     "output_type": "display_data"
    },
    {
     "data": {
      "text/plain": [
       "2025-08-01 18:31:22,530 fedbiomed INFO - \u001b[1mTRAINING\u001b[0m \n",
       "\t\t\t\t\t NODE_ID: NODE_1396bb40-b8fc-4d8f-9575-8a5bba5b6ebb \n",
       "\t\t\t\t\t Round 2 Epoch: 5 | Iteration: 10/100 (10%) | Samples: 320/3200\n",
       " \t\t\t\t\t Loss: \u001b[1m0.000067\u001b[0m \n",
       "\t\t\t\t\t ---------"
      ]
     },
     "metadata": {},
     "output_type": "display_data"
    },
    {
     "data": {
      "text/plain": [
       "2025-08-01 18:31:22,547 fedbiomed INFO - \u001b[1mTRAINING\u001b[0m \n",
       "\t\t\t\t\t NODE_ID: NODE_1396bb40-b8fc-4d8f-9575-8a5bba5b6ebb \n",
       "\t\t\t\t\t Round 2 Epoch: 5 | Iteration: 20/100 (20%) | Samples: 640/3200\n",
       " \t\t\t\t\t Loss: \u001b[1m0.000009\u001b[0m \n",
       "\t\t\t\t\t ---------"
      ]
     },
     "metadata": {},
     "output_type": "display_data"
    },
    {
     "data": {
      "text/plain": [
       "2025-08-01 18:31:22,562 fedbiomed INFO - \u001b[1mTRAINING\u001b[0m \n",
       "\t\t\t\t\t NODE_ID: NODE_1396bb40-b8fc-4d8f-9575-8a5bba5b6ebb \n",
       "\t\t\t\t\t Round 2 Epoch: 5 | Iteration: 30/100 (30%) | Samples: 960/3200\n",
       " \t\t\t\t\t Loss: \u001b[1m0.000047\u001b[0m \n",
       "\t\t\t\t\t ---------"
      ]
     },
     "metadata": {},
     "output_type": "display_data"
    },
    {
     "data": {
      "text/plain": [
       "2025-08-01 18:31:22,577 fedbiomed INFO - \u001b[1mTRAINING\u001b[0m \n",
       "\t\t\t\t\t NODE_ID: NODE_1396bb40-b8fc-4d8f-9575-8a5bba5b6ebb \n",
       "\t\t\t\t\t Round 2 Epoch: 5 | Iteration: 40/100 (40%) | Samples: 1280/3200\n",
       " \t\t\t\t\t Loss: \u001b[1m0.000018\u001b[0m \n",
       "\t\t\t\t\t ---------"
      ]
     },
     "metadata": {},
     "output_type": "display_data"
    },
    {
     "data": {
      "text/plain": [
       "2025-08-01 18:31:22,586 fedbiomed INFO - \u001b[1mTRAINING\u001b[0m \n",
       "\t\t\t\t\t NODE_ID: NODE_1396bb40-b8fc-4d8f-9575-8a5bba5b6ebb \n",
       "\t\t\t\t\t Round 2 Epoch: 5 | Iteration: 50/100 (50%) | Samples: 1600/3200\n",
       " \t\t\t\t\t Loss: \u001b[1m0.000025\u001b[0m \n",
       "\t\t\t\t\t ---------"
      ]
     },
     "metadata": {},
     "output_type": "display_data"
    },
    {
     "data": {
      "text/plain": [
       "2025-08-01 18:31:22,599 fedbiomed INFO - \u001b[1mTRAINING\u001b[0m \n",
       "\t\t\t\t\t NODE_ID: NODE_1396bb40-b8fc-4d8f-9575-8a5bba5b6ebb \n",
       "\t\t\t\t\t Round 2 Epoch: 5 | Iteration: 60/100 (60%) | Samples: 1920/3200\n",
       " \t\t\t\t\t Loss: \u001b[1m0.000020\u001b[0m \n",
       "\t\t\t\t\t ---------"
      ]
     },
     "metadata": {},
     "output_type": "display_data"
    },
    {
     "data": {
      "text/plain": [
       "2025-08-01 18:31:22,617 fedbiomed INFO - \u001b[1mTRAINING\u001b[0m \n",
       "\t\t\t\t\t NODE_ID: NODE_1396bb40-b8fc-4d8f-9575-8a5bba5b6ebb \n",
       "\t\t\t\t\t Round 2 Epoch: 5 | Iteration: 70/100 (70%) | Samples: 2240/3200\n",
       " \t\t\t\t\t Loss: \u001b[1m0.000028\u001b[0m \n",
       "\t\t\t\t\t ---------"
      ]
     },
     "metadata": {},
     "output_type": "display_data"
    },
    {
     "data": {
      "text/plain": [
       "2025-08-01 18:31:22,645 fedbiomed INFO - \u001b[1mTRAINING\u001b[0m \n",
       "\t\t\t\t\t NODE_ID: NODE_1396bb40-b8fc-4d8f-9575-8a5bba5b6ebb \n",
       "\t\t\t\t\t Round 2 Epoch: 5 | Iteration: 80/100 (80%) | Samples: 2560/3200\n",
       " \t\t\t\t\t Loss: \u001b[1m0.000026\u001b[0m \n",
       "\t\t\t\t\t ---------"
      ]
     },
     "metadata": {},
     "output_type": "display_data"
    },
    {
     "data": {
      "text/plain": [
       "2025-08-01 18:31:22,666 fedbiomed INFO - \u001b[1mTRAINING\u001b[0m \n",
       "\t\t\t\t\t NODE_ID: NODE_1396bb40-b8fc-4d8f-9575-8a5bba5b6ebb \n",
       "\t\t\t\t\t Round 2 Epoch: 5 | Iteration: 90/100 (90%) | Samples: 2880/3200\n",
       " \t\t\t\t\t Loss: \u001b[1m0.000015\u001b[0m \n",
       "\t\t\t\t\t ---------"
      ]
     },
     "metadata": {},
     "output_type": "display_data"
    },
    {
     "data": {
      "text/plain": [
       "2025-08-01 18:31:22,678 fedbiomed INFO - \u001b[1mTRAINING\u001b[0m \n",
       "\t\t\t\t\t NODE_ID: NODE_1396bb40-b8fc-4d8f-9575-8a5bba5b6ebb \n",
       "\t\t\t\t\t Round 2 Epoch: 5 | Iteration: 100/100 (100%) | Samples: 3200/3200\n",
       " \t\t\t\t\t Loss: \u001b[1m0.000048\u001b[0m \n",
       "\t\t\t\t\t ---------"
      ]
     },
     "metadata": {},
     "output_type": "display_data"
    },
    {
     "data": {
      "text/plain": [
       "2025-08-01 18:31:22,692 fedbiomed INFO - \u001b[1mVALIDATION ON LOCAL UPDATES\u001b[0m \n",
       "\t\t\t\t\t NODE_ID: NODE_1396bb40-b8fc-4d8f-9575-8a5bba5b6ebb \n",
       "\t\t\t\t\t Round 2 | Iteration: 1/1 (100%) | Samples: 1302/1302\n",
       " \t\t\t\t\t F1_SCORE: \u001b[1m1.000000\u001b[0m \n",
       "\t\t\t\t\t ---------"
      ]
     },
     "metadata": {},
     "output_type": "display_data"
    },
    {
     "data": {
      "text/plain": [
       "2025-08-01 18:31:22,785 fedbiomed INFO - Nodes that successfully reply in round 1 ['NODE_1396bb40-b8fc-4d8f-9575-8a5bba5b6ebb']"
      ]
     },
     "metadata": {},
     "output_type": "display_data"
    },
    {
     "data": {
      "text/plain": [
       "2025-08-01 18:31:22,788 fedbiomed INFO - Sampled nodes in round 2 ['NODE_1396bb40-b8fc-4d8f-9575-8a5bba5b6ebb']"
      ]
     },
     "metadata": {},
     "output_type": "display_data"
    },
    {
     "name": "stdout",
     "output_type": "stream",
     "text": [
      "<function extract_symbols at 0x7fa3d0b5fb50>\n"
     ]
    },
    {
     "data": {
      "text/plain": [
       "2025-08-01 18:31:22,792 fedbiomed INFO - \u001b[1mSending request\u001b[0m \n",
       "\t\t\t\t\t\u001b[1m To\u001b[0m: NODE_1396bb40-b8fc-4d8f-9575-8a5bba5b6ebb \n",
       "\t\t\t\t\t\u001b[1m Request: \u001b[0m: TRAIN\n",
       " -----------------------------------------------------------------"
      ]
     },
     "metadata": {},
     "output_type": "display_data"
    },
    {
     "data": {
      "text/plain": [
       "2025-08-01 18:31:22,814 fedbiomed DEBUG - Node: NODE_1396bb40-b8fc-4d8f-9575-8a5bba5b6ebb polling for the tasks"
      ]
     },
     "metadata": {},
     "output_type": "display_data"
    },
    {
     "data": {
      "text/plain": [
       "2025-08-01 18:31:23,452 fedbiomed INFO - \u001b[1mVALIDATION ON GLOBAL UPDATES\u001b[0m \n",
       "\t\t\t\t\t NODE_ID: NODE_1396bb40-b8fc-4d8f-9575-8a5bba5b6ebb \n",
       "\t\t\t\t\t Round 3 | Iteration: 1/1 (100%) | Samples: 1302/1302\n",
       " \t\t\t\t\t F1_SCORE: \u001b[1m1.000000\u001b[0m \n",
       "\t\t\t\t\t ---------"
      ]
     },
     "metadata": {},
     "output_type": "display_data"
    },
    {
     "data": {
      "text/plain": [
       "2025-08-01 18:31:23,456 fedbiomed INFO - \u001b[1mTRAINING\u001b[0m \n",
       "\t\t\t\t\t NODE_ID: NODE_1396bb40-b8fc-4d8f-9575-8a5bba5b6ebb \n",
       "\t\t\t\t\t Round 3 Epoch: 1 | Iteration: 1/100 (1%) | Samples: 32/3200\n",
       " \t\t\t\t\t Loss: \u001b[1m0.000013\u001b[0m \n",
       "\t\t\t\t\t ---------"
      ]
     },
     "metadata": {},
     "output_type": "display_data"
    },
    {
     "data": {
      "text/plain": [
       "2025-08-01 18:31:23,472 fedbiomed INFO - \u001b[1mTRAINING\u001b[0m \n",
       "\t\t\t\t\t NODE_ID: NODE_1396bb40-b8fc-4d8f-9575-8a5bba5b6ebb \n",
       "\t\t\t\t\t Round 3 Epoch: 1 | Iteration: 10/100 (10%) | Samples: 320/3200\n",
       " \t\t\t\t\t Loss: \u001b[1m0.000017\u001b[0m \n",
       "\t\t\t\t\t ---------"
      ]
     },
     "metadata": {},
     "output_type": "display_data"
    },
    {
     "data": {
      "text/plain": [
       "2025-08-01 18:31:23,494 fedbiomed INFO - \u001b[1mTRAINING\u001b[0m \n",
       "\t\t\t\t\t NODE_ID: NODE_1396bb40-b8fc-4d8f-9575-8a5bba5b6ebb \n",
       "\t\t\t\t\t Round 3 Epoch: 1 | Iteration: 20/100 (20%) | Samples: 640/3200\n",
       " \t\t\t\t\t Loss: \u001b[1m0.000005\u001b[0m \n",
       "\t\t\t\t\t ---------"
      ]
     },
     "metadata": {},
     "output_type": "display_data"
    },
    {
     "data": {
      "text/plain": [
       "2025-08-01 18:31:23,523 fedbiomed INFO - \u001b[1mTRAINING\u001b[0m \n",
       "\t\t\t\t\t NODE_ID: NODE_1396bb40-b8fc-4d8f-9575-8a5bba5b6ebb \n",
       "\t\t\t\t\t Round 3 Epoch: 1 | Iteration: 30/100 (30%) | Samples: 960/3200\n",
       " \t\t\t\t\t Loss: \u001b[1m0.000003\u001b[0m \n",
       "\t\t\t\t\t ---------"
      ]
     },
     "metadata": {},
     "output_type": "display_data"
    },
    {
     "data": {
      "text/plain": [
       "2025-08-01 18:31:23,549 fedbiomed INFO - \u001b[1mTRAINING\u001b[0m \n",
       "\t\t\t\t\t NODE_ID: NODE_1396bb40-b8fc-4d8f-9575-8a5bba5b6ebb \n",
       "\t\t\t\t\t Round 3 Epoch: 1 | Iteration: 40/100 (40%) | Samples: 1280/3200\n",
       " \t\t\t\t\t Loss: \u001b[1m0.000013\u001b[0m \n",
       "\t\t\t\t\t ---------"
      ]
     },
     "metadata": {},
     "output_type": "display_data"
    },
    {
     "data": {
      "text/plain": [
       "2025-08-01 18:31:23,572 fedbiomed INFO - \u001b[1mTRAINING\u001b[0m \n",
       "\t\t\t\t\t NODE_ID: NODE_1396bb40-b8fc-4d8f-9575-8a5bba5b6ebb \n",
       "\t\t\t\t\t Round 3 Epoch: 1 | Iteration: 50/100 (50%) | Samples: 1600/3200\n",
       " \t\t\t\t\t Loss: \u001b[1m0.000004\u001b[0m \n",
       "\t\t\t\t\t ---------"
      ]
     },
     "metadata": {},
     "output_type": "display_data"
    },
    {
     "data": {
      "text/plain": [
       "2025-08-01 18:31:23,593 fedbiomed INFO - \u001b[1mTRAINING\u001b[0m \n",
       "\t\t\t\t\t NODE_ID: NODE_1396bb40-b8fc-4d8f-9575-8a5bba5b6ebb \n",
       "\t\t\t\t\t Round 3 Epoch: 1 | Iteration: 60/100 (60%) | Samples: 1920/3200\n",
       " \t\t\t\t\t Loss: \u001b[1m0.000004\u001b[0m \n",
       "\t\t\t\t\t ---------"
      ]
     },
     "metadata": {},
     "output_type": "display_data"
    },
    {
     "data": {
      "text/plain": [
       "2025-08-01 18:31:23,624 fedbiomed INFO - \u001b[1mTRAINING\u001b[0m \n",
       "\t\t\t\t\t NODE_ID: NODE_1396bb40-b8fc-4d8f-9575-8a5bba5b6ebb \n",
       "\t\t\t\t\t Round 3 Epoch: 1 | Iteration: 70/100 (70%) | Samples: 2240/3200\n",
       " \t\t\t\t\t Loss: \u001b[1m0.000012\u001b[0m \n",
       "\t\t\t\t\t ---------"
      ]
     },
     "metadata": {},
     "output_type": "display_data"
    },
    {
     "data": {
      "text/plain": [
       "2025-08-01 18:31:23,646 fedbiomed INFO - \u001b[1mTRAINING\u001b[0m \n",
       "\t\t\t\t\t NODE_ID: NODE_1396bb40-b8fc-4d8f-9575-8a5bba5b6ebb \n",
       "\t\t\t\t\t Round 3 Epoch: 1 | Iteration: 80/100 (80%) | Samples: 2560/3200\n",
       " \t\t\t\t\t Loss: \u001b[1m0.000002\u001b[0m \n",
       "\t\t\t\t\t ---------"
      ]
     },
     "metadata": {},
     "output_type": "display_data"
    },
    {
     "data": {
      "text/plain": [
       "2025-08-01 18:31:23,667 fedbiomed INFO - \u001b[1mTRAINING\u001b[0m \n",
       "\t\t\t\t\t NODE_ID: NODE_1396bb40-b8fc-4d8f-9575-8a5bba5b6ebb \n",
       "\t\t\t\t\t Round 3 Epoch: 1 | Iteration: 90/100 (90%) | Samples: 2880/3200\n",
       " \t\t\t\t\t Loss: \u001b[1m0.000001\u001b[0m \n",
       "\t\t\t\t\t ---------"
      ]
     },
     "metadata": {},
     "output_type": "display_data"
    },
    {
     "data": {
      "text/plain": [
       "2025-08-01 18:31:23,684 fedbiomed INFO - \u001b[1mTRAINING\u001b[0m \n",
       "\t\t\t\t\t NODE_ID: NODE_1396bb40-b8fc-4d8f-9575-8a5bba5b6ebb \n",
       "\t\t\t\t\t Round 3 Epoch: 1 | Iteration: 100/100 (100%) | Samples: 3200/3200\n",
       " \t\t\t\t\t Loss: \u001b[1m0.000004\u001b[0m \n",
       "\t\t\t\t\t ---------"
      ]
     },
     "metadata": {},
     "output_type": "display_data"
    },
    {
     "data": {
      "text/plain": [
       "2025-08-01 18:31:23,692 fedbiomed INFO - \u001b[1mTRAINING\u001b[0m \n",
       "\t\t\t\t\t NODE_ID: NODE_1396bb40-b8fc-4d8f-9575-8a5bba5b6ebb \n",
       "\t\t\t\t\t Round 3 Epoch: 2 | Iteration: 1/100 (1%) | Samples: 32/3200\n",
       " \t\t\t\t\t Loss: \u001b[1m0.000002\u001b[0m \n",
       "\t\t\t\t\t ---------"
      ]
     },
     "metadata": {},
     "output_type": "display_data"
    },
    {
     "data": {
      "text/plain": [
       "2025-08-01 18:31:23,727 fedbiomed INFO - \u001b[1mTRAINING\u001b[0m \n",
       "\t\t\t\t\t NODE_ID: NODE_1396bb40-b8fc-4d8f-9575-8a5bba5b6ebb \n",
       "\t\t\t\t\t Round 3 Epoch: 2 | Iteration: 10/100 (10%) | Samples: 320/3200\n",
       " \t\t\t\t\t Loss: \u001b[1m0.000003\u001b[0m \n",
       "\t\t\t\t\t ---------"
      ]
     },
     "metadata": {},
     "output_type": "display_data"
    },
    {
     "data": {
      "text/plain": [
       "2025-08-01 18:31:23,746 fedbiomed INFO - \u001b[1mTRAINING\u001b[0m \n",
       "\t\t\t\t\t NODE_ID: NODE_1396bb40-b8fc-4d8f-9575-8a5bba5b6ebb \n",
       "\t\t\t\t\t Round 3 Epoch: 2 | Iteration: 20/100 (20%) | Samples: 640/3200\n",
       " \t\t\t\t\t Loss: \u001b[1m0.000002\u001b[0m \n",
       "\t\t\t\t\t ---------"
      ]
     },
     "metadata": {},
     "output_type": "display_data"
    },
    {
     "data": {
      "text/plain": [
       "2025-08-01 18:31:23,765 fedbiomed INFO - \u001b[1mTRAINING\u001b[0m \n",
       "\t\t\t\t\t NODE_ID: NODE_1396bb40-b8fc-4d8f-9575-8a5bba5b6ebb \n",
       "\t\t\t\t\t Round 3 Epoch: 2 | Iteration: 30/100 (30%) | Samples: 960/3200\n",
       " \t\t\t\t\t Loss: \u001b[1m0.000002\u001b[0m \n",
       "\t\t\t\t\t ---------"
      ]
     },
     "metadata": {},
     "output_type": "display_data"
    },
    {
     "data": {
      "text/plain": [
       "2025-08-01 18:31:23,803 fedbiomed INFO - \u001b[1mTRAINING\u001b[0m \n",
       "\t\t\t\t\t NODE_ID: NODE_1396bb40-b8fc-4d8f-9575-8a5bba5b6ebb \n",
       "\t\t\t\t\t Round 3 Epoch: 2 | Iteration: 40/100 (40%) | Samples: 1280/3200\n",
       " \t\t\t\t\t Loss: \u001b[1m0.000004\u001b[0m \n",
       "\t\t\t\t\t ---------"
      ]
     },
     "metadata": {},
     "output_type": "display_data"
    },
    {
     "data": {
      "text/plain": [
       "2025-08-01 18:31:23,840 fedbiomed INFO - \u001b[1mTRAINING\u001b[0m \n",
       "\t\t\t\t\t NODE_ID: NODE_1396bb40-b8fc-4d8f-9575-8a5bba5b6ebb \n",
       "\t\t\t\t\t Round 3 Epoch: 2 | Iteration: 50/100 (50%) | Samples: 1600/3200\n",
       " \t\t\t\t\t Loss: \u001b[1m0.000007\u001b[0m \n",
       "\t\t\t\t\t ---------"
      ]
     },
     "metadata": {},
     "output_type": "display_data"
    },
    {
     "data": {
      "text/plain": [
       "2025-08-01 18:31:23,868 fedbiomed INFO - \u001b[1mTRAINING\u001b[0m \n",
       "\t\t\t\t\t NODE_ID: NODE_1396bb40-b8fc-4d8f-9575-8a5bba5b6ebb \n",
       "\t\t\t\t\t Round 3 Epoch: 2 | Iteration: 60/100 (60%) | Samples: 1920/3200\n",
       " \t\t\t\t\t Loss: \u001b[1m0.000000\u001b[0m \n",
       "\t\t\t\t\t ---------"
      ]
     },
     "metadata": {},
     "output_type": "display_data"
    },
    {
     "data": {
      "text/plain": [
       "2025-08-01 18:31:23,900 fedbiomed INFO - \u001b[1mTRAINING\u001b[0m \n",
       "\t\t\t\t\t NODE_ID: NODE_1396bb40-b8fc-4d8f-9575-8a5bba5b6ebb \n",
       "\t\t\t\t\t Round 3 Epoch: 2 | Iteration: 70/100 (70%) | Samples: 2240/3200\n",
       " \t\t\t\t\t Loss: \u001b[1m0.000000\u001b[0m \n",
       "\t\t\t\t\t ---------"
      ]
     },
     "metadata": {},
     "output_type": "display_data"
    },
    {
     "data": {
      "text/plain": [
       "2025-08-01 18:31:23,932 fedbiomed INFO - \u001b[1mTRAINING\u001b[0m \n",
       "\t\t\t\t\t NODE_ID: NODE_1396bb40-b8fc-4d8f-9575-8a5bba5b6ebb \n",
       "\t\t\t\t\t Round 3 Epoch: 2 | Iteration: 80/100 (80%) | Samples: 2560/3200\n",
       " \t\t\t\t\t Loss: \u001b[1m0.000000\u001b[0m \n",
       "\t\t\t\t\t ---------"
      ]
     },
     "metadata": {},
     "output_type": "display_data"
    },
    {
     "data": {
      "text/plain": [
       "2025-08-01 18:31:23,966 fedbiomed INFO - \u001b[1mTRAINING\u001b[0m \n",
       "\t\t\t\t\t NODE_ID: NODE_1396bb40-b8fc-4d8f-9575-8a5bba5b6ebb \n",
       "\t\t\t\t\t Round 3 Epoch: 2 | Iteration: 90/100 (90%) | Samples: 2880/3200\n",
       " \t\t\t\t\t Loss: \u001b[1m0.000001\u001b[0m \n",
       "\t\t\t\t\t ---------"
      ]
     },
     "metadata": {},
     "output_type": "display_data"
    },
    {
     "data": {
      "text/plain": [
       "2025-08-01 18:31:24,009 fedbiomed INFO - \u001b[1mTRAINING\u001b[0m \n",
       "\t\t\t\t\t NODE_ID: NODE_1396bb40-b8fc-4d8f-9575-8a5bba5b6ebb \n",
       "\t\t\t\t\t Round 3 Epoch: 2 | Iteration: 100/100 (100%) | Samples: 3200/3200\n",
       " \t\t\t\t\t Loss: \u001b[1m0.000000\u001b[0m \n",
       "\t\t\t\t\t ---------"
      ]
     },
     "metadata": {},
     "output_type": "display_data"
    },
    {
     "data": {
      "text/plain": [
       "2025-08-01 18:31:24,016 fedbiomed INFO - \u001b[1mTRAINING\u001b[0m \n",
       "\t\t\t\t\t NODE_ID: NODE_1396bb40-b8fc-4d8f-9575-8a5bba5b6ebb \n",
       "\t\t\t\t\t Round 3 Epoch: 3 | Iteration: 1/100 (1%) | Samples: 32/3200\n",
       " \t\t\t\t\t Loss: \u001b[1m0.000000\u001b[0m \n",
       "\t\t\t\t\t ---------"
      ]
     },
     "metadata": {},
     "output_type": "display_data"
    },
    {
     "data": {
      "text/plain": [
       "2025-08-01 18:31:24,047 fedbiomed INFO - \u001b[1mTRAINING\u001b[0m \n",
       "\t\t\t\t\t NODE_ID: NODE_1396bb40-b8fc-4d8f-9575-8a5bba5b6ebb \n",
       "\t\t\t\t\t Round 3 Epoch: 3 | Iteration: 10/100 (10%) | Samples: 320/3200\n",
       " \t\t\t\t\t Loss: \u001b[1m0.000001\u001b[0m \n",
       "\t\t\t\t\t ---------"
      ]
     },
     "metadata": {},
     "output_type": "display_data"
    },
    {
     "data": {
      "text/plain": [
       "2025-08-01 18:31:24,075 fedbiomed INFO - \u001b[1mTRAINING\u001b[0m \n",
       "\t\t\t\t\t NODE_ID: NODE_1396bb40-b8fc-4d8f-9575-8a5bba5b6ebb \n",
       "\t\t\t\t\t Round 3 Epoch: 3 | Iteration: 20/100 (20%) | Samples: 640/3200\n",
       " \t\t\t\t\t Loss: \u001b[1m0.000001\u001b[0m \n",
       "\t\t\t\t\t ---------"
      ]
     },
     "metadata": {},
     "output_type": "display_data"
    },
    {
     "data": {
      "text/plain": [
       "2025-08-01 18:31:24,100 fedbiomed INFO - \u001b[1mTRAINING\u001b[0m \n",
       "\t\t\t\t\t NODE_ID: NODE_1396bb40-b8fc-4d8f-9575-8a5bba5b6ebb \n",
       "\t\t\t\t\t Round 3 Epoch: 3 | Iteration: 30/100 (30%) | Samples: 960/3200\n",
       " \t\t\t\t\t Loss: \u001b[1m0.000000\u001b[0m \n",
       "\t\t\t\t\t ---------"
      ]
     },
     "metadata": {},
     "output_type": "display_data"
    },
    {
     "data": {
      "text/plain": [
       "2025-08-01 18:31:24,121 fedbiomed INFO - \u001b[1mTRAINING\u001b[0m \n",
       "\t\t\t\t\t NODE_ID: NODE_1396bb40-b8fc-4d8f-9575-8a5bba5b6ebb \n",
       "\t\t\t\t\t Round 3 Epoch: 3 | Iteration: 40/100 (40%) | Samples: 1280/3200\n",
       " \t\t\t\t\t Loss: \u001b[1m0.000000\u001b[0m \n",
       "\t\t\t\t\t ---------"
      ]
     },
     "metadata": {},
     "output_type": "display_data"
    },
    {
     "data": {
      "text/plain": [
       "2025-08-01 18:31:24,143 fedbiomed INFO - \u001b[1mTRAINING\u001b[0m \n",
       "\t\t\t\t\t NODE_ID: NODE_1396bb40-b8fc-4d8f-9575-8a5bba5b6ebb \n",
       "\t\t\t\t\t Round 3 Epoch: 3 | Iteration: 50/100 (50%) | Samples: 1600/3200\n",
       " \t\t\t\t\t Loss: \u001b[1m0.000000\u001b[0m \n",
       "\t\t\t\t\t ---------"
      ]
     },
     "metadata": {},
     "output_type": "display_data"
    },
    {
     "data": {
      "text/plain": [
       "2025-08-01 18:31:24,162 fedbiomed INFO - \u001b[1mTRAINING\u001b[0m \n",
       "\t\t\t\t\t NODE_ID: NODE_1396bb40-b8fc-4d8f-9575-8a5bba5b6ebb \n",
       "\t\t\t\t\t Round 3 Epoch: 3 | Iteration: 60/100 (60%) | Samples: 1920/3200\n",
       " \t\t\t\t\t Loss: \u001b[1m0.000000\u001b[0m \n",
       "\t\t\t\t\t ---------"
      ]
     },
     "metadata": {},
     "output_type": "display_data"
    },
    {
     "data": {
      "text/plain": [
       "2025-08-01 18:31:24,185 fedbiomed INFO - \u001b[1mTRAINING\u001b[0m \n",
       "\t\t\t\t\t NODE_ID: NODE_1396bb40-b8fc-4d8f-9575-8a5bba5b6ebb \n",
       "\t\t\t\t\t Round 3 Epoch: 3 | Iteration: 70/100 (70%) | Samples: 2240/3200\n",
       " \t\t\t\t\t Loss: \u001b[1m0.000000\u001b[0m \n",
       "\t\t\t\t\t ---------"
      ]
     },
     "metadata": {},
     "output_type": "display_data"
    },
    {
     "data": {
      "text/plain": [
       "2025-08-01 18:31:24,198 fedbiomed INFO - \u001b[1mTRAINING\u001b[0m \n",
       "\t\t\t\t\t NODE_ID: NODE_1396bb40-b8fc-4d8f-9575-8a5bba5b6ebb \n",
       "\t\t\t\t\t Round 3 Epoch: 3 | Iteration: 80/100 (80%) | Samples: 2560/3200\n",
       " \t\t\t\t\t Loss: \u001b[1m0.000001\u001b[0m \n",
       "\t\t\t\t\t ---------"
      ]
     },
     "metadata": {},
     "output_type": "display_data"
    },
    {
     "data": {
      "text/plain": [
       "2025-08-01 18:31:24,217 fedbiomed INFO - \u001b[1mTRAINING\u001b[0m \n",
       "\t\t\t\t\t NODE_ID: NODE_1396bb40-b8fc-4d8f-9575-8a5bba5b6ebb \n",
       "\t\t\t\t\t Round 3 Epoch: 3 | Iteration: 90/100 (90%) | Samples: 2880/3200\n",
       " \t\t\t\t\t Loss: \u001b[1m0.000001\u001b[0m \n",
       "\t\t\t\t\t ---------"
      ]
     },
     "metadata": {},
     "output_type": "display_data"
    },
    {
     "data": {
      "text/plain": [
       "2025-08-01 18:31:24,299 fedbiomed INFO - \u001b[1mTRAINING\u001b[0m \n",
       "\t\t\t\t\t NODE_ID: NODE_1396bb40-b8fc-4d8f-9575-8a5bba5b6ebb \n",
       "\t\t\t\t\t Round 3 Epoch: 3 | Iteration: 100/100 (100%) | Samples: 3200/3200\n",
       " \t\t\t\t\t Loss: \u001b[1m0.000001\u001b[0m \n",
       "\t\t\t\t\t ---------"
      ]
     },
     "metadata": {},
     "output_type": "display_data"
    },
    {
     "data": {
      "text/plain": [
       "2025-08-01 18:31:24,305 fedbiomed INFO - \u001b[1mTRAINING\u001b[0m \n",
       "\t\t\t\t\t NODE_ID: NODE_1396bb40-b8fc-4d8f-9575-8a5bba5b6ebb \n",
       "\t\t\t\t\t Round 3 Epoch: 4 | Iteration: 1/100 (1%) | Samples: 32/3200\n",
       " \t\t\t\t\t Loss: \u001b[1m0.000000\u001b[0m \n",
       "\t\t\t\t\t ---------"
      ]
     },
     "metadata": {},
     "output_type": "display_data"
    },
    {
     "data": {
      "text/plain": [
       "2025-08-01 18:31:24,327 fedbiomed INFO - \u001b[1mTRAINING\u001b[0m \n",
       "\t\t\t\t\t NODE_ID: NODE_1396bb40-b8fc-4d8f-9575-8a5bba5b6ebb \n",
       "\t\t\t\t\t Round 3 Epoch: 4 | Iteration: 10/100 (10%) | Samples: 320/3200\n",
       " \t\t\t\t\t Loss: \u001b[1m0.000001\u001b[0m \n",
       "\t\t\t\t\t ---------"
      ]
     },
     "metadata": {},
     "output_type": "display_data"
    },
    {
     "data": {
      "text/plain": [
       "2025-08-01 18:31:24,351 fedbiomed INFO - \u001b[1mTRAINING\u001b[0m \n",
       "\t\t\t\t\t NODE_ID: NODE_1396bb40-b8fc-4d8f-9575-8a5bba5b6ebb \n",
       "\t\t\t\t\t Round 3 Epoch: 4 | Iteration: 20/100 (20%) | Samples: 640/3200\n",
       " \t\t\t\t\t Loss: \u001b[1m0.000000\u001b[0m \n",
       "\t\t\t\t\t ---------"
      ]
     },
     "metadata": {},
     "output_type": "display_data"
    },
    {
     "data": {
      "text/plain": [
       "2025-08-01 18:31:24,369 fedbiomed INFO - \u001b[1mTRAINING\u001b[0m \n",
       "\t\t\t\t\t NODE_ID: NODE_1396bb40-b8fc-4d8f-9575-8a5bba5b6ebb \n",
       "\t\t\t\t\t Round 3 Epoch: 4 | Iteration: 30/100 (30%) | Samples: 960/3200\n",
       " \t\t\t\t\t Loss: \u001b[1m0.000000\u001b[0m \n",
       "\t\t\t\t\t ---------"
      ]
     },
     "metadata": {},
     "output_type": "display_data"
    },
    {
     "data": {
      "text/plain": [
       "2025-08-01 18:31:24,386 fedbiomed INFO - \u001b[1mTRAINING\u001b[0m \n",
       "\t\t\t\t\t NODE_ID: NODE_1396bb40-b8fc-4d8f-9575-8a5bba5b6ebb \n",
       "\t\t\t\t\t Round 3 Epoch: 4 | Iteration: 40/100 (40%) | Samples: 1280/3200\n",
       " \t\t\t\t\t Loss: \u001b[1m0.000000\u001b[0m \n",
       "\t\t\t\t\t ---------"
      ]
     },
     "metadata": {},
     "output_type": "display_data"
    },
    {
     "data": {
      "text/plain": [
       "2025-08-01 18:31:24,402 fedbiomed INFO - \u001b[1mTRAINING\u001b[0m \n",
       "\t\t\t\t\t NODE_ID: NODE_1396bb40-b8fc-4d8f-9575-8a5bba5b6ebb \n",
       "\t\t\t\t\t Round 3 Epoch: 4 | Iteration: 50/100 (50%) | Samples: 1600/3200\n",
       " \t\t\t\t\t Loss: \u001b[1m0.000004\u001b[0m \n",
       "\t\t\t\t\t ---------"
      ]
     },
     "metadata": {},
     "output_type": "display_data"
    },
    {
     "data": {
      "text/plain": [
       "2025-08-01 18:31:24,423 fedbiomed INFO - \u001b[1mTRAINING\u001b[0m \n",
       "\t\t\t\t\t NODE_ID: NODE_1396bb40-b8fc-4d8f-9575-8a5bba5b6ebb \n",
       "\t\t\t\t\t Round 3 Epoch: 4 | Iteration: 60/100 (60%) | Samples: 1920/3200\n",
       " \t\t\t\t\t Loss: \u001b[1m0.000000\u001b[0m \n",
       "\t\t\t\t\t ---------"
      ]
     },
     "metadata": {},
     "output_type": "display_data"
    },
    {
     "data": {
      "text/plain": [
       "2025-08-01 18:31:24,440 fedbiomed INFO - \u001b[1mTRAINING\u001b[0m \n",
       "\t\t\t\t\t NODE_ID: NODE_1396bb40-b8fc-4d8f-9575-8a5bba5b6ebb \n",
       "\t\t\t\t\t Round 3 Epoch: 4 | Iteration: 70/100 (70%) | Samples: 2240/3200\n",
       " \t\t\t\t\t Loss: \u001b[1m0.000000\u001b[0m \n",
       "\t\t\t\t\t ---------"
      ]
     },
     "metadata": {},
     "output_type": "display_data"
    },
    {
     "data": {
      "text/plain": [
       "2025-08-01 18:31:24,451 fedbiomed INFO - \u001b[1mTRAINING\u001b[0m \n",
       "\t\t\t\t\t NODE_ID: NODE_1396bb40-b8fc-4d8f-9575-8a5bba5b6ebb \n",
       "\t\t\t\t\t Round 3 Epoch: 4 | Iteration: 80/100 (80%) | Samples: 2560/3200\n",
       " \t\t\t\t\t Loss: \u001b[1m0.000000\u001b[0m \n",
       "\t\t\t\t\t ---------"
      ]
     },
     "metadata": {},
     "output_type": "display_data"
    },
    {
     "data": {
      "text/plain": [
       "2025-08-01 18:31:24,465 fedbiomed INFO - \u001b[1mTRAINING\u001b[0m \n",
       "\t\t\t\t\t NODE_ID: NODE_1396bb40-b8fc-4d8f-9575-8a5bba5b6ebb \n",
       "\t\t\t\t\t Round 3 Epoch: 4 | Iteration: 90/100 (90%) | Samples: 2880/3200\n",
       " \t\t\t\t\t Loss: \u001b[1m0.000008\u001b[0m \n",
       "\t\t\t\t\t ---------"
      ]
     },
     "metadata": {},
     "output_type": "display_data"
    },
    {
     "data": {
      "text/plain": [
       "2025-08-01 18:31:24,481 fedbiomed INFO - \u001b[1mTRAINING\u001b[0m \n",
       "\t\t\t\t\t NODE_ID: NODE_1396bb40-b8fc-4d8f-9575-8a5bba5b6ebb \n",
       "\t\t\t\t\t Round 3 Epoch: 4 | Iteration: 100/100 (100%) | Samples: 3200/3200\n",
       " \t\t\t\t\t Loss: \u001b[1m0.000000\u001b[0m \n",
       "\t\t\t\t\t ---------"
      ]
     },
     "metadata": {},
     "output_type": "display_data"
    },
    {
     "data": {
      "text/plain": [
       "2025-08-01 18:31:24,487 fedbiomed INFO - \u001b[1mTRAINING\u001b[0m \n",
       "\t\t\t\t\t NODE_ID: NODE_1396bb40-b8fc-4d8f-9575-8a5bba5b6ebb \n",
       "\t\t\t\t\t Round 3 Epoch: 5 | Iteration: 1/100 (1%) | Samples: 32/3200\n",
       " \t\t\t\t\t Loss: \u001b[1m0.000001\u001b[0m \n",
       "\t\t\t\t\t ---------"
      ]
     },
     "metadata": {},
     "output_type": "display_data"
    },
    {
     "data": {
      "text/plain": [
       "2025-08-01 18:31:24,506 fedbiomed INFO - \u001b[1mTRAINING\u001b[0m \n",
       "\t\t\t\t\t NODE_ID: NODE_1396bb40-b8fc-4d8f-9575-8a5bba5b6ebb \n",
       "\t\t\t\t\t Round 3 Epoch: 5 | Iteration: 10/100 (10%) | Samples: 320/3200\n",
       " \t\t\t\t\t Loss: \u001b[1m0.000000\u001b[0m \n",
       "\t\t\t\t\t ---------"
      ]
     },
     "metadata": {},
     "output_type": "display_data"
    },
    {
     "data": {
      "text/plain": [
       "2025-08-01 18:31:24,540 fedbiomed INFO - \u001b[1mTRAINING\u001b[0m \n",
       "\t\t\t\t\t NODE_ID: NODE_1396bb40-b8fc-4d8f-9575-8a5bba5b6ebb \n",
       "\t\t\t\t\t Round 3 Epoch: 5 | Iteration: 20/100 (20%) | Samples: 640/3200\n",
       " \t\t\t\t\t Loss: \u001b[1m0.000000\u001b[0m \n",
       "\t\t\t\t\t ---------"
      ]
     },
     "metadata": {},
     "output_type": "display_data"
    },
    {
     "data": {
      "text/plain": [
       "2025-08-01 18:31:24,559 fedbiomed INFO - \u001b[1mTRAINING\u001b[0m \n",
       "\t\t\t\t\t NODE_ID: NODE_1396bb40-b8fc-4d8f-9575-8a5bba5b6ebb \n",
       "\t\t\t\t\t Round 3 Epoch: 5 | Iteration: 30/100 (30%) | Samples: 960/3200\n",
       " \t\t\t\t\t Loss: \u001b[1m0.000000\u001b[0m \n",
       "\t\t\t\t\t ---------"
      ]
     },
     "metadata": {},
     "output_type": "display_data"
    },
    {
     "data": {
      "text/plain": [
       "2025-08-01 18:31:24,576 fedbiomed INFO - \u001b[1mTRAINING\u001b[0m \n",
       "\t\t\t\t\t NODE_ID: NODE_1396bb40-b8fc-4d8f-9575-8a5bba5b6ebb \n",
       "\t\t\t\t\t Round 3 Epoch: 5 | Iteration: 40/100 (40%) | Samples: 1280/3200\n",
       " \t\t\t\t\t Loss: \u001b[1m0.000000\u001b[0m \n",
       "\t\t\t\t\t ---------"
      ]
     },
     "metadata": {},
     "output_type": "display_data"
    },
    {
     "data": {
      "text/plain": [
       "2025-08-01 18:31:24,588 fedbiomed INFO - \u001b[1mTRAINING\u001b[0m \n",
       "\t\t\t\t\t NODE_ID: NODE_1396bb40-b8fc-4d8f-9575-8a5bba5b6ebb \n",
       "\t\t\t\t\t Round 3 Epoch: 5 | Iteration: 50/100 (50%) | Samples: 1600/3200\n",
       " \t\t\t\t\t Loss: \u001b[1m0.000000\u001b[0m \n",
       "\t\t\t\t\t ---------"
      ]
     },
     "metadata": {},
     "output_type": "display_data"
    },
    {
     "data": {
      "text/plain": [
       "2025-08-01 18:31:24,601 fedbiomed INFO - \u001b[1mTRAINING\u001b[0m \n",
       "\t\t\t\t\t NODE_ID: NODE_1396bb40-b8fc-4d8f-9575-8a5bba5b6ebb \n",
       "\t\t\t\t\t Round 3 Epoch: 5 | Iteration: 60/100 (60%) | Samples: 1920/3200\n",
       " \t\t\t\t\t Loss: \u001b[1m0.000000\u001b[0m \n",
       "\t\t\t\t\t ---------"
      ]
     },
     "metadata": {},
     "output_type": "display_data"
    },
    {
     "data": {
      "text/plain": [
       "2025-08-01 18:31:24,621 fedbiomed INFO - \u001b[1mTRAINING\u001b[0m \n",
       "\t\t\t\t\t NODE_ID: NODE_1396bb40-b8fc-4d8f-9575-8a5bba5b6ebb \n",
       "\t\t\t\t\t Round 3 Epoch: 5 | Iteration: 70/100 (70%) | Samples: 2240/3200\n",
       " \t\t\t\t\t Loss: \u001b[1m0.000000\u001b[0m \n",
       "\t\t\t\t\t ---------"
      ]
     },
     "metadata": {},
     "output_type": "display_data"
    },
    {
     "data": {
      "text/plain": [
       "2025-08-01 18:31:24,637 fedbiomed INFO - \u001b[1mTRAINING\u001b[0m \n",
       "\t\t\t\t\t NODE_ID: NODE_1396bb40-b8fc-4d8f-9575-8a5bba5b6ebb \n",
       "\t\t\t\t\t Round 3 Epoch: 5 | Iteration: 80/100 (80%) | Samples: 2560/3200\n",
       " \t\t\t\t\t Loss: \u001b[1m0.000000\u001b[0m \n",
       "\t\t\t\t\t ---------"
      ]
     },
     "metadata": {},
     "output_type": "display_data"
    },
    {
     "data": {
      "text/plain": [
       "2025-08-01 18:31:24,650 fedbiomed INFO - \u001b[1mTRAINING\u001b[0m \n",
       "\t\t\t\t\t NODE_ID: NODE_1396bb40-b8fc-4d8f-9575-8a5bba5b6ebb \n",
       "\t\t\t\t\t Round 3 Epoch: 5 | Iteration: 90/100 (90%) | Samples: 2880/3200\n",
       " \t\t\t\t\t Loss: \u001b[1m0.000001\u001b[0m \n",
       "\t\t\t\t\t ---------"
      ]
     },
     "metadata": {},
     "output_type": "display_data"
    },
    {
     "data": {
      "text/plain": [
       "2025-08-01 18:31:24,666 fedbiomed INFO - \u001b[1mTRAINING\u001b[0m \n",
       "\t\t\t\t\t NODE_ID: NODE_1396bb40-b8fc-4d8f-9575-8a5bba5b6ebb \n",
       "\t\t\t\t\t Round 3 Epoch: 5 | Iteration: 100/100 (100%) | Samples: 3200/3200\n",
       " \t\t\t\t\t Loss: \u001b[1m0.000000\u001b[0m \n",
       "\t\t\t\t\t ---------"
      ]
     },
     "metadata": {},
     "output_type": "display_data"
    },
    {
     "data": {
      "text/plain": [
       "2025-08-01 18:31:24,685 fedbiomed INFO - \u001b[1mVALIDATION ON LOCAL UPDATES\u001b[0m \n",
       "\t\t\t\t\t NODE_ID: NODE_1396bb40-b8fc-4d8f-9575-8a5bba5b6ebb \n",
       "\t\t\t\t\t Round 3 | Iteration: 1/1 (100%) | Samples: 1302/1302\n",
       " \t\t\t\t\t F1_SCORE: \u001b[1m1.000000\u001b[0m \n",
       "\t\t\t\t\t ---------"
      ]
     },
     "metadata": {},
     "output_type": "display_data"
    },
    {
     "data": {
      "text/plain": [
       "2025-08-01 18:31:24,757 fedbiomed INFO - Nodes that successfully reply in round 2 ['NODE_1396bb40-b8fc-4d8f-9575-8a5bba5b6ebb']"
      ]
     },
     "metadata": {},
     "output_type": "display_data"
    },
    {
     "data": {
      "text/plain": [
       "2025-08-01 18:31:24,759 fedbiomed INFO - Sampled nodes in round 3 ['NODE_1396bb40-b8fc-4d8f-9575-8a5bba5b6ebb']"
      ]
     },
     "metadata": {},
     "output_type": "display_data"
    },
    {
     "name": "stdout",
     "output_type": "stream",
     "text": [
      "<function extract_symbols at 0x7fa3d0b5fb50>\n"
     ]
    },
    {
     "data": {
      "text/plain": [
       "2025-08-01 18:31:24,762 fedbiomed INFO - \u001b[1mSending request\u001b[0m \n",
       "\t\t\t\t\t\u001b[1m To\u001b[0m: NODE_1396bb40-b8fc-4d8f-9575-8a5bba5b6ebb \n",
       "\t\t\t\t\t\u001b[1m Request: \u001b[0m: TRAIN\n",
       " -----------------------------------------------------------------"
      ]
     },
     "metadata": {},
     "output_type": "display_data"
    },
    {
     "data": {
      "text/plain": [
       "2025-08-01 18:31:24,778 fedbiomed DEBUG - Node: NODE_1396bb40-b8fc-4d8f-9575-8a5bba5b6ebb polling for the tasks"
      ]
     },
     "metadata": {},
     "output_type": "display_data"
    },
    {
     "data": {
      "text/plain": [
       "2025-08-01 18:31:25,290 fedbiomed INFO - \u001b[1mVALIDATION ON GLOBAL UPDATES\u001b[0m \n",
       "\t\t\t\t\t NODE_ID: NODE_1396bb40-b8fc-4d8f-9575-8a5bba5b6ebb \n",
       "\t\t\t\t\t Round 4 | Iteration: 1/1 (100%) | Samples: 1302/1302\n",
       " \t\t\t\t\t F1_SCORE: \u001b[1m1.000000\u001b[0m \n",
       "\t\t\t\t\t ---------"
      ]
     },
     "metadata": {},
     "output_type": "display_data"
    },
    {
     "data": {
      "text/plain": [
       "2025-08-01 18:31:25,295 fedbiomed INFO - \u001b[1mTRAINING\u001b[0m \n",
       "\t\t\t\t\t NODE_ID: NODE_1396bb40-b8fc-4d8f-9575-8a5bba5b6ebb \n",
       "\t\t\t\t\t Round 4 Epoch: 1 | Iteration: 1/100 (1%) | Samples: 32/3200\n",
       " \t\t\t\t\t Loss: \u001b[1m0.000000\u001b[0m \n",
       "\t\t\t\t\t ---------"
      ]
     },
     "metadata": {},
     "output_type": "display_data"
    },
    {
     "data": {
      "text/plain": [
       "2025-08-01 18:31:25,316 fedbiomed INFO - \u001b[1mTRAINING\u001b[0m \n",
       "\t\t\t\t\t NODE_ID: NODE_1396bb40-b8fc-4d8f-9575-8a5bba5b6ebb \n",
       "\t\t\t\t\t Round 4 Epoch: 1 | Iteration: 10/100 (10%) | Samples: 320/3200\n",
       " \t\t\t\t\t Loss: \u001b[1m0.000000\u001b[0m \n",
       "\t\t\t\t\t ---------"
      ]
     },
     "metadata": {},
     "output_type": "display_data"
    },
    {
     "data": {
      "text/plain": [
       "2025-08-01 18:31:25,361 fedbiomed INFO - \u001b[1mTRAINING\u001b[0m \n",
       "\t\t\t\t\t NODE_ID: NODE_1396bb40-b8fc-4d8f-9575-8a5bba5b6ebb \n",
       "\t\t\t\t\t Round 4 Epoch: 1 | Iteration: 20/100 (20%) | Samples: 640/3200\n",
       " \t\t\t\t\t Loss: \u001b[1m0.000000\u001b[0m \n",
       "\t\t\t\t\t ---------"
      ]
     },
     "metadata": {},
     "output_type": "display_data"
    },
    {
     "data": {
      "text/plain": [
       "2025-08-01 18:31:25,388 fedbiomed INFO - \u001b[1mTRAINING\u001b[0m \n",
       "\t\t\t\t\t NODE_ID: NODE_1396bb40-b8fc-4d8f-9575-8a5bba5b6ebb \n",
       "\t\t\t\t\t Round 4 Epoch: 1 | Iteration: 30/100 (30%) | Samples: 960/3200\n",
       " \t\t\t\t\t Loss: \u001b[1m0.000000\u001b[0m \n",
       "\t\t\t\t\t ---------"
      ]
     },
     "metadata": {},
     "output_type": "display_data"
    },
    {
     "data": {
      "text/plain": [
       "2025-08-01 18:31:25,415 fedbiomed INFO - \u001b[1mTRAINING\u001b[0m \n",
       "\t\t\t\t\t NODE_ID: NODE_1396bb40-b8fc-4d8f-9575-8a5bba5b6ebb \n",
       "\t\t\t\t\t Round 4 Epoch: 1 | Iteration: 40/100 (40%) | Samples: 1280/3200\n",
       " \t\t\t\t\t Loss: \u001b[1m0.000000\u001b[0m \n",
       "\t\t\t\t\t ---------"
      ]
     },
     "metadata": {},
     "output_type": "display_data"
    },
    {
     "data": {
      "text/plain": [
       "2025-08-01 18:31:25,440 fedbiomed INFO - \u001b[1mTRAINING\u001b[0m \n",
       "\t\t\t\t\t NODE_ID: NODE_1396bb40-b8fc-4d8f-9575-8a5bba5b6ebb \n",
       "\t\t\t\t\t Round 4 Epoch: 1 | Iteration: 50/100 (50%) | Samples: 1600/3200\n",
       " \t\t\t\t\t Loss: \u001b[1m0.000000\u001b[0m \n",
       "\t\t\t\t\t ---------"
      ]
     },
     "metadata": {},
     "output_type": "display_data"
    },
    {
     "data": {
      "text/plain": [
       "2025-08-01 18:31:25,471 fedbiomed INFO - \u001b[1mTRAINING\u001b[0m \n",
       "\t\t\t\t\t NODE_ID: NODE_1396bb40-b8fc-4d8f-9575-8a5bba5b6ebb \n",
       "\t\t\t\t\t Round 4 Epoch: 1 | Iteration: 60/100 (60%) | Samples: 1920/3200\n",
       " \t\t\t\t\t Loss: \u001b[1m0.000000\u001b[0m \n",
       "\t\t\t\t\t ---------"
      ]
     },
     "metadata": {},
     "output_type": "display_data"
    },
    {
     "data": {
      "text/plain": [
       "2025-08-01 18:31:25,504 fedbiomed INFO - \u001b[1mTRAINING\u001b[0m \n",
       "\t\t\t\t\t NODE_ID: NODE_1396bb40-b8fc-4d8f-9575-8a5bba5b6ebb \n",
       "\t\t\t\t\t Round 4 Epoch: 1 | Iteration: 70/100 (70%) | Samples: 2240/3200\n",
       " \t\t\t\t\t Loss: \u001b[1m0.000000\u001b[0m \n",
       "\t\t\t\t\t ---------"
      ]
     },
     "metadata": {},
     "output_type": "display_data"
    },
    {
     "data": {
      "text/plain": [
       "2025-08-01 18:31:25,521 fedbiomed INFO - \u001b[1mTRAINING\u001b[0m \n",
       "\t\t\t\t\t NODE_ID: NODE_1396bb40-b8fc-4d8f-9575-8a5bba5b6ebb \n",
       "\t\t\t\t\t Round 4 Epoch: 1 | Iteration: 80/100 (80%) | Samples: 2560/3200\n",
       " \t\t\t\t\t Loss: \u001b[1m0.000000\u001b[0m \n",
       "\t\t\t\t\t ---------"
      ]
     },
     "metadata": {},
     "output_type": "display_data"
    },
    {
     "data": {
      "text/plain": [
       "2025-08-01 18:31:25,550 fedbiomed INFO - \u001b[1mTRAINING\u001b[0m \n",
       "\t\t\t\t\t NODE_ID: NODE_1396bb40-b8fc-4d8f-9575-8a5bba5b6ebb \n",
       "\t\t\t\t\t Round 4 Epoch: 1 | Iteration: 90/100 (90%) | Samples: 2880/3200\n",
       " \t\t\t\t\t Loss: \u001b[1m0.000000\u001b[0m \n",
       "\t\t\t\t\t ---------"
      ]
     },
     "metadata": {},
     "output_type": "display_data"
    },
    {
     "data": {
      "text/plain": [
       "2025-08-01 18:31:25,576 fedbiomed INFO - \u001b[1mTRAINING\u001b[0m \n",
       "\t\t\t\t\t NODE_ID: NODE_1396bb40-b8fc-4d8f-9575-8a5bba5b6ebb \n",
       "\t\t\t\t\t Round 4 Epoch: 1 | Iteration: 100/100 (100%) | Samples: 3200/3200\n",
       " \t\t\t\t\t Loss: \u001b[1m0.000000\u001b[0m \n",
       "\t\t\t\t\t ---------"
      ]
     },
     "metadata": {},
     "output_type": "display_data"
    },
    {
     "data": {
      "text/plain": [
       "2025-08-01 18:31:25,580 fedbiomed INFO - \u001b[1mTRAINING\u001b[0m \n",
       "\t\t\t\t\t NODE_ID: NODE_1396bb40-b8fc-4d8f-9575-8a5bba5b6ebb \n",
       "\t\t\t\t\t Round 4 Epoch: 2 | Iteration: 1/100 (1%) | Samples: 32/3200\n",
       " \t\t\t\t\t Loss: \u001b[1m0.000000\u001b[0m \n",
       "\t\t\t\t\t ---------"
      ]
     },
     "metadata": {},
     "output_type": "display_data"
    },
    {
     "data": {
      "text/plain": [
       "2025-08-01 18:31:25,589 fedbiomed INFO - \u001b[1mTRAINING\u001b[0m \n",
       "\t\t\t\t\t NODE_ID: NODE_1396bb40-b8fc-4d8f-9575-8a5bba5b6ebb \n",
       "\t\t\t\t\t Round 4 Epoch: 2 | Iteration: 10/100 (10%) | Samples: 320/3200\n",
       " \t\t\t\t\t Loss: \u001b[1m0.000000\u001b[0m \n",
       "\t\t\t\t\t ---------"
      ]
     },
     "metadata": {},
     "output_type": "display_data"
    },
    {
     "data": {
      "text/plain": [
       "2025-08-01 18:31:25,605 fedbiomed INFO - \u001b[1mTRAINING\u001b[0m \n",
       "\t\t\t\t\t NODE_ID: NODE_1396bb40-b8fc-4d8f-9575-8a5bba5b6ebb \n",
       "\t\t\t\t\t Round 4 Epoch: 2 | Iteration: 20/100 (20%) | Samples: 640/3200\n",
       " \t\t\t\t\t Loss: \u001b[1m0.000000\u001b[0m \n",
       "\t\t\t\t\t ---------"
      ]
     },
     "metadata": {},
     "output_type": "display_data"
    },
    {
     "data": {
      "text/plain": [
       "2025-08-01 18:31:25,629 fedbiomed INFO - \u001b[1mTRAINING\u001b[0m \n",
       "\t\t\t\t\t NODE_ID: NODE_1396bb40-b8fc-4d8f-9575-8a5bba5b6ebb \n",
       "\t\t\t\t\t Round 4 Epoch: 2 | Iteration: 30/100 (30%) | Samples: 960/3200\n",
       " \t\t\t\t\t Loss: \u001b[1m0.000000\u001b[0m \n",
       "\t\t\t\t\t ---------"
      ]
     },
     "metadata": {},
     "output_type": "display_data"
    },
    {
     "data": {
      "text/plain": [
       "2025-08-01 18:31:25,660 fedbiomed INFO - \u001b[1mTRAINING\u001b[0m \n",
       "\t\t\t\t\t NODE_ID: NODE_1396bb40-b8fc-4d8f-9575-8a5bba5b6ebb \n",
       "\t\t\t\t\t Round 4 Epoch: 2 | Iteration: 40/100 (40%) | Samples: 1280/3200\n",
       " \t\t\t\t\t Loss: \u001b[1m0.000000\u001b[0m \n",
       "\t\t\t\t\t ---------"
      ]
     },
     "metadata": {},
     "output_type": "display_data"
    },
    {
     "data": {
      "text/plain": [
       "2025-08-01 18:31:25,672 fedbiomed INFO - \u001b[1mTRAINING\u001b[0m \n",
       "\t\t\t\t\t NODE_ID: NODE_1396bb40-b8fc-4d8f-9575-8a5bba5b6ebb \n",
       "\t\t\t\t\t Round 4 Epoch: 2 | Iteration: 50/100 (50%) | Samples: 1600/3200\n",
       " \t\t\t\t\t Loss: \u001b[1m0.000000\u001b[0m \n",
       "\t\t\t\t\t ---------"
      ]
     },
     "metadata": {},
     "output_type": "display_data"
    },
    {
     "data": {
      "text/plain": [
       "2025-08-01 18:31:25,691 fedbiomed INFO - \u001b[1mTRAINING\u001b[0m \n",
       "\t\t\t\t\t NODE_ID: NODE_1396bb40-b8fc-4d8f-9575-8a5bba5b6ebb \n",
       "\t\t\t\t\t Round 4 Epoch: 2 | Iteration: 60/100 (60%) | Samples: 1920/3200\n",
       " \t\t\t\t\t Loss: \u001b[1m0.000000\u001b[0m \n",
       "\t\t\t\t\t ---------"
      ]
     },
     "metadata": {},
     "output_type": "display_data"
    },
    {
     "data": {
      "text/plain": [
       "2025-08-01 18:31:25,706 fedbiomed INFO - \u001b[1mTRAINING\u001b[0m \n",
       "\t\t\t\t\t NODE_ID: NODE_1396bb40-b8fc-4d8f-9575-8a5bba5b6ebb \n",
       "\t\t\t\t\t Round 4 Epoch: 2 | Iteration: 70/100 (70%) | Samples: 2240/3200\n",
       " \t\t\t\t\t Loss: \u001b[1m0.000000\u001b[0m \n",
       "\t\t\t\t\t ---------"
      ]
     },
     "metadata": {},
     "output_type": "display_data"
    },
    {
     "data": {
      "text/plain": [
       "2025-08-01 18:31:25,723 fedbiomed INFO - \u001b[1mTRAINING\u001b[0m \n",
       "\t\t\t\t\t NODE_ID: NODE_1396bb40-b8fc-4d8f-9575-8a5bba5b6ebb \n",
       "\t\t\t\t\t Round 4 Epoch: 2 | Iteration: 80/100 (80%) | Samples: 2560/3200\n",
       " \t\t\t\t\t Loss: \u001b[1m0.000000\u001b[0m \n",
       "\t\t\t\t\t ---------"
      ]
     },
     "metadata": {},
     "output_type": "display_data"
    },
    {
     "data": {
      "text/plain": [
       "2025-08-01 18:31:25,737 fedbiomed INFO - \u001b[1mTRAINING\u001b[0m \n",
       "\t\t\t\t\t NODE_ID: NODE_1396bb40-b8fc-4d8f-9575-8a5bba5b6ebb \n",
       "\t\t\t\t\t Round 4 Epoch: 2 | Iteration: 90/100 (90%) | Samples: 2880/3200\n",
       " \t\t\t\t\t Loss: \u001b[1m0.000000\u001b[0m \n",
       "\t\t\t\t\t ---------"
      ]
     },
     "metadata": {},
     "output_type": "display_data"
    },
    {
     "data": {
      "text/plain": [
       "2025-08-01 18:31:25,759 fedbiomed INFO - \u001b[1mTRAINING\u001b[0m \n",
       "\t\t\t\t\t NODE_ID: NODE_1396bb40-b8fc-4d8f-9575-8a5bba5b6ebb \n",
       "\t\t\t\t\t Round 4 Epoch: 2 | Iteration: 100/100 (100%) | Samples: 3200/3200\n",
       " \t\t\t\t\t Loss: \u001b[1m0.000000\u001b[0m \n",
       "\t\t\t\t\t ---------"
      ]
     },
     "metadata": {},
     "output_type": "display_data"
    },
    {
     "data": {
      "text/plain": [
       "2025-08-01 18:31:25,765 fedbiomed INFO - \u001b[1mTRAINING\u001b[0m \n",
       "\t\t\t\t\t NODE_ID: NODE_1396bb40-b8fc-4d8f-9575-8a5bba5b6ebb \n",
       "\t\t\t\t\t Round 4 Epoch: 3 | Iteration: 1/100 (1%) | Samples: 32/3200\n",
       " \t\t\t\t\t Loss: \u001b[1m0.000000\u001b[0m \n",
       "\t\t\t\t\t ---------"
      ]
     },
     "metadata": {},
     "output_type": "display_data"
    },
    {
     "data": {
      "text/plain": [
       "2025-08-01 18:31:25,799 fedbiomed INFO - \u001b[1mTRAINING\u001b[0m \n",
       "\t\t\t\t\t NODE_ID: NODE_1396bb40-b8fc-4d8f-9575-8a5bba5b6ebb \n",
       "\t\t\t\t\t Round 4 Epoch: 3 | Iteration: 10/100 (10%) | Samples: 320/3200\n",
       " \t\t\t\t\t Loss: \u001b[1m0.000000\u001b[0m \n",
       "\t\t\t\t\t ---------"
      ]
     },
     "metadata": {},
     "output_type": "display_data"
    },
    {
     "data": {
      "text/plain": [
       "2025-08-01 18:31:25,831 fedbiomed INFO - \u001b[1mTRAINING\u001b[0m \n",
       "\t\t\t\t\t NODE_ID: NODE_1396bb40-b8fc-4d8f-9575-8a5bba5b6ebb \n",
       "\t\t\t\t\t Round 4 Epoch: 3 | Iteration: 20/100 (20%) | Samples: 640/3200\n",
       " \t\t\t\t\t Loss: \u001b[1m0.000000\u001b[0m \n",
       "\t\t\t\t\t ---------"
      ]
     },
     "metadata": {},
     "output_type": "display_data"
    },
    {
     "data": {
      "text/plain": [
       "2025-08-01 18:31:25,852 fedbiomed INFO - \u001b[1mTRAINING\u001b[0m \n",
       "\t\t\t\t\t NODE_ID: NODE_1396bb40-b8fc-4d8f-9575-8a5bba5b6ebb \n",
       "\t\t\t\t\t Round 4 Epoch: 3 | Iteration: 30/100 (30%) | Samples: 960/3200\n",
       " \t\t\t\t\t Loss: \u001b[1m0.000000\u001b[0m \n",
       "\t\t\t\t\t ---------"
      ]
     },
     "metadata": {},
     "output_type": "display_data"
    },
    {
     "data": {
      "text/plain": [
       "2025-08-01 18:31:25,882 fedbiomed INFO - \u001b[1mTRAINING\u001b[0m \n",
       "\t\t\t\t\t NODE_ID: NODE_1396bb40-b8fc-4d8f-9575-8a5bba5b6ebb \n",
       "\t\t\t\t\t Round 4 Epoch: 3 | Iteration: 40/100 (40%) | Samples: 1280/3200\n",
       " \t\t\t\t\t Loss: \u001b[1m0.000000\u001b[0m \n",
       "\t\t\t\t\t ---------"
      ]
     },
     "metadata": {},
     "output_type": "display_data"
    },
    {
     "data": {
      "text/plain": [
       "2025-08-01 18:31:25,922 fedbiomed INFO - \u001b[1mTRAINING\u001b[0m \n",
       "\t\t\t\t\t NODE_ID: NODE_1396bb40-b8fc-4d8f-9575-8a5bba5b6ebb \n",
       "\t\t\t\t\t Round 4 Epoch: 3 | Iteration: 50/100 (50%) | Samples: 1600/3200\n",
       " \t\t\t\t\t Loss: \u001b[1m0.000000\u001b[0m \n",
       "\t\t\t\t\t ---------"
      ]
     },
     "metadata": {},
     "output_type": "display_data"
    },
    {
     "data": {
      "text/plain": [
       "2025-08-01 18:31:25,953 fedbiomed INFO - \u001b[1mTRAINING\u001b[0m \n",
       "\t\t\t\t\t NODE_ID: NODE_1396bb40-b8fc-4d8f-9575-8a5bba5b6ebb \n",
       "\t\t\t\t\t Round 4 Epoch: 3 | Iteration: 60/100 (60%) | Samples: 1920/3200\n",
       " \t\t\t\t\t Loss: \u001b[1m0.000000\u001b[0m \n",
       "\t\t\t\t\t ---------"
      ]
     },
     "metadata": {},
     "output_type": "display_data"
    },
    {
     "data": {
      "text/plain": [
       "2025-08-01 18:31:25,975 fedbiomed INFO - \u001b[1mTRAINING\u001b[0m \n",
       "\t\t\t\t\t NODE_ID: NODE_1396bb40-b8fc-4d8f-9575-8a5bba5b6ebb \n",
       "\t\t\t\t\t Round 4 Epoch: 3 | Iteration: 70/100 (70%) | Samples: 2240/3200\n",
       " \t\t\t\t\t Loss: \u001b[1m0.000000\u001b[0m \n",
       "\t\t\t\t\t ---------"
      ]
     },
     "metadata": {},
     "output_type": "display_data"
    },
    {
     "data": {
      "text/plain": [
       "2025-08-01 18:31:25,994 fedbiomed INFO - \u001b[1mTRAINING\u001b[0m \n",
       "\t\t\t\t\t NODE_ID: NODE_1396bb40-b8fc-4d8f-9575-8a5bba5b6ebb \n",
       "\t\t\t\t\t Round 4 Epoch: 3 | Iteration: 80/100 (80%) | Samples: 2560/3200\n",
       " \t\t\t\t\t Loss: \u001b[1m0.000000\u001b[0m \n",
       "\t\t\t\t\t ---------"
      ]
     },
     "metadata": {},
     "output_type": "display_data"
    },
    {
     "data": {
      "text/plain": [
       "2025-08-01 18:31:26,007 fedbiomed INFO - \u001b[1mTRAINING\u001b[0m \n",
       "\t\t\t\t\t NODE_ID: NODE_1396bb40-b8fc-4d8f-9575-8a5bba5b6ebb \n",
       "\t\t\t\t\t Round 4 Epoch: 3 | Iteration: 90/100 (90%) | Samples: 2880/3200\n",
       " \t\t\t\t\t Loss: \u001b[1m0.000000\u001b[0m \n",
       "\t\t\t\t\t ---------"
      ]
     },
     "metadata": {},
     "output_type": "display_data"
    },
    {
     "data": {
      "text/plain": [
       "2025-08-01 18:31:26,024 fedbiomed INFO - \u001b[1mTRAINING\u001b[0m \n",
       "\t\t\t\t\t NODE_ID: NODE_1396bb40-b8fc-4d8f-9575-8a5bba5b6ebb \n",
       "\t\t\t\t\t Round 4 Epoch: 3 | Iteration: 100/100 (100%) | Samples: 3200/3200\n",
       " \t\t\t\t\t Loss: \u001b[1m0.000000\u001b[0m \n",
       "\t\t\t\t\t ---------"
      ]
     },
     "metadata": {},
     "output_type": "display_data"
    },
    {
     "data": {
      "text/plain": [
       "2025-08-01 18:31:26,028 fedbiomed INFO - \u001b[1mTRAINING\u001b[0m \n",
       "\t\t\t\t\t NODE_ID: NODE_1396bb40-b8fc-4d8f-9575-8a5bba5b6ebb \n",
       "\t\t\t\t\t Round 4 Epoch: 4 | Iteration: 1/100 (1%) | Samples: 32/3200\n",
       " \t\t\t\t\t Loss: \u001b[1m0.000000\u001b[0m \n",
       "\t\t\t\t\t ---------"
      ]
     },
     "metadata": {},
     "output_type": "display_data"
    },
    {
     "data": {
      "text/plain": [
       "2025-08-01 18:31:26,046 fedbiomed INFO - \u001b[1mTRAINING\u001b[0m \n",
       "\t\t\t\t\t NODE_ID: NODE_1396bb40-b8fc-4d8f-9575-8a5bba5b6ebb \n",
       "\t\t\t\t\t Round 4 Epoch: 4 | Iteration: 10/100 (10%) | Samples: 320/3200\n",
       " \t\t\t\t\t Loss: \u001b[1m0.000000\u001b[0m \n",
       "\t\t\t\t\t ---------"
      ]
     },
     "metadata": {},
     "output_type": "display_data"
    },
    {
     "data": {
      "text/plain": [
       "2025-08-01 18:31:26,060 fedbiomed INFO - \u001b[1mTRAINING\u001b[0m \n",
       "\t\t\t\t\t NODE_ID: NODE_1396bb40-b8fc-4d8f-9575-8a5bba5b6ebb \n",
       "\t\t\t\t\t Round 4 Epoch: 4 | Iteration: 20/100 (20%) | Samples: 640/3200\n",
       " \t\t\t\t\t Loss: \u001b[1m0.000000\u001b[0m \n",
       "\t\t\t\t\t ---------"
      ]
     },
     "metadata": {},
     "output_type": "display_data"
    },
    {
     "data": {
      "text/plain": [
       "2025-08-01 18:31:26,081 fedbiomed INFO - \u001b[1mTRAINING\u001b[0m \n",
       "\t\t\t\t\t NODE_ID: NODE_1396bb40-b8fc-4d8f-9575-8a5bba5b6ebb \n",
       "\t\t\t\t\t Round 4 Epoch: 4 | Iteration: 30/100 (30%) | Samples: 960/3200\n",
       " \t\t\t\t\t Loss: \u001b[1m0.000000\u001b[0m \n",
       "\t\t\t\t\t ---------"
      ]
     },
     "metadata": {},
     "output_type": "display_data"
    },
    {
     "data": {
      "text/plain": [
       "2025-08-01 18:31:26,093 fedbiomed INFO - \u001b[1mTRAINING\u001b[0m \n",
       "\t\t\t\t\t NODE_ID: NODE_1396bb40-b8fc-4d8f-9575-8a5bba5b6ebb \n",
       "\t\t\t\t\t Round 4 Epoch: 4 | Iteration: 40/100 (40%) | Samples: 1280/3200\n",
       " \t\t\t\t\t Loss: \u001b[1m0.000000\u001b[0m \n",
       "\t\t\t\t\t ---------"
      ]
     },
     "metadata": {},
     "output_type": "display_data"
    },
    {
     "data": {
      "text/plain": [
       "2025-08-01 18:31:26,103 fedbiomed INFO - \u001b[1mTRAINING\u001b[0m \n",
       "\t\t\t\t\t NODE_ID: NODE_1396bb40-b8fc-4d8f-9575-8a5bba5b6ebb \n",
       "\t\t\t\t\t Round 4 Epoch: 4 | Iteration: 50/100 (50%) | Samples: 1600/3200\n",
       " \t\t\t\t\t Loss: \u001b[1m0.000000\u001b[0m \n",
       "\t\t\t\t\t ---------"
      ]
     },
     "metadata": {},
     "output_type": "display_data"
    },
    {
     "data": {
      "text/plain": [
       "2025-08-01 18:31:26,121 fedbiomed INFO - \u001b[1mTRAINING\u001b[0m \n",
       "\t\t\t\t\t NODE_ID: NODE_1396bb40-b8fc-4d8f-9575-8a5bba5b6ebb \n",
       "\t\t\t\t\t Round 4 Epoch: 4 | Iteration: 60/100 (60%) | Samples: 1920/3200\n",
       " \t\t\t\t\t Loss: \u001b[1m0.000000\u001b[0m \n",
       "\t\t\t\t\t ---------"
      ]
     },
     "metadata": {},
     "output_type": "display_data"
    },
    {
     "data": {
      "text/plain": [
       "2025-08-01 18:31:26,137 fedbiomed INFO - \u001b[1mTRAINING\u001b[0m \n",
       "\t\t\t\t\t NODE_ID: NODE_1396bb40-b8fc-4d8f-9575-8a5bba5b6ebb \n",
       "\t\t\t\t\t Round 4 Epoch: 4 | Iteration: 70/100 (70%) | Samples: 2240/3200\n",
       " \t\t\t\t\t Loss: \u001b[1m0.000000\u001b[0m \n",
       "\t\t\t\t\t ---------"
      ]
     },
     "metadata": {},
     "output_type": "display_data"
    },
    {
     "data": {
      "text/plain": [
       "2025-08-01 18:31:26,145 fedbiomed INFO - \u001b[1mTRAINING\u001b[0m \n",
       "\t\t\t\t\t NODE_ID: NODE_1396bb40-b8fc-4d8f-9575-8a5bba5b6ebb \n",
       "\t\t\t\t\t Round 4 Epoch: 4 | Iteration: 80/100 (80%) | Samples: 2560/3200\n",
       " \t\t\t\t\t Loss: \u001b[1m0.000000\u001b[0m \n",
       "\t\t\t\t\t ---------"
      ]
     },
     "metadata": {},
     "output_type": "display_data"
    },
    {
     "data": {
      "text/plain": [
       "2025-08-01 18:31:26,163 fedbiomed INFO - \u001b[1mTRAINING\u001b[0m \n",
       "\t\t\t\t\t NODE_ID: NODE_1396bb40-b8fc-4d8f-9575-8a5bba5b6ebb \n",
       "\t\t\t\t\t Round 4 Epoch: 4 | Iteration: 90/100 (90%) | Samples: 2880/3200\n",
       " \t\t\t\t\t Loss: \u001b[1m0.000000\u001b[0m \n",
       "\t\t\t\t\t ---------"
      ]
     },
     "metadata": {},
     "output_type": "display_data"
    },
    {
     "data": {
      "text/plain": [
       "2025-08-01 18:31:26,185 fedbiomed INFO - \u001b[1mTRAINING\u001b[0m \n",
       "\t\t\t\t\t NODE_ID: NODE_1396bb40-b8fc-4d8f-9575-8a5bba5b6ebb \n",
       "\t\t\t\t\t Round 4 Epoch: 4 | Iteration: 100/100 (100%) | Samples: 3200/3200\n",
       " \t\t\t\t\t Loss: \u001b[1m0.000000\u001b[0m \n",
       "\t\t\t\t\t ---------"
      ]
     },
     "metadata": {},
     "output_type": "display_data"
    },
    {
     "data": {
      "text/plain": [
       "2025-08-01 18:31:26,187 fedbiomed INFO - \u001b[1mTRAINING\u001b[0m \n",
       "\t\t\t\t\t NODE_ID: NODE_1396bb40-b8fc-4d8f-9575-8a5bba5b6ebb \n",
       "\t\t\t\t\t Round 4 Epoch: 5 | Iteration: 1/100 (1%) | Samples: 32/3200\n",
       " \t\t\t\t\t Loss: \u001b[1m0.000000\u001b[0m \n",
       "\t\t\t\t\t ---------"
      ]
     },
     "metadata": {},
     "output_type": "display_data"
    },
    {
     "data": {
      "text/plain": [
       "2025-08-01 18:31:26,202 fedbiomed INFO - \u001b[1mTRAINING\u001b[0m \n",
       "\t\t\t\t\t NODE_ID: NODE_1396bb40-b8fc-4d8f-9575-8a5bba5b6ebb \n",
       "\t\t\t\t\t Round 4 Epoch: 5 | Iteration: 10/100 (10%) | Samples: 320/3200\n",
       " \t\t\t\t\t Loss: \u001b[1m0.000000\u001b[0m \n",
       "\t\t\t\t\t ---------"
      ]
     },
     "metadata": {},
     "output_type": "display_data"
    },
    {
     "data": {
      "text/plain": [
       "2025-08-01 18:31:26,219 fedbiomed INFO - \u001b[1mTRAINING\u001b[0m \n",
       "\t\t\t\t\t NODE_ID: NODE_1396bb40-b8fc-4d8f-9575-8a5bba5b6ebb \n",
       "\t\t\t\t\t Round 4 Epoch: 5 | Iteration: 20/100 (20%) | Samples: 640/3200\n",
       " \t\t\t\t\t Loss: \u001b[1m0.000000\u001b[0m \n",
       "\t\t\t\t\t ---------"
      ]
     },
     "metadata": {},
     "output_type": "display_data"
    },
    {
     "data": {
      "text/plain": [
       "2025-08-01 18:31:26,234 fedbiomed INFO - \u001b[1mTRAINING\u001b[0m \n",
       "\t\t\t\t\t NODE_ID: NODE_1396bb40-b8fc-4d8f-9575-8a5bba5b6ebb \n",
       "\t\t\t\t\t Round 4 Epoch: 5 | Iteration: 30/100 (30%) | Samples: 960/3200\n",
       " \t\t\t\t\t Loss: \u001b[1m0.000000\u001b[0m \n",
       "\t\t\t\t\t ---------"
      ]
     },
     "metadata": {},
     "output_type": "display_data"
    },
    {
     "data": {
      "text/plain": [
       "2025-08-01 18:31:26,247 fedbiomed INFO - \u001b[1mTRAINING\u001b[0m \n",
       "\t\t\t\t\t NODE_ID: NODE_1396bb40-b8fc-4d8f-9575-8a5bba5b6ebb \n",
       "\t\t\t\t\t Round 4 Epoch: 5 | Iteration: 40/100 (40%) | Samples: 1280/3200\n",
       " \t\t\t\t\t Loss: \u001b[1m0.000000\u001b[0m \n",
       "\t\t\t\t\t ---------"
      ]
     },
     "metadata": {},
     "output_type": "display_data"
    },
    {
     "data": {
      "text/plain": [
       "2025-08-01 18:31:26,262 fedbiomed INFO - \u001b[1mTRAINING\u001b[0m \n",
       "\t\t\t\t\t NODE_ID: NODE_1396bb40-b8fc-4d8f-9575-8a5bba5b6ebb \n",
       "\t\t\t\t\t Round 4 Epoch: 5 | Iteration: 50/100 (50%) | Samples: 1600/3200\n",
       " \t\t\t\t\t Loss: \u001b[1m0.000000\u001b[0m \n",
       "\t\t\t\t\t ---------"
      ]
     },
     "metadata": {},
     "output_type": "display_data"
    },
    {
     "data": {
      "text/plain": [
       "2025-08-01 18:31:26,281 fedbiomed INFO - \u001b[1mTRAINING\u001b[0m \n",
       "\t\t\t\t\t NODE_ID: NODE_1396bb40-b8fc-4d8f-9575-8a5bba5b6ebb \n",
       "\t\t\t\t\t Round 4 Epoch: 5 | Iteration: 60/100 (60%) | Samples: 1920/3200\n",
       " \t\t\t\t\t Loss: \u001b[1m0.000000\u001b[0m \n",
       "\t\t\t\t\t ---------"
      ]
     },
     "metadata": {},
     "output_type": "display_data"
    },
    {
     "data": {
      "text/plain": [
       "2025-08-01 18:31:26,307 fedbiomed INFO - \u001b[1mTRAINING\u001b[0m \n",
       "\t\t\t\t\t NODE_ID: NODE_1396bb40-b8fc-4d8f-9575-8a5bba5b6ebb \n",
       "\t\t\t\t\t Round 4 Epoch: 5 | Iteration: 70/100 (70%) | Samples: 2240/3200\n",
       " \t\t\t\t\t Loss: \u001b[1m0.000000\u001b[0m \n",
       "\t\t\t\t\t ---------"
      ]
     },
     "metadata": {},
     "output_type": "display_data"
    },
    {
     "data": {
      "text/plain": [
       "2025-08-01 18:31:26,337 fedbiomed INFO - \u001b[1mTRAINING\u001b[0m \n",
       "\t\t\t\t\t NODE_ID: NODE_1396bb40-b8fc-4d8f-9575-8a5bba5b6ebb \n",
       "\t\t\t\t\t Round 4 Epoch: 5 | Iteration: 80/100 (80%) | Samples: 2560/3200\n",
       " \t\t\t\t\t Loss: \u001b[1m0.000000\u001b[0m \n",
       "\t\t\t\t\t ---------"
      ]
     },
     "metadata": {},
     "output_type": "display_data"
    },
    {
     "data": {
      "text/plain": [
       "2025-08-01 18:31:26,372 fedbiomed INFO - \u001b[1mTRAINING\u001b[0m \n",
       "\t\t\t\t\t NODE_ID: NODE_1396bb40-b8fc-4d8f-9575-8a5bba5b6ebb \n",
       "\t\t\t\t\t Round 4 Epoch: 5 | Iteration: 90/100 (90%) | Samples: 2880/3200\n",
       " \t\t\t\t\t Loss: \u001b[1m0.000000\u001b[0m \n",
       "\t\t\t\t\t ---------"
      ]
     },
     "metadata": {},
     "output_type": "display_data"
    },
    {
     "data": {
      "text/plain": [
       "2025-08-01 18:31:26,397 fedbiomed INFO - \u001b[1mTRAINING\u001b[0m \n",
       "\t\t\t\t\t NODE_ID: NODE_1396bb40-b8fc-4d8f-9575-8a5bba5b6ebb \n",
       "\t\t\t\t\t Round 4 Epoch: 5 | Iteration: 100/100 (100%) | Samples: 3200/3200\n",
       " \t\t\t\t\t Loss: \u001b[1m0.000000\u001b[0m \n",
       "\t\t\t\t\t ---------"
      ]
     },
     "metadata": {},
     "output_type": "display_data"
    },
    {
     "data": {
      "text/plain": [
       "2025-08-01 18:31:26,415 fedbiomed INFO - \u001b[1mVALIDATION ON LOCAL UPDATES\u001b[0m \n",
       "\t\t\t\t\t NODE_ID: NODE_1396bb40-b8fc-4d8f-9575-8a5bba5b6ebb \n",
       "\t\t\t\t\t Round 4 | Iteration: 1/1 (100%) | Samples: 1302/1302\n",
       " \t\t\t\t\t F1_SCORE: \u001b[1m1.000000\u001b[0m \n",
       "\t\t\t\t\t ---------"
      ]
     },
     "metadata": {},
     "output_type": "display_data"
    },
    {
     "data": {
      "text/plain": [
       "2025-08-01 18:31:26,522 fedbiomed INFO - Nodes that successfully reply in round 3 ['NODE_1396bb40-b8fc-4d8f-9575-8a5bba5b6ebb']"
      ]
     },
     "metadata": {},
     "output_type": "display_data"
    },
    {
     "data": {
      "text/plain": [
       "2025-08-01 18:31:26,525 fedbiomed INFO - Sampled nodes in round 4 ['NODE_1396bb40-b8fc-4d8f-9575-8a5bba5b6ebb']"
      ]
     },
     "metadata": {},
     "output_type": "display_data"
    },
    {
     "name": "stdout",
     "output_type": "stream",
     "text": [
      "<function extract_symbols at 0x7fa3d0b5fb50>\n"
     ]
    },
    {
     "data": {
      "text/plain": [
       "2025-08-01 18:31:26,530 fedbiomed INFO - \u001b[1mSending request\u001b[0m \n",
       "\t\t\t\t\t\u001b[1m To\u001b[0m: NODE_1396bb40-b8fc-4d8f-9575-8a5bba5b6ebb \n",
       "\t\t\t\t\t\u001b[1m Request: \u001b[0m: TRAIN\n",
       " -----------------------------------------------------------------"
      ]
     },
     "metadata": {},
     "output_type": "display_data"
    },
    {
     "data": {
      "text/plain": [
       "2025-08-01 18:31:26,549 fedbiomed DEBUG - Node: NODE_1396bb40-b8fc-4d8f-9575-8a5bba5b6ebb polling for the tasks"
      ]
     },
     "metadata": {},
     "output_type": "display_data"
    },
    {
     "data": {
      "text/plain": [
       "2025-08-01 18:31:27,033 fedbiomed INFO - \u001b[1mVALIDATION ON GLOBAL UPDATES\u001b[0m \n",
       "\t\t\t\t\t NODE_ID: NODE_1396bb40-b8fc-4d8f-9575-8a5bba5b6ebb \n",
       "\t\t\t\t\t Round 5 | Iteration: 1/1 (100%) | Samples: 1302/1302\n",
       " \t\t\t\t\t F1_SCORE: \u001b[1m1.000000\u001b[0m \n",
       "\t\t\t\t\t ---------"
      ]
     },
     "metadata": {},
     "output_type": "display_data"
    },
    {
     "data": {
      "text/plain": [
       "2025-08-01 18:31:27,039 fedbiomed INFO - \u001b[1mTRAINING\u001b[0m \n",
       "\t\t\t\t\t NODE_ID: NODE_1396bb40-b8fc-4d8f-9575-8a5bba5b6ebb \n",
       "\t\t\t\t\t Round 5 Epoch: 1 | Iteration: 1/100 (1%) | Samples: 32/3200\n",
       " \t\t\t\t\t Loss: \u001b[1m0.000000\u001b[0m \n",
       "\t\t\t\t\t ---------"
      ]
     },
     "metadata": {},
     "output_type": "display_data"
    },
    {
     "data": {
      "text/plain": [
       "2025-08-01 18:31:27,053 fedbiomed INFO - \u001b[1mTRAINING\u001b[0m \n",
       "\t\t\t\t\t NODE_ID: NODE_1396bb40-b8fc-4d8f-9575-8a5bba5b6ebb \n",
       "\t\t\t\t\t Round 5 Epoch: 1 | Iteration: 10/100 (10%) | Samples: 320/3200\n",
       " \t\t\t\t\t Loss: \u001b[1m0.000000\u001b[0m \n",
       "\t\t\t\t\t ---------"
      ]
     },
     "metadata": {},
     "output_type": "display_data"
    },
    {
     "data": {
      "text/plain": [
       "2025-08-01 18:31:27,074 fedbiomed INFO - \u001b[1mTRAINING\u001b[0m \n",
       "\t\t\t\t\t NODE_ID: NODE_1396bb40-b8fc-4d8f-9575-8a5bba5b6ebb \n",
       "\t\t\t\t\t Round 5 Epoch: 1 | Iteration: 20/100 (20%) | Samples: 640/3200\n",
       " \t\t\t\t\t Loss: \u001b[1m0.000000\u001b[0m \n",
       "\t\t\t\t\t ---------"
      ]
     },
     "metadata": {},
     "output_type": "display_data"
    },
    {
     "data": {
      "text/plain": [
       "2025-08-01 18:31:27,085 fedbiomed INFO - \u001b[1mTRAINING\u001b[0m \n",
       "\t\t\t\t\t NODE_ID: NODE_1396bb40-b8fc-4d8f-9575-8a5bba5b6ebb \n",
       "\t\t\t\t\t Round 5 Epoch: 1 | Iteration: 30/100 (30%) | Samples: 960/3200\n",
       " \t\t\t\t\t Loss: \u001b[1m0.000000\u001b[0m \n",
       "\t\t\t\t\t ---------"
      ]
     },
     "metadata": {},
     "output_type": "display_data"
    },
    {
     "data": {
      "text/plain": [
       "2025-08-01 18:31:27,103 fedbiomed INFO - \u001b[1mTRAINING\u001b[0m \n",
       "\t\t\t\t\t NODE_ID: NODE_1396bb40-b8fc-4d8f-9575-8a5bba5b6ebb \n",
       "\t\t\t\t\t Round 5 Epoch: 1 | Iteration: 40/100 (40%) | Samples: 1280/3200\n",
       " \t\t\t\t\t Loss: \u001b[1m0.000000\u001b[0m \n",
       "\t\t\t\t\t ---------"
      ]
     },
     "metadata": {},
     "output_type": "display_data"
    },
    {
     "data": {
      "text/plain": [
       "2025-08-01 18:31:27,117 fedbiomed INFO - \u001b[1mTRAINING\u001b[0m \n",
       "\t\t\t\t\t NODE_ID: NODE_1396bb40-b8fc-4d8f-9575-8a5bba5b6ebb \n",
       "\t\t\t\t\t Round 5 Epoch: 1 | Iteration: 50/100 (50%) | Samples: 1600/3200\n",
       " \t\t\t\t\t Loss: \u001b[1m0.000000\u001b[0m \n",
       "\t\t\t\t\t ---------"
      ]
     },
     "metadata": {},
     "output_type": "display_data"
    },
    {
     "data": {
      "text/plain": [
       "2025-08-01 18:31:27,131 fedbiomed INFO - \u001b[1mTRAINING\u001b[0m \n",
       "\t\t\t\t\t NODE_ID: NODE_1396bb40-b8fc-4d8f-9575-8a5bba5b6ebb \n",
       "\t\t\t\t\t Round 5 Epoch: 1 | Iteration: 60/100 (60%) | Samples: 1920/3200\n",
       " \t\t\t\t\t Loss: \u001b[1m0.000000\u001b[0m \n",
       "\t\t\t\t\t ---------"
      ]
     },
     "metadata": {},
     "output_type": "display_data"
    },
    {
     "data": {
      "text/plain": [
       "2025-08-01 18:31:27,144 fedbiomed INFO - \u001b[1mTRAINING\u001b[0m \n",
       "\t\t\t\t\t NODE_ID: NODE_1396bb40-b8fc-4d8f-9575-8a5bba5b6ebb \n",
       "\t\t\t\t\t Round 5 Epoch: 1 | Iteration: 70/100 (70%) | Samples: 2240/3200\n",
       " \t\t\t\t\t Loss: \u001b[1m0.000000\u001b[0m \n",
       "\t\t\t\t\t ---------"
      ]
     },
     "metadata": {},
     "output_type": "display_data"
    },
    {
     "data": {
      "text/plain": [
       "2025-08-01 18:31:27,162 fedbiomed INFO - \u001b[1mTRAINING\u001b[0m \n",
       "\t\t\t\t\t NODE_ID: NODE_1396bb40-b8fc-4d8f-9575-8a5bba5b6ebb \n",
       "\t\t\t\t\t Round 5 Epoch: 1 | Iteration: 80/100 (80%) | Samples: 2560/3200\n",
       " \t\t\t\t\t Loss: \u001b[1m0.000000\u001b[0m \n",
       "\t\t\t\t\t ---------"
      ]
     },
     "metadata": {},
     "output_type": "display_data"
    },
    {
     "data": {
      "text/plain": [
       "2025-08-01 18:31:27,174 fedbiomed INFO - \u001b[1mTRAINING\u001b[0m \n",
       "\t\t\t\t\t NODE_ID: NODE_1396bb40-b8fc-4d8f-9575-8a5bba5b6ebb \n",
       "\t\t\t\t\t Round 5 Epoch: 1 | Iteration: 90/100 (90%) | Samples: 2880/3200\n",
       " \t\t\t\t\t Loss: \u001b[1m0.000000\u001b[0m \n",
       "\t\t\t\t\t ---------"
      ]
     },
     "metadata": {},
     "output_type": "display_data"
    },
    {
     "data": {
      "text/plain": [
       "2025-08-01 18:31:27,195 fedbiomed INFO - \u001b[1mTRAINING\u001b[0m \n",
       "\t\t\t\t\t NODE_ID: NODE_1396bb40-b8fc-4d8f-9575-8a5bba5b6ebb \n",
       "\t\t\t\t\t Round 5 Epoch: 1 | Iteration: 100/100 (100%) | Samples: 3200/3200\n",
       " \t\t\t\t\t Loss: \u001b[1m0.000000\u001b[0m \n",
       "\t\t\t\t\t ---------"
      ]
     },
     "metadata": {},
     "output_type": "display_data"
    },
    {
     "data": {
      "text/plain": [
       "2025-08-01 18:31:27,201 fedbiomed INFO - \u001b[1mTRAINING\u001b[0m \n",
       "\t\t\t\t\t NODE_ID: NODE_1396bb40-b8fc-4d8f-9575-8a5bba5b6ebb \n",
       "\t\t\t\t\t Round 5 Epoch: 2 | Iteration: 1/100 (1%) | Samples: 32/3200\n",
       " \t\t\t\t\t Loss: \u001b[1m0.000000\u001b[0m \n",
       "\t\t\t\t\t ---------"
      ]
     },
     "metadata": {},
     "output_type": "display_data"
    },
    {
     "data": {
      "text/plain": [
       "2025-08-01 18:31:27,213 fedbiomed INFO - \u001b[1mTRAINING\u001b[0m \n",
       "\t\t\t\t\t NODE_ID: NODE_1396bb40-b8fc-4d8f-9575-8a5bba5b6ebb \n",
       "\t\t\t\t\t Round 5 Epoch: 2 | Iteration: 10/100 (10%) | Samples: 320/3200\n",
       " \t\t\t\t\t Loss: \u001b[1m0.000000\u001b[0m \n",
       "\t\t\t\t\t ---------"
      ]
     },
     "metadata": {},
     "output_type": "display_data"
    },
    {
     "data": {
      "text/plain": [
       "2025-08-01 18:31:27,230 fedbiomed INFO - \u001b[1mTRAINING\u001b[0m \n",
       "\t\t\t\t\t NODE_ID: NODE_1396bb40-b8fc-4d8f-9575-8a5bba5b6ebb \n",
       "\t\t\t\t\t Round 5 Epoch: 2 | Iteration: 20/100 (20%) | Samples: 640/3200\n",
       " \t\t\t\t\t Loss: \u001b[1m0.000000\u001b[0m \n",
       "\t\t\t\t\t ---------"
      ]
     },
     "metadata": {},
     "output_type": "display_data"
    },
    {
     "data": {
      "text/plain": [
       "2025-08-01 18:31:27,246 fedbiomed INFO - \u001b[1mTRAINING\u001b[0m \n",
       "\t\t\t\t\t NODE_ID: NODE_1396bb40-b8fc-4d8f-9575-8a5bba5b6ebb \n",
       "\t\t\t\t\t Round 5 Epoch: 2 | Iteration: 30/100 (30%) | Samples: 960/3200\n",
       " \t\t\t\t\t Loss: \u001b[1m0.000000\u001b[0m \n",
       "\t\t\t\t\t ---------"
      ]
     },
     "metadata": {},
     "output_type": "display_data"
    },
    {
     "data": {
      "text/plain": [
       "2025-08-01 18:31:27,277 fedbiomed INFO - \u001b[1mTRAINING\u001b[0m \n",
       "\t\t\t\t\t NODE_ID: NODE_1396bb40-b8fc-4d8f-9575-8a5bba5b6ebb \n",
       "\t\t\t\t\t Round 5 Epoch: 2 | Iteration: 40/100 (40%) | Samples: 1280/3200\n",
       " \t\t\t\t\t Loss: \u001b[1m0.000000\u001b[0m \n",
       "\t\t\t\t\t ---------"
      ]
     },
     "metadata": {},
     "output_type": "display_data"
    },
    {
     "data": {
      "text/plain": [
       "2025-08-01 18:31:27,291 fedbiomed INFO - \u001b[1mTRAINING\u001b[0m \n",
       "\t\t\t\t\t NODE_ID: NODE_1396bb40-b8fc-4d8f-9575-8a5bba5b6ebb \n",
       "\t\t\t\t\t Round 5 Epoch: 2 | Iteration: 50/100 (50%) | Samples: 1600/3200\n",
       " \t\t\t\t\t Loss: \u001b[1m0.000000\u001b[0m \n",
       "\t\t\t\t\t ---------"
      ]
     },
     "metadata": {},
     "output_type": "display_data"
    },
    {
     "data": {
      "text/plain": [
       "2025-08-01 18:31:27,310 fedbiomed INFO - \u001b[1mTRAINING\u001b[0m \n",
       "\t\t\t\t\t NODE_ID: NODE_1396bb40-b8fc-4d8f-9575-8a5bba5b6ebb \n",
       "\t\t\t\t\t Round 5 Epoch: 2 | Iteration: 60/100 (60%) | Samples: 1920/3200\n",
       " \t\t\t\t\t Loss: \u001b[1m0.000000\u001b[0m \n",
       "\t\t\t\t\t ---------"
      ]
     },
     "metadata": {},
     "output_type": "display_data"
    },
    {
     "data": {
      "text/plain": [
       "2025-08-01 18:31:27,334 fedbiomed INFO - \u001b[1mTRAINING\u001b[0m \n",
       "\t\t\t\t\t NODE_ID: NODE_1396bb40-b8fc-4d8f-9575-8a5bba5b6ebb \n",
       "\t\t\t\t\t Round 5 Epoch: 2 | Iteration: 70/100 (70%) | Samples: 2240/3200\n",
       " \t\t\t\t\t Loss: \u001b[1m0.000000\u001b[0m \n",
       "\t\t\t\t\t ---------"
      ]
     },
     "metadata": {},
     "output_type": "display_data"
    },
    {
     "data": {
      "text/plain": [
       "2025-08-01 18:31:27,351 fedbiomed INFO - \u001b[1mTRAINING\u001b[0m \n",
       "\t\t\t\t\t NODE_ID: NODE_1396bb40-b8fc-4d8f-9575-8a5bba5b6ebb \n",
       "\t\t\t\t\t Round 5 Epoch: 2 | Iteration: 80/100 (80%) | Samples: 2560/3200\n",
       " \t\t\t\t\t Loss: \u001b[1m0.000000\u001b[0m \n",
       "\t\t\t\t\t ---------"
      ]
     },
     "metadata": {},
     "output_type": "display_data"
    },
    {
     "data": {
      "text/plain": [
       "2025-08-01 18:31:27,369 fedbiomed INFO - \u001b[1mTRAINING\u001b[0m \n",
       "\t\t\t\t\t NODE_ID: NODE_1396bb40-b8fc-4d8f-9575-8a5bba5b6ebb \n",
       "\t\t\t\t\t Round 5 Epoch: 2 | Iteration: 90/100 (90%) | Samples: 2880/3200\n",
       " \t\t\t\t\t Loss: \u001b[1m0.000000\u001b[0m \n",
       "\t\t\t\t\t ---------"
      ]
     },
     "metadata": {},
     "output_type": "display_data"
    },
    {
     "data": {
      "text/plain": [
       "2025-08-01 18:31:27,384 fedbiomed INFO - \u001b[1mTRAINING\u001b[0m \n",
       "\t\t\t\t\t NODE_ID: NODE_1396bb40-b8fc-4d8f-9575-8a5bba5b6ebb \n",
       "\t\t\t\t\t Round 5 Epoch: 2 | Iteration: 100/100 (100%) | Samples: 3200/3200\n",
       " \t\t\t\t\t Loss: \u001b[1m0.000000\u001b[0m \n",
       "\t\t\t\t\t ---------"
      ]
     },
     "metadata": {},
     "output_type": "display_data"
    },
    {
     "data": {
      "text/plain": [
       "2025-08-01 18:31:27,389 fedbiomed INFO - \u001b[1mTRAINING\u001b[0m \n",
       "\t\t\t\t\t NODE_ID: NODE_1396bb40-b8fc-4d8f-9575-8a5bba5b6ebb \n",
       "\t\t\t\t\t Round 5 Epoch: 3 | Iteration: 1/100 (1%) | Samples: 32/3200\n",
       " \t\t\t\t\t Loss: \u001b[1m0.000000\u001b[0m \n",
       "\t\t\t\t\t ---------"
      ]
     },
     "metadata": {},
     "output_type": "display_data"
    },
    {
     "data": {
      "text/plain": [
       "2025-08-01 18:31:27,407 fedbiomed INFO - \u001b[1mTRAINING\u001b[0m \n",
       "\t\t\t\t\t NODE_ID: NODE_1396bb40-b8fc-4d8f-9575-8a5bba5b6ebb \n",
       "\t\t\t\t\t Round 5 Epoch: 3 | Iteration: 10/100 (10%) | Samples: 320/3200\n",
       " \t\t\t\t\t Loss: \u001b[1m0.000000\u001b[0m \n",
       "\t\t\t\t\t ---------"
      ]
     },
     "metadata": {},
     "output_type": "display_data"
    },
    {
     "data": {
      "text/plain": [
       "2025-08-01 18:31:27,430 fedbiomed INFO - \u001b[1mTRAINING\u001b[0m \n",
       "\t\t\t\t\t NODE_ID: NODE_1396bb40-b8fc-4d8f-9575-8a5bba5b6ebb \n",
       "\t\t\t\t\t Round 5 Epoch: 3 | Iteration: 20/100 (20%) | Samples: 640/3200\n",
       " \t\t\t\t\t Loss: \u001b[1m0.000000\u001b[0m \n",
       "\t\t\t\t\t ---------"
      ]
     },
     "metadata": {},
     "output_type": "display_data"
    },
    {
     "data": {
      "text/plain": [
       "2025-08-01 18:31:27,449 fedbiomed INFO - \u001b[1mTRAINING\u001b[0m \n",
       "\t\t\t\t\t NODE_ID: NODE_1396bb40-b8fc-4d8f-9575-8a5bba5b6ebb \n",
       "\t\t\t\t\t Round 5 Epoch: 3 | Iteration: 30/100 (30%) | Samples: 960/3200\n",
       " \t\t\t\t\t Loss: \u001b[1m0.000000\u001b[0m \n",
       "\t\t\t\t\t ---------"
      ]
     },
     "metadata": {},
     "output_type": "display_data"
    },
    {
     "data": {
      "text/plain": [
       "2025-08-01 18:31:27,460 fedbiomed INFO - \u001b[1mTRAINING\u001b[0m \n",
       "\t\t\t\t\t NODE_ID: NODE_1396bb40-b8fc-4d8f-9575-8a5bba5b6ebb \n",
       "\t\t\t\t\t Round 5 Epoch: 3 | Iteration: 40/100 (40%) | Samples: 1280/3200\n",
       " \t\t\t\t\t Loss: \u001b[1m0.000000\u001b[0m \n",
       "\t\t\t\t\t ---------"
      ]
     },
     "metadata": {},
     "output_type": "display_data"
    },
    {
     "data": {
      "text/plain": [
       "2025-08-01 18:31:27,473 fedbiomed INFO - \u001b[1mTRAINING\u001b[0m \n",
       "\t\t\t\t\t NODE_ID: NODE_1396bb40-b8fc-4d8f-9575-8a5bba5b6ebb \n",
       "\t\t\t\t\t Round 5 Epoch: 3 | Iteration: 50/100 (50%) | Samples: 1600/3200\n",
       " \t\t\t\t\t Loss: \u001b[1m0.000000\u001b[0m \n",
       "\t\t\t\t\t ---------"
      ]
     },
     "metadata": {},
     "output_type": "display_data"
    },
    {
     "data": {
      "text/plain": [
       "2025-08-01 18:31:27,481 fedbiomed INFO - \u001b[1mTRAINING\u001b[0m \n",
       "\t\t\t\t\t NODE_ID: NODE_1396bb40-b8fc-4d8f-9575-8a5bba5b6ebb \n",
       "\t\t\t\t\t Round 5 Epoch: 3 | Iteration: 60/100 (60%) | Samples: 1920/3200\n",
       " \t\t\t\t\t Loss: \u001b[1m0.000000\u001b[0m \n",
       "\t\t\t\t\t ---------"
      ]
     },
     "metadata": {},
     "output_type": "display_data"
    },
    {
     "data": {
      "text/plain": [
       "2025-08-01 18:31:27,499 fedbiomed INFO - \u001b[1mTRAINING\u001b[0m \n",
       "\t\t\t\t\t NODE_ID: NODE_1396bb40-b8fc-4d8f-9575-8a5bba5b6ebb \n",
       "\t\t\t\t\t Round 5 Epoch: 3 | Iteration: 70/100 (70%) | Samples: 2240/3200\n",
       " \t\t\t\t\t Loss: \u001b[1m0.000000\u001b[0m \n",
       "\t\t\t\t\t ---------"
      ]
     },
     "metadata": {},
     "output_type": "display_data"
    },
    {
     "data": {
      "text/plain": [
       "2025-08-01 18:31:27,522 fedbiomed INFO - \u001b[1mTRAINING\u001b[0m \n",
       "\t\t\t\t\t NODE_ID: NODE_1396bb40-b8fc-4d8f-9575-8a5bba5b6ebb \n",
       "\t\t\t\t\t Round 5 Epoch: 3 | Iteration: 80/100 (80%) | Samples: 2560/3200\n",
       " \t\t\t\t\t Loss: \u001b[1m0.000000\u001b[0m \n",
       "\t\t\t\t\t ---------"
      ]
     },
     "metadata": {},
     "output_type": "display_data"
    },
    {
     "data": {
      "text/plain": [
       "2025-08-01 18:31:27,540 fedbiomed INFO - \u001b[1mTRAINING\u001b[0m \n",
       "\t\t\t\t\t NODE_ID: NODE_1396bb40-b8fc-4d8f-9575-8a5bba5b6ebb \n",
       "\t\t\t\t\t Round 5 Epoch: 3 | Iteration: 90/100 (90%) | Samples: 2880/3200\n",
       " \t\t\t\t\t Loss: \u001b[1m0.000000\u001b[0m \n",
       "\t\t\t\t\t ---------"
      ]
     },
     "metadata": {},
     "output_type": "display_data"
    },
    {
     "data": {
      "text/plain": [
       "2025-08-01 18:31:27,557 fedbiomed INFO - \u001b[1mTRAINING\u001b[0m \n",
       "\t\t\t\t\t NODE_ID: NODE_1396bb40-b8fc-4d8f-9575-8a5bba5b6ebb \n",
       "\t\t\t\t\t Round 5 Epoch: 3 | Iteration: 100/100 (100%) | Samples: 3200/3200\n",
       " \t\t\t\t\t Loss: \u001b[1m0.000000\u001b[0m \n",
       "\t\t\t\t\t ---------"
      ]
     },
     "metadata": {},
     "output_type": "display_data"
    },
    {
     "data": {
      "text/plain": [
       "2025-08-01 18:31:27,562 fedbiomed INFO - \u001b[1mTRAINING\u001b[0m \n",
       "\t\t\t\t\t NODE_ID: NODE_1396bb40-b8fc-4d8f-9575-8a5bba5b6ebb \n",
       "\t\t\t\t\t Round 5 Epoch: 4 | Iteration: 1/100 (1%) | Samples: 32/3200\n",
       " \t\t\t\t\t Loss: \u001b[1m0.000000\u001b[0m \n",
       "\t\t\t\t\t ---------"
      ]
     },
     "metadata": {},
     "output_type": "display_data"
    },
    {
     "data": {
      "text/plain": [
       "2025-08-01 18:31:27,578 fedbiomed INFO - \u001b[1mTRAINING\u001b[0m \n",
       "\t\t\t\t\t NODE_ID: NODE_1396bb40-b8fc-4d8f-9575-8a5bba5b6ebb \n",
       "\t\t\t\t\t Round 5 Epoch: 4 | Iteration: 10/100 (10%) | Samples: 320/3200\n",
       " \t\t\t\t\t Loss: \u001b[1m0.000000\u001b[0m \n",
       "\t\t\t\t\t ---------"
      ]
     },
     "metadata": {},
     "output_type": "display_data"
    },
    {
     "data": {
      "text/plain": [
       "2025-08-01 18:31:27,612 fedbiomed INFO - \u001b[1mTRAINING\u001b[0m \n",
       "\t\t\t\t\t NODE_ID: NODE_1396bb40-b8fc-4d8f-9575-8a5bba5b6ebb \n",
       "\t\t\t\t\t Round 5 Epoch: 4 | Iteration: 20/100 (20%) | Samples: 640/3200\n",
       " \t\t\t\t\t Loss: \u001b[1m0.000000\u001b[0m \n",
       "\t\t\t\t\t ---------"
      ]
     },
     "metadata": {},
     "output_type": "display_data"
    },
    {
     "data": {
      "text/plain": [
       "2025-08-01 18:31:27,625 fedbiomed INFO - \u001b[1mTRAINING\u001b[0m \n",
       "\t\t\t\t\t NODE_ID: NODE_1396bb40-b8fc-4d8f-9575-8a5bba5b6ebb \n",
       "\t\t\t\t\t Round 5 Epoch: 4 | Iteration: 30/100 (30%) | Samples: 960/3200\n",
       " \t\t\t\t\t Loss: \u001b[1m0.000000\u001b[0m \n",
       "\t\t\t\t\t ---------"
      ]
     },
     "metadata": {},
     "output_type": "display_data"
    },
    {
     "data": {
      "text/plain": [
       "2025-08-01 18:31:27,637 fedbiomed INFO - \u001b[1mTRAINING\u001b[0m \n",
       "\t\t\t\t\t NODE_ID: NODE_1396bb40-b8fc-4d8f-9575-8a5bba5b6ebb \n",
       "\t\t\t\t\t Round 5 Epoch: 4 | Iteration: 40/100 (40%) | Samples: 1280/3200\n",
       " \t\t\t\t\t Loss: \u001b[1m0.000000\u001b[0m \n",
       "\t\t\t\t\t ---------"
      ]
     },
     "metadata": {},
     "output_type": "display_data"
    },
    {
     "data": {
      "text/plain": [
       "2025-08-01 18:31:27,651 fedbiomed INFO - \u001b[1mTRAINING\u001b[0m \n",
       "\t\t\t\t\t NODE_ID: NODE_1396bb40-b8fc-4d8f-9575-8a5bba5b6ebb \n",
       "\t\t\t\t\t Round 5 Epoch: 4 | Iteration: 50/100 (50%) | Samples: 1600/3200\n",
       " \t\t\t\t\t Loss: \u001b[1m0.000000\u001b[0m \n",
       "\t\t\t\t\t ---------"
      ]
     },
     "metadata": {},
     "output_type": "display_data"
    },
    {
     "data": {
      "text/plain": [
       "2025-08-01 18:31:27,662 fedbiomed INFO - \u001b[1mTRAINING\u001b[0m \n",
       "\t\t\t\t\t NODE_ID: NODE_1396bb40-b8fc-4d8f-9575-8a5bba5b6ebb \n",
       "\t\t\t\t\t Round 5 Epoch: 4 | Iteration: 60/100 (60%) | Samples: 1920/3200\n",
       " \t\t\t\t\t Loss: \u001b[1m0.000000\u001b[0m \n",
       "\t\t\t\t\t ---------"
      ]
     },
     "metadata": {},
     "output_type": "display_data"
    },
    {
     "data": {
      "text/plain": [
       "2025-08-01 18:31:27,685 fedbiomed INFO - \u001b[1mTRAINING\u001b[0m \n",
       "\t\t\t\t\t NODE_ID: NODE_1396bb40-b8fc-4d8f-9575-8a5bba5b6ebb \n",
       "\t\t\t\t\t Round 5 Epoch: 4 | Iteration: 70/100 (70%) | Samples: 2240/3200\n",
       " \t\t\t\t\t Loss: \u001b[1m0.000000\u001b[0m \n",
       "\t\t\t\t\t ---------"
      ]
     },
     "metadata": {},
     "output_type": "display_data"
    },
    {
     "data": {
      "text/plain": [
       "2025-08-01 18:31:27,709 fedbiomed INFO - \u001b[1mTRAINING\u001b[0m \n",
       "\t\t\t\t\t NODE_ID: NODE_1396bb40-b8fc-4d8f-9575-8a5bba5b6ebb \n",
       "\t\t\t\t\t Round 5 Epoch: 4 | Iteration: 80/100 (80%) | Samples: 2560/3200\n",
       " \t\t\t\t\t Loss: \u001b[1m0.000000\u001b[0m \n",
       "\t\t\t\t\t ---------"
      ]
     },
     "metadata": {},
     "output_type": "display_data"
    },
    {
     "data": {
      "text/plain": [
       "2025-08-01 18:31:27,722 fedbiomed INFO - \u001b[1mTRAINING\u001b[0m \n",
       "\t\t\t\t\t NODE_ID: NODE_1396bb40-b8fc-4d8f-9575-8a5bba5b6ebb \n",
       "\t\t\t\t\t Round 5 Epoch: 4 | Iteration: 90/100 (90%) | Samples: 2880/3200\n",
       " \t\t\t\t\t Loss: \u001b[1m0.000000\u001b[0m \n",
       "\t\t\t\t\t ---------"
      ]
     },
     "metadata": {},
     "output_type": "display_data"
    },
    {
     "data": {
      "text/plain": [
       "2025-08-01 18:31:27,731 fedbiomed INFO - \u001b[1mTRAINING\u001b[0m \n",
       "\t\t\t\t\t NODE_ID: NODE_1396bb40-b8fc-4d8f-9575-8a5bba5b6ebb \n",
       "\t\t\t\t\t Round 5 Epoch: 4 | Iteration: 100/100 (100%) | Samples: 3200/3200\n",
       " \t\t\t\t\t Loss: \u001b[1m0.000000\u001b[0m \n",
       "\t\t\t\t\t ---------"
      ]
     },
     "metadata": {},
     "output_type": "display_data"
    },
    {
     "data": {
      "text/plain": [
       "2025-08-01 18:31:27,734 fedbiomed INFO - \u001b[1mTRAINING\u001b[0m \n",
       "\t\t\t\t\t NODE_ID: NODE_1396bb40-b8fc-4d8f-9575-8a5bba5b6ebb \n",
       "\t\t\t\t\t Round 5 Epoch: 5 | Iteration: 1/100 (1%) | Samples: 32/3200\n",
       " \t\t\t\t\t Loss: \u001b[1m0.000000\u001b[0m \n",
       "\t\t\t\t\t ---------"
      ]
     },
     "metadata": {},
     "output_type": "display_data"
    },
    {
     "data": {
      "text/plain": [
       "2025-08-01 18:31:27,746 fedbiomed INFO - \u001b[1mTRAINING\u001b[0m \n",
       "\t\t\t\t\t NODE_ID: NODE_1396bb40-b8fc-4d8f-9575-8a5bba5b6ebb \n",
       "\t\t\t\t\t Round 5 Epoch: 5 | Iteration: 10/100 (10%) | Samples: 320/3200\n",
       " \t\t\t\t\t Loss: \u001b[1m0.000000\u001b[0m \n",
       "\t\t\t\t\t ---------"
      ]
     },
     "metadata": {},
     "output_type": "display_data"
    },
    {
     "data": {
      "text/plain": [
       "2025-08-01 18:31:27,768 fedbiomed INFO - \u001b[1mTRAINING\u001b[0m \n",
       "\t\t\t\t\t NODE_ID: NODE_1396bb40-b8fc-4d8f-9575-8a5bba5b6ebb \n",
       "\t\t\t\t\t Round 5 Epoch: 5 | Iteration: 20/100 (20%) | Samples: 640/3200\n",
       " \t\t\t\t\t Loss: \u001b[1m0.000000\u001b[0m \n",
       "\t\t\t\t\t ---------"
      ]
     },
     "metadata": {},
     "output_type": "display_data"
    },
    {
     "data": {
      "text/plain": [
       "2025-08-01 18:31:27,785 fedbiomed INFO - \u001b[1mTRAINING\u001b[0m \n",
       "\t\t\t\t\t NODE_ID: NODE_1396bb40-b8fc-4d8f-9575-8a5bba5b6ebb \n",
       "\t\t\t\t\t Round 5 Epoch: 5 | Iteration: 30/100 (30%) | Samples: 960/3200\n",
       " \t\t\t\t\t Loss: \u001b[1m0.000000\u001b[0m \n",
       "\t\t\t\t\t ---------"
      ]
     },
     "metadata": {},
     "output_type": "display_data"
    },
    {
     "data": {
      "text/plain": [
       "2025-08-01 18:31:27,806 fedbiomed INFO - \u001b[1mTRAINING\u001b[0m \n",
       "\t\t\t\t\t NODE_ID: NODE_1396bb40-b8fc-4d8f-9575-8a5bba5b6ebb \n",
       "\t\t\t\t\t Round 5 Epoch: 5 | Iteration: 40/100 (40%) | Samples: 1280/3200\n",
       " \t\t\t\t\t Loss: \u001b[1m0.000000\u001b[0m \n",
       "\t\t\t\t\t ---------"
      ]
     },
     "metadata": {},
     "output_type": "display_data"
    },
    {
     "data": {
      "text/plain": [
       "2025-08-01 18:31:27,823 fedbiomed INFO - \u001b[1mTRAINING\u001b[0m \n",
       "\t\t\t\t\t NODE_ID: NODE_1396bb40-b8fc-4d8f-9575-8a5bba5b6ebb \n",
       "\t\t\t\t\t Round 5 Epoch: 5 | Iteration: 50/100 (50%) | Samples: 1600/3200\n",
       " \t\t\t\t\t Loss: \u001b[1m0.000000\u001b[0m \n",
       "\t\t\t\t\t ---------"
      ]
     },
     "metadata": {},
     "output_type": "display_data"
    },
    {
     "data": {
      "text/plain": [
       "2025-08-01 18:31:27,846 fedbiomed INFO - \u001b[1mTRAINING\u001b[0m \n",
       "\t\t\t\t\t NODE_ID: NODE_1396bb40-b8fc-4d8f-9575-8a5bba5b6ebb \n",
       "\t\t\t\t\t Round 5 Epoch: 5 | Iteration: 60/100 (60%) | Samples: 1920/3200\n",
       " \t\t\t\t\t Loss: \u001b[1m0.000000\u001b[0m \n",
       "\t\t\t\t\t ---------"
      ]
     },
     "metadata": {},
     "output_type": "display_data"
    },
    {
     "data": {
      "text/plain": [
       "2025-08-01 18:31:27,864 fedbiomed INFO - \u001b[1mTRAINING\u001b[0m \n",
       "\t\t\t\t\t NODE_ID: NODE_1396bb40-b8fc-4d8f-9575-8a5bba5b6ebb \n",
       "\t\t\t\t\t Round 5 Epoch: 5 | Iteration: 70/100 (70%) | Samples: 2240/3200\n",
       " \t\t\t\t\t Loss: \u001b[1m0.000000\u001b[0m \n",
       "\t\t\t\t\t ---------"
      ]
     },
     "metadata": {},
     "output_type": "display_data"
    },
    {
     "data": {
      "text/plain": [
       "2025-08-01 18:31:27,877 fedbiomed INFO - \u001b[1mTRAINING\u001b[0m \n",
       "\t\t\t\t\t NODE_ID: NODE_1396bb40-b8fc-4d8f-9575-8a5bba5b6ebb \n",
       "\t\t\t\t\t Round 5 Epoch: 5 | Iteration: 80/100 (80%) | Samples: 2560/3200\n",
       " \t\t\t\t\t Loss: \u001b[1m0.000000\u001b[0m \n",
       "\t\t\t\t\t ---------"
      ]
     },
     "metadata": {},
     "output_type": "display_data"
    },
    {
     "data": {
      "text/plain": [
       "2025-08-01 18:31:27,893 fedbiomed INFO - \u001b[1mTRAINING\u001b[0m \n",
       "\t\t\t\t\t NODE_ID: NODE_1396bb40-b8fc-4d8f-9575-8a5bba5b6ebb \n",
       "\t\t\t\t\t Round 5 Epoch: 5 | Iteration: 90/100 (90%) | Samples: 2880/3200\n",
       " \t\t\t\t\t Loss: \u001b[1m0.000000\u001b[0m \n",
       "\t\t\t\t\t ---------"
      ]
     },
     "metadata": {},
     "output_type": "display_data"
    },
    {
     "data": {
      "text/plain": [
       "2025-08-01 18:31:27,903 fedbiomed INFO - \u001b[1mTRAINING\u001b[0m \n",
       "\t\t\t\t\t NODE_ID: NODE_1396bb40-b8fc-4d8f-9575-8a5bba5b6ebb \n",
       "\t\t\t\t\t Round 5 Epoch: 5 | Iteration: 100/100 (100%) | Samples: 3200/3200\n",
       " \t\t\t\t\t Loss: \u001b[1m0.000000\u001b[0m \n",
       "\t\t\t\t\t ---------"
      ]
     },
     "metadata": {},
     "output_type": "display_data"
    },
    {
     "data": {
      "text/plain": [
       "2025-08-01 18:31:27,916 fedbiomed INFO - \u001b[1mVALIDATION ON LOCAL UPDATES\u001b[0m \n",
       "\t\t\t\t\t NODE_ID: NODE_1396bb40-b8fc-4d8f-9575-8a5bba5b6ebb \n",
       "\t\t\t\t\t Round 5 | Iteration: 1/1 (100%) | Samples: 1302/1302\n",
       " \t\t\t\t\t F1_SCORE: \u001b[1m1.000000\u001b[0m \n",
       "\t\t\t\t\t ---------"
      ]
     },
     "metadata": {},
     "output_type": "display_data"
    },
    {
     "data": {
      "text/plain": [
       "2025-08-01 18:31:27,994 fedbiomed INFO - Nodes that successfully reply in round 4 ['NODE_1396bb40-b8fc-4d8f-9575-8a5bba5b6ebb']"
      ]
     },
     "metadata": {},
     "output_type": "display_data"
    },
    {
     "name": "stdout",
     "output_type": "stream",
     "text": [
      "<function extract_symbols at 0x7fa3d0b5fb50>\n"
     ]
    },
    {
     "data": {
      "text/plain": [
       "2025-08-01 18:31:27,997 fedbiomed INFO - \u001b[1mSending request\u001b[0m \n",
       "\t\t\t\t\t\u001b[1m To\u001b[0m: NODE_1396bb40-b8fc-4d8f-9575-8a5bba5b6ebb \n",
       "\t\t\t\t\t\u001b[1m Request: \u001b[0m:Perform final validation on aggregated parameters \n",
       " -----------------------------------------------------------------"
      ]
     },
     "metadata": {},
     "output_type": "display_data"
    },
    {
     "data": {
      "text/plain": [
       "2025-08-01 18:31:28,006 fedbiomed DEBUG - Node: NODE_1396bb40-b8fc-4d8f-9575-8a5bba5b6ebb polling for the tasks"
      ]
     },
     "metadata": {},
     "output_type": "display_data"
    },
    {
     "data": {
      "text/plain": [
       "2025-08-01 18:31:28,480 fedbiomed INFO - \u001b[1mVALIDATION ON GLOBAL UPDATES\u001b[0m \n",
       "\t\t\t\t\t NODE_ID: NODE_1396bb40-b8fc-4d8f-9575-8a5bba5b6ebb \n",
       "\t\t\t\t\t Round 6 | Iteration: 1/1 (100%) | Samples: 1302/1302\n",
       " \t\t\t\t\t F1_SCORE: \u001b[1m1.000000\u001b[0m \n",
       "\t\t\t\t\t ---------"
      ]
     },
     "metadata": {},
     "output_type": "display_data"
    }
   ],
   "source": [
    "from fedbiomed.researcher.federated_workflows import Experiment\n",
    "from fedbiomed.researcher.aggregators.fedavg import FedAverage\n",
    "from fedbiomed.common.metrics import MetricTypes\n",
    "\n",
    "tags = ['breast', 'cancer','mammography']  # los tags con los que etiquetaste tu dataset en los nodos\n",
    "rounds = 5\n",
    "model_args = {}\n",
    "\n",
    "# ——— Cambia aquí: añade test_ratio, test_on_global_updates y test_metric ———\n",
    "training_args = {\n",
    "    'loader_args':            {'batch_size': 32},\n",
    "    'optimizer_args':         {'lr': 1e-3},\n",
    "    'epochs':                 5,\n",
    "    'dry_run':                False,\n",
    "    'batch_maxnum':           100,\n",
    "\n",
    "    # split local train/val y evalúa globalmente\n",
    "    'test_ratio':             0.2,  \n",
    "    'test_on_global_updates': True,\n",
    "    'test_metric': MetricTypes.F1_SCORE,\n",
    "    'test_on_global_updates': True,\n",
    "    'test_on_local_updates': True,\n",
    "    'log_interval':           10\n",
    "}\n",
    "\n",
    "exp = Experiment(\n",
    "    tags=tags,\n",
    "    model_args=model_args,\n",
    "    training_plan_class=MyTrainingPlan,\n",
    "    training_args=training_args,\n",
    "    round_limit=rounds,\n",
    "    aggregator=FedAverage(),\n",
    "    tensorboard=True\n",
    ")\n",
    "\n",
    "# Ejecuta el entrenamiento y guarda el resultado\n",
    "results = exp.run()\n",
    "# Guardas los pesos aprendidos en un .pth\n",
    "exp.training_plan().export_model('modelo_federado_prueba.pth')\n",
    "\n"
   ]
  },
  {
   "cell_type": "code",
   "execution_count": 3,
   "id": "71472a95-dff3-4394-b0db-fb0d4f3f36db",
   "metadata": {},
   "outputs": [
    {
     "name": "stdout",
     "output_type": "stream",
     "text": [
      "Training rounds keys: dict_keys([0, 1, 2, 3, 4])\n",
      "Aggregated params keys: dict_keys([0, 1, 2, 3, 4])\n"
     ]
    }
   ],
   "source": [
    "try:\n",
    "    exp.training_plan().export_model('./trained_model')\n",
    "except Exception as e:\n",
    "    print(e)\n",
    "\n",
    "print(\"Training rounds keys:\", exp.training_replies().keys())\n",
    "print(\"Aggregated params keys:\", exp.aggregated_params().keys())"
   ]
  },
  {
   "cell_type": "code",
   "execution_count": 1,
   "id": "c4f97147-4376-41e0-9a18-927632d778f8",
   "metadata": {},
   "outputs": [
    {
     "ename": "NameError",
     "evalue": "name 'torch' is not defined",
     "output_type": "error",
     "traceback": [
      "\u001b[0;31m---------------------------------------------------------------------------\u001b[0m",
      "\u001b[0;31mNameError\u001b[0m                                 Traceback (most recent call last)",
      "Cell \u001b[0;32mIn[1], line 1\u001b[0m\n\u001b[0;32m----> 1\u001b[0m device \u001b[38;5;241m=\u001b[39m \u001b[43mtorch\u001b[49m\u001b[38;5;241m.\u001b[39mdevice(\u001b[38;5;124m'\u001b[39m\u001b[38;5;124mcuda\u001b[39m\u001b[38;5;124m'\u001b[39m \u001b[38;5;28;01mif\u001b[39;00m torch\u001b[38;5;241m.\u001b[39mcuda\u001b[38;5;241m.\u001b[39mis_available() \u001b[38;5;28;01melse\u001b[39;00m \u001b[38;5;124m'\u001b[39m\u001b[38;5;124mcpu\u001b[39m\u001b[38;5;124m'\u001b[39m)\n\u001b[1;32m      2\u001b[0m \u001b[38;5;66;03m# 1) Recupera tu TrainingPlan en una variable\u001b[39;00m\n\u001b[1;32m      3\u001b[0m plan \u001b[38;5;241m=\u001b[39m exp\u001b[38;5;241m.\u001b[39mtraining_plan()\n",
      "\u001b[0;31mNameError\u001b[0m: name 'torch' is not defined"
     ]
    }
   ],
   "source": [
    "device = torch.device('cuda' if torch.cuda.is_available() else 'cpu')\n",
    "# 1) Recupera tu TrainingPlan en una variable\n",
    "plan = exp.training_plan()\n",
    "# 2) Importa los pesos que ya exportaste\n",
    "plan.import_model('modelo_federado_prueba.pth')\n",
    "# 3) Llama al método model() para obtener la red, y pásala a modo eval\n",
    "model = plan.model().to(device).eval()   # <- ojo a los paréntesis\n",
    "model.eval()"
   ]
  },
  {
   "cell_type": "code",
   "execution_count": 9,
   "id": "35283699-4f7b-4257-b9c4-84008351ea37",
   "metadata": {},
   "outputs": [
    {
     "name": "stdout",
     "output_type": "stream",
     "text": [
      "Predicciones guardadas en predicciones.csv\n"
     ]
    }
   ],
   "source": [
    "\n",
    "# 4) Ahora ya puedes inferir sobre tus datos\n",
    "df = pd.read_csv('datos_limpios_prueba.csv') \n",
    "# 3) Convierte el DataFrame a tensor [N, features]\n",
    "X = torch.tensor(df.values, dtype=torch.float32, device=device)\n",
    "# 4) Inferencia en batch y vuelca al DataFrame\n",
    "with torch.no_grad():\n",
    "    logits = model(X)                 # shape [N, num_clases]\n",
    "    preds  = logits.argmax(dim=1).cpu().numpy()\n",
    "\n",
    "df['predicción'] = preds\n",
    "df.to_csv('predicciones.csv', index=False)\n",
    "print(\"Predicciones guardadas en predicciones.csv\")\n"
   ]
  },
  {
   "cell_type": "code",
   "execution_count": null,
   "id": "9f9add08-19f2-4cbe-981a-0d4bf2e3b1ae",
   "metadata": {},
   "outputs": [],
   "source": []
  }
 ],
 "metadata": {
  "kernelspec": {
   "display_name": "Python 3 (ipykernel)",
   "language": "python",
   "name": "python3"
  },
  "language_info": {
   "codemirror_mode": {
    "name": "ipython",
    "version": 3
   },
   "file_extension": ".py",
   "mimetype": "text/x-python",
   "name": "python",
   "nbconvert_exporter": "python",
   "pygments_lexer": "ipython3",
   "version": "3.10.18"
  }
 },
 "nbformat": 4,
 "nbformat_minor": 5
}
