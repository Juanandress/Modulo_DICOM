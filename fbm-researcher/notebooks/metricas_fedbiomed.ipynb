{
 "cells": [
  {
   "cell_type": "code",
   "execution_count": 12,
   "id": "a29660b7-26d0-48c7-a29b-d6d677733273",
   "metadata": {},
   "outputs": [],
   "source": [
    "import pandas as pd\n",
    "import torch\n",
    "from sklearn.preprocessing import StandardScaler\n",
    "from torch.utils.data import DataLoader, TensorDataset\n",
    "\n",
    "# Cargar el DataFrame\n",
    "df_test = pd.read_csv(\"df_smtnn_merged_metricas.csv\")\n",
    "\n",
    "# Separar características y etiquetas\n",
    "X = df_test.drop(columns=[\"Diagnostic\"]).values\n",
    "y = df_test[\"Diagnostic\"].values\n",
    "\n",
    "\n",
    "# Convertir a tensores\n",
    "# Supongamos que df_test ya está normalizado\n",
    "X_test = torch.tensor(df_test.drop(columns=[\"Diagnostic\"]).values, dtype=torch.float32)\n",
    "y_test = torch.tensor(df_test[\"Diagnostic\"].values, dtype=torch.long)"
   ]
  },
  {
   "cell_type": "code",
   "execution_count": 14,
   "id": "88b67223-53cb-49b5-8af3-bd7979f45b92",
   "metadata": {},
   "outputs": [
    {
     "ename": "NameError",
     "evalue": "name 'exp' is not defined",
     "output_type": "error",
     "traceback": [
      "\u001b[0;31m---------------------------------------------------------------------------\u001b[0m",
      "\u001b[0;31mNameError\u001b[0m                                 Traceback (most recent call last)",
      "Cell \u001b[0;32mIn[14], line 16\u001b[0m\n\u001b[1;32m     14\u001b[0m device \u001b[38;5;241m=\u001b[39m torch\u001b[38;5;241m.\u001b[39mdevice(\u001b[38;5;124m'\u001b[39m\u001b[38;5;124mcuda\u001b[39m\u001b[38;5;124m'\u001b[39m \u001b[38;5;28;01mif\u001b[39;00m torch\u001b[38;5;241m.\u001b[39mcuda\u001b[38;5;241m.\u001b[39mis_available() \u001b[38;5;28;01melse\u001b[39;00m \u001b[38;5;124m'\u001b[39m\u001b[38;5;124mcpu\u001b[39m\u001b[38;5;124m'\u001b[39m)\n\u001b[1;32m     15\u001b[0m \u001b[38;5;66;03m# 1) Recupera tu TrainingPlan en una variable\u001b[39;00m\n\u001b[0;32m---> 16\u001b[0m plan \u001b[38;5;241m=\u001b[39m \u001b[43mexp\u001b[49m\u001b[38;5;241m.\u001b[39mtraining_plan()\n\u001b[1;32m     17\u001b[0m \u001b[38;5;66;03m# 2) Importa los pesos que ya exportaste\u001b[39;00m\n\u001b[1;32m     18\u001b[0m plan\u001b[38;5;241m.\u001b[39mimport_model(\u001b[38;5;124m'\u001b[39m\u001b[38;5;124mmodelo_federado.pth\u001b[39m\u001b[38;5;124m'\u001b[39m)\n",
      "\u001b[0;31mNameError\u001b[0m: name 'exp' is not defined"
     ]
    }
   ],
   "source": [
    "import torch.nn.functional as F\n",
    "from sklearn.metrics import confusion_matrix, roc_curve, auc, classification_report\n",
    "import matplotlib.pyplot as plt\n",
    "import numpy as np\n",
    "from torch.utils.data import DataLoader, TensorDataset\n",
    "\n",
    "# Crear DataLoader\n",
    "test_dataset = TensorDataset(X_test, y_test)\n",
    "test_loader = DataLoader(test_dataset, batch_size=32, shuffle=False)\n",
    "\n",
    "\n",
    "\n",
    "import torch\n",
    "device = torch.device('cuda' if torch.cuda.is_available() else 'cpu')\n",
    "# 1) Recupera tu TrainingPlan en una variable\n",
    "plan = exp.training_plan()\n",
    "# 2) Importa los pesos que ya exportaste\n",
    "plan.import_model('modelo_federado.pth')\n",
    "# 3) Llama al método model() para obtener la red, y pásala a modo eval\n",
    "model = plan.model().to(device).eval()   # <- ojo a los paréntesis\n",
    "model.eval()\n"
   ]
  },
  {
   "cell_type": "code",
   "execution_count": null,
   "id": "62ae4252-be18-434f-a9ec-9e34a0449509",
   "metadata": {},
   "outputs": [],
   "source": [
    "# Obtener predicciones\n",
    "y_true = []\n",
    "y_pred = []\n",
    "y_score = []\n",
    "\n",
    "with torch.no_grad():\n",
    "    for inputs, labels in test_loader:\n",
    "        outputs = model(inputs)\n",
    "        probs = F.softmax(outputs, dim=1)  # Para clasificación binaria\n",
    "        preds = torch.argmax(probs, dim=1)\n",
    "\n",
    "        y_true.extend(labels.cpu().numpy())\n",
    "        y_pred.extend(preds.cpu().numpy())\n",
    "        y_score.extend(probs[:, 1].cpu().numpy())  # Probabilidad clase positiva\n",
    "\n",
    "y_true = np.array(y_true)\n",
    "y_pred = np.array(y_pred)\n",
    "y_score = np.array(y_score)\n"
   ]
  },
  {
   "cell_type": "code",
   "execution_count": null,
   "id": "d44c3493-8dc7-4ca4-b7d0-ec33c24f1580",
   "metadata": {},
   "outputs": [],
   "source": []
  }
 ],
 "metadata": {
  "kernelspec": {
   "display_name": "Python 3 (ipykernel)",
   "language": "python",
   "name": "python3"
  },
  "language_info": {
   "codemirror_mode": {
    "name": "ipython",
    "version": 3
   },
   "file_extension": ".py",
   "mimetype": "text/x-python",
   "name": "python",
   "nbconvert_exporter": "python",
   "pygments_lexer": "ipython3",
   "version": "3.10.18"
  }
 },
 "nbformat": 4,
 "nbformat_minor": 5
}
