{
 "cells": [
  {
   "cell_type": "markdown",
   "metadata": {},
   "source": [
    "# Fed-BioMed Researcher base example\n",
    "\n",
    "This example uses MNIST dataset. Please check `README.md` file in `notebooks` directory for the instructions to load MNIST dataset and configure nodes.\n"
   ]
  },
  {
   "cell_type": "markdown",
   "metadata": {},
   "source": [
    "## Define an experiment model and parameters"
   ]
  },
  {
   "cell_type": "markdown",
   "metadata": {},
   "source": [
    "Declare a torch training plan MyTrainingPlan class to send for training on the node"
   ]
  },
  {
   "cell_type": "code",
   "execution_count": 1,
   "metadata": {},
   "outputs": [],
   "source": [
    "import torch\n",
    "import torch.nn as nn\n",
    "from fedbiomed.common.training_plans import TorchTrainingPlan\n",
    "from fedbiomed.common.data import DataManager\n",
    "from torchvision import datasets, transforms\n",
    "\n",
    "\n",
    "# Here we define the model to be used. \n",
    "# You can use any class name (here 'Net')\n",
    "class MyTrainingPlan(TorchTrainingPlan):\n",
    "    \n",
    "    # Defines and return model \n",
    "    def init_model(self, model_args):\n",
    "        return self.Net(model_args = model_args)\n",
    "    \n",
    "    # Defines and return optimizer\n",
    "    def init_optimizer(self, optimizer_args):\n",
    "        return torch.optim.Adam(self.model().parameters(), lr = optimizer_args[\"lr\"])\n",
    "    \n",
    "    # Declares and return dependencies\n",
    "    def init_dependencies(self):\n",
    "        deps = [\"from torchvision import datasets, transforms\"]\n",
    "        return deps\n",
    "    \n",
    "    class Net(nn.Module):\n",
    "        def __init__(self, model_args):\n",
    "            super().__init__()\n",
    "            self.conv1 = nn.Conv2d(1, 32, 3, 1)\n",
    "            self.conv2 = nn.Conv2d(32, 64, 3, 1)\n",
    "            self.dropout1 = nn.Dropout(0.25)\n",
    "            self.dropout2 = nn.Dropout(0.5)\n",
    "            self.fc1 = nn.Linear(9216, 128)\n",
    "            self.fc2 = nn.Linear(128, 10)\n",
    "\n",
    "        def forward(self, x):\n",
    "            x = self.conv1(x)\n",
    "            x = F.relu(x)\n",
    "            x = self.conv2(x)\n",
    "            x = F.relu(x)\n",
    "            x = F.max_pool2d(x, 2)\n",
    "            x = self.dropout1(x)\n",
    "            x = torch.flatten(x, 1)\n",
    "            x = self.fc1(x)\n",
    "            x = F.relu(x)\n",
    "            x = self.dropout2(x)\n",
    "            x = self.fc2(x)\n",
    "\n",
    "\n",
    "            output = F.log_softmax(x, dim=1)\n",
    "            return output\n",
    "\n",
    "    def training_data(self):\n",
    "        # Custom torch Dataloader for MNIST data\n",
    "        transform = transforms.Compose([transforms.ToTensor(),\n",
    "        transforms.Normalize((0.1307,), (0.3081,))])\n",
    "        dataset1 = datasets.MNIST(self.dataset_path, train=True, download=False, transform=transform)\n",
    "        train_kwargs = { 'shuffle': True}\n",
    "        return DataManager(dataset=dataset1, **train_kwargs)\n",
    "    \n",
    "    def training_step(self, data, target):\n",
    "        output = self.model().forward(data)\n",
    "        loss   = torch.nn.functional.nll_loss(output, target)\n",
    "        return loss\n",
    "    from sklearn.metrics import accuracy_score\n",
    "\n",
    "    def evaluate(self, data, target):\n",
    "        with torch.no_grad():\n",
    "            output = self.model().forward(data)\n",
    "            pred = output.argmax(dim=1)\n",
    "            acc = accuracy_score(target.cpu().numpy(), pred.cpu().numpy())\n",
    "            print(f\"[Evaluate] Accuracy del batch de validación: {acc:.4f}\")\n",
    "            return 1 #{ 'accuracy': acc }\n",
    "        \n"
   ]
  },
  {
   "cell_type": "markdown",
   "metadata": {},
   "source": [
    "### Model arguments and training arguments"
   ]
  },
  {
   "cell_type": "code",
   "execution_count": 2,
   "metadata": {
    "pycharm": {
     "name": "#%%\n"
    }
   },
   "outputs": [],
   "source": [
    "from fedbiomed.common.metrics import MetricTypes\n",
    "model_args = {}\n",
    "\n",
    "training_args = {\n",
    "    'loader_args': { 'batch_size': 48, }, \n",
    "    'optimizer_args': {\n",
    "        \"lr\" : 1e-3\n",
    "    },\n",
    "    'test_ratio' : 0.25,\n",
    "    #'test_batch_size': 64,\n",
    "    'test_metric': MetricTypes.ROC_AUC,\n",
    "    'test_on_global_updates': True,\n",
    "    'test_on_local_updates': True,\n",
    "    #'test_metric_args': {'average': 'marco'},\n",
    "    # 'use_gpu': True,  # automatically falls back to cpu on nodes that don't support gpu\n",
    "    'epochs': 1, \n",
    "    'dry_run': False,  \n",
    "    'batch_maxnum': 100 # Fast pass for development : only use ( batch_maxnum * batch_size ) samples\n",
    "}\n",
    "\n"
   ]
  },
  {
   "cell_type": "markdown",
   "metadata": {},
   "source": [
    "### Create and run the experiment"
   ]
  },
  {
   "cell_type": "code",
   "execution_count": 3,
   "metadata": {
    "pycharm": {
     "name": "#%%\n"
    }
   },
   "outputs": [
    {
     "data": {
      "text/plain": [
       "2025-07-31 00:52:36,201 fedbiomed INFO - Starting researcher service..."
      ]
     },
     "metadata": {},
     "output_type": "display_data"
    },
    {
     "data": {
      "text/plain": [
       "2025-07-31 00:52:36,209 fedbiomed INFO - Waiting 3s for nodes to connect..."
      ]
     },
     "metadata": {},
     "output_type": "display_data"
    },
    {
     "data": {
      "text/plain": [
       "2025-07-31 00:52:36,489 fedbiomed DEBUG - Node: NODE_8761223e-feb5-4fb9-9f0b-9238a6db2a57 polling for the tasks"
      ]
     },
     "metadata": {},
     "output_type": "display_data"
    },
    {
     "data": {
      "text/plain": [
       "2025-07-31 00:52:39,213 fedbiomed INFO - Updating training data. This action will update FederatedDataset, and the nodes that will participate to the experiment."
      ]
     },
     "metadata": {},
     "output_type": "display_data"
    },
    {
     "data": {
      "text/plain": [
       "2025-07-31 00:52:39,263 fedbiomed DEBUG - Node: NODE_8761223e-feb5-4fb9-9f0b-9238a6db2a57 polling for the tasks"
      ]
     },
     "metadata": {},
     "output_type": "display_data"
    },
    {
     "data": {
      "text/plain": [
       "2025-07-31 00:52:39,270 fedbiomed INFO - Node selected for training -> NODE_8761223e-feb5-4fb9-9f0b-9238a6db2a57"
      ]
     },
     "metadata": {},
     "output_type": "display_data"
    },
    {
     "name": "stdout",
     "output_type": "stream",
     "text": [
      "<function extract_symbols at 0x7f0f726a3b50>\n"
     ]
    },
    {
     "data": {
      "text/plain": [
       "2025-07-31 00:52:39,273 fedbiomed DEBUG - Model file has been saved: /home/gersa/fedbiomed-dcm/Modulo_DICOM/fbm-researcher/var/experiments/Experiment_0016/model_9619ee56-8beb-40d8-a71c-9d906b3e1dca.py"
      ]
     },
     "metadata": {},
     "output_type": "display_data"
    },
    {
     "name": "stderr",
     "output_type": "stream",
     "text": [
      "Secure RNG turned off. This is perfectly fine for experimentation as it allows for much faster training performance, but remember to turn it on and retrain one last time before production with ``secure_mode`` turned on.\n"
     ]
    },
    {
     "data": {
      "text/plain": [
       "2025-07-31 00:52:39,292 fedbiomed INFO - Removing tensorboard logs from previous experiment"
      ]
     },
     "metadata": {},
     "output_type": "display_data"
    }
   ],
   "source": [
    "\n",
    "from fedbiomed.researcher.federated_workflows import Experiment\n",
    "from fedbiomed.researcher.aggregators.fedavg import FedAverage\n",
    "\n",
    "tags =  ['#MNIST', '#dataset']\n",
    "rounds = 2\n",
    "\n",
    "exp = Experiment(tags=tags,\n",
    "                 model_args=model_args,\n",
    "                 training_plan_class=MyTrainingPlan,\n",
    "                 training_args=training_args,\n",
    "                 round_limit=rounds,\n",
    "                 aggregator=FedAverage(),\n",
    "                 tensorboard=True,\n",
    "                 node_selection_strategy=None)\n",
    "\n"
   ]
  },
  {
   "cell_type": "code",
   "execution_count": 4,
   "metadata": {},
   "outputs": [
    {
     "data": {
      "text/plain": [
       "'/home/gersa/fedbiomed-dcm/Modulo_DICOM/fbm-researcher/runs'"
      ]
     },
     "execution_count": 4,
     "metadata": {},
     "output_type": "execute_result"
    }
   ],
   "source": [
    "from fedbiomed.researcher.config import config\n",
    "tensorboard_dir = config.vars['TENSORBOARD_RESULTS_DIR']\n",
    "tensorboard_dir"
   ]
  },
  {
   "cell_type": "code",
   "execution_count": 5,
   "metadata": {},
   "outputs": [],
   "source": [
    "# Uncomment fr tensorboard \n",
    "# %load_ext tensorboard\n",
    "# %tensorboard --logdir \"$tensorboard_dir\""
   ]
  },
  {
   "cell_type": "code",
   "execution_count": 6,
   "metadata": {
    "pycharm": {
     "name": "#%%\n"
    }
   },
   "outputs": [
    {
     "data": {
      "text/plain": [
       "2025-07-31 00:52:39,326 fedbiomed INFO - Sampled nodes in round 0 ['NODE_8761223e-feb5-4fb9-9f0b-9238a6db2a57']"
      ]
     },
     "metadata": {},
     "output_type": "display_data"
    },
    {
     "name": "stdout",
     "output_type": "stream",
     "text": [
      "<function extract_symbols at 0x7f0f726a3b50>\n"
     ]
    },
    {
     "data": {
      "text/plain": [
       "2025-07-31 00:52:39,333 fedbiomed INFO - \u001b[1mSending request\u001b[0m \n",
       "\t\t\t\t\t\u001b[1m To\u001b[0m: NODE_8761223e-feb5-4fb9-9f0b-9238a6db2a57 \n",
       "\t\t\t\t\t\u001b[1m Request: \u001b[0m: TRAIN\n",
       " -----------------------------------------------------------------"
      ]
     },
     "metadata": {},
     "output_type": "display_data"
    },
    {
     "data": {
      "text/plain": [
       "2025-07-31 00:52:39,374 fedbiomed DEBUG - Node: NODE_8761223e-feb5-4fb9-9f0b-9238a6db2a57 polling for the tasks"
      ]
     },
     "metadata": {},
     "output_type": "display_data"
    },
    {
     "data": {
      "text/plain": [
       "2025-07-31 00:52:44,934 fedbiomed INFO - \u001b[1mVALIDATION ON GLOBAL UPDATES\u001b[0m \n",
       "\t\t\t\t\t NODE_ID: NODE_8761223e-feb5-4fb9-9f0b-9238a6db2a57 \n",
       "\t\t\t\t\t Round 1 | Iteration: 1/1 (100%) | Samples: 15000/15000\n",
       " \t\t\t\t\t F1_SCORE: \u001b[1m0.020130\u001b[0m \n",
       "\t\t\t\t\t ---------"
      ]
     },
     "metadata": {},
     "output_type": "display_data"
    },
    {
     "data": {
      "text/plain": [
       "2025-07-31 00:52:45,250 fedbiomed INFO - \u001b[1mTRAINING\u001b[0m \n",
       "\t\t\t\t\t NODE_ID: NODE_8761223e-feb5-4fb9-9f0b-9238a6db2a57 \n",
       "\t\t\t\t\t Round 1 Epoch: 1 | Iteration: 1/100 (1%) | Samples: 48/4800\n",
       " \t\t\t\t\t Loss: \u001b[1m2.327489\u001b[0m \n",
       "\t\t\t\t\t ---------"
      ]
     },
     "metadata": {},
     "output_type": "display_data"
    },
    {
     "data": {
      "text/plain": [
       "2025-07-31 00:52:45,398 fedbiomed INFO - \u001b[1mTRAINING\u001b[0m \n",
       "\t\t\t\t\t NODE_ID: NODE_8761223e-feb5-4fb9-9f0b-9238a6db2a57 \n",
       "\t\t\t\t\t Round 1 Epoch: 1 | Iteration: 10/100 (10%) | Samples: 480/4800\n",
       " \t\t\t\t\t Loss: \u001b[1m1.566729\u001b[0m \n",
       "\t\t\t\t\t ---------"
      ]
     },
     "metadata": {},
     "output_type": "display_data"
    },
    {
     "data": {
      "text/plain": [
       "2025-07-31 00:52:45,787 fedbiomed INFO - \u001b[1mTRAINING\u001b[0m \n",
       "\t\t\t\t\t NODE_ID: NODE_8761223e-feb5-4fb9-9f0b-9238a6db2a57 \n",
       "\t\t\t\t\t Round 1 Epoch: 1 | Iteration: 20/100 (20%) | Samples: 960/4800\n",
       " \t\t\t\t\t Loss: \u001b[1m0.790235\u001b[0m \n",
       "\t\t\t\t\t ---------"
      ]
     },
     "metadata": {},
     "output_type": "display_data"
    },
    {
     "data": {
      "text/plain": [
       "2025-07-31 00:52:46,188 fedbiomed INFO - \u001b[1mTRAINING\u001b[0m \n",
       "\t\t\t\t\t NODE_ID: NODE_8761223e-feb5-4fb9-9f0b-9238a6db2a57 \n",
       "\t\t\t\t\t Round 1 Epoch: 1 | Iteration: 30/100 (30%) | Samples: 1440/4800\n",
       " \t\t\t\t\t Loss: \u001b[1m0.889006\u001b[0m \n",
       "\t\t\t\t\t ---------"
      ]
     },
     "metadata": {},
     "output_type": "display_data"
    },
    {
     "data": {
      "text/plain": [
       "2025-07-31 00:52:46,681 fedbiomed INFO - \u001b[1mTRAINING\u001b[0m \n",
       "\t\t\t\t\t NODE_ID: NODE_8761223e-feb5-4fb9-9f0b-9238a6db2a57 \n",
       "\t\t\t\t\t Round 1 Epoch: 1 | Iteration: 40/100 (40%) | Samples: 1920/4800\n",
       " \t\t\t\t\t Loss: \u001b[1m0.760236\u001b[0m \n",
       "\t\t\t\t\t ---------"
      ]
     },
     "metadata": {},
     "output_type": "display_data"
    },
    {
     "data": {
      "text/plain": [
       "2025-07-31 00:52:47,710 fedbiomed INFO - \u001b[1mTRAINING\u001b[0m \n",
       "\t\t\t\t\t NODE_ID: NODE_8761223e-feb5-4fb9-9f0b-9238a6db2a57 \n",
       "\t\t\t\t\t Round 1 Epoch: 1 | Iteration: 50/100 (50%) | Samples: 2400/4800\n",
       " \t\t\t\t\t Loss: \u001b[1m0.402109\u001b[0m \n",
       "\t\t\t\t\t ---------"
      ]
     },
     "metadata": {},
     "output_type": "display_data"
    },
    {
     "data": {
      "text/plain": [
       "2025-07-31 00:52:48,070 fedbiomed INFO - \u001b[1mTRAINING\u001b[0m \n",
       "\t\t\t\t\t NODE_ID: NODE_8761223e-feb5-4fb9-9f0b-9238a6db2a57 \n",
       "\t\t\t\t\t Round 1 Epoch: 1 | Iteration: 60/100 (60%) | Samples: 2880/4800\n",
       " \t\t\t\t\t Loss: \u001b[1m0.682160\u001b[0m \n",
       "\t\t\t\t\t ---------"
      ]
     },
     "metadata": {},
     "output_type": "display_data"
    },
    {
     "data": {
      "text/plain": [
       "2025-07-31 00:52:48,447 fedbiomed INFO - \u001b[1mTRAINING\u001b[0m \n",
       "\t\t\t\t\t NODE_ID: NODE_8761223e-feb5-4fb9-9f0b-9238a6db2a57 \n",
       "\t\t\t\t\t Round 1 Epoch: 1 | Iteration: 70/100 (70%) | Samples: 3360/4800\n",
       " \t\t\t\t\t Loss: \u001b[1m0.514622\u001b[0m \n",
       "\t\t\t\t\t ---------"
      ]
     },
     "metadata": {},
     "output_type": "display_data"
    },
    {
     "data": {
      "text/plain": [
       "2025-07-31 00:52:48,821 fedbiomed INFO - \u001b[1mTRAINING\u001b[0m \n",
       "\t\t\t\t\t NODE_ID: NODE_8761223e-feb5-4fb9-9f0b-9238a6db2a57 \n",
       "\t\t\t\t\t Round 1 Epoch: 1 | Iteration: 80/100 (80%) | Samples: 3840/4800\n",
       " \t\t\t\t\t Loss: \u001b[1m0.292548\u001b[0m \n",
       "\t\t\t\t\t ---------"
      ]
     },
     "metadata": {},
     "output_type": "display_data"
    },
    {
     "data": {
      "text/plain": [
       "2025-07-31 00:52:49,210 fedbiomed INFO - \u001b[1mTRAINING\u001b[0m \n",
       "\t\t\t\t\t NODE_ID: NODE_8761223e-feb5-4fb9-9f0b-9238a6db2a57 \n",
       "\t\t\t\t\t Round 1 Epoch: 1 | Iteration: 90/100 (90%) | Samples: 4320/4800\n",
       " \t\t\t\t\t Loss: \u001b[1m0.578805\u001b[0m \n",
       "\t\t\t\t\t ---------"
      ]
     },
     "metadata": {},
     "output_type": "display_data"
    },
    {
     "data": {
      "text/plain": [
       "2025-07-31 00:52:49,566 fedbiomed INFO - \u001b[1mTRAINING\u001b[0m \n",
       "\t\t\t\t\t NODE_ID: NODE_8761223e-feb5-4fb9-9f0b-9238a6db2a57 \n",
       "\t\t\t\t\t Round 1 Epoch: 1 | Iteration: 100/100 (100%) | Samples: 4800/4800\n",
       " \t\t\t\t\t Loss: \u001b[1m0.193923\u001b[0m \n",
       "\t\t\t\t\t ---------"
      ]
     },
     "metadata": {},
     "output_type": "display_data"
    },
    {
     "data": {
      "text/plain": [
       "2025-07-31 00:52:54,364 fedbiomed INFO - \u001b[1mVALIDATION ON LOCAL UPDATES\u001b[0m \n",
       "\t\t\t\t\t NODE_ID: NODE_8761223e-feb5-4fb9-9f0b-9238a6db2a57 \n",
       "\t\t\t\t\t Round 1 | Iteration: 1/1 (100%) | Samples: 15000/15000\n",
       " \t\t\t\t\t F1_SCORE: \u001b[1m0.943740\u001b[0m \n",
       "\t\t\t\t\t ---------"
      ]
     },
     "metadata": {},
     "output_type": "display_data"
    },
    {
     "data": {
      "text/plain": [
       "2025-07-31 00:52:55,217 fedbiomed INFO - Nodes that successfully reply in round 0 ['NODE_8761223e-feb5-4fb9-9f0b-9238a6db2a57']"
      ]
     },
     "metadata": {},
     "output_type": "display_data"
    },
    {
     "data": {
      "text/plain": [
       "2025-07-31 00:52:55,444 fedbiomed INFO - Sampled nodes in round 1 ['NODE_8761223e-feb5-4fb9-9f0b-9238a6db2a57']"
      ]
     },
     "metadata": {},
     "output_type": "display_data"
    },
    {
     "name": "stdout",
     "output_type": "stream",
     "text": [
      "<function extract_symbols at 0x7f0f726a3b50>\n"
     ]
    },
    {
     "data": {
      "text/plain": [
       "2025-07-31 00:52:55,512 fedbiomed INFO - \u001b[1mSending request\u001b[0m \n",
       "\t\t\t\t\t\u001b[1m To\u001b[0m: NODE_8761223e-feb5-4fb9-9f0b-9238a6db2a57 \n",
       "\t\t\t\t\t\u001b[1m Request: \u001b[0m: TRAIN\n",
       " -----------------------------------------------------------------"
      ]
     },
     "metadata": {},
     "output_type": "display_data"
    },
    {
     "data": {
      "text/plain": [
       "2025-07-31 00:52:55,598 fedbiomed DEBUG - Node: NODE_8761223e-feb5-4fb9-9f0b-9238a6db2a57 polling for the tasks"
      ]
     },
     "metadata": {},
     "output_type": "display_data"
    },
    {
     "data": {
      "text/plain": [
       "2025-07-31 00:53:00,009 fedbiomed INFO - \u001b[1mVALIDATION ON GLOBAL UPDATES\u001b[0m \n",
       "\t\t\t\t\t NODE_ID: NODE_8761223e-feb5-4fb9-9f0b-9238a6db2a57 \n",
       "\t\t\t\t\t Round 2 | Iteration: 1/1 (100%) | Samples: 15000/15000\n",
       " \t\t\t\t\t F1_SCORE: \u001b[1m0.943740\u001b[0m \n",
       "\t\t\t\t\t ---------"
      ]
     },
     "metadata": {},
     "output_type": "display_data"
    },
    {
     "data": {
      "text/plain": [
       "2025-07-31 00:53:00,057 fedbiomed INFO - \u001b[1mTRAINING\u001b[0m \n",
       "\t\t\t\t\t NODE_ID: NODE_8761223e-feb5-4fb9-9f0b-9238a6db2a57 \n",
       "\t\t\t\t\t Round 2 Epoch: 1 | Iteration: 1/100 (1%) | Samples: 48/4800\n",
       " \t\t\t\t\t Loss: \u001b[1m0.263928\u001b[0m \n",
       "\t\t\t\t\t ---------"
      ]
     },
     "metadata": {},
     "output_type": "display_data"
    },
    {
     "data": {
      "text/plain": [
       "2025-07-31 00:53:00,395 fedbiomed INFO - \u001b[1mTRAINING\u001b[0m \n",
       "\t\t\t\t\t NODE_ID: NODE_8761223e-feb5-4fb9-9f0b-9238a6db2a57 \n",
       "\t\t\t\t\t Round 2 Epoch: 1 | Iteration: 10/100 (10%) | Samples: 480/4800\n",
       " \t\t\t\t\t Loss: \u001b[1m0.187259\u001b[0m \n",
       "\t\t\t\t\t ---------"
      ]
     },
     "metadata": {},
     "output_type": "display_data"
    },
    {
     "data": {
      "text/plain": [
       "2025-07-31 00:53:00,747 fedbiomed INFO - \u001b[1mTRAINING\u001b[0m \n",
       "\t\t\t\t\t NODE_ID: NODE_8761223e-feb5-4fb9-9f0b-9238a6db2a57 \n",
       "\t\t\t\t\t Round 2 Epoch: 1 | Iteration: 20/100 (20%) | Samples: 960/4800\n",
       " \t\t\t\t\t Loss: \u001b[1m0.312412\u001b[0m \n",
       "\t\t\t\t\t ---------"
      ]
     },
     "metadata": {},
     "output_type": "display_data"
    },
    {
     "data": {
      "text/plain": [
       "2025-07-31 00:53:01,070 fedbiomed INFO - \u001b[1mTRAINING\u001b[0m \n",
       "\t\t\t\t\t NODE_ID: NODE_8761223e-feb5-4fb9-9f0b-9238a6db2a57 \n",
       "\t\t\t\t\t Round 2 Epoch: 1 | Iteration: 30/100 (30%) | Samples: 1440/4800\n",
       " \t\t\t\t\t Loss: \u001b[1m0.493292\u001b[0m \n",
       "\t\t\t\t\t ---------"
      ]
     },
     "metadata": {},
     "output_type": "display_data"
    },
    {
     "data": {
      "text/plain": [
       "2025-07-31 00:53:01,387 fedbiomed INFO - \u001b[1mTRAINING\u001b[0m \n",
       "\t\t\t\t\t NODE_ID: NODE_8761223e-feb5-4fb9-9f0b-9238a6db2a57 \n",
       "\t\t\t\t\t Round 2 Epoch: 1 | Iteration: 40/100 (40%) | Samples: 1920/4800\n",
       " \t\t\t\t\t Loss: \u001b[1m0.278536\u001b[0m \n",
       "\t\t\t\t\t ---------"
      ]
     },
     "metadata": {},
     "output_type": "display_data"
    },
    {
     "data": {
      "text/plain": [
       "2025-07-31 00:53:01,703 fedbiomed INFO - \u001b[1mTRAINING\u001b[0m \n",
       "\t\t\t\t\t NODE_ID: NODE_8761223e-feb5-4fb9-9f0b-9238a6db2a57 \n",
       "\t\t\t\t\t Round 2 Epoch: 1 | Iteration: 50/100 (50%) | Samples: 2400/4800\n",
       " \t\t\t\t\t Loss: \u001b[1m0.353884\u001b[0m \n",
       "\t\t\t\t\t ---------"
      ]
     },
     "metadata": {},
     "output_type": "display_data"
    },
    {
     "data": {
      "text/plain": [
       "2025-07-31 00:53:02,067 fedbiomed INFO - \u001b[1mTRAINING\u001b[0m \n",
       "\t\t\t\t\t NODE_ID: NODE_8761223e-feb5-4fb9-9f0b-9238a6db2a57 \n",
       "\t\t\t\t\t Round 2 Epoch: 1 | Iteration: 60/100 (60%) | Samples: 2880/4800\n",
       " \t\t\t\t\t Loss: \u001b[1m0.238027\u001b[0m \n",
       "\t\t\t\t\t ---------"
      ]
     },
     "metadata": {},
     "output_type": "display_data"
    },
    {
     "data": {
      "text/plain": [
       "2025-07-31 00:53:02,498 fedbiomed INFO - \u001b[1mTRAINING\u001b[0m \n",
       "\t\t\t\t\t NODE_ID: NODE_8761223e-feb5-4fb9-9f0b-9238a6db2a57 \n",
       "\t\t\t\t\t Round 2 Epoch: 1 | Iteration: 70/100 (70%) | Samples: 3360/4800\n",
       " \t\t\t\t\t Loss: \u001b[1m0.109695\u001b[0m \n",
       "\t\t\t\t\t ---------"
      ]
     },
     "metadata": {},
     "output_type": "display_data"
    },
    {
     "data": {
      "text/plain": [
       "2025-07-31 00:53:02,883 fedbiomed INFO - \u001b[1mTRAINING\u001b[0m \n",
       "\t\t\t\t\t NODE_ID: NODE_8761223e-feb5-4fb9-9f0b-9238a6db2a57 \n",
       "\t\t\t\t\t Round 2 Epoch: 1 | Iteration: 80/100 (80%) | Samples: 3840/4800\n",
       " \t\t\t\t\t Loss: \u001b[1m0.164396\u001b[0m \n",
       "\t\t\t\t\t ---------"
      ]
     },
     "metadata": {},
     "output_type": "display_data"
    },
    {
     "data": {
      "text/plain": [
       "2025-07-31 00:53:03,264 fedbiomed INFO - \u001b[1mTRAINING\u001b[0m \n",
       "\t\t\t\t\t NODE_ID: NODE_8761223e-feb5-4fb9-9f0b-9238a6db2a57 \n",
       "\t\t\t\t\t Round 2 Epoch: 1 | Iteration: 90/100 (90%) | Samples: 4320/4800\n",
       " \t\t\t\t\t Loss: \u001b[1m0.088006\u001b[0m \n",
       "\t\t\t\t\t ---------"
      ]
     },
     "metadata": {},
     "output_type": "display_data"
    },
    {
     "data": {
      "text/plain": [
       "2025-07-31 00:53:03,702 fedbiomed INFO - \u001b[1mTRAINING\u001b[0m \n",
       "\t\t\t\t\t NODE_ID: NODE_8761223e-feb5-4fb9-9f0b-9238a6db2a57 \n",
       "\t\t\t\t\t Round 2 Epoch: 1 | Iteration: 100/100 (100%) | Samples: 4800/4800\n",
       " \t\t\t\t\t Loss: \u001b[1m0.323701\u001b[0m \n",
       "\t\t\t\t\t ---------"
      ]
     },
     "metadata": {},
     "output_type": "display_data"
    },
    {
     "data": {
      "text/plain": [
       "2025-07-31 00:53:08,424 fedbiomed INFO - \u001b[1mVALIDATION ON LOCAL UPDATES\u001b[0m \n",
       "\t\t\t\t\t NODE_ID: NODE_8761223e-feb5-4fb9-9f0b-9238a6db2a57 \n",
       "\t\t\t\t\t Round 2 | Iteration: 1/1 (100%) | Samples: 15000/15000\n",
       " \t\t\t\t\t F1_SCORE: \u001b[1m0.959701\u001b[0m \n",
       "\t\t\t\t\t ---------"
      ]
     },
     "metadata": {},
     "output_type": "display_data"
    },
    {
     "data": {
      "text/plain": [
       "2025-07-31 00:53:08,688 fedbiomed INFO - Nodes that successfully reply in round 1 ['NODE_8761223e-feb5-4fb9-9f0b-9238a6db2a57']"
      ]
     },
     "metadata": {},
     "output_type": "display_data"
    },
    {
     "name": "stdout",
     "output_type": "stream",
     "text": [
      "<function extract_symbols at 0x7f0f726a3b50>\n"
     ]
    },
    {
     "data": {
      "text/plain": [
       "2025-07-31 00:53:08,708 fedbiomed INFO - \u001b[1mSending request\u001b[0m \n",
       "\t\t\t\t\t\u001b[1m To\u001b[0m: NODE_8761223e-feb5-4fb9-9f0b-9238a6db2a57 \n",
       "\t\t\t\t\t\u001b[1m Request: \u001b[0m:Perform final validation on aggregated parameters \n",
       " -----------------------------------------------------------------"
      ]
     },
     "metadata": {},
     "output_type": "display_data"
    },
    {
     "data": {
      "text/plain": [
       "2025-07-31 00:53:08,763 fedbiomed DEBUG - Node: NODE_8761223e-feb5-4fb9-9f0b-9238a6db2a57 polling for the tasks"
      ]
     },
     "metadata": {},
     "output_type": "display_data"
    },
    {
     "data": {
      "text/plain": [
       "2025-07-31 00:53:14,121 fedbiomed INFO - \u001b[1mVALIDATION ON GLOBAL UPDATES\u001b[0m \n",
       "\t\t\t\t\t NODE_ID: NODE_8761223e-feb5-4fb9-9f0b-9238a6db2a57 \n",
       "\t\t\t\t\t Round 3 | Iteration: 1/1 (100%) | Samples: 15000/15000\n",
       " \t\t\t\t\t F1_SCORE: \u001b[1m0.959701\u001b[0m \n",
       "\t\t\t\t\t ---------"
      ]
     },
     "metadata": {},
     "output_type": "display_data"
    },
    {
     "data": {
      "text/plain": [
       "2"
      ]
     },
     "execution_count": 6,
     "metadata": {},
     "output_type": "execute_result"
    }
   ],
   "source": [
    "\n",
    "exp.run()\n",
    "\n"
   ]
  },
  {
   "cell_type": "code",
   "execution_count": 7,
   "metadata": {},
   "outputs": [
    {
     "data": {
      "text/plain": [
       "2025-07-31 00:53:14,213 fedbiomed DEBUG - Auto increasing total rounds for experiment from 2 to 3"
      ]
     },
     "metadata": {},
     "output_type": "display_data"
    },
    {
     "data": {
      "text/plain": [
       "2025-07-31 00:53:14,217 fedbiomed INFO - Sampled nodes in round 2 ['NODE_8761223e-feb5-4fb9-9f0b-9238a6db2a57']"
      ]
     },
     "metadata": {},
     "output_type": "display_data"
    },
    {
     "name": "stdout",
     "output_type": "stream",
     "text": [
      "<function extract_symbols at 0x7f0f726a3b50>\n"
     ]
    },
    {
     "data": {
      "text/plain": [
       "2025-07-31 00:53:14,274 fedbiomed INFO - \u001b[1mSending request\u001b[0m \n",
       "\t\t\t\t\t\u001b[1m To\u001b[0m: NODE_8761223e-feb5-4fb9-9f0b-9238a6db2a57 \n",
       "\t\t\t\t\t\u001b[1m Request: \u001b[0m: TRAIN\n",
       " -----------------------------------------------------------------"
      ]
     },
     "metadata": {},
     "output_type": "display_data"
    },
    {
     "data": {
      "text/plain": [
       "2025-07-31 00:53:14,314 fedbiomed DEBUG - Node: NODE_8761223e-feb5-4fb9-9f0b-9238a6db2a57 polling for the tasks"
      ]
     },
     "metadata": {},
     "output_type": "display_data"
    },
    {
     "data": {
      "text/plain": [
       "2025-07-31 00:53:18,615 fedbiomed INFO - \u001b[1mVALIDATION ON GLOBAL UPDATES\u001b[0m \n",
       "\t\t\t\t\t NODE_ID: NODE_8761223e-feb5-4fb9-9f0b-9238a6db2a57 \n",
       "\t\t\t\t\t Round 3 | Iteration: 1/1 (100%) | Samples: 15000/15000\n",
       " \t\t\t\t\t F1_SCORE: \u001b[1m0.959701\u001b[0m \n",
       "\t\t\t\t\t ---------"
      ]
     },
     "metadata": {},
     "output_type": "display_data"
    },
    {
     "data": {
      "text/plain": [
       "2025-07-31 00:53:18,672 fedbiomed INFO - \u001b[1mTRAINING\u001b[0m \n",
       "\t\t\t\t\t NODE_ID: NODE_8761223e-feb5-4fb9-9f0b-9238a6db2a57 \n",
       "\t\t\t\t\t Round 3 Epoch: 1 | Iteration: 1/100 (1%) | Samples: 48/4800\n",
       " \t\t\t\t\t Loss: \u001b[1m0.087809\u001b[0m \n",
       "\t\t\t\t\t ---------"
      ]
     },
     "metadata": {},
     "output_type": "display_data"
    },
    {
     "data": {
      "text/plain": [
       "2025-07-31 00:53:19,057 fedbiomed INFO - \u001b[1mTRAINING\u001b[0m \n",
       "\t\t\t\t\t NODE_ID: NODE_8761223e-feb5-4fb9-9f0b-9238a6db2a57 \n",
       "\t\t\t\t\t Round 3 Epoch: 1 | Iteration: 10/100 (10%) | Samples: 480/4800\n",
       " \t\t\t\t\t Loss: \u001b[1m0.116888\u001b[0m \n",
       "\t\t\t\t\t ---------"
      ]
     },
     "metadata": {},
     "output_type": "display_data"
    },
    {
     "data": {
      "text/plain": [
       "2025-07-31 00:53:19,388 fedbiomed INFO - \u001b[1mTRAINING\u001b[0m \n",
       "\t\t\t\t\t NODE_ID: NODE_8761223e-feb5-4fb9-9f0b-9238a6db2a57 \n",
       "\t\t\t\t\t Round 3 Epoch: 1 | Iteration: 20/100 (20%) | Samples: 960/4800\n",
       " \t\t\t\t\t Loss: \u001b[1m0.202525\u001b[0m \n",
       "\t\t\t\t\t ---------"
      ]
     },
     "metadata": {},
     "output_type": "display_data"
    },
    {
     "data": {
      "text/plain": [
       "2025-07-31 00:53:20,366 fedbiomed INFO - \u001b[1mTRAINING\u001b[0m \n",
       "\t\t\t\t\t NODE_ID: NODE_8761223e-feb5-4fb9-9f0b-9238a6db2a57 \n",
       "\t\t\t\t\t Round 3 Epoch: 1 | Iteration: 30/100 (30%) | Samples: 1440/4800\n",
       " \t\t\t\t\t Loss: \u001b[1m0.401167\u001b[0m \n",
       "\t\t\t\t\t ---------"
      ]
     },
     "metadata": {},
     "output_type": "display_data"
    },
    {
     "data": {
      "text/plain": [
       "2025-07-31 00:53:20,800 fedbiomed INFO - \u001b[1mTRAINING\u001b[0m \n",
       "\t\t\t\t\t NODE_ID: NODE_8761223e-feb5-4fb9-9f0b-9238a6db2a57 \n",
       "\t\t\t\t\t Round 3 Epoch: 1 | Iteration: 40/100 (40%) | Samples: 1920/4800\n",
       " \t\t\t\t\t Loss: \u001b[1m0.340320\u001b[0m \n",
       "\t\t\t\t\t ---------"
      ]
     },
     "metadata": {},
     "output_type": "display_data"
    },
    {
     "data": {
      "text/plain": [
       "2025-07-31 00:53:21,175 fedbiomed INFO - \u001b[1mTRAINING\u001b[0m \n",
       "\t\t\t\t\t NODE_ID: NODE_8761223e-feb5-4fb9-9f0b-9238a6db2a57 \n",
       "\t\t\t\t\t Round 3 Epoch: 1 | Iteration: 50/100 (50%) | Samples: 2400/4800\n",
       " \t\t\t\t\t Loss: \u001b[1m0.099540\u001b[0m \n",
       "\t\t\t\t\t ---------"
      ]
     },
     "metadata": {},
     "output_type": "display_data"
    },
    {
     "data": {
      "text/plain": [
       "2025-07-31 00:53:21,559 fedbiomed INFO - \u001b[1mTRAINING\u001b[0m \n",
       "\t\t\t\t\t NODE_ID: NODE_8761223e-feb5-4fb9-9f0b-9238a6db2a57 \n",
       "\t\t\t\t\t Round 3 Epoch: 1 | Iteration: 60/100 (60%) | Samples: 2880/4800\n",
       " \t\t\t\t\t Loss: \u001b[1m0.093137\u001b[0m \n",
       "\t\t\t\t\t ---------"
      ]
     },
     "metadata": {},
     "output_type": "display_data"
    },
    {
     "data": {
      "text/plain": [
       "2025-07-31 00:53:21,900 fedbiomed INFO - \u001b[1mTRAINING\u001b[0m \n",
       "\t\t\t\t\t NODE_ID: NODE_8761223e-feb5-4fb9-9f0b-9238a6db2a57 \n",
       "\t\t\t\t\t Round 3 Epoch: 1 | Iteration: 70/100 (70%) | Samples: 3360/4800\n",
       " \t\t\t\t\t Loss: \u001b[1m0.232634\u001b[0m \n",
       "\t\t\t\t\t ---------"
      ]
     },
     "metadata": {},
     "output_type": "display_data"
    },
    {
     "data": {
      "text/plain": [
       "2025-07-31 00:53:22,279 fedbiomed INFO - \u001b[1mTRAINING\u001b[0m \n",
       "\t\t\t\t\t NODE_ID: NODE_8761223e-feb5-4fb9-9f0b-9238a6db2a57 \n",
       "\t\t\t\t\t Round 3 Epoch: 1 | Iteration: 80/100 (80%) | Samples: 3840/4800\n",
       " \t\t\t\t\t Loss: \u001b[1m0.222092\u001b[0m \n",
       "\t\t\t\t\t ---------"
      ]
     },
     "metadata": {},
     "output_type": "display_data"
    },
    {
     "data": {
      "text/plain": [
       "2025-07-31 00:53:22,657 fedbiomed INFO - \u001b[1mTRAINING\u001b[0m \n",
       "\t\t\t\t\t NODE_ID: NODE_8761223e-feb5-4fb9-9f0b-9238a6db2a57 \n",
       "\t\t\t\t\t Round 3 Epoch: 1 | Iteration: 90/100 (90%) | Samples: 4320/4800\n",
       " \t\t\t\t\t Loss: \u001b[1m0.124391\u001b[0m \n",
       "\t\t\t\t\t ---------"
      ]
     },
     "metadata": {},
     "output_type": "display_data"
    },
    {
     "data": {
      "text/plain": [
       "2025-07-31 00:53:23,018 fedbiomed INFO - \u001b[1mTRAINING\u001b[0m \n",
       "\t\t\t\t\t NODE_ID: NODE_8761223e-feb5-4fb9-9f0b-9238a6db2a57 \n",
       "\t\t\t\t\t Round 3 Epoch: 1 | Iteration: 100/100 (100%) | Samples: 4800/4800\n",
       " \t\t\t\t\t Loss: \u001b[1m0.193236\u001b[0m \n",
       "\t\t\t\t\t ---------"
      ]
     },
     "metadata": {},
     "output_type": "display_data"
    },
    {
     "data": {
      "text/plain": [
       "2025-07-31 00:53:27,239 fedbiomed INFO - \u001b[1mVALIDATION ON LOCAL UPDATES\u001b[0m \n",
       "\t\t\t\t\t NODE_ID: NODE_8761223e-feb5-4fb9-9f0b-9238a6db2a57 \n",
       "\t\t\t\t\t Round 3 | Iteration: 1/1 (100%) | Samples: 15000/15000\n",
       " \t\t\t\t\t F1_SCORE: \u001b[1m0.969696\u001b[0m \n",
       "\t\t\t\t\t ---------"
      ]
     },
     "metadata": {},
     "output_type": "display_data"
    },
    {
     "data": {
      "text/plain": [
       "2025-07-31 00:53:27,499 fedbiomed INFO - Nodes that successfully reply in round 2 ['NODE_8761223e-feb5-4fb9-9f0b-9238a6db2a57']"
      ]
     },
     "metadata": {},
     "output_type": "display_data"
    },
    {
     "data": {
      "text/plain": [
       "1"
      ]
     },
     "execution_count": 7,
     "metadata": {},
     "output_type": "execute_result"
    }
   ],
   "source": [
    "\n",
    "exp.run_once(increase=True)\n",
    "\n"
   ]
  },
  {
   "cell_type": "markdown",
   "metadata": {},
   "source": [
    "Save trained model to file"
   ]
  },
  {
   "cell_type": "code",
   "execution_count": 8,
   "metadata": {},
   "outputs": [],
   "source": [
    "try: \n",
    "    exp.training_plan().export_model('./trained_model')\n",
    "except Exception as e:\n",
    "    print(e)"
   ]
  },
  {
   "cell_type": "markdown",
   "metadata": {},
   "source": [
    "#### Display results"
   ]
  },
  {
   "cell_type": "code",
   "execution_count": 9,
   "metadata": {
    "pycharm": {
     "name": "#%%\n"
    }
   },
   "outputs": [
    {
     "name": "stdout",
     "output_type": "stream",
     "text": [
      "\n",
      "List the training rounds :  dict_keys([0, 1, 2])\n",
      "\n",
      "List the nodes for the last training round and their timings : \n",
      "\t- NODE_8761223e-feb5-4fb9-9f0b-9238a6db2a57 :    \n",
      "\t\trtime_training=3.69 seconds    \n",
      "\t\tptime_training=30.01 seconds    \n",
      "\t\trtime_total=13.15 seconds\n",
      "\n",
      "\n"
     ]
    }
   ],
   "source": [
    "\n",
    "print(\"\\nList the training rounds : \", exp.training_replies().keys())\n",
    "\n",
    "print(\"\\nList the nodes for the last training round and their timings : \")\n",
    "round_data = exp.training_replies()[rounds - 1]\n",
    "for r in round_data.values():\n",
    "    print(\"\\t- {id} :\\\n",
    "    \\n\\t\\trtime_training={rtraining:.2f} seconds\\\n",
    "    \\n\\t\\tptime_training={ptraining:.2f} seconds\\\n",
    "    \\n\\t\\trtime_total={rtotal:.2f} seconds\".format(id = r['node_id'],\n",
    "        rtraining = r['timing']['rtime_training'],\n",
    "        ptraining = r['timing']['ptime_training'],\n",
    "        rtotal = r['timing']['rtime_total']))\n",
    "print('\\n')\n",
    "\n"
   ]
  },
  {
   "cell_type": "markdown",
   "metadata": {},
   "source": [
    "Federated parameters for each round are available via `exp.aggregated_params()` (index 0 to (`rounds` - 1) ).\n",
    "\n",
    "For example you can view the federated parameters for the last round of the experiment :"
   ]
  },
  {
   "cell_type": "code",
   "execution_count": 10,
   "metadata": {},
   "outputs": [
    {
     "name": "stdout",
     "output_type": "stream",
     "text": [
      "\n",
      "List the training rounds :  dict_keys([0, 1, 2])\n",
      "\n",
      "Access the federated params for the last training round :\n",
      "\t- parameter data:  dict_keys(['conv1.weight', 'conv1.bias', 'conv2.weight', 'conv2.bias', 'fc1.weight', 'fc1.bias', 'fc2.weight', 'fc2.bias'])\n"
     ]
    }
   ],
   "source": [
    "\n",
    "print(\"\\nList the training rounds : \", exp.aggregated_params().keys())\n",
    "\n",
    "print(\"\\nAccess the federated params for the last training round :\")\n",
    "print(\"\\t- parameter data: \", exp.aggregated_params()[rounds - 1]['params'].keys())\n",
    "\n"
   ]
  }
 ],
 "metadata": {
  "kernelspec": {
   "display_name": "Python 3 (ipykernel)",
   "language": "python",
   "name": "python3"
  },
  "language_info": {
   "codemirror_mode": {
    "name": "ipython",
    "version": 3
   },
   "file_extension": ".py",
   "mimetype": "text/x-python",
   "name": "python",
   "nbconvert_exporter": "python",
   "pygments_lexer": "ipython3",
   "version": "3.10.18"
  }
 },
 "nbformat": 4,
 "nbformat_minor": 4
}
